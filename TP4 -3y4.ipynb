{
 "cells": [
  {
   "cell_type": "code",
   "execution_count": 11,
   "id": "b899896c-c741-4f58-bbad-232745308825",
   "metadata": {},
   "outputs": [],
   "source": [
    "import pandas as pd\n",
    "\n",
    "# Leer el archivo Stata\n",
    "df = pd.read_stata('Individual_t104.dta')"
   ]
  },
  {
   "cell_type": "code",
   "execution_count": 15,
   "id": "093321ef-e359-416f-b74c-9d313c4f7867",
   "metadata": {},
   "outputs": [],
   "source": [
    "# Guardar como archivo Excel\n",
    "df.to_excel('Individual_t104.xlsx', index=False)"
   ]
  },
  {
   "cell_type": "code",
   "execution_count": 17,
   "id": "3891f5af-daa1-4d99-b55e-4beff81bda9d",
   "metadata": {},
   "outputs": [
    {
     "name": "stdout",
     "output_type": "stream",
     "text": [
      "   CODUSU  nro_hogar componente h15  ano4       trimestre             region  \\\n",
      "0  125098          1          1  Sí  2004  1er. Trimestre  Gran Buenos Aires   \n",
      "1  125397          1          1  Sí  2004  1er. Trimestre  Gran Buenos Aires   \n",
      "2  125515          1          1  Sí  2004  1er. Trimestre  Gran Buenos Aires   \n",
      "3  125558          1          1  Sí  2004  1er. Trimestre  Gran Buenos Aires   \n",
      "4  125558          1          2  Sí  2004  1er. Trimestre  Gran Buenos Aires   \n",
      "\n",
      "  mas_500              aglomerado  pondera  ... deccfr ideccfr rdeccfr  \\\n",
      "0       S  Ciudad de Buenos Aires     1299  ...      7               6   \n",
      "1       S  Ciudad de Buenos Aires     2018  ...      0               0   \n",
      "2       S  Ciudad de Buenos Aires     1486  ...      7               7   \n",
      "3       S  Ciudad de Buenos Aires     1674  ...      8               8   \n",
      "4       S  Ciudad de Buenos Aires     1674  ...      8               8   \n",
      "\n",
      "  gdeccfr pdeccfr adeccfr pj1_1 pj2_1 pj3_1 idimpp  \n",
      "0      06               4     0     0     0      0  \n",
      "1      00               0     0     0     0      0  \n",
      "2      07               5     0     0     0     20  \n",
      "3      08               6     0     0     0      0  \n",
      "4      08               6     0     0     0      0  \n",
      "\n",
      "[5 rows x 176 columns]\n"
     ]
    }
   ],
   "source": [
    "df_excel = pd.read_excel('Individual_t104.xlsx')\n",
    "\n",
    "# Ver las primeras 5 filas del Excel\n",
    "print(df_excel.head())"
   ]
  },
  {
   "cell_type": "code",
   "execution_count": 19,
   "id": "28cdf758-c82d-48d5-a187-c27d7a4e7139",
   "metadata": {},
   "outputs": [],
   "source": [
    "import pandas as pd\n",
    "\n",
    "#subimos las bases de datos\n",
    "df_2004 = pd.read_excel('Individual_t104.xlsx')\n",
    "df_2024 = pd.read_excel(\"usu_individual_T124.xlsx\")"
   ]
  },
  {
   "cell_type": "code",
   "execution_count": 21,
   "id": "d0501d06-370e-48e0-aca5-832393a778da",
   "metadata": {},
   "outputs": [
    {
     "data": {
      "text/plain": [
       "array(['Gran Buenos Aires', 'NOA', 'NEA', 'Cuyo', 'Pampeana',\n",
       "       'Patagónica'], dtype=object)"
      ]
     },
     "execution_count": 21,
     "metadata": {},
     "output_type": "execute_result"
    }
   ],
   "source": [
    "df_2004[\"region\"].unique()"
   ]
  },
  {
   "cell_type": "code",
   "execution_count": 23,
   "id": "77b54cde-1688-4cef-8788-6d7efe19c060",
   "metadata": {},
   "outputs": [],
   "source": [
    "df_2004_gba = df_2004[df_2004[\"region\"] == \"Gran Buenos Aires\"]\n",
    "df_2024_gba = df_2024[df_2024[\"REGION\"] == \"Gran Buenos Aires\"]"
   ]
  },
  {
   "cell_type": "code",
   "execution_count": 25,
   "id": "508cdcc4-8775-4a54-b4c0-2525c34f9610",
   "metadata": {},
   "outputs": [
    {
     "name": "stdout",
     "output_type": "stream",
     "text": [
      "(45289, 176)\n",
      "(46050, 177)\n",
      "(7647, 352)\n"
     ]
    }
   ],
   "source": [
    "df_a = pd.read_excel('Individual_t104.xlsx')\n",
    "print(df_a.shape)\n",
    "\n",
    "df_b = pd.read_excel(\"usu_individual_T124.xlsx\")\n",
    "print(df_b.shape)\n",
    "\n",
    "# Filtramos solo la región \"Gran Buenos Aires\"\n",
    "df_a_gba = df_a[df_a[\"region\"] == \"Gran Buenos Aires\"]\n",
    "df_b_gba = df_b[df_b[\"REGION\"] == \"Gran Buenos Aires\"]\n",
    "\n",
    "df = pd.concat([df_a_gba, df_b_gba])\n",
    "print(df.shape)"
   ]
  },
  {
   "cell_type": "code",
   "execution_count": 26,
   "id": "95d017af-70f9-4e74-9e94-4de1db209ae7",
   "metadata": {},
   "outputs": [],
   "source": [
    "df_2004 = df_a.copy()\n",
    "df_2024 = df_b.copy()"
   ]
  },
  {
   "cell_type": "code",
   "execution_count": 27,
   "id": "c6cd72e6-af68-44cd-81ed-42d5c8dc9ec4",
   "metadata": {},
   "outputs": [],
   "source": [
    "df_2004.columns = df_2004.columns.str.upper()\n",
    "df_2024.columns = df_2024.columns.str.upper()"
   ]
  },
  {
   "cell_type": "code",
   "execution_count": 28,
   "id": "1d8c3c95-3960-48e3-9fce-be93ff029bc3",
   "metadata": {},
   "outputs": [
    {
     "name": "stdout",
     "output_type": "stream",
     "text": [
      "Año 2004:\n",
      "Cantidad de personas que NO respondieron condición de actividad: 0\n",
      "Cantidad de personas que respondieron: 45289\n"
     ]
    }
   ],
   "source": [
    "df_2004.columns = df_2004.columns.str.upper()\n",
    "df_2024.columns = df_2024.columns.str.upper()\n",
    "\n",
    "\n",
    "\n",
    "respondieron_2004 = df_2004[df_2004['ESTADO'] != 0]\n",
    "norespondieron_2004 = df_2004[df_2004['ESTADO'] == 0]\n",
    "\n",
    "\n",
    "print(f\"Año 2004:\")\n",
    "print(f\"Cantidad de personas que NO respondieron condición de actividad: {norespondieron_2004.shape[0]}\")\n",
    "print(f\"Cantidad de personas que respondieron: {respondieron_2004.shape[0]}\")"
   ]
  },
  {
   "cell_type": "code",
   "execution_count": 33,
   "id": "7286cb04-03ac-4abe-95ca-96523e72810f",
   "metadata": {},
   "outputs": [
    {
     "name": "stdout",
     "output_type": "stream",
     "text": [
      "(17022, 176)\n",
      "ESTADO\n",
      "Inactivo                                                        17700\n",
      "Ocupado                                                         17022\n",
      "Menor de 10 años                                                 7815\n",
      "Desocupado                                                       2717\n",
      "Entrevista individual no realizada (no respuesta al cuestion       35\n",
      "Name: count, dtype: int64\n"
     ]
    }
   ],
   "source": [
    "df_ocupados = df_2004[df_2004['ESTADO'] == 'Ocupado']\n",
    "print(df_ocupados.shape)\n",
    "print(df_2004['ESTADO'].value_counts())"
   ]
  },
  {
   "cell_type": "code",
   "execution_count": 35,
   "id": "8c6401cd-80ea-4546-8e14-bdc66b9523e3",
   "metadata": {},
   "outputs": [
    {
     "name": "stdout",
     "output_type": "stream",
     "text": [
      "Año 2024:\n",
      "Cantidad de personas que NO respondieron condición de actividad: 81\n",
      "Cantidad de personas que respondieron: 45969\n"
     ]
    }
   ],
   "source": [
    "df_2004.columns = df_2004.columns.str.upper()\n",
    "df_2024.columns = df_2024.columns.str.upper()\n",
    "\n",
    "\n",
    "\n",
    "respondieron_2024 = df_2024[df_2024['ESTADO'] != 0]\n",
    "norespondieron_2024 = df_2024[df_2024['ESTADO'] == 0]\n",
    "\n",
    "\n",
    "print(f\"Año 2024:\")\n",
    "print(f\"Cantidad de personas que NO respondieron condición de actividad: {norespondieron_2024.shape[0]}\")\n",
    "print(f\"Cantidad de personas que respondieron: {respondieron_2024.shape[0]}\")"
   ]
  },
  {
   "cell_type": "code",
   "execution_count": 37,
   "id": "aa27efab-5a60-4da5-9ea1-0e1437790e0e",
   "metadata": {},
   "outputs": [],
   "source": [
    "respondieron_2024 = respondieron_2024.copy()\n",
    "respondieron_2024['desocupado'] = (respondieron_2024['ESTADO'] == 2).astype(int)\n",
    "\n",
    "respondieron_2004 = respondieron_2004.copy()\n",
    "respondieron_2004['desocupado'] = (respondieron_2004['ESTADO'] == 2).astype(int)"
   ]
  },
  {
   "cell_type": "code",
   "execution_count": 39,
   "id": "eca27501-0ce0-441e-8999-16b238ed5443",
   "metadata": {},
   "outputs": [],
   "source": [
    "import pandas as pd\n",
    "import numpy as np\n",
    "from scipy import stats\n",
    "\n",
    "from matplotlib import pyplot as plt\n",
    "\n",
    "from sklearn.model_selection import train_test_split\n",
    "from sklearn.linear_model import LinearRegression\n",
    "from sklearn.preprocessing import PolynomialFeatures\n",
    "from sklearn.metrics import mean_squared_error\n",
    "from sklearn.metrics import r2_score"
   ]
  },
  {
   "cell_type": "code",
   "execution_count": 40,
   "id": "18081d77-2c45-4808-a2e6-66dbb5ee73ca",
   "metadata": {},
   "outputs": [],
   "source": [
    "datos_2024 = respondieron_2024[respondieron_2024['ANO4'] == 2024].copy()\n",
    "\n",
    "# y: variable dependiente\n",
    "y = datos_2024['desocupado']\n",
    "\n",
    "# X: variables independientes (numéricas menos ESTADO y desocupado)\n",
    "X = datos_2024.select_dtypes(include='number').drop(columns=['ESTADO', 'desocupado', 'ANO4'], errors='ignore') # Also drop the 'ANO4' column from features\n",
    "\n",
    "# Agregar columna de unos\n",
    "X.insert(0, 'constante', 1)"
   ]
  },
  {
   "cell_type": "code",
   "execution_count": 43,
   "id": "2e614441-5dc9-4b86-b0a9-0883a02fa6a1",
   "metadata": {},
   "outputs": [],
   "source": [
    "from sklearn.model_selection import train_test_split\n",
    "\n",
    "# Año 2024\n",
    "datos_2024 = respondieron_2024[respondieron_2024['ANO4'] == 2024].copy()\n",
    "y_2024 = datos_2024['desocupado']\n",
    "X_2024 = datos_2024.select_dtypes(include='number').drop(columns=['ESTADO', 'desocupado', 'ANO4'], errors='ignore')\n",
    "X_2024.insert(0, 'constante', 1)\n",
    "X_train_2024, X_test_2024, y_train_2024, y_test_2024 = train_test_split(X_2024, y_2024, test_size=0.3, random_state=444)\n",
    "\n",
    "# Año 2004\n",
    "datos_2004 = respondieron_2004[respondieron_2004['ANO4'] == 2004].copy()\n",
    "y_2004 = datos_2004['desocupado']\n",
    "X_2004 = datos_2004.select_dtypes(include='number').drop(columns=['ESTADO', 'desocupado', 'ANO4'], errors='ignore')\n",
    "X_2004.insert(0, 'constante', 1)\n",
    "X_train_2004, X_test_2004, y_train_2004, y_test_2004 = train_test_split(X_2004, y_2004, test_size=0.3, random_state=444)"
   ]
  },
  {
   "cell_type": "code",
   "execution_count": 53,
   "id": "d7ed5d0c-0add-4d18-a366-a0bda9f5cf30",
   "metadata": {},
   "outputs": [
    {
     "name": "stdout",
     "output_type": "stream",
     "text": [
      "            N train  Mean train  sd train  N test  Mean test   sd test  \\\n",
      "constante     32178    1.000000  0.000000   13791   1.000000  0.000000   \n",
      "desocupado    32178    0.029523  0.169271   13791   0.029875  0.170247   \n",
      "\n",
      "              t-test   p-value  \n",
      "constante        NaN       NaN  \n",
      "desocupado -0.203078  0.839075  \n"
     ]
    },
    {
     "name": "stderr",
     "output_type": "stream",
     "text": [
      "C:\\Users\\51964\\anaconda3\\Lib\\site-packages\\scipy\\stats\\_axis_nan_policy.py:531: RuntimeWarning: Precision loss occurred in moment calculation due to catastrophic cancellation. This occurs when the data are nearly identical. Results may be unreliable.\n",
      "  res = hypotest_fun_out(*samples, **kwds)\n"
     ]
    }
   ],
   "source": [
    "# A. Enfoque de validación Punto 1\n",
    "from scipy import stats\n",
    "import pandas as pd\n",
    "\n",
    "\n",
    "var = X_train_2024.columns[0]\n",
    "\n",
    "x_train = X_train_2024[var]\n",
    "x_test = X_test_2024[var]\n",
    "y_train = y_train_2024\n",
    "y_test = y_test_2024\n",
    "\n",
    "# Calculo los estadísticos\n",
    "estadisticos = pd.DataFrame({\n",
    "    'N train': [x_train.shape[0], y_train.shape[0]],\n",
    "    'Mean train': [x_train.mean(), y_train.mean()],\n",
    "    'sd train': [x_train.std(), y_train.std()],\n",
    "    'N test': [x_test.shape[0], y_test.shape[0]],\n",
    "    'Mean test': [x_test.mean(), y_test.mean()],\n",
    "    'sd test': [x_test.std(), y_test.std()],\n",
    "})\n",
    "\n",
    "# Calculo el t-test y p-value\n",
    "t_test_x = stats.ttest_ind(x_train, x_test, equal_var=False)\n",
    "t_test_y = stats.ttest_ind(y_train, y_test, equal_var=False)\n",
    "\n",
    "estadisticos['t-test'] = [t_test_x.statistic, t_test_y.statistic]\n",
    "estadisticos['p-value'] = [t_test_x.pvalue, t_test_y.pvalue]\n",
    "\n",
    "\n",
    "estadisticos.index = [var, 'desocupado']\n",
    "\n",
    "# Exporta a Excel\n",
    "estadisticos.to_excel('estadisticos_2024_simple.xlsx')\n",
    "\n",
    "# Mostramos la tabla\n",
    "print(estadisticos)"
   ]
  },
  {
   "cell_type": "code",
   "execution_count": 47,
   "id": "1e8b4ac0-9f65-4b81-8a3e-a1a27a6661d7",
   "metadata": {},
   "outputs": [
    {
     "name": "stdout",
     "output_type": "stream",
     "text": [
      "            N train  Mean train  sd train  N test  Mean test  sd test  t-test  \\\n",
      "constante     31702         1.0       0.0   13587        1.0      0.0     NaN   \n",
      "desocupado    31702         0.0       0.0   13587        0.0      0.0     NaN   \n",
      "\n",
      "            p-value  \n",
      "constante       NaN  \n",
      "desocupado      NaN  \n"
     ]
    },
    {
     "name": "stderr",
     "output_type": "stream",
     "text": [
      "C:\\Users\\51964\\anaconda3\\Lib\\site-packages\\scipy\\stats\\_axis_nan_policy.py:531: RuntimeWarning: Precision loss occurred in moment calculation due to catastrophic cancellation. This occurs when the data are nearly identical. Results may be unreliable.\n",
      "  res = hypotest_fun_out(*samples, **kwds)\n"
     ]
    }
   ],
   "source": [
    "from scipy import stats\n",
    "import pandas as pd\n",
    "\n",
    "# Seleccionamos UNA variable independiente de X\n",
    "var = X_train_2004.columns[0]\n",
    "\n",
    "x_train = X_train_2004[var]\n",
    "x_test = X_test_2004[var]\n",
    "y_train = y_train_2004\n",
    "y_test = y_test_2004\n",
    "\n",
    "# Calculo los estadísticos\n",
    "estadisticos = pd.DataFrame({\n",
    "    'N train': [x_train.shape[0], y_train.shape[0]],\n",
    "    'Mean train': [x_train.mean(), y_train.mean()],\n",
    "    'sd train': [x_train.std(), y_train.std()],\n",
    "    'N test': [x_test.shape[0], y_test.shape[0]],\n",
    "    'Mean test': [x_test.mean(), y_test.mean()],\n",
    "    'sd test': [x_test.std(), y_test.std()],\n",
    "})\n",
    "\n",
    "# Calculo el t-test y p-value\n",
    "t_test_x = stats.ttest_ind(x_train, x_test, equal_var=False)\n",
    "t_test_y = stats.ttest_ind(y_train, y_test, equal_var=False)\n",
    "\n",
    "estadisticos['t-test'] = [t_test_x.statistic, t_test_y.statistic]\n",
    "estadisticos['p-value'] = [t_test_x.pvalue, t_test_y.pvalue]\n",
    "\n",
    "# Define las variables como índice\n",
    "estadisticos.index = [var, 'desocupado']\n",
    "\n",
    "# Exporta a Excel\n",
    "estadisticos.to_excel('estadisticos_2004_simple.xlsx')\n",
    "\n",
    "# Mostramos la tabla\n",
    "print(estadisticos)"
   ]
  },
  {
   "cell_type": "code",
   "execution_count": 51,
   "id": "bd3e96a5-594d-4911-9ee7-28fb813c4b7a",
   "metadata": {},
   "outputs": [],
   "source": [
    "# B. Método Supervisado 1: Modelo de Regresión Lineal punto 2\n",
    "import pandas as pd\n",
    "import numpy as np\n",
    "\n",
    "#lo primero que hicimos fue unir las bases de train en una sola para poder trabajar facilmente con los datos.\n",
    "def armar_train_completo(X_train, y_train, datos_originales):\n",
    "    df_train = datos_originales.loc[X_train.index].copy()\n",
    "    df_train['desocupado'] = y_train\n",
    "    for col in X_train.columns:\n",
    "        if col != 'constante':\n",
    "            df_train[col] = X_train[col]\n",
    "    return df_train\n",
    "\n",
    "\n",
    "train_2004 = armar_train_completo(X_train_2004, y_train_2004, datos_2004)\n",
    "train_2024 = armar_train_completo(X_train_2024, y_train_2024, datos_2024)\n",
    "\n",
    "\n",
    "train_union = pd.concat([train_2004, train_2024], axis=0).reset_index(drop=True)\n",
    "\n",
    "#definimos las variblaes que vamos a usar\n",
    "train_union['CH06'] = pd.to_numeric(train_union['CH06'], errors='coerce')\n",
    "\n",
    "train_union['edad'] = train_union['CH06']\n",
    "train_union['edad2'] = train_union['CH06'] ** 2\n",
    "\n",
    "train_union['mujer'] = (train_union['CH04'] == 2).astype(int)\n",
    "\n",
    "\n",
    "train_union['educ'] = pd.to_numeric(train_union['CH14'], errors='coerce')\n",
    "\n",
    "\n",
    "train_union['CH09'] = train_union['CH09']\n",
    "train_union['PP02I'] = train_union['PP02I']\n",
    "\n",
    "\n",
    "train_union['P21_ajustado'] = train_union['P21']\n",
    "train_union.loc[train_union['ANO4'] == 2004, 'P21_ajustado'] *= 1032\n",
    "\n",
    "train_union['salario_semanal'] = pd.to_numeric(train_union['P21_ajustado'], errors='coerce')"
   ]
  },
  {
   "cell_type": "code",
   "execution_count": 55,
   "id": "d6d3ca42-8441-410b-a020-f9816233a7c0",
   "metadata": {},
   "outputs": [
    {
     "data": {
      "text/html": [
       "<div>\n",
       "<style scoped>\n",
       "    .dataframe tbody tr th:only-of-type {\n",
       "        vertical-align: middle;\n",
       "    }\n",
       "\n",
       "    .dataframe tbody tr th {\n",
       "        vertical-align: top;\n",
       "    }\n",
       "\n",
       "    .dataframe thead th {\n",
       "        text-align: right;\n",
       "    }\n",
       "</style>\n",
       "<table border=\"1\" class=\"dataframe\">\n",
       "  <thead>\n",
       "    <tr style=\"text-align: right;\">\n",
       "      <th></th>\n",
       "      <th>CODUSU</th>\n",
       "      <th>NRO_HOGAR</th>\n",
       "      <th>COMPONENTE</th>\n",
       "      <th>H15</th>\n",
       "      <th>ANO4</th>\n",
       "      <th>TRIMESTRE</th>\n",
       "      <th>REGION</th>\n",
       "      <th>MAS_500</th>\n",
       "      <th>AGLOMERADO</th>\n",
       "      <th>PONDERA</th>\n",
       "      <th>...</th>\n",
       "      <th>IMPUTA</th>\n",
       "      <th>PONDIIO</th>\n",
       "      <th>PONDII</th>\n",
       "      <th>PONDIH</th>\n",
       "      <th>edad</th>\n",
       "      <th>edad2</th>\n",
       "      <th>mujer</th>\n",
       "      <th>educ</th>\n",
       "      <th>P21_ajustado</th>\n",
       "      <th>salario_semanal</th>\n",
       "    </tr>\n",
       "  </thead>\n",
       "  <tbody>\n",
       "    <tr>\n",
       "      <th>0</th>\n",
       "      <td>177754</td>\n",
       "      <td>1</td>\n",
       "      <td>3</td>\n",
       "      <td>Sí</td>\n",
       "      <td>2004</td>\n",
       "      <td>1er. Trimestre</td>\n",
       "      <td>NEA</td>\n",
       "      <td>N</td>\n",
       "      <td>Corrientes</td>\n",
       "      <td>241</td>\n",
       "      <td>...</td>\n",
       "      <td>NaN</td>\n",
       "      <td>NaN</td>\n",
       "      <td>NaN</td>\n",
       "      <td>NaN</td>\n",
       "      <td>12.0</td>\n",
       "      <td>144.0</td>\n",
       "      <td>0</td>\n",
       "      <td>7.0</td>\n",
       "      <td>0</td>\n",
       "      <td>0</td>\n",
       "    </tr>\n",
       "    <tr>\n",
       "      <th>1</th>\n",
       "      <td>264328</td>\n",
       "      <td>1</td>\n",
       "      <td>4</td>\n",
       "      <td>Sí</td>\n",
       "      <td>2004</td>\n",
       "      <td>1er. Trimestre</td>\n",
       "      <td>NEA</td>\n",
       "      <td>N</td>\n",
       "      <td>Gran Resistencia</td>\n",
       "      <td>115</td>\n",
       "      <td>...</td>\n",
       "      <td>NaN</td>\n",
       "      <td>NaN</td>\n",
       "      <td>NaN</td>\n",
       "      <td>NaN</td>\n",
       "      <td>24.0</td>\n",
       "      <td>576.0</td>\n",
       "      <td>0</td>\n",
       "      <td>5.0</td>\n",
       "      <td>0</td>\n",
       "      <td>0</td>\n",
       "    </tr>\n",
       "  </tbody>\n",
       "</table>\n",
       "<p>2 rows × 188 columns</p>\n",
       "</div>"
      ],
      "text/plain": [
       "   CODUSU  NRO_HOGAR COMPONENTE H15  ANO4       TRIMESTRE REGION MAS_500  \\\n",
       "0  177754          1          3  Sí  2004  1er. Trimestre    NEA       N   \n",
       "1  264328          1          4  Sí  2004  1er. Trimestre    NEA       N   \n",
       "\n",
       "         AGLOMERADO  PONDERA  ... IMPUTA PONDIIO  PONDII PONDIH  edad  edad2  \\\n",
       "0        Corrientes      241  ...    NaN     NaN     NaN    NaN  12.0  144.0   \n",
       "1  Gran Resistencia      115  ...    NaN     NaN     NaN    NaN  24.0  576.0   \n",
       "\n",
       "  mujer educ P21_ajustado salario_semanal  \n",
       "0     0  7.0            0               0  \n",
       "1     0  5.0            0               0  \n",
       "\n",
       "[2 rows x 188 columns]"
      ]
     },
     "execution_count": 55,
     "metadata": {},
     "output_type": "execute_result"
    }
   ],
   "source": [
    "train_union.head(2)"
   ]
  },
  {
   "cell_type": "code",
   "execution_count": 57,
   "id": "50cf7f4c-0345-49b9-89a8-28a2419088ae",
   "metadata": {},
   "outputs": [],
   "source": [
    "#definimos la region a trabajar\n",
    "train_gba = train_union[train_union['REGION'] == 'Gran Buenos Aires'].copy()"
   ]
  },
  {
   "cell_type": "code",
   "execution_count": 59,
   "id": "e63bdf6d-fe81-40d0-9477-8090c5f93c4b",
   "metadata": {},
   "outputs": [],
   "source": [
    "train_gba = train_union[(train_union['REGION'] == 'Gran Buenos Aires') | (train_union['REGION'] == 1)].copy()"
   ]
  },
  {
   "cell_type": "code",
   "execution_count": 61,
   "id": "2d231601-dd22-4912-a1fd-0feef0d685c8",
   "metadata": {},
   "outputs": [
    {
     "name": "stdout",
     "output_type": "stream",
     "text": [
      "salario_semanal      int64\n",
      "edad               float64\n",
      "edad2              float64\n",
      "educ               float64\n",
      "mujer                int32\n",
      "CH09               float64\n",
      "PP02I              float64\n",
      "dtype: object\n",
      "salario_semanal    0\n",
      "edad               0\n",
      "edad2              0\n",
      "educ               0\n",
      "mujer              0\n",
      "CH09               0\n",
      "PP02I              0\n",
      "dtype: int64\n",
      "(15914, 188)\n"
     ]
    }
   ],
   "source": [
    "# Convertimos CH09 y PP02I a numéricos\n",
    "cols = ['salario_semanal', 'edad', 'edad2', 'educ', 'mujer', 'CH09', 'PP02I']\n",
    "\n",
    "train_union['CH09'] = pd.to_numeric(train_union['CH09'], errors='coerce')\n",
    "train_union['PP02I'] = pd.to_numeric(train_union['PP02I'], errors='coerce')\n",
    "train_union = train_union.dropna(subset=cols)\n",
    "\n",
    "print(train_union[cols].dtypes)\n",
    "print(train_union[cols].isnull().sum())\n",
    "print(train_union.shape)"
   ]
  },
  {
   "cell_type": "code",
   "execution_count": 63,
   "id": "6536f515-d823-467f-875a-7d1da9dc6c4e",
   "metadata": {},
   "outputs": [
    {
     "name": "stdout",
     "output_type": "stream",
     "text": [
      "(15914, 188)\n"
     ]
    }
   ],
   "source": [
    "print(train_union.shape)"
   ]
  },
  {
   "cell_type": "code",
   "execution_count": 65,
   "id": "092628a6-beda-4e92-84d7-268da1acce26",
   "metadata": {},
   "outputs": [
    {
     "name": "stdout",
     "output_type": "stream",
     "text": [
      "\n",
      "Modelo con variables: ['edad']\n",
      "const: 7842.470 (2587.15)\n",
      "edad: 2180.320 (75.49)\n",
      "R2 ajustado: 0.050\n",
      "\n",
      "Modelo con variables: ['edad', 'edad2']\n",
      "const: -110333.360 (3967.80)\n",
      "edad: 11997.859 (267.48)\n",
      "edad2: -129.499 (3.40)\n",
      "R2 ajustado: 0.129\n",
      "\n",
      "Modelo con variables: ['edad', 'edad2', 'educ']\n",
      "const: -109237.964 (3965.85)\n",
      "edad: 12102.218 (267.58)\n",
      "edad2: -130.177 (3.39)\n",
      "educ: -640.494 (96.39)\n",
      "R2 ajustado: 0.132\n",
      "\n",
      "Modelo con variables: ['edad', 'edad2', 'educ', 'mujer']\n",
      "const: -84158.939 (4189.28)\n",
      "edad: 12096.915 (265.12)\n",
      "edad2: -129.651 (3.36)\n",
      "educ: -691.245 (95.55)\n",
      "mujer: -50433.716 (2921.38)\n",
      "R2 ajustado: 0.147\n",
      "\n",
      "Modelo con variables: ['edad', 'edad2', 'educ', 'mujer', 'CH09', 'PP02I']\n",
      "const: -582.579 (9602.65)\n",
      "edad: 10369.479 (280.03)\n",
      "edad2: -107.082 (3.48)\n",
      "educ: -448.534 (91.97)\n",
      "mujer: -36139.598 (2803.77)\n",
      "CH09: -12977.419 (6184.40)\n",
      "PP02I: -58711.361 (1485.02)\n",
      "R2 ajustado: 0.227\n"
     ]
    }
   ],
   "source": [
    "import statsmodels.api as sm\n",
    "\n",
    "# predictores\n",
    "X_base = ['edad']\n",
    "X_edad_educ = ['edad', 'edad2', 'educ']\n",
    "X_edad_educ_mujer = ['edad', 'edad2', 'educ', 'mujer']\n",
    "X_todas = ['edad', 'edad2', 'educ', 'mujer', 'CH09', 'PP02I']\n",
    "\n",
    "def correr_modelo(X_vars, y_var='salario_semanal'):\n",
    "  X = train_union[X_vars]\n",
    "  X = sm.add_constant(X)\n",
    "  y = train_union[y_var]\n",
    "\n",
    "  model = sm.OLS(y, X).fit()\n",
    "\n",
    "  print(f\"\\nModelo con variables: {X_vars}\")\n",
    "  for var in model.params.index:\n",
    "    coef = model.params[var]\n",
    "    std_err = model.bse[var]\n",
    "    print(f\"{var}: {coef:.3f} ({std_err:.2f})\")\n",
    "  print(f\"R2 ajustado: {model.rsquared_adj:.3f}\")\n",
    "\n",
    "  return model\n",
    "\n",
    "# Modelos:\n",
    "model_1 = correr_modelo(['edad'])\n",
    "model_2 = correr_modelo(['edad', 'edad2'])\n",
    "model_3 = correr_modelo(['edad', 'edad2', 'educ'])\n",
    "model_4 = correr_modelo(['edad', 'edad2', 'educ', 'mujer'])\n",
    "model_5 = correr_modelo(['edad', 'edad2', 'educ', 'mujer', 'CH09', 'PP02I'])"
   ]
  },
  {
   "cell_type": "code",
   "execution_count": 105,
   "id": "83c1f5df-6f74-4701-9be2-d03f1c6fc39f",
   "metadata": {},
   "outputs": [],
   "source": [
    "import pandas as pd\n",
    "\n",
    "# Cargar los datos\n",
    "df = pd.read_excel(\"Individual_t104.xlsx\")\n",
    "\n",
    "# Crear variable 'ocupado': estado == 1 (ocupado)\n",
    "df[\"ocupado\"] = (df[\"estado\"] == 1).astype(int)\n",
    "\n",
    "# Filtrar solo ocupados\n",
    "df = df[df[\"ocupado\"] == 1]\n",
    "\n",
    "# Crear variable 'edad' desde ch06 (esto es lo que te estaba faltando o falló)\n",
    "df[\"edad\"] = df[\"ch06\"]\n",
    "\n",
    "# Crear edad^2\n",
    "df[\"edad2\"] = df[\"edad\"] ** 2\n",
    "\n",
    "# Nivel educativo\n",
    "df[\"educ\"] = df[\"nivel_ed\"]\n",
    "\n",
    "# Crear dummy mujer\n",
    "df[\"mujer\"] = (df[\"ch04\"] == 2).astype(int)\n",
    "\n",
    "# Crear salario semanal\n",
    "df[\"salario_semanal\"] = df[\"p21\"]\n",
    "\n",
    "# Eliminar filas con NaNs\n",
    "df = df.dropna(subset=[\"salario_semanal\", \"edad\", \"edad2\", \"educ\", \"mujer\"])"
   ]
  },
  {
   "cell_type": "code",
   "execution_count": 111,
   "id": "2aa8a655-edde-4d9e-9268-a2a34da4c728",
   "metadata": {},
   "outputs": [
    {
     "name": "stdout",
     "output_type": "stream",
     "text": [
      "['CODUSU', 'ANO4', 'TRIMESTRE', 'NRO_HOGAR', 'COMPONENTE', 'H15', 'REGION', 'MAS_500', 'AGLOMERADO', 'PONDERA', 'CH03', 'CH04', 'CH05', 'CH06', 'CH07', 'CH08', 'CH09', 'CH10', 'CH11', 'CH12', 'CH13', 'CH14', 'CH15', 'CH15_COD', 'CH16', 'CH16_COD', 'NIVEL_ED', 'ESTADO', 'CAT_OCUP', 'CAT_INAC', 'IMPUTA', 'PP02C1', 'PP02C2', 'PP02C3', 'PP02C4', 'PP02C5', 'PP02C6', 'PP02C7', 'PP02C8', 'PP02E', 'PP02H', 'PP02I', 'PP03C', 'PP03D', 'PP3E_TOT', 'PP3F_TOT', 'PP03G', 'PP03H', 'PP03I', 'PP03J', 'INTENSI', 'PP04A', 'PP04B_COD', 'PP04B1', 'PP04B2', 'PP04B3_MES', 'PP04B3_ANO', 'PP04B3_DIA', 'PP04C', 'PP04C99', 'PP04D_COD', 'PP04G', 'PP05B2_MES', 'PP05B2_ANO', 'PP05B2_DIA', 'PP05C_1', 'PP05C_2', 'PP05C_3', 'PP05E', 'PP05F', 'PP05H', 'PP06A', 'PP06C', 'PP06D', 'PP06E', 'PP06H', 'PP07A', 'PP07C', 'PP07D', 'PP07E', 'PP07F1', 'PP07F2', 'PP07F3', 'PP07F4', 'PP07F5', 'PP07G1', 'PP07G2', 'PP07G3', 'PP07G4', 'PP07G_59', 'PP07H', 'PP07I', 'PP07J', 'PP07K', 'PP08D1', 'PP08D4', 'PP08F1', 'PP08F2', 'PP08J1', 'PP08J2', 'PP08J3', 'PP09A', 'PP09A_ESP', 'PP09B', 'PP09C', 'PP09C_ESP', 'PP10A', 'PP10C', 'PP10D', 'PP10E', 'PP11A', 'PP11B_COD', 'PP11B1', 'PP11B2_MES', 'PP11B2_ANO', 'PP11B2_DIA', 'PP11C', 'PP11C99', 'PP11D_COD', 'PP11G_ANO', 'PP11G_MES', 'PP11G_DIA', 'PP11L', 'PP11L1', 'PP11M', 'PP11N', 'PP11O', 'PP11P', 'PP11Q', 'PP11R', 'PP11S', 'PP11T', 'P21', 'DECOCUR', 'IDECOCUR', 'RDECOCUR', 'GDECOCUR', 'PDECOCUR', 'ADECOCUR', 'PONDIIO', 'TOT_P12', 'P47T', 'DECINDR', 'IDECINDR', 'RDECINDR', 'GDECINDR', 'PDECINDR', 'ADECINDR', 'PONDII', 'V2_M', 'V3_M', 'V4_M', 'V5_M', 'V8_M', 'V9_M', 'V10_M', 'V11_M', 'V12_M', 'V18_M', 'V19_AM', 'V21_M', 'T_VI', 'ITF', 'DECIFR', 'IDECIFR', 'RDECIFR', 'GDECIFR', 'PDECIFR', 'ADECIFR', 'IPCF', 'DECCFR', 'IDECCFR', 'RDECCFR', 'GDECCFR', 'PDECCFR', 'ADECCFR', 'PONDIH']\n"
     ]
    }
   ],
   "source": [
    "df = pd.read_excel(\"usu_individual_T124.xlsx\")\n",
    "print(df.columns.tolist())"
   ]
  },
  {
   "cell_type": "code",
   "execution_count": 113,
   "id": "54dbe27c-da97-4343-8353-b8308fb436fd",
   "metadata": {},
   "outputs": [
    {
     "name": "stdout",
     "output_type": "stream",
     "text": [
      "   salario_semanal  edad  edad2  educ  mujer\n",
      "0               -9    44   1936     3      1\n",
      "3           250000    54   2916     4      0\n",
      "4           200000    53   2809     4      1\n",
      "5           200000    26    676     6      1\n",
      "6           200000    25    625     5      0\n"
     ]
    }
   ],
   "source": [
    "import pandas as pd\n",
    "\n",
    "# Cargar el archivo\n",
    "df = pd.read_excel(\"usu_individual_T124.xlsx\")\n",
    "\n",
    "# Crear variable de ocupado\n",
    "df[\"ocupado\"] = df[\"CAT_OCUP\"].isin([1, 2, 3]).astype(int)\n",
    "\n",
    "# Filtrar solo personas ocupadas\n",
    "df = df[df[\"ocupado\"] == 1]\n",
    "\n",
    "# Crear variables necesarias\n",
    "df[\"edad\"] = df[\"CH06\"]\n",
    "df[\"edad2\"] = df[\"edad\"] ** 2\n",
    "df[\"educ\"] = df[\"NIVEL_ED\"]\n",
    "df[\"mujer\"] = (df[\"CH04\"] == 2).astype(int)\n",
    "\n",
    "# Crear salario semanal (P21 es ingreso total individual, en general)\n",
    "df[\"salario_semanal\"] = df[\"P21\"]\n",
    "\n",
    "# Eliminar filas con valores faltantes\n",
    "df = df.dropna(subset=[\"salario_semanal\", \"edad\", \"edad2\", \"educ\", \"mujer\"])\n",
    "\n",
    "# Mostrar primeras filas\n",
    "print(df[[\"salario_semanal\", \"edad\", \"edad2\", \"educ\", \"mujer\"]].head())"
   ]
  },
  {
   "cell_type": "code",
   "execution_count": 125,
   "id": "9738073e-a1b8-44dc-9ed9-9f54303c776c",
   "metadata": {},
   "outputs": [],
   "source": [
    "import pandas as pd\n",
    "import numpy as np\n",
    "from sklearn.model_selection import train_test_split, cross_val_score\n",
    "from sklearn.linear_model import LinearRegression, Ridge, Lasso\n",
    "from sklearn.tree import DecisionTreeRegressor\n",
    "from sklearn.metrics import mean_squared_error\n",
    "\n",
    "# --- Cargar datos y armar variables (ya hecho antes) ---\n",
    "df = pd.read_excel(\"usu_individual_T124.xlsx\")\n",
    "\n",
    "# Filtrar ocupados\n",
    "df[\"ocupado\"] = (df[\"ESTADO\"] == 1).astype(int)\n",
    "df = df[df[\"ocupado\"] == 1]\n",
    "\n",
    "# Crear variables\n",
    "df[\"salario_semanal\"] = df[\"P47T\"] / df[\"INTENSI\"]\n",
    "df[\"educ\"] = df[\"NIVEL_ED\"]\n",
    "df[\"mujer\"] = (df[\"CH04\"] == 2).astype(int)\n",
    "df[\"edad\"] = df[\"CH06\"]\n",
    "df[\"edad2\"] = df[\"edad\"] ** 2\n",
    "\n",
    "# Eliminar observaciones con NaNs\n",
    "df = df.dropna(subset=[\"salario_semanal\", \"edad\", \"edad2\", \"educ\", \"mujer\"])\n",
    "\n",
    "# Variables predictoras y target\n",
    "X = df[[\"edad\", \"edad2\", \"educ\", \"mujer\"]]\n",
    "y = df[\"salario_semanal\"]\n",
    "\n",
    "# Dividir en train/test\n",
    "X_train, X_test, y_train, y_test = train_test_split(X, y, test_size=0.2, random_state=42)"
   ]
  },
  {
   "cell_type": "code",
   "execution_count": 183,
   "id": "c6ebe875-573c-43c4-a30c-f1b14e4e005e",
   "metadata": {},
   "outputs": [],
   "source": [
    "# Ejercicio 3 - entrenamiento lineal\n",
    "lr = LinearRegression()\n",
    "lr.fit(X_train, y_train)\n",
    "y_pred_lr = lr.predict(X_test)\n",
    "mse_lr = mean_squared_error(y_test, y_pred_lr)"
   ]
  },
  {
   "cell_type": "code",
   "execution_count": 129,
   "id": "b1cb46f6-7a75-4f13-b2d7-21acb17fc87a",
   "metadata": {},
   "outputs": [],
   "source": [
    "# Entrenamiento cv\n",
    "scores_cv = cross_val_score(LinearRegression(), X, y, scoring='neg_mean_squared_error', cv=10)\n",
    "mse_cv = -np.mean(scores_cv)"
   ]
  },
  {
   "cell_type": "code",
   "execution_count": 185,
   "id": "af3b7919-3cb6-4ac1-9ca0-6d7201e0f9a7",
   "metadata": {},
   "outputs": [],
   "source": [
    "# Entrenamiento ridge\n",
    "ridge = Ridge(alpha=1.0)\n",
    "ridge.fit(X_train, y_train)\n",
    "y_pred_ridge = ridge.predict(X_test)\n",
    "mse_ridge = mean_squared_error(y_test, y_pred_ridge)"
   ]
  },
  {
   "cell_type": "code",
   "execution_count": 133,
   "id": "f0735fb5-6ed6-4e0e-ba47-46f5c122d9a2",
   "metadata": {},
   "outputs": [],
   "source": [
    "# Entrenamiento lasso\n",
    "lasso = Lasso(alpha=0.1)\n",
    "lasso.fit(X_train, y_train)\n",
    "y_pred_lasso = lasso.predict(X_test)\n",
    "mse_lasso = mean_squared_error(y_test, y_pred_lasso)"
   ]
  },
  {
   "cell_type": "code",
   "execution_count": 189,
   "id": "e1d0d085-443f-4335-bc1c-735d0d72ec40",
   "metadata": {},
   "outputs": [],
   "source": [
    "# Entrenamiento CART\n",
    "tree = DecisionTreeRegressor(max_depth=5)\n",
    "tree.fit(X_train, y_train)\n",
    "y_pred_tree = tree.predict(X_test)\n",
    "mse_tree = mean_squared_error(y_test, y_pred_tree)"
   ]
  },
  {
   "cell_type": "code",
   "execution_count": 187,
   "id": "8596ef7a-bbcc-43ba-b0b9-f49fa81a6195",
   "metadata": {},
   "outputs": [
    {
     "name": "stdout",
     "output_type": "stream",
     "text": [
      "MSE - Lineal: 22461598887.425438\n",
      "MSE - Cross-Validation: 38798275881.884705\n",
      "MSE - Ridge: 22461592940.697018\n",
      "MSE - Lasso: 22461598375.43713\n",
      "MSE - Árbol (CART): 24048287993.63173\n"
     ]
    }
   ],
   "source": [
    "# Comparamos los entrenamientos\n",
    "print(\"MSE - Lineal:\", mse_lr)\n",
    "print(\"MSE - Cross-Validation:\", mse_cv)\n",
    "print(\"MSE - Ridge:\", mse_ridge)\n",
    "print(\"MSE - Lasso:\", mse_lasso)\n",
    "print(\"MSE - Árbol (CART):\", mse_tree)"
   ]
  },
  {
   "cell_type": "code",
   "execution_count": 197,
   "id": "dfc0a915-b98c-409e-9472-4472c0fef83f",
   "metadata": {},
   "outputs": [
    {
     "name": "stdout",
     "output_type": "stream",
     "text": [
      "         Modelo           MSE       RMSE       MAE\n",
      "0  Lineal (OLS)  2.246160e+10  149871.94  96806.92\n",
      "1     Lineal CV  2.246160e+10  149871.94  96806.92\n",
      "2         Ridge  2.246159e+10  149871.92  96806.75\n",
      "3         Lasso  2.246160e+10  149871.94  96806.91\n",
      "4  Árbol (CART)  2.404829e+10  155075.10  97098.90\n"
     ]
    }
   ],
   "source": [
    "from sklearn.metrics import mean_squared_error, mean_absolute_error\n",
    "\n",
    "import statsmodels.api as sm\n",
    "\n",
    "# Agregamos unas constantes\n",
    "X_train_sm = sm.add_constant(X_train)\n",
    "X_test_sm = sm.add_constant(X_test)\n",
    "\n",
    "# Entrenamos el modelo de regresión lineal con statsmodels\n",
    "modelo_lineal = sm.OLS(y_train, X_train_sm).fit()\n",
    "\n",
    "def eval_model(nombre, modelo, X_test, y_test):\n",
    "    y_pred = modelo.predict(X_test)\n",
    "    mse = mean_squared_error(y_test, y_pred)\n",
    "    rmse = np.sqrt(mse)\n",
    "    mae = mean_absolute_error(y_test, y_pred)\n",
    "    return [nombre, round(mse, 2), round(rmse, 2), round(mae, 2)]\n",
    "\n",
    "resultados = []\n",
    "resultados.append(eval_model(\"Lineal (OLS)\", modelo_lineal, X_test_sm, y_test))\n",
    "resultados.append(eval_model(\"Lineal CV\", lr, X_test, y_test))\n",
    "resultados.append(eval_model(\"Ridge\", ridge, X_test, y_test))\n",
    "resultados.append(eval_model(\"Lasso\", lasso, X_test, y_test))\n",
    "resultados.append(eval_model(\"Árbol (CART)\", tree, X_test, y_test))\n",
    "\n",
    "# Creamos una tabla de ayuda para ver los valores\n",
    "df_resultados = pd.DataFrame(resultados, columns=[\"Modelo\", \"MSE\", \"RMSE\", \"MAE\"])\n",
    "print(df_resultados)"
   ]
  },
  {
   "cell_type": "code",
   "execution_count": 155,
   "id": "5dc9b76e-2698-4cb3-84e7-32fa15cdcb45",
   "metadata": {},
   "outputs": [],
   "source": [
    "from sklearn.metrics import mean_squared_error, mean_absolute_error\n",
    "import numpy as np\n",
    "\n",
    "def calcular_metricas(modelo, X_test, y_test):\n",
    "    y_pred = modelo.predict(X_test)\n",
    "    mse = mean_squared_error(y_test, y_pred)\n",
    "    rmse = np.sqrt(mse)\n",
    "    mae = mean_absolute_error(y_test, y_pred)\n",
    "    return round(mse, 2), round(rmse, 2), round(mae, 2)"
   ]
  },
  {
   "cell_type": "code",
   "execution_count": 201,
   "id": "596d2d93-2794-47fd-9f61-7100068b9202",
   "metadata": {},
   "outputs": [],
   "source": [
    "# Acomodamos para definir la variable 5 y que no sea del 0 al 4\n",
    "X5_train = sm.add_constant(X_train[[\"edad\", \"edad2\", \"educ\", \"mujer\"]])\n",
    "modelo5 = sm.OLS(y_train, X5_train).fit()\n",
    "\n",
    "X5_test = sm.add_constant(X_test[[\"edad\", \"edad2\", \"educ\", \"mujer\"]])"
   ]
  },
  {
   "cell_type": "code",
   "execution_count": 191,
   "id": "810d7b25-28c2-4a1d-a6db-af65ac3891e5",
   "metadata": {},
   "outputs": [],
   "source": [
    "# Definimos variables \n",
    "m1 = calcular_metricas(modelo1, X1_test, y_test)\n",
    "m2 = calcular_metricas(modelo2, X2_test, y_test)\n",
    "m3 = calcular_metricas(modelo3, X3_test, y_test)\n",
    "m4 = calcular_metricas(modelo4, X4_test, y_test)\n",
    "m5 = calcular_metricas(modelo5, X5_test, y_test)"
   ]
  },
  {
   "cell_type": "code",
   "execution_count": 195,
   "id": "0e715473-9cb6-4811-a00c-f49d04601759",
   "metadata": {},
   "outputs": [
    {
     "name": "stdout",
     "output_type": "stream",
     "text": [
      "Tabla 2 - Enfoque de validación\n"
     ]
    },
    {
     "data": {
      "text/html": [
       "<div>\n",
       "<style scoped>\n",
       "    .dataframe tbody tr th:only-of-type {\n",
       "        vertical-align: middle;\n",
       "    }\n",
       "\n",
       "    .dataframe tbody tr th {\n",
       "        vertical-align: top;\n",
       "    }\n",
       "\n",
       "    .dataframe thead th {\n",
       "        text-align: right;\n",
       "    }\n",
       "</style>\n",
       "<table border=\"1\" class=\"dataframe\">\n",
       "  <thead>\n",
       "    <tr style=\"text-align: right;\">\n",
       "      <th></th>\n",
       "      <th>(1)</th>\n",
       "      <th>(2)</th>\n",
       "      <th>(3)</th>\n",
       "      <th>(4)</th>\n",
       "      <th>(5)</th>\n",
       "    </tr>\n",
       "  </thead>\n",
       "  <tbody>\n",
       "    <tr>\n",
       "      <th>MSE test</th>\n",
       "      <td>2.346156e+10</td>\n",
       "      <td>2.337374e+10</td>\n",
       "      <td>2.269723e+10</td>\n",
       "      <td>2.246160e+10</td>\n",
       "      <td>2.246160e+10</td>\n",
       "    </tr>\n",
       "    <tr>\n",
       "      <th>RMSE test</th>\n",
       "      <td>1.531717e+05</td>\n",
       "      <td>1.528847e+05</td>\n",
       "      <td>1.506560e+05</td>\n",
       "      <td>1.498719e+05</td>\n",
       "      <td>1.498719e+05</td>\n",
       "    </tr>\n",
       "    <tr>\n",
       "      <th>MAE test</th>\n",
       "      <td>9.941748e+04</td>\n",
       "      <td>9.886085e+04</td>\n",
       "      <td>9.735170e+04</td>\n",
       "      <td>9.680692e+04</td>\n",
       "      <td>9.680692e+04</td>\n",
       "    </tr>\n",
       "  </tbody>\n",
       "</table>\n",
       "</div>"
      ],
      "text/plain": [
       "                    (1)           (2)           (3)           (4)  \\\n",
       "MSE test   2.346156e+10  2.337374e+10  2.269723e+10  2.246160e+10   \n",
       "RMSE test  1.531717e+05  1.528847e+05  1.506560e+05  1.498719e+05   \n",
       "MAE test   9.941748e+04  9.886085e+04  9.735170e+04  9.680692e+04   \n",
       "\n",
       "                    (5)  \n",
       "MSE test   2.246160e+10  \n",
       "RMSE test  1.498719e+05  \n",
       "MAE test   9.680692e+04  "
      ]
     },
     "metadata": {},
     "output_type": "display_data"
    }
   ],
   "source": [
    "# Ejercicio 3 - Creación de la tabla\n",
    "\n",
    "import pandas as pd\n",
    "\n",
    "# Crear DataFrame con los valores\n",
    "tabla_3 = pd.DataFrame({\n",
    "    \"(1)\": m1,\n",
    "    \"(2)\": m2,\n",
    "    \"(3)\": m3,\n",
    "    \"(4)\": m4,\n",
    "    \"(5)\": m5\n",
    "}, index=[\"MSE test\", \"RMSE test\", \"MAE test\"])\n",
    "\n",
    "# Mostrar la tabla con los parámetros establecidos\n",
    "print(\"Tabla 2 - Enfoque de validación\")\n",
    "display(tabla_3)"
   ]
  },
  {
   "cell_type": "code",
   "execution_count": 181,
   "id": "c224d931-a966-48af-a42a-4a913b928828",
   "metadata": {},
   "outputs": [
    {
     "data": {
      "image/png": "[encoded data removed]",
      "text/plain": [
       "<Figure size 1000x600 with 1 Axes>"
      ]
     },
     "metadata": {},
     "output_type": "display_data"
    }
   ],
   "source": [
    "# Ejercicio 4 - Gráfico de dispersión\n",
    "\n",
    "import matplotlib.pyplot as plt\n",
    "\n",
    "y_pred = modelo4.predict(X4_test) \n",
    "edad_test = X4_test[\"edad\"]\n",
    "\n",
    "plt.figure(figsize=(10, 6))\n",
    "\n",
    "# Salario real\n",
    "plt.scatter(edad_test, y_test, label=\"Salario real\", alpha=0.6, color='blue')\n",
    "\n",
    "# Salario predicho\n",
    "plt.scatter(edad_test, y_pred, label=\"Salario predicho\", alpha=0.6, color='red')\n",
    "\n",
    "plt.xlabel(\"Edad\")\n",
    "plt.ylabel(\"Salario semanal\")\n",
    "plt.title(\"Salario real vs salario predicho según edad\")\n",
    "plt.legend()\n",
    "plt.grid(True)\n",
    "plt.tight_layout()\n",
    "plt.show()"
   ]
  },
  {
   "cell_type": "code",
   "execution_count": null,
   "id": "e2800491-2466-40a1-92c9-0984e8be4c25",
   "metadata": {},
   "outputs": [],
   "source": []
  }
 ],
 "metadata": {
  "kernelspec": {
   "display_name": "Python [conda env:base] *",
   "language": "python",
   "name": "conda-base-py"
  },
  "language_info": {
   "codemirror_mode": {
    "name": "ipython",
    "version": 3
   },
   "file_extension": ".py",
   "mimetype": "text/x-python",
   "name": "python",
   "nbconvert_exporter": "python",
   "pygments_lexer": "ipython3",
   "version": "3.12.7"
  }
 },
 "nbformat": 4,
 "nbformat_minor": 5
}
