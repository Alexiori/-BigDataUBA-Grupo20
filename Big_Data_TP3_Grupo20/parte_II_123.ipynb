{
 "cells": [
  {
   "cell_type": "code",
   "execution_count": 2,
   "id": "8f4f1e76-4080-48d6-b1bd-f6f8b5b62705",
   "metadata": {},
   "outputs": [],
   "source": [
    "import pandas as pd"
   ]
  },
  {
   "cell_type": "code",
   "execution_count": 4,
   "id": "d1773587-6edc-40d6-a8a8-d51ddd3bff93",
   "metadata": {},
   "outputs": [],
   "source": [
    "#subimos las bases de datos\n",
    "df_2004 = pd.read_stata(\"Individual_t104.dta\")\n",
    "df_2024 = pd.read_excel(\"usu_individual_T124.xlsx\")"
   ]
  },
  {
   "cell_type": "code",
   "execution_count": 6,
   "id": "7984f190-0f5f-417f-989d-ca7fe03cff5f",
   "metadata": {},
   "outputs": [
    {
     "name": "stdout",
     "output_type": "stream",
     "text": [
      "Requirement already satisfied: pyreadstat in c:\\users\\51964\\anaconda3\\lib\\site-packages (1.2.8)\n",
      "Requirement already satisfied: pandas>=1.2.0 in c:\\users\\51964\\anaconda3\\lib\\site-packages (from pyreadstat) (2.2.2)\n",
      "Requirement already satisfied: numpy>=1.26.0 in c:\\users\\51964\\anaconda3\\lib\\site-packages (from pandas>=1.2.0->pyreadstat) (1.26.4)\n",
      "Requirement already satisfied: python-dateutil>=2.8.2 in c:\\users\\51964\\anaconda3\\lib\\site-packages (from pandas>=1.2.0->pyreadstat) (2.9.0.post0)\n",
      "Requirement already satisfied: pytz>=2020.1 in c:\\users\\51964\\anaconda3\\lib\\site-packages (from pandas>=1.2.0->pyreadstat) (2025.2)\n",
      "Requirement already satisfied: tzdata>=2022.7 in c:\\users\\51964\\anaconda3\\lib\\site-packages (from pandas>=1.2.0->pyreadstat) (2023.3)\n",
      "Requirement already satisfied: six>=1.5 in c:\\users\\51964\\anaconda3\\lib\\site-packages (from python-dateutil>=2.8.2->pandas>=1.2.0->pyreadstat) (1.16.0)\n"
     ]
    }
   ],
   "source": [
    "!pip install pyreadstat\n",
    "\n",
    "import pyreadstat\n",
    "\n",
    "df, meta = pyreadstat.read_dta(\"Individual_t104.dta\")"
   ]
  },
  {
   "cell_type": "code",
   "execution_count": 8,
   "id": "1c5f3bd2-a146-426f-bb24-0620d2adb82c",
   "metadata": {},
   "outputs": [
    {
     "data": {
      "text/plain": [
       "['Gran Buenos Aires', 'NOA', 'NEA', 'Cuyo', 'Pampeana', 'Patagónica']\n",
       "Categories (6, object): ['Gran Buenos Aires' < 'NOA' < 'NEA' < 'Cuyo' < 'Pampeana' < 'Patagónica']"
      ]
     },
     "execution_count": 8,
     "metadata": {},
     "output_type": "execute_result"
    }
   ],
   "source": [
    "df_2004[\"region\"].unique()"
   ]
  },
  {
   "cell_type": "code",
   "execution_count": 10,
   "id": "5909dfbd-772a-46c3-9fb0-1a7fc0cda2c4",
   "metadata": {},
   "outputs": [],
   "source": [
    "df_2004_gba = df_2004[df_2004[\"region\"] == \"Gran Buenos Aires\"]\n",
    "df_2024_gba = df_2024[df_2024[\"REGION\"] == \"Gran Buenos Aires\"]"
   ]
  },
  {
   "cell_type": "code",
   "execution_count": 12,
   "id": "ca5495fb-364a-46cb-b4dd-33b7cfad3e5d",
   "metadata": {},
   "outputs": [
    {
     "name": "stdout",
     "output_type": "stream",
     "text": [
      "(45289, 176)\n",
      "(46050, 177)\n",
      "(7647, 352)\n"
     ]
    }
   ],
   "source": [
    "#punto2a\n",
    "df_a = pd.read_stata(\"Individual_t104.dta\")\n",
    "print(df_a.shape)\n",
    "\n",
    "df_b = pd.read_excel(\"usu_individual_T124.xlsx\")\n",
    "print(df_b.shape)\n",
    "\n",
    "df_a_gba = df_a[df_a[\"region\"] == \"Gran Buenos Aires\"]\n",
    "df_b_gba = df_b[df_b[\"REGION\"] == \"Gran Buenos Aires\"]\n",
    "\n",
    "df = pd.concat([df_a_gba, df_b_gba])\n",
    "print(df.shape)"
   ]
  },
  {
   "cell_type": "code",
   "execution_count": 15,
   "id": "f940859c-0b18-4448-8f1d-53020b461f3d",
   "metadata": {},
   "outputs": [
    {
     "name": "stdout",
     "output_type": "stream",
     "text": [
      "CAT_INAC      0.000000\n",
      "CAT_OCUP      0.000000\n",
      "REGION        0.000000\n",
      "ANO4          0.000000\n",
      "TRIMESTRE     0.000000\n",
      "H15           0.000000\n",
      "PP02I         0.000000\n",
      "ESTADO        0.000000\n",
      "CH15          0.000000\n",
      "CH14         50.495114\n",
      "CH09          0.000000\n",
      "CH06          0.000000\n",
      "CH03          0.000000\n",
      "CH04          0.000000\n",
      "PP02H         0.000000\n",
      "dtype: float64\n"
     ]
    }
   ],
   "source": [
    "variables_2024= ['CAT_INAC' , 'CAT_OCUP','REGION', 'ANO4', 'TRIMESTRE', 'H15', 'PP02I',\n",
    "                 'ESTADO', 'CH15', 'CH14', 'CH09', 'CH06', 'CH03', 'CH04', 'PP02H']\n",
    "porcentaje_nan = df_b[variables_2024].isna().mean()* 100\n",
    "print(porcentaje_nan)"
   ]
  },
  {
   "cell_type": "code",
   "execution_count": 17,
   "id": "c263d5be-9c0e-409c-81c8-04dd0e0fa2aa",
   "metadata": {},
   "outputs": [
    {
     "name": "stdout",
     "output_type": "stream",
     "text": [
      "cat_inac     0.0\n",
      "cat_ocup     0.0\n",
      "region       0.0\n",
      "ano4         0.0\n",
      "trimestre    0.0\n",
      "h15          0.0\n",
      "pp02i        0.0\n",
      "estado       0.0\n",
      "ch15         0.0\n",
      "ch14         0.0\n",
      "ch09         0.0\n",
      "ch06         0.0\n",
      "ch03         0.0\n",
      "ch04         0.0\n",
      "pp02h        0.0\n",
      "dtype: float64\n"
     ]
    }
   ],
   "source": [
    "variables_2004=['cat_inac', 'cat_ocup', 'region','ano4', 'trimestre', 'h15',\n",
    " 'pp02i', 'estado', 'ch15', 'ch14', 'ch09', 'ch06', 'ch03', 'ch04', 'pp02h']\n",
    "porcentaje_nan = df_a[variables_2004].isna().mean()* 100\n",
    "print(porcentaje_nan)"
   ]
  },
  {
   "cell_type": "code",
   "execution_count": 19,
   "id": "cdb9e880-f71c-4b55-9a7b-bae0a77a4f16",
   "metadata": {},
   "outputs": [],
   "source": [
    "#Homogwnizacion de variables\n",
    "df_2004.columns = df_2004.columns.str.upper()\n",
    "df_2024.columns = df_2024.columns.str.upper()"
   ]
  },
  {
   "cell_type": "code",
   "execution_count": 21,
   "id": "08bc7f32-1c8f-4283-9866-5e2faf518435",
   "metadata": {},
   "outputs": [],
   "source": [
    "variables_comunes = ['CAT_INAC', 'CAT_OCUP','REGION', 'ANO4', 'TRIMESTRE', 'H15',\n",
    "                     'PP02I', 'ESTADO', 'CH15', 'CH14', 'CH09', 'CH06', 'CH03', 'CH04', 'PP02H']"
   ]
  },
  {
   "cell_type": "code",
   "execution_count": 23,
   "id": "523eb42c-1160-4665-af1d-bf9f68caced4",
   "metadata": {},
   "outputs": [
    {
     "name": "stdout",
     "output_type": "stream",
     "text": [
      "2004: ['Varón', 'Mujer']\n",
      "Categories (2, object): ['Varón' < 'Mujer']\n",
      "2024: [2 1]\n"
     ]
    }
   ],
   "source": [
    "#Variable CH04\n",
    "print(\"2004:\", df_2004['CH04'].unique())\n",
    "print(\"2024:\", df_2024['CH04'].unique())"
   ]
  },
  {
   "cell_type": "code",
   "execution_count": 31,
   "id": "56b0dfb1-c46a-4a26-a95a-a13c76c01f16",
   "metadata": {},
   "outputs": [
    {
     "name": "stdout",
     "output_type": "stream",
     "text": [
      "[1 2]\n"
     ]
    }
   ],
   "source": [
    "df_2004['CH04'] = df_2004['CH04'].replace({'Varón': 1, 'Mujer': 2}).astype(int)\n",
    "print(df_2004['CH04'].unique())"
   ]
  },
  {
   "cell_type": "code",
   "execution_count": 33,
   "id": "ce579c52-c916-4c26-89e4-57ecc1457b09",
   "metadata": {},
   "outputs": [
    {
     "name": "stdout",
     "output_type": "stream",
     "text": [
      "2004: ['Jefe', 'Cónyuge/Pareja', 'Hijo/Hijastro', 'Madre/Padre', 'Otros familiares', 'Hermano', 'Suegro', 'Nieto', 'No familiares', 'Yerno/Nuera']\n",
      "Categories (10, object): ['Jefe' < 'Cónyuge/Pareja' < 'Hijo/Hijastro' < 'Yerno/Nuera' ... 'Suegro' < 'Hermano' < 'Otros familiares' < 'No familiares']\n",
      "2024: [ 3  5  1  2 10  4  6  8  7  9]\n"
     ]
    }
   ],
   "source": [
    "#Variable Ch03\n",
    "print(\"2004:\", df_2004[ 'CH03'].unique())\n",
    "print(\"2024:\", df_2024[ 'CH03'].unique())"
   ]
  },
  {
   "cell_type": "code",
   "execution_count": 37,
   "id": "4d7669d5-b986-42bd-9de9-7f947b83d2c5",
   "metadata": {},
   "outputs": [
    {
     "name": "stdout",
     "output_type": "stream",
     "text": [
      "2004: [3, 5, 1, 2, 10, 4, 6, 8, 7, 9]\n",
      "Categories (10, int64): [3 < 5 < 1 < 9 ... 6 < 4 < 10 < 7]\n",
      "2024: [ 3  5  1  2 10  4  6  8  7  9]\n"
     ]
    }
   ],
   "source": [
    "mapa_ch03_2004_2024 = {\n",
    "    'Jefe': 3,\n",
    "    'Cónyuge/Pareja': 5,\n",
    "    'Hijo/Hijastro': 1,\n",
    "    'Madre/Padre': 2,\n",
    "    'Otros familiares': 10,\n",
    "    'Hermano': 4,\n",
    "    'Suegro': 6,\n",
    "    'Nieto': 8,\n",
    "    'No familiares': 7,\n",
    "    'Yerno/Nuera': 9\n",
    "}\n",
    "df_2004['CH03'] = df_2004['CH03'].replace(mapa_ch03_2004_2024)\n",
    "print(\"2004:\", df_2004['CH03'].unique())\n",
    "print(\"2024:\", df_2024['CH03'].unique())"
   ]
  },
  {
   "cell_type": "code",
   "execution_count": 44,
   "id": "6773a0a2-686f-4ba6-8546-79b6f3eecc76",
   "metadata": {},
   "outputs": [
    {
     "name": "stdout",
     "output_type": "stream",
     "text": [
      "2004: ['No', 'Sí']\n",
      "Categories (2, object): ['Sí' < 'No']\n",
      "2024: ['No' 'Sí']\n"
     ]
    }
   ],
   "source": [
    "#Variable PP02H\n",
    "\n",
    "print(\"2004:\", df_2004[ 'PP02H'].unique())\n",
    "print(\"2024:\", df_2024[ 'PP02H'].unique())"
   ]
  },
  {
   "cell_type": "code",
   "execution_count": 46,
   "id": "85962127-042d-4f35-9ba3-bceed102b20b",
   "metadata": {},
   "outputs": [
    {
     "name": "stdout",
     "output_type": "stream",
     "text": [
      "Valores 2004: ['No', 'Sí']\n",
      "Categories (2, object): ['Sí' < 'No']\n",
      "Valores 2024: ['No' 'Sí']\n"
     ]
    }
   ],
   "source": [
    "df_2004['PP02H'] = df_2004['PP02H'].replace({0.0: 'No'})\n",
    "df_2024['PP02H'] = df_2024['PP02H'].replace({0: 'No', 2: 'Sí', 1: 'Sí'})\n",
    "print(\"Valores 2004:\", df_2004['PP02H'].unique())\n",
    "print(\"Valores 2024:\", df_2024['PP02H'].unique())"
   ]
  },
  {
   "cell_type": "code",
   "execution_count": 48,
   "id": "d63fe339-4fad-4182-b472-b175b2801548",
   "metadata": {},
   "outputs": [
    {
     "name": "stdout",
     "output_type": "stream",
     "text": [
      "2004: ['Sí', 'No', 'Menor de 2 años', 'Ns./Nr.']\n",
      "Categories (4, object): ['Sí' < 'No' < 'Menor de 2 años' < 'Ns./Nr.']\n",
      "2024: [1 2 3 9]\n"
     ]
    }
   ],
   "source": [
    "#Variable CH09 \n",
    "print(\"2004:\", df_2004['CH09'].unique())\n",
    "print(\"2024:\", df_2024['CH09'].unique())"
   ]
  },
  {
   "cell_type": "code",
   "execution_count": 50,
   "id": "4620e841-29dc-487a-9435-6227b56c7f7d",
   "metadata": {},
   "outputs": [
    {
     "name": "stdout",
     "output_type": "stream",
     "text": [
      "CH09 - 2004: ['Sí' 'No' 'Menor de 2 años' 'Ns./Nr.']\n",
      "CH09 - 2024: ['Sí' 'No' 'Menor de 2 años' 'Ns./Nr.']\n"
     ]
    }
   ],
   "source": [
    "mapa_ch09 = {\n",
    "    1: 'Sí',\n",
    "    2: 'No',\n",
    "    3: 'Menor de 2 años',\n",
    "    9: 'Ns./Nr.'\n",
    "}\n",
    "df_2024['CH09'] = df_2024['CH09'].replace(mapa_ch09)\n",
    "df_2004['CH09'] = df_2004['CH09'].astype(str)\n",
    "df_2024['CH09'] = df_2024['CH09'].astype(str)\n",
    "\n",
    "print(\"CH09 - 2004:\", df_2004['CH09'].unique())\n",
    "print(\"CH09 - 2024:\", df_2024['CH09'].unique())"
   ]
  },
  {
   "cell_type": "code",
   "execution_count": 56,
   "id": "19869955-2df3-4b4d-af62-11e091e9768c",
   "metadata": {},
   "outputs": [
    {
     "name": "stdout",
     "output_type": "stream",
     "text": [
      "2004: ['Inactivo' 'Ocupado' 'Desocupado' 'Menor de 10 años'\n",
      " 'Entrevista individual no realizada (no respuesta al cuestion']\n",
      "2024: ['1' '3' '4' '2' '0']\n"
     ]
    }
   ],
   "source": [
    "#Variable ESTADO\n",
    "print(\"2004:\", df_2004['ESTADO'].unique())\n",
    "print(\"2024:\", df_2024['ESTADO'].unique())"
   ]
  },
  {
   "cell_type": "code",
   "execution_count": 54,
   "id": "022bcdca-5180-4e89-b69e-b9c5ef9ee0ff",
   "metadata": {},
   "outputs": [
    {
     "name": "stdout",
     "output_type": "stream",
     "text": [
      "ESTADO - 2004: ['Inactivo' 'Ocupado' 'Desocupado' 'Menor de 10 años'\n",
      " 'Entrevista individual no realizada (no respuesta al cuestion']\n",
      "ESTADO - 2024: ['1' '3' '4' '2' '0']\n"
     ]
    }
   ],
   "source": [
    "mapa_ESTADO = {\n",
    "   'Inactivo'  : 2,\n",
    "  'Ocupado': 3,\n",
    "     'Desocupado': 4,\n",
    "     'Menor de 10 años' :1,\n",
    "    'Entrevista individual no realizada(no respuesta al cuestionario)' :0,\n",
    "}\n",
    "\n",
    "df_2024['ESTADO'] = df_2024['ESTADO'].replace(mapa_ESTADO)\n",
    "\n",
    "df_2004['ESTADO'] = df_2004['ESTADO'].astype(str)\n",
    "df_2024['ESTADO'] = df_2024['ESTADO'].astype(str)\n",
    "print(\"ESTADO - 2004:\", df_2004['ESTADO'].unique())\n",
    "print(\"ESTADO - 2024:\", df_2024['ESTADO'].unique())"
   ]
  },
  {
   "cell_type": "code",
   "execution_count": 58,
   "id": "41eb056a-8d9f-40ea-bbcd-3062da29aaac",
   "metadata": {},
   "outputs": [
    {
     "name": "stdout",
     "output_type": "stream",
     "text": [
      "2004: ['No', 0.0, 'Sí']\n",
      "Categories (3, object): [0.0 < 'Sí' < 'No']\n",
      "2024: [0 2 1]\n"
     ]
    }
   ],
   "source": [
    "#Variable PP02I\n",
    "print(\"2004:\", df_2004['PP02I'].unique())\n",
    "print(\"2024:\", df_2024[ 'PP02I'].unique())"
   ]
  },
  {
   "cell_type": "code",
   "execution_count": 62,
   "id": "5e3f2bed-f2b4-468d-8355-4a48aa418e9f",
   "metadata": {},
   "outputs": [
    {
     "name": "stdout",
     "output_type": "stream",
     "text": [
      "Valores 2004: ['No', 'Sí']\n",
      "Categories (2, object): ['Sí' < 'No']\n",
      "Valores 2024: ['No' 'Sí']\n"
     ]
    }
   ],
   "source": [
    "df_2004['PP02I'] = df_2004['PP02I'].replace({0.0: 'No'})\n",
    "df_2024['PP02I'] = df_2024['PP02I'].replace({0: 'No', 2: 'Sí', 1: 'Sí'})\n",
    "\n",
    "print(\"Valores 2004:\", df_2004['PP02I'].unique())\n",
    "print(\"Valores 2024:\", df_2024['PP02I'].unique())"
   ]
  },
  {
   "cell_type": "code",
   "execution_count": 64,
   "id": "f74d7306-d876-4ed5-b007-9a22d64fe265",
   "metadata": {},
   "outputs": [
    {
     "name": "stdout",
     "output_type": "stream",
     "text": [
      "2004: ['Sí', 0.0, 'No']\n",
      "Categories (3, object): [0.0 < 'Sí' < 'No']\n",
      "2024: [1 0 2]\n"
     ]
    }
   ],
   "source": [
    "#Variable H15\n",
    "print(\"2004:\", df_2004['H15'].unique())\n",
    "print(\"2024:\", df_2024[ 'H15'].unique())"
   ]
  },
  {
   "cell_type": "code",
   "execution_count": 68,
   "id": "5afe7122-5e15-4e17-afaa-bc86fb673751",
   "metadata": {},
   "outputs": [
    {
     "name": "stdout",
     "output_type": "stream",
     "text": [
      "H15 - 2004: <IntegerArray>\n",
      "[1, 0, 2]\n",
      "Length: 3, dtype: Int64\n",
      "H15 - 2024: <IntegerArray>\n",
      "[1, 0, 2]\n",
      "Length: 3, dtype: Int64\n"
     ]
    }
   ],
   "source": [
    "mapa_2004_h15 = {\n",
    "    'Sí': 1,\n",
    "    'No': 2,\n",
    "    0.0: 0  }\n",
    "mapa_2024_h15 = {\n",
    "    1: 1,\n",
    "    2: 2,\n",
    "    0: 0}\n",
    "df_2004['H15'] = df_2004['H15'].replace(mapa_2004_h15)\n",
    "df_2024['H15'] = df_2024['H15'].replace(mapa_2024_h15)\n",
    "df_2004['H15'] = df_2004['H15'].astype('Int64')\n",
    "df_2024['H15'] = df_2024['H15'].astype('Int64')\n",
    "print(\"H15 - 2004:\", df_2004['H15'].unique())\n",
    "print(\"H15 - 2024:\", df_2024['H15'].unique())"
   ]
  },
  {
   "cell_type": "code",
   "execution_count": 70,
   "id": "cfcd4a11-bc4b-41b9-afd3-7d8194ee3525",
   "metadata": {},
   "outputs": [
    {
     "name": "stdout",
     "output_type": "stream",
     "text": [
      "2004: ['1er. Trimestre']\n",
      "Categories (1, object): ['1er. Trimestre']\n",
      "2024: [1]\n"
     ]
    }
   ],
   "source": [
    "#Variable TRIMESTRE \n",
    "print(\"2004:\", df_2004[ 'TRIMESTRE'].unique())\n",
    "print(\"2024:\", df_2024[ 'TRIMESTRE'].unique())"
   ]
  },
  {
   "cell_type": "code",
   "execution_count": 74,
   "id": "569f05ca-fbfe-4039-abdd-e5fcdebe17f5",
   "metadata": {},
   "outputs": [
    {
     "name": "stdout",
     "output_type": "stream",
     "text": [
      "TRIMESTRE - 2004: [1]\n",
      "TRIMESTRE - 2024: [1]\n"
     ]
    }
   ],
   "source": [
    "mapa_trimestre = { '1er. Trimestre': 1}\n",
    "df_2004['TRIMESTRE'] = df_2004['TRIMESTRE'].replace(mapa_trimestre)\n",
    "df_2004['TRIMESTRE'] = df_2004['TRIMESTRE'].astype(int)\n",
    "df_2024['TRIMESTRE'] = df_2024['TRIMESTRE'].astype(int)\n",
    "\n",
    "print(\"TRIMESTRE - 2004:\", df_2004['TRIMESTRE'].unique())\n",
    "print(\"TRIMESTRE - 2024:\", df_2024['TRIMESTRE'].unique())"
   ]
  },
  {
   "cell_type": "code",
   "execution_count": 76,
   "id": "6a721c20-06f8-45e6-8237-4862711c6d2b",
   "metadata": {},
   "outputs": [
    {
     "name": "stdout",
     "output_type": "stream",
     "text": [
      "2004: [2004.]\n",
      "2024: [2024]\n"
     ]
    }
   ],
   "source": [
    "#Variable ANO4\n",
    "print(\"2004:\", df_2004[ 'ANO4'].unique())\n",
    "print(\"2024:\", df_2024[ 'ANO4'].unique())"
   ]
  },
  {
   "cell_type": "code",
   "execution_count": 78,
   "id": "3be85e87-e851-427e-8c9b-a44935dc0a4e",
   "metadata": {},
   "outputs": [
    {
     "name": "stdout",
     "output_type": "stream",
     "text": [
      "2004: ['Gran Buenos Aires', 'NOA', 'NEA', 'Cuyo', 'Pampeana', 'Patagónica']\n",
      "Categories (6, object): ['Gran Buenos Aires' < 'NOA' < 'NEA' < 'Cuyo' < 'Pampeana' < 'Patagónica']\n",
      "2024: [42 41 40 43 44  1]\n"
     ]
    }
   ],
   "source": [
    "#Variable REGION\n",
    "print(\"2004:\", df_2004[  'REGION'].unique())\n",
    "print(\"2024:\", df_2024[  'REGION'].unique())"
   ]
  },
  {
   "cell_type": "code",
   "execution_count": 80,
   "id": "7c9a4afe-360b-405e-b09c-4764ef2f38f8",
   "metadata": {},
   "outputs": [
    {
     "name": "stdout",
     "output_type": "stream",
     "text": [
      "REGION - 2004: ['Gran Buenos Aires', 'NOA', 'NEA', 'Cuyo', 'Pampeana', 'Patagónica']\n",
      "Categories (6, object): ['Gran Buenos Aires' < 'NOA' < 'NEA' < 'Cuyo' < 'Pampeana' < 'Patagónica']\n",
      "REGION - 2024: ['Gran Buenos Aires' 'NOA' 'NEA' 'Cuyo' 'Pampeana' 'Patagónica']\n"
     ]
    }
   ],
   "source": [
    "mapa_region = {\n",
    "    42: 'Gran Buenos Aires',\n",
    "    41: 'NOA',\n",
    "    40: 'NEA',\n",
    "    43: 'Cuyo',\n",
    "    44: 'Pampeana',\n",
    "    1: 'Patagónica',}\n",
    "df_2024['REGION'] = df_2024['REGION'].replace(mapa_region)\n",
    "print(\"REGION - 2004:\", df_2004['REGION'].unique())\n",
    "print(\"REGION - 2024:\", df_2024['REGION'].unique())"
   ]
  },
  {
   "cell_type": "code",
   "execution_count": 82,
   "id": "0f127223-57b7-47d2-9ca7-90559ebe229e",
   "metadata": {},
   "outputs": [
    {
     "name": "stdout",
     "output_type": "stream",
     "text": [
      "2004: [0.0, 'Cuenta propia', 'Trabajador familiar sin remuneración', 'Obrero o empleado', 'Patrón']\n",
      "Categories (5, object): [0.0 < 'Patrón' < 'Cuenta propia' < 'Obrero o empleado' < 'Trabajador familiar sin remuneración']\n",
      "2024: [3 0 2 1 4]\n"
     ]
    }
   ],
   "source": [
    "#Variable CAT_OCUP\n",
    "print(\"2004:\", df_2004[   'CAT_OCUP'].unique())\n",
    "print(\"2024:\", df_2024[   'CAT_OCUP'].unique())"
   ]
  },
  {
   "cell_type": "code",
   "execution_count": 84,
   "id": "69694529-5bcc-49d0-897d-623ce9120a8c",
   "metadata": {},
   "outputs": [
    {
     "name": "stdout",
     "output_type": "stream",
     "text": [
      "CAT_OCUP - 2004: [0.0, 'Cuenta propia', 'Trabajador familiar sin remuneración', 'Obrero o empleado', 'Patrón']\n",
      "Categories (5, object): [0.0 < 'Patrón' < 'Cuenta propia' < 'Obrero o empleado' < 'Trabajador familiar sin remuneración']\n",
      "CAT_OCUP - 2024: [3 0 2 1 4]\n"
     ]
    }
   ],
   "source": [
    "mapa_cat_ocup = {\n",
    "3: '0.0',\n",
    "0: 'Cuenta propia',\n",
    "2: 'Trabajador familiar sin remuneración',\n",
    "1: 'Obrero o empleado',\n",
    "4: 'Patrón',\n",
    "}\n",
    "# Verificamos los resultados\n",
    "print(\"CAT_OCUP - 2004:\", df_2004['CAT_OCUP'].unique())\n",
    "print(\"CAT_OCUP - 2024:\", df_2024['CAT_OCUP'].unique())"
   ]
  },
  {
   "cell_type": "code",
   "execution_count": 86,
   "id": "907bd54c-a63c-46cd-b268-b4fd2a324f9e",
   "metadata": {},
   "outputs": [
    {
     "name": "stdout",
     "output_type": "stream",
     "text": [
      "2004: ['Jubilado/pensionado', 0.0, 'Ama de casa', 'Estudiante', 'Menor de 6 años', 'Rentista', 'Otros', 'Discapacitado']\n",
      "Categories (8, object): [0.0 < 'Jubilado/pensionado' < 'Rentista' < 'Estudiante' < 'Ama de casa' < 'Menor de 6 años' < 'Discapacitado' < 'Otros']\n",
      "2024: [0 4 5 1 3 7 2 6]\n"
     ]
    }
   ],
   "source": [
    "#Variable CAT_INAC\n",
    "print(\"2004:\", df_2004[   'CAT_INAC'].unique())\n",
    "print(\"2024:\", df_2024[    'CAT_INAC'].unique())"
   ]
  },
  {
   "cell_type": "code",
   "execution_count": 88,
   "id": "493447e0-ccc8-431d-9373-1029a243f179",
   "metadata": {},
   "outputs": [
    {
     "name": "stdout",
     "output_type": "stream",
     "text": [
      "CAT_INAC - 2004: ['Jubilado/pensionado', 0.0, 'Ama de casa', 'Estudiante', 'Menor de 6 años', 'Rentista', 'Otros', 'Discapacitado']\n",
      "Categories (8, object): [0.0 < 'Jubilado/pensionado' < 'Rentista' < 'Estudiante' < 'Ama de casa' < 'Menor de 6 años' < 'Discapacitado' < 'Otros']\n",
      "CAT_INAC - 2024: ['Inactivo' 'Ama de casa' 'Menor de 6 años' 'Jubilado/pensionado'\n",
      " 'Estudiante' 'Otros' 'Rentista' 'Discapacitado']\n"
     ]
    }
   ],
   "source": [
    "mapa_cat_inac = {\n",
    "    0: 'Inactivo',\n",
    "      1: 'Jubilado/pensionado',\n",
    "     2: 'Rentista'  ,\n",
    "    3:  'Estudiante',\n",
    "    4:'Ama de casa',\n",
    "    5: 'Menor de 6 años',\n",
    "  6: 'Discapacitado',\n",
    "7: 'Otros',\n",
    "}\n",
    "df_2024['CAT_INAC'] = df_2024['CAT_INAC'].replace(mapa_cat_inac)\n",
    "print(\"CAT_INAC - 2004:\", df_2004['CAT_INAC'].unique())\n",
    "print(\"CAT_INAC - 2024:\", df_2024['CAT_INAC'].unique())"
   ]
  },
  {
   "cell_type": "code",
   "execution_count": 90,
   "id": "75c575cd-4c70-4f81-b28f-846fd295fdbf",
   "metadata": {},
   "outputs": [
    {
     "name": "stdout",
     "output_type": "stream",
     "text": [
      "2004: ['En esta localidad', 'En otra localidad', 'En otra provincia (especificar)', 'En un país limítrofe', 'En otro país', 'Ns./Nr.']\n",
      "Categories (6, object): ['En esta localidad' < 'En otra localidad' < 'En otra provincia (especificar)' < 'En un país limítrofe' < 'En otro país' < 'Ns./Nr.']\n",
      "2024: [1 2 3 4 5 9]\n"
     ]
    }
   ],
   "source": [
    "#Variable CH15\n",
    "print(\"2004:\", df_2004[    'CH15'].unique())\n",
    "print(\"2024:\", df_2024[     'CH15'].unique())"
   ]
  },
  {
   "cell_type": "code",
   "execution_count": 92,
   "id": "2cf348d8-88c6-4f54-a987-6ff2aefc2308",
   "metadata": {},
   "outputs": [
    {
     "name": "stdout",
     "output_type": "stream",
     "text": [
      "2004: ['03' '  ' '04' '02' '01' '06' '00' '05' '07' '09' '99' '08' '98']\n",
      "2024: [ 4.  0. nan  2.  3.  5.  1.  6. 98.  8.  7. 99.  9.]\n"
     ]
    }
   ],
   "source": [
    "#Variable CH14\n",
    "print(\"2004:\", df_2004[     'CH14'].unique())\n",
    "print(\"2024:\", df_2024[     'CH14'].unique())"
   ]
  },
  {
   "cell_type": "code",
   "execution_count": 94,
   "id": "9439edd4-2ab4-45f7-b283-f6d36266287a",
   "metadata": {},
   "outputs": [
    {
     "name": "stdout",
     "output_type": "stream",
     "text": [
      "CH14 - 2004: ['03' '  ' '04' '02' '01' '06' '00' '05' '07' '09' '99' '08' '98']\n",
      "CH14 - 2024: [ 0.  6. nan  2.  4.  1.  3.  5. 98.  8.  7. 99.  9.]\n"
     ]
    }
   ],
   "source": [
    "mapa_ch14 = {\n",
    "    3: 4,\n",
    "    4: 0,\n",
    "    2: 2,\n",
    "    1: 3,\n",
    "    6: 5,\n",
    "    0: 6,\n",
    "    5: 1,\n",
    "    7: 7,\n",
    "    9: 9,\n",
    "    99: 99,\n",
    "    8: 8,\n",
    "    98: 98\n",
    "}\n",
    "df_2004['CH14'] = df_2004['CH14'].replace(mapa_ch14)\n",
    "df_2024['CH14'] = df_2024['CH14'].replace(mapa_ch14)\n",
    "\n",
    "print(\"CH14 - 2004:\", df_2004['CH14'].unique())\n",
    "print(\"CH14 - 2024:\", df_2024['CH14'].unique())"
   ]
  },
  {
   "cell_type": "code",
   "execution_count": 96,
   "id": "76ac118b-396f-41ef-b3cb-f456bae8ce38",
   "metadata": {},
   "outputs": [
    {
     "name": "stdout",
     "output_type": "stream",
     "text": [
      "2004: [79.0, 67.0, 74.0, 54.0, 51.0, ..., 88.0, '98 y más años', 91.0, 97.0, 95.0]\n",
      "Length: 99\n",
      "Categories (99, object): ['Menos de 1 año' < 1.0 < 2.0 < 3.0 ... 95.0 < 96.0 < 97.0 < '98 y más años']\n",
      "2024: [ 44  22   3  54  53  26  25  72  41  43  17  52  24  19  16   5  76  31\n",
      "  23  62  64  35  28  58  78  39  29   1  11  49  65  20  73  57  21  48\n",
      "   8  18   9  51  50  14  12  13  46  15  45   4  40  -1   7   2  32  59\n",
      "  47  42  36   6  55  74  77  37  34  30  63  71  10  91  83  60  79  61\n",
      "  38  82  56  85  87  69  67  27  81  88  84  66  33  68  80  75  86  70\n",
      "  89  95  90  96  93  92  98  99  94 101  97 100]\n"
     ]
    }
   ],
   "source": [
    "#Variable CH06\n",
    "print(\"2004:\", df_2004[     'CH06'].unique())\n",
    "print(\"2024:\", df_2024[     'CH06'].unique())"
   ]
  },
  {
   "cell_type": "code",
   "execution_count": 98,
   "id": "284c570a-e412-493b-8d31-eb2a69624749",
   "metadata": {},
   "outputs": [],
   "source": [
    "columnas_finales = [ 'CAT_INAC' , 'CAT_OCUP','REGION', 'ANO4', 'TRIMESTRE', 'H15', 'PP02I',\n",
    "                 'ESTADO', 'CH15', 'CH14', 'CH09', 'CH06', 'CH03', 'CH04', 'PP02H']"
   ]
  },
  {
   "cell_type": "code",
   "execution_count": 100,
   "id": "1a0e085b-f475-402b-8778-62f3f4353479",
   "metadata": {},
   "outputs": [],
   "source": [
    "df_2004_final = df_2004[columnas_finales].copy()\n",
    "df_2024_final = df_2024[columnas_finales].copy()"
   ]
  },
  {
   "cell_type": "code",
   "execution_count": 102,
   "id": "634802b9-0a02-42a6-b339-7afe7d3fdd38",
   "metadata": {},
   "outputs": [],
   "source": [
    "df_2004_final['AÑO'] = 2004\n",
    "df_2024_final['AÑO'] = 2024"
   ]
  },
  {
   "cell_type": "code",
   "execution_count": 104,
   "id": "edb56cad-5b96-4928-8e79-7b021349d67a",
   "metadata": {},
   "outputs": [],
   "source": [
    "df_final = pd.concat([df_2004_final, df_2024_final], ignore_index=True)"
   ]
  },
  {
   "cell_type": "code",
   "execution_count": 106,
   "id": "487ca581-6af8-42ce-89b7-9ddacbe47177",
   "metadata": {},
   "outputs": [
    {
     "data": {
      "text/html": [
       "<div>\n",
       "<style scoped>\n",
       "    .dataframe tbody tr th:only-of-type {\n",
       "        vertical-align: middle;\n",
       "    }\n",
       "\n",
       "    .dataframe tbody tr th {\n",
       "        vertical-align: top;\n",
       "    }\n",
       "\n",
       "    .dataframe thead th {\n",
       "        text-align: right;\n",
       "    }\n",
       "</style>\n",
       "<table border=\"1\" class=\"dataframe\">\n",
       "  <thead>\n",
       "    <tr style=\"text-align: right;\">\n",
       "      <th></th>\n",
       "      <th>CAT_INAC</th>\n",
       "      <th>CAT_OCUP</th>\n",
       "      <th>REGION</th>\n",
       "      <th>ANO4</th>\n",
       "      <th>TRIMESTRE</th>\n",
       "      <th>H15</th>\n",
       "      <th>PP02I</th>\n",
       "      <th>ESTADO</th>\n",
       "      <th>CH15</th>\n",
       "      <th>CH14</th>\n",
       "      <th>CH09</th>\n",
       "      <th>CH06</th>\n",
       "      <th>CH03</th>\n",
       "      <th>CH04</th>\n",
       "      <th>PP02H</th>\n",
       "      <th>AÑO</th>\n",
       "    </tr>\n",
       "  </thead>\n",
       "  <tbody>\n",
       "    <tr>\n",
       "      <th>0</th>\n",
       "      <td>Jubilado/pensionado</td>\n",
       "      <td>0.0</td>\n",
       "      <td>Gran Buenos Aires</td>\n",
       "      <td>2004.0</td>\n",
       "      <td>1</td>\n",
       "      <td>1</td>\n",
       "      <td>No</td>\n",
       "      <td>Inactivo</td>\n",
       "      <td>En esta localidad</td>\n",
       "      <td>03</td>\n",
       "      <td>Sí</td>\n",
       "      <td>79.0</td>\n",
       "      <td>3</td>\n",
       "      <td>1</td>\n",
       "      <td>No</td>\n",
       "      <td>2004</td>\n",
       "    </tr>\n",
       "    <tr>\n",
       "      <th>1</th>\n",
       "      <td>0.0</td>\n",
       "      <td>Cuenta propia</td>\n",
       "      <td>Gran Buenos Aires</td>\n",
       "      <td>2004.0</td>\n",
       "      <td>1</td>\n",
       "      <td>1</td>\n",
       "      <td>No</td>\n",
       "      <td>Ocupado</td>\n",
       "      <td>En otra localidad</td>\n",
       "      <td></td>\n",
       "      <td>Sí</td>\n",
       "      <td>67.0</td>\n",
       "      <td>3</td>\n",
       "      <td>2</td>\n",
       "      <td>No</td>\n",
       "      <td>2004</td>\n",
       "    </tr>\n",
       "    <tr>\n",
       "      <th>2</th>\n",
       "      <td>Jubilado/pensionado</td>\n",
       "      <td>0.0</td>\n",
       "      <td>Gran Buenos Aires</td>\n",
       "      <td>2004.0</td>\n",
       "      <td>1</td>\n",
       "      <td>1</td>\n",
       "      <td>No</td>\n",
       "      <td>Inactivo</td>\n",
       "      <td>En esta localidad</td>\n",
       "      <td></td>\n",
       "      <td>Sí</td>\n",
       "      <td>74.0</td>\n",
       "      <td>3</td>\n",
       "      <td>2</td>\n",
       "      <td>No</td>\n",
       "      <td>2004</td>\n",
       "    </tr>\n",
       "    <tr>\n",
       "      <th>3</th>\n",
       "      <td>0.0</td>\n",
       "      <td>Cuenta propia</td>\n",
       "      <td>Gran Buenos Aires</td>\n",
       "      <td>2004.0</td>\n",
       "      <td>1</td>\n",
       "      <td>1</td>\n",
       "      <td>No</td>\n",
       "      <td>Ocupado</td>\n",
       "      <td>En esta localidad</td>\n",
       "      <td></td>\n",
       "      <td>Sí</td>\n",
       "      <td>54.0</td>\n",
       "      <td>3</td>\n",
       "      <td>1</td>\n",
       "      <td>No</td>\n",
       "      <td>2004</td>\n",
       "    </tr>\n",
       "    <tr>\n",
       "      <th>4</th>\n",
       "      <td>Ama de casa</td>\n",
       "      <td>0.0</td>\n",
       "      <td>Gran Buenos Aires</td>\n",
       "      <td>2004.0</td>\n",
       "      <td>1</td>\n",
       "      <td>1</td>\n",
       "      <td>No</td>\n",
       "      <td>Inactivo</td>\n",
       "      <td>En esta localidad</td>\n",
       "      <td></td>\n",
       "      <td>Sí</td>\n",
       "      <td>51.0</td>\n",
       "      <td>5</td>\n",
       "      <td>2</td>\n",
       "      <td>No</td>\n",
       "      <td>2004</td>\n",
       "    </tr>\n",
       "  </tbody>\n",
       "</table>\n",
       "</div>"
      ],
      "text/plain": [
       "              CAT_INAC       CAT_OCUP             REGION    ANO4  TRIMESTRE  \\\n",
       "0  Jubilado/pensionado            0.0  Gran Buenos Aires  2004.0          1   \n",
       "1                  0.0  Cuenta propia  Gran Buenos Aires  2004.0          1   \n",
       "2  Jubilado/pensionado            0.0  Gran Buenos Aires  2004.0          1   \n",
       "3                  0.0  Cuenta propia  Gran Buenos Aires  2004.0          1   \n",
       "4          Ama de casa            0.0  Gran Buenos Aires  2004.0          1   \n",
       "\n",
       "   H15 PP02I    ESTADO               CH15 CH14 CH09  CH06  CH03  CH04 PP02H  \\\n",
       "0    1    No  Inactivo  En esta localidad   03   Sí  79.0     3     1    No   \n",
       "1    1    No   Ocupado  En otra localidad        Sí  67.0     3     2    No   \n",
       "2    1    No  Inactivo  En esta localidad        Sí  74.0     3     2    No   \n",
       "3    1    No   Ocupado  En esta localidad        Sí  54.0     3     1    No   \n",
       "4    1    No  Inactivo  En esta localidad        Sí  51.0     5     2    No   \n",
       "\n",
       "    AÑO  \n",
       "0  2004  \n",
       "1  2004  \n",
       "2  2004  \n",
       "3  2004  \n",
       "4  2004  "
      ]
     },
     "execution_count": 106,
     "metadata": {},
     "output_type": "execute_result"
    }
   ],
   "source": [
    "df_final.head()"
   ]
  },
  {
   "cell_type": "code",
   "execution_count": 108,
   "id": "c99d295e-57b4-4c3d-8e50-814540046ecd",
   "metadata": {},
   "outputs": [
    {
     "name": "stdout",
     "output_type": "stream",
     "text": [
      "CAT_INAC      0.00000\n",
      "CAT_OCUP      0.00000\n",
      "REGION        0.00000\n",
      "ANO4          0.00000\n",
      "TRIMESTRE     0.00000\n",
      "H15           0.00000\n",
      "PP02I         0.00000\n",
      "ESTADO        0.00000\n",
      "CH15          0.00000\n",
      "CH14         25.45791\n",
      "CH09          0.00000\n",
      "CH06          0.00000\n",
      "CH03          0.00000\n",
      "CH04          0.00000\n",
      "PP02H         0.00000\n",
      "AÑO           0.00000\n",
      "dtype: float64\n"
     ]
    }
   ],
   "source": [
    "porcentaje_nan = df_final.isna().mean()* 100\n",
    "print(porcentaje_nan)"
   ]
  },
  {
   "cell_type": "code",
   "execution_count": 110,
   "id": "85e38563-a466-4b66-8e01-00523ed39e9b",
   "metadata": {},
   "outputs": [
    {
     "name": "stdout",
     "output_type": "stream",
     "text": [
      "Index(['CODUSU', 'nro_hogar', 'componente', 'h15', 'ano4', 'trimestre',\n",
      "       'region', 'mas_500', 'aglomerado', 'pondera',\n",
      "       ...\n",
      "       'PDECIFR', 'ADECIFR', 'IPCF', 'DECCFR', 'IDECCFR', 'RDECCFR', 'GDECCFR',\n",
      "       'PDECCFR', 'ADECCFR', 'PONDIH'],\n",
      "      dtype='object', length=352)\n"
     ]
    }
   ],
   "source": [
    "df_final.drop(columns=['CH14'], inplace=True)\n",
    "print(df.columns)"
   ]
  },
  {
   "cell_type": "code",
   "execution_count": 179,
   "id": "508bd3c8-2121-418b-b034-829bd4bb0c20",
   "metadata": {},
   "outputs": [],
   "source": [
    "df_final['CH06'] = pd.to_numeric(df_final['CH06'], errors='coerce')\n",
    "\n",
    "# Edad al cuadrado\n",
    "df_final['edad2'] = df_final['CH06'] * 2"
   ]
  },
  {
   "cell_type": "code",
   "execution_count": 309,
   "id": "ea15bbf6-c9db-477f-8d77-a11692f13b7e",
   "metadata": {},
   "outputs": [],
   "source": [
    "#PARTE I - EJERCICIO 5"
   ]
  },
  {
   "cell_type": "code",
   "execution_count": 344,
   "id": "bee235cd-73cf-452c-bb0e-a34d2839c569",
   "metadata": {},
   "outputs": [
    {
     "name": "stdout",
     "output_type": "stream",
     "text": [
      "Tamaño de la base unificada para GBA (sin NaNs): 2467\n"
     ]
    }
   ],
   "source": [
    "# 1. Cargar archivos\n",
    "df_2024 = pd.read_excel(\"usu_individual_T124.xlsx\")\n",
    "df_2004 = pd.read_stata(\"Individual_t104.dta\")\n",
    "\n",
    "# 2. Filtrar por Gran Buenos Aires\n",
    "df_2024 = df_2024[df_2024[\"AGLOMERADO\"] == 33]\n",
    "df_2004 = df_2004[df_2004[\"aglomerado\"] == 33]\n",
    "\n",
    "# 3. Renombrar columnas clave\n",
    "vars_2024 = {\n",
    "    'CH06': 'edad',\n",
    "    'NIVEL_ED': 'educ',\n",
    "    'P21': 'salario_semanal',\n",
    "    'PP3E_TOT': 'horastrab'\n",
    "}\n",
    "vars_2004 = {\n",
    "    'ch06': 'edad',\n",
    "    'nivel_ed': 'educ',\n",
    "    'p21': 'salario_semanal',\n",
    "    'pp3e_tot': 'horastrab'\n",
    "}\n",
    "df_2024 = df_2024[list(vars_2024)].rename(columns=vars_2024)\n",
    "df_2004 = df_2004[list(vars_2004)].rename(columns=vars_2004)\n",
    "\n",
    "# 4. Convertir a numérico y limpiar\n",
    "for df in [df_2024, df_2004]:\n",
    "    for col in ['edad', 'educ', 'salario_semanal', 'horastrab']:\n",
    "        df[col] = pd.to_numeric(df[col], errors='coerce')\n",
    "    df['edad2'] = df['edad'] ** 2\n",
    "    df.dropna(subset=['edad', 'edad2', 'educ', 'salario_semanal', 'horastrab'], inplace=True)\n",
    "\n",
    "# 5. Unir ambas bases\n",
    "df_unificado = pd.concat([df_2024, df_2004], ignore_index=True)\n",
    "\n",
    "# 6. Mostrar tamaño final\n",
    "print(\"Tamaño de la base unificada para GBA (sin NaNs):\", df_unificado.shape[0])"
   ]
  },
  {
   "cell_type": "code",
   "execution_count": 356,
   "id": "88324b79-7363-45ac-a794-625ff25e431f",
   "metadata": {},
   "outputs": [
    {
     "name": "stdout",
     "output_type": "stream",
     "text": [
      "                                                    2004  2024  Total\n",
      "Cantidad observaciones                                 0  5629   5629\n",
      "Cantidad de observaciones con Nas en la variabl...     0     0      0\n",
      "Cantidad de Ocupados                                   0     0      0\n",
      "Cantidad de Desocupados                                0     0      0\n",
      "Cantidad de variables limpias y homogeneizadas         6     6      6\n"
     ]
    }
   ],
   "source": [
    "import pandas as pd\n",
    "\n",
    "# Cargar archivos\n",
    "df_2024 = pd.read_excel(\"usu_individual_T124.xlsx\")\n",
    "df_2004 = pd.read_stata(\"Individual_t104.dta\")\n",
    "\n",
    "# Filtrar por región Gran Buenos Aires\n",
    "df_2024_gba = df_2024[df_2024[\"AGLOMERADO\"] == 33].copy()\n",
    "df_2004_gba = df_2004[df_2004[\"aglomerado\"] == 33].copy()\n",
    "\n",
    "# Homogeneizar la columna \"estado\"\n",
    "# 2024 usa \"ESTADO\", 2004 ya tiene \"estado\"\n",
    "df_2024_gba[\"estado\"] = df_2024_gba[\"ESTADO\"].astype(str).str.strip().str.capitalize()\n",
    "df_2004_gba[\"estado\"] = df_2004_gba[\"estado\"].astype(str).str.strip().str.capitalize()\n",
    "\n",
    "# En la EPH, estado suele codificarse como:\n",
    "# 1 = Ocupado, 2 = Desocupado, 3+ = Inactivo u otros\n",
    "\n",
    "estado_map = {\n",
    "    1: \"Ocupado\",\n",
    "    2: \"Desocupado\"\n",
    "}\n",
    "# Convertimos\n",
    "df_2004_gba[\"estado\"] = df_2004_gba[\"estado\"].astype(float).map(estado_map)\n",
    "\n",
    "# Función para calcular los totales\n",
    "def resumen_estado(df):\n",
    "    total = len(df)\n",
    "    nulos = df[\"estado\"].isna().sum()\n",
    "    ocupados = (df[\"estado\"] == \"Ocupado\").sum()\n",
    "    desocupados = (df[\"estado\"] == \"Desocupado\").sum()\n",
    "    return total, nulos, ocupados, desocupados\n",
    "\n",
    "# Aplicar por año\n",
    "res_2004 = resumen_estado(df_2004_gba)\n",
    "res_2024 = resumen_estado(df_2024_gba)\n",
    "res_total = tuple(res_2004[i] + res_2024[i] for i in range(4))\n",
    "\n",
    "# Número de variables limpias y homogeneizadas\n",
    "variables_limpias = 6  # edad, edad2, educ, salario_semanal, horastrab, estado\n",
    "\n",
    "# Armar tabla como diccionario\n",
    "tabla = {\n",
    "    \"2004\": list(res_2004) + [variables_limpias],\n",
    "    \"2024\": list(res_2024) + [variables_limpias],\n",
    "    \"Total\": list(res_total) + [variables_limpias]\n",
    "}\n",
    "\n",
    "# Convertir a DataFrame\n",
    "tabla_df = pd.DataFrame(tabla, index=[\n",
    "    \"Cantidad observaciones\",\n",
    "    \"Cantidad de observaciones con Nas en la variable “Estado”\",\n",
    "    \"Cantidad de Ocupados\",\n",
    "    \"Cantidad de Desocupados\",\n",
    "    \"Cantidad de variables limpias y homogeneizadas\"\n",
    "])\n",
    "\n",
    "# Mostrar resultado\n",
    "print(tabla_df)"
   ]
  },
  {
   "cell_type": "code",
   "execution_count": 311,
   "id": "ddd313e0-761c-40ee-a268-75db91d0fe25",
   "metadata": {},
   "outputs": [],
   "source": [
    "#PARTE II - EJERCICIO 1"
   ]
  },
  {
   "cell_type": "code",
   "execution_count": 220,
   "id": "47294d55-ab8c-4054-9cea-e162d763f36c",
   "metadata": {},
   "outputs": [
    {
     "name": "stdout",
     "output_type": "stream",
     "text": [
      "Faltan columnas en 2024: ['EDAD2', 'HS_TRAB_SEMANA']\n",
      "Faltan columnas en 2004: ['CH06', 'EDAD2', 'NIVEL_ED', 'P21', 'HS_TRAB_SEMANA']\n"
     ]
    }
   ],
   "source": [
    "# Matriz de correlaciones\n",
    "import pandas as pd\n",
    "import seaborn as sns\n",
    "import matplotlib.pyplot as plt\n",
    "\n",
    "# Cargar archivos\n",
    "df_2024 = pd.read_excel(\"usu_individual_T124.xlsx\")\n",
    "df_2004 = pd.read_stata(\"Individual_t104.dta\")\n",
    "\n",
    "# Filtrar por GBA\n",
    "df_2004_gba = df_2004[df_2004[\"region\"] == \"Gran Buenos Aires\"]\n",
    "df_2024_gba = df_2024[df_2024[\"REGION\"] == \"Gran Buenos Aires\"]\n",
    "\n",
    "# Variables que usaremos\n",
    "variables = {\n",
    "    'CH06': 'edad',\n",
    "    'EDAD2': 'edad2',\n",
    "    'NIVEL_ED': 'educ',\n",
    "    'P21': 'salario_semanal',\n",
    "    'HS_TRAB_SEMANA': 'horastrab'\n",
    "}\n",
    "\n",
    "# Verificar que todas las columnas existan\n",
    "missing_2024 = [col for col in variables.keys() if col not in df_2024_gba.columns]\n",
    "missing_2004 = [col for col in variables.keys() if col not in df_2004_gba.columns]\n",
    "\n",
    "print(\"Faltan columnas en 2024:\", missing_2024)\n",
    "print(\"Faltan columnas en 2004:\", missing_2004)"
   ]
  },
  {
   "cell_type": "code",
   "execution_count": 317,
   "id": "e930b8a9-80b3-4aeb-a9e6-fa19168f08c6",
   "metadata": {},
   "outputs": [],
   "source": [
    "# Concatenar las bases ya renombradas\n",
    "df_combinado = pd.concat([df_2024_gba, df_2004_gba], ignore_index=True)"
   ]
  },
  {
   "cell_type": "code",
   "execution_count": 316,
   "id": "9e490ae2-bcd7-44b6-8220-442a20da7f92",
   "metadata": {},
   "outputs": [],
   "source": [
    "# Cargar y filtrar por GBA\n",
    "\n",
    "df_2024 = pd.read_excel(\"usu_individual_T124.xlsx\")\n",
    "df_2004 = pd.read_stata(\"Individual_t104.dta\")\n",
    "\n",
    "df_2004_gba = df_2004[df_2004[\"region\"] == \"Gran Buenos Aires\"]\n",
    "df_2024_gba = df_2024[df_2024[\"REGION\"] == \"Gran Buenos Aires\"]\n",
    "\n",
    "# Renombrar columnas\n",
    "\n",
    "df_2024_gba = df_2024_gba[list(variables_2024.keys())].rename(columns=variables_2024)\n",
    "df_2004_gba = df_2004_gba[list(variables_2004.keys())].rename(columns=variables_2004)"
   ]
  },
  {
   "cell_type": "code",
   "execution_count": 318,
   "id": "9a8292f9-5821-4bfd-9476-41191071206f",
   "metadata": {},
   "outputs": [],
   "source": [
    "# Asegurar que todas las columnas son numéricas y crear edad^2\n",
    "\n",
    "columnas_pca = ['edad', 'educ', 'salario_semanal', 'horastrab']\n",
    "\n",
    "for df in [df_2024_gba, df_2004_gba]:\n",
    "    for col in columnas_pca:\n",
    "        df[col] = pd.to_numeric(df[col], errors='coerce')\n",
    "    df['edad2'] = df['edad'] ** 2\n",
    "\n",
    "# Eliminar filas con NaN solo en las columnas necesarias\n",
    "columnas_pca_con_edad2 = columnas_pca + ['edad2']\n",
    "df_2024_gba = df_2024_gba.dropna(subset=columnas_pca_con_edad2)\n",
    "df_2004_gba = df_2004_gba.dropna(subset=columnas_pca_con_edad2)\n"
   ]
  },
  {
   "cell_type": "code",
   "execution_count": 307,
   "id": "1f6e78e4-99a8-413c-8dc9-83775405edd4",
   "metadata": {},
   "outputs": [
    {
     "data": {
      "image/png": "[encoded data removed]",
      "text/plain": [
       "<Figure size 600x500 with 2 Axes>"
      ]
     },
     "metadata": {},
     "output_type": "display_data"
    }
   ],
   "source": [
    "# Creando el gráfico\n",
    "import seaborn as sns\n",
    "import matplotlib.pyplot as plt\n",
    "\n",
    "variables = ['edad', 'edad2', 'educ', 'salario_semanal', 'horastrab']\n",
    "df_variables = df_combinado[variables]\n",
    "matriz_corr = df_variables.corr()\n",
    "\n",
    "# Gráfico\n",
    "plt.figure(figsize=(6, 5))\n",
    "sns.heatmap(matriz_corr, annot=True, cmap='coolwarm')\n",
    "plt.title(\"Matriz de correlación\")\n",
    "plt.show()"
   ]
  },
  {
   "cell_type": "code",
   "execution_count": 322,
   "id": "daa25dc1-accf-4532-bd92-0b887cdfe0db",
   "metadata": {},
   "outputs": [],
   "source": [
    "# PARTE II- EJERCICIO 2"
   ]
  },
  {
   "cell_type": "code",
   "execution_count": 335,
   "id": "c128b0a7-e7e3-402d-b789-ee2a1bb3e949",
   "metadata": {},
   "outputs": [
    {
     "name": "stdout",
     "output_type": "stream",
     "text": [
      "Cargas (loadings) de cada variable en los primeros dos componentes:\n",
      "                      PC1       PC2\n",
      "edad             0.701821  0.044171\n",
      "edad2            0.702261  0.026882\n",
      "educ            -0.107917  0.687892\n",
      "salario_semanal  0.030276  0.721414\n",
      "horastrab       -0.041405 -0.060770\n"
     ]
    },
    {
     "data": {
      "image/png": "[encoded data removed]",
      "text/plain": [
       "<Figure size 640x480 with 1 Axes>"
      ]
     },
     "metadata": {},
     "output_type": "display_data"
    }
   ],
   "source": [
    "import pandas as pd\n",
    "from sklearn.preprocessing import StandardScaler\n",
    "from sklearn.decomposition import PCA\n",
    "import matplotlib.pyplot as plt\n",
    "\n",
    "# Eliminar filas con NaN en las variables necesarias\n",
    "cols = ['edad', 'edad2', 'educ', 'salario_semanal', 'horastrab']\n",
    "df_2024 = df_2024.dropna(subset=cols)\n",
    "df_2004 = df_2004.dropna(subset=cols)\n",
    "\n",
    "# Agregar columna año y unir\n",
    "df_2024['año'] = 2024\n",
    "df_2004['año'] = 2004\n",
    "df_combinado = pd.concat([df_2024, df_2004], ignore_index=True)\n",
    "\n",
    "# Aplicar PCA en variables\n",
    "X = df_combinado[['edad', 'edad2', 'educ', 'salario_semanal', 'horastrab']]\n",
    "X_std = StandardScaler().fit_transform(X)\n",
    "\n",
    "pca = PCA()\n",
    "X_pca = pca.fit_transform(X_std)\n",
    "\n",
    "# (loadings) de cada variable en PC1 y PC2\n",
    "features = ['edad', 'edad2', 'educ', 'salario_semanal', 'horastrab']\n",
    "loadings = pd.DataFrame(pca.components_.T, index=features, columns=[f'PC{i+1}' for i in range(len(features))])\n",
    "\n",
    "# Mostrar solo los dos primeros componentes\n",
    "print(\"Cargas (loadings) de cada variable en los primeros dos componentes:\")\n",
    "print(loadings[['PC1', 'PC2']])\n",
    "\n",
    "# Gráfico de dispersión\n",
    "plt.scatter(X_pca[:, 0], X_pca[:, 1], alpha=0.5)\n",
    "plt.xlabel('PC1')\n",
    "plt.ylabel('PC2')\n",
    "plt.title('PCA - Dispersión en los primeros dos componentes')\n",
    "plt.grid()\n",
    "plt.show()"
   ]
  },
  {
   "cell_type": "code",
   "execution_count": 329,
   "id": "ab7d1566-3fb9-46f0-b812-f415c65aefde",
   "metadata": {},
   "outputs": [],
   "source": [
    "# PARTE II - EJERCICIO 3"
   ]
  },
  {
   "cell_type": "code",
   "execution_count": 337,
   "id": "f0b2fe01-7550-4b01-970f-98729903bde1",
   "metadata": {},
   "outputs": [
    {
     "data": {
      "image/png": "[encoded data removed]",
      "text/plain": [
       "<Figure size 800x600 with 1 Axes>"
      ]
     },
     "metadata": {},
     "output_type": "display_data"
    }
   ],
   "source": [
    "import numpy as np\n",
    "\n",
    "# Variables originales\n",
    "features = ['edad', 'edad2', 'educ', 'salario_semanal', 'horastrab']\n",
    "\n",
    "# Coordenadas de los loadings en el espacio PC1 vs PC2\n",
    "loadings = pca.components_.T[:, :2]  # columnas: PC1 y PC2\n",
    "\n",
    "plt.figure(figsize=(8, 6))\n",
    "plt.axhline(0, color='gray', linewidth=0.5)\n",
    "plt.axvline(0, color='gray', linewidth=0.5)\n",
    "\n",
    "# Dibujar flechas\n",
    "for i, var in enumerate(features):\n",
    "    plt.arrow(0, 0, loadings[i, 0], loadings[i, 1],\n",
    "              color='blue', alpha=0.8, head_width=0.05)\n",
    "    plt.text(loadings[i, 0]*1.1, loadings[i, 1]*1.1, var,\n",
    "             color='black', ha='center', va='center', fontsize=9)\n",
    "\n",
    "plt.xlim(-1, 1)\n",
    "plt.ylim(-1, 1)\n",
    "plt.xlabel(\"PC1\")\n",
    "plt.ylabel(\"PC2\")\n",
    "plt.title(\"PCA - (loadings) en PC1 y PC2\")\n",
    "plt.grid(True)\n",
    "plt.gca().set_aspect('equal', 'box')\n",
    "plt.show()"
   ]
  },
  {
   "cell_type": "code",
   "execution_count": null,
   "id": "a3e3f3da-828b-4d05-a2b3-24ddf4ddac4e",
   "metadata": {},
   "outputs": [],
   "source": []
  }
 ],
 "metadata": {
  "kernelspec": {
   "display_name": "Python [conda env:base] *",
   "language": "python",
   "name": "conda-base-py"
  },
  "language_info": {
   "codemirror_mode": {
    "name": "ipython",
    "version": 3
   },
   "file_extension": ".py",
   "mimetype": "text/x-python",
   "name": "python",
   "nbconvert_exporter": "python",
   "pygments_lexer": "ipython3",
   "version": "3.12.7"
  }
 },
 "nbformat": 4,
 "nbformat_minor": 5
}
