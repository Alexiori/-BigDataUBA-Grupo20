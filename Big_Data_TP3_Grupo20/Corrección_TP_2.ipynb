{
  "nbformat": 4,
  "nbformat_minor": 0,
  "metadata": {
    "colab": {
      "provenance": []
    },
    "kernelspec": {
      "name": "python3",
      "display_name": "Python 3"
    },
    "language_info": {
      "name": "python"
    }
  },
  "cells": [
    {
      "cell_type": "code",
      "execution_count": 13,
      "metadata": {
        "id": "wEjB4KR7qCIC"
      },
      "outputs": [],
      "source": [
        "import pandas as pd"
      ]
    },
    {
      "cell_type": "code",
      "source": [
        "from google.colab import files\n",
        "uploaded = files.upload()"
      ],
      "metadata": {
        "colab": {
          "base_uri": "https://localhost:8080/",
          "height": 76
        },
        "id": "MJvuKP2ItaXX",
        "outputId": "5100f710-ec39-4c45-ca5b-996f291958fe"
      },
      "execution_count": 14,
      "outputs": [
        {
          "output_type": "display_data",
          "data": {
            "text/plain": [
              "<IPython.core.display.HTML object>"
            ],
            "text/html": [
              "\n",
              "     <input type=\"file\" id=\"files-969bf3eb-1a9b-4944-b312-044e5c103c82\" name=\"files[]\" multiple disabled\n",
              "        style=\"border:none\" />\n",
              "     <output id=\"result-969bf3eb-1a9b-4944-b312-044e5c103c82\">\n",
              "      Upload widget is only available when the cell has been executed in the\n",
              "      current browser session. Please rerun this cell to enable.\n",
              "      </output>\n",
              "      <script>// Copyright 2017 Google LLC\n",
              "//\n",
              "// Licensed under the Apache License, Version 2.0 (the \"License\");\n",
              "// you may not use this file except in compliance with the License.\n",
              "// You may obtain a copy of the License at\n",
              "//\n",
              "//      http://www.apache.org/licenses/LICENSE-2.0\n",
              "//\n",
              "// Unless required by applicable law or agreed to in writing, software\n",
              "// distributed under the License is distributed on an \"AS IS\" BASIS,\n",
              "// WITHOUT WARRANTIES OR CONDITIONS OF ANY KIND, either express or implied.\n",
              "// See the License for the specific language governing permissions and\n",
              "// limitations under the License.\n",
              "\n",
              "/**\n",
              " * @fileoverview Helpers for google.colab Python module.\n",
              " */\n",
              "(function(scope) {\n",
              "function span(text, styleAttributes = {}) {\n",
              "  const element = document.createElement('span');\n",
              "  element.textContent = text;\n",
              "  for (const key of Object.keys(styleAttributes)) {\n",
              "    element.style[key] = styleAttributes[key];\n",
              "  }\n",
              "  return element;\n",
              "}\n",
              "\n",
              "// Max number of bytes which will be uploaded at a time.\n",
              "const MAX_PAYLOAD_SIZE = 100 * 1024;\n",
              "\n",
              "function _uploadFiles(inputId, outputId) {\n",
              "  const steps = uploadFilesStep(inputId, outputId);\n",
              "  const outputElement = document.getElementById(outputId);\n",
              "  // Cache steps on the outputElement to make it available for the next call\n",
              "  // to uploadFilesContinue from Python.\n",
              "  outputElement.steps = steps;\n",
              "\n",
              "  return _uploadFilesContinue(outputId);\n",
              "}\n",
              "\n",
              "// This is roughly an async generator (not supported in the browser yet),\n",
              "// where there are multiple asynchronous steps and the Python side is going\n",
              "// to poll for completion of each step.\n",
              "// This uses a Promise to block the python side on completion of each step,\n",
              "// then passes the result of the previous step as the input to the next step.\n",
              "function _uploadFilesContinue(outputId) {\n",
              "  const outputElement = document.getElementById(outputId);\n",
              "  const steps = outputElement.steps;\n",
              "\n",
              "  const next = steps.next(outputElement.lastPromiseValue);\n",
              "  return Promise.resolve(next.value.promise).then((value) => {\n",
              "    // Cache the last promise value to make it available to the next\n",
              "    // step of the generator.\n",
              "    outputElement.lastPromiseValue = value;\n",
              "    return next.value.response;\n",
              "  });\n",
              "}\n",
              "\n",
              "/**\n",
              " * Generator function which is called between each async step of the upload\n",
              " * process.\n",
              " * @param {string} inputId Element ID of the input file picker element.\n",
              " * @param {string} outputId Element ID of the output display.\n",
              " * @return {!Iterable<!Object>} Iterable of next steps.\n",
              " */\n",
              "function* uploadFilesStep(inputId, outputId) {\n",
              "  const inputElement = document.getElementById(inputId);\n",
              "  inputElement.disabled = false;\n",
              "\n",
              "  const outputElement = document.getElementById(outputId);\n",
              "  outputElement.innerHTML = '';\n",
              "\n",
              "  const pickedPromise = new Promise((resolve) => {\n",
              "    inputElement.addEventListener('change', (e) => {\n",
              "      resolve(e.target.files);\n",
              "    });\n",
              "  });\n",
              "\n",
              "  const cancel = document.createElement('button');\n",
              "  inputElement.parentElement.appendChild(cancel);\n",
              "  cancel.textContent = 'Cancel upload';\n",
              "  const cancelPromise = new Promise((resolve) => {\n",
              "    cancel.onclick = () => {\n",
              "      resolve(null);\n",
              "    };\n",
              "  });\n",
              "\n",
              "  // Wait for the user to pick the files.\n",
              "  const files = yield {\n",
              "    promise: Promise.race([pickedPromise, cancelPromise]),\n",
              "    response: {\n",
              "      action: 'starting',\n",
              "    }\n",
              "  };\n",
              "\n",
              "  cancel.remove();\n",
              "\n",
              "  // Disable the input element since further picks are not allowed.\n",
              "  inputElement.disabled = true;\n",
              "\n",
              "  if (!files) {\n",
              "    return {\n",
              "      response: {\n",
              "        action: 'complete',\n",
              "      }\n",
              "    };\n",
              "  }\n",
              "\n",
              "  for (const file of files) {\n",
              "    const li = document.createElement('li');\n",
              "    li.append(span(file.name, {fontWeight: 'bold'}));\n",
              "    li.append(span(\n",
              "        `(${file.type || 'n/a'}) - ${file.size} bytes, ` +\n",
              "        `last modified: ${\n",
              "            file.lastModifiedDate ? file.lastModifiedDate.toLocaleDateString() :\n",
              "                                    'n/a'} - `));\n",
              "    const percent = span('0% done');\n",
              "    li.appendChild(percent);\n",
              "\n",
              "    outputElement.appendChild(li);\n",
              "\n",
              "    const fileDataPromise = new Promise((resolve) => {\n",
              "      const reader = new FileReader();\n",
              "      reader.onload = (e) => {\n",
              "        resolve(e.target.result);\n",
              "      };\n",
              "      reader.readAsArrayBuffer(file);\n",
              "    });\n",
              "    // Wait for the data to be ready.\n",
              "    let fileData = yield {\n",
              "      promise: fileDataPromise,\n",
              "      response: {\n",
              "        action: 'continue',\n",
              "      }\n",
              "    };\n",
              "\n",
              "    // Use a chunked sending to avoid message size limits. See b/62115660.\n",
              "    let position = 0;\n",
              "    do {\n",
              "      const length = Math.min(fileData.byteLength - position, MAX_PAYLOAD_SIZE);\n",
              "      const chunk = new Uint8Array(fileData, position, length);\n",
              "      position += length;\n",
              "\n",
              "      const base64 = btoa(String.fromCharCode.apply(null, chunk));\n",
              "      yield {\n",
              "        response: {\n",
              "          action: 'append',\n",
              "          file: file.name,\n",
              "          data: base64,\n",
              "        },\n",
              "      };\n",
              "\n",
              "      let percentDone = fileData.byteLength === 0 ?\n",
              "          100 :\n",
              "          Math.round((position / fileData.byteLength) * 100);\n",
              "      percent.textContent = `${percentDone}% done`;\n",
              "\n",
              "    } while (position < fileData.byteLength);\n",
              "  }\n",
              "\n",
              "  // All done.\n",
              "  yield {\n",
              "    response: {\n",
              "      action: 'complete',\n",
              "    }\n",
              "  };\n",
              "}\n",
              "\n",
              "scope.google = scope.google || {};\n",
              "scope.google.colab = scope.google.colab || {};\n",
              "scope.google.colab._files = {\n",
              "  _uploadFiles,\n",
              "  _uploadFilesContinue,\n",
              "};\n",
              "})(self);\n",
              "</script> "
            ]
          },
          "metadata": {}
        },
        {
          "output_type": "stream",
          "name": "stdout",
          "text": [
            "Saving Individual_t104.dta to Individual_t104.dta\n"
          ]
        }
      ]
    },
    {
      "cell_type": "code",
      "source": [
        "from google.colab import files\n",
        "uploaded = files.upload()"
      ],
      "metadata": {
        "colab": {
          "base_uri": "https://localhost:8080/",
          "height": 76
        },
        "id": "t_hHZ8vxvAxt",
        "outputId": "48cc8b97-0060-4bd5-9d92-ddbe5ae9f375"
      },
      "execution_count": 16,
      "outputs": [
        {
          "output_type": "display_data",
          "data": {
            "text/plain": [
              "<IPython.core.display.HTML object>"
            ],
            "text/html": [
              "\n",
              "     <input type=\"file\" id=\"files-df08f12e-1888-4c84-be43-09a47832ecee\" name=\"files[]\" multiple disabled\n",
              "        style=\"border:none\" />\n",
              "     <output id=\"result-df08f12e-1888-4c84-be43-09a47832ecee\">\n",
              "      Upload widget is only available when the cell has been executed in the\n",
              "      current browser session. Please rerun this cell to enable.\n",
              "      </output>\n",
              "      <script>// Copyright 2017 Google LLC\n",
              "//\n",
              "// Licensed under the Apache License, Version 2.0 (the \"License\");\n",
              "// you may not use this file except in compliance with the License.\n",
              "// You may obtain a copy of the License at\n",
              "//\n",
              "//      http://www.apache.org/licenses/LICENSE-2.0\n",
              "//\n",
              "// Unless required by applicable law or agreed to in writing, software\n",
              "// distributed under the License is distributed on an \"AS IS\" BASIS,\n",
              "// WITHOUT WARRANTIES OR CONDITIONS OF ANY KIND, either express or implied.\n",
              "// See the License for the specific language governing permissions and\n",
              "// limitations under the License.\n",
              "\n",
              "/**\n",
              " * @fileoverview Helpers for google.colab Python module.\n",
              " */\n",
              "(function(scope) {\n",
              "function span(text, styleAttributes = {}) {\n",
              "  const element = document.createElement('span');\n",
              "  element.textContent = text;\n",
              "  for (const key of Object.keys(styleAttributes)) {\n",
              "    element.style[key] = styleAttributes[key];\n",
              "  }\n",
              "  return element;\n",
              "}\n",
              "\n",
              "// Max number of bytes which will be uploaded at a time.\n",
              "const MAX_PAYLOAD_SIZE = 100 * 1024;\n",
              "\n",
              "function _uploadFiles(inputId, outputId) {\n",
              "  const steps = uploadFilesStep(inputId, outputId);\n",
              "  const outputElement = document.getElementById(outputId);\n",
              "  // Cache steps on the outputElement to make it available for the next call\n",
              "  // to uploadFilesContinue from Python.\n",
              "  outputElement.steps = steps;\n",
              "\n",
              "  return _uploadFilesContinue(outputId);\n",
              "}\n",
              "\n",
              "// This is roughly an async generator (not supported in the browser yet),\n",
              "// where there are multiple asynchronous steps and the Python side is going\n",
              "// to poll for completion of each step.\n",
              "// This uses a Promise to block the python side on completion of each step,\n",
              "// then passes the result of the previous step as the input to the next step.\n",
              "function _uploadFilesContinue(outputId) {\n",
              "  const outputElement = document.getElementById(outputId);\n",
              "  const steps = outputElement.steps;\n",
              "\n",
              "  const next = steps.next(outputElement.lastPromiseValue);\n",
              "  return Promise.resolve(next.value.promise).then((value) => {\n",
              "    // Cache the last promise value to make it available to the next\n",
              "    // step of the generator.\n",
              "    outputElement.lastPromiseValue = value;\n",
              "    return next.value.response;\n",
              "  });\n",
              "}\n",
              "\n",
              "/**\n",
              " * Generator function which is called between each async step of the upload\n",
              " * process.\n",
              " * @param {string} inputId Element ID of the input file picker element.\n",
              " * @param {string} outputId Element ID of the output display.\n",
              " * @return {!Iterable<!Object>} Iterable of next steps.\n",
              " */\n",
              "function* uploadFilesStep(inputId, outputId) {\n",
              "  const inputElement = document.getElementById(inputId);\n",
              "  inputElement.disabled = false;\n",
              "\n",
              "  const outputElement = document.getElementById(outputId);\n",
              "  outputElement.innerHTML = '';\n",
              "\n",
              "  const pickedPromise = new Promise((resolve) => {\n",
              "    inputElement.addEventListener('change', (e) => {\n",
              "      resolve(e.target.files);\n",
              "    });\n",
              "  });\n",
              "\n",
              "  const cancel = document.createElement('button');\n",
              "  inputElement.parentElement.appendChild(cancel);\n",
              "  cancel.textContent = 'Cancel upload';\n",
              "  const cancelPromise = new Promise((resolve) => {\n",
              "    cancel.onclick = () => {\n",
              "      resolve(null);\n",
              "    };\n",
              "  });\n",
              "\n",
              "  // Wait for the user to pick the files.\n",
              "  const files = yield {\n",
              "    promise: Promise.race([pickedPromise, cancelPromise]),\n",
              "    response: {\n",
              "      action: 'starting',\n",
              "    }\n",
              "  };\n",
              "\n",
              "  cancel.remove();\n",
              "\n",
              "  // Disable the input element since further picks are not allowed.\n",
              "  inputElement.disabled = true;\n",
              "\n",
              "  if (!files) {\n",
              "    return {\n",
              "      response: {\n",
              "        action: 'complete',\n",
              "      }\n",
              "    };\n",
              "  }\n",
              "\n",
              "  for (const file of files) {\n",
              "    const li = document.createElement('li');\n",
              "    li.append(span(file.name, {fontWeight: 'bold'}));\n",
              "    li.append(span(\n",
              "        `(${file.type || 'n/a'}) - ${file.size} bytes, ` +\n",
              "        `last modified: ${\n",
              "            file.lastModifiedDate ? file.lastModifiedDate.toLocaleDateString() :\n",
              "                                    'n/a'} - `));\n",
              "    const percent = span('0% done');\n",
              "    li.appendChild(percent);\n",
              "\n",
              "    outputElement.appendChild(li);\n",
              "\n",
              "    const fileDataPromise = new Promise((resolve) => {\n",
              "      const reader = new FileReader();\n",
              "      reader.onload = (e) => {\n",
              "        resolve(e.target.result);\n",
              "      };\n",
              "      reader.readAsArrayBuffer(file);\n",
              "    });\n",
              "    // Wait for the data to be ready.\n",
              "    let fileData = yield {\n",
              "      promise: fileDataPromise,\n",
              "      response: {\n",
              "        action: 'continue',\n",
              "      }\n",
              "    };\n",
              "\n",
              "    // Use a chunked sending to avoid message size limits. See b/62115660.\n",
              "    let position = 0;\n",
              "    do {\n",
              "      const length = Math.min(fileData.byteLength - position, MAX_PAYLOAD_SIZE);\n",
              "      const chunk = new Uint8Array(fileData, position, length);\n",
              "      position += length;\n",
              "\n",
              "      const base64 = btoa(String.fromCharCode.apply(null, chunk));\n",
              "      yield {\n",
              "        response: {\n",
              "          action: 'append',\n",
              "          file: file.name,\n",
              "          data: base64,\n",
              "        },\n",
              "      };\n",
              "\n",
              "      let percentDone = fileData.byteLength === 0 ?\n",
              "          100 :\n",
              "          Math.round((position / fileData.byteLength) * 100);\n",
              "      percent.textContent = `${percentDone}% done`;\n",
              "\n",
              "    } while (position < fileData.byteLength);\n",
              "  }\n",
              "\n",
              "  // All done.\n",
              "  yield {\n",
              "    response: {\n",
              "      action: 'complete',\n",
              "    }\n",
              "  };\n",
              "}\n",
              "\n",
              "scope.google = scope.google || {};\n",
              "scope.google.colab = scope.google.colab || {};\n",
              "scope.google.colab._files = {\n",
              "  _uploadFiles,\n",
              "  _uploadFilesContinue,\n",
              "};\n",
              "})(self);\n",
              "</script> "
            ]
          },
          "metadata": {}
        },
        {
          "output_type": "stream",
          "name": "stdout",
          "text": [
            "Saving usu_individual_T124.xlsx to usu_individual_T124.xlsx\n"
          ]
        }
      ]
    },
    {
      "cell_type": "code",
      "source": [
        "df_2004 = pd.read_stata(\"Individual_t104.dta\")\n",
        "df_2024 = pd.read_excel(\"usu_individual_T124.xlsx\")\n",
        "print(df_2004.head())\n",
        "print(df_2024.head())"
      ],
      "metadata": {
        "colab": {
          "base_uri": "https://localhost:8080/"
        },
        "id": "dwbZukXQwRKI",
        "outputId": "39d35136-94e0-474d-f49e-c82270ac1d40"
      },
      "execution_count": 17,
      "outputs": [
        {
          "output_type": "stream",
          "name": "stdout",
          "text": [
            "     CODUSU  nro_hogar componente h15    ano4       trimestre  \\\n",
            "0  125098          1.0        1.0  Sí  2004.0  1er. Trimestre   \n",
            "1  125397          1.0        1.0  Sí  2004.0  1er. Trimestre   \n",
            "2  125515          1.0        1.0  Sí  2004.0  1er. Trimestre   \n",
            "3  125558          1.0        1.0  Sí  2004.0  1er. Trimestre   \n",
            "4  125558          1.0        2.0  Sí  2004.0  1er. Trimestre   \n",
            "\n",
            "              region mas_500              aglomerado  pondera  ... deccfr  \\\n",
            "0  Gran Buenos Aires       S  Ciudad de Buenos Aires   1299.0  ...     07   \n",
            "1  Gran Buenos Aires       S  Ciudad de Buenos Aires   2018.0  ...     00   \n",
            "2  Gran Buenos Aires       S  Ciudad de Buenos Aires   1486.0  ...     07   \n",
            "3  Gran Buenos Aires       S  Ciudad de Buenos Aires   1674.0  ...     08   \n",
            "4  Gran Buenos Aires       S  Ciudad de Buenos Aires   1674.0  ...     08   \n",
            "\n",
            "  ideccfr rdeccfr gdeccfr pdeccfr adeccfr pj1_1 pj2_1 pj3_1 idimpp  \n",
            "0              06      06              04   0.0   0.0   0.0  00000  \n",
            "1              00      00              00   0.0   0.0   0.0  00000  \n",
            "2              07      07              05   0.0   0.0   0.0  00020  \n",
            "3              08      08              06   0.0   0.0   0.0  00000  \n",
            "4              08      08              06   0.0   0.0   0.0  00000  \n",
            "\n",
            "[5 rows x 176 columns]\n",
            "                          CODUSU  ANO4  TRIMESTRE  NRO_HOGAR  COMPONENTE  H15  \\\n",
            "0  TQRMNOPUTHLMKQCDEGGFB00852588  2024          1          1           3    1   \n",
            "1  TQRMNOPUTHLMKQCDEGGFB00852588  2024          1          1           4    1   \n",
            "2  TQRMNOPUTHLMKQCDEGGFB00852588  2024          1          1           5    0   \n",
            "3  TQRMNOPPWHLLKRCDEGGFB00852574  2024          1          1           1    1   \n",
            "4  TQRMNOPPWHLLKRCDEGGFB00852574  2024          1          1           2    1   \n",
            "\n",
            "   REGION MAS_500  AGLOMERADO  PONDERA  ...  PDECIFR  ADECIFR      IPCF  \\\n",
            "0      42       S          10      439  ...      NaN       12       0.0   \n",
            "1      42       S          10      439  ...      NaN       12       0.0   \n",
            "2      42       S          10      439  ...      NaN       12       0.0   \n",
            "3      42       S          10      675  ...      NaN        8  212500.0   \n",
            "4      42       S          10      675  ...      NaN        8  212500.0   \n",
            "\n",
            "   DECCFR  IDECCFR  RDECCFR  GDECCFR  PDECCFR  ADECCFR  PONDIH  \n",
            "0      12     12.0       12     12.0      NaN       12       0  \n",
            "1      12     12.0       12     12.0      NaN       12       0  \n",
            "2      12     12.0       12     12.0      NaN       12       0  \n",
            "3       6      6.0        6      6.0      NaN        6    1610  \n",
            "4       6      6.0        6      6.0      NaN        6    1610  \n",
            "\n",
            "[5 rows x 177 columns]\n"
          ]
        }
      ]
    },
    {
      "cell_type": "code",
      "source": [
        "df_2004[\"region\"].unique()"
      ],
      "metadata": {
        "colab": {
          "base_uri": "https://localhost:8080/"
        },
        "id": "yFEIgEoGz3E6",
        "outputId": "2fd291dc-a83a-4401-be4e-8c2a1970bb25"
      },
      "execution_count": 18,
      "outputs": [
        {
          "output_type": "execute_result",
          "data": {
            "text/plain": [
              "['Gran Buenos Aires', 'NOA', 'NEA', 'Cuyo', 'Pampeana', 'Patagónica']\n",
              "Categories (6, object): ['Gran Buenos Aires' < 'NOA' < 'NEA' < 'Cuyo' < 'Pampeana' < 'Patagónica']"
            ]
          },
          "metadata": {},
          "execution_count": 18
        }
      ]
    },
    {
      "cell_type": "code",
      "source": [
        "#punto 2a\n",
        "df_2004_gba = df_2004[df_2004[\"region\"] == \"Gran Buenos Aires\"]\n",
        "df_2024_gba = df_2024[df_2024[\"REGION\"] == \"Gran Buenos Aires\"]\n"
      ],
      "metadata": {
        "collapsed": true,
        "id": "_UVBYj2TxaVb"
      },
      "execution_count": 19,
      "outputs": []
    },
    {
      "cell_type": "code",
      "source": [
        "df_a = pd.read_stata(\"Individual_t104.dta\")\n",
        "print(df_a.shape)\n",
        "df_b = pd.read_excel(\"usu_individual_T124.xlsx\")\n",
        "print(df_b.shape)\n",
        "df_a_gba = df_a[df_a[\"region\"] == \"Gran Buenos Aires\"]\n",
        "df_b_gba = df_b[df_b[\"REGION\"] == \"Gran Buenos Aires\"]\n",
        "df = pd.concat([df_a_gba, df_b_gba])\n",
        "print(df.shape)"
      ],
      "metadata": {
        "colab": {
          "base_uri": "https://localhost:8080/"
        },
        "id": "BB-QqSS8xgz7",
        "outputId": "89c62426-a628-42e8-b246-93ebb9b06965"
      },
      "execution_count": 20,
      "outputs": [
        {
          "output_type": "stream",
          "name": "stdout",
          "text": [
            "(45289, 176)\n",
            "(46050, 177)\n",
            "(7647, 352)\n"
          ]
        }
      ]
    },
    {
      "cell_type": "code",
      "source": [
        "#punto 2b\n",
        "variables_2004=['CODUSU', 'nro_hogar', 'componente', 'h15', 'ano4', 'deccfr',\n",
        " 'ideccfr', 'rdeccfr', 'gdeccfr', 'pdeccfr', 'adeccfr', 'pj1_1', 'pj2_1', 'pj3_1', 'idimpp']\n",
        "variables_2024= ['GDECCFR' , 'PDECCFR','CODUSU', 'ANO4', 'TRIMESTRE', 'NRO_HOGAR', 'COMPONENTE',\n",
        "                 'H15', 'REGION', 'MAS_500', 'AGLOMERADO', 'PONDERA', 'CH03', 'CH04', 'CH05']\n",
        "faltantes_2004=df_a[variables_2004].isna().sum()\n",
        "faltantes_2024=df_b[variables_2024].isna().sum()"
      ],
      "metadata": {
        "id": "wu2ZoRVFxl8T"
      },
      "execution_count": 21,
      "outputs": []
    },
    {
      "cell_type": "code",
      "source": [
        "import pandas as pd\n",
        "pd.set_option('future.no_silent_downcasting', True)\n",
        "\n",
        "valores_invalidos = [9, 99, 999, 99999, -7, -8, -9, 0]\n",
        "\n",
        "import numpy as np\n",
        "\n",
        "for var in variables_2024:\n",
        "    df[var] = df[var].replace(valores_invalidos, np.nan)\n",
        "\n",
        "faltantes_limpios = df[variables_2024].isna().sum()\n",
        "print(\"Valores faltantes después de limpieza(2024):\")\n",
        "print(faltantes_limpios)\n",
        "\n",
        "for var in variables_2004:\n",
        "    df[var] = df[var].replace(valores_invalidos, np.nan)\n",
        "\n",
        "faltantes_limpios = df[variables_2004].isna().sum()\n",
        "print(\"Valores faltantes después de limpieza(2004):\")\n",
        "print(faltantes_limpios)"
      ],
      "metadata": {
        "colab": {
          "base_uri": "https://localhost:8080/"
        },
        "id": "fz8hYWW4dkSm",
        "outputId": "6b5ae7ea-5aa6-4efa-de38-18169ae3d9bf"
      },
      "execution_count": 24,
      "outputs": [
        {
          "output_type": "stream",
          "name": "stdout",
          "text": [
            "Valores faltantes después de limpieza(2024):\n",
            "GDECCFR       7647\n",
            "PDECCFR       7647\n",
            "CODUSU           0\n",
            "ANO4          7647\n",
            "TRIMESTRE     7647\n",
            "NRO_HOGAR     7647\n",
            "COMPONENTE    7647\n",
            "H15           7647\n",
            "REGION        7647\n",
            "MAS_500       7647\n",
            "AGLOMERADO    7647\n",
            "PONDERA       7647\n",
            "CH03          7647\n",
            "CH04          7647\n",
            "CH05          7647\n",
            "dtype: int64\n",
            "Valores faltantes después de limpieza(2004):\n",
            "CODUSU           0\n",
            "nro_hogar        0\n",
            "componente      35\n",
            "h15           1230\n",
            "ano4             0\n",
            "deccfr           0\n",
            "ideccfr          0\n",
            "rdeccfr          0\n",
            "gdeccfr          0\n",
            "pdeccfr          0\n",
            "adeccfr          0\n",
            "pj1_1         7488\n",
            "pj2_1         7595\n",
            "pj3_1         7613\n",
            "idimpp           0\n",
            "dtype: int64\n"
          ]
        },
        {
          "output_type": "stream",
          "name": "stderr",
          "text": [
            "<ipython-input-24-2bc626974f18>:16: FutureWarning: The behavior of Series.replace (and DataFrame.replace) with CategoricalDtype is deprecated. In a future version, replace will only be used for cases that preserve the categories. To change the categories, use ser.cat.rename_categories instead.\n",
            "  df[var] = df[var].replace(valores_invalidos, np.nan)\n"
          ]
        }
      ]
    },
    {
      "cell_type": "code",
      "source": [
        "print(\"valores faltantes - año 2004\")\n",
        "print(faltantes_2004)\n",
        "print(\"valores faltantes - año 2024\")\n",
        "print(faltantes_2024)"
      ],
      "metadata": {
        "colab": {
          "base_uri": "https://localhost:8080/"
        },
        "id": "1CssGne6xqUy",
        "outputId": "3ce26244-1dd1-43df-8ba9-481f9f10d313"
      },
      "execution_count": 25,
      "outputs": [
        {
          "output_type": "stream",
          "name": "stdout",
          "text": [
            "valores faltantes - año 2004\n",
            "CODUSU        0\n",
            "nro_hogar     0\n",
            "componente    0\n",
            "h15           0\n",
            "ano4          0\n",
            "deccfr        0\n",
            "ideccfr       0\n",
            "rdeccfr       0\n",
            "gdeccfr       0\n",
            "pdeccfr       0\n",
            "adeccfr       0\n",
            "pj1_1         0\n",
            "pj2_1         0\n",
            "pj3_1         0\n",
            "idimpp        0\n",
            "dtype: int64\n",
            "valores faltantes - año 2024\n",
            "GDECCFR       24408\n",
            "PDECCFR       21642\n",
            "CODUSU            0\n",
            "ANO4              0\n",
            "TRIMESTRE         0\n",
            "NRO_HOGAR         0\n",
            "COMPONENTE        0\n",
            "H15               0\n",
            "REGION            0\n",
            "MAS_500           0\n",
            "AGLOMERADO        0\n",
            "PONDERA           0\n",
            "CH03              0\n",
            "CH04              0\n",
            "CH05              0\n",
            "dtype: int64\n"
          ]
        }
      ]
    },
    {
      "cell_type": "code",
      "source": [
        "#punto 2c\n",
        "valores_invalidos = [9, 99, 999, 99999, -7, -8, -9, 0]\n",
        "import numpy as np\n",
        "for var in variables_2024:\n",
        "    df[var] = df[var].replace(valores_invalidos, np.nan)\n",
        "faltantes_limpios = df[variables_2024].isna().sum()\n",
        "print(\"Valores faltantes después de limpieza(2024):\")\n",
        "print(faltantes_limpios)\n",
        "\n",
        "for var in variables_2004:\n",
        "    df[var] = df[var].replace(valores_invalidos, np.nan)\n",
        "faltantes_limpios = df[variables_2004].isna().sum()\n",
        "print(\"Valores faltantes después de limpieza(2004):\")\n",
        "print(faltantes_limpios)"
      ],
      "metadata": {
        "colab": {
          "base_uri": "https://localhost:8080/"
        },
        "id": "TnEzRzvAxvDa",
        "outputId": "d6a8f04a-aa33-44c1-8275-6979f9a50ad3"
      },
      "execution_count": 26,
      "outputs": [
        {
          "output_type": "stream",
          "name": "stdout",
          "text": [
            "Valores faltantes después de limpieza(2024):\n",
            "GDECCFR       7647\n",
            "PDECCFR       7647\n",
            "CODUSU           0\n",
            "ANO4          7647\n",
            "TRIMESTRE     7647\n",
            "NRO_HOGAR     7647\n",
            "COMPONENTE    7647\n",
            "H15           7647\n",
            "REGION        7647\n",
            "MAS_500       7647\n",
            "AGLOMERADO    7647\n",
            "PONDERA       7647\n",
            "CH03          7647\n",
            "CH04          7647\n",
            "CH05          7647\n",
            "dtype: int64\n",
            "Valores faltantes después de limpieza(2004):\n",
            "CODUSU           0\n",
            "nro_hogar        0\n",
            "componente      35\n",
            "h15           1230\n",
            "ano4             0\n",
            "deccfr           0\n",
            "ideccfr          0\n",
            "rdeccfr          0\n",
            "gdeccfr          0\n",
            "pdeccfr          0\n",
            "adeccfr          0\n",
            "pj1_1         7488\n",
            "pj2_1         7595\n",
            "pj3_1         7613\n",
            "idimpp           0\n",
            "dtype: int64\n"
          ]
        }
      ]
    },
    {
      "cell_type": "code",
      "source": [
        "#punto 3\n",
        "import pandas as pd\n",
        "import matplotlib.pyplot as plt\n",
        "import seaborn as sns\n",
        "df_2004 = df_a.copy()\n",
        "df_2024 = df_b.copy()\n",
        "df_2004['Sexo'] = df_2004['ch04'].replace({1: 'Varón', 2: 'Mujer'})\n",
        "df_2024['Sexo'] = df_2024['CH04'].replace({1: 'Varón', 2: 'Mujer'})\n",
        "df_2004['Año'] = 2004\n",
        "df_2024['Año'] = 2024\n",
        "df_union = pd.concat([df_2004[['Sexo', 'Año']], df_2024[['Sexo', 'Año']]])\n",
        "sns.set(style=\"whitegrid\")\n",
        "sns.histplot(data=df_union, x='Sexo', hue='Año', multiple='dodge', shrink=0.8, discrete=True)\n",
        "plt.title(\"Composición por Sexo  (2004 vs 2024)\")\n",
        "plt.xlabel(\"Sexo\")\n",
        "plt.ylabel(\"Cantidad de personas\")\n",
        "plt.show()\n"
      ],
      "metadata": {
        "colab": {
          "base_uri": "https://localhost:8080/",
          "height": 481
        },
        "id": "K8lWvBvNxvyp",
        "outputId": "2d5220f5-baea-47d2-d32c-01d5ff3ea279"
      },
      "execution_count": 27,
      "outputs": [
        {
          "output_type": "display_data",
          "data": {
            "text/plain": [
              "<Figure size 640x480 with 1 Axes>"
            ],
            "image/png": "[encoded data removed]"
          },
          "metadata": {}
        }
      ]
    },
    {
      "cell_type": "code",
      "source": [
        "print(df_2004.columns)  # Ver nombres de columnas\n",
        "print(df_2004[\"region\"].unique())  # Ver qué valores hay\n",
        "print(df_2004[\"region\"].dtype)  # Ver el tipo (number o string)"
      ],
      "metadata": {
        "colab": {
          "base_uri": "https://localhost:8080/"
        },
        "id": "CMcjSPH4eLW1",
        "outputId": "76575c23-327b-41df-cc2c-0dde4ef83668"
      },
      "execution_count": 30,
      "outputs": [
        {
          "output_type": "stream",
          "name": "stdout",
          "text": [
            "Index(['CODUSU', 'nro_hogar', 'componente', 'h15', 'ano4', 'trimestre',\n",
            "       'region', 'mas_500', 'aglomerado', 'pondera',\n",
            "       ...\n",
            "       'rdeccfr', 'gdeccfr', 'pdeccfr', 'adeccfr', 'pj1_1', 'pj2_1', 'pj3_1',\n",
            "       'idimpp', 'Sexo', 'Año'],\n",
            "      dtype='object', length=178)\n",
            "['Gran Buenos Aires', 'NOA', 'NEA', 'Cuyo', 'Pampeana', 'Patagónica']\n",
            "Categories (6, object): ['Gran Buenos Aires' < 'NOA' < 'NEA' < 'Cuyo' < 'Pampeana' < 'Patagónica']\n",
            "category\n"
          ]
        }
      ]
    },
    {
      "cell_type": "code",
      "source": [
        "df_2004[df_2004[\"region\"] == \"Gran Buenos Aires\"]  # Incorrecto si REGION es 1"
      ],
      "metadata": {
        "colab": {
          "base_uri": "https://localhost:8080/",
          "height": 424
        },
        "id": "oT1PcpYaeiJt",
        "outputId": "7bb64ea8-5dc2-4ad3-80fb-fb7801c6f8b0"
      },
      "execution_count": 32,
      "outputs": [
        {
          "output_type": "execute_result",
          "data": {
            "text/plain": [
              "        CODUSU  nro_hogar componente  h15    ano4       trimestre  \\\n",
              "0     125098          1.0        1.0   Sí  2004.0  1er. Trimestre   \n",
              "1     125397          1.0        1.0   Sí  2004.0  1er. Trimestre   \n",
              "2     125515          1.0        1.0   Sí  2004.0  1er. Trimestre   \n",
              "3     125558          1.0        1.0   Sí  2004.0  1er. Trimestre   \n",
              "4     125558          1.0        2.0   Sí  2004.0  1er. Trimestre   \n",
              "...        ...        ...        ...  ...     ...             ...   \n",
              "7642  288171          1.0        3.0  0.0  2004.0  1er. Trimestre   \n",
              "7643  288405          1.0        1.0   Sí  2004.0  1er. Trimestre   \n",
              "7644  288405          1.0        2.0   Sí  2004.0  1er. Trimestre   \n",
              "7645  288405          1.0        3.0   Sí  2004.0  1er. Trimestre   \n",
              "7646  288405          1.0        4.0   Sí  2004.0  1er. Trimestre   \n",
              "\n",
              "                 region mas_500              aglomerado  pondera  ... rdeccfr  \\\n",
              "0     Gran Buenos Aires       S  Ciudad de Buenos Aires   1299.0  ...      06   \n",
              "1     Gran Buenos Aires       S  Ciudad de Buenos Aires   2018.0  ...      00   \n",
              "2     Gran Buenos Aires       S  Ciudad de Buenos Aires   1486.0  ...      07   \n",
              "3     Gran Buenos Aires       S  Ciudad de Buenos Aires   1674.0  ...      08   \n",
              "4     Gran Buenos Aires       S  Ciudad de Buenos Aires   1674.0  ...      08   \n",
              "...                 ...     ...                     ...      ...  ...     ...   \n",
              "7642  Gran Buenos Aires       S        Partidos del GBA   1454.0  ...      08   \n",
              "7643  Gran Buenos Aires       S        Partidos del GBA   1673.0  ...      02   \n",
              "7644  Gran Buenos Aires       S        Partidos del GBA   1673.0  ...      02   \n",
              "7645  Gran Buenos Aires       S        Partidos del GBA   1673.0  ...      02   \n",
              "7646  Gran Buenos Aires       S        Partidos del GBA   1673.0  ...      02   \n",
              "\n",
              "     gdeccfr pdeccfr adeccfr pj1_1 pj2_1 pj3_1 idimpp   Sexo   Año  \n",
              "0         06              04   0.0   0.0   0.0  00000  Varón  2004  \n",
              "1         00              00   0.0   0.0   0.0  00000  Mujer  2004  \n",
              "2         07              05   0.0   0.0   0.0  00020  Mujer  2004  \n",
              "3         08              06   0.0   0.0   0.0  00000  Varón  2004  \n",
              "4         08              06   0.0   0.0   0.0  00000  Mujer  2004  \n",
              "...      ...     ...     ...   ...   ...   ...    ...    ...   ...  \n",
              "7642      08              09   0.0   0.0   0.0  00000  Mujer  2004  \n",
              "7643      02              02   0.0   0.0   0.0  00000  Varón  2004  \n",
              "7644      02              02   0.0   0.0   0.0  00000  Mujer  2004  \n",
              "7645      02              02   0.0   0.0   0.0  00000  Mujer  2004  \n",
              "7646      02              02   0.0   0.0   0.0  00000  Varón  2004  \n",
              "\n",
              "[7647 rows x 178 columns]"
            ],
            "text/html": [
              "\n",
              "  <div id=\"df-640127c3-7a34-46af-80a7-f2270357debc\" class=\"colab-df-container\">\n",
              "    <div>\n",
              "<style scoped>\n",
              "    .dataframe tbody tr th:only-of-type {\n",
              "        vertical-align: middle;\n",
              "    }\n",
              "\n",
              "    .dataframe tbody tr th {\n",
              "        vertical-align: top;\n",
              "    }\n",
              "\n",
              "    .dataframe thead th {\n",
              "        text-align: right;\n",
              "    }\n",
              "</style>\n",
              "<table border=\"1\" class=\"dataframe\">\n",
              "  <thead>\n",
              "    <tr style=\"text-align: right;\">\n",
              "      <th></th>\n",
              "      <th>CODUSU</th>\n",
              "      <th>nro_hogar</th>\n",
              "      <th>componente</th>\n",
              "      <th>h15</th>\n",
              "      <th>ano4</th>\n",
              "      <th>trimestre</th>\n",
              "      <th>region</th>\n",
              "      <th>mas_500</th>\n",
              "      <th>aglomerado</th>\n",
              "      <th>pondera</th>\n",
              "      <th>...</th>\n",
              "      <th>rdeccfr</th>\n",
              "      <th>gdeccfr</th>\n",
              "      <th>pdeccfr</th>\n",
              "      <th>adeccfr</th>\n",
              "      <th>pj1_1</th>\n",
              "      <th>pj2_1</th>\n",
              "      <th>pj3_1</th>\n",
              "      <th>idimpp</th>\n",
              "      <th>Sexo</th>\n",
              "      <th>Año</th>\n",
              "    </tr>\n",
              "  </thead>\n",
              "  <tbody>\n",
              "    <tr>\n",
              "      <th>0</th>\n",
              "      <td>125098</td>\n",
              "      <td>1.0</td>\n",
              "      <td>1.0</td>\n",
              "      <td>Sí</td>\n",
              "      <td>2004.0</td>\n",
              "      <td>1er. Trimestre</td>\n",
              "      <td>Gran Buenos Aires</td>\n",
              "      <td>S</td>\n",
              "      <td>Ciudad de Buenos Aires</td>\n",
              "      <td>1299.0</td>\n",
              "      <td>...</td>\n",
              "      <td>06</td>\n",
              "      <td>06</td>\n",
              "      <td></td>\n",
              "      <td>04</td>\n",
              "      <td>0.0</td>\n",
              "      <td>0.0</td>\n",
              "      <td>0.0</td>\n",
              "      <td>00000</td>\n",
              "      <td>Varón</td>\n",
              "      <td>2004</td>\n",
              "    </tr>\n",
              "    <tr>\n",
              "      <th>1</th>\n",
              "      <td>125397</td>\n",
              "      <td>1.0</td>\n",
              "      <td>1.0</td>\n",
              "      <td>Sí</td>\n",
              "      <td>2004.0</td>\n",
              "      <td>1er. Trimestre</td>\n",
              "      <td>Gran Buenos Aires</td>\n",
              "      <td>S</td>\n",
              "      <td>Ciudad de Buenos Aires</td>\n",
              "      <td>2018.0</td>\n",
              "      <td>...</td>\n",
              "      <td>00</td>\n",
              "      <td>00</td>\n",
              "      <td></td>\n",
              "      <td>00</td>\n",
              "      <td>0.0</td>\n",
              "      <td>0.0</td>\n",
              "      <td>0.0</td>\n",
              "      <td>00000</td>\n",
              "      <td>Mujer</td>\n",
              "      <td>2004</td>\n",
              "    </tr>\n",
              "    <tr>\n",
              "      <th>2</th>\n",
              "      <td>125515</td>\n",
              "      <td>1.0</td>\n",
              "      <td>1.0</td>\n",
              "      <td>Sí</td>\n",
              "      <td>2004.0</td>\n",
              "      <td>1er. Trimestre</td>\n",
              "      <td>Gran Buenos Aires</td>\n",
              "      <td>S</td>\n",
              "      <td>Ciudad de Buenos Aires</td>\n",
              "      <td>1486.0</td>\n",
              "      <td>...</td>\n",
              "      <td>07</td>\n",
              "      <td>07</td>\n",
              "      <td></td>\n",
              "      <td>05</td>\n",
              "      <td>0.0</td>\n",
              "      <td>0.0</td>\n",
              "      <td>0.0</td>\n",
              "      <td>00020</td>\n",
              "      <td>Mujer</td>\n",
              "      <td>2004</td>\n",
              "    </tr>\n",
              "    <tr>\n",
              "      <th>3</th>\n",
              "      <td>125558</td>\n",
              "      <td>1.0</td>\n",
              "      <td>1.0</td>\n",
              "      <td>Sí</td>\n",
              "      <td>2004.0</td>\n",
              "      <td>1er. Trimestre</td>\n",
              "      <td>Gran Buenos Aires</td>\n",
              "      <td>S</td>\n",
              "      <td>Ciudad de Buenos Aires</td>\n",
              "      <td>1674.0</td>\n",
              "      <td>...</td>\n",
              "      <td>08</td>\n",
              "      <td>08</td>\n",
              "      <td></td>\n",
              "      <td>06</td>\n",
              "      <td>0.0</td>\n",
              "      <td>0.0</td>\n",
              "      <td>0.0</td>\n",
              "      <td>00000</td>\n",
              "      <td>Varón</td>\n",
              "      <td>2004</td>\n",
              "    </tr>\n",
              "    <tr>\n",
              "      <th>4</th>\n",
              "      <td>125558</td>\n",
              "      <td>1.0</td>\n",
              "      <td>2.0</td>\n",
              "      <td>Sí</td>\n",
              "      <td>2004.0</td>\n",
              "      <td>1er. Trimestre</td>\n",
              "      <td>Gran Buenos Aires</td>\n",
              "      <td>S</td>\n",
              "      <td>Ciudad de Buenos Aires</td>\n",
              "      <td>1674.0</td>\n",
              "      <td>...</td>\n",
              "      <td>08</td>\n",
              "      <td>08</td>\n",
              "      <td></td>\n",
              "      <td>06</td>\n",
              "      <td>0.0</td>\n",
              "      <td>0.0</td>\n",
              "      <td>0.0</td>\n",
              "      <td>00000</td>\n",
              "      <td>Mujer</td>\n",
              "      <td>2004</td>\n",
              "    </tr>\n",
              "    <tr>\n",
              "      <th>...</th>\n",
              "      <td>...</td>\n",
              "      <td>...</td>\n",
              "      <td>...</td>\n",
              "      <td>...</td>\n",
              "      <td>...</td>\n",
              "      <td>...</td>\n",
              "      <td>...</td>\n",
              "      <td>...</td>\n",
              "      <td>...</td>\n",
              "      <td>...</td>\n",
              "      <td>...</td>\n",
              "      <td>...</td>\n",
              "      <td>...</td>\n",
              "      <td>...</td>\n",
              "      <td>...</td>\n",
              "      <td>...</td>\n",
              "      <td>...</td>\n",
              "      <td>...</td>\n",
              "      <td>...</td>\n",
              "      <td>...</td>\n",
              "      <td>...</td>\n",
              "    </tr>\n",
              "    <tr>\n",
              "      <th>7642</th>\n",
              "      <td>288171</td>\n",
              "      <td>1.0</td>\n",
              "      <td>3.0</td>\n",
              "      <td>0.0</td>\n",
              "      <td>2004.0</td>\n",
              "      <td>1er. Trimestre</td>\n",
              "      <td>Gran Buenos Aires</td>\n",
              "      <td>S</td>\n",
              "      <td>Partidos del GBA</td>\n",
              "      <td>1454.0</td>\n",
              "      <td>...</td>\n",
              "      <td>08</td>\n",
              "      <td>08</td>\n",
              "      <td></td>\n",
              "      <td>09</td>\n",
              "      <td>0.0</td>\n",
              "      <td>0.0</td>\n",
              "      <td>0.0</td>\n",
              "      <td>00000</td>\n",
              "      <td>Mujer</td>\n",
              "      <td>2004</td>\n",
              "    </tr>\n",
              "    <tr>\n",
              "      <th>7643</th>\n",
              "      <td>288405</td>\n",
              "      <td>1.0</td>\n",
              "      <td>1.0</td>\n",
              "      <td>Sí</td>\n",
              "      <td>2004.0</td>\n",
              "      <td>1er. Trimestre</td>\n",
              "      <td>Gran Buenos Aires</td>\n",
              "      <td>S</td>\n",
              "      <td>Partidos del GBA</td>\n",
              "      <td>1673.0</td>\n",
              "      <td>...</td>\n",
              "      <td>02</td>\n",
              "      <td>02</td>\n",
              "      <td></td>\n",
              "      <td>02</td>\n",
              "      <td>0.0</td>\n",
              "      <td>0.0</td>\n",
              "      <td>0.0</td>\n",
              "      <td>00000</td>\n",
              "      <td>Varón</td>\n",
              "      <td>2004</td>\n",
              "    </tr>\n",
              "    <tr>\n",
              "      <th>7644</th>\n",
              "      <td>288405</td>\n",
              "      <td>1.0</td>\n",
              "      <td>2.0</td>\n",
              "      <td>Sí</td>\n",
              "      <td>2004.0</td>\n",
              "      <td>1er. Trimestre</td>\n",
              "      <td>Gran Buenos Aires</td>\n",
              "      <td>S</td>\n",
              "      <td>Partidos del GBA</td>\n",
              "      <td>1673.0</td>\n",
              "      <td>...</td>\n",
              "      <td>02</td>\n",
              "      <td>02</td>\n",
              "      <td></td>\n",
              "      <td>02</td>\n",
              "      <td>0.0</td>\n",
              "      <td>0.0</td>\n",
              "      <td>0.0</td>\n",
              "      <td>00000</td>\n",
              "      <td>Mujer</td>\n",
              "      <td>2004</td>\n",
              "    </tr>\n",
              "    <tr>\n",
              "      <th>7645</th>\n",
              "      <td>288405</td>\n",
              "      <td>1.0</td>\n",
              "      <td>3.0</td>\n",
              "      <td>Sí</td>\n",
              "      <td>2004.0</td>\n",
              "      <td>1er. Trimestre</td>\n",
              "      <td>Gran Buenos Aires</td>\n",
              "      <td>S</td>\n",
              "      <td>Partidos del GBA</td>\n",
              "      <td>1673.0</td>\n",
              "      <td>...</td>\n",
              "      <td>02</td>\n",
              "      <td>02</td>\n",
              "      <td></td>\n",
              "      <td>02</td>\n",
              "      <td>0.0</td>\n",
              "      <td>0.0</td>\n",
              "      <td>0.0</td>\n",
              "      <td>00000</td>\n",
              "      <td>Mujer</td>\n",
              "      <td>2004</td>\n",
              "    </tr>\n",
              "    <tr>\n",
              "      <th>7646</th>\n",
              "      <td>288405</td>\n",
              "      <td>1.0</td>\n",
              "      <td>4.0</td>\n",
              "      <td>Sí</td>\n",
              "      <td>2004.0</td>\n",
              "      <td>1er. Trimestre</td>\n",
              "      <td>Gran Buenos Aires</td>\n",
              "      <td>S</td>\n",
              "      <td>Partidos del GBA</td>\n",
              "      <td>1673.0</td>\n",
              "      <td>...</td>\n",
              "      <td>02</td>\n",
              "      <td>02</td>\n",
              "      <td></td>\n",
              "      <td>02</td>\n",
              "      <td>0.0</td>\n",
              "      <td>0.0</td>\n",
              "      <td>0.0</td>\n",
              "      <td>00000</td>\n",
              "      <td>Varón</td>\n",
              "      <td>2004</td>\n",
              "    </tr>\n",
              "  </tbody>\n",
              "</table>\n",
              "<p>7647 rows × 178 columns</p>\n",
              "</div>\n",
              "    <div class=\"colab-df-buttons\">\n",
              "\n",
              "  <div class=\"colab-df-container\">\n",
              "    <button class=\"colab-df-convert\" onclick=\"convertToInteractive('df-640127c3-7a34-46af-80a7-f2270357debc')\"\n",
              "            title=\"Convert this dataframe to an interactive table.\"\n",
              "            style=\"display:none;\">\n",
              "\n",
              "  <svg xmlns=\"http://www.w3.org/2000/svg\" height=\"24px\" viewBox=\"0 -960 960 960\">\n",
              "    <path d=\"M120-120v-720h720v720H120Zm60-500h600v-160H180v160Zm220 220h160v-160H400v160Zm0 220h160v-160H400v160ZM180-400h160v-160H180v160Zm440 0h160v-160H620v160ZM180-180h160v-160H180v160Zm440 0h160v-160H620v160Z\"/>\n",
              "  </svg>\n",
              "    </button>\n",
              "\n",
              "  <style>\n",
              "    .colab-df-container {\n",
              "      display:flex;\n",
              "      gap: 12px;\n",
              "    }\n",
              "\n",
              "    .colab-df-convert {\n",
              "      background-color: #E8F0FE;\n",
              "      border: none;\n",
              "      border-radius: 50%;\n",
              "      cursor: pointer;\n",
              "      display: none;\n",
              "      fill: #1967D2;\n",
              "      height: 32px;\n",
              "      padding: 0 0 0 0;\n",
              "      width: 32px;\n",
              "    }\n",
              "\n",
              "    .colab-df-convert:hover {\n",
              "      background-color: #E2EBFA;\n",
              "      box-shadow: 0px 1px 2px rgba(60, 64, 67, 0.3), 0px 1px 3px 1px rgba(60, 64, 67, 0.15);\n",
              "      fill: #174EA6;\n",
              "    }\n",
              "\n",
              "    .colab-df-buttons div {\n",
              "      margin-bottom: 4px;\n",
              "    }\n",
              "\n",
              "    [theme=dark] .colab-df-convert {\n",
              "      background-color: #3B4455;\n",
              "      fill: #D2E3FC;\n",
              "    }\n",
              "\n",
              "    [theme=dark] .colab-df-convert:hover {\n",
              "      background-color: #434B5C;\n",
              "      box-shadow: 0px 1px 3px 1px rgba(0, 0, 0, 0.15);\n",
              "      filter: drop-shadow(0px 1px 2px rgba(0, 0, 0, 0.3));\n",
              "      fill: #FFFFFF;\n",
              "    }\n",
              "  </style>\n",
              "\n",
              "    <script>\n",
              "      const buttonEl =\n",
              "        document.querySelector('#df-640127c3-7a34-46af-80a7-f2270357debc button.colab-df-convert');\n",
              "      buttonEl.style.display =\n",
              "        google.colab.kernel.accessAllowed ? 'block' : 'none';\n",
              "\n",
              "      async function convertToInteractive(key) {\n",
              "        const element = document.querySelector('#df-640127c3-7a34-46af-80a7-f2270357debc');\n",
              "        const dataTable =\n",
              "          await google.colab.kernel.invokeFunction('convertToInteractive',\n",
              "                                                    [key], {});\n",
              "        if (!dataTable) return;\n",
              "\n",
              "        const docLinkHtml = 'Like what you see? Visit the ' +\n",
              "          '<a target=\"_blank\" href=https://colab.research.google.com/notebooks/data_table.ipynb>data table notebook</a>'\n",
              "          + ' to learn more about interactive tables.';\n",
              "        element.innerHTML = '';\n",
              "        dataTable['output_type'] = 'display_data';\n",
              "        await google.colab.output.renderOutput(dataTable, element);\n",
              "        const docLink = document.createElement('div');\n",
              "        docLink.innerHTML = docLinkHtml;\n",
              "        element.appendChild(docLink);\n",
              "      }\n",
              "    </script>\n",
              "  </div>\n",
              "\n",
              "\n",
              "    <div id=\"df-59bafe36-367e-4e1d-9b27-9d445214c63b\">\n",
              "      <button class=\"colab-df-quickchart\" onclick=\"quickchart('df-59bafe36-367e-4e1d-9b27-9d445214c63b')\"\n",
              "                title=\"Suggest charts\"\n",
              "                style=\"display:none;\">\n",
              "\n",
              "<svg xmlns=\"http://www.w3.org/2000/svg\" height=\"24px\"viewBox=\"0 0 24 24\"\n",
              "     width=\"24px\">\n",
              "    <g>\n",
              "        <path d=\"M19 3H5c-1.1 0-2 .9-2 2v14c0 1.1.9 2 2 2h14c1.1 0 2-.9 2-2V5c0-1.1-.9-2-2-2zM9 17H7v-7h2v7zm4 0h-2V7h2v10zm4 0h-2v-4h2v4z\"/>\n",
              "    </g>\n",
              "</svg>\n",
              "      </button>\n",
              "\n",
              "<style>\n",
              "  .colab-df-quickchart {\n",
              "      --bg-color: #E8F0FE;\n",
              "      --fill-color: #1967D2;\n",
              "      --hover-bg-color: #E2EBFA;\n",
              "      --hover-fill-color: #174EA6;\n",
              "      --disabled-fill-color: #AAA;\n",
              "      --disabled-bg-color: #DDD;\n",
              "  }\n",
              "\n",
              "  [theme=dark] .colab-df-quickchart {\n",
              "      --bg-color: #3B4455;\n",
              "      --fill-color: #D2E3FC;\n",
              "      --hover-bg-color: #434B5C;\n",
              "      --hover-fill-color: #FFFFFF;\n",
              "      --disabled-bg-color: #3B4455;\n",
              "      --disabled-fill-color: #666;\n",
              "  }\n",
              "\n",
              "  .colab-df-quickchart {\n",
              "    background-color: var(--bg-color);\n",
              "    border: none;\n",
              "    border-radius: 50%;\n",
              "    cursor: pointer;\n",
              "    display: none;\n",
              "    fill: var(--fill-color);\n",
              "    height: 32px;\n",
              "    padding: 0;\n",
              "    width: 32px;\n",
              "  }\n",
              "\n",
              "  .colab-df-quickchart:hover {\n",
              "    background-color: var(--hover-bg-color);\n",
              "    box-shadow: 0 1px 2px rgba(60, 64, 67, 0.3), 0 1px 3px 1px rgba(60, 64, 67, 0.15);\n",
              "    fill: var(--button-hover-fill-color);\n",
              "  }\n",
              "\n",
              "  .colab-df-quickchart-complete:disabled,\n",
              "  .colab-df-quickchart-complete:disabled:hover {\n",
              "    background-color: var(--disabled-bg-color);\n",
              "    fill: var(--disabled-fill-color);\n",
              "    box-shadow: none;\n",
              "  }\n",
              "\n",
              "  .colab-df-spinner {\n",
              "    border: 2px solid var(--fill-color);\n",
              "    border-color: transparent;\n",
              "    border-bottom-color: var(--fill-color);\n",
              "    animation:\n",
              "      spin 1s steps(1) infinite;\n",
              "  }\n",
              "\n",
              "  @keyframes spin {\n",
              "    0% {\n",
              "      border-color: transparent;\n",
              "      border-bottom-color: var(--fill-color);\n",
              "      border-left-color: var(--fill-color);\n",
              "    }\n",
              "    20% {\n",
              "      border-color: transparent;\n",
              "      border-left-color: var(--fill-color);\n",
              "      border-top-color: var(--fill-color);\n",
              "    }\n",
              "    30% {\n",
              "      border-color: transparent;\n",
              "      border-left-color: var(--fill-color);\n",
              "      border-top-color: var(--fill-color);\n",
              "      border-right-color: var(--fill-color);\n",
              "    }\n",
              "    40% {\n",
              "      border-color: transparent;\n",
              "      border-right-color: var(--fill-color);\n",
              "      border-top-color: var(--fill-color);\n",
              "    }\n",
              "    60% {\n",
              "      border-color: transparent;\n",
              "      border-right-color: var(--fill-color);\n",
              "    }\n",
              "    80% {\n",
              "      border-color: transparent;\n",
              "      border-right-color: var(--fill-color);\n",
              "      border-bottom-color: var(--fill-color);\n",
              "    }\n",
              "    90% {\n",
              "      border-color: transparent;\n",
              "      border-bottom-color: var(--fill-color);\n",
              "    }\n",
              "  }\n",
              "</style>\n",
              "\n",
              "      <script>\n",
              "        async function quickchart(key) {\n",
              "          const quickchartButtonEl =\n",
              "            document.querySelector('#' + key + ' button');\n",
              "          quickchartButtonEl.disabled = true;  // To prevent multiple clicks.\n",
              "          quickchartButtonEl.classList.add('colab-df-spinner');\n",
              "          try {\n",
              "            const charts = await google.colab.kernel.invokeFunction(\n",
              "                'suggestCharts', [key], {});\n",
              "          } catch (error) {\n",
              "            console.error('Error during call to suggestCharts:', error);\n",
              "          }\n",
              "          quickchartButtonEl.classList.remove('colab-df-spinner');\n",
              "          quickchartButtonEl.classList.add('colab-df-quickchart-complete');\n",
              "        }\n",
              "        (() => {\n",
              "          let quickchartButtonEl =\n",
              "            document.querySelector('#df-59bafe36-367e-4e1d-9b27-9d445214c63b button');\n",
              "          quickchartButtonEl.style.display =\n",
              "            google.colab.kernel.accessAllowed ? 'block' : 'none';\n",
              "        })();\n",
              "      </script>\n",
              "    </div>\n",
              "\n",
              "    </div>\n",
              "  </div>\n"
            ],
            "application/vnd.google.colaboratory.intrinsic+json": {
              "type": "dataframe"
            }
          },
          "metadata": {},
          "execution_count": 32
        }
      ]
    },
    {
      "cell_type": "code",
      "source": [
        "df_2004[df_2004[\"region\"] == 1]  # Correcto si REGION es numérica"
      ],
      "metadata": {
        "colab": {
          "base_uri": "https://localhost:8080/",
          "height": 79
        },
        "id": "o-dMF0q5esI7",
        "outputId": "0d02ce0d-d189-4309-b193-64eaa4d8e58e"
      },
      "execution_count": 34,
      "outputs": [
        {
          "output_type": "execute_result",
          "data": {
            "text/plain": [
              "Empty DataFrame\n",
              "Columns: [CODUSU, nro_hogar, componente, h15, ano4, trimestre, region, mas_500, aglomerado, pondera, ch03, ch04, ch06, ch07, ch08, ch09, ch10, ch11, ch12, ch13, ch14, ch15, ch15_cod, ch16, ch16_cod, nivel_ed, estado, cat_ocup, cat_inac, pp02c1, pp02c2, pp02c3, pp02c4, pp02c5, pp02c6, pp02c7, pp02c8, pp02e, pp02h, pp02i, pp03c, pp03d, pp3e_tot, pp3f_tot, pp03g, pp03h, pp03i, pp03j, intensi, pp04a, pp04b_cod, pp04b1, pp04b2, pp04b3_mes, pp04b3_ano, pp04b3_dia, pp04c, pp04c99, pp04d_cod, pp04g, pp05b2_mes, pp05b2_ano, pp05b2_dia, pp05c_1, pp05c_2, pp05c_3, pp05e, pp05f, pp05h, pp06a, pp06c, pp06d, pp06e, pp06h, pp07a, pp07c, pp07d, pp07e, pp07f1, pp07f2, pp07f3, pp07f4, pp07f5, pp07g1, pp07g2, pp07g3, pp07g4, pp07g_59, pp07h, pp07i, pp07j, pp07k, pp08d1, pp08d4, pp08f1, pp08f2, pp08j1, pp08j2, pp08j3, pp09a, ...]\n",
              "Index: []\n",
              "\n",
              "[0 rows x 178 columns]"
            ],
            "text/html": [
              "\n",
              "  <div id=\"df-85fa7f07-f512-4f8b-ad63-edf443eafc34\" class=\"colab-df-container\">\n",
              "    <div>\n",
              "<style scoped>\n",
              "    .dataframe tbody tr th:only-of-type {\n",
              "        vertical-align: middle;\n",
              "    }\n",
              "\n",
              "    .dataframe tbody tr th {\n",
              "        vertical-align: top;\n",
              "    }\n",
              "\n",
              "    .dataframe thead th {\n",
              "        text-align: right;\n",
              "    }\n",
              "</style>\n",
              "<table border=\"1\" class=\"dataframe\">\n",
              "  <thead>\n",
              "    <tr style=\"text-align: right;\">\n",
              "      <th></th>\n",
              "      <th>CODUSU</th>\n",
              "      <th>nro_hogar</th>\n",
              "      <th>componente</th>\n",
              "      <th>h15</th>\n",
              "      <th>ano4</th>\n",
              "      <th>trimestre</th>\n",
              "      <th>region</th>\n",
              "      <th>mas_500</th>\n",
              "      <th>aglomerado</th>\n",
              "      <th>pondera</th>\n",
              "      <th>...</th>\n",
              "      <th>rdeccfr</th>\n",
              "      <th>gdeccfr</th>\n",
              "      <th>pdeccfr</th>\n",
              "      <th>adeccfr</th>\n",
              "      <th>pj1_1</th>\n",
              "      <th>pj2_1</th>\n",
              "      <th>pj3_1</th>\n",
              "      <th>idimpp</th>\n",
              "      <th>Sexo</th>\n",
              "      <th>Año</th>\n",
              "    </tr>\n",
              "  </thead>\n",
              "  <tbody>\n",
              "  </tbody>\n",
              "</table>\n",
              "<p>0 rows × 178 columns</p>\n",
              "</div>\n",
              "    <div class=\"colab-df-buttons\">\n",
              "\n",
              "  <div class=\"colab-df-container\">\n",
              "    <button class=\"colab-df-convert\" onclick=\"convertToInteractive('df-85fa7f07-f512-4f8b-ad63-edf443eafc34')\"\n",
              "            title=\"Convert this dataframe to an interactive table.\"\n",
              "            style=\"display:none;\">\n",
              "\n",
              "  <svg xmlns=\"http://www.w3.org/2000/svg\" height=\"24px\" viewBox=\"0 -960 960 960\">\n",
              "    <path d=\"M120-120v-720h720v720H120Zm60-500h600v-160H180v160Zm220 220h160v-160H400v160Zm0 220h160v-160H400v160ZM180-400h160v-160H180v160Zm440 0h160v-160H620v160ZM180-180h160v-160H180v160Zm440 0h160v-160H620v160Z\"/>\n",
              "  </svg>\n",
              "    </button>\n",
              "\n",
              "  <style>\n",
              "    .colab-df-container {\n",
              "      display:flex;\n",
              "      gap: 12px;\n",
              "    }\n",
              "\n",
              "    .colab-df-convert {\n",
              "      background-color: #E8F0FE;\n",
              "      border: none;\n",
              "      border-radius: 50%;\n",
              "      cursor: pointer;\n",
              "      display: none;\n",
              "      fill: #1967D2;\n",
              "      height: 32px;\n",
              "      padding: 0 0 0 0;\n",
              "      width: 32px;\n",
              "    }\n",
              "\n",
              "    .colab-df-convert:hover {\n",
              "      background-color: #E2EBFA;\n",
              "      box-shadow: 0px 1px 2px rgba(60, 64, 67, 0.3), 0px 1px 3px 1px rgba(60, 64, 67, 0.15);\n",
              "      fill: #174EA6;\n",
              "    }\n",
              "\n",
              "    .colab-df-buttons div {\n",
              "      margin-bottom: 4px;\n",
              "    }\n",
              "\n",
              "    [theme=dark] .colab-df-convert {\n",
              "      background-color: #3B4455;\n",
              "      fill: #D2E3FC;\n",
              "    }\n",
              "\n",
              "    [theme=dark] .colab-df-convert:hover {\n",
              "      background-color: #434B5C;\n",
              "      box-shadow: 0px 1px 3px 1px rgba(0, 0, 0, 0.15);\n",
              "      filter: drop-shadow(0px 1px 2px rgba(0, 0, 0, 0.3));\n",
              "      fill: #FFFFFF;\n",
              "    }\n",
              "  </style>\n",
              "\n",
              "    <script>\n",
              "      const buttonEl =\n",
              "        document.querySelector('#df-85fa7f07-f512-4f8b-ad63-edf443eafc34 button.colab-df-convert');\n",
              "      buttonEl.style.display =\n",
              "        google.colab.kernel.accessAllowed ? 'block' : 'none';\n",
              "\n",
              "      async function convertToInteractive(key) {\n",
              "        const element = document.querySelector('#df-85fa7f07-f512-4f8b-ad63-edf443eafc34');\n",
              "        const dataTable =\n",
              "          await google.colab.kernel.invokeFunction('convertToInteractive',\n",
              "                                                    [key], {});\n",
              "        if (!dataTable) return;\n",
              "\n",
              "        const docLinkHtml = 'Like what you see? Visit the ' +\n",
              "          '<a target=\"_blank\" href=https://colab.research.google.com/notebooks/data_table.ipynb>data table notebook</a>'\n",
              "          + ' to learn more about interactive tables.';\n",
              "        element.innerHTML = '';\n",
              "        dataTable['output_type'] = 'display_data';\n",
              "        await google.colab.output.renderOutput(dataTable, element);\n",
              "        const docLink = document.createElement('div');\n",
              "        docLink.innerHTML = docLinkHtml;\n",
              "        element.appendChild(docLink);\n",
              "      }\n",
              "    </script>\n",
              "  </div>\n",
              "\n",
              "\n",
              "    </div>\n",
              "  </div>\n"
            ],
            "application/vnd.google.colaboratory.intrinsic+json": {
              "type": "dataframe"
            }
          },
          "metadata": {},
          "execution_count": 34
        }
      ]
    },
    {
      "cell_type": "code",
      "source": [
        "variables_corr = ['CH04', 'CH06', 'CH07', 'CH08', 'NIVEL_ED', 'ESTADO', 'CAT_INAC', 'IPCF']\n",
        "\n",
        "# Revisar qué columnas faltan\n",
        "missing_cols = [col for col in variables_corr if col not in df_2004_gba.columns]\n",
        "print(\"Columnas faltantes:\", missing_cols)"
      ],
      "metadata": {
        "colab": {
          "base_uri": "https://localhost:8080/"
        },
        "id": "f9V4K8Mbe46X",
        "outputId": "d93ceb31-a3dc-4b94-b7f0-f95a16514024"
      },
      "execution_count": 38,
      "outputs": [
        {
          "output_type": "stream",
          "name": "stdout",
          "text": [
            "Columnas faltantes: ['CH04', 'CH06', 'CH07', 'CH08', 'NIVEL_ED', 'ESTADO', 'CAT_INAC', 'IPCF']\n"
          ]
        }
      ]
    },
    {
      "cell_type": "code",
      "source": [
        "print(df_2004_gba.shape)"
      ],
      "metadata": {
        "colab": {
          "base_uri": "https://localhost:8080/"
        },
        "id": "2xf04sOYfevX",
        "outputId": "bd632179-8810-4f9b-bb32-93cd5c46ca3c"
      },
      "execution_count": 64,
      "outputs": [
        {
          "output_type": "stream",
          "name": "stdout",
          "text": [
            "(0, 176)\n"
          ]
        }
      ]
    },
    {
      "cell_type": "code",
      "source": [
        "print(df_2004_gba.columns.tolist())"
      ],
      "metadata": {
        "colab": {
          "base_uri": "https://localhost:8080/"
        },
        "id": "z3Wns9ysf4kB",
        "outputId": "92919266-098f-49bd-cdb7-163fd9c10d32"
      },
      "execution_count": 63,
      "outputs": [
        {
          "output_type": "stream",
          "name": "stdout",
          "text": [
            "['CODUSU', 'NRO_HOGAR', 'COMPONENTE', 'H15', 'ANO4', 'TRIMESTRE', 'REGION', 'MAS_500', 'AGLOMERADO', 'PONDERA', 'CH03', 'CH04', 'CH06', 'CH07', 'CH08', 'CH09', 'CH10', 'CH11', 'CH12', 'CH13', 'CH14', 'CH15', 'CH15_COD', 'CH16', 'CH16_COD', 'NIVEL_ED', 'ESTADO', 'CAT_OCUP', 'CAT_INAC', 'PP02C1', 'PP02C2', 'PP02C3', 'PP02C4', 'PP02C5', 'PP02C6', 'PP02C7', 'PP02C8', 'PP02E', 'PP02H', 'PP02I', 'PP03C', 'PP03D', 'PP3E_TOT', 'PP3F_TOT', 'PP03G', 'PP03H', 'PP03I', 'PP03J', 'INTENSI', 'PP04A', 'PP04B_COD', 'PP04B1', 'PP04B2', 'PP04B3_MES', 'PP04B3_ANO', 'PP04B3_DIA', 'PP04C', 'PP04C99', 'PP04D_COD', 'PP04G', 'PP05B2_MES', 'PP05B2_ANO', 'PP05B2_DIA', 'PP05C_1', 'PP05C_2', 'PP05C_3', 'PP05E', 'PP05F', 'PP05H', 'PP06A', 'PP06C', 'PP06D', 'PP06E', 'PP06H', 'PP07A', 'PP07C', 'PP07D', 'PP07E', 'PP07F1', 'PP07F2', 'PP07F3', 'PP07F4', 'PP07F5', 'PP07G1', 'PP07G2', 'PP07G3', 'PP07G4', 'PP07G_59', 'PP07H', 'PP07I', 'PP07J', 'PP07K', 'PP08D1', 'PP08D4', 'PP08F1', 'PP08F2', 'PP08J1', 'PP08J2', 'PP08J3', 'PP09A', 'PP09A_ESP', 'PP09B', 'PP09C', 'PP09C_ESP', 'PP10A', 'PP10C', 'PP10D', 'PP10E', 'PP11A', 'PP11B_COD', 'PP11B1', 'PP11B2_MES', 'PP11B2_ANO', 'PP11B2_DIA', 'PP11C', 'PP11C99', 'PP11D_COD', 'PP11G_ANO', 'PP11G_MES', 'PP11G_DIA', 'PP11L', 'PP11L1', 'PP11M', 'PP11N', 'PP11O', 'PP11P', 'PP11Q', 'PP11R', 'PP11S', 'PP11T', 'P21', 'DECOCUR', 'IDECOCUR', 'RDECOCUR', 'GDECOCUR', 'PDECOCUR', 'ADECOCUR', 'TOT_P12', 'P47T', 'DECINDR', 'IDECINDR', 'RDECINDR', 'GDECINDR', 'PDECINDR', 'ADECINDR', 'V2_M', 'V3_M', 'V4_M', 'V5_M', 'V8_M', 'V9_M', 'V10_M', 'V11_M', 'V12_M', 'V18_M', 'V19_AM', 'V21_M', 'T_VI', 'ITF', 'DECIFR', 'IDECIFR', 'RDECIFR', 'GDECIFR', 'PDECIFR', 'ADECIFR', 'IPCF', 'DECCFR', 'IDECCFR', 'RDECCFR', 'GDECCFR', 'PDECCFR', 'ADECCFR', 'PJ1_1', 'PJ2_1', 'PJ3_1', 'IDIMPP']\n"
          ]
        }
      ]
    },
    {
      "cell_type": "markdown",
      "source": [],
      "metadata": {
        "id": "7rixxvj7lHgb"
      }
    },
    {
      "cell_type": "code",
      "source": [
        "variables_corr = ['CH04', 'CH06', 'CH07', 'CH08', 'NIVEL_ED', 'ESTADO', 'CAT_INAC', 'IPCF']"
      ],
      "metadata": {
        "id": "nmTIkoX9f97A"
      },
      "execution_count": 65,
      "outputs": []
    },
    {
      "cell_type": "code",
      "source": [
        "missing = [var for var in variables_corr if var not in df_2004_gba.columns]\n",
        "print(\"Variables faltantes:\", missing)"
      ],
      "metadata": {
        "colab": {
          "base_uri": "https://localhost:8080/"
        },
        "id": "sVLa1FttgFGo",
        "outputId": "14cef8fe-ff3f-46e1-de68-0ae2ab80ab92"
      },
      "execution_count": 43,
      "outputs": [
        {
          "output_type": "stream",
          "name": "stdout",
          "text": [
            "Variables faltantes: ['CH04', 'CH06', 'CH07', 'CH08', 'NIVEL_ED', 'ESTADO', 'CAT_INAC', 'IPCF']\n"
          ]
        }
      ]
    },
    {
      "cell_type": "code",
      "source": [
        "print(df_2004_gba.columns.tolist())"
      ],
      "metadata": {
        "colab": {
          "base_uri": "https://localhost:8080/"
        },
        "id": "kLQSMfgXgOQ1",
        "outputId": "acca522f-7dae-4214-c46b-f542ae6e5c6e"
      },
      "execution_count": 66,
      "outputs": [
        {
          "output_type": "stream",
          "name": "stdout",
          "text": [
            "['CODUSU', 'NRO_HOGAR', 'COMPONENTE', 'H15', 'ANO4', 'TRIMESTRE', 'REGION', 'MAS_500', 'AGLOMERADO', 'PONDERA', 'CH03', 'CH04', 'CH06', 'CH07', 'CH08', 'CH09', 'CH10', 'CH11', 'CH12', 'CH13', 'CH14', 'CH15', 'CH15_COD', 'CH16', 'CH16_COD', 'NIVEL_ED', 'ESTADO', 'CAT_OCUP', 'CAT_INAC', 'PP02C1', 'PP02C2', 'PP02C3', 'PP02C4', 'PP02C5', 'PP02C6', 'PP02C7', 'PP02C8', 'PP02E', 'PP02H', 'PP02I', 'PP03C', 'PP03D', 'PP3E_TOT', 'PP3F_TOT', 'PP03G', 'PP03H', 'PP03I', 'PP03J', 'INTENSI', 'PP04A', 'PP04B_COD', 'PP04B1', 'PP04B2', 'PP04B3_MES', 'PP04B3_ANO', 'PP04B3_DIA', 'PP04C', 'PP04C99', 'PP04D_COD', 'PP04G', 'PP05B2_MES', 'PP05B2_ANO', 'PP05B2_DIA', 'PP05C_1', 'PP05C_2', 'PP05C_3', 'PP05E', 'PP05F', 'PP05H', 'PP06A', 'PP06C', 'PP06D', 'PP06E', 'PP06H', 'PP07A', 'PP07C', 'PP07D', 'PP07E', 'PP07F1', 'PP07F2', 'PP07F3', 'PP07F4', 'PP07F5', 'PP07G1', 'PP07G2', 'PP07G3', 'PP07G4', 'PP07G_59', 'PP07H', 'PP07I', 'PP07J', 'PP07K', 'PP08D1', 'PP08D4', 'PP08F1', 'PP08F2', 'PP08J1', 'PP08J2', 'PP08J3', 'PP09A', 'PP09A_ESP', 'PP09B', 'PP09C', 'PP09C_ESP', 'PP10A', 'PP10C', 'PP10D', 'PP10E', 'PP11A', 'PP11B_COD', 'PP11B1', 'PP11B2_MES', 'PP11B2_ANO', 'PP11B2_DIA', 'PP11C', 'PP11C99', 'PP11D_COD', 'PP11G_ANO', 'PP11G_MES', 'PP11G_DIA', 'PP11L', 'PP11L1', 'PP11M', 'PP11N', 'PP11O', 'PP11P', 'PP11Q', 'PP11R', 'PP11S', 'PP11T', 'P21', 'DECOCUR', 'IDECOCUR', 'RDECOCUR', 'GDECOCUR', 'PDECOCUR', 'ADECOCUR', 'TOT_P12', 'P47T', 'DECINDR', 'IDECINDR', 'RDECINDR', 'GDECINDR', 'PDECINDR', 'ADECINDR', 'V2_M', 'V3_M', 'V4_M', 'V5_M', 'V8_M', 'V9_M', 'V10_M', 'V11_M', 'V12_M', 'V18_M', 'V19_AM', 'V21_M', 'T_VI', 'ITF', 'DECIFR', 'IDECIFR', 'RDECIFR', 'GDECIFR', 'PDECIFR', 'ADECIFR', 'IPCF', 'DECCFR', 'IDECCFR', 'RDECCFR', 'GDECCFR', 'PDECCFR', 'ADECCFR', 'PJ1_1', 'PJ2_1', 'PJ3_1', 'IDIMPP']\n"
          ]
        }
      ]
    },
    {
      "cell_type": "code",
      "source": [
        "# Mostrar todas las columnas disponibles en la base 2004 (Gran Buenos Aires)\n",
        "for col in df_2004_gba.columns:\n",
        "    print(col)"
      ],
      "metadata": {
        "colab": {
          "base_uri": "https://localhost:8080/"
        },
        "id": "Zu5_3ISFgRmK",
        "outputId": "ae00f49e-53c1-40b6-d8ba-0028943fa945"
      },
      "execution_count": 67,
      "outputs": [
        {
          "output_type": "stream",
          "name": "stdout",
          "text": [
            "CODUSU\n",
            "NRO_HOGAR\n",
            "COMPONENTE\n",
            "H15\n",
            "ANO4\n",
            "TRIMESTRE\n",
            "REGION\n",
            "MAS_500\n",
            "AGLOMERADO\n",
            "PONDERA\n",
            "CH03\n",
            "CH04\n",
            "CH06\n",
            "CH07\n",
            "CH08\n",
            "CH09\n",
            "CH10\n",
            "CH11\n",
            "CH12\n",
            "CH13\n",
            "CH14\n",
            "CH15\n",
            "CH15_COD\n",
            "CH16\n",
            "CH16_COD\n",
            "NIVEL_ED\n",
            "ESTADO\n",
            "CAT_OCUP\n",
            "CAT_INAC\n",
            "PP02C1\n",
            "PP02C2\n",
            "PP02C3\n",
            "PP02C4\n",
            "PP02C5\n",
            "PP02C6\n",
            "PP02C7\n",
            "PP02C8\n",
            "PP02E\n",
            "PP02H\n",
            "PP02I\n",
            "PP03C\n",
            "PP03D\n",
            "PP3E_TOT\n",
            "PP3F_TOT\n",
            "PP03G\n",
            "PP03H\n",
            "PP03I\n",
            "PP03J\n",
            "INTENSI\n",
            "PP04A\n",
            "PP04B_COD\n",
            "PP04B1\n",
            "PP04B2\n",
            "PP04B3_MES\n",
            "PP04B3_ANO\n",
            "PP04B3_DIA\n",
            "PP04C\n",
            "PP04C99\n",
            "PP04D_COD\n",
            "PP04G\n",
            "PP05B2_MES\n",
            "PP05B2_ANO\n",
            "PP05B2_DIA\n",
            "PP05C_1\n",
            "PP05C_2\n",
            "PP05C_3\n",
            "PP05E\n",
            "PP05F\n",
            "PP05H\n",
            "PP06A\n",
            "PP06C\n",
            "PP06D\n",
            "PP06E\n",
            "PP06H\n",
            "PP07A\n",
            "PP07C\n",
            "PP07D\n",
            "PP07E\n",
            "PP07F1\n",
            "PP07F2\n",
            "PP07F3\n",
            "PP07F4\n",
            "PP07F5\n",
            "PP07G1\n",
            "PP07G2\n",
            "PP07G3\n",
            "PP07G4\n",
            "PP07G_59\n",
            "PP07H\n",
            "PP07I\n",
            "PP07J\n",
            "PP07K\n",
            "PP08D1\n",
            "PP08D4\n",
            "PP08F1\n",
            "PP08F2\n",
            "PP08J1\n",
            "PP08J2\n",
            "PP08J3\n",
            "PP09A\n",
            "PP09A_ESP\n",
            "PP09B\n",
            "PP09C\n",
            "PP09C_ESP\n",
            "PP10A\n",
            "PP10C\n",
            "PP10D\n",
            "PP10E\n",
            "PP11A\n",
            "PP11B_COD\n",
            "PP11B1\n",
            "PP11B2_MES\n",
            "PP11B2_ANO\n",
            "PP11B2_DIA\n",
            "PP11C\n",
            "PP11C99\n",
            "PP11D_COD\n",
            "PP11G_ANO\n",
            "PP11G_MES\n",
            "PP11G_DIA\n",
            "PP11L\n",
            "PP11L1\n",
            "PP11M\n",
            "PP11N\n",
            "PP11O\n",
            "PP11P\n",
            "PP11Q\n",
            "PP11R\n",
            "PP11S\n",
            "PP11T\n",
            "P21\n",
            "DECOCUR\n",
            "IDECOCUR\n",
            "RDECOCUR\n",
            "GDECOCUR\n",
            "PDECOCUR\n",
            "ADECOCUR\n",
            "TOT_P12\n",
            "P47T\n",
            "DECINDR\n",
            "IDECINDR\n",
            "RDECINDR\n",
            "GDECINDR\n",
            "PDECINDR\n",
            "ADECINDR\n",
            "V2_M\n",
            "V3_M\n",
            "V4_M\n",
            "V5_M\n",
            "V8_M\n",
            "V9_M\n",
            "V10_M\n",
            "V11_M\n",
            "V12_M\n",
            "V18_M\n",
            "V19_AM\n",
            "V21_M\n",
            "T_VI\n",
            "ITF\n",
            "DECIFR\n",
            "IDECIFR\n",
            "RDECIFR\n",
            "GDECIFR\n",
            "PDECIFR\n",
            "ADECIFR\n",
            "IPCF\n",
            "DECCFR\n",
            "IDECCFR\n",
            "RDECCFR\n",
            "GDECCFR\n",
            "PDECCFR\n",
            "ADECCFR\n",
            "PJ1_1\n",
            "PJ2_1\n",
            "PJ3_1\n",
            "IDIMPP\n"
          ]
        }
      ]
    },
    {
      "cell_type": "code",
      "source": [
        "df_2004.columns = df_2004.columns.str.upper()"
      ],
      "metadata": {
        "id": "ORefEy5qfi3u"
      },
      "execution_count": 68,
      "outputs": []
    },
    {
      "cell_type": "code",
      "source": [
        "import seaborn as sns\n",
        "import matplotlib.pyplot as plt\n",
        "import pandas as pd\n",
        "import numpy as np\n",
        "\n",
        "# Lista final confirmada de variables\n",
        "variables_corr = ['CH04', 'CH06', 'CH07', 'CH08', 'NIVEL_ED', 'ESTADO', 'CAT_INAC', 'IPCF']\n",
        "\n",
        "# Filtrar solo Gran Buenos Aires (REGION = 1)\n",
        "df_2004_gba = df_2004[df_2004[\"REGION\"] == 1]\n",
        "\n",
        "# Asegurarse de que las columnas estén en formato numérico\n",
        "df_corr_2004 = df_2004_gba[variables_corr].apply(pd.to_numeric, errors='coerce')\n",
        "\n",
        "# Matriz de correlación\n",
        "corr_matrix_2004 = df_corr_2004.corr()\n",
        "\n",
        "# Graficar heatmap\n",
        "plt.figure(figsize=(10, 8))\n",
        "sns.heatmap(corr_matrix_2004, annot=True, cmap='coolwarm', linewidths=0.5, vmin=-1, vmax=1)\n",
        "plt.title('Matriz de Correlación - Gran Buenos Aires (2004)', fontsize=14)\n",
        "plt.xticks(rotation=45)\n",
        "plt.yticks(rotation=45)\n",
        "plt.tight_layout()\n",
        "plt.show()\n"
      ],
      "metadata": {
        "colab": {
          "base_uri": "https://localhost:8080/",
          "height": 801
        },
        "id": "IIVP10ewgkl-",
        "outputId": "c1512c99-5216-45f0-8304-1fac282a0f1f"
      },
      "execution_count": 69,
      "outputs": [
        {
          "output_type": "display_data",
          "data": {
            "text/plain": [
              "<Figure size 1000x800 with 2 Axes>"
            ],
            "image/png": "[encoded data removed]"
          },
          "metadata": {}
        }
      ]
    },
    {
      "cell_type": "code",
      "source": [
        "# Ver cuántos valores no nulos hay en cada variable\n",
        "df_corr_2004 = df_2004_gba[variables_corr].apply(pd.to_numeric, errors='coerce')\n",
        "print(\"Cantidad de datos válidos por variable:\")\n",
        "print(df_corr_2004.notna().sum())"
      ],
      "metadata": {
        "colab": {
          "base_uri": "https://localhost:8080/"
        },
        "id": "GP6aEHNXg6cp",
        "outputId": "486804fc-6aa7-455d-9e63-bcd6a3b5153f"
      },
      "execution_count": 70,
      "outputs": [
        {
          "output_type": "stream",
          "name": "stdout",
          "text": [
            "Cantidad de datos válidos por variable:\n",
            "CH04        0\n",
            "CH06        0\n",
            "CH07        0\n",
            "CH08        0\n",
            "NIVEL_ED    0\n",
            "ESTADO      0\n",
            "CAT_INAC    0\n",
            "IPCF        0\n",
            "dtype: int64\n"
          ]
        }
      ]
    },
    {
      "cell_type": "code",
      "source": [
        "for var in ['CH04', 'CH06', 'CH07', 'CH08', 'NIVEL_ED', 'ESTADO', 'CAT_INAC', 'IPCF']:\n",
        "    if var in df_2004.columns:\n",
        "        print(f\"\\n--- {var} ---\")\n",
        "        print(df_2004[var].value_counts(dropna=False))\n",
        "    else:\n",
        "        print(f\"\\n{var} no existe en el DataFrame.\")"
      ],
      "metadata": {
        "colab": {
          "base_uri": "https://localhost:8080/"
        },
        "id": "39w4b48wheI9",
        "outputId": "04661c74-04fa-48ae-ca8f-54ef49ea7568"
      },
      "execution_count": 73,
      "outputs": [
        {
          "output_type": "stream",
          "name": "stdout",
          "text": [
            "\n",
            "--- CH04 ---\n",
            "CH04\n",
            "Mujer    23697\n",
            "Varón    21592\n",
            "Name: count, dtype: int64\n",
            "\n",
            "--- CH06 ---\n",
            "CH06\n",
            "12.0             928\n",
            "21.0             918\n",
            "13.0             904\n",
            "14.0             888\n",
            "18.0             884\n",
            "                ... \n",
            "98 y más años     14\n",
            "94.0               6\n",
            "95.0               6\n",
            "96.0               3\n",
            "97.0               2\n",
            "Name: count, Length: 99, dtype: int64\n",
            "\n",
            "--- CH07 ---\n",
            "CH07\n",
            "Soltero                  23993\n",
            "Casado                   12810\n",
            "Unido                     4441\n",
            "Viudo                     2218\n",
            "Separado o divorciado     1826\n",
            "Ns./Nr.                      1\n",
            "Name: count, dtype: int64\n",
            "\n",
            "--- CH08 ---\n",
            "CH08\n",
            "Obra social (incluye PAMI)                                      20631\n",
            "No paga ni le descuentan                                        19487\n",
            "Mutual/Prepaga/Servicio de emergencia                            2824\n",
            "Obra social y mutual/prepaga/servicio de emergencia              1776\n",
            "Planes y seguros públicos                                         452\n",
            "Ns./Nr.                                                            75\n",
            "Obra social, mutual/prepaga/servicio de emergencia y planes        21\n",
            "Obra social y planes y seguros públicos                            16\n",
            "Mutual/prepaga/servicio de emergencia/planes y seguros públi        7\n",
            "Name: count, dtype: int64\n",
            "\n",
            "--- NIVEL_ED ---\n",
            "NIVEL_ED\n",
            "Primaria Incompleta (incluye educación especial)    9344\n",
            "Primaria Completa                                   8614\n",
            "Secundaria Incompleta                               8178\n",
            "Secundaria Completa                                 5906\n",
            "Superior Universitaria Incompleta                   4915\n",
            "Sin instrucción                                     4786\n",
            "Superior Universitaria Completa                     3546\n",
            "Name: count, dtype: int64\n",
            "\n",
            "--- ESTADO ---\n",
            "ESTADO\n",
            "Inactivo                                                        17700\n",
            "Ocupado                                                         17022\n",
            "Menor de 10 años                                                 7815\n",
            "Desocupado                                                       2717\n",
            "Entrevista individual no realizada (no respuesta al cuestion       35\n",
            "Name: count, dtype: int64\n",
            "\n",
            "--- CAT_INAC ---\n",
            "CAT_INAC\n",
            "0.0                    19774\n",
            "Estudiante             11699\n",
            "Menor de 6 años         4539\n",
            "Ama de casa             4455\n",
            "Jubilado/pensionado     3640\n",
            "Otros                    841\n",
            "Discapacitado            260\n",
            "Rentista                  81\n",
            "Name: count, dtype: int64\n",
            "\n",
            "--- IPCF ---\n",
            "IPCF\n",
            "100.0     1154\n",
            "200.0      975\n",
            "150.0      917\n",
            "300.0      854\n",
            "0.0        735\n",
            "          ... \n",
            "523.0        1\n",
            "333.0        1\n",
            "827.0        1\n",
            "1186.0       1\n",
            "3620.0       1\n",
            "Name: count, Length: 2240, dtype: int64\n"
          ]
        }
      ]
    },
    {
      "cell_type": "code",
      "source": [
        "df_2004['CH04'] = df_2004['CH04'].replace({'Varón': 1, 'Mujer': 2})\n",
        "df_2004['ESTADO'] = df_2004['ESTADO'].replace({'Ocupado': 1, 'Desocupado': 2, 'Inactivo': 3})  # Add more replacements as needed"
      ],
      "metadata": {
        "colab": {
          "base_uri": "https://localhost:8080/"
        },
        "id": "LpXwoET6l05x",
        "outputId": "0c394690-24fa-40bf-9838-f75566751ec8"
      },
      "execution_count": 78,
      "outputs": [
        {
          "output_type": "stream",
          "name": "stderr",
          "text": [
            "<ipython-input-78-84fa3e5dcdbe>:1: FutureWarning: The behavior of Series.replace (and DataFrame.replace) with CategoricalDtype is deprecated. In a future version, replace will only be used for cases that preserve the categories. To change the categories, use ser.cat.rename_categories instead.\n",
            "  df_2004['CH04'] = df_2004['CH04'].replace({'Varón': 1, 'Mujer': 2})\n",
            "<ipython-input-78-84fa3e5dcdbe>:2: FutureWarning: The behavior of Series.replace (and DataFrame.replace) with CategoricalDtype is deprecated. In a future version, replace will only be used for cases that preserve the categories. To change the categories, use ser.cat.rename_categories instead.\n",
            "  df_2004['ESTADO'] = df_2004['ESTADO'].replace({'Ocupado': 1, 'Desocupado': 2, 'Inactivo': 3})  # Add more replacements as needed\n"
          ]
        }
      ]
    },
    {
      "cell_type": "code",
      "source": [
        "variables_corr_numericas = ['CH04', 'CH06', 'CH07', 'CH08', 'NIVEL_ED', 'ESTADO', 'IPCF']  # Assuming these are now numerical\n",
        "df_corr = df_2004[variables_corr_numericas].apply(pd.to_numeric, errors='coerce')\n",
        "corr_matrix = df_corr.corr()  # Calculate correlation"
      ],
      "metadata": {
        "id": "jux_-eiFl2nM"
      },
      "execution_count": 79,
      "outputs": []
    },
    {
      "cell_type": "code",
      "source": [
        "df_test = df_2004[df_2004[\"REGION\"] == 1]\n",
        "\n",
        "# Mostramos valores únicos de cada variable para ver si hay algo aprovechable\n",
        "for var in ['CH04', 'CH06', 'ESTADO', 'IPCF']:\n",
        "    print(f\"\\n--- {var} ---\")\n",
        "    print(df_test[var].value_counts(dropna=False))"
      ],
      "metadata": {
        "colab": {
          "base_uri": "https://localhost:8080/"
        },
        "id": "1m4HJgH1hoSt",
        "outputId": "7c8f7729-9d15-4f99-c84d-8aa0a30674a3"
      },
      "execution_count": 80,
      "outputs": [
        {
          "output_type": "stream",
          "name": "stdout",
          "text": [
            "\n",
            "--- CH04 ---\n",
            "CH04\n",
            "1    0\n",
            "2    0\n",
            "Name: count, dtype: int64\n",
            "\n",
            "--- CH06 ---\n",
            "CH06\n",
            "Menos de 1 año    0\n",
            "1.0               0\n",
            "2.0               0\n",
            "3.0               0\n",
            "4.0               0\n",
            "                 ..\n",
            "94.0              0\n",
            "95.0              0\n",
            "96.0              0\n",
            "97.0              0\n",
            "98 y más años     0\n",
            "Name: count, Length: 99, dtype: int64\n",
            "\n",
            "--- ESTADO ---\n",
            "ESTADO\n",
            "Entrevista individual no realizada (no respuesta al cuestion    0\n",
            "1                                                               0\n",
            "2                                                               0\n",
            "3                                                               0\n",
            "Menor de 10 años                                                0\n",
            "Name: count, dtype: int64\n",
            "\n",
            "--- IPCF ---\n",
            "Series([], Name: count, dtype: int64)\n"
          ]
        }
      ]
    },
    {
      "cell_type": "code",
      "source": [
        "df_2004 = pd.read_stata(\"Individual_t104.dta\")\n",
        "df_2004.columns = df_2004.columns.str.upper()"
      ],
      "metadata": {
        "id": "bfRwpjgziGh_"
      },
      "execution_count": 75,
      "outputs": []
    },
    {
      "cell_type": "code",
      "source": [
        "df_gba = df_2004[df_2004[\"REGION\"] == 1].copy()"
      ],
      "metadata": {
        "id": "oKnozqCtiJcJ"
      },
      "execution_count": 76,
      "outputs": []
    },
    {
      "cell_type": "code",
      "source": [
        "print(df_gba[\"CH04\"].value_counts(dropna=False))\n",
        "print(df_gba[\"CH06\"].value_counts(dropna=False))\n",
        "print(df_gba[\"ESTADO\"].value_counts(dropna=False))\n",
        "print(df_gba[\"IPCF\"].value_counts(dropna=False))"
      ],
      "metadata": {
        "colab": {
          "base_uri": "https://localhost:8080/"
        },
        "id": "SzYStaHmiKU8",
        "outputId": "937e5126-fccc-4b1d-cb25-271590b1a805"
      },
      "execution_count": 77,
      "outputs": [
        {
          "output_type": "stream",
          "name": "stdout",
          "text": [
            "CH04\n",
            "Varón    0\n",
            "Mujer    0\n",
            "Name: count, dtype: int64\n",
            "CH06\n",
            "Menos de 1 año    0\n",
            "1.0               0\n",
            "2.0               0\n",
            "3.0               0\n",
            "4.0               0\n",
            "                 ..\n",
            "94.0              0\n",
            "95.0              0\n",
            "96.0              0\n",
            "97.0              0\n",
            "98 y más años     0\n",
            "Name: count, Length: 99, dtype: int64\n",
            "ESTADO\n",
            "Entrevista individual no realizada (no respuesta al cuestion    0\n",
            "Ocupado                                                         0\n",
            "Desocupado                                                      0\n",
            "Inactivo                                                        0\n",
            "Menor de 10 años                                                0\n",
            "Name: count, dtype: int64\n",
            "Series([], Name: count, dtype: int64)\n"
          ]
        }
      ]
    },
    {
      "cell_type": "code",
      "source": [
        "# --- PUNTO 4: Matriz de correlación para 2004 y 2024 ---\n",
        "\n",
        "import pandas as pd\n",
        "import seaborn as sns\n",
        "import matplotlib.pyplot as plt"
      ],
      "metadata": {
        "id": "0ofTLP-8msoE"
      },
      "execution_count": 82,
      "outputs": []
    },
    {
      "cell_type": "code",
      "source": [
        "# Estandarizo nombres de columnas a mayúsculas\n",
        "df_2004.columns = df_2004.columns.str.upper()\n",
        "df_2024.columns = df_2024.columns.str.upper()"
      ],
      "metadata": {
        "id": "lr7fZLyxmtif"
      },
      "execution_count": 83,
      "outputs": []
    },
    {
      "cell_type": "code",
      "source": [
        "# Librerías\n",
        "import seaborn as sns\n",
        "import matplotlib.pyplot as plt\n",
        "from sklearn.preprocessing import LabelEncoder\n",
        "import numpy as np\n",
        "\n",
        "# Unificar nombres en minúscula\n",
        "df_2004.columns = df_2004.columns.str.lower()\n",
        "df_2024.columns = df_2024.columns.str.lower()\n",
        "\n",
        "# Variables de interés\n",
        "variables = ['ch04', 'ch06', 'ch07', 'ch08', 'nivel_ed', 'estado', 'cat_inac', 'ipcf']\n",
        "\n",
        "# Asegurarse de que todas estén en los datasets\n",
        "df_2004_corr = df_2004[variables].copy()\n",
        "df_2024_corr = df_2024[variables].copy()\n",
        "\n",
        "# Codificar todas las columnas menos ingreso\n",
        "encoder = LabelEncoder()\n",
        "\n",
        "for col in variables:\n",
        "    if col != 'ipcf':\n",
        "        df_2004_corr[col] = encoder.fit_transform(df_2004_corr[col].astype(str))\n",
        "        df_2024_corr[col] = encoder.fit_transform(df_2024_corr[col].astype(str))\n",
        "    else:\n",
        "        df_2004_corr[col] = pd.to_numeric(df_2004_corr[col], errors='coerce')\n",
        "        df_2024_corr[col] = pd.to_numeric(df_2024_corr[col], errors='coerce')\n",
        "\n",
        "# Correlaciones\n",
        "corr_2004 = df_2004_corr.corr()\n",
        "corr_2024 = df_2024_corr.corr()\n",
        "\n",
        "# Máscara para mostrar solo la mitad inferior de la matriz\n",
        "mask = np.triu(np.ones_like(corr_2004, dtype=bool))\n",
        "\n",
        "# Gráfico 2004\n",
        "plt.figure(figsize=(10, 8))\n",
        "sns.heatmap(corr_2004, mask=mask, annot=True, cmap='coolwarm', fmt='.2f', linewidths=0.5)\n",
        "plt.title(\"Matriz de Correlación - Año 2004 (GBA)\")\n",
        "plt.xticks(rotation=45)\n",
        "plt.tight_layout()\n",
        "plt.show()\n",
        "\n"
      ],
      "metadata": {
        "colab": {
          "base_uri": "https://localhost:8080/",
          "height": 801
        },
        "id": "qLZ89vmSojS6",
        "outputId": "0cb46ecb-f4a0-4f3f-abc8-d0523bef1ebd"
      },
      "execution_count": 97,
      "outputs": [
        {
          "output_type": "display_data",
          "data": {
            "text/plain": [
              "<Figure size 1000x800 with 2 Axes>"
            ],
            "image/png": "[encoded data removed]"
          },
          "metadata": {}
        }
      ]
    },
    {
      "cell_type": "code",
      "source": [
        "# Gráfico 2024\n",
        "mask = np.triu(np.ones_like(corr_2024, dtype=bool))\n",
        "plt.figure(figsize=(10, 8))\n",
        "sns.heatmap(corr_2024, mask=mask, annot=True, cmap='coolwarm', fmt='.2f', linewidths=0.5)\n",
        "plt.title(\"Matriz de Correlación - Año 2024 (GBA)\")\n",
        "plt.xticks(rotation=45)\n",
        "plt.tight_layout()\n",
        "plt.show()"
      ],
      "metadata": {
        "colab": {
          "base_uri": "https://localhost:8080/",
          "height": 801
        },
        "id": "g1qe0713o77o",
        "outputId": "3fb4f737-75c0-42fb-a2eb-340436e6dd47"
      },
      "execution_count": 91,
      "outputs": [
        {
          "output_type": "display_data",
          "data": {
            "text/plain": [
              "<Figure size 1000x800 with 2 Axes>"
            ],
            "image/png": "[encoded data removed]"
          },
          "metadata": {}
        }
      ]
    },
    {
      "cell_type": "code",
      "source": [
        "#Punto5\n",
        "#Desocupados e inactivos\n",
        "# Asegurarnos que los nombres de columnas estén en mayúsculas\n",
        "df_2004.columns = df_2004.columns.str.upper()\n",
        "df_2024.columns = df_2024.columns.str.upper()"
      ],
      "metadata": {
        "id": "OxYgUyLvzAET"
      },
      "execution_count": 107,
      "outputs": []
    },
    {
      "cell_type": "code",
      "source": [
        "# Filtro para la población desocupada (estado == 2)\n",
        "desocupados_2004 = df_2004[(df_2004['estado'] == 2) & (df_2004['aglomerado'] == 32)]\n",
        "desocupados_2024 = df_2024[(df_2024['estado'] == 2) & (df_2024['AGLOMERADO'] == 32)]\n",
        "\n",
        "# Distribución de nivel educativo\n",
        "edu_2004 = desocupados_2004['nivel_ed'].value_counts(normalize=True) * 100\n",
        "edu_2024 = desocupados_2024['nivel_ed'].value_counts(normalize=True) * 100\n",
        "\n",
        "# Gráfico comparativo\n",
        "plt.figure(figsize=(10,5))\n",
        "edu_df = pd.DataFrame({'2004': edu_2004, '2024': edu_2024}).fillna(0)\n",
        "edu_df.plot(kind='bar', figsize=(12,6))\n",
        "plt.title(\"Distribución del Nivel Educativo entre Desocupados (GBA)\")\n",
        "plt.ylabel(\"Porcentaje\")\n",
        "plt.xlabel(\"Nivel Educativo\")\n",
        "plt.xticks(rotation=45)\n",
        "plt.grid(axis='y')\n",
        "plt.tight_layout()\n",
        "plt.show()\n"
      ],
      "metadata": {
        "colab": {
          "base_uri": "https://localhost:8080/",
          "height": 547
        },
        "id": "_kDclvhgsfb7",
        "outputId": "32a439ff-0830-49db-d168-f34daa38df0f"
      },
      "execution_count": 111,
      "outputs": [
        {
          "output_type": "error",
          "ename": "KeyError",
          "evalue": "'estado'",
          "traceback": [
            "\u001b[0;31m---------------------------------------------------------------------------\u001b[0m",
            "\u001b[0;31mKeyError\u001b[0m                                  Traceback (most recent call last)",
            "\u001b[0;32m/usr/local/lib/python3.11/dist-packages/pandas/core/indexes/base.py\u001b[0m in \u001b[0;36mget_loc\u001b[0;34m(self, key)\u001b[0m\n\u001b[1;32m   3804\u001b[0m         \u001b[0;32mtry\u001b[0m\u001b[0;34m:\u001b[0m\u001b[0;34m\u001b[0m\u001b[0;34m\u001b[0m\u001b[0m\n\u001b[0;32m-> 3805\u001b[0;31m             \u001b[0;32mreturn\u001b[0m \u001b[0mself\u001b[0m\u001b[0;34m.\u001b[0m\u001b[0m_engine\u001b[0m\u001b[0;34m.\u001b[0m\u001b[0mget_loc\u001b[0m\u001b[0;34m(\u001b[0m\u001b[0mcasted_key\u001b[0m\u001b[0;34m)\u001b[0m\u001b[0;34m\u001b[0m\u001b[0;34m\u001b[0m\u001b[0m\n\u001b[0m\u001b[1;32m   3806\u001b[0m         \u001b[0;32mexcept\u001b[0m \u001b[0mKeyError\u001b[0m \u001b[0;32mas\u001b[0m \u001b[0merr\u001b[0m\u001b[0;34m:\u001b[0m\u001b[0;34m\u001b[0m\u001b[0;34m\u001b[0m\u001b[0m\n",
            "\u001b[0;32mindex.pyx\u001b[0m in \u001b[0;36mpandas._libs.index.IndexEngine.get_loc\u001b[0;34m()\u001b[0m\n",
            "\u001b[0;32mindex.pyx\u001b[0m in \u001b[0;36mpandas._libs.index.IndexEngine.get_loc\u001b[0;34m()\u001b[0m\n",
            "\u001b[0;32mpandas/_libs/hashtable_class_helper.pxi\u001b[0m in \u001b[0;36mpandas._libs.hashtable.PyObjectHashTable.get_item\u001b[0;34m()\u001b[0m\n",
            "\u001b[0;32mpandas/_libs/hashtable_class_helper.pxi\u001b[0m in \u001b[0;36mpandas._libs.hashtable.PyObjectHashTable.get_item\u001b[0;34m()\u001b[0m\n",
            "\u001b[0;31mKeyError\u001b[0m: 'estado'",
            "\nThe above exception was the direct cause of the following exception:\n",
            "\u001b[0;31mKeyError\u001b[0m                                  Traceback (most recent call last)",
            "\u001b[0;32m<ipython-input-111-ac32ffa33e9e>\u001b[0m in \u001b[0;36m<cell line: 0>\u001b[0;34m()\u001b[0m\n\u001b[1;32m      1\u001b[0m \u001b[0;31m# Filtro para la población desocupada (estado == 2)\u001b[0m\u001b[0;34m\u001b[0m\u001b[0;34m\u001b[0m\u001b[0m\n\u001b[0;32m----> 2\u001b[0;31m \u001b[0mdesocupados_2004\u001b[0m \u001b[0;34m=\u001b[0m \u001b[0mdf_2004\u001b[0m\u001b[0;34m[\u001b[0m\u001b[0;34m(\u001b[0m\u001b[0mdf_2004\u001b[0m\u001b[0;34m[\u001b[0m\u001b[0;34m'estado'\u001b[0m\u001b[0;34m]\u001b[0m \u001b[0;34m==\u001b[0m \u001b[0;36m2\u001b[0m\u001b[0;34m)\u001b[0m \u001b[0;34m&\u001b[0m \u001b[0;34m(\u001b[0m\u001b[0mdf_2004\u001b[0m\u001b[0;34m[\u001b[0m\u001b[0;34m'aglomerado'\u001b[0m\u001b[0;34m]\u001b[0m \u001b[0;34m==\u001b[0m \u001b[0;36m32\u001b[0m\u001b[0;34m)\u001b[0m\u001b[0;34m]\u001b[0m\u001b[0;34m\u001b[0m\u001b[0;34m\u001b[0m\u001b[0m\n\u001b[0m\u001b[1;32m      3\u001b[0m \u001b[0mdesocupados_2024\u001b[0m \u001b[0;34m=\u001b[0m \u001b[0mdf_2024\u001b[0m\u001b[0;34m[\u001b[0m\u001b[0;34m(\u001b[0m\u001b[0mdf_2024\u001b[0m\u001b[0;34m[\u001b[0m\u001b[0;34m'estado'\u001b[0m\u001b[0;34m]\u001b[0m \u001b[0;34m==\u001b[0m \u001b[0;36m2\u001b[0m\u001b[0;34m)\u001b[0m \u001b[0;34m&\u001b[0m \u001b[0;34m(\u001b[0m\u001b[0mdf_2024\u001b[0m\u001b[0;34m[\u001b[0m\u001b[0;34m'AGLOMERADO'\u001b[0m\u001b[0;34m]\u001b[0m \u001b[0;34m==\u001b[0m \u001b[0;36m32\u001b[0m\u001b[0;34m)\u001b[0m\u001b[0;34m]\u001b[0m\u001b[0;34m\u001b[0m\u001b[0;34m\u001b[0m\u001b[0m\n\u001b[1;32m      4\u001b[0m \u001b[0;34m\u001b[0m\u001b[0m\n\u001b[1;32m      5\u001b[0m \u001b[0;31m# Distribución de nivel educativo\u001b[0m\u001b[0;34m\u001b[0m\u001b[0;34m\u001b[0m\u001b[0m\n",
            "\u001b[0;32m/usr/local/lib/python3.11/dist-packages/pandas/core/frame.py\u001b[0m in \u001b[0;36m__getitem__\u001b[0;34m(self, key)\u001b[0m\n\u001b[1;32m   4100\u001b[0m             \u001b[0;32mif\u001b[0m \u001b[0mself\u001b[0m\u001b[0;34m.\u001b[0m\u001b[0mcolumns\u001b[0m\u001b[0;34m.\u001b[0m\u001b[0mnlevels\u001b[0m \u001b[0;34m>\u001b[0m \u001b[0;36m1\u001b[0m\u001b[0;34m:\u001b[0m\u001b[0;34m\u001b[0m\u001b[0;34m\u001b[0m\u001b[0m\n\u001b[1;32m   4101\u001b[0m                 \u001b[0;32mreturn\u001b[0m \u001b[0mself\u001b[0m\u001b[0;34m.\u001b[0m\u001b[0m_getitem_multilevel\u001b[0m\u001b[0;34m(\u001b[0m\u001b[0mkey\u001b[0m\u001b[0;34m)\u001b[0m\u001b[0;34m\u001b[0m\u001b[0;34m\u001b[0m\u001b[0m\n\u001b[0;32m-> 4102\u001b[0;31m             \u001b[0mindexer\u001b[0m \u001b[0;34m=\u001b[0m \u001b[0mself\u001b[0m\u001b[0;34m.\u001b[0m\u001b[0mcolumns\u001b[0m\u001b[0;34m.\u001b[0m\u001b[0mget_loc\u001b[0m\u001b[0;34m(\u001b[0m\u001b[0mkey\u001b[0m\u001b[0;34m)\u001b[0m\u001b[0;34m\u001b[0m\u001b[0;34m\u001b[0m\u001b[0m\n\u001b[0m\u001b[1;32m   4103\u001b[0m             \u001b[0;32mif\u001b[0m \u001b[0mis_integer\u001b[0m\u001b[0;34m(\u001b[0m\u001b[0mindexer\u001b[0m\u001b[0;34m)\u001b[0m\u001b[0;34m:\u001b[0m\u001b[0;34m\u001b[0m\u001b[0;34m\u001b[0m\u001b[0m\n\u001b[1;32m   4104\u001b[0m                 \u001b[0mindexer\u001b[0m \u001b[0;34m=\u001b[0m \u001b[0;34m[\u001b[0m\u001b[0mindexer\u001b[0m\u001b[0;34m]\u001b[0m\u001b[0;34m\u001b[0m\u001b[0;34m\u001b[0m\u001b[0m\n",
            "\u001b[0;32m/usr/local/lib/python3.11/dist-packages/pandas/core/indexes/base.py\u001b[0m in \u001b[0;36mget_loc\u001b[0;34m(self, key)\u001b[0m\n\u001b[1;32m   3810\u001b[0m             ):\n\u001b[1;32m   3811\u001b[0m                 \u001b[0;32mraise\u001b[0m \u001b[0mInvalidIndexError\u001b[0m\u001b[0;34m(\u001b[0m\u001b[0mkey\u001b[0m\u001b[0;34m)\u001b[0m\u001b[0;34m\u001b[0m\u001b[0;34m\u001b[0m\u001b[0m\n\u001b[0;32m-> 3812\u001b[0;31m             \u001b[0;32mraise\u001b[0m \u001b[0mKeyError\u001b[0m\u001b[0;34m(\u001b[0m\u001b[0mkey\u001b[0m\u001b[0;34m)\u001b[0m \u001b[0;32mfrom\u001b[0m \u001b[0merr\u001b[0m\u001b[0;34m\u001b[0m\u001b[0;34m\u001b[0m\u001b[0m\n\u001b[0m\u001b[1;32m   3813\u001b[0m         \u001b[0;32mexcept\u001b[0m \u001b[0mTypeError\u001b[0m\u001b[0;34m:\u001b[0m\u001b[0;34m\u001b[0m\u001b[0;34m\u001b[0m\u001b[0m\n\u001b[1;32m   3814\u001b[0m             \u001b[0;31m# If we have a listlike key, _check_indexing_error will raise\u001b[0m\u001b[0;34m\u001b[0m\u001b[0;34m\u001b[0m\u001b[0m\n",
            "\u001b[0;31mKeyError\u001b[0m: 'estado'"
          ]
        }
      ]
    },
    {
      "cell_type": "code",
      "source": [
        "# --- PUNTO 5: Análisis de desocupados e inactivos\n",
        "# Asegurarnos que los nombres de columnas estén en mayúsculas\n",
        "df_2004.columns = df_2004.columns.str.upper()\n",
        "df_2024.columns = df_2024.columns.str.upper()"
      ],
      "metadata": {
        "id": "FHYFAmmgtRfp"
      },
      "execution_count": 112,
      "outputs": []
    },
    {
      "cell_type": "code",
      "source": [
        "# ---- Para año 2004 ----\n",
        "\n",
        "# Cantidad de desocupados e inactivos\n",
        "cantidad_desocupados_2004 = df_2004[df_2004['ESTADO'] == 2].shape[0]\n",
        "cantidad_inactivos_2004 = df_2004[df_2004['ESTADO'] == 3].shape[0]\n",
        "\n",
        "print(f\"Año 2004:\")\n",
        "print(f\"Cantidad de desocupados: {cantidad_desocupados_2004}\")\n",
        "print(f\"Cantidad de inactivos: {cantidad_inactivos_2004}\")\n",
        "\n",
        "# Media de ingreso per cápita familiar por estado\n",
        "media_ingreso_2004 = df_2004.groupby('ESTADO', observed=True)['IPCF'].mean()\n",
        "print(\"\\nMedia de IPCF por estado (2004):\")\n",
        "print(media_ingreso_2004)"
      ],
      "metadata": {
        "colab": {
          "base_uri": "https://localhost:8080/"
        },
        "id": "7yr0T5bKtSZe",
        "outputId": "001333e3-522e-400a-b19b-d1fa8ac1e58b"
      },
      "execution_count": 113,
      "outputs": [
        {
          "output_type": "stream",
          "name": "stdout",
          "text": [
            "Año 2004:\n",
            "Cantidad de desocupados: 2717\n",
            "Cantidad de inactivos: 17700\n",
            "\n",
            "Media de IPCF por estado (2004):\n",
            "ESTADO\n",
            "Entrevista individual no realizada (no respuesta al cuestion    107.955782\n",
            "1                                                               368.184033\n",
            "2                                                               187.322422\n",
            "3                                                               265.826881\n",
            "Menor de 10 años                                                196.084341\n",
            "Name: IPCF, dtype: float64\n"
          ]
        }
      ]
    },
    {
      "cell_type": "code",
      "source": [
        "# ---- Para año 2024 ----\n",
        "\n",
        "# Cantidad de desocupados e inactivos\n",
        "cantidad_desocupados_2024 = df_2024[df_2024['ESTADO'] == 2].shape[0]\n",
        "cantidad_inactivos_2024 = df_2024[df_2024['ESTADO'] == 3].shape[0]\n",
        "\n",
        "print(f\"\\nAño 2024:\")\n",
        "print(f\"Cantidad de desocupados: {cantidad_desocupados_2024}\")\n",
        "print(f\"Cantidad de inactivos: {cantidad_inactivos_2024}\")\n",
        "\n",
        "# Media de ingreso per cápita familiar por estado\n",
        "media_ingreso_2024 = df_2024.groupby('ESTADO')['IPCF'].mean()\n",
        "print(\"\\nMedia de IPCF por estado (2024):\")\n",
        "print(media_ingreso_2024)"
      ],
      "metadata": {
        "colab": {
          "base_uri": "https://localhost:8080/"
        },
        "id": "D5PTtYPitjMQ",
        "outputId": "c9155ee7-b155-4ca8-f963-ca8430a67f19"
      },
      "execution_count": 115,
      "outputs": [
        {
          "output_type": "stream",
          "name": "stdout",
          "text": [
            "\n",
            "Año 2024:\n",
            "Cantidad de desocupados: 1362\n",
            "Cantidad de inactivos: 18724\n",
            "\n",
            "Media de IPCF por estado (2024):\n",
            "ESTADO\n",
            "0         0.000000\n",
            "1    189935.804812\n",
            "2     97985.469567\n",
            "3    141970.998369\n",
            "4    114414.638143\n",
            "Name: IPCF, dtype: float64\n"
          ]
        }
      ]
    },
    {
      "cell_type": "code",
      "source": [
        "#Punto6"
      ],
      "metadata": {
        "id": "G3L4kNjYsBqC"
      },
      "execution_count": 117,
      "outputs": []
    },
    {
      "cell_type": "code",
      "source": [
        "# Aseguramos columnas en mayúsculas\n",
        "df_2004.columns = df_2004.columns.str.upper()\n",
        "df_2024.columns = df_2024.columns.str.upper()"
      ],
      "metadata": {
        "id": "X1XoVeCXteSq"
      },
      "execution_count": 118,
      "outputs": []
    },
    {
      "cell_type": "code",
      "source": [
        "# Año 2004\n",
        "\n",
        "#Quién respondío.\n",
        "respondieron_2004 = df_2004[df_2004['ESTADO'] != 0]\n",
        "norespondieron_2004 = df_2004[df_2004['ESTADO'] == 0]\n",
        "\n",
        "# Cantidad/Cuántos\n",
        "print(f\"Año 2004:\")\n",
        "print(f\"Cantidad de personas que NO respondieron condición de actividad: {norespondieron_2004.shape[0]}\")\n",
        "print(f\"Cantidad de personas que respondieron: {respondieron_2004.shape[0]}\")"
      ],
      "metadata": {
        "colab": {
          "base_uri": "https://localhost:8080/"
        },
        "id": "M-BtumdzsaMg",
        "outputId": "a198845d-3699-4101-eec6-28e792f9bf31"
      },
      "execution_count": 119,
      "outputs": [
        {
          "output_type": "stream",
          "name": "stdout",
          "text": [
            "Año 2004:\n",
            "Cantidad de personas que NO respondieron condición de actividad: 0\n",
            "Cantidad de personas que respondieron: 45289\n"
          ]
        }
      ]
    },
    {
      "cell_type": "code",
      "source": [
        "#2024\n",
        "#Respondieron\n",
        "respondieron_2024 = df_2024[df_2024['ESTADO'] != 0]\n",
        "norespondieron_2024 = df_2024[df_2024['ESTADO'] == 0]\n",
        "\n",
        "# Cantidad\n",
        "print(f\"\\nAño 2024:\")\n",
        "print(f\"Cantidad de personas que NO respondieron condición de actividad: {norespondieron_2024.shape[0]}\")\n",
        "print(f\"Cantidad de personas que respondieron: {respondieron_2024.shape[0]}\")"
      ],
      "metadata": {
        "colab": {
          "base_uri": "https://localhost:8080/"
        },
        "id": "g7MXu8kqsFFC",
        "outputId": "406b2134-b7e8-4567-e9c2-533a22155c8e"
      },
      "execution_count": 120,
      "outputs": [
        {
          "output_type": "stream",
          "name": "stdout",
          "text": [
            "\n",
            "Año 2024:\n",
            "Cantidad de personas que NO respondieron condición de actividad: 81\n",
            "Cantidad de personas que respondieron: 45969\n"
          ]
        }
      ]
    },
    {
      "cell_type": "code",
      "source": [
        "# Punto 7\n",
        "respondieron_2024 = df_2024[df_2024['ESTADO'] != 0]\n",
        "norespondieron_2024 = df_2024[df_2024['ESTADO'] == 0]\n",
        "\n",
        "#Agregamos la columna PEA\n",
        "# Para 2004\n",
        "respondieron_2004[\"PEA\"] = respondieron_2004[\"ESTADO\"].apply(lambda x: 1 if x in [1, 2] else 0)\n",
        "# Para 2024\n",
        "respondieron_2024[\"PEA\"] = respondieron_2024[\"ESTADO\"].apply(lambda x: 1 if x in [1, 2] else 0)"
      ],
      "metadata": {
        "colab": {
          "base_uri": "https://localhost:8080/"
        },
        "id": "hB6WGlIXt4iK",
        "outputId": "30f0cee4-69c7-414c-b1c2-c56c5bba8a0f"
      },
      "execution_count": 121,
      "outputs": [
        {
          "output_type": "stream",
          "name": "stderr",
          "text": [
            "<ipython-input-121-7aa5407b7121>:9: SettingWithCopyWarning: \n",
            "A value is trying to be set on a copy of a slice from a DataFrame.\n",
            "Try using .loc[row_indexer,col_indexer] = value instead\n",
            "\n",
            "See the caveats in the documentation: https://pandas.pydata.org/pandas-docs/stable/user_guide/indexing.html#returning-a-view-versus-a-copy\n",
            "  respondieron_2024[\"PEA\"] = respondieron_2024[\"ESTADO\"].apply(lambda x: 1 if x in [1, 2] else 0)\n"
          ]
        }
      ]
    },
    {
      "cell_type": "code",
      "source": [
        "import matplotlib.pyplot as plt\n",
        "\n",
        "# Contar cuántos están o no en la PEA en cada año\n",
        "pea_2004 = respondieron_2004[\"PEA\"].value_counts().sort_index()\n",
        "pea_2024 = respondieron_2024[\"PEA\"].value_counts().sort_index()\n",
        "\n",
        "print(pea_2004)\n",
        "print(pea_2024)\n"
      ],
      "metadata": {
        "colab": {
          "base_uri": "https://localhost:8080/"
        },
        "id": "32JIZH8ft70r",
        "outputId": "1e93ce5c-f635-4689-9164-7b5e6a678be2"
      },
      "execution_count": 122,
      "outputs": [
        {
          "output_type": "stream",
          "name": "stdout",
          "text": [
            "PEA\n",
            "0    25550\n",
            "1    19739\n",
            "Name: count, dtype: int64\n",
            "PEA\n",
            "0    24282\n",
            "1    21687\n",
            "Name: count, dtype: int64\n"
          ]
        }
      ]
    },
    {
      "cell_type": "code",
      "source": [
        "# Etiquetamos\n",
        "labels = [\"Desocupados\", \"PEA\"]\n",
        "x = [0, 1]\n",
        "\n",
        "# Crear gráfico de barras\n",
        "fig, ax = plt.subplots()\n",
        "ax.bar([i - 0.2 for i in x], pea_2004, width=0.4, label=\"2004\", color=\"red\")\n",
        "ax.bar([i + 0.2 for i in x], pea_2024, width=0.4, label=\"2024\", color=\"purple\")\n",
        "\n",
        "# Decorar\n",
        "ax.set_xticks(x)\n",
        "ax.set_xticklabels(labels)\n",
        "ax.set_ylabel(\"Cantidad de personas\")\n",
        "ax.set_title(\"PEA y Desocupados - 2004 vs 2024\")\n",
        "ax.legend()\n",
        "\n",
        "plt.show()"
      ],
      "metadata": {
        "colab": {
          "base_uri": "https://localhost:8080/",
          "height": 457
        },
        "id": "OwY4jE12t-w5",
        "outputId": "08f97d69-609e-4c25-aa7f-98e05fa82340"
      },
      "execution_count": 123,
      "outputs": [
        {
          "output_type": "display_data",
          "data": {
            "text/plain": [
              "<Figure size 640x480 with 1 Axes>"
            ],
            "image/png": "[encoded data removed]"
          },
          "metadata": {}
        }
      ]
    },
    {
      "cell_type": "code",
      "source": [
        "# Punto 8\n",
        "\n",
        "# Convertimos la columna de edad a numérica\n",
        "respondieron_2004[\"H15\"] = pd.to_numeric(respondieron_2004[\"H15\"], errors=\"coerce\")\n",
        "respondieron_2024[\"H15\"] = pd.to_numeric(respondieron_2024[\"H15\"], errors=\"coerce\")\n",
        "\n",
        "# Añadimos la columna PET: 1= entre 15 y 65, 0= cualquier otro\n",
        "respondieron_2024.loc[:, \"H15\"] = pd.to_numeric(respondieron_2024[\"H15\"], errors=\"coerce\")\n",
        "respondieron_2024.loc[:, \"PET\"] = respondieron_2024[\"H15\"].apply(lambda x: 1 if 15 <= x <= 65 else 0)"
      ],
      "metadata": {
        "colab": {
          "base_uri": "https://localhost:8080/"
        },
        "id": "fx_NDpXQuFK7",
        "outputId": "67d79b56-aedf-4889-9918-0e7c7baa9ef6"
      },
      "execution_count": 126,
      "outputs": [
        {
          "output_type": "stream",
          "name": "stderr",
          "text": [
            "<ipython-input-126-e542d948e66f>:5: SettingWithCopyWarning: \n",
            "A value is trying to be set on a copy of a slice from a DataFrame.\n",
            "Try using .loc[row_indexer,col_indexer] = value instead\n",
            "\n",
            "See the caveats in the documentation: https://pandas.pydata.org/pandas-docs/stable/user_guide/indexing.html#returning-a-view-versus-a-copy\n",
            "  respondieron_2024[\"H15\"] = pd.to_numeric(respondieron_2024[\"H15\"], errors=\"coerce\")\n"
          ]
        }
      ]
    }
  ]
}