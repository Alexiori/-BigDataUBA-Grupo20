{
  "nbformat": 4,
  "nbformat_minor": 0,
  "metadata": {
    "colab": {
      "provenance": []
    },
    "kernelspec": {
      "name": "python3",
      "display_name": "Python 3"
    },
    "language_info": {
      "name": "python"
    }
  },
  "cells": [
    {
      "cell_type": "code",
      "source": [
        "from google.colab import files\n",
        "\n",
        "# Subí los dos archivos\n",
        "uploaded = files.upload()"
      ],
      "metadata": {
        "colab": {
          "base_uri": "https://localhost:8080/",
          "height": 107
        },
        "id": "hR2Zna5ywyL5",
        "outputId": "a8e95448-60da-4cce-f435-87effa5b6568"
      },
      "execution_count": 6,
      "outputs": [
        {
          "output_type": "display_data",
          "data": {
            "text/plain": [
              "<IPython.core.display.HTML object>"
            ],
            "text/html": [
              "\n",
              "     <input type=\"file\" id=\"files-51dd8c34-313a-4e11-8938-06f875d85bba\" name=\"files[]\" multiple disabled\n",
              "        style=\"border:none\" />\n",
              "     <output id=\"result-51dd8c34-313a-4e11-8938-06f875d85bba\">\n",
              "      Upload widget is only available when the cell has been executed in the\n",
              "      current browser session. Please rerun this cell to enable.\n",
              "      </output>\n",
              "      <script>// Copyright 2017 Google LLC\n",
              "//\n",
              "// Licensed under the Apache License, Version 2.0 (the \"License\");\n",
              "// you may not use this file except in compliance with the License.\n",
              "// You may obtain a copy of the License at\n",
              "//\n",
              "//      http://www.apache.org/licenses/LICENSE-2.0\n",
              "//\n",
              "// Unless required by applicable law or agreed to in writing, software\n",
              "// distributed under the License is distributed on an \"AS IS\" BASIS,\n",
              "// WITHOUT WARRANTIES OR CONDITIONS OF ANY KIND, either express or implied.\n",
              "// See the License for the specific language governing permissions and\n",
              "// limitations under the License.\n",
              "\n",
              "/**\n",
              " * @fileoverview Helpers for google.colab Python module.\n",
              " */\n",
              "(function(scope) {\n",
              "function span(text, styleAttributes = {}) {\n",
              "  const element = document.createElement('span');\n",
              "  element.textContent = text;\n",
              "  for (const key of Object.keys(styleAttributes)) {\n",
              "    element.style[key] = styleAttributes[key];\n",
              "  }\n",
              "  return element;\n",
              "}\n",
              "\n",
              "// Max number of bytes which will be uploaded at a time.\n",
              "const MAX_PAYLOAD_SIZE = 100 * 1024;\n",
              "\n",
              "function _uploadFiles(inputId, outputId) {\n",
              "  const steps = uploadFilesStep(inputId, outputId);\n",
              "  const outputElement = document.getElementById(outputId);\n",
              "  // Cache steps on the outputElement to make it available for the next call\n",
              "  // to uploadFilesContinue from Python.\n",
              "  outputElement.steps = steps;\n",
              "\n",
              "  return _uploadFilesContinue(outputId);\n",
              "}\n",
              "\n",
              "// This is roughly an async generator (not supported in the browser yet),\n",
              "// where there are multiple asynchronous steps and the Python side is going\n",
              "// to poll for completion of each step.\n",
              "// This uses a Promise to block the python side on completion of each step,\n",
              "// then passes the result of the previous step as the input to the next step.\n",
              "function _uploadFilesContinue(outputId) {\n",
              "  const outputElement = document.getElementById(outputId);\n",
              "  const steps = outputElement.steps;\n",
              "\n",
              "  const next = steps.next(outputElement.lastPromiseValue);\n",
              "  return Promise.resolve(next.value.promise).then((value) => {\n",
              "    // Cache the last promise value to make it available to the next\n",
              "    // step of the generator.\n",
              "    outputElement.lastPromiseValue = value;\n",
              "    return next.value.response;\n",
              "  });\n",
              "}\n",
              "\n",
              "/**\n",
              " * Generator function which is called between each async step of the upload\n",
              " * process.\n",
              " * @param {string} inputId Element ID of the input file picker element.\n",
              " * @param {string} outputId Element ID of the output display.\n",
              " * @return {!Iterable<!Object>} Iterable of next steps.\n",
              " */\n",
              "function* uploadFilesStep(inputId, outputId) {\n",
              "  const inputElement = document.getElementById(inputId);\n",
              "  inputElement.disabled = false;\n",
              "\n",
              "  const outputElement = document.getElementById(outputId);\n",
              "  outputElement.innerHTML = '';\n",
              "\n",
              "  const pickedPromise = new Promise((resolve) => {\n",
              "    inputElement.addEventListener('change', (e) => {\n",
              "      resolve(e.target.files);\n",
              "    });\n",
              "  });\n",
              "\n",
              "  const cancel = document.createElement('button');\n",
              "  inputElement.parentElement.appendChild(cancel);\n",
              "  cancel.textContent = 'Cancel upload';\n",
              "  const cancelPromise = new Promise((resolve) => {\n",
              "    cancel.onclick = () => {\n",
              "      resolve(null);\n",
              "    };\n",
              "  });\n",
              "\n",
              "  // Wait for the user to pick the files.\n",
              "  const files = yield {\n",
              "    promise: Promise.race([pickedPromise, cancelPromise]),\n",
              "    response: {\n",
              "      action: 'starting',\n",
              "    }\n",
              "  };\n",
              "\n",
              "  cancel.remove();\n",
              "\n",
              "  // Disable the input element since further picks are not allowed.\n",
              "  inputElement.disabled = true;\n",
              "\n",
              "  if (!files) {\n",
              "    return {\n",
              "      response: {\n",
              "        action: 'complete',\n",
              "      }\n",
              "    };\n",
              "  }\n",
              "\n",
              "  for (const file of files) {\n",
              "    const li = document.createElement('li');\n",
              "    li.append(span(file.name, {fontWeight: 'bold'}));\n",
              "    li.append(span(\n",
              "        `(${file.type || 'n/a'}) - ${file.size} bytes, ` +\n",
              "        `last modified: ${\n",
              "            file.lastModifiedDate ? file.lastModifiedDate.toLocaleDateString() :\n",
              "                                    'n/a'} - `));\n",
              "    const percent = span('0% done');\n",
              "    li.appendChild(percent);\n",
              "\n",
              "    outputElement.appendChild(li);\n",
              "\n",
              "    const fileDataPromise = new Promise((resolve) => {\n",
              "      const reader = new FileReader();\n",
              "      reader.onload = (e) => {\n",
              "        resolve(e.target.result);\n",
              "      };\n",
              "      reader.readAsArrayBuffer(file);\n",
              "    });\n",
              "    // Wait for the data to be ready.\n",
              "    let fileData = yield {\n",
              "      promise: fileDataPromise,\n",
              "      response: {\n",
              "        action: 'continue',\n",
              "      }\n",
              "    };\n",
              "\n",
              "    // Use a chunked sending to avoid message size limits. See b/62115660.\n",
              "    let position = 0;\n",
              "    do {\n",
              "      const length = Math.min(fileData.byteLength - position, MAX_PAYLOAD_SIZE);\n",
              "      const chunk = new Uint8Array(fileData, position, length);\n",
              "      position += length;\n",
              "\n",
              "      const base64 = btoa(String.fromCharCode.apply(null, chunk));\n",
              "      yield {\n",
              "        response: {\n",
              "          action: 'append',\n",
              "          file: file.name,\n",
              "          data: base64,\n",
              "        },\n",
              "      };\n",
              "\n",
              "      let percentDone = fileData.byteLength === 0 ?\n",
              "          100 :\n",
              "          Math.round((position / fileData.byteLength) * 100);\n",
              "      percent.textContent = `${percentDone}% done`;\n",
              "\n",
              "    } while (position < fileData.byteLength);\n",
              "  }\n",
              "\n",
              "  // All done.\n",
              "  yield {\n",
              "    response: {\n",
              "      action: 'complete',\n",
              "    }\n",
              "  };\n",
              "}\n",
              "\n",
              "scope.google = scope.google || {};\n",
              "scope.google.colab = scope.google.colab || {};\n",
              "scope.google.colab._files = {\n",
              "  _uploadFiles,\n",
              "  _uploadFilesContinue,\n",
              "};\n",
              "})(self);\n",
              "</script> "
            ]
          },
          "metadata": {}
        },
        {
          "output_type": "stream",
          "name": "stdout",
          "text": [
            "Saving Individual_t104.dta to Individual_t104.dta\n",
            "Saving usu_individual_T124.xlsx to usu_individual_T124.xlsx\n"
          ]
        }
      ]
    },
    {
      "cell_type": "code",
      "source": [
        "import pandas as pd\n",
        "\n",
        "df_2004 = pd.read_stata(\"Individual_t104.dta\")\n",
        "df_2024 = pd.read_excel(\"usu_individual_T124.xlsx\")\n",
        "\n",
        "print(df_2004.head())\n",
        "print(df_2024.head())\n",
        "\n"
      ],
      "metadata": {
        "colab": {
          "base_uri": "https://localhost:8080/"
        },
        "id": "lLh_JutUyBuf",
        "outputId": "3bad3893-6756-4032-fa10-fb5018b83c3e",
        "collapsed": true
      },
      "execution_count": 7,
      "outputs": [
        {
          "output_type": "stream",
          "name": "stdout",
          "text": [
            "     CODUSU  nro_hogar componente h15    ano4       trimestre  \\\n",
            "0  125098          1.0        1.0  Sí  2004.0  1er. Trimestre   \n",
            "1  125397          1.0        1.0  Sí  2004.0  1er. Trimestre   \n",
            "2  125515          1.0        1.0  Sí  2004.0  1er. Trimestre   \n",
            "3  125558          1.0        1.0  Sí  2004.0  1er. Trimestre   \n",
            "4  125558          1.0        2.0  Sí  2004.0  1er. Trimestre   \n",
            "\n",
            "              region mas_500              aglomerado  pondera  ... deccfr  \\\n",
            "0  Gran Buenos Aires       S  Ciudad de Buenos Aires   1299.0  ...     07   \n",
            "1  Gran Buenos Aires       S  Ciudad de Buenos Aires   2018.0  ...     00   \n",
            "2  Gran Buenos Aires       S  Ciudad de Buenos Aires   1486.0  ...     07   \n",
            "3  Gran Buenos Aires       S  Ciudad de Buenos Aires   1674.0  ...     08   \n",
            "4  Gran Buenos Aires       S  Ciudad de Buenos Aires   1674.0  ...     08   \n",
            "\n",
            "  ideccfr rdeccfr gdeccfr pdeccfr adeccfr pj1_1 pj2_1 pj3_1 idimpp  \n",
            "0              06      06              04   0.0   0.0   0.0  00000  \n",
            "1              00      00              00   0.0   0.0   0.0  00000  \n",
            "2              07      07              05   0.0   0.0   0.0  00020  \n",
            "3              08      08              06   0.0   0.0   0.0  00000  \n",
            "4              08      08              06   0.0   0.0   0.0  00000  \n",
            "\n",
            "[5 rows x 176 columns]\n",
            "                          CODUSU  ANO4  TRIMESTRE  NRO_HOGAR  COMPONENTE  H15  \\\n",
            "0  TQRMNOPUTHLMKQCDEGGFB00852588  2024          1          1           3    1   \n",
            "1  TQRMNOPUTHLMKQCDEGGFB00852588  2024          1          1           4    1   \n",
            "2  TQRMNOPUTHLMKQCDEGGFB00852588  2024          1          1           5    0   \n",
            "3  TQRMNOPPWHLLKRCDEGGFB00852574  2024          1          1           1    1   \n",
            "4  TQRMNOPPWHLLKRCDEGGFB00852574  2024          1          1           2    1   \n",
            "\n",
            "   REGION MAS_500  AGLOMERADO  PONDERA  ...  PDECIFR  ADECIFR      IPCF  \\\n",
            "0      42       S          10      439  ...      NaN       12       0.0   \n",
            "1      42       S          10      439  ...      NaN       12       0.0   \n",
            "2      42       S          10      439  ...      NaN       12       0.0   \n",
            "3      42       S          10      675  ...      NaN        8  212500.0   \n",
            "4      42       S          10      675  ...      NaN        8  212500.0   \n",
            "\n",
            "   DECCFR  IDECCFR  RDECCFR  GDECCFR  PDECCFR  ADECCFR  PONDIH  \n",
            "0      12     12.0       12     12.0      NaN       12       0  \n",
            "1      12     12.0       12     12.0      NaN       12       0  \n",
            "2      12     12.0       12     12.0      NaN       12       0  \n",
            "3       6      6.0        6      6.0      NaN        6    1610  \n",
            "4       6      6.0        6      6.0      NaN        6    1610  \n",
            "\n",
            "[5 rows x 177 columns]\n"
          ]
        }
      ]
    },
    {
      "cell_type": "code",
      "source": [
        "!pip install pyreadstat\n",
        "\n",
        "import pyreadstat\n",
        "\n",
        "df, meta = pyreadstat.read_dta(\"Individual_t104.dta\")"
      ],
      "metadata": {
        "colab": {
          "base_uri": "https://localhost:8080/"
        },
        "id": "HceRGx_E0m8N",
        "outputId": "d793be6e-1c6c-4010-d6d5-1bd17faa443e",
        "collapsed": true
      },
      "execution_count": 8,
      "outputs": [
        {
          "output_type": "stream",
          "name": "stdout",
          "text": [
            "Collecting pyreadstat\n",
            "  Downloading pyreadstat-1.2.8-cp311-cp311-manylinux_2_17_x86_64.manylinux2014_x86_64.whl.metadata (1.0 kB)\n",
            "Requirement already satisfied: pandas>=1.2.0 in /usr/local/lib/python3.11/dist-packages (from pyreadstat) (2.2.2)\n",
            "Requirement already satisfied: numpy>=1.23.2 in /usr/local/lib/python3.11/dist-packages (from pandas>=1.2.0->pyreadstat) (2.0.2)\n",
            "Requirement already satisfied: python-dateutil>=2.8.2 in /usr/local/lib/python3.11/dist-packages (from pandas>=1.2.0->pyreadstat) (2.9.0.post0)\n",
            "Requirement already satisfied: pytz>=2020.1 in /usr/local/lib/python3.11/dist-packages (from pandas>=1.2.0->pyreadstat) (2025.2)\n",
            "Requirement already satisfied: tzdata>=2022.7 in /usr/local/lib/python3.11/dist-packages (from pandas>=1.2.0->pyreadstat) (2025.2)\n",
            "Requirement already satisfied: six>=1.5 in /usr/local/lib/python3.11/dist-packages (from python-dateutil>=2.8.2->pandas>=1.2.0->pyreadstat) (1.17.0)\n",
            "Downloading pyreadstat-1.2.8-cp311-cp311-manylinux_2_17_x86_64.manylinux2014_x86_64.whl (2.9 MB)\n",
            "\u001b[2K   \u001b[90m━━━━━━━━━━━━━━━━━━━━━━━━━━━━━━━━━━━━━━━━\u001b[0m \u001b[32m2.9/2.9 MB\u001b[0m \u001b[31m32.6 MB/s\u001b[0m eta \u001b[36m0:00:00\u001b[0m\n",
            "\u001b[?25hInstalling collected packages: pyreadstat\n",
            "Successfully installed pyreadstat-1.2.8\n"
          ]
        }
      ]
    },
    {
      "cell_type": "markdown",
      "source": [
        "Material del trabajo 2"
      ],
      "metadata": {
        "id": "I8-ig-ZoiXZy"
      }
    },
    {
      "cell_type": "code",
      "source": [
        "df_2004[\"region\"].unique()"
      ],
      "metadata": {
        "colab": {
          "base_uri": "https://localhost:8080/"
        },
        "id": "8mVKDlg5674W",
        "outputId": "6fd1b330-1155-459c-fcef-52342f9a769a"
      },
      "execution_count": 9,
      "outputs": [
        {
          "output_type": "execute_result",
          "data": {
            "text/plain": [
              "['Gran Buenos Aires', 'NOA', 'NEA', 'Cuyo', 'Pampeana', 'Patagónica']\n",
              "Categories (6, object): ['Gran Buenos Aires' < 'NOA' < 'NEA' < 'Cuyo' < 'Pampeana' < 'Patagónica']"
            ]
          },
          "metadata": {},
          "execution_count": 9
        }
      ]
    },
    {
      "cell_type": "code",
      "source": [
        "df_2004_gba = df_2004[df_2004[\"region\"] == \"Gran Buenos Aires\"]\n",
        "df_2024_gba = df_2024[df_2024[\"REGION\"] == \"Gran Buenos Aires\"]"
      ],
      "metadata": {
        "id": "cbPnENss7SD3"
      },
      "execution_count": 10,
      "outputs": []
    },
    {
      "cell_type": "code",
      "source": [
        "\n",
        "#punto2a\n",
        "df_a = pd.read_stata(\"Individual_t104.dta\")\n",
        "print(df_a.shape)\n",
        "\n",
        "df_b = pd.read_excel(\"usu_individual_T124.xlsx\")\n",
        "print(df_b.shape)\n",
        "\n",
        "df_a_gba = df_a[df_a[\"region\"] == \"Gran Buenos Aires\"]\n",
        "df_b_gba = df_b[df_b[\"REGION\"] == \"Gran Buenos Aires\"]\n",
        "\n",
        "df = pd.concat([df_a_gba, df_b_gba])\n",
        "print(df.shape)\n"
      ],
      "metadata": {
        "colab": {
          "base_uri": "https://localhost:8080/"
        },
        "id": "WS4ohPN8-gzb",
        "outputId": "2f75c51d-82d0-4378-dc9c-c383ddcafcb6"
      },
      "execution_count": 11,
      "outputs": [
        {
          "output_type": "stream",
          "name": "stdout",
          "text": [
            "(45289, 176)\n",
            "(46050, 177)\n",
            "(7647, 352)\n"
          ]
        }
      ]
    },
    {
      "cell_type": "code",
      "source": [
        "df"
      ],
      "metadata": {
        "colab": {
          "base_uri": "https://localhost:8080/",
          "height": 424
        },
        "collapsed": true,
        "id": "noZ_uSbSarIp",
        "outputId": "78c455e4-5317-42f8-95a8-1abe4702316b"
      },
      "execution_count": null,
      "outputs": [
        {
          "output_type": "execute_result",
          "data": {
            "text/plain": [
              "        CODUSU  nro_hogar componente  h15    ano4       trimestre  \\\n",
              "0     125098          1.0        1.0   Sí  2004.0  1er. Trimestre   \n",
              "1     125397          1.0        1.0   Sí  2004.0  1er. Trimestre   \n",
              "2     125515          1.0        1.0   Sí  2004.0  1er. Trimestre   \n",
              "3     125558          1.0        1.0   Sí  2004.0  1er. Trimestre   \n",
              "4     125558          1.0        2.0   Sí  2004.0  1er. Trimestre   \n",
              "...        ...        ...        ...  ...     ...             ...   \n",
              "7642  288171          1.0        3.0  0.0  2004.0  1er. Trimestre   \n",
              "7643  288405          1.0        1.0   Sí  2004.0  1er. Trimestre   \n",
              "7644  288405          1.0        2.0   Sí  2004.0  1er. Trimestre   \n",
              "7645  288405          1.0        3.0   Sí  2004.0  1er. Trimestre   \n",
              "7646  288405          1.0        4.0   Sí  2004.0  1er. Trimestre   \n",
              "\n",
              "                 region mas_500              aglomerado  pondera  ... PDECIFR  \\\n",
              "0     Gran Buenos Aires       S  Ciudad de Buenos Aires   1299.0  ...     NaN   \n",
              "1     Gran Buenos Aires       S  Ciudad de Buenos Aires   2018.0  ...     NaN   \n",
              "2     Gran Buenos Aires       S  Ciudad de Buenos Aires   1486.0  ...     NaN   \n",
              "3     Gran Buenos Aires       S  Ciudad de Buenos Aires   1674.0  ...     NaN   \n",
              "4     Gran Buenos Aires       S  Ciudad de Buenos Aires   1674.0  ...     NaN   \n",
              "...                 ...     ...                     ...      ...  ...     ...   \n",
              "7642  Gran Buenos Aires       S        Partidos del GBA   1454.0  ...     NaN   \n",
              "7643  Gran Buenos Aires       S        Partidos del GBA   1673.0  ...     NaN   \n",
              "7644  Gran Buenos Aires       S        Partidos del GBA   1673.0  ...     NaN   \n",
              "7645  Gran Buenos Aires       S        Partidos del GBA   1673.0  ...     NaN   \n",
              "7646  Gran Buenos Aires       S        Partidos del GBA   1673.0  ...     NaN   \n",
              "\n",
              "     ADECIFR IPCF DECCFR IDECCFR RDECCFR GDECCFR PDECCFR ADECCFR PONDIH  \n",
              "0        NaN  NaN    NaN     NaN     NaN     NaN     NaN     NaN    NaN  \n",
              "1        NaN  NaN    NaN     NaN     NaN     NaN     NaN     NaN    NaN  \n",
              "2        NaN  NaN    NaN     NaN     NaN     NaN     NaN     NaN    NaN  \n",
              "3        NaN  NaN    NaN     NaN     NaN     NaN     NaN     NaN    NaN  \n",
              "4        NaN  NaN    NaN     NaN     NaN     NaN     NaN     NaN    NaN  \n",
              "...      ...  ...    ...     ...     ...     ...     ...     ...    ...  \n",
              "7642     NaN  NaN    NaN     NaN     NaN     NaN     NaN     NaN    NaN  \n",
              "7643     NaN  NaN    NaN     NaN     NaN     NaN     NaN     NaN    NaN  \n",
              "7644     NaN  NaN    NaN     NaN     NaN     NaN     NaN     NaN    NaN  \n",
              "7645     NaN  NaN    NaN     NaN     NaN     NaN     NaN     NaN    NaN  \n",
              "7646     NaN  NaN    NaN     NaN     NaN     NaN     NaN     NaN    NaN  \n",
              "\n",
              "[7647 rows x 352 columns]"
            ],
            "text/html": [
              "\n",
              "  <div id=\"df-bc7d4e12-6600-4fea-afd4-888208b3e306\" class=\"colab-df-container\">\n",
              "    <div>\n",
              "<style scoped>\n",
              "    .dataframe tbody tr th:only-of-type {\n",
              "        vertical-align: middle;\n",
              "    }\n",
              "\n",
              "    .dataframe tbody tr th {\n",
              "        vertical-align: top;\n",
              "    }\n",
              "\n",
              "    .dataframe thead th {\n",
              "        text-align: right;\n",
              "    }\n",
              "</style>\n",
              "<table border=\"1\" class=\"dataframe\">\n",
              "  <thead>\n",
              "    <tr style=\"text-align: right;\">\n",
              "      <th></th>\n",
              "      <th>CODUSU</th>\n",
              "      <th>nro_hogar</th>\n",
              "      <th>componente</th>\n",
              "      <th>h15</th>\n",
              "      <th>ano4</th>\n",
              "      <th>trimestre</th>\n",
              "      <th>region</th>\n",
              "      <th>mas_500</th>\n",
              "      <th>aglomerado</th>\n",
              "      <th>pondera</th>\n",
              "      <th>...</th>\n",
              "      <th>PDECIFR</th>\n",
              "      <th>ADECIFR</th>\n",
              "      <th>IPCF</th>\n",
              "      <th>DECCFR</th>\n",
              "      <th>IDECCFR</th>\n",
              "      <th>RDECCFR</th>\n",
              "      <th>GDECCFR</th>\n",
              "      <th>PDECCFR</th>\n",
              "      <th>ADECCFR</th>\n",
              "      <th>PONDIH</th>\n",
              "    </tr>\n",
              "  </thead>\n",
              "  <tbody>\n",
              "    <tr>\n",
              "      <th>0</th>\n",
              "      <td>125098</td>\n",
              "      <td>1.0</td>\n",
              "      <td>1.0</td>\n",
              "      <td>Sí</td>\n",
              "      <td>2004.0</td>\n",
              "      <td>1er. Trimestre</td>\n",
              "      <td>Gran Buenos Aires</td>\n",
              "      <td>S</td>\n",
              "      <td>Ciudad de Buenos Aires</td>\n",
              "      <td>1299.0</td>\n",
              "      <td>...</td>\n",
              "      <td>NaN</td>\n",
              "      <td>NaN</td>\n",
              "      <td>NaN</td>\n",
              "      <td>NaN</td>\n",
              "      <td>NaN</td>\n",
              "      <td>NaN</td>\n",
              "      <td>NaN</td>\n",
              "      <td>NaN</td>\n",
              "      <td>NaN</td>\n",
              "      <td>NaN</td>\n",
              "    </tr>\n",
              "    <tr>\n",
              "      <th>1</th>\n",
              "      <td>125397</td>\n",
              "      <td>1.0</td>\n",
              "      <td>1.0</td>\n",
              "      <td>Sí</td>\n",
              "      <td>2004.0</td>\n",
              "      <td>1er. Trimestre</td>\n",
              "      <td>Gran Buenos Aires</td>\n",
              "      <td>S</td>\n",
              "      <td>Ciudad de Buenos Aires</td>\n",
              "      <td>2018.0</td>\n",
              "      <td>...</td>\n",
              "      <td>NaN</td>\n",
              "      <td>NaN</td>\n",
              "      <td>NaN</td>\n",
              "      <td>NaN</td>\n",
              "      <td>NaN</td>\n",
              "      <td>NaN</td>\n",
              "      <td>NaN</td>\n",
              "      <td>NaN</td>\n",
              "      <td>NaN</td>\n",
              "      <td>NaN</td>\n",
              "    </tr>\n",
              "    <tr>\n",
              "      <th>2</th>\n",
              "      <td>125515</td>\n",
              "      <td>1.0</td>\n",
              "      <td>1.0</td>\n",
              "      <td>Sí</td>\n",
              "      <td>2004.0</td>\n",
              "      <td>1er. Trimestre</td>\n",
              "      <td>Gran Buenos Aires</td>\n",
              "      <td>S</td>\n",
              "      <td>Ciudad de Buenos Aires</td>\n",
              "      <td>1486.0</td>\n",
              "      <td>...</td>\n",
              "      <td>NaN</td>\n",
              "      <td>NaN</td>\n",
              "      <td>NaN</td>\n",
              "      <td>NaN</td>\n",
              "      <td>NaN</td>\n",
              "      <td>NaN</td>\n",
              "      <td>NaN</td>\n",
              "      <td>NaN</td>\n",
              "      <td>NaN</td>\n",
              "      <td>NaN</td>\n",
              "    </tr>\n",
              "    <tr>\n",
              "      <th>3</th>\n",
              "      <td>125558</td>\n",
              "      <td>1.0</td>\n",
              "      <td>1.0</td>\n",
              "      <td>Sí</td>\n",
              "      <td>2004.0</td>\n",
              "      <td>1er. Trimestre</td>\n",
              "      <td>Gran Buenos Aires</td>\n",
              "      <td>S</td>\n",
              "      <td>Ciudad de Buenos Aires</td>\n",
              "      <td>1674.0</td>\n",
              "      <td>...</td>\n",
              "      <td>NaN</td>\n",
              "      <td>NaN</td>\n",
              "      <td>NaN</td>\n",
              "      <td>NaN</td>\n",
              "      <td>NaN</td>\n",
              "      <td>NaN</td>\n",
              "      <td>NaN</td>\n",
              "      <td>NaN</td>\n",
              "      <td>NaN</td>\n",
              "      <td>NaN</td>\n",
              "    </tr>\n",
              "    <tr>\n",
              "      <th>4</th>\n",
              "      <td>125558</td>\n",
              "      <td>1.0</td>\n",
              "      <td>2.0</td>\n",
              "      <td>Sí</td>\n",
              "      <td>2004.0</td>\n",
              "      <td>1er. Trimestre</td>\n",
              "      <td>Gran Buenos Aires</td>\n",
              "      <td>S</td>\n",
              "      <td>Ciudad de Buenos Aires</td>\n",
              "      <td>1674.0</td>\n",
              "      <td>...</td>\n",
              "      <td>NaN</td>\n",
              "      <td>NaN</td>\n",
              "      <td>NaN</td>\n",
              "      <td>NaN</td>\n",
              "      <td>NaN</td>\n",
              "      <td>NaN</td>\n",
              "      <td>NaN</td>\n",
              "      <td>NaN</td>\n",
              "      <td>NaN</td>\n",
              "      <td>NaN</td>\n",
              "    </tr>\n",
              "    <tr>\n",
              "      <th>...</th>\n",
              "      <td>...</td>\n",
              "      <td>...</td>\n",
              "      <td>...</td>\n",
              "      <td>...</td>\n",
              "      <td>...</td>\n",
              "      <td>...</td>\n",
              "      <td>...</td>\n",
              "      <td>...</td>\n",
              "      <td>...</td>\n",
              "      <td>...</td>\n",
              "      <td>...</td>\n",
              "      <td>...</td>\n",
              "      <td>...</td>\n",
              "      <td>...</td>\n",
              "      <td>...</td>\n",
              "      <td>...</td>\n",
              "      <td>...</td>\n",
              "      <td>...</td>\n",
              "      <td>...</td>\n",
              "      <td>...</td>\n",
              "      <td>...</td>\n",
              "    </tr>\n",
              "    <tr>\n",
              "      <th>7642</th>\n",
              "      <td>288171</td>\n",
              "      <td>1.0</td>\n",
              "      <td>3.0</td>\n",
              "      <td>0.0</td>\n",
              "      <td>2004.0</td>\n",
              "      <td>1er. Trimestre</td>\n",
              "      <td>Gran Buenos Aires</td>\n",
              "      <td>S</td>\n",
              "      <td>Partidos del GBA</td>\n",
              "      <td>1454.0</td>\n",
              "      <td>...</td>\n",
              "      <td>NaN</td>\n",
              "      <td>NaN</td>\n",
              "      <td>NaN</td>\n",
              "      <td>NaN</td>\n",
              "      <td>NaN</td>\n",
              "      <td>NaN</td>\n",
              "      <td>NaN</td>\n",
              "      <td>NaN</td>\n",
              "      <td>NaN</td>\n",
              "      <td>NaN</td>\n",
              "    </tr>\n",
              "    <tr>\n",
              "      <th>7643</th>\n",
              "      <td>288405</td>\n",
              "      <td>1.0</td>\n",
              "      <td>1.0</td>\n",
              "      <td>Sí</td>\n",
              "      <td>2004.0</td>\n",
              "      <td>1er. Trimestre</td>\n",
              "      <td>Gran Buenos Aires</td>\n",
              "      <td>S</td>\n",
              "      <td>Partidos del GBA</td>\n",
              "      <td>1673.0</td>\n",
              "      <td>...</td>\n",
              "      <td>NaN</td>\n",
              "      <td>NaN</td>\n",
              "      <td>NaN</td>\n",
              "      <td>NaN</td>\n",
              "      <td>NaN</td>\n",
              "      <td>NaN</td>\n",
              "      <td>NaN</td>\n",
              "      <td>NaN</td>\n",
              "      <td>NaN</td>\n",
              "      <td>NaN</td>\n",
              "    </tr>\n",
              "    <tr>\n",
              "      <th>7644</th>\n",
              "      <td>288405</td>\n",
              "      <td>1.0</td>\n",
              "      <td>2.0</td>\n",
              "      <td>Sí</td>\n",
              "      <td>2004.0</td>\n",
              "      <td>1er. Trimestre</td>\n",
              "      <td>Gran Buenos Aires</td>\n",
              "      <td>S</td>\n",
              "      <td>Partidos del GBA</td>\n",
              "      <td>1673.0</td>\n",
              "      <td>...</td>\n",
              "      <td>NaN</td>\n",
              "      <td>NaN</td>\n",
              "      <td>NaN</td>\n",
              "      <td>NaN</td>\n",
              "      <td>NaN</td>\n",
              "      <td>NaN</td>\n",
              "      <td>NaN</td>\n",
              "      <td>NaN</td>\n",
              "      <td>NaN</td>\n",
              "      <td>NaN</td>\n",
              "    </tr>\n",
              "    <tr>\n",
              "      <th>7645</th>\n",
              "      <td>288405</td>\n",
              "      <td>1.0</td>\n",
              "      <td>3.0</td>\n",
              "      <td>Sí</td>\n",
              "      <td>2004.0</td>\n",
              "      <td>1er. Trimestre</td>\n",
              "      <td>Gran Buenos Aires</td>\n",
              "      <td>S</td>\n",
              "      <td>Partidos del GBA</td>\n",
              "      <td>1673.0</td>\n",
              "      <td>...</td>\n",
              "      <td>NaN</td>\n",
              "      <td>NaN</td>\n",
              "      <td>NaN</td>\n",
              "      <td>NaN</td>\n",
              "      <td>NaN</td>\n",
              "      <td>NaN</td>\n",
              "      <td>NaN</td>\n",
              "      <td>NaN</td>\n",
              "      <td>NaN</td>\n",
              "      <td>NaN</td>\n",
              "    </tr>\n",
              "    <tr>\n",
              "      <th>7646</th>\n",
              "      <td>288405</td>\n",
              "      <td>1.0</td>\n",
              "      <td>4.0</td>\n",
              "      <td>Sí</td>\n",
              "      <td>2004.0</td>\n",
              "      <td>1er. Trimestre</td>\n",
              "      <td>Gran Buenos Aires</td>\n",
              "      <td>S</td>\n",
              "      <td>Partidos del GBA</td>\n",
              "      <td>1673.0</td>\n",
              "      <td>...</td>\n",
              "      <td>NaN</td>\n",
              "      <td>NaN</td>\n",
              "      <td>NaN</td>\n",
              "      <td>NaN</td>\n",
              "      <td>NaN</td>\n",
              "      <td>NaN</td>\n",
              "      <td>NaN</td>\n",
              "      <td>NaN</td>\n",
              "      <td>NaN</td>\n",
              "      <td>NaN</td>\n",
              "    </tr>\n",
              "  </tbody>\n",
              "</table>\n",
              "<p>7647 rows × 352 columns</p>\n",
              "</div>\n",
              "    <div class=\"colab-df-buttons\">\n",
              "\n",
              "  <div class=\"colab-df-container\">\n",
              "    <button class=\"colab-df-convert\" onclick=\"convertToInteractive('df-bc7d4e12-6600-4fea-afd4-888208b3e306')\"\n",
              "            title=\"Convert this dataframe to an interactive table.\"\n",
              "            style=\"display:none;\">\n",
              "\n",
              "  <svg xmlns=\"http://www.w3.org/2000/svg\" height=\"24px\" viewBox=\"0 -960 960 960\">\n",
              "    <path d=\"M120-120v-720h720v720H120Zm60-500h600v-160H180v160Zm220 220h160v-160H400v160Zm0 220h160v-160H400v160ZM180-400h160v-160H180v160Zm440 0h160v-160H620v160ZM180-180h160v-160H180v160Zm440 0h160v-160H620v160Z\"/>\n",
              "  </svg>\n",
              "    </button>\n",
              "\n",
              "  <style>\n",
              "    .colab-df-container {\n",
              "      display:flex;\n",
              "      gap: 12px;\n",
              "    }\n",
              "\n",
              "    .colab-df-convert {\n",
              "      background-color: #E8F0FE;\n",
              "      border: none;\n",
              "      border-radius: 50%;\n",
              "      cursor: pointer;\n",
              "      display: none;\n",
              "      fill: #1967D2;\n",
              "      height: 32px;\n",
              "      padding: 0 0 0 0;\n",
              "      width: 32px;\n",
              "    }\n",
              "\n",
              "    .colab-df-convert:hover {\n",
              "      background-color: #E2EBFA;\n",
              "      box-shadow: 0px 1px 2px rgba(60, 64, 67, 0.3), 0px 1px 3px 1px rgba(60, 64, 67, 0.15);\n",
              "      fill: #174EA6;\n",
              "    }\n",
              "\n",
              "    .colab-df-buttons div {\n",
              "      margin-bottom: 4px;\n",
              "    }\n",
              "\n",
              "    [theme=dark] .colab-df-convert {\n",
              "      background-color: #3B4455;\n",
              "      fill: #D2E3FC;\n",
              "    }\n",
              "\n",
              "    [theme=dark] .colab-df-convert:hover {\n",
              "      background-color: #434B5C;\n",
              "      box-shadow: 0px 1px 3px 1px rgba(0, 0, 0, 0.15);\n",
              "      filter: drop-shadow(0px 1px 2px rgba(0, 0, 0, 0.3));\n",
              "      fill: #FFFFFF;\n",
              "    }\n",
              "  </style>\n",
              "\n",
              "    <script>\n",
              "      const buttonEl =\n",
              "        document.querySelector('#df-bc7d4e12-6600-4fea-afd4-888208b3e306 button.colab-df-convert');\n",
              "      buttonEl.style.display =\n",
              "        google.colab.kernel.accessAllowed ? 'block' : 'none';\n",
              "\n",
              "      async function convertToInteractive(key) {\n",
              "        const element = document.querySelector('#df-bc7d4e12-6600-4fea-afd4-888208b3e306');\n",
              "        const dataTable =\n",
              "          await google.colab.kernel.invokeFunction('convertToInteractive',\n",
              "                                                    [key], {});\n",
              "        if (!dataTable) return;\n",
              "\n",
              "        const docLinkHtml = 'Like what you see? Visit the ' +\n",
              "          '<a target=\"_blank\" href=https://colab.research.google.com/notebooks/data_table.ipynb>data table notebook</a>'\n",
              "          + ' to learn more about interactive tables.';\n",
              "        element.innerHTML = '';\n",
              "        dataTable['output_type'] = 'display_data';\n",
              "        await google.colab.output.renderOutput(dataTable, element);\n",
              "        const docLink = document.createElement('div');\n",
              "        docLink.innerHTML = docLinkHtml;\n",
              "        element.appendChild(docLink);\n",
              "      }\n",
              "    </script>\n",
              "  </div>\n",
              "\n",
              "\n",
              "    <div id=\"df-875057de-ab9f-439c-93db-5cc63a9e7c4a\">\n",
              "      <button class=\"colab-df-quickchart\" onclick=\"quickchart('df-875057de-ab9f-439c-93db-5cc63a9e7c4a')\"\n",
              "                title=\"Suggest charts\"\n",
              "                style=\"display:none;\">\n",
              "\n",
              "<svg xmlns=\"http://www.w3.org/2000/svg\" height=\"24px\"viewBox=\"0 0 24 24\"\n",
              "     width=\"24px\">\n",
              "    <g>\n",
              "        <path d=\"M19 3H5c-1.1 0-2 .9-2 2v14c0 1.1.9 2 2 2h14c1.1 0 2-.9 2-2V5c0-1.1-.9-2-2-2zM9 17H7v-7h2v7zm4 0h-2V7h2v10zm4 0h-2v-4h2v4z\"/>\n",
              "    </g>\n",
              "</svg>\n",
              "      </button>\n",
              "\n",
              "<style>\n",
              "  .colab-df-quickchart {\n",
              "      --bg-color: #E8F0FE;\n",
              "      --fill-color: #1967D2;\n",
              "      --hover-bg-color: #E2EBFA;\n",
              "      --hover-fill-color: #174EA6;\n",
              "      --disabled-fill-color: #AAA;\n",
              "      --disabled-bg-color: #DDD;\n",
              "  }\n",
              "\n",
              "  [theme=dark] .colab-df-quickchart {\n",
              "      --bg-color: #3B4455;\n",
              "      --fill-color: #D2E3FC;\n",
              "      --hover-bg-color: #434B5C;\n",
              "      --hover-fill-color: #FFFFFF;\n",
              "      --disabled-bg-color: #3B4455;\n",
              "      --disabled-fill-color: #666;\n",
              "  }\n",
              "\n",
              "  .colab-df-quickchart {\n",
              "    background-color: var(--bg-color);\n",
              "    border: none;\n",
              "    border-radius: 50%;\n",
              "    cursor: pointer;\n",
              "    display: none;\n",
              "    fill: var(--fill-color);\n",
              "    height: 32px;\n",
              "    padding: 0;\n",
              "    width: 32px;\n",
              "  }\n",
              "\n",
              "  .colab-df-quickchart:hover {\n",
              "    background-color: var(--hover-bg-color);\n",
              "    box-shadow: 0 1px 2px rgba(60, 64, 67, 0.3), 0 1px 3px 1px rgba(60, 64, 67, 0.15);\n",
              "    fill: var(--button-hover-fill-color);\n",
              "  }\n",
              "\n",
              "  .colab-df-quickchart-complete:disabled,\n",
              "  .colab-df-quickchart-complete:disabled:hover {\n",
              "    background-color: var(--disabled-bg-color);\n",
              "    fill: var(--disabled-fill-color);\n",
              "    box-shadow: none;\n",
              "  }\n",
              "\n",
              "  .colab-df-spinner {\n",
              "    border: 2px solid var(--fill-color);\n",
              "    border-color: transparent;\n",
              "    border-bottom-color: var(--fill-color);\n",
              "    animation:\n",
              "      spin 1s steps(1) infinite;\n",
              "  }\n",
              "\n",
              "  @keyframes spin {\n",
              "    0% {\n",
              "      border-color: transparent;\n",
              "      border-bottom-color: var(--fill-color);\n",
              "      border-left-color: var(--fill-color);\n",
              "    }\n",
              "    20% {\n",
              "      border-color: transparent;\n",
              "      border-left-color: var(--fill-color);\n",
              "      border-top-color: var(--fill-color);\n",
              "    }\n",
              "    30% {\n",
              "      border-color: transparent;\n",
              "      border-left-color: var(--fill-color);\n",
              "      border-top-color: var(--fill-color);\n",
              "      border-right-color: var(--fill-color);\n",
              "    }\n",
              "    40% {\n",
              "      border-color: transparent;\n",
              "      border-right-color: var(--fill-color);\n",
              "      border-top-color: var(--fill-color);\n",
              "    }\n",
              "    60% {\n",
              "      border-color: transparent;\n",
              "      border-right-color: var(--fill-color);\n",
              "    }\n",
              "    80% {\n",
              "      border-color: transparent;\n",
              "      border-right-color: var(--fill-color);\n",
              "      border-bottom-color: var(--fill-color);\n",
              "    }\n",
              "    90% {\n",
              "      border-color: transparent;\n",
              "      border-bottom-color: var(--fill-color);\n",
              "    }\n",
              "  }\n",
              "</style>\n",
              "\n",
              "      <script>\n",
              "        async function quickchart(key) {\n",
              "          const quickchartButtonEl =\n",
              "            document.querySelector('#' + key + ' button');\n",
              "          quickchartButtonEl.disabled = true;  // To prevent multiple clicks.\n",
              "          quickchartButtonEl.classList.add('colab-df-spinner');\n",
              "          try {\n",
              "            const charts = await google.colab.kernel.invokeFunction(\n",
              "                'suggestCharts', [key], {});\n",
              "          } catch (error) {\n",
              "            console.error('Error during call to suggestCharts:', error);\n",
              "          }\n",
              "          quickchartButtonEl.classList.remove('colab-df-spinner');\n",
              "          quickchartButtonEl.classList.add('colab-df-quickchart-complete');\n",
              "        }\n",
              "        (() => {\n",
              "          let quickchartButtonEl =\n",
              "            document.querySelector('#df-875057de-ab9f-439c-93db-5cc63a9e7c4a button');\n",
              "          quickchartButtonEl.style.display =\n",
              "            google.colab.kernel.accessAllowed ? 'block' : 'none';\n",
              "        })();\n",
              "      </script>\n",
              "    </div>\n",
              "\n",
              "  <div id=\"id_69b18adb-a50c-450d-ab1d-25d144badf8d\">\n",
              "    <style>\n",
              "      .colab-df-generate {\n",
              "        background-color: #E8F0FE;\n",
              "        border: none;\n",
              "        border-radius: 50%;\n",
              "        cursor: pointer;\n",
              "        display: none;\n",
              "        fill: #1967D2;\n",
              "        height: 32px;\n",
              "        padding: 0 0 0 0;\n",
              "        width: 32px;\n",
              "      }\n",
              "\n",
              "      .colab-df-generate:hover {\n",
              "        background-color: #E2EBFA;\n",
              "        box-shadow: 0px 1px 2px rgba(60, 64, 67, 0.3), 0px 1px 3px 1px rgba(60, 64, 67, 0.15);\n",
              "        fill: #174EA6;\n",
              "      }\n",
              "\n",
              "      [theme=dark] .colab-df-generate {\n",
              "        background-color: #3B4455;\n",
              "        fill: #D2E3FC;\n",
              "      }\n",
              "\n",
              "      [theme=dark] .colab-df-generate:hover {\n",
              "        background-color: #434B5C;\n",
              "        box-shadow: 0px 1px 3px 1px rgba(0, 0, 0, 0.15);\n",
              "        filter: drop-shadow(0px 1px 2px rgba(0, 0, 0, 0.3));\n",
              "        fill: #FFFFFF;\n",
              "      }\n",
              "    </style>\n",
              "    <button class=\"colab-df-generate\" onclick=\"generateWithVariable('df')\"\n",
              "            title=\"Generate code using this dataframe.\"\n",
              "            style=\"display:none;\">\n",
              "\n",
              "  <svg xmlns=\"http://www.w3.org/2000/svg\" height=\"24px\"viewBox=\"0 0 24 24\"\n",
              "       width=\"24px\">\n",
              "    <path d=\"M7,19H8.4L18.45,9,17,7.55,7,17.6ZM5,21V16.75L18.45,3.32a2,2,0,0,1,2.83,0l1.4,1.43a1.91,1.91,0,0,1,.58,1.4,1.91,1.91,0,0,1-.58,1.4L9.25,21ZM18.45,9,17,7.55Zm-12,3A5.31,5.31,0,0,0,4.9,8.1,5.31,5.31,0,0,0,1,6.5,5.31,5.31,0,0,0,4.9,4.9,5.31,5.31,0,0,0,6.5,1,5.31,5.31,0,0,0,8.1,4.9,5.31,5.31,0,0,0,12,6.5,5.46,5.46,0,0,0,6.5,12Z\"/>\n",
              "  </svg>\n",
              "    </button>\n",
              "    <script>\n",
              "      (() => {\n",
              "      const buttonEl =\n",
              "        document.querySelector('#id_69b18adb-a50c-450d-ab1d-25d144badf8d button.colab-df-generate');\n",
              "      buttonEl.style.display =\n",
              "        google.colab.kernel.accessAllowed ? 'block' : 'none';\n",
              "\n",
              "      buttonEl.onclick = () => {\n",
              "        google.colab.notebook.generateWithVariable('df');\n",
              "      }\n",
              "      })();\n",
              "    </script>\n",
              "  </div>\n",
              "\n",
              "    </div>\n",
              "  </div>\n"
            ],
            "application/vnd.google.colaboratory.intrinsic+json": {
              "type": "dataframe",
              "variable_name": "df"
            }
          },
          "metadata": {},
          "execution_count": 71
        }
      ]
    },
    {
      "cell_type": "markdown",
      "source": [
        "Material del trabajo 2"
      ],
      "metadata": {
        "id": "Ap1Sj5QKlXNc"
      }
    },
    {
      "cell_type": "code",
      "source": [
        "\n",
        "variables_2024= ['CAT_INAC' , 'CAT_OCUP','REGION', 'ANO4', 'TRIMESTRE', 'H15', 'PP02I',\n",
        "                 'ESTADO', 'CH15', 'CH14', 'CH09', 'CH06', 'CH03', 'CH04', 'PP02H']\n",
        "porcentaje_nan = df_b[variables_2024].isna().mean()* 100\n",
        "print(porcentaje_nan)"
      ],
      "metadata": {
        "colab": {
          "base_uri": "https://localhost:8080/"
        },
        "id": "w75njNgAktxr",
        "outputId": "e7fe6538-03a9-4ca5-ee22-81bf7f0f06ef"
      },
      "execution_count": 196,
      "outputs": [
        {
          "output_type": "stream",
          "name": "stdout",
          "text": [
            "CAT_INAC      0.000000\n",
            "CAT_OCUP      0.000000\n",
            "REGION        0.000000\n",
            "ANO4          0.000000\n",
            "TRIMESTRE     0.000000\n",
            "H15           0.000000\n",
            "PP02I         0.000000\n",
            "ESTADO        0.000000\n",
            "CH15          0.000000\n",
            "CH14         50.495114\n",
            "CH09          0.000000\n",
            "CH06          0.000000\n",
            "CH03          0.000000\n",
            "CH04          0.000000\n",
            "PP02H         0.000000\n",
            "dtype: float64\n"
          ]
        }
      ]
    },
    {
      "cell_type": "code",
      "source": [
        "variables_2004=['cat_inac', 'cat_ocup', 'region','ano4', 'trimestre', 'h15',\n",
        " 'pp02i', 'estado', 'ch15', 'ch14', 'ch09', 'ch06', 'ch03', 'ch04', 'pp02h']\n",
        "porcentaje_nan = df_a[variables_2004].isna().mean()* 100\n",
        "print(porcentaje_nan)\n"
      ],
      "metadata": {
        "colab": {
          "base_uri": "https://localhost:8080/"
        },
        "id": "-65vyUx1kJCa",
        "outputId": "4aec889b-b2f4-431a-e756-37537dd3284a"
      },
      "execution_count": 197,
      "outputs": [
        {
          "output_type": "stream",
          "name": "stdout",
          "text": [
            "cat_inac     0.0\n",
            "cat_ocup     0.0\n",
            "region       0.0\n",
            "ano4         0.0\n",
            "trimestre    0.0\n",
            "h15          0.0\n",
            "pp02i        0.0\n",
            "estado       0.0\n",
            "ch15         0.0\n",
            "ch14         0.0\n",
            "ch09         0.0\n",
            "ch06         0.0\n",
            "ch03         0.0\n",
            "ch04         0.0\n",
            "pp02h        0.0\n",
            "dtype: float64\n"
          ]
        }
      ]
    },
    {
      "cell_type": "markdown",
      "source": [
        "Trabajo 3 homogenización de variables"
      ],
      "metadata": {
        "id": "zmdo_bCIfnhC"
      }
    },
    {
      "cell_type": "code",
      "source": [
        "df_2004.columns = df_2004.columns.str.upper()\n",
        "df_2024.columns = df_2024.columns.str.upper()\n"
      ],
      "metadata": {
        "id": "BhMdJbFAIeMG"
      },
      "execution_count": 198,
      "outputs": []
    },
    {
      "cell_type": "code",
      "source": [
        "variables_comunes = ['CAT_INAC', 'CAT_OCUP','REGION', 'ANO4', 'TRIMESTRE', 'H15',\n",
        "                     'PP02I', 'ESTADO', 'CH15', 'CH14', 'CH09', 'CH06', 'CH03', 'CH04', 'PP02H']"
      ],
      "metadata": {
        "id": "5GTql8AcKtcT"
      },
      "execution_count": 199,
      "outputs": []
    },
    {
      "cell_type": "markdown",
      "source": [
        "variable ch04"
      ],
      "metadata": {
        "id": "QXfeam7XSuID"
      }
    },
    {
      "cell_type": "code",
      "source": [
        "print(\"2004:\", df_2004['CH04'].unique())\n",
        "print(\"2024:\", df_2024['CH04'].unique())"
      ],
      "metadata": {
        "colab": {
          "base_uri": "https://localhost:8080/"
        },
        "id": "Xkk8P03eKcry",
        "outputId": "4fff4b69-1458-4d82-de99-86eceaac1290"
      },
      "execution_count": 200,
      "outputs": [
        {
          "output_type": "stream",
          "name": "stdout",
          "text": [
            "2004: [1 2]\n",
            "2024: [2 1]\n"
          ]
        }
      ]
    },
    {
      "cell_type": "code",
      "source": [
        "df_2004['CH04'] = df_2004['CH04'].replace({'Varón': 1, 'Mujer': 2}).astype(int)\n",
        "print(df_2004['CH04'].unique())"
      ],
      "metadata": {
        "colab": {
          "base_uri": "https://localhost:8080/"
        },
        "id": "Esz3PUHsLyTU",
        "outputId": "11bd5e47-c76a-4828-8f1e-8dbf811096ea"
      },
      "execution_count": 201,
      "outputs": [
        {
          "output_type": "stream",
          "name": "stdout",
          "text": [
            "[1 2]\n"
          ]
        }
      ]
    },
    {
      "cell_type": "markdown",
      "source": [
        "variable ch03"
      ],
      "metadata": {
        "id": "lFnJu0SiTgIU"
      }
    },
    {
      "cell_type": "code",
      "source": [
        "print(\"2004:\", df_2004[ 'CH03'].unique())\n",
        "print(\"2024:\", df_2024[ 'CH03'].unique())"
      ],
      "metadata": {
        "colab": {
          "base_uri": "https://localhost:8080/"
        },
        "id": "ybhNM0omLBDz",
        "outputId": "fdfdf3d6-fad5-4748-d6ef-c2fadff12670"
      },
      "execution_count": 202,
      "outputs": [
        {
          "output_type": "stream",
          "name": "stdout",
          "text": [
            "2004: [3, 5, 1, 2, 10, 4, 6, 8, 7, 9]\n",
            "Categories (10, int64): [3 < 5 < 1 < 9 ... 6 < 4 < 10 < 7]\n",
            "2024: [ 3  5  1  2 10  4  6  8  7  9]\n"
          ]
        }
      ]
    },
    {
      "cell_type": "code",
      "source": [
        "mapa_ch03_2004_2024 = {\n",
        "    'Jefe': 3,\n",
        "    'Cónyuge/Pareja': 5,\n",
        "    'Hijo/Hijastro': 1,\n",
        "    'Madre/Padre': 2,\n",
        "    'Otros familiares': 10,\n",
        "    'Hermano': 4,\n",
        "    'Suegro': 6,\n",
        "    'Nieto': 8,\n",
        "    'No familiares': 7,\n",
        "    'Yerno/Nuera': 9\n",
        "}\n",
        "df_2004['CH03'] = df_2004['CH03'].replace(mapa_ch03_2004_2024)\n",
        "print(\"2004:\", df_2004['CH03'].unique())\n",
        "print(\"2024:\", df_2024['CH03'].unique())"
      ],
      "metadata": {
        "colab": {
          "base_uri": "https://localhost:8080/"
        },
        "id": "C1rsD-dZTSdl",
        "outputId": "a2a03e53-9545-4c77-ce59-f8c3cfc27cfe"
      },
      "execution_count": 203,
      "outputs": [
        {
          "output_type": "stream",
          "name": "stdout",
          "text": [
            "2004: [3, 5, 1, 2, 10, 4, 6, 8, 7, 9]\n",
            "Categories (10, int64): [3 < 5 < 1 < 9 ... 6 < 4 < 10 < 7]\n",
            "2024: [ 3  5  1  2 10  4  6  8  7  9]\n"
          ]
        }
      ]
    },
    {
      "cell_type": "markdown",
      "source": [
        "variable PP02H"
      ],
      "metadata": {
        "id": "9TeAELTmUjjn"
      }
    },
    {
      "cell_type": "code",
      "source": [
        "print(\"2004:\", df_2004[ 'PP02H'].unique())\n",
        "print(\"2024:\", df_2024[ 'PP02H'].unique())"
      ],
      "metadata": {
        "colab": {
          "base_uri": "https://localhost:8080/"
        },
        "id": "_hhBhs52Tb2N",
        "outputId": "c1270bba-72e4-478c-ce6e-2fad009da231"
      },
      "execution_count": 204,
      "outputs": [
        {
          "output_type": "stream",
          "name": "stdout",
          "text": [
            "2004: ['No', 'Sí']\n",
            "Categories (2, object): ['Sí' < 'No']\n",
            "2024: ['No' 'Sí']\n"
          ]
        }
      ]
    },
    {
      "cell_type": "code",
      "source": [
        "df_2004['PP02H'] = df_2004['PP02H'].replace({0.0: 'No'})\n",
        "df_2024['PP02H'] = df_2024['PP02H'].replace({0: 'No', 2: 'Sí', 1: 'Sí'})\n",
        "print(\"Valores 2004:\", df_2004['PP02H'].unique())\n",
        "print(\"Valores 2024:\", df_2024['PP02H'].unique())"
      ],
      "metadata": {
        "colab": {
          "base_uri": "https://localhost:8080/"
        },
        "id": "3OuztNWtUct2",
        "outputId": "a9461bab-86f8-4c49-f2c0-b613dcf40346"
      },
      "execution_count": 205,
      "outputs": [
        {
          "output_type": "stream",
          "name": "stdout",
          "text": [
            "Valores 2004: ['No', 'Sí']\n",
            "Categories (2, object): ['Sí' < 'No']\n",
            "Valores 2024: ['No' 'Sí']\n"
          ]
        }
      ]
    },
    {
      "cell_type": "markdown",
      "source": [
        "variable cho9"
      ],
      "metadata": {
        "id": "JrMOOyWuVpeA"
      }
    },
    {
      "cell_type": "code",
      "source": [
        "print(\"2004:\", df_2004['CH09'].unique())\n",
        "print(\"2024:\", df_2024['CH09'].unique())"
      ],
      "metadata": {
        "colab": {
          "base_uri": "https://localhost:8080/"
        },
        "id": "n83lBdeLUnqf",
        "outputId": "4fc5f970-f63e-40a7-b7b8-6fba7939b3b9"
      },
      "execution_count": 206,
      "outputs": [
        {
          "output_type": "stream",
          "name": "stdout",
          "text": [
            "2004: ['Sí' 'No' 'Menor de 2 años' 'Ns./Nr.']\n",
            "2024: ['Sí' 'No' 'Menor de 2 años' 'Ns./Nr.']\n"
          ]
        }
      ]
    },
    {
      "cell_type": "code",
      "source": [
        "mapa_ch09 = {\n",
        "    1: 'Sí',\n",
        "    2: 'No',\n",
        "    3: 'Menor de 2 años',\n",
        "    9: 'Ns./Nr.'\n",
        "}\n",
        "df_2024['CH09'] = df_2024['CH09'].replace(mapa_ch09)\n",
        "df_2004['CH09'] = df_2004['CH09'].astype(str)\n",
        "df_2024['CH09'] = df_2024['CH09'].astype(str)\n",
        "\n",
        "print(\"CH09 - 2004:\", df_2004['CH09'].unique())\n",
        "print(\"CH09 - 2024:\", df_2024['CH09'].unique())"
      ],
      "metadata": {
        "colab": {
          "base_uri": "https://localhost:8080/"
        },
        "id": "ZkbU6NBhVi9q",
        "outputId": "f115aa6b-947f-4cb8-c45e-dbb8c0ff97e4"
      },
      "execution_count": 207,
      "outputs": [
        {
          "output_type": "stream",
          "name": "stdout",
          "text": [
            "CH09 - 2004: ['Sí' 'No' 'Menor de 2 años' 'Ns./Nr.']\n",
            "CH09 - 2024: ['Sí' 'No' 'Menor de 2 años' 'Ns./Nr.']\n"
          ]
        }
      ]
    },
    {
      "cell_type": "markdown",
      "source": [
        "variable estado"
      ],
      "metadata": {
        "id": "TNscWyEegGDu"
      }
    },
    {
      "cell_type": "code",
      "source": [
        "print(\"2004:\", df_2004['ESTADO'].unique())\n",
        "print(\"2024:\", df_2024['ESTADO'].unique())"
      ],
      "metadata": {
        "colab": {
          "base_uri": "https://localhost:8080/"
        },
        "id": "jrKuRo1jV0f4",
        "outputId": "4bdbc083-c9c0-44f4-ad30-5db518dafa54"
      },
      "execution_count": 208,
      "outputs": [
        {
          "output_type": "stream",
          "name": "stdout",
          "text": [
            "2004: ['Inactivo', 'Ocupado', 'Desocupado', 'Menor de 10 años', 'Entrevista individual no realizada (no respue...]\n",
            "Categories (5, object): ['Entrevista individual no realizada (no respue... < 'Ocupado' < 'Desocupado' < 'Inactivo' < 'Menor de 10 años']\n",
            "2024: [1 3 4 2 0]\n"
          ]
        }
      ]
    },
    {
      "cell_type": "code",
      "source": [
        "# Homogeneizar ESTADO para 2004\n",
        "estado_map_2004 = {\n",
        "    'Ocupado': 1,\n",
        "    'Desocupado': 2,\n",
        "    # Ignoramos o pasamos a NaN los demás\n",
        "}\n",
        "\n",
        "df_2004['ESTADO_HOMOG'] = df_2004['ESTADO'].map(estado_map_2004)\n",
        "\n",
        "# Homogeneizar ESTADO para 2024\n",
        "estado_map_2024 = {\n",
        "    1: 1,  # Ocupado\n",
        "    2: 2,  # Desocupado\n",
        "    # Ignoramos o pasamos a NaN los demás (0, 3, 4)\n",
        "}\n",
        "\n",
        "df_2024['ESTADO_HOMOG'] = df_2024['ESTADO'].map(estado_map_2024)\n",
        "\n"
      ],
      "metadata": {
        "id": "a-_9c-bJaa_i"
      },
      "execution_count": 209,
      "outputs": []
    },
    {
      "cell_type": "code",
      "source": [
        "df_2004['ANO'] = 2004\n",
        "df_2024['ANO'] = 2024\n",
        "\n",
        "# Unís las bases con las variables homogeneizadas\n",
        "df_final = pd.concat([df_2004, df_2024], ignore_index=True)"
      ],
      "metadata": {
        "id": "h0Zs7lxW7pnt"
      },
      "execution_count": 210,
      "outputs": []
    },
    {
      "cell_type": "code",
      "source": [
        "print(df_final['ESTADO_HOMOG'].value_counts(dropna=False))"
      ],
      "metadata": {
        "colab": {
          "base_uri": "https://localhost:8080/"
        },
        "id": "3WubC7Kq7vPc",
        "outputId": "6d89a135-bfb5-4924-dd18-0aa5e11e8116"
      },
      "execution_count": 211,
      "outputs": [
        {
          "output_type": "stream",
          "name": "stdout",
          "text": [
            "ESTADO_HOMOG\n",
            "NaN    49913\n",
            "1.0    37347\n",
            "2.0     4079\n",
            "Name: count, dtype: int64\n"
          ]
        }
      ]
    },
    {
      "cell_type": "markdown",
      "source": [
        "variable pp02I\n"
      ],
      "metadata": {
        "id": "b5Tig8Gwif5F"
      }
    },
    {
      "cell_type": "code",
      "source": [
        "print(\"2004:\", df_2004['PP02I'].unique())\n",
        "print(\"2024:\", df_2024[ 'PP02I'].unique())"
      ],
      "metadata": {
        "colab": {
          "base_uri": "https://localhost:8080/"
        },
        "id": "dIUkutFJew6j",
        "outputId": "7736a295-a60f-4ee4-e704-baf9f60a7569"
      },
      "execution_count": 212,
      "outputs": [
        {
          "output_type": "stream",
          "name": "stdout",
          "text": [
            "2004: ['No', 'Sí']\n",
            "Categories (2, object): ['Sí' < 'No']\n",
            "2024: ['No' 'Sí']\n"
          ]
        }
      ]
    },
    {
      "cell_type": "code",
      "source": [
        "df_2004['PP02I'] = df_2004['PP02I'].replace({0.0: 'No'})\n",
        "df_2024['PP02I'] = df_2024['PP02I'].replace({0: 'No', 2: 'Sí', 1: 'Sí'})\n",
        "\n",
        "print(\"Valores 2004:\", df_2004['PP02I'].unique())\n",
        "print(\"Valores 2024:\", df_2024['PP02I'].unique())"
      ],
      "metadata": {
        "colab": {
          "base_uri": "https://localhost:8080/"
        },
        "id": "fSg5mIiGf3NH",
        "outputId": "4bf9de8e-d434-4645-bd1b-b51c186bc146"
      },
      "execution_count": 213,
      "outputs": [
        {
          "output_type": "stream",
          "name": "stdout",
          "text": [
            "Valores 2004: ['No', 'Sí']\n",
            "Categories (2, object): ['Sí' < 'No']\n",
            "Valores 2024: ['No' 'Sí']\n"
          ]
        }
      ]
    },
    {
      "cell_type": "markdown",
      "source": [
        "variable h15"
      ],
      "metadata": {
        "id": "DY716WXaiT8k"
      }
    },
    {
      "cell_type": "code",
      "source": [
        "print(\"2004:\", df_2004['H15'].unique())\n",
        "print(\"2024:\", df_2024[ 'H15'].unique())"
      ],
      "metadata": {
        "colab": {
          "base_uri": "https://localhost:8080/"
        },
        "id": "EG9VATjvgy7q",
        "outputId": "f78d24aa-e0a5-4de2-b9a7-0a5ac0fb1236"
      },
      "execution_count": 214,
      "outputs": [
        {
          "output_type": "stream",
          "name": "stdout",
          "text": [
            "2004: <IntegerArray>\n",
            "[1, 0, 2]\n",
            "Length: 3, dtype: Int64\n",
            "2024: <IntegerArray>\n",
            "[1, 0, 2]\n",
            "Length: 3, dtype: Int64\n"
          ]
        }
      ]
    },
    {
      "cell_type": "code",
      "source": [
        "mapa_2004_h15 = {\n",
        "    'Sí': 1,\n",
        "    'No': 2,\n",
        "    0.0: 0  }\n",
        "mapa_2024_h15 = {\n",
        "    1: 1,\n",
        "    2: 2,\n",
        "    0: 0}\n",
        "df_2004['H15'] = df_2004['H15'].replace(mapa_2004_h15)\n",
        "df_2024['H15'] = df_2024['H15'].replace(mapa_2024_h15)\n",
        "df_2004['H15'] = df_2004['H15'].astype('Int64')\n",
        "df_2024['H15'] = df_2024['H15'].astype('Int64')\n",
        "print(\"H15 - 2004:\", df_2004['H15'].unique())\n",
        "print(\"H15 - 2024:\", df_2024['H15'].unique())\n"
      ],
      "metadata": {
        "colab": {
          "base_uri": "https://localhost:8080/"
        },
        "id": "c-mgUMHkh0d7",
        "outputId": "903f4ce8-7acf-4b16-f38a-fd0a3ca42ea2"
      },
      "execution_count": 215,
      "outputs": [
        {
          "output_type": "stream",
          "name": "stdout",
          "text": [
            "H15 - 2004: <IntegerArray>\n",
            "[1, 0, 2]\n",
            "Length: 3, dtype: Int64\n",
            "H15 - 2024: <IntegerArray>\n",
            "[1, 0, 2]\n",
            "Length: 3, dtype: Int64\n"
          ]
        }
      ]
    },
    {
      "cell_type": "markdown",
      "source": [
        "variable 'TRIMESTRE'(no necesario homogenizar)"
      ],
      "metadata": {
        "id": "hxMnrf8ViX2T"
      }
    },
    {
      "cell_type": "code",
      "source": [
        "print(\"2004:\", df_2004[ 'TRIMESTRE'].unique())\n",
        "print(\"2024:\", df_2024[ 'TRIMESTRE'].unique())"
      ],
      "metadata": {
        "colab": {
          "base_uri": "https://localhost:8080/"
        },
        "collapsed": true,
        "id": "ebdM5RTgiSk8",
        "outputId": "c9d35e9a-aae4-4b2f-9d82-dc5d4d6dfe46"
      },
      "execution_count": 216,
      "outputs": [
        {
          "output_type": "stream",
          "name": "stdout",
          "text": [
            "2004: [1]\n",
            "2024: [1]\n"
          ]
        }
      ]
    },
    {
      "cell_type": "code",
      "source": [
        "mapa_trimestre = { '1er. Trimestre': 1}\n",
        "df_2004['TRIMESTRE'] = df_2004['TRIMESTRE'].replace(mapa_trimestre)\n",
        "df_2004['TRIMESTRE'] = df_2004['TRIMESTRE'].astype(int)\n",
        "df_2024['TRIMESTRE'] = df_2024['TRIMESTRE'].astype(int)\n",
        "\n",
        "print(\"TRIMESTRE - 2004:\", df_2004['TRIMESTRE'].unique())\n",
        "print(\"TRIMESTRE - 2024:\", df_2024['TRIMESTRE'].unique())"
      ],
      "metadata": {
        "colab": {
          "base_uri": "https://localhost:8080/"
        },
        "collapsed": true,
        "id": "3JzBkwdekRoX",
        "outputId": "0dc4fc82-0362-4e63-bebf-ed1c283203c8"
      },
      "execution_count": 218,
      "outputs": [
        {
          "output_type": "stream",
          "name": "stdout",
          "text": [
            "TRIMESTRE - 2004: [1]\n",
            "TRIMESTRE - 2024: [1]\n"
          ]
        }
      ]
    },
    {
      "cell_type": "markdown",
      "source": [
        "variable 'ANO4'(no necesario homogenizar)"
      ],
      "metadata": {
        "id": "hqjti7wikqxa"
      }
    },
    {
      "cell_type": "code",
      "source": [
        "print(\"2004:\", df_2004[ 'ANO4'].unique())\n",
        "print(\"2024:\", df_2024[ 'ANO4'].unique())"
      ],
      "metadata": {
        "colab": {
          "base_uri": "https://localhost:8080/"
        },
        "collapsed": true,
        "id": "OsQHMrfAkbco",
        "outputId": "8acab8f9-f9a9-4448-c3d0-2d23fa1bcbf5"
      },
      "execution_count": 219,
      "outputs": [
        {
          "output_type": "stream",
          "name": "stdout",
          "text": [
            "2004: [2004.]\n",
            "2024: [2024]\n"
          ]
        }
      ]
    },
    {
      "cell_type": "markdown",
      "source": [
        "VARIABLE 'REGION'"
      ],
      "metadata": {
        "id": "DH4EWKlVmFx7"
      }
    },
    {
      "cell_type": "code",
      "source": [
        "print(\"2004:\", df_2004[  'REGION'].unique())\n",
        "print(\"2024:\", df_2024[  'REGION'].unique())"
      ],
      "metadata": {
        "colab": {
          "base_uri": "https://localhost:8080/"
        },
        "collapsed": true,
        "id": "G-KSlTfnl1kN",
        "outputId": "1dc1d909-5013-4e7f-d7a0-2fd5092af1e6"
      },
      "execution_count": 220,
      "outputs": [
        {
          "output_type": "stream",
          "name": "stdout",
          "text": [
            "2004: ['Gran Buenos Aires', 'NOA', 'NEA', 'Cuyo', 'Pampeana', 'Patagónica']\n",
            "Categories (6, object): ['Gran Buenos Aires' < 'NOA' < 'NEA' < 'Cuyo' < 'Pampeana' < 'Patagónica']\n",
            "2024: ['Gran Buenos Aires' 'NOA' 'NEA' 'Cuyo' 'Pampeana' 'Patagónica']\n"
          ]
        }
      ]
    },
    {
      "cell_type": "code",
      "source": [
        "mapa_region = {\n",
        "    42: 'Gran Buenos Aires',\n",
        "    41: 'NOA',\n",
        "    40: 'NEA',\n",
        "    43: 'Cuyo',\n",
        "    44: 'Pampeana',\n",
        "    1: 'Patagónica',}\n",
        "df_2024['REGION'] = df_2024['REGION'].replace(mapa_region)\n",
        "print(\"REGION - 2004:\", df_2004['REGION'].unique())\n",
        "print(\"REGION - 2024:\", df_2024['REGION'].unique())"
      ],
      "metadata": {
        "colab": {
          "base_uri": "https://localhost:8080/"
        },
        "collapsed": true,
        "id": "4aMcWVH0mdyr",
        "outputId": "abde045d-d86c-4842-bf78-10b3163c78ee"
      },
      "execution_count": 221,
      "outputs": [
        {
          "output_type": "stream",
          "name": "stdout",
          "text": [
            "REGION - 2004: ['Gran Buenos Aires', 'NOA', 'NEA', 'Cuyo', 'Pampeana', 'Patagónica']\n",
            "Categories (6, object): ['Gran Buenos Aires' < 'NOA' < 'NEA' < 'Cuyo' < 'Pampeana' < 'Patagónica']\n",
            "REGION - 2024: ['Gran Buenos Aires' 'NOA' 'NEA' 'Cuyo' 'Pampeana' 'Patagónica']\n"
          ]
        }
      ]
    },
    {
      "cell_type": "markdown",
      "source": [
        "VARIABLE 'CAT_OCUP'"
      ],
      "metadata": {
        "id": "OORFi1Ycm8MW"
      }
    },
    {
      "cell_type": "code",
      "source": [
        "print(\"2004:\", df_2004[   'CAT_OCUP'].unique())\n",
        "print(\"2024:\", df_2024[   'CAT_OCUP'].unique())"
      ],
      "metadata": {
        "colab": {
          "base_uri": "https://localhost:8080/"
        },
        "collapsed": true,
        "id": "mrXMktDymmpl",
        "outputId": "cfd4cea8-f06f-4bc5-c354-cc025a9d371b"
      },
      "execution_count": 222,
      "outputs": [
        {
          "output_type": "stream",
          "name": "stdout",
          "text": [
            "2004: [0.0, 'Cuenta propia', 'Trabajador familiar sin remuneración', 'Obrero o empleado', 'Patrón']\n",
            "Categories (5, object): [0.0 < 'Patrón' < 'Cuenta propia' < 'Obrero o empleado' <\n",
            "                         'Trabajador familiar sin remuneración']\n",
            "2024: [3 0 2 1 4]\n"
          ]
        }
      ]
    },
    {
      "cell_type": "code",
      "source": [
        "mapa_cat_ocup = {\n",
        "3: '0.0',\n",
        "0: 'Cuenta propia',\n",
        "2: 'Trabajador familiar sin remuneración',\n",
        "1: 'Obrero o empleado',\n",
        "4: 'Patrón',\n",
        "}\n",
        "# Verificamos los resultados\n",
        "print(\"CAT_OCUP - 2004:\", df_2004['CAT_OCUP'].unique())\n",
        "print(\"CAT_OCUP - 2024:\", df_2024['CAT_OCUP'].unique())\n"
      ],
      "metadata": {
        "colab": {
          "base_uri": "https://localhost:8080/"
        },
        "collapsed": true,
        "id": "Ad0Ppxu0pZq6",
        "outputId": "27ac92fb-d53d-4c9a-e4bd-3138ae4937b5"
      },
      "execution_count": 223,
      "outputs": [
        {
          "output_type": "stream",
          "name": "stdout",
          "text": [
            "CAT_OCUP - 2004: [0.0, 'Cuenta propia', 'Trabajador familiar sin remuneración', 'Obrero o empleado', 'Patrón']\n",
            "Categories (5, object): [0.0 < 'Patrón' < 'Cuenta propia' < 'Obrero o empleado' <\n",
            "                         'Trabajador familiar sin remuneración']\n",
            "CAT_OCUP - 2024: [3 0 2 1 4]\n"
          ]
        }
      ]
    },
    {
      "cell_type": "markdown",
      "source": [
        "VARIABLE 'CAT_INAC'"
      ],
      "metadata": {
        "id": "GHqKljNqq1G0"
      }
    },
    {
      "cell_type": "code",
      "source": [
        "print(\"2004:\", df_2004[   'CAT_INAC'].unique())\n",
        "print(\"2024:\", df_2024[    'CAT_INAC'].unique())"
      ],
      "metadata": {
        "colab": {
          "base_uri": "https://localhost:8080/"
        },
        "collapsed": true,
        "id": "lFzG-XrYqtX0",
        "outputId": "2c5caebe-7ac5-44ac-db7f-44950c6c2b8b"
      },
      "execution_count": 224,
      "outputs": [
        {
          "output_type": "stream",
          "name": "stdout",
          "text": [
            "2004: ['Jubilado/pensionado', 0.0, 'Ama de casa', 'Estudiante', 'Menor de 6 años', 'Rentista', 'Otros', 'Discapacitado']\n",
            "Categories (8, object): [0.0 < 'Jubilado/pensionado' < 'Rentista' < 'Estudiante' <\n",
            "                         'Ama de casa' < 'Menor de 6 años' < 'Discapacitado' < 'Otros']\n",
            "2024: ['Inactivo' 'Ama de casa' 'Menor de 6 años' 'Jubilado/pensionado'\n",
            " 'Estudiante' 'Otros' 'Rentista' 'Discapacitado']\n"
          ]
        }
      ]
    },
    {
      "cell_type": "code",
      "source": [
        "mapa_cat_inac = {\n",
        "    0: 'Inactivo',\n",
        "      1: 'Jubilado/pensionado',\n",
        "     2: 'Rentista'  ,\n",
        "    3:  'Estudiante',\n",
        "    4:'Ama de casa',\n",
        "    5: 'Menor de 6 años',\n",
        "  6: 'Discapacitado',\n",
        "7: 'Otros',\n",
        "}\n",
        "df_2024['CAT_INAC'] = df_2024['CAT_INAC'].replace(mapa_cat_inac)\n",
        "print(\"CAT_INAC - 2004:\", df_2004['CAT_INAC'].unique())\n",
        "print(\"CAT_INAC - 2024:\", df_2024['CAT_INAC'].unique())"
      ],
      "metadata": {
        "colab": {
          "base_uri": "https://localhost:8080/"
        },
        "id": "5g4QAS-_rSsN",
        "outputId": "dbd42f1e-1414-420d-a0eb-bb36475f9b6b"
      },
      "execution_count": 225,
      "outputs": [
        {
          "output_type": "stream",
          "name": "stdout",
          "text": [
            "CAT_INAC - 2004: ['Jubilado/pensionado', 0.0, 'Ama de casa', 'Estudiante', 'Menor de 6 años', 'Rentista', 'Otros', 'Discapacitado']\n",
            "Categories (8, object): [0.0 < 'Jubilado/pensionado' < 'Rentista' < 'Estudiante' <\n",
            "                         'Ama de casa' < 'Menor de 6 años' < 'Discapacitado' < 'Otros']\n",
            "CAT_INAC - 2024: ['Inactivo' 'Ama de casa' 'Menor de 6 años' 'Jubilado/pensionado'\n",
            " 'Estudiante' 'Otros' 'Rentista' 'Discapacitado']\n"
          ]
        }
      ]
    },
    {
      "cell_type": "markdown",
      "source": [
        "VARIABLE 'CH15'"
      ],
      "metadata": {
        "id": "MBohjEMIuCcj"
      }
    },
    {
      "cell_type": "code",
      "source": [
        "print(\"2004:\", df_2004[    'CH15'].unique())\n",
        "print(\"2024:\", df_2024[     'CH15'].unique())"
      ],
      "metadata": {
        "colab": {
          "base_uri": "https://localhost:8080/"
        },
        "collapsed": true,
        "id": "g8H9ewVfs3Cy",
        "outputId": "3c5f387d-814b-4119-da4d-5f555f4c5272"
      },
      "execution_count": 226,
      "outputs": [
        {
          "output_type": "stream",
          "name": "stdout",
          "text": [
            "2004: ['En esta localidad', 'En otra localidad', 'En otra provincia (especificar)', 'En un país limítrofe', 'En otro país', 'Ns./Nr.']\n",
            "Categories (6, object): ['En esta localidad' < 'En otra localidad' < 'En otra provincia (especificar)' <\n",
            "                         'En un país limítrofe' < 'En otro país' < 'Ns./Nr.']\n",
            "2024: [1 2 3 4 5 9]\n"
          ]
        }
      ]
    },
    {
      "cell_type": "markdown",
      "source": [
        "VARIABLE 'CH14'"
      ],
      "metadata": {
        "id": "Zrz_RhArub9V"
      }
    },
    {
      "cell_type": "code",
      "source": [
        "print(\"2004:\", df_2004[     'CH14'].unique())\n",
        "print(\"2024:\", df_2024[     'CH14'].unique())"
      ],
      "metadata": {
        "colab": {
          "base_uri": "https://localhost:8080/"
        },
        "collapsed": true,
        "id": "TS6ngP72uTmF",
        "outputId": "00f6b193-9c3b-42ec-a2b8-ff5e3c0de448"
      },
      "execution_count": 227,
      "outputs": [
        {
          "output_type": "stream",
          "name": "stdout",
          "text": [
            "2004: ['03' '  ' '04' '02' '01' '06' '00' '05' '07' '09' '99' '08' '98']\n",
            "2024: [ 5.  1. nan  2.  6.  4.  0.  3. 98.  8.  7. 99.  9.]\n"
          ]
        }
      ]
    },
    {
      "cell_type": "code",
      "source": [
        "mapa_ch14 = {\n",
        "    3: 4,\n",
        "    4: 0,\n",
        "    2: 2,\n",
        "    1: 3,\n",
        "    6: 5,\n",
        "    0: 6,\n",
        "    5: 1,\n",
        "    7: 7,\n",
        "    9: 9,\n",
        "    99: 99,\n",
        "    8: 8,\n",
        "    98: 98\n",
        "}\n",
        "df_2004['CH14'] = df_2004['CH14'].replace(mapa_ch14)\n",
        "df_2024['CH14'] = df_2024['CH14'].replace(mapa_ch14)\n",
        "\n",
        "print(\"CH14 - 2004:\", df_2004['CH14'].unique())\n",
        "print(\"CH14 - 2024:\", df_2024['CH14'].unique())"
      ],
      "metadata": {
        "colab": {
          "base_uri": "https://localhost:8080/"
        },
        "id": "IC_DLUf_uyUg",
        "outputId": "5e73be7a-d92d-4aaa-9881-53e4b37eb967"
      },
      "execution_count": 177,
      "outputs": [
        {
          "output_type": "stream",
          "name": "stdout",
          "text": [
            "CH14 - 2004: ['03' '  ' '04' '02' '01' '06' '00' '05' '07' '09' '99' '08' '98']\n",
            "CH14 - 2024: [ 5.  1. nan  2.  6.  4.  0.  3. 98.  8.  7. 99.  9.]\n"
          ]
        }
      ]
    },
    {
      "cell_type": "markdown",
      "source": [
        "VARIABLE 'CH06'"
      ],
      "metadata": {
        "id": "Vv1rjs3XxbeK"
      }
    },
    {
      "cell_type": "code",
      "source": [
        "print(\"2004:\", df_2004[     'CH06'].unique())\n",
        "print(\"2024:\", df_2024[     'CH06'].unique())"
      ],
      "metadata": {
        "colab": {
          "base_uri": "https://localhost:8080/"
        },
        "id": "MDHndFb5vD8O",
        "outputId": "20aa9e68-21c5-45ed-da1e-14b27ba61d54"
      },
      "execution_count": 228,
      "outputs": [
        {
          "output_type": "stream",
          "name": "stdout",
          "text": [
            "2004: [79.0, 67.0, 74.0, 54.0, 51.0, ..., 88.0, '98 y más años', 91.0, 97.0, 95.0]\n",
            "Length: 99\n",
            "Categories (99, object): ['Menos de 1 año' < 1.0 < 2.0 < 3.0 ... 95.0 < 96.0 < 97.0 < '98 y más años']\n",
            "2024: [ 44  22   3  54  53  26  25  72  41  43  17  52  24  19  16   5  76  31\n",
            "  23  62  64  35  28  58  78  39  29   1  11  49  65  20  73  57  21  48\n",
            "   8  18   9  51  50  14  12  13  46  15  45   4  40  -1   7   2  32  59\n",
            "  47  42  36   6  55  74  77  37  34  30  63  71  10  91  83  60  79  61\n",
            "  38  82  56  85  87  69  67  27  81  88  84  66  33  68  80  75  86  70\n",
            "  89  95  90  96  93  92  98  99  94 101  97 100]\n"
          ]
        }
      ]
    },
    {
      "cell_type": "markdown",
      "source": [
        "variable CH12"
      ],
      "metadata": {
        "id": "zKh95-leFmpd"
      }
    },
    {
      "cell_type": "code",
      "source": [
        "print(\"2004:\", df_2004[    'CH12'].unique())\n",
        "print(\"2024:\", df_2024[     'CH12'].unique())"
      ],
      "metadata": {
        "colab": {
          "base_uri": "https://localhost:8080/"
        },
        "id": "5GY0ra0oTz0V",
        "outputId": "013932af-272a-49b9-cb61-67a7810ded91"
      },
      "execution_count": 231,
      "outputs": [
        {
          "output_type": "stream",
          "name": "stdout",
          "text": [
            "2004: [nan]\n",
            "2024: [nan]\n"
          ]
        }
      ]
    },
    {
      "cell_type": "code",
      "source": [
        "# Homogeneización para 2004\n",
        "educacion_2004 = {\n",
        "    'Jardín/Preescolar': 1,\n",
        "    'Primario': 6,\n",
        "    'EGB': 9,\n",
        "    'Polimodal': 12,\n",
        "    'Secundario': 12,\n",
        "    'Terciario': 15,\n",
        "    'Universitario': 16,\n",
        "    'Posgrado Universitario': 18,\n",
        "    'Educación especial (discapacitado)': 6,\n",
        "    'Ns./Nr.': np.nan  # Asumimos que estos son valores desconocidos\n",
        "}\n",
        "\n",
        "df_2004['CH12'] = df_2004['CH12'].map(educacion_2004)\n",
        "\n",
        "# Homogeneización para 2024\n",
        "educacion_2024 = {\n",
        "    0: np.nan,  # Si es un valor faltante\n",
        "    1: 6,       # Primario\n",
        "    2: 9,       # EGB\n",
        "    3: 12,      # Polimodal\n",
        "    4: 12,      # Secundario\n",
        "    5: 15,      # Terciario\n",
        "    6: 16,      # Universitario\n",
        "    7: 18,      # Posgrado\n",
        "    8: 6,       # Educación especial (discapacitado)\n",
        "    9: 16,      # Posgrado Universitario\n",
        "    99: np.nan  # Si es un valor faltante o no respondido\n",
        "}\n",
        "\n",
        "df_2024['CH12'] = df_2024['CH12'].map(educacion_2024)\n",
        "\n",
        "# Verificamos que los valores sean los correctos\n",
        "print(\"2004: \", df_2004['CH12'].unique())\n",
        "print(\"2024: \", df_2024['CH12'].unique())\n"
      ],
      "metadata": {
        "colab": {
          "base_uri": "https://localhost:8080/"
        },
        "id": "eqQtgzGxUdtt",
        "outputId": "4fc61fe1-42bf-4939-d899-ca17522f9547"
      },
      "execution_count": 182,
      "outputs": [
        {
          "output_type": "stream",
          "name": "stdout",
          "text": [
            "2004:  [nan]\n",
            "2024:  [nan]\n"
          ]
        }
      ]
    },
    {
      "cell_type": "markdown",
      "source": [
        "variable CH13"
      ],
      "metadata": {
        "id": "1Jrevrr724TH"
      }
    },
    {
      "cell_type": "code",
      "source": [
        "print(\"2004:\", df_2004[     'CH13'].unique())\n",
        "print(\"2024:\", df_2024[     'CH13'].unique())"
      ],
      "metadata": {
        "colab": {
          "base_uri": "https://localhost:8080/"
        },
        "id": "r-OeCzIvWoww",
        "outputId": "b0c3fd6f-efea-4050-f38a-18779055120f"
      },
      "execution_count": 183,
      "outputs": [
        {
          "output_type": "stream",
          "name": "stdout",
          "text": [
            "2004: ['No', 'Sí', 0.0, 'Ns./Nr.']\n",
            "Categories (4, object): [0.0 < 'Sí' < 'No' < 'Ns./Nr.']\n",
            "2024: [2 1 0 9]\n"
          ]
        }
      ]
    },
    {
      "cell_type": "code",
      "source": [
        "import numpy as np\n",
        "\n",
        "# Mapeo unificado de respuestas de CH13\n",
        "mapa_ch13_homog = {\n",
        "    'Sí': 1,\n",
        "    'No': 0,\n",
        "    'Ns./Nr.': np.nan,\n",
        "    0.0: np.nan,\n",
        "    1: 1,\n",
        "    2: 0,\n",
        "    9: np.nan,\n",
        "    0: np.nan  # también cubrir 0 entero si quedó alguno\n",
        "}\n",
        "\n",
        "# Aplicar el mapeo a la columna CH13 en df_final\n",
        "df_final['CH13_HOMOG'] = df_final['CH13'].map(mapa_ch13_homog)\n"
      ],
      "metadata": {
        "id": "RzUEkUG_ZOXA"
      },
      "execution_count": 184,
      "outputs": []
    },
    {
      "cell_type": "code",
      "source": [
        "print(df_final['CH13_HOMOG'].value_counts(dropna=False))\n"
      ],
      "metadata": {
        "colab": {
          "base_uri": "https://localhost:8080/"
        },
        "id": "ZPxrlMzRaHQG",
        "outputId": "287b7551-a067-47d5-abaf-5af36412564e"
      },
      "execution_count": 50,
      "outputs": [
        {
          "output_type": "stream",
          "name": "stdout",
          "text": [
            "CH13_HOMOG\n",
            "0.0    47102\n",
            "1.0    38840\n",
            "NaN     5397\n",
            "Name: count, dtype: int64\n"
          ]
        }
      ]
    },
    {
      "cell_type": "code",
      "source": [
        "columnas_finales = [ 'CAT_INAC' , 'CAT_OCUP','REGION', 'ANO4', 'TRIMESTRE', 'H15', 'PP02I','P21', 'PP3E_TOT', 'PP3F_TOT',\n",
        "                'ESTADO_HOMOG', 'CH15', 'CH14', 'CH09', 'CH06', 'CH03', 'CH04', 'PP02H','CH12','CH13_HOMOG']\n"
      ],
      "metadata": {
        "id": "fQpSWkd10r94"
      },
      "execution_count": 185,
      "outputs": []
    },
    {
      "cell_type": "markdown",
      "source": [
        "Base final"
      ],
      "metadata": {
        "id": "HNcKsnRsMfnj"
      }
    },
    {
      "cell_type": "code",
      "source": [
        "df_2004_final = df_2004[columnas_finales].copy()\n",
        "df_2024_final = df_2024[columnas_finales].copy()\n",
        "df_2004_final['AÑO'] = 2004\n",
        "df_2024_final['AÑO'] = 2024\n",
        "\n",
        "df_final = pd.concat([df_2004_final, df_2024_final], ignore_index=True)\n",
        "df_final.head()"
      ],
      "metadata": {
        "id": "Vobu3_6j3PpP",
        "colab": {
          "base_uri": "https://localhost:8080/",
          "height": 236
        },
        "outputId": "bef62ef7-584d-458b-96c8-a9b005136e92"
      },
      "execution_count": 153,
      "outputs": [
        {
          "output_type": "execute_result",
          "data": {
            "text/plain": [
              "              CAT_INAC       CAT_OCUP             REGION    ANO4  TRIMESTRE  \\\n",
              "0  Jubilado/pensionado            0.0  Gran Buenos Aires  2004.0          1   \n",
              "1                  0.0  Cuenta propia  Gran Buenos Aires  2004.0          1   \n",
              "2  Jubilado/pensionado            0.0  Gran Buenos Aires  2004.0          1   \n",
              "3                  0.0  Cuenta propia  Gran Buenos Aires  2004.0          1   \n",
              "4          Ama de casa            0.0  Gran Buenos Aires  2004.0          1   \n",
              "\n",
              "   H15 PP02I     P21  PP3E_TOT  PP3F_TOT  ...               CH15 CH14 CH09  \\\n",
              "0    1    No     0.0       0.0       0.0  ...  En esta localidad   03   Sí   \n",
              "1    1    No     0.0       0.0       0.0  ...  En otra localidad        Sí   \n",
              "2    1    No     0.0       0.0       0.0  ...  En esta localidad        Sí   \n",
              "3    1    No  2000.0      59.0       0.0  ...  En esta localidad        Sí   \n",
              "4    1    No     0.0       0.0       0.0  ...  En esta localidad        Sí   \n",
              "\n",
              "   CH06 CH03  CH04  PP02H CH12  CH13   AÑO  \n",
              "0  79.0    3     1     No  NaN    No  2004  \n",
              "1  67.0    3     2     No  NaN    Sí  2004  \n",
              "2  74.0    3     2     No  NaN    Sí  2004  \n",
              "3  54.0    3     1     No  NaN    Sí  2004  \n",
              "4  51.0    5     2     No  NaN    Sí  2004  \n",
              "\n",
              "[5 rows x 21 columns]"
            ],
            "text/html": [
              "\n",
              "  <div id=\"df-fa162384-de34-4220-b4f7-41d9e20cc006\" class=\"colab-df-container\">\n",
              "    <div>\n",
              "<style scoped>\n",
              "    .dataframe tbody tr th:only-of-type {\n",
              "        vertical-align: middle;\n",
              "    }\n",
              "\n",
              "    .dataframe tbody tr th {\n",
              "        vertical-align: top;\n",
              "    }\n",
              "\n",
              "    .dataframe thead th {\n",
              "        text-align: right;\n",
              "    }\n",
              "</style>\n",
              "<table border=\"1\" class=\"dataframe\">\n",
              "  <thead>\n",
              "    <tr style=\"text-align: right;\">\n",
              "      <th></th>\n",
              "      <th>CAT_INAC</th>\n",
              "      <th>CAT_OCUP</th>\n",
              "      <th>REGION</th>\n",
              "      <th>ANO4</th>\n",
              "      <th>TRIMESTRE</th>\n",
              "      <th>H15</th>\n",
              "      <th>PP02I</th>\n",
              "      <th>P21</th>\n",
              "      <th>PP3E_TOT</th>\n",
              "      <th>PP3F_TOT</th>\n",
              "      <th>...</th>\n",
              "      <th>CH15</th>\n",
              "      <th>CH14</th>\n",
              "      <th>CH09</th>\n",
              "      <th>CH06</th>\n",
              "      <th>CH03</th>\n",
              "      <th>CH04</th>\n",
              "      <th>PP02H</th>\n",
              "      <th>CH12</th>\n",
              "      <th>CH13</th>\n",
              "      <th>AÑO</th>\n",
              "    </tr>\n",
              "  </thead>\n",
              "  <tbody>\n",
              "    <tr>\n",
              "      <th>0</th>\n",
              "      <td>Jubilado/pensionado</td>\n",
              "      <td>0.0</td>\n",
              "      <td>Gran Buenos Aires</td>\n",
              "      <td>2004.0</td>\n",
              "      <td>1</td>\n",
              "      <td>1</td>\n",
              "      <td>No</td>\n",
              "      <td>0.0</td>\n",
              "      <td>0.0</td>\n",
              "      <td>0.0</td>\n",
              "      <td>...</td>\n",
              "      <td>En esta localidad</td>\n",
              "      <td>03</td>\n",
              "      <td>Sí</td>\n",
              "      <td>79.0</td>\n",
              "      <td>3</td>\n",
              "      <td>1</td>\n",
              "      <td>No</td>\n",
              "      <td>NaN</td>\n",
              "      <td>No</td>\n",
              "      <td>2004</td>\n",
              "    </tr>\n",
              "    <tr>\n",
              "      <th>1</th>\n",
              "      <td>0.0</td>\n",
              "      <td>Cuenta propia</td>\n",
              "      <td>Gran Buenos Aires</td>\n",
              "      <td>2004.0</td>\n",
              "      <td>1</td>\n",
              "      <td>1</td>\n",
              "      <td>No</td>\n",
              "      <td>0.0</td>\n",
              "      <td>0.0</td>\n",
              "      <td>0.0</td>\n",
              "      <td>...</td>\n",
              "      <td>En otra localidad</td>\n",
              "      <td></td>\n",
              "      <td>Sí</td>\n",
              "      <td>67.0</td>\n",
              "      <td>3</td>\n",
              "      <td>2</td>\n",
              "      <td>No</td>\n",
              "      <td>NaN</td>\n",
              "      <td>Sí</td>\n",
              "      <td>2004</td>\n",
              "    </tr>\n",
              "    <tr>\n",
              "      <th>2</th>\n",
              "      <td>Jubilado/pensionado</td>\n",
              "      <td>0.0</td>\n",
              "      <td>Gran Buenos Aires</td>\n",
              "      <td>2004.0</td>\n",
              "      <td>1</td>\n",
              "      <td>1</td>\n",
              "      <td>No</td>\n",
              "      <td>0.0</td>\n",
              "      <td>0.0</td>\n",
              "      <td>0.0</td>\n",
              "      <td>...</td>\n",
              "      <td>En esta localidad</td>\n",
              "      <td></td>\n",
              "      <td>Sí</td>\n",
              "      <td>74.0</td>\n",
              "      <td>3</td>\n",
              "      <td>2</td>\n",
              "      <td>No</td>\n",
              "      <td>NaN</td>\n",
              "      <td>Sí</td>\n",
              "      <td>2004</td>\n",
              "    </tr>\n",
              "    <tr>\n",
              "      <th>3</th>\n",
              "      <td>0.0</td>\n",
              "      <td>Cuenta propia</td>\n",
              "      <td>Gran Buenos Aires</td>\n",
              "      <td>2004.0</td>\n",
              "      <td>1</td>\n",
              "      <td>1</td>\n",
              "      <td>No</td>\n",
              "      <td>2000.0</td>\n",
              "      <td>59.0</td>\n",
              "      <td>0.0</td>\n",
              "      <td>...</td>\n",
              "      <td>En esta localidad</td>\n",
              "      <td></td>\n",
              "      <td>Sí</td>\n",
              "      <td>54.0</td>\n",
              "      <td>3</td>\n",
              "      <td>1</td>\n",
              "      <td>No</td>\n",
              "      <td>NaN</td>\n",
              "      <td>Sí</td>\n",
              "      <td>2004</td>\n",
              "    </tr>\n",
              "    <tr>\n",
              "      <th>4</th>\n",
              "      <td>Ama de casa</td>\n",
              "      <td>0.0</td>\n",
              "      <td>Gran Buenos Aires</td>\n",
              "      <td>2004.0</td>\n",
              "      <td>1</td>\n",
              "      <td>1</td>\n",
              "      <td>No</td>\n",
              "      <td>0.0</td>\n",
              "      <td>0.0</td>\n",
              "      <td>0.0</td>\n",
              "      <td>...</td>\n",
              "      <td>En esta localidad</td>\n",
              "      <td></td>\n",
              "      <td>Sí</td>\n",
              "      <td>51.0</td>\n",
              "      <td>5</td>\n",
              "      <td>2</td>\n",
              "      <td>No</td>\n",
              "      <td>NaN</td>\n",
              "      <td>Sí</td>\n",
              "      <td>2004</td>\n",
              "    </tr>\n",
              "  </tbody>\n",
              "</table>\n",
              "<p>5 rows × 21 columns</p>\n",
              "</div>\n",
              "    <div class=\"colab-df-buttons\">\n",
              "\n",
              "  <div class=\"colab-df-container\">\n",
              "    <button class=\"colab-df-convert\" onclick=\"convertToInteractive('df-fa162384-de34-4220-b4f7-41d9e20cc006')\"\n",
              "            title=\"Convert this dataframe to an interactive table.\"\n",
              "            style=\"display:none;\">\n",
              "\n",
              "  <svg xmlns=\"http://www.w3.org/2000/svg\" height=\"24px\" viewBox=\"0 -960 960 960\">\n",
              "    <path d=\"M120-120v-720h720v720H120Zm60-500h600v-160H180v160Zm220 220h160v-160H400v160Zm0 220h160v-160H400v160ZM180-400h160v-160H180v160Zm440 0h160v-160H620v160ZM180-180h160v-160H180v160Zm440 0h160v-160H620v160Z\"/>\n",
              "  </svg>\n",
              "    </button>\n",
              "\n",
              "  <style>\n",
              "    .colab-df-container {\n",
              "      display:flex;\n",
              "      gap: 12px;\n",
              "    }\n",
              "\n",
              "    .colab-df-convert {\n",
              "      background-color: #E8F0FE;\n",
              "      border: none;\n",
              "      border-radius: 50%;\n",
              "      cursor: pointer;\n",
              "      display: none;\n",
              "      fill: #1967D2;\n",
              "      height: 32px;\n",
              "      padding: 0 0 0 0;\n",
              "      width: 32px;\n",
              "    }\n",
              "\n",
              "    .colab-df-convert:hover {\n",
              "      background-color: #E2EBFA;\n",
              "      box-shadow: 0px 1px 2px rgba(60, 64, 67, 0.3), 0px 1px 3px 1px rgba(60, 64, 67, 0.15);\n",
              "      fill: #174EA6;\n",
              "    }\n",
              "\n",
              "    .colab-df-buttons div {\n",
              "      margin-bottom: 4px;\n",
              "    }\n",
              "\n",
              "    [theme=dark] .colab-df-convert {\n",
              "      background-color: #3B4455;\n",
              "      fill: #D2E3FC;\n",
              "    }\n",
              "\n",
              "    [theme=dark] .colab-df-convert:hover {\n",
              "      background-color: #434B5C;\n",
              "      box-shadow: 0px 1px 3px 1px rgba(0, 0, 0, 0.15);\n",
              "      filter: drop-shadow(0px 1px 2px rgba(0, 0, 0, 0.3));\n",
              "      fill: #FFFFFF;\n",
              "    }\n",
              "  </style>\n",
              "\n",
              "    <script>\n",
              "      const buttonEl =\n",
              "        document.querySelector('#df-fa162384-de34-4220-b4f7-41d9e20cc006 button.colab-df-convert');\n",
              "      buttonEl.style.display =\n",
              "        google.colab.kernel.accessAllowed ? 'block' : 'none';\n",
              "\n",
              "      async function convertToInteractive(key) {\n",
              "        const element = document.querySelector('#df-fa162384-de34-4220-b4f7-41d9e20cc006');\n",
              "        const dataTable =\n",
              "          await google.colab.kernel.invokeFunction('convertToInteractive',\n",
              "                                                    [key], {});\n",
              "        if (!dataTable) return;\n",
              "\n",
              "        const docLinkHtml = 'Like what you see? Visit the ' +\n",
              "          '<a target=\"_blank\" href=https://colab.research.google.com/notebooks/data_table.ipynb>data table notebook</a>'\n",
              "          + ' to learn more about interactive tables.';\n",
              "        element.innerHTML = '';\n",
              "        dataTable['output_type'] = 'display_data';\n",
              "        await google.colab.output.renderOutput(dataTable, element);\n",
              "        const docLink = document.createElement('div');\n",
              "        docLink.innerHTML = docLinkHtml;\n",
              "        element.appendChild(docLink);\n",
              "      }\n",
              "    </script>\n",
              "  </div>\n",
              "\n",
              "\n",
              "    <div id=\"df-55648e51-25d4-4b3e-ad0c-65c45b98181b\">\n",
              "      <button class=\"colab-df-quickchart\" onclick=\"quickchart('df-55648e51-25d4-4b3e-ad0c-65c45b98181b')\"\n",
              "                title=\"Suggest charts\"\n",
              "                style=\"display:none;\">\n",
              "\n",
              "<svg xmlns=\"http://www.w3.org/2000/svg\" height=\"24px\"viewBox=\"0 0 24 24\"\n",
              "     width=\"24px\">\n",
              "    <g>\n",
              "        <path d=\"M19 3H5c-1.1 0-2 .9-2 2v14c0 1.1.9 2 2 2h14c1.1 0 2-.9 2-2V5c0-1.1-.9-2-2-2zM9 17H7v-7h2v7zm4 0h-2V7h2v10zm4 0h-2v-4h2v4z\"/>\n",
              "    </g>\n",
              "</svg>\n",
              "      </button>\n",
              "\n",
              "<style>\n",
              "  .colab-df-quickchart {\n",
              "      --bg-color: #E8F0FE;\n",
              "      --fill-color: #1967D2;\n",
              "      --hover-bg-color: #E2EBFA;\n",
              "      --hover-fill-color: #174EA6;\n",
              "      --disabled-fill-color: #AAA;\n",
              "      --disabled-bg-color: #DDD;\n",
              "  }\n",
              "\n",
              "  [theme=dark] .colab-df-quickchart {\n",
              "      --bg-color: #3B4455;\n",
              "      --fill-color: #D2E3FC;\n",
              "      --hover-bg-color: #434B5C;\n",
              "      --hover-fill-color: #FFFFFF;\n",
              "      --disabled-bg-color: #3B4455;\n",
              "      --disabled-fill-color: #666;\n",
              "  }\n",
              "\n",
              "  .colab-df-quickchart {\n",
              "    background-color: var(--bg-color);\n",
              "    border: none;\n",
              "    border-radius: 50%;\n",
              "    cursor: pointer;\n",
              "    display: none;\n",
              "    fill: var(--fill-color);\n",
              "    height: 32px;\n",
              "    padding: 0;\n",
              "    width: 32px;\n",
              "  }\n",
              "\n",
              "  .colab-df-quickchart:hover {\n",
              "    background-color: var(--hover-bg-color);\n",
              "    box-shadow: 0 1px 2px rgba(60, 64, 67, 0.3), 0 1px 3px 1px rgba(60, 64, 67, 0.15);\n",
              "    fill: var(--button-hover-fill-color);\n",
              "  }\n",
              "\n",
              "  .colab-df-quickchart-complete:disabled,\n",
              "  .colab-df-quickchart-complete:disabled:hover {\n",
              "    background-color: var(--disabled-bg-color);\n",
              "    fill: var(--disabled-fill-color);\n",
              "    box-shadow: none;\n",
              "  }\n",
              "\n",
              "  .colab-df-spinner {\n",
              "    border: 2px solid var(--fill-color);\n",
              "    border-color: transparent;\n",
              "    border-bottom-color: var(--fill-color);\n",
              "    animation:\n",
              "      spin 1s steps(1) infinite;\n",
              "  }\n",
              "\n",
              "  @keyframes spin {\n",
              "    0% {\n",
              "      border-color: transparent;\n",
              "      border-bottom-color: var(--fill-color);\n",
              "      border-left-color: var(--fill-color);\n",
              "    }\n",
              "    20% {\n",
              "      border-color: transparent;\n",
              "      border-left-color: var(--fill-color);\n",
              "      border-top-color: var(--fill-color);\n",
              "    }\n",
              "    30% {\n",
              "      border-color: transparent;\n",
              "      border-left-color: var(--fill-color);\n",
              "      border-top-color: var(--fill-color);\n",
              "      border-right-color: var(--fill-color);\n",
              "    }\n",
              "    40% {\n",
              "      border-color: transparent;\n",
              "      border-right-color: var(--fill-color);\n",
              "      border-top-color: var(--fill-color);\n",
              "    }\n",
              "    60% {\n",
              "      border-color: transparent;\n",
              "      border-right-color: var(--fill-color);\n",
              "    }\n",
              "    80% {\n",
              "      border-color: transparent;\n",
              "      border-right-color: var(--fill-color);\n",
              "      border-bottom-color: var(--fill-color);\n",
              "    }\n",
              "    90% {\n",
              "      border-color: transparent;\n",
              "      border-bottom-color: var(--fill-color);\n",
              "    }\n",
              "  }\n",
              "</style>\n",
              "\n",
              "      <script>\n",
              "        async function quickchart(key) {\n",
              "          const quickchartButtonEl =\n",
              "            document.querySelector('#' + key + ' button');\n",
              "          quickchartButtonEl.disabled = true;  // To prevent multiple clicks.\n",
              "          quickchartButtonEl.classList.add('colab-df-spinner');\n",
              "          try {\n",
              "            const charts = await google.colab.kernel.invokeFunction(\n",
              "                'suggestCharts', [key], {});\n",
              "          } catch (error) {\n",
              "            console.error('Error during call to suggestCharts:', error);\n",
              "          }\n",
              "          quickchartButtonEl.classList.remove('colab-df-spinner');\n",
              "          quickchartButtonEl.classList.add('colab-df-quickchart-complete');\n",
              "        }\n",
              "        (() => {\n",
              "          let quickchartButtonEl =\n",
              "            document.querySelector('#df-55648e51-25d4-4b3e-ad0c-65c45b98181b button');\n",
              "          quickchartButtonEl.style.display =\n",
              "            google.colab.kernel.accessAllowed ? 'block' : 'none';\n",
              "        })();\n",
              "      </script>\n",
              "    </div>\n",
              "\n",
              "    </div>\n",
              "  </div>\n"
            ],
            "application/vnd.google.colaboratory.intrinsic+json": {
              "type": "dataframe",
              "variable_name": "df_final"
            }
          },
          "metadata": {},
          "execution_count": 153
        }
      ]
    },
    {
      "cell_type": "code",
      "source": [
        "porcentaje_nan = df_final.isna().mean()* 100\n",
        "print(porcentaje_nan)"
      ],
      "metadata": {
        "id": "a0ccsDtG32xv",
        "colab": {
          "base_uri": "https://localhost:8080/"
        },
        "outputId": "81665122-1120-4987-fbd3-97646c706df6"
      },
      "execution_count": 186,
      "outputs": [
        {
          "output_type": "stream",
          "name": "stdout",
          "text": [
            "CAT_INAC          0.000000\n",
            "CAT_OCUP          0.000000\n",
            "REGION            0.000000\n",
            "ANO4              0.000000\n",
            "TRIMESTRE         0.000000\n",
            "H15               0.000000\n",
            "PP02I             0.000000\n",
            "P21               0.000000\n",
            "PP3E_TOT         28.164311\n",
            "PP3F_TOT         28.164311\n",
            "ESTADO_HOMOG     54.645880\n",
            "CH15              0.000000\n",
            "CH14             48.409770\n",
            "CH09              0.000000\n",
            "CH06              0.000000\n",
            "CH03              0.000000\n",
            "CH04              0.000000\n",
            "PP02H             0.000000\n",
            "CH12            100.000000\n",
            "CH13              0.000000\n",
            "AÑO               0.000000\n",
            "horastrab         0.000000\n",
            "educ            100.000000\n",
            "CH13_HOMOG        5.908757\n",
            "dtype: float64\n"
          ]
        }
      ]
    },
    {
      "cell_type": "markdown",
      "source": [
        "parte I punto 1"
      ],
      "metadata": {
        "id": "htXZjmpKTbnB"
      }
    },
    {
      "cell_type": "code",
      "source": [
        "df_final['ESTADO_HOMOG'] = df_final['ESTADO_HOMOG'].map({\n",
        "    1: 'Ocupado',\n",
        "    2: 'Desocupado'\n",
        "})\n"
      ],
      "metadata": {
        "id": "VNUVaYbcDmvO"
      },
      "execution_count": 134,
      "outputs": []
    },
    {
      "cell_type": "code",
      "source": [
        "print(df_final['ESTADO_HOMOG'].unique())\n"
      ],
      "metadata": {
        "colab": {
          "base_uri": "https://localhost:8080/"
        },
        "id": "_mXRSaLtFXV6",
        "outputId": "a29f9040-d8d5-4fdd-e897-fe19fc29c10c"
      },
      "execution_count": 135,
      "outputs": [
        {
          "output_type": "stream",
          "name": "stdout",
          "text": [
            "[nan 'Ocupado' 'Desocupado']\n"
          ]
        }
      ]
    },
    {
      "cell_type": "code",
      "source": [
        "ocupados = df_final[df_final['ESTADO_HOMOG'] == 'Ocupado']\n",
        "desocupados = df_final[df_final['ESTADO_HOMOG'] == 'Desocupado']\n"
      ],
      "metadata": {
        "id": "EiQIh78D9T_0"
      },
      "execution_count": 137,
      "outputs": []
    },
    {
      "cell_type": "code",
      "source": [
        "import matplotlib.pyplot as plt\n",
        "import seaborn as sns\n",
        "import pandas as pd\n",
        "import numpy as np\n",
        "#remplazamos los valores no numericos de 'CH06' con Nan\n",
        "df_final['CH06'] = pd.to_numeric(df_final['CH06'], errors='coerce')\n",
        "\n",
        "#sacamos los valores nan para el histograma\n",
        "filtered_data = df_final['CH06'].dropna()\n",
        "fig, axes = plt.subplots(1, 2, figsize=(14, 7))\n",
        "\n",
        "# Panel A: histograma\n",
        "sns.histplot(filtered_data, kde=False, bins=30, color='blue', ax=axes[0])\n",
        "axes[0].set_title('Histograma de la Edad')\n",
        "axes[0].set_xlabel('Edad')\n",
        "axes[0].set_ylabel('Frecuencia')\n",
        "\n",
        "\n",
        "# Panel B: Kernel\n",
        "sns.kdeplot(ocupados['CH06'].dropna(), shade=True, color='blue', label='Ocupados', ax=axes[1])\n",
        "sns.kdeplot(desocupados['CH06'].dropna(), shade=True, color='red', label='Desocupados', ax=axes[1])\n",
        "axes[1].set_title('Distribución Kernel de Edad para Ocupados y Desocupados')\n",
        "axes[1].set_xlabel('Edad')\n",
        "axes[1].set_ylabel('Densidad')\n",
        "axes[1].legend()\n",
        "\n",
        "\n",
        "plt.tight_layout()\n",
        "plt.show()"
      ],
      "metadata": {
        "colab": {
          "base_uri": "https://localhost:8080/",
          "height": 915
        },
        "id": "KaEHwF8XO1gT",
        "outputId": "631a4aaa-2556-4d6d-9e07-a6bade2ff817"
      },
      "execution_count": 138,
      "outputs": [
        {
          "output_type": "stream",
          "name": "stderr",
          "text": [
            "<ipython-input-138-62fe678b1eff>:20: FutureWarning: \n",
            "\n",
            "`shade` is now deprecated in favor of `fill`; setting `fill=True`.\n",
            "This will become an error in seaborn v0.14.0; please update your code.\n",
            "\n",
            "  sns.kdeplot(ocupados['CH06'].dropna(), shade=True, color='blue', label='Ocupados', ax=axes[1])\n",
            "<ipython-input-138-62fe678b1eff>:21: FutureWarning: \n",
            "\n",
            "`shade` is now deprecated in favor of `fill`; setting `fill=True`.\n",
            "This will become an error in seaborn v0.14.0; please update your code.\n",
            "\n",
            "  sns.kdeplot(desocupados['CH06'].dropna(), shade=True, color='red', label='Desocupados', ax=axes[1])\n"
          ]
        },
        {
          "output_type": "display_data",
          "data": {
            "text/plain": [
              "<Figure size 1400x700 with 2 Axes>"
            ],
            "image/png": "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\n"
          },
          "metadata": {}
        }
      ]
    },
    {
      "cell_type": "markdown",
      "source": [
        "Punto 2"
      ],
      "metadata": {
        "id": "8gHOkXd5SZ8O"
      }
    },
    {
      "cell_type": "code",
      "source": [
        "# Diccionario con años estimados según el nivel educativo\n",
        "mapa_anios_educ = {\n",
        "    1: 0,    # Sin instrucción\n",
        "    2: 6,    # Primario\n",
        "    3: 9,    # EGB\n",
        "    4: 12,   # Secundario\n",
        "    5: 12,   # Polimodal\n",
        "    6: 15,   # Terciario\n",
        "    7: 16,   # Universitario\n",
        "    8: 18,   # Posgrado\n",
        "    9: np.nan,  # Educación especial\n",
        "    0: np.nan,  # Ns./Nr.\n",
        "    99: np.nan  # Valores faltantes\n",
        "    }"
      ],
      "metadata": {
        "id": "b2a5D6wVcUAg"
      },
      "execution_count": 188,
      "outputs": []
    },
    {
      "cell_type": "code",
      "source": [
        "#creamos la variable educ\n",
        "df_final['CH14'] = pd.to_numeric(df_final['CH14'], errors='coerce')\n",
        "df_final['educ'] = np.nan\n",
        "\n",
        "#finalizó el nivel\n",
        "finalizo = df_final['CH13'] == 1\n",
        "df_final.loc[finalizo, 'educ'] = df_final.loc[finalizo, 'CH12']\n",
        "\n",
        "#no finalizó\n",
        "no_finalizo = df_final['CH13'] == 0\n",
        "df_final.loc[no_finalizo, 'educ'] = df_final.loc[no_finalizo, 'CH14']\n",
        "\n",
        "df_final['educ'] = pd.to_numeric(df_final['educ'], errors='coerce')"
      ],
      "metadata": {
        "id": "weOJH1s8jLS1"
      },
      "execution_count": 238,
      "outputs": []
    },
    {
      "cell_type": "code",
      "source": [
        "import numpy as np\n",
        "# Quitamos los NaN antes del análisis\n",
        "X = df_final['educ'].dropna()\n",
        "# Estadística descriptiva\n",
        "print(\"Media:\", round(np.mean(X), 2))\n",
        "print(\"Desvío Estándar (s.d.)\",  round(np.std(X), 2))\n",
        "print(\"Mínimo:\", round(np.min(X), 2))\n",
        "print(\"Mediana:\", round(np.median(X), 2))\n",
        "print(\"Máximo:\", round(np.max(X), 2))\n",
        "print(\"Cuantil 25%:\", round(np.percentile(X, 25), 2))\n",
        "print(\"Cuantil 75%:\", round(np.percentile(X, 75), 2))\n"
      ],
      "metadata": {
        "colab": {
          "base_uri": "https://localhost:8080/"
        },
        "id": "Mfilt6CllWOJ",
        "outputId": "7a52f336-7007-41c7-98b5-f1133c901aec"
      },
      "execution_count": 192,
      "outputs": [
        {
          "output_type": "stream",
          "name": "stdout",
          "text": [
            "Media: nan\n",
            "Desvío Estándar (s.d.) nan\n",
            "Mínimo: nan\n",
            "Mediana: nan\n",
            "Máximo: nan\n"
          ]
        }
      ]
    },
    {
      "cell_type": "markdown",
      "source": [
        "punto 3"
      ],
      "metadata": {
        "id": "7pSt9Re8-yLY"
      }
    },
    {
      "cell_type": "code",
      "source": [
        "factor_inflacion = 1032 #1 peso de 2004 equivale a 1032 pesos de 2024, entonces:\n"
      ],
      "metadata": {
        "id": "aMN-CPCxnaHI"
      },
      "execution_count": 146,
      "outputs": []
    },
    {
      "cell_type": "code",
      "source": [
        "# Ajustar ingresos de 2004\n",
        "df_final['P21_ajustado'] = df_final.apply(lambda row: row['P21'] * 1032 if row['ANO4'] == 2004 else row['P21'], axis=1)\n",
        "\n",
        "# Paso 2: Crear la variable salario_semanal\n",
        "df_final['salario_semanal'] = df_final['P21_ajustado'] / 40\n",
        "\n"
      ],
      "metadata": {
        "id": "Qx6Iv_qjuuwA"
      },
      "execution_count": 147,
      "outputs": []
    },
    {
      "cell_type": "code",
      "source": [
        "import matplotlib.pyplot as plt\n",
        "import seaborn as sns\n",
        "import pandas as pd\n",
        "import numpy as np\n",
        "\n",
        "salarios_ocupados = ocupados['salario_semanal'].dropna()\n",
        "\n",
        "# nos aseguramos que salario_semanal sea numérico\n",
        "df_final['salario_semanal'] = pd.to_numeric(df_final['salario_semanal'], errors='coerce')\n",
        "\n",
        "# Filtramos ocupados y desocupados\n",
        "ocupados = df_final[df_final['ESTADO_HOMOG'] == 'Ocupado']\n",
        "desocupados = df_final[df_final['ESTADO_HOMOG'] == 'Desocupado']\n",
        "\n",
        "# Filtramos salarios no nulos\n",
        "salarios_filtrados = df_final['salario_semanal'].dropna()\n",
        "\n",
        "fig, axes = plt.subplots(1, 2, figsize=(14, 7))\n",
        "\n",
        "# Panel A: Histograma\n",
        "sns.histplot(salarios_ocupados, kde=False, bins=30, color='green', ax=axes[0])\n",
        "axes[0].set_title('Panel A: Histograma del salario semanal')\n",
        "axes[0].set_xlabel('Salario semanal')\n",
        "axes[0].set_ylabel('Frecuencia')\n",
        "\n",
        "# Panel B: Kernel\n",
        "sns.kdeplot(ocupados['CH06'].dropna(), shade=True, color='blue', label='Ocupados', ax=axes[1])\n",
        "sns.kdeplot(desocupados['CH06'].dropna(), shade=True, color='red', label='Desocupados', ax=axes[1])\n",
        "axes[1].set_title('Distribución Kernel de Edad para Ocupados y Desocupados')\n",
        "axes[1].set_xlabel('Edad')\n",
        "axes[1].set_ylabel('Densidad')\n",
        "axes[1].legend()\n",
        "\n",
        "plt.tight_layout()\n",
        "plt.show()"
      ],
      "metadata": {
        "colab": {
          "base_uri": "https://localhost:8080/",
          "height": 915
        },
        "id": "vMGZHGP0_nZw",
        "outputId": "741899f6-2714-4ef3-c513-9aff6712d044"
      },
      "execution_count": 149,
      "outputs": [
        {
          "output_type": "stream",
          "name": "stderr",
          "text": [
            "<ipython-input-149-d2771ab69184>:28: FutureWarning: \n",
            "\n",
            "`shade` is now deprecated in favor of `fill`; setting `fill=True`.\n",
            "This will become an error in seaborn v0.14.0; please update your code.\n",
            "\n",
            "  sns.kdeplot(ocupados['CH06'].dropna(), shade=True, color='blue', label='Ocupados', ax=axes[1])\n",
            "<ipython-input-149-d2771ab69184>:29: FutureWarning: \n",
            "\n",
            "`shade` is now deprecated in favor of `fill`; setting `fill=True`.\n",
            "This will become an error in seaborn v0.14.0; please update your code.\n",
            "\n",
            "  sns.kdeplot(desocupados['CH06'].dropna(), shade=True, color='red', label='Desocupados', ax=axes[1])\n"
          ]
        },
        {
          "output_type": "display_data",
          "data": {
            "text/plain": [
              "<Figure size 1400x700 with 2 Axes>"
            ],
            "image/png": "iVBORw0KGgoAAAANSUhEUgAABW0AAAKyCAYAAACuWPzHAAAAOnRFWHRTb2Z0d2FyZQBNYXRwbG90bGliIHZlcnNpb24zLjEwLjAsIGh0dHBzOi8vbWF0cGxvdGxpYi5vcmcvlHJYcgAAAAlwSFlzAAAPYQAAD2EBqD+naQABAABJREFUeJzs3Xd4FOXexvE7hXQSWjqBUIXQCYIRlRYIVRFERIWAFKkKHFHhKCAWjnhAURAUEVBBRQSs9KZCEKSI0qQEgkISII2aQDLvH/vuHpYESEKS3YTv57r2Gph5duY3k9ns7J1nn3EwDMMQAAAAAAAAAMAuONq6AAAAAAAAAADA/xDaAgAAAAAAAIAdIbQFAAAAAAAAADtCaAsAAAAAAAAAdoTQFgAAAAAAAADsCKEtAAAAAAAAANgRQlsAAAAAAAAAsCOEtgAAAAAAAABgRwhtAQAAAAC5kp6erjfeeEOrVq2ydSkAAJRohLYAsjl27JgcHBw0f/58W5eSa3379lVoaKity7gj3c6xb9mypVq2bFmg9dyKg4ODJk6cWKDrnD9/vhwcHHTs2LECXe+djuMKwJYmTpwoBweHItnW9e+HGzdulIODg5YsWVIk27/Wrd4nR48erYULF6pZs2ZFV1QxEBoaqr59++brufZ47V3Q12j2uI/IPfPvpI0bN9q6FNgBzoeiQ2gL2IA5iDA/3NzcVLNmTQ0fPlwJCQm2Li9ffvzxRzk4OCgoKEhZWVm3tS7zRd1///vfHJebP0SdOXPmtrazb98+TZw4kUAIAIASLqdrr6CgIEVFRendd9/VuXPnCmQ7J0+e1MSJE7V79+4CWZ+9Wbx4sZYvX64VK1aoTJkyBbruG13fnThxQtWqVVO5cuW0c+fOAt1mSXbt+X79Y/DgwbYur0TZu3evnnzySQUHB8vV1VVBQUF64okntHfvXluXdscqqt/5QGFztnUBwJ1s0qRJqlKlii5fvqxffvlFs2bN0o8//qg///xTHh4eti4vTxYuXKjQ0FAdO3ZM69evV2RkZJFuf86cOXkOi/ft26dXXnlFLVu2pJcubkvv3r312GOPydXV1dalAABuwnztdeXKFcXHx2vjxo0aOXKkpk2bpm+//Vb169e3tH3ppZf04osv5mn9J0+e1CuvvKLQ0FA1bNgw189bvXp1nrZTmC5duiRn5+wfEw3D0N9//60VK1aoUqVKRVLLP//8o1atWikpKUlr165V48aNi2S7JUXbtm3Vp0+fbPNr1qxpg2pKpqVLl6pXr14qV66c+vfvrypVqujYsWOaO3eulixZoi+++EIPP/ywrcu8Y+Xldz5gjwhtARvq0KGDmjRpIkkaMGCAypcvr2nTpumbb75Rr169bFxd7l24cEHffPONJk+erHnz5mnhwoVFHtqWKlWqSLdXEC5fviwXFxc5OvKlh+LqwoUL8vT0lJOTk5ycnGxdDgDgFq699pKksWPHav369ercubMefPBB7d+/X+7u7pIkZ2fnHMPLgnTx4kV5eHjIxcWlULeTF25ubjnOd3Bw0OjRo4usjpMnT6pVq1Y6e/as1qxZo/Dw8Ntep/l9+05Rs2ZNPfnkk7Yuwy6ZX3u348iRI+rdu7eqVq2qn376Sb6+vpZlzz77rO6//3717t1be/bsUdWqVW+3ZORDXn7nA/aIpACwI61bt5YkxcbGSpL++9//6t5771X58uXl7u6u8PDwHMc2c3Bw0PDhw7V8+XLVrVtXrq6uqlOnjlauXJmt7T///KOnnnpK/v7+lnYff/zxbdW9bNkyXbp0ST169NBjjz2mpUuX6vLly9naxcXF6cCBA7e1rRvJaVzVL774QuHh4SpdurS8vb1Vr149TZ8+XZLpKzM9evSQJLVq1cry1Zlrx+V5//33VadOHcvXnIYNG6aUlJRs2545c6aqVq0qd3d3NW3aVD///PMNx6b74osv9NJLLyk4OFgeHh5KS0tTUlKSnnvuOdWrV09eXl7y9vZWhw4d9Pvvv1ttx7yOxYsX65VXXlFwcLBKly6tRx55RKmpqUpPT9fIkSPl5+cnLy8v9evXT+np6VbrmDdvnlq3bi0/Pz+5uroqLCxMs2bNyvVxNp9jbm5uqlu3rpYtW5Zju6ysLL3zzjuqU6eO3Nzc5O/vr6efflrJycm53ta11qxZo/vuu09lypSRl5eX7rrrLo0bN86yPCMjQ+PHj1d4eLh8fHzk6emp+++/Xxs2bLjluo8fP66hQ4fqrrvukru7u8qXL68ePXpkGzbD/DWrTZs2aejQofLz81PFihWtll3/nNyeQ9c7d+6cRo4cqdDQULm6usrPz09t27bN9rXQX3/9Ve3bt5ePj488PDzUokULbd682aqN+eumf/31l5588kn5+PjI19dXL7/8sgzD0IkTJ/TQQw/J29tbAQEBmjp1qtXzc3tsrx3W5MMPP1S1atXk6uqqu+++W9u3b7dqu2fPHvXt21dVq1aVm5ubAgIC9NRTT+ns2bO3PDYAUNBat26tl19+WcePH9dnn31mmZ/TmLY3ez/auHGj7r77bklSv379LNcW5jE8W7Zsqbp162rHjh164IEH5OHhYXnujcYPzczM1Lhx4xQQECBPT089+OCDOnHihFWbG42lmtM6L1++rIkTJ6pmzZpyc3NTYGCgunXrpiNHjlja5DSm7a5du9ShQwd5e3vLy8tLbdq00datW63amN8LN2/erNGjR8vX11eenp56+OGHdfr06Wz13cypU6fUqlUrJSYmavXq1VahiyQdOHBAjzzyiMqVKyc3Nzc1adJE3377bY715PS+bf5Z7Nu3T61atZKHh4eCg4M1ZcqUbLWkp6drwoQJql69ulxdXRUSEqLnn38+2zVWbqWkpKhv377y8fFRmTJlFB0dfcNrg9zsZ0Ewv29fey17vbxca+VlH69n/rn99NNPevrpp1W+fHl5e3urT58+2a4jv/nmG3Xq1ElBQUFydXVVtWrV9OqrryozM9Oq3c1ee7ldR07eeustXbx4UR9++KFVYCtJFSpU0AcffKALFy5kO6/++ecf9e/f37LNKlWqaMiQIcrIyJB04/G0c7reDA0NVefOnbV69Wo1bNhQbm5uCgsL09KlS62em9vPG5L0999/q2vXrvL09JSfn59GjRp1w/P9q6++Unh4uNzd3VWhQgU9+eST+ueff6zaxMfHq1+/fqpYsaJcXV0VGBiohx566KZD1M2bN08ODg7atWtXtmVvvPGGnJycsm0nt270O1/K3WvuypUreuWVV1SjRg25ubmpfPnyuu+++7RmzRqrduvXr9f9998vT09PlSlTRg899JD279+frR7Oh1ufD3cyetoCdsR8wVy+fHlJ0vTp0/Xggw/qiSeeUEZGhr744gv16NFD33//vTp16mT13F9++UVLly7V0KFDVbp0ab377rvq3r274uLiLOtLSEjQPffcYwl5fX19tWLFCvXv319paWkaOXJkvupeuHChWrVqpYCAAD322GN68cUX9d1331lCUbM+ffpo06ZNMgwjV+u9ePFijuPWXrx48ZbPXbNmjXr16qU2bdrozTfflCTt379fmzdv1rPPPqsHHnhAzzzzjN59912NGzdOtWvXliTLdOLEiXrllVcUGRmpIUOG6ODBg5o1a5a2b9+uzZs3W3r2zpo1S8OHD9f999+vUaNG6dixY+ratavKli1r+WBwrVdffVUuLi567rnnlJ6eLhcXF+3bt0/Lly9Xjx49VKVKFSUkJOiDDz5QixYttG/fPgUFBVmtY/LkyXJ3d9eLL76ow4cP67333lOpUqXk6Oio5ORkTZw4UVu3btX8+fNVpUoVjR8/3vLcWbNmqU6dOnrwwQfl7Oys7777TkOHDlVWVpaGDRt202O6evVqde/eXWFhYZo8ebLOnj1recO93tNPP6358+erX79+euaZZxQbG6sZM2Zo165dVscvN/bu3avOnTurfv36mjRpklxdXXX48GGrcDItLU0fffSRevXqpYEDB+rcuXOaO3euoqKitG3btpt+RXX79u3asmWLHnvsMVWsWFHHjh3TrFmz1LJlS+3bty9bL4yhQ4fK19dX48eP14ULF2643tyeQzkZPHiwlixZouHDhyssLExnz57VL7/8ov3791u+Grp+/Xp16NBB4eHhmjBhghwdHS2h/M8//6ymTZtarbNnz56qXbu2/vOf/+iHH37Qa6+9pnLlyumDDz5Q69at9eabb2rhwoV67rnndPfdd+uBBx7I17FdtGiRzp07p6effloODg6aMmWKunXrpqNHj1r2ec2aNTp69Kj69eungIAA7d27Vx9++KH27t2rrVu3FtmNfwDArHfv3ho3bpxWr16tgQMH5tjmVu9HtWvX1qRJkzR+/HgNGjRI999/vyTp3nvvtazj7Nmz6tChgx577DE9+eST8vf3v2ldr7/+uhwcHPTCCy8oMTFR77zzjiIjI7V79+489w7LzMxU586dtW7dOj322GN69tlnde7cOa1Zs0Z//vmnqlWrdsP9vv/+++Xt7a3nn39epUqV0gcffKCWLVtq06ZN2W5INmLECJUtW1YTJkzQsWPH9M4772j48OH68ssvc1VnQkKCHnnkEcXHx2v16tWWIPzaepo3b67g4GC9+OKL8vT01OLFi9W1a1d9/fXX2b6KfqP37eTkZLVv317dunXTo48+qiVLluiFF15QvXr11KFDB0mmP0I/+OCD+uWXXzRo0CDVrl1bf/zxh95++2399ddfWr58ea72ycwwDD300EP65ZdfNHjwYNWuXVvLli1TdHR0trZ53c+cXL58OcdraW9vb0vv7rlz5+rpp5/Wvffeq5EjR+ro0aN68MEHVa5cOYWEhFiek9vrgbzs480MHz5cZcqU0cSJEy3XUMePH7d0YpBMoZWXl5dGjx4tLy8vrV+/XuPHj1daWpreeustq/Xd6LWXl3Vc77vvvlNoaKjltX69Bx54QKGhofrhhx8s806ePKmmTZsqJSVFgwYNUq1atfTPP/9oyZIlunjxYr563R86dEg9e/bU4MGDFR0drXnz5qlHjx5auXKl2rZtK0k6evRorj5vXLp0SW3atFFcXJyeeeYZBQUF6dNPP9X69euzbdd8rX/33Xdr8uTJSkhI0PTp07V582bt2rXLMu519+7dtXfvXo0YMUKhoaFKTEzUmjVrFBcXd8Mh6h555BENGzZMCxcuVKNGjayWLVy4UC1btlRwcHCej5VZTr/zc/uamzhxoiZPnqwBAwaoadOmSktL02+//aadO3dajvfatWvVoUMHVa1aVRMnTtSlS5f03nvvqXnz5tq5c6dlvzkfcnc+3NEMAEVu3rx5hiRj7dq1xunTp40TJ04YX3zxhVG+fHnD3d3d+Pvvvw3DMIyLFy9aPS8jI8OoW7eu0bp1a6v5kgwXFxfj8OHDlnm///67Icl47733LPP69+9vBAYGGmfOnLF6/mOPPWb4+PhYthcbG2tIMubNm3fLfUlISDCcnZ2NOXPmWObde++9xkMPPZStbYsWLYzc/Noxb/9Wj9OnT1ueEx0dbVSuXNny/2effdbw9vY2rl69esPtfPXVV4YkY8OGDVbzExMTDRcXF6Ndu3ZGZmamZf6MGTMMScbHH39sGIZhpKenG+XLlzfuvvtu48qVK5Z28+fPNyQZLVq0sMzbsGGDIcmoWrVqtp/r5cuXrbZjPgaurq7GpEmTsq2jbt26RkZGhmV+r169DAcHB6NDhw5W64iIiLA6JoaR/ZwyDMOIiooyqlatmsMRstawYUMjMDDQSElJscxbvXq1IclqOz///LMhyVi4cKHV81euXJltfosWLayOU07efvvtbD/v6129etVIT0+3mpecnGz4+/sbTz31lNV8ScaECRMs/8/pmMTExBiSjE8++cQyz/y6ve+++7KdV+ZlsbGxhmHk/hy6ER8fH2PYsGE3XJ6VlWXUqFHDiIqKMrKysqz2pUqVKkbbtm0t8yZMmGBIMgYNGmSZd/XqVaNixYqGg4OD8Z///McyPzk52XB3dzeio6Ot2ubm2Jpft+XLlzeSkpIs87/55htDkvHdd99Z1Xm9zz//3JBk/PTTT5Z51x9XAMgv8++T7du337CNj4+P0ahRI8v/zb8/zXLzfrR9+/YbXkOZr4Nmz56d47KcrhuCg4ONtLQ0y/zFixcbkozp06db5lWuXNnq9/aN1vnxxx8bkoxp06Zla3vte8n175Ndu3Y1XFxcjCNHjljmnTx50ihdurTxwAMPWOaZj3FkZKTV+kaNGmU4OTlZXT/kxHy8K1eubHh7exsxMTE5tmvTpo1Rr1494/Lly1b133vvvUaNGjWy1ZPT+7b5Z3Ht+3x6eroREBBgdO/e3TLv008/NRwdHY2ff/7Z6vmzZ882JBmbN2+2zLvRz+Fay5cvNyQZU6ZMscy7evWqcf/992c7b3K7nzdys2vozz//3DAM02cLPz8/o2HDhlbv9R9++GG2a9ncXg/kZR9zYv65hYeHW13vTpkyxZBkfPPNN5Z5OV1PPP3004aHh4fVcbvZay+367heSkqKISnHzzzXevDBBw1Jltdxnz59DEdHxxx/F5lfN9f/7jHL6bqocuXKhiTj66+/tsxLTU01AgMDrX6f5fbzxjvvvGNIMhYvXmyZd+HCBaN69epWn5vM507dunWNS5cuWdp+//33hiRj/PjxhmGYzhFJxltvvXXT45STXr16GUFBQVZ179y5M0/nUV5+5+f2NdegQQOjU6dON91+w4YNDT8/P+Ps2bOWeb///rvh6Oho9OnTxzKP8wG3wvAIgA1FRkbK19dXISEheuyxx+Tl5aVly5ZZ/mp4bQ+K5ORkpaam6v7778/xzrmRkZFWPSTq168vb29vHT16VJLpr95ff/21unTpIsMwdObMGcsjKipKqamp+boj7xdffCFHR0d1797dMq9Xr15asWJFtq8wbdy4Mde9bCVp0KBBWrNmTbZH7969b/ncMmXK6MKFC9m+ppIba9euVUZGhkaOHGk13uzAgQPl7e1t+Wv5b7/9prNnz2rgwIFWY9498cQTKlu2bI7rjo6OztYzxtXV1bKdzMxMnT171vKVy5x+Jn369LHqpdmsWTMZhqGnnnrKql2zZs104sQJXb161TLv2m2npqbqzJkzatGihY4eParU1NQbHpNTp05p9+7dio6Olo+Pj2V+27ZtFRYWZtX2q6++ko+Pj9q2bWt1noWHh8vLyytXQxZcy/xX2W+++eaGN5tzcnKy/CU6KytLSUlJunr1qpo0aXLL8/raY3LlyhWdPXtW1atXV5kyZXJ87sCBA285fm1uz6EbKVOmjH799VedPHkyx+W7d+/WoUOH9Pjjj+vs2bOWY3zhwgW1adNGP/30U7ZjNWDAAMu/nZyc1KRJExmGof79+1tt96677rL83jC3zcux7dmzp9X5b+59cu06rz3m5l5A99xzjyRxZ3AANuPl5XXTO4rn5v3oVlxdXdWvX79ct+/Tp49Kly5t+f8jjzyiwMBA/fjjj3ne9tdff60KFSpoxIgR2Zbd6BsOmZmZWr16tbp27Wo1JmdgYKAef/xx/fLLL0pLS7N6zqBBg6zWd//99yszM1PHjx/PVZ0JCQny8vJSYGBgtmVJSUlav369Hn30UZ07d87y/nf27FlFRUXp0KFD2b6Ke6P3bS8vL6vxXl1cXNS0aVOr96uvvvpKtWvXVq1atayuacxDmuX1mubHH3+Us7OzhgwZYpnn5OSU7WeSn/3MyUMPPZTjtXSrVq0kma5lExMTNXjwYKsefeahDa6V2+uB3O7jrQwaNMjqenfIkCFydna2OvevvZ4wH6f7779fFy9ezDYk241ee3lZx7XMvyuufX3mxLw8LS1NWVlZWr58ubp06ZJtyA/pxq/DWwkKCrLqeW0eTmLXrl2Kj4+XlPvPGz/++KMCAwP1yCOPWOZ5eHho0KBBVts0nztDhw61Gge7U6dOqlWrluVa193dXS4uLtq4cWOeh0nr06ePTp48afU6W7hwodzd3a0+e+bXtb/z8/KaK1OmjPbu3atDhw7luF7z56a+ffuqXLlylvn169dX27ZtLecw50P+hs270xDaAjY0c+ZMrVmzRhs2bNC+fft09OhRRUVFWZZ///33uueee+Tm5qZy5crJ19dXs2bNyjFcy+kuvmXLlrX8Mjx9+rRSUlIsYy5d+zBfwCQmJuZ5Hz777DM1bdpUZ8+e1eHDh3X48GE1atRIGRkZ+uqrr/K8vmvVqFFDkZGR2R65Gch/6NChqlmzpjp06KCKFSvqqaeeynGM35yYP1TcddddVvNdXFxUtWpVy3LztHr16lbtnJ2db/jVjipVqmSbl5WVpbfffls1atSQq6urKlSoIF9fX+3ZsydXP2vzRfW1X2Ezz8/KyrJax+bNmxUZGWkZW8nX19cyptfNQlvzvtaoUSPbsuuP06FDh5Samio/P79s59r58+fzfJ717NlTzZs314ABA+Tv76/HHntMixcvzvaBecGCBapfv75lbClfX1/98MMPN90vyfS1n/HjxyskJMTq+KekpOT43Jx+htfL7Tl0I1OmTNGff/6pkJAQNW3aVBMnTrT6EGm+SIyOjs52jD/66COlp6dnqz2n88bNzU0VKlTINv/6i6i8HNvrt2MOcK9dZ1JSkp599ln5+/vL3d1dvr6+luN6q58XABSW8+fP3zSAye370c0EBwfn6euu17/vOjg4qHr16vka++/IkSO666678nRztdOnT+vixYvZ3s8k03AQWVlZ2cbYzc37wM189tlnSkpKUtu2bbNdMxw+fFiGYejll1/O9v43YcIESdmvZ2/0vl2xYsVsoci1186S6f1279692bZVs2bNHLd1K8ePH1dgYKC8vLys5l9/fPOznzfax5yupc1DA9zo+q5UqVI5Xm/n5nogt/t4K9fXZA7yrz339+7dq4cfflg+Pj7y9vaWr6+vJYi//nriRq+9vKzjWubfFTf7Q8+1y0uXLq3Tp08rLS1NdevWvelz8qp69erZzmXzOWo+Xrn9vHH8+PEc13f9z+9G17qSVKtWLctyV1dXvfnmm1qxYoX8/f31wAMPaMqUKZbw8Gbatm2rwMBALVy40LIPn3/+uR566KFbhuW5ce3v/Ly85iZNmqSUlBTVrFlT9erV05gxY7Rnzx7Lem92bGrXrm3paMH5kLfz4U7FmLaADTVt2jTHv6pJ0s8//6wHH3xQDzzwgN5//30FBgaqVKlSmjdvnhYtWpSt/Y16/pl7tpo/UDz55JM3HFOqfv36ear/0KFDlhsM5RTmLVy4MNtf4YqKn5+fdu/erVWrVmnFihVasWKF5s2bpz59+mjBggU2qUlSjuPPvfHGG3r55Zf11FNP6dVXX1W5cuXk6OiokSNH5vhB8EY/61udA0eOHFGbNm1Uq1YtTZs2TSEhIXJxcdGPP/6ot99+O9+9hq6XlZUlPz8/ywXW9a6/UcOtuLu766efftKGDRv0ww8/aOXKlfryyy/VunVrrV69Wk5OTvrss8/Ut29fde3aVWPGjJGfn5+cnJw0efJkq5ur5GTEiBGaN2+eRo4cqYiICPn4+MjBwUGPPfZYjsekKO4w++ijj+r+++/XsmXLtHr1ar311lt68803tXTpUnXo0MFS11tvvXXD8Xqv/7CU0/lxq3NGUp6PbW7W+eijj2rLli0aM2aMGjZsKC8vL2VlZal9+/YFdh4CQF78/fffSk1NzfaH2Gvl5v3oVgrjPeRmvWRzU1NBy837wM20aNFCixcvVrdu3RQVFaWNGzda/kBtfo947rnnrDo6XOv6n+GNjnlu6szKylK9evU0bdq0HNte/wfzgpKf/Sxst3OtVRhSUlLUokULeXt7a9KkSapWrZrc3Ny0c+dOvfDCC9muJ3I6D/K6jmv5+PgoMDDQKqzLyZ49exQcHCxvb29dunQpV/t2s9d0fuX180ZBGjlypLp06aLly5dr1apVevnllzV58mStX78+23i113JyctLjjz+uOXPm6P3339fmzZt18uRJqx7y+XX97/y8vOYeeOABHTlyRN98841Wr16tjz76SG+//bZmz55t9c22gsL5cGcjtAXs1Ndffy03NzetWrVKrq6ulvnz5s3L1/p8fX1VunRpZWZmKjIyskBqXLhwoUqVKqVPP/0024XvL7/8onfffVdxcXE59gIuCi4uLurSpYu6dOmirKwsDR06VB988IFefvnlHP9iaFa5cmVJ0sGDB616GWRkZCg2NtZy/MztDh8+bPmamSRdvXpVx44dy3UIvmTJErVq1Upz5861mp+SkpKtF+Tt+O6775Senq5vv/3W6meSm6/2mfc1p68BHTx40Or/1apV09q1a9W8efMC+3Dq6OioNm3aqE2bNpo2bZreeOMN/fvf/9aGDRsUGRmpJUuWqGrVqlq6dKnVz9X8l/GbWbJkiaKjozV16lTLvMuXL+f6Lsc5ye05dDOBgYEaOnSohg4dqsTERDVu3Fivv/66OnToYBkKxdvbu8BezzdyO8c2J8nJyVq3bp1eeeUVq5vk3egrZgBQFD799FNJuuGHdbNbvR8V9I0Ur//daBiGDh8+bHWNUbZs2Rzfs44fP271HlStWjX9+uuvunLlSq5vCOrr6ysPD49s7/WS6S7rjo6OhRJcdunSRR9//LGio6Mtd0J3d3e37E+pUqUK/f1PMh2z33//XW3atCmQn23lypW1bt06nT9/3uqPq9cf36Laz2uv78xDPkim4aJiY2PVoEEDy7zcXg/kdh9v5dChQ1bX1+fPn9epU6fUsWNHSaZh186ePaulS5dabp4qSbGxsbnexu2uo3PnzpozZ45++eUX3XfffdmW//zzzzp27JiefvppSabXk7e3t/7888+brtfcOz0lJcUyLIukG35Ty9xL9Nqfy19//SVJlm//5fbzRuXKlfXnn39mW9/1P79rr3WvPXfM88zLzapVq6Z//etf+te//qVDhw6pYcOGmjp1qj777LMbHgfJNETC1KlT9d1332nFihXy9fW95e/p3Lj+d35eX3PlypVTv3791K9fP50/f14PPPCAJk6cqAEDBlgdm+sdOHBAFSpUkKenp9zd3Tkf8ng+3IkYHgGwU05OTnJwcLD6C9qxY8fyfJfaa9fXvXt3ff311zm+MZw+fTrP61y4cKHuv/9+9ezZU4888ojVY8yYMZKkzz//3NI+Li7upmNDFaSzZ89a/d/R0dHyASc9PV2S5OnpKUnZPuhERkbKxcVF7777rlVvi7lz5yo1NVWdOnWSJDVp0kTly5fXnDlzrMaNXbhwYZ7G6HFycsrW++Srr77K1VhleWEO1q/dVmpqaq7+EBAYGKiGDRtqwYIFVl+ZWbNmjfbt22fV9tFHH1VmZqZeffXVbOu5evVqnsPQpKSkbPPMvUvNP8uc9u3XX39VTEzMLdef0/F/7733buuv17k9h3KSmZmZ7et4fn5+CgoKsuxveHi4qlWrpv/+9786f/58tnXk5/V8I7dzbHO7Pkl655138lcgANym9evX69VXX1WVKlX0xBNP3LBdbt6PbnRtkV+ffPKJ1devlyxZolOnTqlDhw6WedWqVdPWrVuVkZFhmff9999nG7age/fuOnPmjGbMmJFtOzfqBevk5KR27drpm2++sfpaekJCghYtWqT77rtP3t7e+d29m+rdu7feeecd/fLLL+revbuuXLkiPz8/tWzZUh988IFOnTqV7TkF+f4nma5p/vnnH82ZMyfbskuXLunChQt5Wl/Hjh119epVzZo1yzIvMzNT7733nlW7otrPJk2ayNfXV7Nnz7Y6f+bPn5/tHM7t9UBu9/FWPvzwQ125csXy/1mzZunq1auWcz+nejIyMvT+++/nehu3u44xY8bI3d1dTz/9dLbPHklJSRo8eLA8PDwsn4scHR3VtWtXfffdd/rtt9+yrc9ch/mP8z/99JNl2YULF274bcGTJ09q2bJllv+npaXpk08+UcOGDRUQEGDZ19x83ujYsaNOnjypJUuWWOZdvHhRH374oVW7Jk2ayM/PT7Nnz7b8/pOkFStWaP/+/ZZr3YsXL+ry5ctWz61WrZpKly5t9bwbqV+/vurXr6+PPvpIX3/9tR577LE8DfGSk5x+5+flNXf9z9rLy0vVq1e37M+1n5uufR39+eefWr16teUPD5wPsuxfbs+HOxE9bQE71alTJ02bNk3t27fX448/rsTERM2cOVPVq1e/5ddwbuQ///mPNmzYoGbNmmngwIEKCwtTUlKSdu7cqbVr1+b4YeRGfv31Vx0+fFjDhw/PcXlwcLAaN26shQsX6oUXXpBk+kvppk2b8nQzsvwaMGCAkpKS1Lp1a1WsWFHHjx/Xe++9p4YNG6p27dqSTB+0nJyc9Oabbyo1NVWurq5q3bq1/Pz8NHbsWL3yyitq3769HnzwQR08eFDvv/++7r77bstXclxcXDRx4kSNGDFCrVu31qOPPqpjx45p/vz5qlatWq57ZHTu3FmTJk1Sv379dO+99+qPP/7QwoULczV2b160a9fO0vv46aef1vnz5zVnzhz5+fnleHFyvcmTJ6tTp06677779NRTTykpKUnvvfee6tSpYxUctmjRQk8//bQmT56s3bt3q127dipVqpQOHTqkr776StOnT7cazP5WJk2apJ9++kmdOnVS5cqVlZiYqPfff18VK1a09Gro3Lmzli5dqocfflidOnVSbGysZs+erbCwsBxDzWt17txZn376qXx8fBQWFqaYmBitXbtW5cuXz3WN1/P19c3VOZSTc+fOqWLFinrkkUfUoEEDeXl5ae3atdq+fbulN7Cjo6M++ugjdejQQXXq1FG/fv0UHBysf/75Rxs2bJC3t7e+++67fNd/rds5tjnx9va2jF915coVBQcHa/Xq1XnqGQMA+bVixQodOHBAV69eVUJCgtavX681a9aocuXK+vbbb61uoHK93LwfVatWTWXKlNHs2bNVunRpeXp6qlmzZrkaDz0n5cqV03333ad+/fopISFB77zzjqpXr66BAwda2gwYMEBLlixR+/bt9eijj+rIkSP67LPPrG5QK5muwz755BONHj1a27Zt0/33368LFy5o7dq1Gjp0qB566KEca3jttde0Zs0a3XfffRo6dKicnZ31wQcfKD09XVOmTMnXfuXWM888o6SkJL3yyivq06ePFi5cqJkzZ+q+++5TvXr1NHDgQFWtWlUJCQmKiYnR33//rd9//73Att+7d28tXrxYgwcP1oYNG9S8eXNlZmbqwIEDWrx4sVatWnXDoc5y0qVLFzVv3lwvvviijh07prCwMC1dujTHsVMLYj//+uuvHHuu+fv7q23btipVqpRee+01Pf3002rdurV69uyp2NhYzZs3L9t1aG6vB/KyjzeTkZGhNm3a6NFHH7VcQ91333168MEHJUn33nuvypYtq+joaD3zzDNycHDQp59+mqfPGbe7jho1amjBggV64oknVK9ePfXv319VqlTRsWPHNHfuXJ05c0aff/651WvxjTfe0OrVq9WiRQsNGjRItWvX1qlTp/TVV1/pl19+UZkyZdSuXTtVqlRJ/fv315gxY+Tk5KSPP/5Yvr6+iouLy1ZHzZo11b9/f23fvl3+/v76+OOPlZCQYNUxI7efNwYOHKgZM2aoT58+2rFjhwIDA/Xpp5/Kw8PDql2pUqX05ptvql+/fmrRooV69eqlhIQETZ8+XaGhoRo1apQk0zlo/jmGhYXJ2dlZy5YtU0JCgh577LFcHec+ffroueeek6Q8D42Ql9/5uX3NhYWFqWXLlgoPD1e5cuX022+/acmSJVafi9966y116NBBERER6t+/vy5duqT33ntPPj4+mjhxoqUd50Pez4c7jgGgyM2bN8+QZGzfvv2m7ebOnWvUqFHDcHV1NWrVqmXMmzfPmDBhgnH9S1eSMWzYsGzPr1y5shEdHW01LyEhwRg2bJgREhJilCpVyggICDDatGljfPjhh5Y2sbGxhiRj3rx5N6xtxIgRhiTjyJEjN2wzceJEQ5Lx+++/G4ZhGC1atMhWe07M23/rrbdyXG4+BqdPn7bMi46ONipXrmz5/5IlS4x27doZfn5+houLi1GpUiXj6aefNk6dOmW1rjlz5hhVq1Y1nJycDEnGhg0bLMtmzJhh1KpVyyhVqpTh7+9vDBkyxEhOTs5Wz7vvvmtUrlzZcHV1NZo2bWps3rzZCA8PN9q3b29ps2HDBkOS8dVXX2V7/uXLl41//etfRmBgoOHu7m40b97ciImJMVq0aGG0aNHiluu40fmU03H69ttvjfr16xtubm5GaGio8eabbxoff/yxIcmIjY3N6XBb+frrr43atWsbrq6uRlhYmLF06dJsx97sww8/NMLDww13d3ejdOnSRr169Yznn3/eOHnypKXN9fuYk3Xr1hkPPfSQERQUZLi4uBhBQUFGr169jL/++svSJisry3jjjTcsP4dGjRoZ33//fY61STImTJhg+X9ycrLRr18/o0KFCoaXl5cRFRVlHDhwINvr52avW/Oy649hbs+ha6WnpxtjxowxGjRoYJQuXdrw9PQ0GjRoYLz//vvZ2u7atcvo1q2bUb58ecPV1dWoXLmy8eijjxrr1q2ztMnpPDAM02vG09Mz2zpbtGhh1KlTx/L/3B7bm71urz/mf//9t/Hwww8bZcqUMXx8fIwePXoYJ0+ezNbuRscVAPLK/PvE/HBxcTECAgKMtm3bGtOnTzfS0tKyPef6a67cvB8ZhmF88803RlhYmOHs7Gx1PXX979dr3eg9//PPPzfGjh1r+Pn5Ge7u7kanTp2M48ePZ3v+1KlTjeDgYMPV1dVo3ry58dtvv+X4Hnvx4kXj3//+t1GlShXLdeAjjzxidT13/e9iwzCMnTt3GlFRUYaXl5fh4eFhtGrVytiyZUuOx/j690nzvlx7jZWTG71fGcb/rjsHDx5sGIZhHDlyxOjTp48REBBglCpVyggODjY6d+5sLFmy5Jb1GMaNfxY5XTdkZGQYb775plGnTh3D1dXVKFu2rBEeHm688sorRmpqqqVdTtfdOTl79qzRu3dvw9vb2/Dx8TF69+5t7Nq1K8dr79zs541ce75f/7j+vHj//feNKlWqGK6urkaTJk2Mn376Kdv5k5drrbzs4/XMP7dNmzYZgwYNMsqWLWt4eXkZTzzxhHH27Fmrtps3bzbuuecew93d3QgKCjKef/55Y9WqVdnOt5u99nK7jpvZs2eP0atXLyMwMNDyuurVq5fxxx9/5Nj++PHjRp8+fQxfX1/D1dXVqFq1qjFs2DAjPT3d0mbHjh1Gs2bNLJ9jpk2bluN1UeXKlY1OnToZq1atMurXr2/53Hj954Xcft4w1/fggw8aHh4eRoUKFYxnn33WWLlyZY7H5MsvvzQaNWpkuLq6GuXKlTOeeOIJ4++//7YsP3PmjDFs2DCjVq1ahqenp+Hj42M0a9bMWLx4ca6OrWEYxqlTpwwnJyejZs2auX5Ofn7nG0buXnOvvfaa0bRpU6NMmTKGu7u7UatWLeP11183MjIyrNa1du1ao3nz5oa7u7vh7e1tdOnSxdi3b1+2bXI+5O18uNM4GEYRdHkDgDtIVlaWfH191a1btxy/TgcAAAAgu/nz56tfv37avn17nnox36lCQ0NVt25dff/997YupdCcOXNGgYGBGj9+vF5++WVbl2PX7oTz4U7DmLYAcBsuX76c7StUn3zyiZKSktSyZUvbFAUAAAAAJcD8+fOVmZmp3r1727oUoMgxpi0A3IatW7dq1KhR6tGjh8qXL6+dO3dq7ty5qlu3rnr06GHr8gAAAACg2Fm/fr327dun119/XV27dlVoaKitSwKKHKEtANyG0NBQhYSE6N1331VSUpLKlSunPn366D//+Y9cXFxsXR4AAAAAFDuTJk3Sli1b1Lx5c7333nu2LgewCca0BQAAAAAAAAA7wpi2AAAAAAAAAGBHCG0BAAAAAAAAwI4Q2gIAAAAAAACAHeFGZAUkKytLJ0+eVOnSpeXg4GDrcgAAAO4ohmHo3LlzCgoKkqMj/RJuhutWAAAA28ntdSuhbQE5efKkQkJCbF0GAADAHe3EiROqWLGircuwa1y3AgAA2N6trlsJbQtI6dKlJZkOuLe3t42rAQAAuLOkpaUpJCTEck2GG+O6FQAAwHZye91KaFtAzF8t8/b25uIXAADARvi6/61x3QoAAGB7t7puZcAvAAAAAAAAALAjhLYAAAAAAAAAYEcIbQEAAAAAAADAjjCmLQAAAAAAAHATmZmZunLliq3LQDFQqlQpOTk53fZ6CG0BAAAAAACAHBiGofj4eKWkpNi6FBQjZcqUUUBAwG3dJJfQFgAAAAAAAMiBObD18/OTh4fHbYVwKPkMw9DFixeVmJgoSQoMDMz3ughtAQAAAAAAgOtkZmZaAtvy5cvbuhwUE+7u7pKkxMRE+fn55XuoBG5EBgAAAAAAAFzHPIath4eHjStBcWM+Z25nHGRCWwAAAAAAAOAGGBIBeVUQ5wyhLQAAAAAAAAC74uDgoOXLl9u6DJthTFsAAAAAAAAgl+LipDNnim57FSpIlSrl/XknTpzQhAkTtHLlSp05c0aBgYHq2rWrxo8fzxi9xQChLQAAAAAAAJALcXFS7drSxYtFt00PD2n//rwFt0ePHlVERIRq1qypzz//XFWqVNHevXs1ZswYrVixQlu3blW5cuUKr2jcNkJbAAAAAAAAIBfOnDEFtuPGSZUrF/72jh+X3njDtN28hLbDhg2Ti4uLVq9eLXd3d0lSpUqV1KhRI1WrVk3//ve/NWvWLKWnp2v8+PFatGiREhMTFRISorFjx6p///6aP3++Ro4cqZSUFMt6ly9frocffliGYUiSJk6cqOXLl2vIkCF67bXXdPbsWXXu3Flz5syRj4+PJGn79u0aN26cdu3apStXrqhhw4Z6++231bhxY8t6Dx06pP79+2vbtm2qWrWqpk+fnm2f/vjjDz377LOKiYmRh4eHunfvrmnTpsnLy0uStHHjRj3//PPau3evSpUqpTp16mjRokWqXBQ/qEJAaAsAAAAAAADkQeXKUs2atq4iZ0lJSVq1apVef/11S2BrFhAQoCeeeEJffvml3n//ffXp00cxMTF699131aBBA8XGxupMHsd+OHz4sBYvXqzvvvtOaWlp6t+/v4YOHaqFCxdKks6dO6fo6Gi99957MgxDU6dOVceOHXXo0CGVLl1aWVlZ6tatm/z9/fXrr78qNTVVI0eOtNrGhQsXFBUVpYiICG3fvl2JiYkaMGCAhg8frvnz5+vq1avq2rWrBg4cqM8//1wZGRnatm1bsb6JHKEtAAAAAAAAUEIcOnRIhmGodu3aOS6vXbu2kpOTtX37di1evFhr1qxRZGSkJKlq1ap53t7ly5f1ySefKDg4WJL03nvvqVOnTpo6daoCAgLUunVrq/YffvihypQpo02bNqlz585au3atDhw4oFWrVikoKEiS9MYbb6hDhw6W5yxatMiyHU9PT0nSjBkz1KVLF7355psqVaqUUlNT1blzZ1WrVs2yn8WZo60LAAAAAAAAAFCwzEMY3MixY8fk5OSkFi1a3NZ2KlWqZAlsJSkiIkJZWVk6ePCgJCkhIUEDBw5UjRo15OPjI29vb50/f15xcXGSpP379yskJMQS2JrXca39+/erQYMGlsBWkpo3b27ZTrly5dS3b19FRUWpS5cumj59uk6dOnVb+2VrhLYAAAAAAABACVG9enU5ODho//79OS7fv3+/ypYtm23ohOs5OjpmC36vXLmS53qio6O1e/duTZ8+XVu2bNHu3btVvnx5ZWRk5HldNzNv3jzFxMTo3nvv1ZdffqmaNWtq69atBbqNokRoCwAAAAAAAJQQ5cuXV9u2bfX+++/r0qVLVsvi4+O1cOFC9ezZU/Xq1VNWVpY2bdqU43p8fX117tw5XbhwwTJv9+7d2drFxcXp5MmTlv9v3bpVjo6OuuuuuyRJmzdv1jPPPKOOHTuqTp06cnV1tRo3t3bt2jpx4oRVz9jrw9batWvr999/t6pl8+bNVtuRpEaNGmns2LHasmWL6tatq0WLFt3sUNk1QlsAAAAAAACgBJkxY4bS09MVFRWln376SSdOnNDKlSvVtm1bBQcH6/XXX1doaKiio6P11FNPafny5YqNjdXGjRu1ePFiSVKzZs3k4eGhcePG6ciRI1q0aJHmz5+fbVtubm6Kjo7W77//rp9//lnPPPOMHn30UQUEBEiSatSooU8//VT79+/Xr7/+qieeeMKql29kZKRq1qxptY5///vfVtt44oknLNv5888/tWHDBo0YMUK9e/eWv7+/YmNjNXbsWMXExOj48eNavXq1Dh06VKzHteVGZAAAAAAAAEAeHD9u39upUaOGfvvtN02YMEGPPvqokpKSFBAQoK5du2rChAkqV66cJGnWrFkaN26chg4dqrNnz6pSpUoaN26cJKlcuXL67LPPNGbMGM2ZM0dt2rTRxIkTNWjQIKttVa9eXd26dVPHjh2VlJSkzp076/3337csnzt3rgYNGqTGjRsrJCREb7zxhp577jnLckdHRy1btkz9+/dX06ZNFRoaqnfffVft27e3tPHw8NCqVav07LPP6u6775aHh4e6d++uadOmWZYfOHBACxYs0NmzZxUYGKhhw4bp6aefzt8BtAMOxq1GJUaupKWlycfHR6mpqfL29rZ1OQAAAHcUrsVyj2MFAEDuXL58WbGxsapSpYrc3NwkSXFxUu3a0sWLRVeHh4e0f79UqVLRbTO3Jk6cqOXLl+c4bMKdLKdzxyy312L0tAUAAAAAAAByoVIlU4B6zZCsha5CBfsMbFG4CG0BAAAAAACAXKpUiRAVhY8bkQEAAAAAAADIs4kTJzI0QiEhtAUAAAAAAAAAO8LwCMVYXFyczhTAICoVKlRQJfr1AwAAACXTd99J27ZJzZqZHr6+tq4IAADcAqFtMRUXF6e7at2ly5cu3/a63NzddPDAQYJbAAAAoKRJTpZ695YuXZIyMkzzPvpI6t/ftnUBAICbIrQtps6cOaPLly6r9qDa8gjyyPd6Lp68qP0f7teZM2cIbQEAAICS5s03TWHt559L6enSrFnS+PHSk09Krq62rg4AANwAoW0x5xHkodKhpW1dBgAAAAB7c+qU9O67UvfuUrlypnn9+0v9+kmffUZvWwAA7Bg3IgMAAACAkujVV6VSpaSePf83r3Jl6b77pP/8R8rMtF1tAADgpghtAQAAAKCkOXJEmjNHeuwxycvLetnjj0uHD0tLl9qmNgAA7ICDg4OWL19u6zJuiOERAAAAAKCk+fhjydNTevjh7Mtq1ZLCw6U33pAeeURycCj6+gCgOIuLk86cKbrtVagg5fE+RH379tWCBQskSc7OzipXrpzq16+vXr16qW/fvnJ0pB+nvSO0BQAAAICSZtMmqUEDyc0t5+W9eknPPSfFxEj33lu0tQFAcRYXJ9WuLV28WHTb9PCQ9u/Pc3Dbvn17zZs3T5mZmUpISNDKlSv17LPPasmSJfr222/l7EwsaM+I1QEAAACgJLl8Wdq+Xapf/8ZtGjaUvL2l1auLrCwAKBHOnDEFtuPGSR98UPiPceNM28tHz15XV1cFBAQoODhYjRs31rhx4/TNN99oxYoVmj9/viQpJSVFAwYMkK+vr7y9vdW6dWv9/vvvlnX8/vvvatWqlUqXLi1vb2+Fh4frt99+syz/+uuvVadOHbm6uio0NFRTp061qiE9PV0vvPCCQkJC5OrqqurVq2vu3LmSpPnz56tMmTJW7ZcvXy6Ha74BMnHiRDVs2FAffPCBQkJC5OHhoUcffVSpqamWNtu3b1fbtm1VoUIF+fj4qEWLFtq5c6fVeg8dOqQHHnhAbm5uCgsL05o1a7Idrz/++EOtW7eWu7u7ypcvr0GDBun8+fOW5Rs3blTTpk3l6empMmXKqHnz5jp+/Hgufxp5R6QOAAAAACXJtm1SRsbNQ1snJ1Nwu2aNNHFiUVUGACVH5cpSzZq2riLPWrdurQYNGmjp0qUaMGCAevToIXd3d61YsUI+Pj764IMP1KZNG/31118qV66cnnjiCTVq1EizZs2Sk5OTdu/erVKlSkmSduzYoUcffVQTJ05Uz549tWXLFg0dOlTly5dX3759JUl9+vRRTEyM3n33XTVo0ECxsbE6k8cA+vDhw1q8eLG+++47paWlqX///ho6dKgWLlwoSTp37pyio6P13nvvyTAMTZ06VR07dtShQ4dUunRpZWVlqVu3bvL399evv/6q1NRUjRw50mobFy5cUFRUlCIiIrR9+3YlJiZqwIABGj58uObPn6+rV6+qa9euGjhwoD7//HNlZGRo27ZtVgFzQSO0BQAAAICS5OefTTcfq1r15u3Cw6V335XS0ky9bgEAd4RatWppz549+uWXX7Rt2zYlJibK1dVVkvTf//5Xy5cv15IlSzRo0CDFxcVpzJgxqlWrliSpRo0alvVMmzZNbdq00csvvyxJqlmzpvbt26e33npLffv21V9//aXFixdrzZo1ioyMlCRVvdV7Uw4uX76sTz75RMHBwZKk9957T506ddLUqVMVEBCg1q1bW7X/8MMPVaZMGW3atEmdO3fW2rVrdeDAAa1atUpBQUGSpDfeeEMdOnSwPGfRokWW7Xh6ekqSZsyYoS5duujNN99UqVKllJqaqs6dO6tatWqSpNq1a+d5X/KC4REAAAAAoCTZtEmqW9fUm/ZmwsOlzEzpp5+Kpi4AgF0wDEMODg76/fffdf78eZUvX15eXl6WR2xsrI4cOSJJGj16tAYMGKDIyEj95z//scyXpP3796t58+ZW627evLkOHTqkzMxM7d69W05OTmrRosVt1VupUiVLYCtJERERysrK0sGDByVJCQkJGjhwoGrUqCEfHx95e3vr/PnziouLs9QZEhJiCWzN67jW/v371aBBA0tga94X83bKlSunvn37KioqSl26dNH06dN16tSp29qvWyG0BQAAAICS4upV083F6tW7ddugICkwUFq7tvDrAgDYjf3796tKlSo6f/68AgMDtXv3bqvHwYMHNWbMGEmmMWX37t2rTp06af369QoLC9OyZctytR13d/ebLnd0dJRhGFbzrly5kuf9iY6O1u7duzV9+nRt2bJFu3fvVvny5ZWRkZHndd3MvHnzFBMTo3vvvVdffvmlatasqa1btxboNq5FaAsAAAAAJcXu3dL58zcfz9bMwUFq3Ng0ri0A4I6wfv16/fHHH+revbsaN26s+Ph4OTs7q3r16laPChUqWJ5Ts2ZNjRo1SqtXr1a3bt00b948SabhATZv3my1/s2bN6tmzZpycnJSvXr1lJWVpU2bNuVYi6+vr86dO6cLFy5Y5u3evTtbu7i4OJ08edLy/61bt8rR0VF33XWXZZvPPPOMOnbsaLkp2rXj5tauXVsnTpyw6hl7fdhau3Zt/f7771a1bN682Wo7ktSoUSONHTtWW7ZsUd26dbVo0aIc960gENoCAAAAQEnx88+Sq6t0zQfMm2rcWNq3T7rmwzAAoGRIT09XfHy8/vnnH+3cuVNvvPGGHnroIXXu3Fl9+vRRZGSkIiIi1LVrV61evVrHjh3Tli1b9O9//1u//fabLl26pOHDh2vjxo06fvy4Nm/erO3bt1vGcv3Xv/6ldevW6dVXX9Vff/2lBQsWaMaMGXruueckSaGhoYqOjtZTTz2l5cuXKzY2Vhs3btTixYslSc2aNZOHh4fGjRunI0eOaNGiRZo/f362/XBzc1N0dLR+//13/fzzz3rmmWf06KOPKiAgQJJpnN1PP/1U+/fv16+//qonnnjCqpdvZGSkatasabWOf//731bbeOKJJyzb+fPPP7VhwwaNGDFCvXv3lr+/v2JjYzV27FjFxMTo+PHjWr16tQ4dOlSo49pyIzIAAAAAKCl++kkKC5P+/87et9S4sWm6bp3Uu3fh1QUAJc3x43a/nZUrVyowMFDOzs4qW7asGjRooHfffVfR0dFydDT14/zxxx/173//W/369dPp06cVEBCgBx54QP7+/nJyctLZs2fVp08fJSQkqEKFCurWrZteeeUVSVLjxo21ePFijR8/Xq+++qoCAwM1adIk9e3b11LDrFmzNG7cOA0dOlRnz55VpUqVNG7cOElSuXLl9Nlnn2nMmDGaM2eO2rRpo4kTJ2rQoEFW+1G9enV169ZNHTt2VFJSkjp37qz333/fsnzu3LkaNGiQGjdurJCQEL3xxhuW4FgyDcOwbNky9e/fX02bNlVoaKjeffddtW/f3tLGw8NDq1at0rPPPqu7775bHh4e6t69u6ZNm2ZZfuDAAS1YsEBnz55VYGCghg0bpqeffjrfP59bcTCuHzwC+ZKWliYfHx+lpqbKuwjuvLpz506Fh4crfGK4SoeWzvd6zh07px0Td2jHjh1qbL5gAwAAKGaK+lqsOONYlWBZWZKvr9S5s9SvX+6fN2iQFBEhLVhQeLUBQDF0+fJlxcbGqkqVKnJzczPNjIuTateWLl4sukI8PKT9+6VKlYpum3Zi4sSJWr58eY7DJtizHM+d/5fbazF62gIAAABASXDwoJSUlLvxbK9lHtfWMEzj3AIAbqxSJVOAes2YqYWuQoU7MrC90xHaAgAAAEBJ8Oefpmn16nl7Xr160pdfmsa1DQ4u+LoAoKSpVIkQFYWOG5EBAAAAQElw4IDk42N65EXNmqbpzp0FXxMAALdh4sSJxW5ohIJCaAsAAAAAJcHBg/nr+VWhglS2LKEtAAB2xKah7axZs1S/fn15e3vL29tbERERWrFihWV5y5Yt5eDgYPUYPHiw1Tri4uLUqVMneXh4yM/PT2PGjNHVq1et2mzcuFGNGzeWq6urqlevrvnz52erZebMmQoNDZWbm5uaNWumbdu2Fco+AwAAAECh2L9fqlgx789zcJBq1CC0BQDAjtg0tK1YsaL+85//aMeOHfrtt9/UunVrPfTQQ9q7d6+lzcCBA3Xq1CnLY8qUKZZlmZmZ6tSpkzIyMrRlyxYtWLBA8+fP1/jx4y1tYmNj1alTJ7Vq1Uq7d+/WyJEjNWDAAK1atcrS5ssvv9To0aM1YcIE7dy5Uw0aNFBUVJQSExOL5kAAAAAAwO0wDOmvv/I/xmL16tKOHQVbEwCUEIZh2LoEFDMFcc7YNLTt0qWLOnbsqBo1aqhmzZp6/fXX5eXlpa1bt1raeHh4KCAgwPLw9va2LFu9erX27dunzz77TA0bNlSHDh306quvaubMmcrIyJAkzZ49W1WqVNHUqVNVu3ZtDR8+XI888ojefvtty3qmTZumgQMHql+/fgoLC9Ps2bPl4eGhjz/+uOgOBgAAAADk16lT0vnzUkhI/p5fs6b0zz8SHVcAwKJUqVKSpIsXL9q4EhQ35nPGfA7lh3NBFXO7MjMz9dVXX+nChQuKiIiwzF+4cKE+++wzBQQEqEuXLnr55Zfl4eEhSYqJiVG9evXk7+9vaR8VFaUhQ4Zo7969atSokWJiYhQZGWm1raioKI0cOVKSlJGRoR07dmjs2LGW5Y6OjoqMjFRMTEwh7jEAAAAAFJADB0zT/Pa0rVHDNN25U2rfvmBqAoBizsnJSWXKlLF8E9vDw0MODg42rgr2zDAMXbx4UYmJiSpTpoycnJzyvS6bh7Z//PGHIiIidPnyZXl5eWnZsmUKCwuTJD3++OOqXLmygoKCtGfPHr3wwgs6ePCgli5dKkmKj4+3CmwlWf4fHx9/0zZpaWm6dOmSkpOTlZmZmWObA+YLnxykp6crPT3d8v+0tLR8HgEAAAAAuE0HD0rOzlJgYP6eHxgoeXkR2gLAdQICAiSJITSRJ2XKlLGcO/ll89D2rrvu0u7du5WamqolS5YoOjpamzZtUlhYmAYNGmRpV69ePQUGBqpNmzY6cuSIqlWrZsOqpcmTJ+uVV16xaQ0AAAAAIMnU0zY42BTc5gc3IwOAHDk4OCgwMFB+fn66cuWKrctBMVCqVKnb6mFrZvPQ1sXFRdWrV5ckhYeHa/v27Zo+fbo++OCDbG2bNWsmSTp8+LCqVaumgIAAbdu2zapNQkKCpP/9JSQgIMAy79o23t7ecnd3l5OTk5ycnHJsc7NEfOzYsRo9erTl/2lpaQrJ7/hRAAAAAHA7DhyQKla8vXVUry5t314w9QBACWPOj4CiYtMbkeUkKyvLatiBa+3evVuSFPj/X/mJiIjQH3/8YdVFfc2aNfL29rYMsRAREaF169ZZrWfNmjWWcXNdXFwUHh5u1SYrK0vr1q2zGlv3eq6urvL29rZ6AAAAAIBNHDiQ/5uQmdWoIR07JiUnF0hJAAAg/2za03bs2LHq0KGDKlWqpHPnzmnRokXauHGjVq1apSNHjmjRokXq2LGjypcvrz179mjUqFF64IEHVL9+fUlSu3btFBYWpt69e2vKlCmKj4/XSy+9pGHDhsnV1VWSNHjwYM2YMUPPP/+8nnrqKa1fv16LFy/WDz/8YKlj9OjRio6OVpMmTdS0aVO98847unDhgvr162eT4wIAAAAAuXbxonTiRP5vQmZWs6ZpumuX1Lr17dcFAADyzaahbWJiovr06aNTp07Jx8dH9evX16pVq9S2bVudOHFCa9eutQSoISEh6t69u1566SXL852cnPT9999ryJAhioiIkKenp6KjozVp0iRLmypVquiHH37QqFGjNH36dFWsWFEfffSRoqKiLG169uyp06dPa/z48YqPj1fDhg21cuXKbDcnAwAAAAC7c+iQZBi339O2YkXJzc00ri2hLQAANmXT0Hbu3Lk3XBYSEqJNmzbdch2VK1fWjz/+eNM2LVu21K5du27aZvjw4Ro+fPgttwcAAAAAduXgQdP0dkNbJyfTuLY7dtx+TQAA4LbY3Zi2AAAAAIA8OHBAKlNG8vG5/XVVrSr98cftrwcAANwWQlsAAAAAKM4OHrz98WzNQkNNwy1cvVow6wMAAPlCaAsAAAAAxdn+/abxaAtCpUpSRoZ09GjBrA8AAOQLoS0AAAAAFFeGYeoZe7vj2ZpVrmya7t9fMOsDAAD5QmgLAAAAAMVVUpJ0/rwUGFgw6ytfXvLyIrQFAMDGCG0BAAAAoLg6ccI09fUtmPU5OJh62+7bVzDrAwAA+UJoCwAAAADFlTm09fMruHWGhBDaAgBgY4S2AAAAAFBcnTghOTtLZcsW3DorV5YOHjSNlwsAAGyC0BYAAAAAiqsTJ0xDIzg5Fdw6K1c2jZP7998Ft04AAJAnhLYAAAAAUFyZQ9uCVLmyacoQCQAA2AyhLQAAAAAUV3FxUoUKBbtOf3/J1VXav79g1wsAAHKN0BYAAAAAiqsTJ0wha0FycpIqVSK0BQDAhghtAQAAAKA4ysqS/vmn4IdHkKSQEIZHAADAhghtAQAAAKA4SkiQrlyR/PwKft2VKxPaAgBgQ4S2AAAAAFAcnThhmhZWaJuUJJ0+XfDrBgAAt0RoCwAAAADFUWGHthLj2gIAYCOEtgAAAABQHJ04Ibm6St7eBb/u4GDTDckYIgEAAJsgtAUAAACA4ujECVMvWweHgl93qVKm4PbgwYJfNwAAuCVCWwAAAAAojsyhbWEJCpIOHSq89QMAgBsitAUAAACA4iguTvL1Lbz1V6xIaAsAgI0Q2gIAAABAcXTiROGGtkFBUmysdPVq4W0DAADkiNAWAAAAAIqbq1el+PjCHR6hYkXpyhVTj14AAFCkCG0BAAAAoLg5eVLKyir80FaSDh8uvG0AAIAcEdoCAAAAQHFj7v1amMMj+PlJzs6MawsAgA0Q2gIAAABAcXPihGlamD1tnZyk4GBCWwAAbIDQFgAAAACKmxMnJC8vydOzcLcTGMjwCAAA2AChLQAAAAAUNydOFG4vW7OKFaW//ir87QAAACuEtgAAAABQ3Jw4Ubjj2ZoFB0uxsdLVq4W/LQAAYEFoCwAAAADFzT//SOXLF/52goNNga35xmcAAKBIENoCAAAAQHGTkCCVK1f426lY0TTlZmQAABQpQlsAAAAAKE4MQ0pMlMqWLfxt+flJzs6EtgAAFDFCWwAAAAAoTlJTpfT0oulp6+RkGiKB0BYAgCJFaAsAAAAAxUlCgmlaFD1tJSkoSDp8uGi2BQAAJBHaAgAAAEDxUtShbXCw9NdfRbMtAAAgidAWAAAAAIqX+HjTtCiGR5BMoe2xY9LVq0WzPQAAQGgLAAAAAMVKQoLk4iJ5ehbN9ipWNAW2x48XzfYAAAChLQAAAAAUK/Hxpl62Dg5Fs73gYNOUm5EBAFBkCG0BAAAAoDhJSCi6oREkyc9PcnaWYmOLbpsAANzhCG0BAAAAoDhJSJDKlCm67Tk5SQEB0pEjRbdNAADucIS2AAAAAFCcnDollS1btNsMCJCOHi3abQIAcAcjtAUAAACA4qSoh0eQpMBAetoCAFCECG0BAAAAoLgwDCkxseh72gYGmsa0NYyi3S4AAHcoQlsAAAAAKC5SUqSMjKLvaRsUJJ07J509W7TbBQDgDkVoCwAAAADFRUKCaVrUPW2DgkxTxrUFAKBIENoCAAAAQHERH2+a2mJ4BInQFgCAIkJoCwAAAADFhbmnbVEPj+DlJfn4ENoCAFBECG0BAAAAoLhISJBcXSUPj6LfdmAgoS0AAEWE0BYAAAAAiov4eFMvWweHot92QIB0+HDRbxcAgDsQoS0AAAAAFBcJCUU/nq1ZUBA9bQEAKCKEtgAAAABQXNgytA0MlP7+W8rIsM32AQC4gxDaAgAAAEBxceqUbUNbw5COH7fN9gEAuIMQ2gIAAABAcWHLnrbBwaYpQyQAAFDoCG0BAAAAoDgwDCkx0Xahra+v5OxMaAsAQBEgtAUAAACA4iA5WbpyRSpXzjbbd3KSAgIIbQEAKAKEtgAAAABQHCQkmKa2Cm0lQlsAAIoIoS0AAAAAFAfx8aaprYZHkEw3IztyxHbbBwDgDkFoCwAAABSimTNnKjQ0VG5ubmrWrJm2bdt20/ZfffWVatWqJTc3N9WrV08//vjjDdsOHjxYDg4Oeueddwq4atgle+hpGxho6mlrGLarAQCAOwChLQAAAFBIvvzyS40ePVoTJkzQzp071aBBA0VFRSkxMTHH9lu2bFGvXr3Uv39/7dq1S127dlXXrl31559/Zmu7bNkybd26VUFBQYW9G7AXCQmSm5vk7m67GoKCpHPnpLNnbVcDAAB3AEJbAAAAoJBMmzZNAwcOVL9+/RQWFqbZs2fLw8NDH3/8cY7tp0+frvbt22vMmDGqXbu2Xn31VTVu3FgzZsywavfPP/9oxIgRWrhwoUqVKlUUuwJ7kJhoGhrBwcF2NQQEmKbHjtmuBgAA7gCEtgAAAEAhyMjI0I4dOxQZGWmZ5+joqMjISMXExOT4nJiYGKv2khQVFWXVPisrS71799aYMWNUp06dW9aRnp6utLQ0qweKqTNnJB8f29ZgDm1jY21bBwAAJRyhLQAAAFAIzpw5o8zMTPn7+1vN9/f3V7z5hlLXiY+Pv2X7N998U87OznrmmWdyVcfkyZPl4+NjeYSEhORxT2A3zpyRvL1tW4O3t+TpSWgLAEAhI7QFAAAAiokdO3Zo+vTpmj9/vhxy+RX5sWPHKjU11fI4ceJEIVeJQnP6tO172jo4mG5GRmgLAEChIrQFAAAACkGFChXk5OSkhIQEq/kJCQkKMH/F/DoBAQE3bf/zzz8rMTFRlSpVkrOzs5ydnXX8+HH961//UmhoaI7rdHV1lbe3t9UDxZQ9DI8gSf7+0tGjtq4CAIASjdAWAAAAKAQuLi4KDw/XunXrLPOysrK0bt06RURE5PiciIgIq/aStGbNGkv73r17a8+ePdq9e7flERQUpDFjxmjVqlWFtzOwD/YS2tLTFgCAQuds6wIAAACAkmr06NGKjo5WkyZN1LRpU73zzju6cOGC+vXrJ0nq06ePgoODNXnyZEnSs88+qxYtWmjq1Knq1KmTvvjiC/3222/68MMPJUnly5dX+fLlrbZRqlQpBQQE6K677iranUPRysqSkpJsP6atZLoZ2bffmmpypB8QAACFgdAWAAAAKCQ9e/bU6dOnNX78eMXHx6thw4ZauXKl5WZjcXFxcrwm9Lr33nu1aNEivfTSSxo3bpxq1Kih5cuXq27durbaBdiL1FQpM9N+etpmZEinTknBwbauBgCAEonQFgAAAChEw4cP1/Dhw3NctnHjxmzzevTooR49euR6/ceOHctnZShWzpwxTe0ltJVMQyQQ2gIAUCj4LgsAAAAA2Dt7Cm3NN9LjDwYAABQam4a2s2bNUv369S13sY2IiNCKFSssyy9fvqxhw4apfPny8vLyUvfu3bPdTTcuLk6dOnWSh4eH/Pz8NGbMGF29etWqzcaNG9W4cWO5urqqevXqmj9/frZaZs6cqdDQULm5ualZs2batm1boewzAAAAAOSZPYW27u5S2bLcjAwAgEJk09C2YsWK+s9//qMdO3bot99+U+vWrfXQQw9p7969kqRRo0bpu+++01dffaVNmzbp5MmT6tatm+X5mZmZ6tSpkzIyMrRlyxYtWLBA8+fP1/jx4y1tYmNj1alTJ7Vq1Uq7d+/WyJEjNWDAAKu763755ZcaPXq0JkyYoJ07d6pBgwaKiopSYmJi0R0MAAAAALgRc2hrDzcik0y9bQltAQAoNDYNbbt06aKOHTuqRo0aqlmzpl5//XV5eXlp69atSk1N1dy5czVt2jS1bt1a4eHhmjdvnrZs2aKtW7dKklavXq19+/bps88+U8OGDdWhQwe9+uqrmjlzpjIyMiRJs2fPVpUqVTR16lTVrl1bw4cP1yOPPKK3337bUse0adM0cOBA9evXT2FhYZo9e7Y8PDz08ccf2+S4AAAAAICVs2clLy/J2U5uS+LvLx09ausqAAAosexmTNvMzEx98cUXunDhgiIiIrRjxw5duXJFkZGRlja1atVSpUqVFBMTI0mKiYlRvXr1LHfflaSoqCilpaVZeuvGxMRYrcPcxryOjIwM7dixw6qNo6OjIiMjLW1ykp6errS0NKsHAAAAABSKM2ekMmVsXcX/BAbS0xYAgEJk89D2jz/+kJeXl1xdXTV48GAtW7ZMYWFhio+Pl4uLi8pcd2Hi7++v+Ph4SVJ8fLxVYGtebl52szZpaWm6dOmSzpw5o8zMzBzbmNeRk8mTJ8vHx8fyCAkJydf+AwAAAMAtnTljP0MjSKbhEf7+W7pyxdaVAABQItk8tL3rrru0e/du/frrrxoyZIiio6O1b98+W5d1S2PHjlVqaqrlceLECVuXBAAAAKCksrfQNjBQysqS+BwEAEChsPmASC4uLqpevbokKTw8XNu3b9f06dPVs2dPZWRkKCUlxaq3bUJCggICAiRJAQEB2rZtm9X6EhISLMvMU/O8a9t4e3vL3d1dTk5OcnJyyrGNeR05cXV1laura/52GgAAAADy4vRpycfH1lX8T2CgaRobK1WtattaAAAogWze0/Z6WVlZSk9PV3h4uEqVKqV169ZZlh08eFBxcXGKiIiQJEVEROiPP/5QYmKipc2aNWvk7e2tsLAwS5tr12FuY16Hi4uLwsPDrdpkZWVp3bp1ljYAAAAAYFNnzthXaOvnJzk4MK4tAACFxKY9bceOHasOHTqoUqVKOnfunBYtWqSNGzdq1apV8vHxUf/+/TV69GiVK1dO3t7eGjFihCIiInTPPfdIktq1a6ewsDD17t1bU6ZMUXx8vF566SUNGzbM0gt28ODBmjFjhp5//nk99dRTWr9+vRYvXqwffvjBUsfo0aMVHR2tJk2aqGnTpnrnnXd04cIF9evXzybHBQAAAACs2Fto6+Ii+fpKx47ZuhIAAEokm4a2iYmJ6tOnj06dOiUfHx/Vr19fq1atUtu2bSVJb7/9thwdHdW9e3elp6crKipK77//vuX5Tk5O+v777zVkyBBFRETI09NT0dHRmjRpkqVNlSpV9MMPP2jUqFGaPn26KlasqI8++khRUVGWNj179tTp06c1fvx4xcfHq2HDhlq5cmW2m5MBAAAAQJHLzJSSk+0rtJVMQyTQ0xYAgEJh09B27ty5N13u5uammTNnaubMmTdsU7lyZf344483XU/Lli21a9eum7YZPny4hg8fftM2AAAAAFDkkpMlw7C/0NbfXzp61NZVAABQItndmLYAAAAAgGucOWOa2ltoGxBAT1sAAAoJoS0AAAAA2DN7DW0DA6WEBOnSJVtXAgBAiUNoCwAAAAD2zBzaenvbto7rBQSYpseP27YOAABKIEJbAAAAALBnZ85IDg5S6dK2rsSaObRliAQAAAocoS0AAAAA2LMzZ0y9bJ2cbF2JNV9fydlZOnbM1pUAAFDiENoCAAAAgD07e9b+xrOVTCGynx89bQEAKASEtgAAAABgz86csc/QVjINkUBPWwAAChyhLQAAAADYM/PwCPYoIEA6etTWVQAAUOIQ2gIAAACAPTt92r5DW4ZHAACgwBHaAgAAAIA9s/fhEZKSpHPnbF0JAAAlCqEtAAAAANgzew9tJca1BQCggBHaAgAAAIC9unJFSk2139A2MNA0JbQFAKBAEdoCAAAAgL1KSjJN7TW0LVdOcnFhXFsAAAoYoS0AAAAA2KszZ0xTew1tHR25GRkAAIWA0BYAAAAA7JU5tPX2tm0dNxMQwPAIAAAUMEJbAAAAALBX5uER7Dm09feXjh61dRUAAJQohLYAAAAAYK/Moa2Xl23ruJnAQHraAgBQwAhtAQAAAMBeJSVJpUtLTk62ruTGAgKktDQpOdnWlQAAUGIQ2gIAAACAvUpONoW29iwgwDTlZmQAABQYQlsAAAAAsFfmnrb2LDDQNGWIBAAACgyhLQAAAADYq+IQ2vr4SG5u9LQFAKAAEdoCAAAAgL06e9b+Q1sHBykoiNAWAIACRGgLAAAAAPaqOPS0lSR/f0JbAAAKEKEtAAAAANirpCTJ29vWVdxaQAChLQAABYjQFgAAAADsVXJy8ehpGxgoHT8uGYatKwEAoEQgtAUAAAAAe3TlinTuXPEJbS9elBITbV0JAAAlAqEtAAAAANijlBTTtDiEtgEBpilDJAAAUCAIbQEAAADAHiUlmabFYUzbwEDTlNAWAIACQWgLAAAAAPbIHNoWh562np6Sjw+hLQAABYTQFgAAAADsUXKyaVocetpKpiESCG0BACgQhLYAAAAAYI+KU09bidAWAIACRGgLAAAAAPYoKUlyc5NcXGxdSe4EBEhHj9q6CgAASgRCWwAAAACwR0lJxWdoBMl0M7ITJ6TMTFtXAgBAsUdoCwAAAAD2KCmp+AyNIJlC26tXpb//tnUlAAAUe4S2AAAAAGCPiltoGxBgmjKuLQAAt43QFgAAAADsUXKy5OVl6ypyj9AWAIACQ2gLAAAAAPbo7Nni1dPWxUXy9SW0BQCgABDaAgAAAIA9Km43IpNMvW0JbQEAuG2EtgAAAABgj4rbmLaSKbQ9etTWVQAAUOwR2gIAAACAvTEMKSWleIa29LQFAOC2EdoCAAAAgL05d07KzCx+wyMEBkqnTkmXL9u6EgAAijVCWwAAAACwN0lJpmlx62kbGGiaxsXZtg4AAIo5QlsAAAAAsDfFNbQNCDBNGdcWAIDbQmgLAAAAAPbGHNoWt+ERfH0lZ2fGtQUA4DYR2gIAAACAvSmuPW2dnEy9belpCwDAbSG0BQAAAAB7k5RkCkA9PGxdSd4R2gIAcNsIbQEAAADA3iQnm3rZOjjYupK8CwyUjhyxdRUAABRrhLYAAAAAYG+SkorfeLZmgYGmMW0Nw9aVAABQbBHaAgAAAIC9SUoqfuPZmgUFSWlppt7CAAAgXwhtAQAAAMDeFOfQNjDQNGVcWwAA8o3QFgAAAADszdmzxTe0DQoyTQltAQDIN0JbAAAAALA35huRFUdeXqbxeAltAQDIN0JbAAAAALA3xXl4BMk0RAKhLQAA+UZoCwAAAAD2pjj3tJWkgABCWwAAbgOhLQAAAADYk8uXpUuXindoGxQkHTli6yoAACi2CG0BAAAAwJ4kJ5umxTm0DQyUTpyQrlyxdSUAABRLhLYAAAAAYE9SUkxTLy+blnFbAgOlzExTcAsAAPKM0BYAAAAA7ElJ6WkrMa4tAAD5RGgLAAAAAPakJPS09feXHB0JbQEAyCdCWwAAAACwJyWhp62zsym4JbQFACBfCG0BAAAAwJ4kJ0ulSkkuLrau5PYEBhLaAgCQT4S2AAAAAGBPUlIkb2/JwcHWldweQlsAAPKN0BYAAAAA7ElycvEez9aM0BYAgHwjtAUAAAAAe5KSUnJC2+Tk/91YDQAA5BqhLQAAAADYk5LS0zY42DQ9csS2dQAAUAwR2gIAAACAPUlOljw9bV3F7QsKMk0JbQEAyDNCWwAAAACwJ8nJUunStq7i9pUubbqh2uHDtq4EAIBix6ah7eTJk3X33XerdOnS8vPzU9euXXXw4EGrNi1btpSDg4PVY/DgwVZt4uLi1KlTJ3l4eMjPz09jxozR1atXrdps3LhRjRs3lqurq6pXr6758+dnq2fmzJkKDQ2Vm5ubmjVrpm3bthX4PgMAAADATZWU0FYy9balpy0AAHlm09B206ZNGjZsmLZu3ao1a9boypUrateunS5cuGDVbuDAgTp16pTlMWXKFMuyzMxMderUSRkZGdqyZYsWLFig+fPna/z48ZY2sbGx6tSpk1q1aqXdu3dr5MiRGjBggFatWmVp8+WXX2r06NGaMGGCdu7cqQYNGigqKkqJiYmFfyAAAAAAwKyk3IhMMoW29LQFACDPnG258ZUrV1r9f/78+fLz89OOHTv0wAMPWOZ7eHgoICAgx3WsXr1a+/bt09q1a+Xv76+GDRvq1Vdf1QsvvKCJEyfKxcVFs2fPVpUqVTR16lRJUu3atfXLL7/o7bffVlRUlCRp2rRpGjhwoPr16ydJmj17tn744Qd9/PHHevHFFwtj9wEAAADAWmamlJZWskLbDRtsXQUAAMWOXY1pm5qaKkkqV66c1fyFCxeqQoUKqlu3rsaOHauLFy9alsXExKhevXry9/e3zIuKilJaWpr27t1raRMZGWm1zqioKMXExEiSMjIytGPHDqs2jo6OioyMtLQBAAAAgEKXlmaalqTQ9p9/pEuXbF0JAADFik172l4rKytLI0eOVPPmzVW3bl3L/Mcff1yVK1dWUFCQ9uzZoxdeeEEHDx7U0qVLJUnx8fFWga0ky//j4+Nv2iYtLU2XLl1ScnKyMjMzc2xz4MCBHOtNT09Xenq65f9p5osrAAAAAMiv5GTTtKSMaRscbJrGxkphYbatBQCAYsRuQtthw4bpzz//1C+//GI1f9CgQZZ/16tXT4GBgWrTpo2OHDmiatWqFXWZFpMnT9Yrr7xis+0DAAAAKIFKWmgbFGSaHjlCaAsAQB7YxfAIw4cP1/fff68NGzaoYsWKN23brFkzSdLh/x/MPiAgQAkJCVZtzP83j4N7ozbe3t5yd3dXhQoV5OTklGObG42lO3bsWKWmploeJ06cyOXeAgAAAMANpKSYpiVleITy5SU3N25GBgBAHtk0tDUMQ8OHD9eyZcu0fv16ValS5ZbP2b17tyQpMDBQkhQREaE//vhDiYmJljZr1qyRt7e3wv7/L7kRERFat26d1XrWrFmjiIgISZKLi4vCw8Ot2mRlZWndunWWNtdzdXWVt7e31QMAAAAAbktJ62nr4GDqbXvkiK0rAQCgWLHp8AjDhg3TokWL9M0336h06dKWMWh9fHzk7u6uI0eOaNGiRerYsaPKly+vPXv2aNSoUXrggQdUv359SVK7du0UFham3r17a8qUKYqPj9dLL72kYcOGydXVVZI0ePBgzZgxQ88//7yeeuoprV+/XosXL9YPP/xgqWX06NGKjo5WkyZN1LRpU73zzju6cOGC+vXrV/QHBgAAAMCdKSXFFHR6eNi6koITGEhPWwAA8simoe2sWbMkSS1btrSaP2/ePPXt21cuLi5au3atJUANCQlR9+7d9dJLL1naOjk56fvvv9eQIUMUEREhT09PRUdHa9KkSZY2VapU0Q8//KBRo0Zp+vTpqlixoj766CNFRUVZ2vTs2VOnT5/W+PHjFR8fr4YNG2rlypXZbk4GAAAAAIUmOdk0NIKjXYxkVzCCgqSdO21dBQAAxYpNQ1vDMG66PCQkRJs2bbrleipXrqwff/zxpm1atmypXbt23bTN8OHDNXz48FtuDwAAAAAKRXJyyRkawSwoSFq2TLp6VXK2m3thAwBg10rQn28BAAAAoJhLSSk5NyEzCw42BbbcvBkAgFwjtAUAAAAAe2EeHqEkCQoyTbkZGQAAuUZoCwAAAAD2IiVF8vS0dRUFy99fcnLiZmQAAOQBoS0AAAAA2IukpJI3pq2zsxQQQE9bAADygNAWAAAAAOxFSbwRmWQaIoHQFgCAXCO0BQAAAAB7URJvRCZJgYHSoUO2rgIAgGKD0BYAAAAA7IFhlNzQNjjY1NM2K8vWlQAAUCwQ2gIAAACAPbh0SbpypWSGthUrmvbv5ElbVwIAQLFAaAsAAAAA9iA52TQtiWPaVqxomjJEAgAAuUJoCwAAAAD2oCSHtoGBkqMjoS0AALlEaAsAAAAA9iAlxTQticMjlColBQQQ2gIAkEuEtgAAAABgD8w9bUtiaCuZbkZGaAsAQK4Q2gIAAACAPSjJPW0lU2j711+2rgIAgGKB0BYAAAAA7EFysuTmJrm42LqSwhEcLB09KmVl2boSAADsHqEtAAAAANiD5OSSeRMys4oVpfR06cQJW1cCAIDdI7QFAAAAAHuQklJyh0aQTKGtxLi2AADkAqEtAAAAANiD5OSSHdoGBEhOToS2AADkAqEtAAAAANiDlBTJ09PWVRQeZ2cpMJDQFgCAXCC0BQAAAAB7kJRUsse0lUw3IyO0BQDglghtAQAAAMAelPQxbSVTaPvXX7auAgAAu0doCwAAABSimTNnKjQ0VG5ubmrWrJm2bdt20/ZfffWVatWqJTc3N9WrV08//vij1fKJEyeqVq1a8vT0VNmyZRUZGalff/21MHcBReVOCG0rVpRiY6WrV21dCQAAdo3QFgAAACgkX375pUaPHq0JEyZo586datCggaKiopSYmJhj+y1btqhXr17q37+/du3apa5du6pr1676888/LW1q1qypGTNm6I8//tAvv/yi0NBQtWvXTqdPny6q3UJhuRNC2+Bg6coVKS7O1pUAAGDXCG0BAACAQjJt2jQNHDhQ/fr1U1hYmGbPni0PDw99/PHHObafPn262rdvrzFjxqh27dp69dVX1bhxY82YMcPS5vHHH1dkZKSqVq2qOnXqaNq0aUpLS9OePXuKardQGDIzpXPnSn5oW7Giacq4tgAA3BShLQAAAFAIMjIytGPHDkVGRlrmOTo6KjIyUjExMTk+JyYmxqq9JEVFRd2wfUZGhj788EP5+PioQYMGObZJT09XWlqa1QN2yPxzKemhrb+/5OxMaAsAwC0Q2gIAAACF4MyZM8rMzJS/v7/VfH9/f8XHx+f4nPj4+Fy1//777+Xl5SU3Nze9/fbbWrNmjSpUqJDjOidPniwfHx/LIyQk5Db2CoUmJcU0LemhrZOTaYgEQlsAAG6K0BYAAAAoZlq1aqXdu3dry5Ytat++vR599NEbjpM7duxYpaamWh4nTpwo4mqRK3dKaCuZhkg4eNDWVQAAYNcIbQEAAIBCUKFCBTk5OSkhIcFqfkJCggICAnJ8TkBAQK7ae3p6qnr16rrnnns0d+5cOTs7a+7cuTmu09XVVd7e3lYP2CFCWwAAcA1CWwAAAKAQuLi4KDw8XOvWrbPMy8rK0rp16xQREZHjcyIiIqzaS9KaNWtu2P7a9aanp99+0bCdOym0DQmRjh+XLl+2dSUAANgtQlsAAACgkIwePVpz5szRggULtH//fg0ZMkQXLlxQv379JEl9+vTR2LFjLe2fffZZrVy5UlOnTtWBAwc0ceJE/fbbbxo+fLgk6cKFCxo3bpy2bt2q48ePa8eOHXrqqaf0zz//qEePHjbZRxQQc2jr6WnTMopESIhkGNLhw7auBAAAu+Vs6wIAAACAkqpnz546ffq0xo8fr/j4eDVs2FArV6603GwsLi5Ojo7/60dx7733atGiRXrppZc0btw41ahRQ8uXL1fdunUlSU5OTjpw4IAWLFigM2fOqHz58rr77rv1888/q06dOjbZRxSQlBRTYOvkZOtKCp/5ZngHD0r/f24DAABrhLYAAABAIRo+fLilp+z1Nm7cmG1ejx49bthr1s3NTUuXLi3I8mAvUlLujKERJKlMGal0aca1BQDgJhgeAQAAAABsLTn5zgltHRxMvW0JbQEAuCFCWwAAAACwtTupp60kVawoHThg6yoAALBbhLYAAAAAYGvmMW3vFOaetoZh60oAALBLhLYAAAAAYGvJyXdeaJuaKp0+betKAACwS4S2AAAAAGBrd9rwCJUqmaaMawsAQI4IbQEAAADA1u600DY42HRDMkJbAAByRGgLAAAAALaWmnpnhbYuLlJgIKEtAAA3QGgLAAAAALZ09ap07tydFdpKUsWKhLYAANwAoS0AAAAA2FJamml6p4W2ISGEtgAA3AChLQAAAADYUkqKaXonhrZHj0pXrti6EgAA7A6hLQAAAADY0p0c2l69KsXG2roSAADsDqEtAAAAANjSnRzaSgyRAABADghtAQAAAMCW7tTQtkIFydNT2r/f1pUAAGB3CG0BAAAAwJbMoa2np03LKHIODlKlSoS2AADkgNAWAAAAAGwpJcUU2Do52bqSohcSIu3bZ+sqAACwO4S2AAAAAGBLKSl33tAIZqGh0oEDkmHYuhIAAOwKoS0AAAAA2NKdHNpWqiSlpUmnTtm6EgAA7AqhLQAAAADY0p0c2laubJoyRAIAAFYIbQEAAADAlsxj2t6JAgOlUqW4GRkAANchtAUAAAAAW0pOvnNDWycn083ICG0BALDinN8nXrhwQZs2bVJcXJwyMjKslj3zzDO3XRgAAAAA3BFSUiRfX1tXYTshIQyPAADAdfIV2u7atUsdO3bUxYsXdeHCBZUrV05nzpyRh4eH/Pz8CG0BAAAAILfu5DFtJdO4titX2roKAADsSr6GRxg1apS6dOmi5ORkubu7a+vWrTp+/LjCw8P13//+t6BrBAAAAICSKzWV0DYxUUpKsnUlAADYjXyFtrt379a//vUvOTo6ysnJSenp6QoJCdGUKVM0bty4gq4RAAAAAEqmq1elc+cIbSXGtQUA4Br5Gh6hVKlScnQ05b1+fn6Ki4tT7dq15ePjoxMnThRogQAAAEBhS0tLy3Vbb2/vQqwEdxzzuXcnh7YhIZKjoym0bd7c1tUAAGAX8hXaNmrUSNu3b1eNGjXUokULjR8/XmfOnNGnn36qunXrFnSNAAAAQKEqU6aMHBwcctU2MzOzkKvBHSUlxTS9k0NbFxcpKIietgAAXCNfoe0bb7yhc+fOSZJef/119enTR0OGDFGNGjX08ccfF2iBAAAAQGHbsGGD5d/Hjh3Tiy++qL59+yoiIkKSFBMTowULFmjy5Mm2KhElFaGtSUiItG+frasAAMBu5Cu0bdKkieXffn5+WsmdPgEAAFCMtWjRwvLvSZMmadq0aerVq5dl3oMPPqh69erpww8/VHR0tC1KREmVnGya3umhbaVKUkyMrasAAMBu5OtGZAAAAEBJFRMTY9VJwaxJkybatm2bDSpCiUZPW5PQUCkuTrpwwdaVAABgF3Ld07Zx48Zat26dypYtq0aNGt10zK+dO3cWSHEAAABAUQsJCdGcOXM0ZcoUq/kfffSRQkJCbFQVSixzaOvpadMybK5yZdP0wAEpPNy2tQAAYAdyHdo+9NBDcnV1lSR17dq1sOoBAAAAbOrtt99W9+7dtWLFCjVr1kyStG3bNh06dEhff/21jatDiZOSYgpsnZxsXYlthYaapn/+SWgLAIDyENpOmDAhx38DAAAAJUnHjh116NAhzZo1S/v//272Xbp00eDBg+lpi4KXksLQCJLk7i4FBkp799q6EgAA7EK+bkS2fft2ZWVlWXoemP36669ycnLKcQwwAAAAoLioWLGiXn/9dVuXgTuBuactTL1t//jD1lUAAGAX8nUjsmHDhunEiRPZ5v/zzz8aNmzYbRcFAAAA2NrFixd14MAB7dmzx+oBFKiUFKl0aVtXYR9CQ03DIwAAgPz1tN23b58aN26cbX6jRo20b9++2y4KAAAAsJXTp0+rX79+WrFiRY7LMzMzi7gilGj0tP2fKlWkzz+X0tIkb29bVwMAgE3lq6etq6urEhISss0/deqUnJ3zlQMDAAAAdmHkyJFKSUnRr7/+Knd3d61cuVILFixQjRo19O2339q6PJQ0ycmEtmbmm5Exri0AAPkLbdu1a6exY8cqNTXVMi8lJUXjxo1T27ZtC6w4AAAAoKitX79e06ZNU5MmTeTo6KjKlSvrySef1JQpUzR58mRbl4eShhuR/U+lSpKjI6EtAADKZ2j73//+VydOnFDlypXVqlUrtWrVSlWqVFF8fLymTp2a6/VMnjxZd999t0qXLi0/Pz917dpVBw8etGpz+fJlDRs2TOXLl5eXl5e6d++erZdvXFycOnXqJA8PD/n5+WnMmDG6evWqVZuNGzeqcePGcnV1VfXq1TV//vxs9cycOVOhoaFyc3NTs2bNtG3bttwfFAAAAJQIFy5ckJ+fnySpbNmyOn36tCSpXr162rlzpy1LQ0lEaPs/rq5ScDDj2gIAoHyGtsHBwdqzZ4+mTJmisLAwhYeHa/r06frjjz8UEhKS6/Vs2rRJw4YN09atW7VmzRpduXJF7dq104ULFyxtRo0ape+++05fffWVNm3apJMnT6pbt26W5ZmZmerUqZMyMjK0ZcsWLViwQPPnz9f48eMtbWJjY9WpUye1atVKu3fv1siRIzVgwACtWrXK0ubLL7/U6NGjNWHCBO3cuVMNGjRQVFSUEhMT83OIAAAAUEzdddddlo4EDRo00AcffKB//vlHs2fPVmBgoI2rQ4mTmkpoey1uRgYAgCTJwTAMw9ZFmJ0+fVp+fn7atGmTHnjgAaWmpsrX11eLFi3SI488Ikk6cOCAateurZiYGN1zzz1asWKFOnfurJMnT8rf31+SNHv2bL3wwgs6ffq0XFxc9MILL+iHH37Qn9e8+T/22GNKSUnRypUrJUnNmjXT3XffrRkzZkiSsrKyFBISohEjRujFF1+8Ze1paWny8fFRamqqvItg0PydO3cqPDxc4RPDVTo0/3ebPXfsnHZM3KEdO3bkeHM5AACA4qAgr8U+++wzXb16VX379tWOHTvUvn17JSUlycXFRfPnz1fPnj0LqGrbKOrrVtzE1atSqVLSmDFSx462rsY+fPyxtHq1FB9v60oAACgUub0Wy/ddww4dOqQNGzYoMTFRWVlZVsuu7eWaF+YxcsuVKydJ2rFjh65cuaLIyEhLm1q1aqlSpUqW0DYmJkb16tWzBLaSFBUVpSFDhmjv3r1q1KiRYmJirNZhbjNy5EhJUkZGhnbs2KGxY8daljs6OioyMlIxMTE51pqenq709HTL/9PS0vK1zwAAALAvTz75pOXf4eHhOn78uA4cOKBKlSqpQoUKNqwMJY75HiGl898Jo8QJDZUSEqQzZyRebwCAO1i+Qts5c+ZoyJAhqlChggICAuTg4GBZ5uDgkK/QNisrSyNHjlTz5s1Vt25dSVJ8fLxcXFxUpkwZq7b+/v6K//+/vMbHx1sFtubl5mU3a5OWlqZLly4pOTlZmZmZObY5cOBAjvVOnjxZr7zySp73EwAAAMWLh4cH30hC4UhJMU0ZHuF/qlQxTffulVq0sG0tAADYUL5C29dee02vv/66XnjhhQIrZNiwYfrzzz/1yy+/FNg6C9PYsWM1evRoy//T0tLyNJ4vAAAA7Me113W3Mm3atEKsBHcUQtvsKlaUnJ0JbQEAd7x8hbbJycnq0aNHgRUxfPhwff/99/rpp59UsWJFy/yAgABlZGQoJSXFqrdtQkKCAgICLG22bdtmtb6EhATLMvPUPO/aNt7e3nJ3d5eTk5OcnJxybGNex/VcXV3l6uqavx0GAACAXdm1a5fV/3fu3KmrV6/qrrvukiT99ddfcnJyUnh4uC3KQ0lFaJtdqVJSpUrcjAwAcMdzzM+TevToodWrV9/2xg3D0PDhw7Vs2TKtX79eVcxfhfl/4eHhKlWqlNatW2eZd/DgQcXFxSkiIkKSFBERoT/++EOJiYmWNmvWrJG3t7fCwsIsba5dh7mNeR0uLi4KDw+3apOVlaV169ZZ2gAAAKDk2rBhg+XRpUsXtWjRQn///bd27typnTt36sSJE2rVqpU6depk61JRkhDa5qxyZUJbAMAdL189batXr66XX35ZW7duVb169VSqVCmr5c8880yu1jNs2DAtWrRI33zzjUqXLm0Zg9bHx0fu7u7y8fFR//79NXr0aJUrV07e3t4aMWKEIiIidM8990iS2rVrp7CwMPXu3VtTpkxRfHy8XnrpJQ0bNszSE3bw4MGaMWOGnn/+eT311FNav369Fi9erB9++MFSy+jRoxUdHa0mTZqoadOmeuedd3ThwgX169cvP4cIAAAAxdTUqVO1evVqlS1b1jKvbNmyeu2119SuXTv961//smF1KFHMoa2Hh03LsDtVqkhLlyoj3dDpMw7KyJAcHEyjJgQEmKYAAJR0+Xq7+/DDD+Xl5aVNmzZp06ZNVsscHBxyHdrOmjVLktSyZUur+fPmzVPfvn0lSW+//bYcHR3VvXt3paenKyoqSu+//76lrZOTk77//nsNGTJEERER8vT0VHR0tCZNmmRpU6VKFf3www8aNWqUpk+frooVK+qjjz5SVFSUpU3Pnj11+vRpjR8/XvHx8WrYsKFWrlyZ7eZkAAAAKNnS0tJ0+vTpbPNPnz6tc+fO2aAilFgpKaZetk5Otq7EZrKypH/+kQ4dkmJjpRMnpHIHquqZlBRVdftH/6iiVXtnZyk0VKpTR2rfXurSRQoOtk3tAAAUpnyFtrGxsQWyccMwbtnGzc1NM2fO1MyZM2/YpnLlyvrxxx9vup6WLVtmG6vsesOHD9fw4cNvWRMAAABKrocfflj9+vXT1KlT1bRpU0nSr7/+qjFjxqhbt242rg4lijm0vYMYhnTwoLRzp7R7t2kUhIuXTMvK+Ei+vpJHUDUpQZrUfY8SwivKxcX0vKtXpYQE6e+/pcOHpeHDpSFDpHvvlf71L+mhh+7o/BsAUMLc1hdLMjIyFBsbq2rVqsmZ76gAAACgBJg9e7aee+45Pf7447py5YokydnZWf3799dbb71l4+pQotxBoe2RI9Lq1dLGjVJCouTmahoFoVUr033HgoOvORSGv67u91LLsr8rLqLjDdd57py0dav0449S9+5S9erSyy9LTz4pOebr7i0AANiPfCWtFy9e1IgRI7RgwQJJprvpVq1aVSNGjFBwcLBefPHFAi0SAAAAKCoeHh56//339dZbb+nIkSOSpGrVqsnT09PGlaHESUmRSvB5ZRjS9u3Sl19KO3ZK3qWlevWkRx6Rqla9Sa9YBwddDqoqz6N7brr+0qWltm1Nj/37pc8/l6KjpffeMz3+/zYoAAAUS/n6++PYsWP1+++/a+PGjXJzc7PMj4yM1JdffllgxQEAAAC24unpqfr166t+/foEtigcJTi0PXDANHzB8y9Ip09LfXpLEyZIPXpINWrcehiDS4FV5HX491xvr3ZtadIkafp0KS1NioiQ+veXkpNvc0cAALCRfPW0Xb58ub788kvdc889cnBwsMyvU6eOpTcCAAAAUFx069ZN8+fPl7e39y3HrV26dGkRVYUSLzm5xA2PkJYmvf++tHKVFBwkDRks1awpXfOxMVcuB1VThZjv5ZhxWVkubrd+wv+rX9+0/R9+kObMkb7/Xpo50zR8Ql5rAADAlvIV2p4+fVp+fn7Z5l+4cMEqxAUAAACKAx8fH8t1rI+Pj42rwR0jJUXy97d1FQVm507pjTekS5ekHo+YhifI743BLgVVk0NWpjyO7dP5mo3z9FwnJ+nBB029bd9919S7t0sXU5hbsWL+6gEAoKjlK7Rt0qSJfvjhB40YMUKSLBe4H330kSIiIgquOgAAAKAIzJs3L8d/A4WqhNyILDNT+ugj6fMvpJo1pMcfl8qUub11Xg6sIsPBQV5H9+Q5tDXz9TUNmfDTT9KMGVJYmPTaa9LQoRL30QYA2Lt8vVW98cYb6tChg/bt26erV69q+vTp2rdvn7Zs2aJNmzYVdI0AAABAkbl06ZIMw5CHh4ck6fjx41q2bJnCwsLUrl07G1eHEiU1tdiHtpcumYLRbdukB7tILVtKjvm6c4q1LFd3pVcIlueRm9+M7FYcHKQWLaTwcOnDD6WRI6VZs6Rp06T27RkyAQBgv/L1dnrfffdp9+7dunr1qurVq6fVq1fLz89PMTExCg8PL+gaAQAAgCLz0EMP6ZNPPpEkpaSkqGnTppo6daoeeughzZo1y8bVocS4elU6f75Yh7ZnzkgjRki7dkkDBkitWxdMYGt2ObCqvI7k/mZkN+PlJY0eLX3wgeTuLnXsKD3wgLR0qelHcTsM4/bXURBOnTKN4fvqq6abwL33nrR+vXTunK0rAwDkR76/FFKtWjXNmTOnIGsBAAAAbG7nzp16++23JUlLlixRQECAdu3apa+//lrjx4/XkCFDbFwhSoSUFNO0mIa2SUnSM8+YetqOGCEFBxf8Ni4FVlWFmG9NqWgBdYmtUUOaOlXaskVavNh0g7JKlaRHHpHatDEFuTn9SM6elfbvlw4cMD0OHpQOHTLNT0kxhbaenqZhIUJCpLvvNj1atjT9v7Ckp0vLlkmzZ0vmL716e0vlypl6Fl+5Yhom4t13pZ496VkMAMVJvkLbuLi4my6vVKlSvooBAAAAbO3ixYsqXbq0JGn16tXq1q2bHB0ddc899+j48eM2rg4lRjEObc+dk557Trp40RTYli9fONu5HFxNpdKS5JIUr4zygQW2XgcHqXlz0+PgQenbb6XPPjMNmSCZgtcKFSQPD1M4nZRk2lfzc4OCTDc0q1NHKlvW9CN0dZUuXJDS0qSTJ6VvvjH1dJWkRo2krl1NoelddxXMPiQlmW6sNn26qcdzw4bS2LFS/fqme9s5OJjGGo6LkxYskHr1kj75xDT2cFBQwdQAAChc+QptQ0NDLTcfy0lmZma+CwIAAABsqXr16lq+fLkefvhhrVq1SqNGjZIkJSYmytvb28bVocQopqHtpUvSiy9KiYnSsGGFF9hKpp62kuR5ZE+BhrbXuusuacwYU2fev/+W9u6VkpNNww1fviw1aGDquVq+vFS5simsdXHJ3brPnZO2b5d++UWaMkWaMME0tu6TT5p69lasmPd69+0z9ar9+GNT79727aVu3Uy9ha/n5CRVqSJNnCht3iy9844UGWn6d9myed82AKBo5Su03bVrl9X/r1y5ol27dmnatGl6/fXXC6QwAAAAwBbGjx+vxx9/XKNGjVKbNm0UEREhydTrtlGjRjauDiVGMQ1tp02TDh+Whg6VAgsnR7XIKBegTFcPeR35XclNowp1Ww4OpmEMCnIog9KlTeP8tm5tGsZg61Zp7Vrp+eelUaOkiAjp4YdNQyg0aiQ55/Dp3DCkI0ekNWukzz+Xfv7ZNPRBt26m5+Y2fG3e3LRvI0aYev2uXm3qHQwAsF/5Cm0bNGiQbV6TJk0UFBSkt956S926dbvtwgAAAABbeOSRR3Tffffp1KlTVte9bdq00cMPP2zDylCiFMPQds0aac1a6cknTL1OC52joy4FFdzNyGzJ1VVq0cL0OH/eNKbuxo3S+PGmHr1eXqZev4GBpjFoz5+XEhKko0dNPYCdnU1DH7z8snT//VKpUnmvoVIl6bXXTENb9O0rLVxYsDeOAwAUrHzfiCwnd911l7Zv316QqwQAAACKXEBAgAICAqzmNW3a1EbVoEQyh7YeHjYtI7dOnZLeflsKbyw1aVJ0270UVE3/x959h0dVrW0cfiYJaaQRAgmB0HsLVQwgRZEqxYKISBNEETwgioBKsSIIFhThoALqEfGgyFFEFFFEISItIL0TCCSUNBIgdX9/jMlnJJSEmdmT5Hdf11xbZtas/cweTCYvK+/yObjNcSd0AB8fqXNn6y0jQzpwQNq5U4qJsfaqPXJE8vKy9tZt08baoiE83DZ/VRo1kp591toyoU0bafTom58TAGAfhSraJicn5/mzYRg6ffq0pk2bplq1atkkGAAAAGCG1NRUvfbaa1q7dq3OnDmj7OzsPI8fOXLEpGQoVhITrdU7V1ezk1xXVpZ1haaXl7UXqyNdqlRLQZHfyOVSqrK9Sjv25A5QqpR1Q7MGDRx3zvbtpV69rBuX9eqVfz9cAID5ClW0DQgIuGIjMsMwFBYWpqVLl9okGAAAAGCG4cOH65dfftHAgQNVoUKFa27ACxRaTtG2CPj2W+sGWP/6l7Vw60iXKtaSJTtbPkd2KrlBhGNPXoyNGCFFRkqPPiqtWmXt6QsAcC6FKtr+9NNPeT68uri4qFy5cqpZs6bc8uueDgAAABQR3333nb799lu1adPG7CgozopI0fbyZWnxYmtLhGrVTDh/harKdnWTz8HtFG1tqHRpaexY6bnnpCVLpAEDzE4EAPinQlVYO3ToYOMYAAAAgHMoU6aMAgMDzY6B4i4x0Vo5c3JffiklJUldu5pzfsPNXZcrVJPPoe3mBCjGWreWbr/duoK6e3epTBmzEwEA/q5Qe0VOnz5dCxcuvOL+hQsXasaMGTcdCgAAADDLSy+9pClTpujixYtmR0FxVgSKtsnJ0mefWYt7Zcual+NSaA357t9qXoBibNQo6dIl6ZVXzE4CAPinQhVt//3vf6tu3bpX3N+gQQPNnz//pkMBAAAAZpk9e7a+//57BQcHq1GjRmrWrFmeG2ATCQlO3x7hs8+kjAzpzjvNzXGpUm2VPrZblox0c4MUQ4GB0gMPSO+8I7HHIgA4l0K1R4iNjVWFChWuuL9cuXI6ffr0TYcCAAAAzNKnTx+zI6AkSEyUQkLMTnFVSUnW1ggdOkh+fuZmuVSxplwy01X6+B6l1Gxibphi6P77pZUrpYkTpf/+1+w0AIAchSrahoWFacOGDar2j070GzZsUGhoqE2CAQAAAGaYOnWq2RFQEjj5RmRr1khZWdJtt5mdxFq0NSwW+RzcTtHWDjw9pYcflmbMkDZutLbDAACYr1DtER555BGNHTtWixYt0vHjx3X8+HEtXLhQTz75pB555BFbZwQAAAAcKjExUR988IEmTZqk+Ph4SdK2bdsUExNjcjIUG0lJTlu0NQzpm2+kxo0lX1+z00jZHl5KK19ZPgfZjMxeOneWateWxo2zvv8AAPMVaqXt+PHjdf78eT3++ONKT7f2FfL09NSECRM0adIkmwYEAAAAHGnnzp3q1KmT/P39dezYMT3yyCMKDAzU8uXLFR0drY8//tjsiCjqMjKk1FTnqIjmY9cu6Xi01L272Un+36XQGvI9wGZk9uLiIj36qPTUU9Ly5dK995qdCABQqJW2FotFM2bM0NmzZ/X7779rx44dio+P15QpU2ydDwAAAHCocePGaciQITp48KA8PT1z7+/evbvWr19vYjIUG0lJ1qOTrrRduVIqFyTVqmV2kv93qWJN+RzeIWVnmx2l2GrWTGrVSpowQUpnzzcAMF2hirY5YmNjFR8frxo1asjDw0MGv0cBAACAIm7z5s169NFHr7i/YsWKio2NNSERip3EROvRCYu2Fy5IP/8s3XqrdfWls7hYqbZcL6fK6+RBs6MUayNGSEePSgsWmJ0EAFCob8Pnz5/XHXfcodq1a6t79+46ffq0JGnYsGF66qmnbBoQAAAAcCQPDw8lJydfcf+BAwdUrlw5ExKh2HHiom3OBmQtW5qdJK9LlWpKknwPbjM5SfFWvbrUtas0bdr/LwgHAJijUEXbJ598UqVKlVJ0dLS8vb1z7+/Xr59Wr15ts3AAAACAo/Xq1UsvvviiMjIyJFlbg0VHR2vChAm6l0aPsAUnLtquXi01bCj5+ZmdJK+s0v5KC6xAX1sHGDLE2nJ5+nSzkwBAyVaoou0PP/ygGTNmqFKlSnnur1Wrlo4fP26TYAAAAIAZZs+erZSUFJUrV06XLl1S+/btVbNmTfn6+uqVV14xOx6Kg4QE67F0aXNz/MOZM9KBg1J4uNlJ8ncxrLZ89/1hdoxir1w56YEHpDfekPbvNzsNAJRcboV5Umpqap4Vtjni4+Pl4eFx06EAAAAAs/j7+2vNmjXasGGDduzYoZSUFDVr1kydOnUyOxqKi8REyWJxuqLtxo2Sq4tUr57ZSfJ3KayOgn/81Nq/wdXV7DjF2gMPSD/8ID3xhPT999a/rgAAxyrUStvbbrtNH3/8ce6fLRaLsrOzNXPmTHXs2NFm4QAAAABHys7O1sKFC3XXXXfp0Ucf1bx58/Tbb7/p1KlTbLoL20lIsLZGcKadviRt2CDVrCl5eZmdJH8XK9eV6+VUeUfvMztKsefhIY0aZe1x/NVXZqcBgJKpUCttZ86cqTvuuENbtmxRenq6nnnmGe3evVvx8fHasGGDrTMCAAAAdmcYhnr16qVVq1YpPDxcjRo1kmEY2rt3r4YMGaLly5drxYoVZsdEcZCY6HT9bFNTpe3bpV69zE5ydRfDasuwWOS3f7MuVmtgdpxir3VrKSJCGjtW6tLF6RaGA0CxV6h/2m3YsKEOHDigtm3bqnfv3kpNTdU999yj7du3q0aNGrbOCAAAANjd4sWLtX79eq1du1bbt2/XZ599pqVLl2rHjh368ccf9dNPP+X5bTOg0BISJF9fs1PksWWLlJll3YTMWWV7llZa+cry3bfZ7CglxqhR1l7HkyaZnQQASp4Cr7TNyMhQ165dNX/+fD333HP2yAQAAAA43GeffaZnn30233Zft99+uyZOnKhPP/1UgwYNMiEdipXERKdbtrhhg1QxVAoMNDvJtbEZmWNVrCiNGCG9847Uo4d1xS0AwDEKvNK2VKlS2rlzpz2yAAAAAKbZuXOnunbtetXHu3Xrph07djgwEYqt+Hinao+QlSVFRkoNikDHgYthdeVzeKcsGelmRykx+vSRWraUBg+Wzp0zOw0AlByFao/w0EMP6cMPP7R1FgAAAMA08fHxCg4OvurjwcHBSkhIcGAiFFtO1tP2zz+lCynO3Rohx8XKdeWSmS6fIywkchQXF+mZZ6TLl6VHH5XYkxEAHKNQG5FlZmZq4cKF+vHHH9W8eXOV/sev9rzxxhs2CQcAAAA4SlZWltzcrv7x2NXVVZmZmQ5MhGIrIUGqWtXsFLl+/13y95MqVTI7yfVdqlhT2a5u8t23WRfqtDA7TokRFCQ9+aQ0bZo0c6Y0YYLZiQCg+CtQ0fbIkSOqWrWqdu3apWbNmkmSDhw4kGeMxWKxXToAAADAQQzD0JAhQ+Th4ZHv42lpaQ5OhGLLyTYii4qSata0rqh0dkYpd12uUN26GVnvkWbHKVHat5cGDpQmTpRq15buvtvsRABQvBWoaFurVi2dPn1aP//8sySpX79+mjNnzjV/jQwAAAAoCgYPHnzdMWxChptmGFJSktNsRHbxonTwoHTvvWYnuXFsRmaeIUOk6GjpoYek336TmjY1OxEAFF8FKtoa/2he89133yk1NdWmgQAAAAAzLFq0yOwIKAkuXpQyMpxmpe3u3VJWtlSjhtlJbtzFynVVdtMquVxKVbaXcxS/SwoXF+tK2yeflLp3txZui9LfHQAoSm7qF2D+WcQFAAAAAFxDYqL16CQbke3cKfn6SOXLm53kxl0MqyNLdrZ8928xO0qJ5OkpvfKK5O4u3X67dOKE2YkAoHgqUNHWYrFc0bOWHrYAAAAAcIMSEqxHJ1lpGxUlVa8uFaUf6y5XqKYsD2/574k0O0qJFRgovf66lJ4u3XGHFBdndiIAKH4K3B7h75szXL58WY899phK/6Mf0/Lly22XEAAAAACKCydaaZueLu3bJ911l9lJCsjFVRer1JPfboq2ZipfXpo1Sxo7VrrzTmndOmsxFwBgGwUq2v5zc4aHHnrIpmEAAAAAoFhzopW2e/dKGZlSzZpmJym41Cr1VXbTKuvGbkVpmXAxU7GidcXt2LFSt27Sjz86xV9tACgWClS0ZXMGAAAAALgJTrTSdscOydtLCgkxO0nBpVZroJA1n8jr1GFdqlgEq87FSNWq0syZ0rhxUs+e0nffSV5eZqcCgKLvpjYiAwAAAAAUQEKC5OFh3cXJZDt2SNWqSa6uZicpuItV6ksSLRKcRO3a0vTp0qZN0tCh1gXQAICbQ9EWAAAAABwlIcEpVtlmZkq7d0s1apidpHCyvH11ObiK/HZvNDsK/tKokTRpkvT559ILL5idBgCKPoq2AAAAAOAoiYlO0fTzwAHpcppUvbrZSQovtWp9+e+iaOtM2rWThg2zFm2XLjU7DQAUbRRtAQAAAMBREhKcomi7d69Uyk2qVMnsJIWXWrWBSh/bJdeLF8yOgr8ZMEC6805rm4Q//zQ7DQAUXRRtAQAAAMBREhOl0qXNTqH9+6XQUMmtQFtTO5eLVerLkp0t332bzY6Cv7FYpKeflipWlPr3ly5fNjsRABRNFG0BAAAAwFHi452ip+2+fVJYmNkpbs7l4CrK9PKRP31tnY67u/Tss9Y2HM8+a3YaACiaKNoCAAAAgKMkJppetL10STpxougXbeXiootV6rMZmZOqXl165BHpzTelNWvMTgMARQ9FWwAAAABwFCfoaXvwoGSoaPezzZFatb78dkdK2dlmR0E+7r1XatFCGjJEukDrYQAoEIq2AAAAAOAoSUmmr7Tdv19yLyWFhJgawyZSqzdWqZRElT66y+woyIeLi/TUU9auIC+9ZHYaAChaKNoCAAAAgCNkZlqXGzpB0bZiRcnV1dQYNpFapb6yXd0UsHO92VFwFSEh0oAB1jYJe/aYnQYAig6KtgAAAADgCElJ1qMTFG2LQ2sESTLcPXSxSj35R/1idhRcw/33W4u3o0ZJhmF2GgAoGijaAgAAAIAjJCRYjyb2tE1NlU6cLAabkP1NSvXGCtj5C9VAJ+buLj3xhLRunfT552anAYCigaItAAAAADiCExRtDx60HotT0Ta1RrjcE8/K+8R+s6PgGm65RWrbVpowQUpLMzsNADg/irYAAAAA4AiJidajie0RcjYhK1/etAg2l1q1gQwXV1okFAHDh0snT0r//rfZSQDA+VG0BQAAAABHyFlpa3LRNiyseGxCliPb01sXw2qzGVkRUKWK1LWr9NJL1j35AABXR9EWAAAAABwhMVGyWCRvb9MiFKdNyP4utXpjBUSto69tETBokJScLL31ltlJAMC5UbQFAAAA7Gju3LmqWrWqPD091apVK/3xxx/XHL9s2TLVrVtXnp6eatSokVatWpX7WEZGhiZMmKBGjRqpdOnSCg0N1aBBg3Tq1Cl7vwzYQkKCtZ+tizk/hqWkSDGnilc/2xwpNcLlcf6UPE8dMTsKriM4WOrdW3r9dencObPTAIDzomgLAAAA2Mnnn3+ucePGaerUqdq2bZvCw8PVpUsXnTlzJt/xGzduVP/+/TVs2DBt375dffr0UZ8+fbRr1y5J0sWLF7Vt2zZNnjxZ27Zt0/Lly7V//3716tXLkS8LhZWYaGprhKNHrcfQUNMi2E1q9UYyLBZaJBQRAwZI2dnWwi0AIH8UbQEAAAA7eeONN/TII49o6NChql+/vubPny9vb28tXLgw3/Fvv/22unbtqvHjx6tevXp66aWX1KxZM7377ruSJH9/f61Zs0b333+/6tSpo1tvvVXvvvuutm7dqujoaEe+NBRGzkpbkxw5Irm6FK9NyHJkefnoUsWa1hYJcHr+/tbVtu+9J50/b3YaAHBOFG0BAAAAO0hPT9fWrVvVqVOn3PtcXFzUqVMnRUZG5vucyMjIPOMlqUuXLlcdL0lJSUmyWCwKCAiwSW7YUWKiVLq0aac/csT6q+lubqZFsKuUmk1UZuuP9LUtIu67T8rMlObMMTsJADgnirYAAACAHZw7d05ZWVkKDg7Oc39wcLBiY2PzfU5sbGyBxl++fFkTJkxQ//795efnl++YtLQ0JScn57nBJPHxprZHOHJECgkx7fR2d6F2C3mcPyXv6H1mR8ENKFNGuusu6e23paQks9MAgPOhaAsAAAAUQRkZGbr//vtlGIbmzZt31XHTp0+Xv79/7i2sOO5CVVQkJJhWtDUMa9G2QgVTTu8QKTUaK9utlMpsWWN2FNygfv2kixetbRIAAHlRtAUAAADsICgoSK6uroqLi8tzf1xcnEKustwxJCTkhsbnFGyPHz+uNWvWXHWVrSRNmjRJSUlJubcTJ04U8hXhpiUmmtbT9tw5KfVi8S7aGu6eSq3WUIGbvzc7Cm5QUJDUrZs0e7aUmmp2GgBwLqYWbdevX6+ePXsqNDRUFotFK1asyPP4kCFDZLFY8ty6du2aZ0x8fLwGDBggPz8/BQQEaNiwYUpJSckzZufOnbrtttvk6empsLAwzZw584osy5YtU926deXp6alGjRpp1apVNn+9AAAAKDnc3d3VvHlzrV27Nve+7OxsrV27VhEREfk+JyIiIs94SVqzZk2e8TkF24MHD+rHH39U2bJlr5nDw8NDfn5+eW4wiYkrbY8csR5DQ005vcNcqN1CATt+kSUj3ewouEH9+1v/PWPRIrOTAIBzMbVom5qaqvDwcM2dO/eqY7p27arTp0/n3j777LM8jw8YMEC7d+/WmjVrtHLlSq1fv14jRozIfTw5OVmdO3dWlSpVtHXrVr3++uuaNm2aFixYkDtm48aN6t+/v4YNG6bt27erT58+6tOnj3bt2mX7Fw0AAIASY9y4cXr//ff10Ucfae/evRo5cqRSU1M1dOhQSdKgQYM0adKk3PFjxozR6tWrNXv2bO3bt0/Tpk3Tli1bNHr0aEnWgu19992nLVu26NNPP1VWVpZiY2MVGxur9HSKVE7NMKyNO00s2np5WvuIFmcX6jSX6+VU+e353ewouEEhIVL79tbVtllZZqcBAOdh6r6h3bp1U7du3a45xsPD46q/PrZ3716tXr1amzdvVosWLSRJ77zzjrp3765Zs2YpNDRUn376qdLT07Vw4UK5u7urQYMGioqK0htvvJFb3H377bfVtWtXjR8/XpL00ksvac2aNXr33Xc1f/58G75iAAAAlCT9+vXT2bNnNWXKFMXGxqpJkyZavXp17mZj0dHRcnH5/3UUrVu31pIlS/T888/r2WefVa1atbRixQo1bNhQkhQTE6Ovv/5aktSkSZM85/r555/VoUMHh7wuFEJqqpSZaWrRNiREslhMOb3DXKpYSxml/VVm6xolhbczOw5u0P33S489Ji1fLvXta3YaAHAOTt/Tdt26dSpfvrzq1KmjkSNH6vz587mPRUZGKiAgILdgK0mdOnWSi4uLNm3alDumXbt2cnd3zx3TpUsX7d+/XwkJCbljOnXqlOe8Xbp0UWRk5FVzsQsvAAAAbsTo0aN1/PhxpaWladOmTWrVqlXuY+vWrdPixYvzjO/bt6/279+vtLQ07dq1S927d899rGrVqjIMI98bBVsn99fPHjKpPUVO0bbYc3FRSq1mCtz8g9lJUAB16khNm0ozZ1oXpQMAnLxo27VrV3388cdau3atZsyYoV9++UXdunVT1l+/MxEbG6vy5cvneY6bm5sCAwMVGxubOyZnJUOOnD9fb0zO4/lhF14AAAAANyw+3no0YSOyzEwpOrp4b0L2dxfqNJfvgS1yu5BgdhQUwP33S1u2SL/9ZnYSAHAOTl20feCBB9SrVy81atRIffr00cqVK7V582atW7fO7GjswgsAAADgxuWstDWhaHvypJSRWfw3IctxoXZzWbKzFbDtJ7OjoABatZKqVrWutgUAOHnR9p+qV6+uoKAgHTp0SJIUEhKiM2fO5BmTmZmp+Pj43D64ISEhiouLyzMm58/XG3O1XroSu/ACAAAAKAATV9oePWo9loj2CJIyAkN0ObiKym5aZXYUFIDFYu1nu3KldPCg2WkAwHxFqmh78uRJnT9/XhX++r2eiIgIJSYmauvWrbljfvrpJ2VnZ+f2CouIiND69euVkZGRO2bNmjWqU6eOyvy1dWpERITWrl2b51xr1qxRRESEvV8SAAAAgJIgZ6WtCRuRHTki+fuZtgeaKZLq36qyv6+UsrPNjoIC6NRJCgiQ3n3X7CQAYD5Ti7YpKSmKiopSVFSUJOno0aOKiopSdHS0UlJSNH78eP3+++86duyY1q5dq969e6tmzZrq0qWLJKlevXrq2rWrHnnkEf3xxx/asGGDRo8erQceeEChf/3uz4MPPih3d3cNGzZMu3fv1ueff663335b48aNy80xZswYrV69WrNnz9a+ffs0bdo0bdmyRaNHj3b4NQEAAABQDMXHW6umrq4OP/XRoyWnn22O5Aat5Z5wRr77NpsdBQXg7i7ddZe0aJHEXt8ASjpTi7ZbtmxR06ZN1bRpU0nSuHHj1LRpU02ZMkWurq7auXOnevXqpdq1a2vYsGFq3ry5fv31V3l4eOTO8emnn6pu3bq644471L17d7Vt21YLFizIfdzf318//PCDjh49qubNm+upp57SlClTNGLEiNwxrVu31pIlS7RgwQKFh4friy++0IoVK9SwYUPHXQwAAAAAxVd8vGRSS7UjR0pOa4QcqVUbKLO0v4IivzE7CgqoVy/p0iVr4RYASjI3M0/eoUMHGYZx1ce///77684RGBioJUuWXHNM48aN9euvv15zTN++fdW3b9/rng8AAAAACiwhwZR+tunpUmysdNttDj+1uVxdlVz3FpXd8D8dHfay2WlQAOXKSe3aSXPmSE88IbkUqaaOAGA7fPkDAAAAAHvLaY/gYCdPStmGFBzs8FObLrlBhHyO7pJH7HGzo6CA7r3XukJ8FXvJASjBKNoCAAAAgL3Fx5uy0jY62nosX97hpzZdct2WynZ1o0VCEVSvnvX29ttmJwEA81C0BQAAAAB7M7Fo6+tjyiJf02V7+Si1RrjKbvza7CgoIItF6t1b+vFH6cABs9MAgDko2gIAAACAvZlUtD1+vGS2RsiR1CBCAVHr5JqabHYUFFDHjpK/vzRvntlJAMAcFG0BAAAAwN5M2ojs+HHrxk4lVXLDNnLJzFDZ3781OwoKyN1d6tZNWrRISk01Ow0AOB5FWwAAAACwp8xMKTnZ4UXb7GzpxImSvdI2PTBEqVXqqfzPn5sdBYXQq5f1f53PPjM7CQA4HkVbAAAAALCnxETr0c/Poac9c0ZKSy+Zm5D9XWKTjgrc9J1cU5LMjoICqlBBuvVW6d13JcMwOw0AOBZFWwAAAACwp4QE69HBK22jo63HkBCHntbpJDbpIJfMdAX9tsLsKCiE3r2lHTukyEizkwCAY1G0BQAAAAB7io+3Hk0o2rqXkgICHHpap5MRUE4p1Rur/M9LzY6CQmjZUqpYkQ3JAJQ8FG0BAAAAwJ5MKtoeP25tjeDCT31KbNpBZbb+KLek82ZHQQG5uEh33SX997/SuXNmpwEAx+HbNwAAAADYk0ntEXKKtpASw9vLkp2tcr8uNzsKCqFbN+tx0SJzcwCAI1G0BQAAAAB7io+XSpWSPD0detroaIq2OTJ9A5VSq6nK/0SLhKLI319q316aP1/KzjY7DQA4BkVbAAAAALCnhATJz0+yWBx2yuRkKTFJCg522CmdXkLTjgrYsU4eZ0+aHQWF0LOndOSItGaN2UkAwDEo2gIAAACAPcXHm7IJmcRK279LbNJR2aU8FLJ6sdlRUAgNG0o1arAhGYCSg6ItAAAAANiTCUXb48cliyja/l22p7cSm3RQhW8/4HfsiyCLxbra9ptvpBMnzE4DAPZH0RYAAAAA7CkhQfLxcegpo6OloCBrK138v/O39pBn3HGV2f6T2VFQCHfeaW0N/f77ZicBAPujaAsAAAAA9nT+vMNX2p44IZUr59BTFgkXq9TXpZCq1tW2KHK8vaVOnaQFC6SMDLPTAIB9UbQFAAAAAHtKSHB40fbkSYq2+bJYFN+qu4J+/Uqlks6ZnQaF0Lu3FBcnrVhhdhIAsC+KtgAAAABgTw7uaZuVJZ06RdH2auJbdJaMbAWv+Y/ZUVAI1atL4eHS3LlmJwEA+6JoCwAAAAD2YhjWlbZ+fg47ZWyslJlF0fZqsnz8ldT4NoX+7z02JCuievWSfvlF2rPH7CQAYD8UbQEAAADAXi5dktLTHboR2cmT1iNF26s72/4+eZ88qLIbvzE7CgrhttukwEBp3jyzkwCA/VC0BQAAAAB7iY+3Hh240vbkSamUmxQQ4LBTFjkXq9RXSvXGqvz562ZHQSGUKiV17y599JF04YLZaQDAPijaAgAAAIC95BRtHdjTNmcTMhd+2rumMx36yn/XBvnt+d3sKCiEnj2lixethVsAKI74Ng4AAAAA9pKQYD06sGgbHS0FBTnsdEVWcoPWulwuTGGfzzI7CgqhfHlrm4Q5c2hNDKB4omgLAAAAAPZiUnsE+tneABcXne1wn4J+XS7PmMNmp0Eh3HOPdPCg9MMPZicBANujaAsAAAAA9pKz0tZBG5Glp0tnzlC0vVHxLboo06eMqiyZbnYUFELDhlLt2tLbb5udBABsj6ItAAAAANhLfLy1YOvq6pDTxcRIhqy/Oo7rM9w9FHdHf4WsXiTv43vNjoMCsliku++WVq+W9u83Ow0A2BZFWwAAAACwl/h4h29CJtHTtiDOt+ml9IDyqvbBc2ZHQSHcfrsUGCi9847ZSQDAtijaAgAAAIC9JCQ4tGh74oTk5enQUxZ5hpu7YrsOUbnfvpLfnt/NjoMCcneX7rpLWrRIOn/e7DQAYDsUbQEAAADAXhy80jYmxtrP1mJx2CmLhYTmnXSpQnVV//cEyTDMjoMCuvtuKStLeu89s5MAgO1QtAUAAAAAezl/3mGbkElSdDStEQrFxVWnewxXwM71CtrwP7PToIACAqSuXa0bkl26ZHYaALANirYAAAAAYC8Obo9w8iSbkBVWcv1blVQ/QrXeelyuKUlmx0EB9e1r/d9t8WKzkwCAbVC0BQAAAAB7OX9e8vNzyKlSU6WERGt7BBSCxaKT942RW0qSqr8/yew0KKCKFaX27aXXX7e2SgCAoo6iLQAAAADYS3y85O/vkFOdPGk9UrQtvIwywTrdfZgqfj1P/n/+ZnYcFFC/ftLRo9KXX5qdBABuHkVbAAAAALCH9HTpwgWHrbSlaGsb59r2VmrVBqozc5hcLqWaHQcFUKeO1KKF9PLLUna22WkA4OZQtAUAAAAAezh/3np0UNE2Jkby9ZG8vBxyuuLLxVXRD4yXx9kTqjN7hGQYZidCAQwcKP35p/Q/9pMDUMRRtAUAAAAAe8gp2jqwPUJQkENOVeylBVfRifufVvDaJaq4Yq7ZcVAAjRtLzZpJ06ax2hZA0UbRFgAAAADs4dw569GB7REo2tpOYrPbdabdfaox90n57dpodhwUwKBB0s6d0tdfm50EAAqPoi0AAAAA2IMJ7REo2trWqV6P6mLV+mr4fG95H9tjdhzcoPBwqWlT62pbulsAKKoo2gIAAACAPZw/L7m4SD4+dj9VSoqUlEzR1uZc3XR06IvKKu2v8HG3y+vkQbMT4QYNGiTt2CF99ZXZSQCgcCjaAgAAAIA9nDsn+fpKrq52P1VMjPVYrpzdT1XiZJX21+HHXpfh7qkmT3aU56kjZkfCDWjSRGrRQnruOSkz0+w0AFBwFG0BAAAAwB7On3fYJmQ5RVtW2tpHpm8ZHRo5S4bFouYjb5H/zl/NjoQbMHy4tG+f9MknZicBgIKjaAsAAAAA9nD+vEP72fqUlry9HXK6EinTP0gH//WuLpevrPCn7lCFle+bHQnXUaeO1KGDNGWKdPmy2WkAoGAo2gIAAACAPZw759CiLa0R7C/Lx1+HH5up+FbdVGf2CNV/8QGVSjhjdixcw8MPS6dPS/PmmZ0EAAqGoi0AAAAA2IMDi7YnT0plyzrkVHB108n7ntSxh55T4B+rdcvgugr+/mMpO9vsZMhHWJjUrZv08stSUpLZaQDgxlG0BQAAAAB7cGB7hJMn6WfraInNO2nvxMW6UKuZ6r02WC0eaaqyG7+RDMPsaPiHwYOlixel114zOwkA3DiKtgAAAABgDw7aiCw1VUpMomhrhiyfAEUPfF4Hn5gjw8VFjZ7rpeaPNlfw6o/kkk4TVWcRFCT17Su99ZZ04oTZaQDgxlC0BQAAAABby8qSEhMdstL21CnrkZ625kmt3kiHH39Dh0bOkuFaSvVmDFFE30qqPn+8Sh/50+x4kPTAA5KXlzR5stlJAODGuJkdAAAAAACKnYQE66/JO6Boe/Kk9chKW5NZLEqp3VwptZvL48wJBW34nyqsfF+VP5+lCzXCdebOh3SmYz+llQ8zO2mJ5O0tDRokzZkjPfmkFB5udiIAuDZW2gIAAACArZ0/bz06oD1CTIxU2lsqXdrup8INSisfppi7R2vPtGU6MuxlZZb2V7UPnlNEv8pq8q/bFPr1fJVKOmd2zBLnrrusG5ONH292EgC4Poq2AAAAAGBr5/4qyDlgpW1MDKtsnZXhVkrJDdvo+NAXtOul5Tr+4ES5ZKSr1tujFXFvBTWcdJeCfvlSlox0s6OWCG5u0vDh0po11hsAODPaIwAAAACArTlwpe3JkxRti4Jsz9JKaNlFCS27yO1CggJ2rFOZLWvUcNp9yvALVGyXIYrp/bguV6xhdtRirW1bqWFD6ZlnpK1bJReWsgFwUnx5AgAAAABbyynastIW+cj0LaNzbe/WwbHvad8zC5XQrJMqrPpQrQbWUqOJ3RWw7SdrT2TYnMUijRghRUVJn31mdhoAuDqKtgAAAABga+fOST4+1t/HtqNLl6T4BKlcObueBnZ0uUI1neo9UrunfK4T/cbL6+RBNXnqDjUbFaGykSsp3tpBo0bWFbfPPSelpZmdBgDyR9EWAAAAAGzt/HmHrbKVpLJl7X4q2Jnh7qH4Vt104KkFOjziNbmkXVSjZ3uq6RNt5bc70ux4xc4jj1hbi7z3ntlJACB/FG0BAAAAwNbOn3dIP9ucoi0rbYsRi0UX6rXSoSfm6NBjr6tU4lk1G91a9afdL/ezMWanKzYqV5a6dpVeeUVKSTE7DQBciaItAAAAANjauXOSr6/dTxMTI3l5SqVL2/1UMEFKnRY6MG6+jj84UWW2r9Utg+up4vJ3pKwss6MVCwMHSsnJ0ttvm50EAK5E0RYAAAAAbO3cOYe1RyhXzrq5EoopFxcltOyifRM/UmKTDqr1zr/UdMxt8jx91OxkRV5wsHTXXdLrr0sJCWanAYC8KNoCAAAAgK05sD0C/WxLhiwvH528f5wOPjFHnrHH1GJ4E5Vf86nZsYq8hx6ybkY2e7bZSQAgL4q2AAAAAGBrDlxpGxRk99PAiaRWb6T9Ty1Qcr1Wqv/qQ6oz82FZ0tPMjlVkBQZKffpIb70lnTljdhoA+H8UbQEAAADAlgzD+rvWdi7apqVJZ89RtC2Jsr18FP3Qs4ruP0HBaz5V0zHt5H7ulNmxiqwHHrD+b/vGG2YnAYD/R9EWAAAAAGwpOVnKzLR7e4TTp61HirYlV/wtXXXwibflGXtMzUc0k+/+LWZHKpL8/aVevaT33qO3LQDnQdEWAAAAAGzp3Dnr0c4rbWNirEeKtiXbpcp1dWDcPGX6B6nJ2A4K/GO12ZGKpL59pfR06Z13zE4CAFYUbQEAAADAls6ftx7tvNI2JkZyL+WQ1rlwcpm+gTo0cpZSaoSr0aS7FLJ6sdmRipzAQKl7d+nNN6ULF8xOAwAUbQEAAADAthxYtC1XTrJY7HoaFBGGu6eODn1R51t1U90ZQ1XxyzlmRypyHnhASkmR5s83OwkAULQFAAAAANtyUHuEkyelsmXtegoUNa6uOtl3nOI69lOtd8co7LMZZicqUsqXlzp3lmbNki5dMjsNgJKOoi0AAAAA2NL585Knp+ThYdfTxMTQzxb5sFh0uuejiu08SDUWTFSVj140O1GR0r+/dPas9OmnZicBUNKZWrRdv369evbsqdDQUFksFq1YsSLP44ZhaMqUKapQoYK8vLzUqVMnHTx4MM+Y+Ph4DRgwQH5+fgoICNCwYcOUkpKSZ8zOnTt12223ydPTU2FhYZo5c+YVWZYtW6a6devK09NTjRo10qpVq2z+egEAAACUAOfP2701QkaGdOaMtT0CcAWLRbHdhupU92GqtniqKv/nFbMTFRmVKklt2kizZ0uGYXYaACWZqUXb1NRUhYeHa+7cufk+PnPmTM2ZM0fz58/Xpk2bVLp0aXXp0kWXL1/OHTNgwADt3r1ba9as0cqVK7V+/XqNGDEi9/Hk5GR17txZVapU0datW/X6669r2rRpWrBgQe6YjRs3qn///ho2bJi2b9+uPn36qE+fPtq1a5f9XjwAAACA4uncObu3RoiLk7IN2iPg2s7c+ZBOdx2i6h8+r7Clr5sdp8jo21fat09avdrsJABKMjczT96tWzd169Yt38cMw9Bbb72l559/Xr1795YkffzxxwoODtaKFSv0wAMPaO/evVq9erU2b96sFi1aSJLeeecdde/eXbNmzVJoaKg+/fRTpaena+HChXJ3d1eDBg0UFRWlN954I7e4+/bbb6tr164aP368JOmll17SmjVr9O6772o+HcgBAAAAFMTZs1JAgF1PERNjPdIeAdcT12WwLFlZqvHvZ5RdykMx9/7L7EhOr1EjqW5d62rbq5QsAMDunLan7dGjRxUbG6tOnTrl3ufv769WrVopMjJSkhQZGamAgIDcgq0kderUSS4uLtq0aVPumHbt2snd3T13TJcuXbR//34lJCTkjvn7eXLG5JwHAAAAAG5YXJzd2yPExEil3OxeG0YxEdttaO7mZCGrFpodx+lZLNbVtmvXSjt3mp0GQEnltEXb2NhYSVJwcHCe+4ODg3Mfi42NVfny5fM87ubmpsDAwDxj8pvj7+e42picx/OTlpam5OTkPDcAAAAA0JkzDllpW7as5OK0P9HBqfy1Odm5Nr1UZ9Zwlf9pqdmJnF67dlJwsPTGG2YnAVBS8S2+kKZPny5/f//cW1hYmNmRAAAAADiDs2elMmXseoqYGFojoIAsFp28Z4zim3dW3VcHquzGb8xO5NTc3KS775Y++8z67zAA4GhOW7QNCQmRJMXFxeW5Py4uLvexkJAQnfnHV8/MzEzFx8fnGZPfHH8/x9XG5Dyen0mTJikpKSn3duLEiYK+RAAAAADFTUaGlJBg95W2J0+yCRkKwcVFJx4Yr6QGrdVgWl8FbF1rdiKn1q2btVXCBx+YnQRASeS0Rdtq1aopJCREa9f+/zeR5ORkbdq0SREREZKkiIgIJSYmauvWrbljfvrpJ2VnZ6tVq1a5Y9avX6+MjIzcMWvWrFGdOnVU5q9//Y6IiMhznpwxOefJj4eHh/z8/PLcAAAAAJRw585Zj3ZcaZuVJcXGSuXK2e0UKM5cXRU98Hml1AhXo+d7y283e7lcjZ+fdMcd0nvvSZmZZqcBUNKYWrRNSUlRVFSUoqKiJFk3H4uKilJ0dLQsFovGjh2rl19+WV9//bX+/PNPDRo0SKGhoerTp48kqV69eurataseeeQR/fHHH9qwYYNGjx6tBx54QKGhoZKkBx98UO7u7ho2bJh2796tzz//XG+//bbGjRuXm2PMmDFavXq1Zs+erX379mnatGnasmWLRo8e7ehLAgAAAKAoy/lNQDtuRHbmjJSZRXsEFJ7hVkpHh76gixVrqvGEbvI5sM3sSE6rTx9rO5KvvzY7CYCSxtSi7ZYtW9S0aVM1bdpUkjRu3Dg1bdpUU6ZMkSQ988wzeuKJJzRixAi1bNlSKSkpWr16tTw9PXPn+PTTT1W3bl3dcccd6t69u9q2basFCxbkPu7v768ffvhBR48eVfPmzfXUU09pypQpGjFiRO6Y1q1ba8mSJVqwYIHCw8P1xRdfaMWKFWrYsKGDrgQAAACAYiGnaGvHlbYxMdYjRVvcDMPdU0eHv6K0oIoKf7qTSh/50+xITqlWLalhQ+ndd81OAqCkcTPz5B06dJBhGFd93GKx6MUXX9SLL7541TGBgYFasmTJNc/TuHFj/frrr9cc07dvX/Xt2/fagQEAAADgWs6etR7t2NP25EnJ1cXue52hBMj2LK0jI15TjXlPK3zc7Yp6e70uVqlndiyn06eP9PLL0p49Uv36ZqcBUFI4bU9bAAAAAChyzpyRPD0lLy+7nSImxrrK1tXVbqdACZLl7avDj85Ulrefwp/sKO/ofWZHcjrt2kmBgdLcuWYnAVCSULQFAAAAAFs5c8buS2BjYqSyZe16CpQwWT7+OjxylrI9vdVkbHt5H9tjdiSnUqqU1KOH9MknUkqK2WkAlBQUbQEAAADAVs6csWtrBMnaHoF+trC1TN8yOvT4G8ry8lWTJzuo9NFdZkdyKj16SKmp0nW6MwKAzVC0BQAAAABbOXNG8ve32/RZWdLp0xRtYR9ZPgE6NHK2MksHqMmYdvLd+4fZkZxGcLB0663SvHnSNbbmAQCboWgLAAAAALZi55W2Z89KGZkUbWE/WT7+OjzqDaUFVVT4U3coYNtPZkdyGj17SlFR0h/UsgE4AEVbAAAAALAVO/e0jYmxHsuVs9spAGV5+ejIozN1sXI9NZ7YXeV++cLsSE6hZUspJESaP9/sJABKAoq2AAAAAGArZ8/adaVtTIzk6mLdyR6wp2wPLx0d/rKSGrZR/RfuV6Vlb5odyXSurtJdd0lLl0rx8WanAVDcUbQFAAAAAFu4dMm6tbydi7aBgdbiEWBvhpu7jj/0nM50fEA13xunmu+MsTZWLsG6dZMyM6WPPjI7CYDijqItAAAAANjC2bPWo52LtvSzhUO5uOh0zxE6cd9YVVwxV40m9ZBbSqLZqUwTGCjddpu1RQIbkgGwJ4q2AAAAAGALZ85Yj3bsaXvypFS2rN2mB67qfJveOjxihvx3b1Szka3kdeKA2ZFM06uXdOCA9PPPZicBUJxRtAUAAAAAW8gp2tpppW12tnTqFJuQwTwpdZrrwNj35JKRpuaPtVTZ3/5ndiRThIdL1apJ8+aZnQRAcUbRFgAAAABswc5F2/PnpfQM2iPAXOnlKunA2LlKqdlEjSb3UfUFE2XJyjQ7lkNZLNYNyVaskE6fNjsNgOKKoi0AAAAA2MKZM5KPj1SqlF2mj4mxHinawmzZnqV1bMg0xfR6TGGfz1L4uDvkfu6U2bEcqnNnyc1N+uADs5MAKK4o2gIAAACALZw9a9d+tjExkovFuhESYDqLRWc79tOhx2fL+/hetRzWWIF/rDY7lcP4+Ei33y79+99SZslaaAzAQSjaAgAAAIAtnDljt9YIknUTsjJl7LaQFyiU1Brh2v/0Al2sWFONJ3RT9fnjZclINzuWQ/Tubf3HlG++MTsJgOKIoi0AAAAA2IKdi7YxMbRGgHPK8gnQ0eGvKqbXY6r0xVtqNipCXicPmh3L7mrXlho2lObMMTsJgOKIoi0AAAAA2EJcnF2LtidOSOXK2W164Oa4uOhsx346OOZdlUo8qxaPNFXIqoWSYZidzK7uvltat07atcvsJACKG4q2AAAAAGALdlxpm51tXWlL0RbO7lJYHR146t9KbNxOdV8fpvov9JPbhQSzY9lNu3bWFfDvvmt2EgDFDUVbAAAAALhZhiGdO2e3ou25c1J6Bu0RUDRke3jpRP9ndHTwVAVuXq2WDzeS/471ZseyCzc36a67pE8+kRKKb20agAko2gIAAADAzbpwQUpLs1vR9sQJ67F8ebtMD9hFUpMO2v/0+0r3D1KTcR1VdeFkWTIzzI5lcz17Sunp0sKFZicBUJxQtAUAAACAm3XmjPVYpoxdpo+JkVxdpMBAu0wP2E1GmWAdfny2YrsOVZVPp6vJmHbyjD1mdiybCgyUOna0tkjIyjI7DYDigqItAAAAANysnKKtHVfali0rubraZXrAvlxcFXfnQzr4xBx5xh1Xi+FNFPTLl2ansqn77pOOHZOWLzc7CYDigqItAAAAANyss2etRzsVbU+epJ8tir6LVevrwFMLdKFGuBpOu0+13h4tS3qa2bFsonZtqVkzacYMa4trALhZFG0BAAAA4GbFxlqXwfr52WX6kyelcuXsMjXgUFlePjo+ZJpO3DdWFVYuUNN/tS027RL69ZO2bpV++cXsJACKA4q2AAAAAHCzTp2yNra0Q/+CrCzr9BRtUWxYLDrfprcOPvGOPM7FqPkjTVXmj+/NTnXTWraUatSQZs40OwmA4oCiLQAAAGAnc+fOVdWqVeXp6alWrVrpjz/+uOb4ZcuWqW7duvL09FSjRo20atWqPI8vX75cnTt3VtmyZWWxWBQVFWXH9CiQ06fttktYbKyUlU3RFsXPpcp1dGDcv3WpUm01ntRdYZ/PKtK9BSwW6f77pe++k3btMjsNgKKOoi0AAABgB59//rnGjRunqVOnatu2bQoPD1eXLl10JmfDqn/YuHGj+vfvr2HDhmn79u3q06eP+vTpo11/+8k/NTVVbdu21YwZMxz1MnCj7Fi0PXnSeqRoi+Ioy9tXRx55VWc69FON+eNV79WBRbrP7e23S+XLs9oWwM2jaAsAAADYwRtvvKFHHnlEQ4cOVf369TV//nx5e3tr4cKF+Y5/++231bVrV40fP1716tXTSy+9pGbNmundd9/NHTNw4EBNmTJFnTp1ctTLwI2KiZHKlrXL1CdPSqXcJH9/u0wPmM/FVad7jtCxgc+r3LplCn+6k9ySzpudqlDc3KS+faUlS6TDh81OA6Aoo2gLAAAA2Fh6erq2bt2ap7jq4uKiTp06KTIyMt/nREZGXlGM7dKly1XHw8mcPm3Xom1QkF3a5QJOJbHZHTr0+Gz5HPlTzUZHyDOmaFY9e/a0/iPLq6+anQRAUUbRFgAAALCxc+fOKSsrS8HBwXnuDw4OVmxsbL7PiY2NLdD4G5WWlqbk5OQ8N9hYVpZ05ozd2iOcOGEt2gIlwcVqDXVgzFy5pF1S0yfaqPSRP82OVGAeHlK/ftLHH0tHj5qdBkBRRdEWAAAAKMamT58uf3//3FtYWJjZkYqfM2ek7Gy7VVZPnqSfLUqW9HIVdeiJOcry9lOTMe3ku/famzg6o169JD8/afp0s5MAKKoo2gIAAAA2FhQUJFdXV8XFxeW5Py4uTiEhIfk+JyQkpEDjb9SkSZOUlJSUeztx4sRNzYd8nD5tPdqhPUJ6urUmTNEWJU2mbxkdHvWG0spVUvhTd8h/x3qzIxWIp6e1t+3ixdLx42anAVAUUbQFAAAAbMzd3V3NmzfX2rVrc+/Lzs7W2rVrFRERke9zIiIi8oyXpDVr1lx1/I3y8PCQn59fnhtsLKdoa4f2CKdPS9kGRVuUTFlePjry6ExdCqujxhO7y+/PDWZHKpDevaXSpaVXXjE7CYCiiKItAAAAYAfjxo3T+++/r48++kh79+7VyJEjlZqaqqFDh0qSBg0apEmTJuWOHzNmjFavXq3Zs2dr3759mjZtmrZs2aLRo0fnjomPj1dUVJT27NkjSdq/f7+ioqJuuu8tbtKpU5LFYpei7cmT1iNFW5RU2R5eOjLsZV2sVEuNJ3QrUq0SvLyk/v2lhQulQ4fMTgOgqKFoCwAAANhBv379NGvWLE2ZMkVNmjRRVFSUVq9enbvZWHR0tE7nrNCU1Lp1ay1ZskQLFixQeHi4vvjiC61YsUINGzbMHfP111+radOm6tGjhyTpgQceUNOmTTV//nzHvjjkdfq0tWDr6mrzqU+ckDzcrb0xgZLKcPfU0eGv6nKFqgof31mlD+80O9IN693b+uVh6lSzkwAoatzMDgAAAAAUV6NHj86zUvbv1q1bd8V9ffv2Vd++fa8635AhQzRkyBAbpYPN5BRt7eDECSk42LqQFyjJsj28dOSR6ao5d5waP9NF2+dG6nJIVbNjXZeHhzRwoPTmm9KECVLjxmYnAlBUsNIWAAAAAG7GqVN2K9pGR0tBQXaZGihysj1L68iI6ZKLqxqP76JSSefMjnRDunWTQkOl5583OwmAooSiLQAAAADcjFOnpLJl7TJ1dLRUvrxdpgaKpEzfQB0eMUOlks6p0aS75JJ2yexI1+XmJg0eLH3zjfT772anAVBUULQFAAAAgJtx+rRdirbJyVJSMkVb4J/Sy1XUkeGvqvThHao7Y6hkGGZHuq477pCqV5cmTSoScQE4AYq2AAAAAFBY2dlSXJxd2iOcOGE9/rV3HYC/uVS5jqIfnKjyP3+uqh+9YHac63JxkR5+WFq3TvrxR7PTACgKKNoCAAAAQGGdOydlZtql8WxO0bZcOZtPDRQLSeHtdar7MFX96AWV/2mp2XGuq3VrqWFDVtsCuDEUbQEAAACgsE6fth7tsNI2OloKLCO5u9t8aqDYONNpgOKb36k6Mx6Wz8HtZse5JotFGjZM2rpVWr7c7DQAnB1FWwAAAAAorJyirR162rIJGXADLBaduP8pXQ6urIaT+6hU0jmzE11TkyZSy5bSc89JWVlmpwHgzCjaAgAAAEBhnTplPdpppS2tEYDrM9w9dGzoC3JNTVb9F/rJkpVpdqRrGjZM2r9f+uwzs5MAcGYUbQEAAACgsE6flgICpFKlbDptVpa1HsxKW+DGZJQJ1vFBUxSw4xdVe/9Zs+NcU5061v62L7xgbYkNAPmhaAsAAAAAhXX6tF1aI5w+LWVmUbQFCiKlVlOd6jlClT9/XUHrnbtp7ODB0qFD0qefmp0EgLOiaAsAAAAAhXXqlF1aI5w4YT0GB9t8aqBYO9u+rxLC26vua0PkdeKA2XGuqnZtqW1b6cUXWW0LIH8UbQEAAACgsE6dstsmZB7ukr+/zacGijeLRSceGK9MvzJqMOUeuVxKNTvRVQ0eLB05In3yidlJADgjirYAAAAAUFinT9ttE7LgYMlisfnUQLGX7VlaxwZPk9epw6r9xmOSYZgdKV81a0rt2kkvv2ztYw0Af0fRFgAAAAAKwzCk2Fi7rbQNCrL5tECJcblCNZ24/ymF/PgfVfhmgdlxrurBB62rbb/80uwkAJwNRVsAAAAAKIz4eCk93W5FWzYhA25OYvNOOteml2q98y/57t9idpx81akjtWghTZ/utAuCAZiEoi0AAAAAFMbJk9ZjuXI2nTY5WUpKpmgL2EJMn1G6FFpDDabeK7ek82bHydcDD0hRUdKaNWYnAeBMKNoCAAAAQGFER1uPwcE2nfbECbtMC5RIhpu7jg2eIreUJNV/5UGnbB7brJlUt651tS0A5KBoCwAAAACFER0tublJZcrYdNpjxyQXi80X8AIlVkZgiI4/9JzKbFmjqh+/aHacK1gs1tW269ZJmzaZnQaAs6BoCwAAAACFcfy4dTmsi21/rDp2zNom193dptMCJdqFui11utvDqvrxiyobudLsOFdo21YKC5NmzzY7CQBnQdEWAAAAAArDTruFHTsmhYTYfFqgxDtzx4NKbNhG9V55SF4nDpgdJw9XV+nuu6Xly/+/RQqAko2iLQAAAAAUxvHjdulhcOwY/WwBu3BxUfSAScrwLaOGz/WSa0qS2Yny6NJF8vKS3nvP7CQAnAFFWwAAAAAojOhom1dXU1Ols+dYaQvYS7ZnaR0b+qI8zsWo/svOtTGZt7fUtav0739LFy+anQaA2SjaAgAAAEBBZWRIp0/bvGh7/Lj1SNEWsJ+08mE6PnCyAv/4TtU/fM7sOHncfbeUmCgtWWJ2EgBmo2gLAAAAAAUVEyMZhs172h47Jllkl1a5AP7mQr1bdKrXY6r82QyFfPuh2XFyhYZKrVtLb71l/RIDoOSiaAsAAAAABRUdbT3aYaVtUJDk7m7TaQHk42z7vjrXupdqv/mYArauNTtOrrvvlnbvltatMzsJADNRtAUAAACAgsrpY2DjjciOHmUTMsBhLBadvOdfSqnVTA2n3qvSR3eZnUiS1KyZVKWKNH++2UkAmImiLQAAAAAUVHS0FBBg3erdho4do2gLOJSrq44NnqL0gHJqPL6zPGOPmZ1IFot0113S8uVSbKzZaQCYhaItAAAAABRUdLTNq6sXL0pnzrIJGeBo2Z6ldWTEDBkWFzV+qpNKJZwxO5K6dJHc3KSFC81OAsAsFG0BAAAAoKCOH7d5a4ScjgustAUcL9MvUEcenalSKYlq/EwXuV1IMDWPr6/UoYP0739LWVmmRgFgEoq2AAAAAFBQ0dFS+fI2nfL4cckiVtoCZkkPCtXhR2fK6/RRNX76TrmlJJqap1cv65ea7783NQYAk1C0BQAAAICCMAzpxAmbL4k9elQqW1Zyd7fptAAK4HJodR0eOUveJw+q8dN3yjUlybQsdetKtWtL771nWgQAJqJoCwAAAAAFkZgopaTYvGh7/LjNF+8CKIRLFWvq8GOvy/vEAYU/3UluSedNyWGxSD17SqtWWVfcAihZnLpoO23aNFksljy3unXr5j5++fJljRo1SmXLlpWPj4/uvfdexcXF5ZkjOjpaPXr0kLe3t8qXL6/x48crMzMzz5h169apWbNm8vDwUM2aNbV48WJHvDwAAAAARVFO81kbV1iPHaM1AuAsLoXV1uGRs+R16rCajrlN7mdjTMlx++2SpycbkgElkVMXbSWpQYMGOn36dO7tt99+y33sySef1DfffKNly5bpl19+0alTp3TPPffkPp6VlaUePXooPT1dGzdu1EcffaTFixdrypQpuWOOHj2qHj16qGPHjoqKitLYsWM1fPhwfU/TGAAAAAD5yVnyZsOVtqmpUmwcRVvAmVyqVEuHRr+lUsnxavZEa3mdPOjwDN7e1sLthx+yIRlQ0jh90dbNzU0hISG5t6CgIElSUlKSPvzwQ73xxhu6/fbb1bx5cy1atEgbN27U77//Lkn64YcftGfPHv3nP/9RkyZN1K1bN7300kuaO3eu0tPTJUnz589XtWrVNHv2bNWrV0+jR4/WfffdpzfffNO01wwAAADAiUVHS6VKSQEBNpvyyBHrsWJFm00JwAbSylfWwSfmSLKo2ahb5ffnBodnuOsu6eRJNiQDShqnL9oePHhQoaGhql69ugYMGKDov/5Ve+vWrcrIyFCnTp1yx9atW1eVK1dWZGSkJCkyMlKNGjVS8N/+BbxLly5KTk7W7t27c8f8fY6cMTlzXE1aWpqSk5Pz3AAAAACUANHR1lW2Lrb7cerwYcnVxeZtcgHYQEaZ8jr4xBxdLl9ZTcbdrvJrP3Po+evUkWrWlN5/36GnBWAypy7atmrVSosXL9bq1as1b948HT16VLfddpsuXLig2NhYubu7K+Af/7odHBys2NhYSVJsbGyegm3O4zmPXWtMcnKyLl26dNVs06dPl7+/f+4tLCzsZl8uAAAAgKIgOloqV86mUx4+bG2N4OZm02kB2EhWaT8deXSmEpp0VP2XH1TVhZOl7GyHnNtikbp3l775Rjp92iGnBOAEnLpo261bN/Xt21eNGzdWly5dtGrVKiUmJuq///2v2dE0adIkJSUl5d5OnDhhdiQAAAAAjnD8uM2XxB46JFWoYNMpAdiY4VZKJx6coFM9HlGV/7yiRs/2lFtKokPOfeed1q4sixY55HQAnIBTF23/KSAgQLVr19ahQ4cUEhKi9PR0JSYm5hkTFxenkL+694eEhCguLu6Kx3Meu9YYPz8/eXl5XTWLh4eH/Pz88twAAAAAlADHjknly9tsuqws6ehR+tkCRYLFojOdHtSRR16T/5+/qtljLVX68E67n9bHR2rXztoiwUELfAGYrEgVbVNSUnT48GFVqFBBzZs3V6lSpbR27drcx/fv36/o6GhFRERIkiIiIvTnn3/qzJkzuWPWrFkjPz8/1a9fP3fM3+fIGZMzBwAAAADkSkmRYmOlSpVsNuWpU9LlNCk01GZTArCzC/Vu0YGx8yRJzR5vpQrffiAZhl3Peddd1n8z+uknu54GgJNw6qLt008/rV9++UXHjh3Txo0bdffdd8vV1VX9+/eXv7+/hg0bpnHjxunnn3/W1q1bNXToUEVEROjWW2+VJHXu3Fn169fXwIEDtWPHDn3//fd6/vnnNWrUKHl4eEiSHnvsMR05ckTPPPOM9u3bp/fee0///e9/9eSTT5r50gEAAAA4o0OHrEcbLos9fNh6pGgLFC3p5Srq4L/eVUKzO1Rn1iOq++oguV68YLfzNWwoVasmLVhgt1MAcCJO3eb+5MmT6t+/v86fP69y5cqpbdu2+v3331Xur6b/b775plxcXHTvvfcqLS1NXbp00XvvvZf7fFdXV61cuVIjR45URESESpcurcGDB+vFF1/MHVOtWjV9++23evLJJ/X222+rUqVK+uCDD9SlSxeHv14AAAAATu7gQevRhittDx+W/P0kX1+bTQnAQQx3D53s97RSa4ar0rK35LcnUnumfK6UOs1tfq6cDcn+/W8pLs7mrbUBOBmnLtouXbr0mo97enpq7ty5mjt37lXHVKlSRatWrbrmPB06dND27dsLlREAAABACXLwoOTvL9lwT4vDh1llCxR1Cc3vVGrleqr6yctqNjpCR4e/qhN9x0kutv0F5zvvtPa1/egj6ZlnbDo1ACfj1O0RAAAAAMCpHDxo8wrroUNShQo2nRKACdLLVdLBf72jc7fdoxrzx6vxM13kfv60Tc/h72/dkGzBAru30AVgMoq2AAAAAHCjDhywaT/bCxekM2dtOiUAExlupXSq12M69Njr8j24XS0fbqTA36/9278Fdddd1hX669bZdFoAToaiLQAAAADcqIMHbd7PVqI9AlDcpNRpoX3jP9DFSrXVeFIP1XjvKVky0m0yd+PGUuXK0vz5NpkOgJOiaAsAAAAANyI5WTpr22Wxhw9Lbq5S+fI2mxKAk8jyCdDR4a8opvfjqrh8jpqNjpDn6aM3Pa/FIvXsKS1fLsXG2iAoAKdE0RYAAAAAbsTBg9ajDVfaHjli7Wfr6mqzKQE4E4tFZzv01cEx78r9fKyaj2hmk3YJXbtKbm7WTckAFE8UbQEAAADgRtihaLt/P60RgJLgUlgdHRg3Xxcr11OjZ+9S1cXTpOzsQs/n4yPdcYe1RUJmpu1yAnAeFG0BAAAA4EYcPCgFBFirJTaQliYdPWrtTQmg+Mvy9tXRYS8rtutQVfn4RdV/oZ9cLl8s9Hy9ekmnTknffGPDkACcBkVbAAAAALgRNt6E7NAhKStbCguz2ZQAnJ2Li+I6D9SxoS+q7O8r1WRMO7mfO1WoqWrXlho0kObOtXFGAE6Boi0AAAAA3IgDB2zay2DfPusmZLRHAEqepEZtdeiJOfI8c0LNRt0qr5MHCzVP797S2rXWVisAiheKtgAAAABwI2y80nbfPut0bm42mxJAEXKpUi0dHPOuZHFR0yfayOdQVIHnaN9eKlNGmjPH9vkAmIuiLQAAAABcT0KCFB8vVaxosyn37qU1AlDSZQSU08HRbyvDr6yajGkvv10bC/R8d3frattFi6xfogAUHxRtAQAAAOB6Dv71q8s2WmmbkiKdjKFoC0DK8vHX4ZGzdalCNTWe0E2++zYX6Pm9e0tZWdL8+XYKCMAUFG0BAAAA4HpsXLTN6T9ZpYpNpgNQxGV7euvo8Fd1uXxlNX66s3wObr/h5wYESHfeaW2RkJZmv4wAHIuiLQAAAABcz8GDUtmykre3Tabbt0/y8pTKlbPJdACKgWxPbx0ZMV3pZSso/OlO8j6+94af27evFBcnLV1qx4AAHIqiLQAAAABcz4EDNu1nm7MJmQs/kQH4m2wvHx15dIYyS/ur8YSuco+PvaHnVaki3XqrNHu2ZBh2DgnAIfiIAAAAAADXs2OHVLWqzabbt49+tgDyl+XtqyOPTJfL5UtqNLG7XC+l3NDz+vaV/vxT+u47OwcE4BAUbQEAAADgWtLSrE1oa9SwyXTnz0tnz0mVK9tkOgDFUEaZYB155FV5nzig+tP6ypKVed3nNG0qNWwovfACq22B4oCiLQAAAABcy9691q3ZbVS03bfPeqRoC+BaLlesqWODpypw8w+q9v6k6463WKRBg6Q//pB++MEBAQHYFUVbAAAAALiWHTusx2rVbDLd3r2Sn69UpoxNpgNQjF2o21Kneo9U5c9nqfyaT687vkULqUEDado0VtsCRR1FWwAAAAC4lp07rZuQeXvbZLqoKKl6deuqOAC4nrPt7tX5ll1UZ9Zw+e7fcs2xOattf/9d+vFHBwUEYBcUbQEAAADgWnbssFZZbSAtzdoewUadFgCUBBaLTvYdp8sVqqnB5LvllnT+msNbtpTq1ZOmTmW1LVCUUbQFAAAAgKsxDJsWbffskTKzbDYdgBLCKOWuY4Onyu3iBdV79SEpO/uqYy0W6eGHpchIacUKx2UEYFsUbQEAAADgauLipHPnbFZl3bFDKu0tVahgk+kAlCAZZYJ1fMCzCtz8vSovee2aY1u0kG65RRo/XkpPd1BAADZF0RYAAAAArmbnTuvRRv0MchbtuvCTGIBCuFDvFsV1ekjVFk1WQNS6a4597DHp6FFp3jzHZANgW3xUAAAAAICr2blT8vKyydLYjAxrewRaIwC4GbFdByulRrjqvdRfpRLPXnVctWpSt27SCy9ICQkODAjAJijaAgAAAMDV2HBp7P79Ulo6m5ABuEkurjo+4Fm5ZKSp7vRB1+xv+/DD0uXL0osvOjAfAJugaAsAAAAAV2PDTch27JC8PKWKFW0yHYASLNM/SNH9J6jsH6tV6Yu3rjouMFAaOFCaM0fats1x+QDcPIq2AAAAAJCf9HRp3z6bFm2rVpVcXW0yHYAS7kK9VjrTsZ+qvz9Rvvs2X3Vc377WVgnDh0uZmQ4MCOCmULQFAAAAgPzs22dtRGuDfgZZWdKff9IaAYBtne4+TJdCa6r+iw/INTU53zFubtJTT0lRUdYVtwCKBoq2AAAAAJCfHTusx2rVbnqqAwekS5cp2gKwLcOtlI4PfE7uCXGq9daoq46rV0/q00eaPFk6dsxh8QDcBIq2AAAAAJCfyEipShXJx+emp9q0ydrPtnJlG+QCgL9JD6qok/eNUciP/1HwD59cddzw4ZKvr7XHbVaWAwMCKBSKtgAAAACQn19/lRo2tMlUkZFS3br0swVgHwnN79T5ll1U+82R8jpxIN8x3t7SpEnShg3Sa685OCCAAqNoCwAAAAD/lJgo7d5tk6JtfLy0/4BUv/7NxwKAq4m5d4wy/Mqq/gv3yyX9cr5jwsOlAQOkqVOtvwEAwHlRtAUAAACAf4qMlAxDatTopqfatEmyyNpTEgDsJdvDS8cHTVbp43tVY97TVx03eLBUp47Uv7+UlOTAgAAKhKItAAAAAPzTb79JgYFSaOhNTxUZKVWtapPWuABwTZcq1lRM75GquGKugtYvz3eMm5v07LPS2bPSQw9J2dkODgnghlC0BQAAAIB/yulna7Hc1DQZGdLmzbRGAOA459v0VkJ4e9Wd+bC8Yg7lO6ZiRWvh9ttvpRdecHBAADeEoi0AAAAA/F16urXSaoN+tjt3SpcuU7QF4EAWi070e1qZ3n5qMOUeuVy+mO+wiAjp4YelF1+UvvrKwRkBXBdFWwAAAAD4u23bpMuXbVK0jYyUygTYpMsCANywbC8fHRsyTV4nD6r2W49be3TnY8AAqX17a5uEP/5wcEgA10TRFgAAAAD+7rffJE9PqVatm5rGMKxF27p1b7rLAgAU2OXQ6jp535MK+f4jhX7z73zHWCzSxIlS9epS9+7SgQMODgngqijaAgAAAMDfbdgg1atn3a3nJhw6JMWckho1slEuACighJaddbZtH9Wc84QCotblO8bTU3r5ZcnXV7rzTunUKcdmBJA/irYAAAAAkMMw/n8Tspv0ww+Sn69Up44NcgFAIcX0GaXU6o3VYMo98jx1JN8x/v7SjBnWzjCdOklxcQ4OCeAKFG0BAAAAIMfevdL58zddtM3Kkn78UWraVHJ1tVE2ACgMVzcdGzxVWZ6l1ejZu+SakpTvsPLlpddfl86elTp0kGJjHRsTQF4UbQEAAAAgxzffWH9XuHHjm5pmyxYpIVFq0cI2sQDgZmSV9tPRYa/I4+xJNXy+t1zSL+c7rnJl6Y03rP921b49rRIAM1G0BQAAAIAc//uf1Ly5tXB7E77/XqoQIlWqZKNcAHCT0oIr6+jDL8t/z++q98pD1l8JyEdYmLVwm5goRURI+/Y5NicAK4q2AAAAACBZmzj+/rvUps1NTZOSIv32m3WVrcVio2wAYAOpNRrr2KDJCvr1K9WaM9raxzsflSpJ77xjbe/SurW0caODgwKgaAsAAAAAkqRvv7UeIyJuapr166WMDOuCXQBwNskN2+hEv6dU8ev5qvnOv65auC1fXnr7bWvLhDvukD77zMFBgRKOoi0AAAAASNbWCA0bSgEBNzXNqlVS7do3PQ0A2E18q+460XecKn31rmq/OVLKzs53nK+vNHOm1K6d9OCD0oQJV+2qAMDG3MwOAAAAAACmu3hRWrNGGjTopqbZvVvatVsa9rCNcgGAnZxv3VOGq5vCPn9dLumXtf/p92W4lbpinLu7NHGiVLOmNGuWtH279OmnUrlyJoQGShBW2gIAAADAjz9Kly7ddD/bJUukkGCpQQMb5QIAO4pv1U3HBzyr8j9+qsbPdJVbSmK+4ywWqW9f66rbzZulJk2kX391aFSgxKFoCwAAAAD/+5+1cWNYWKGnOH5c2rBR6tBBcuEnLQBFRGLzTjr82Ovy3b9FTUdFyPPUkauObd5cWrDAusq2Y0fp5ZdplwDYCx8lAAAAAJRsaWnWom3r1jc1zdKlUoA/G5ABKHpSazbRwTHvyPVSilqMaKZyv3xx1bHlykmzZ1t73E6dau13e/SoA8MCJQRFWwAAAAAl2/Ll0vnzUrduhZ7i7FlrS9x27aRSV7aEBACnl1a+sg48OU8XajZVg2l9VevNkXK5fDHfsa6u0sMPS2+9ZS3YhodLCxdKhuHYzEBxRtEWAAAAQMk2d67UrJm1PUIhLVliLdZGRNgwFwA4WLaXj44PnqITfcepwneL1HJoA5X54/urjm/USHr/faltW2nYMKl7d+nkSQcGBooxirYAAAAASq6dO6UNG6RevQo9xaFD1u4Kd94peXnZMBsAmMFi0fnWPbVv/AfK9A1U+ISuqvdif3nERec7vHRp6ZlnpFdflbZskRo2lD74gFW3wM2iaAsAAACg5Jo3z9qgsU2bQj3dMKS335bKl7e2RgCA4iK9XCUdHjlLxx+cqMAtP6jVwNqq8d5Tcks6n+/4iAhri4SICOmRR6ybMh444NjMQHFC0RYAAABAyZSUJH3yidSjh+TmVqgpfvxR+nOXdPfdhZ4CAJyXxaKEll2097n/KO6O/gr9er5u7V9VNd57Sh5nr+yD4OsrTZggzZolHT4sNW5s3azs0iUTsgNFHEVbAAAAACXTJ59Ily9bi7aFkJJiXajbJFyqU8fG2QDAiWR7eCmuy2Dtef5TnWvbRxW+fV+tHqyueq88JL8/N1zRC6F5c2uLhL59rW0T6te3tpGhZQJw4yjaAgAAACh5UlOl116z9jQICirw0w1Dev116+qx3r3tkA8AnFCWT4Biuw/TnslLdbrHcPlHrVOzf7VVi+HhqvjF2yqVeDZ3rKendXOyhQutX2b79JFuv13avt28/EBRQtEWAAAAQMnz+uvSmTPS8OGFevoXX0i/rJceeEAqU8bG2QDAyWV7eutsh/u1b9LHOvzoTGX6lFGN+U8r4r5QNXyut8r9/F+5XL4oSQoLk2bOtK64PXbMugr3wQelffvMfQ2As6PrEgAAAICS5cQJawXhvvuk0NACP33nTmn+fOn2jlJ4uB3yAUBR4eKiC3Vb6kLdlnJNSVKZbWtVZuuPavBiP2V6+eh8m94607Gf4lt0VkSEh265Rfr2W2nJEmnpUus/fD3zjNSkidkvBHA+FG0hSdq7d69N5gkKClLlypVtMhcAAABgFxMmSF5e0oABBX5qTIw0bZpUrVqhW+ECQLGU5eOvc+3u0bl298j9bIzKbP9JAVHrFPzjp8r09tO5Nr11tv196tO1s7p29dTq1dJnn1lv7dpJY8ZIPXtKpUqZ/UoA50DRtoRLT0yXLNJDDz1kk/k8vTy1f99+CrcAAABwTr/+aq0QPP20VLp0gZ568qQ0dqy1oDBokOTqap+IAFDUpZerqLjOAxXXeaA8Yo+pTNQ6+e9cr5A1nyjTy0fxt/ZQxXb3qtf73bRui4+WL5fuvdfa+/ahh6SBA6WmTSWLxexXApiHom0Jl3kxUzKkqoOqqmz1sjc118VTF7V3wV6dO3eOoi0AAACcz+nTUr9+UsOGUteuBXpqdLS1YOvuLj3+uOTnZ5+IAFDcpIVUVWzXIYrtOkQecccVsGO9/P/8TeV//lzZpTzUsHknPdDlbm0d2lP/iyyvjz+W3npLqlLFWsjt1UuKiLB+/QVKEoq2kCR5hXjJt6qv2TEAAAAA+0hLk+65R8rMtPY3KMAy2U2bpFdekby9KdgCwM1IC66SuwLX/dwp+f/5m/x3b1Sd2Y+ojqSedW/Rmd69tLFMD315sLE++siiN96QfH2l22+XOnWSOnSQGjRgFS6KP4q2AAAAAIo3w7BWW7dtsy7fKntjv2GWlSV9+KG05DOpQX2pf3/Jx8e+UQGgpEgPCtXZjvfrbMf75XYhQX57fpff7khVW/KyaqY9p36BIYpv0UV7Kt6pVZc6au3eUD35pPXf3oKCpLZtpTZtrLemTSVPT7NfEWBbFG0BAAAAFF+ZmdITT0gLF1o3IKtX74aeFhUlvfuudPSo1PMuqWNHycXFvlEBoKTK9C2j+FbdFN+qmyyZ6Sp95E/57dusgD9/1R0/fKQ7JF2sVFvn77hNe/xb66fLrfXjsdpavdpFly9Lbm5S48bSLbdIzZpZbw0aUMhF0UbRFgAAAEDxlJQk9e0r/fyzdeOxG+hje+iQ9PHH0vpfpapVpH/9y9pXEQDgGIabu1JqN1dK7eZSr8fkdiFBPoei5HMoSmV3/aLOpxaqi2Eo08tHF2o20clyTbXX0kCRFxrq1+/qaMG/yyrbsMjFRapZU2rUSKpbV6pTx3qrUUMKDKS9ApwfRdt/mDt3rl5//XXFxsYqPDxc77zzjm655RazYwEAAKCIKujny2XLlmny5Mk6duyYatWqpRkzZqh79+65jxuGoalTp+r9999XYmKi2rRpo3nz5qlWrVqOeDlFx48/SqNGWTcfmzHDuuzqKi5fliIjpeXLpT93SYFlpIcGWJ/C6loAMFembxklNu2oxKYdJUkul1PlHb1P3icOyOvkAdXa87Uanpmr+41sSVJGaX8llK2lGK8aOmZU1b4/qmj3mkr6NrmSYlRR5xQkXz8XVasmVatm/Ye5ypWlsLD/PwYHF6j1OWAXFG3/5vPPP9e4ceM0f/58tWrVSm+99Za6dOmi/fv3q3z58mbHAwAAQBFT0M+XGzduVP/+/TV9+nTdddddWrJkifr06aNt27apYcOGkqSZM2dqzpw5+uijj1StWjVNnjxZXbp00Z49e+TJ74FK+/ZZ2yB8/bV1edW771p/Cv8bw7DWcnfulDZskP74Q0pLl2pUl4YMtj6NH9YBwDlle5b+/5W4f7FkpMvjTLQ8zp603s7FqGb8AdVP+FW9E8/IJSszd2yWSyklZYXo7PEKij1eQScyK+jo5Qr6IbOCTst6O+MaKrfQ8qpY2TW3qPvPm7+/Ga8eJYnFMAzD7BDOolWrVmrZsqXeffddSVJ2drbCwsL0xBNPaOLEidd8bnJysvz9/ZWUlCQ/B2wnu23bNjVv3lzNpzWXb1XfQs8TtzFOexfsVb1n6im4fvBNZbpw7IK2TtuqrVu3qtk1VjIAAADYmqM/i92ogn6+7Nevn1JTU7Vy5crc+2699VY1adJE8+fPl2EYCg0N1VNPPaWnn35akpSUlKTg4GAtXrxYDzzwwHUzOeu1uinnzlmLtB9+KG3caF0iNWKE1LGjsrItio2Vjh+XDh+2tj/YvVs6d9761KpVrEXaRo0k1mkAQDGUnSW3C4kqlXRW7oln5ZZ8XqX+urklx6vUhXiVSo6X24V4Wf5WIsuWixLdy+mMSwWdNEIVnV5BMUYFxSpEsQrRBe8QuYWWV+lq5VW2mp8qhVkUFiZVqiRVrGg9snkl8nOjn8VYafuX9PR0bd26VZMmTcq9z8XFRZ06dVJkZKSJyYqevXv33vQcaWlp8vDwsEEaKSgoSJX/sboCAADA3grz+TIyMlLjxo3Lc1+XLl20YsUKSdLRo0cVGxurTp065T7u7++vVq1aKTIy8oaKtkVaZqYUFycdPGhdUbtzp7J//kUu+/bIsFgUX72FDt45Wdu82+rkj+469bF06pSUnmF9uk9pKTTUullNjRrWX4v19jb3JQEA7MzFVZn+ZZXpX1aXKte9+risLLmlJFgLukn/X9QNSj6vkAvxikg+Ktek8yp1IV6u2ZnSRUmHrLd0uSveEqizRpDOK1B7FaiNKqNLpfxl+PrJpYyf3AN95RnkI+/yPvIO8pZfiLd8g73lV95T/iFe8ivvKRdvT+vuae7uNN0FRdsc586dU1ZWloKD8642DQ4O1r59+64Yn5aWprS0tNw/JyUlSbJWyx0hJSVFknV1a9blrELPk3o61XqMTlWiS+JNZUo+bH3tDz300E3NY2vuHu76zyf/ueK9LSgXFxdlZ2fbJJMzzkUmx85jy7nI5Nh5bDkXmRw7jy3nItONCQkJUUhIiA0SXV/OZzBn+iWygn6+lKTY2Nh8x8fGxuY+nnPf1cb8k9mfW5WUJI0bJ61cae1LYBhSdraysgxZjCzZomXsMYVppxGu84cDpcPHJR1XsKRgSRHuUukykndpyctDUrakaOst6WcpyQbnBwAUZ2Wst1I1pCBJQYY8MlPlkxYvz/QkeWckySstUV4Z51RFscqzd2WGpPi/boevfZYUO6UvCbJkkSGLsuUi46//NmQtev/zv/dYGmqMx3wdd60h6f9r423bWjsqlStn/7w3+rmVom0hTZ8+XS+88MIV94eFhTk0x4HFB2wyT/TSaEUr2iZzOZv0tHTdf//9ZscAAAAOcOHCBfnTZC4PZ/ncal8n/rrlI/2vW4ID4wAAAAcy/rrdwKID4w/p8pUtPVevlmrWtHmwa7re51aKtn8JCgqSq6ur4uLi8twfFxeX7wqRSZMm5fnVtezsbMXHx6ts2bKyOGAJe3JyssLCwnTixIni04vMgbh+hce1uzlcv5vD9bs5XL/C49rdHEdcP8MwdOHCBYWGhtpl/sIo6OdLybo6+Vrjc45xcXGqUKFCnjFNmjTJd87rfW7l73fRxvtXdPHeFW28f0UX713RVhzevxv93ErR9i/u7u5q3ry51q5dqz59+kiyfqBdu3atRo8efcV4Dw+PK3quBgQEOCBpXn5+fkX2L6kz4PoVHtfu5nD9bg7X7+Zw/QqPa3dz7H39nG2FbUE/X0pSRESE1q5dq7Fjx+bet2bNGkVEREiSqlWrppCQEK1duza3SJucnKxNmzZp5MiR+c55o59b+ftdtPH+FV28d0Ub71/RxXtXtBX19+9GPrdStP2bcePGafDgwWrRooVuueUWvfXWW0pNTdXQoUPNjgYAAIAi6HqfLwcNGqSKFStq+vTpkqQxY8aoffv2mj17tnr06KGlS5dqy5YtWrBggSTJYrFo7Nixevnll1WrVi1Vq1ZNkydPVmhoaG5hGAAAAEUfRdu/6devn86ePaspU6YoNjZWTZo00erVq296AysAAACUTNf7fBkdHS0Xl//fiqt169ZasmSJnn/+eT377LOqVauWVqxYoYYNG+aOeeaZZ5SamqoRI0YoMTFRbdu21erVq+Xp6enw1wcAAAD7oGj7D6NHj77qr6s5Ew8PD02dOvWKX3XDjeH6FR7X7uZw/W4O1+/mcP0Kj2t3c0r69bvW58t169ZdcV/fvn3Vt2/fq85nsVj04osv6sUXX7RJvpL+/hR1vH9FF+9d0cb7V3Tx3hVtJen9sxiGYZgdAgAAAAAAAABg5XL9IQAAAAAAAAAAR6FoCwAAAAAAAABOhKItAAAAAAAAADgRirZObO7cuapatao8PT3VqlUr/fHHH9ccv2zZMtWtW1eenp5q1KiRVq1a5aCkzqkg1+/999/XbbfdpjJlyqhMmTLq1KnTda93cVbQv3s5li5dKovFoj59+tg3oJMr6PVLTEzUqFGjVKFCBXl4eKh27dol+v/fgl6/t956S3Xq1JGXl5fCwsL05JNP6vLlyw5K6zzWr1+vnj17KjQ0VBaLRStWrLjuc9atW6dmzZrJw8NDNWvW1OLFi+2e01kV9PotX75cd955p8qVKyc/Pz9FRETo+++/d0xYJ1SYv385NmzYIDc3NzVp0sRu+XBthf2+D8eZPn26WrZsKV9fX5UvX159+vTR/v3784y5fPmyRo0apbJly8rHx0f33nuv4uLiTEqMq3nttddksVg0duzY3Pt475xbTEyMHnroIZUtW1ZeXl5q1KiRtmzZkvu4YRiaMmWKKlSoIC8vL3Xq1EkHDx40MTFyZGVlafLkyapWrZq8vLxUo0YNvfTSS/r71k68f87hep8lb+R9io+P14ABA+Tn56eAgAANGzZMKSkpDnwVtkfR1kl9/vnnGjdunKZOnapt27YpPDxcXbp00ZkzZ/Idv3HjRvXv31/Dhg3T9u3b1adPH/Xp00e7du1ycHLnUNDrt27dOvXv318///yzIiMjFRYWps6dOysmJsbByc1X0GuX49ixY3r66ad12223OSipcyro9UtPT9edd96pY8eO6YsvvtD+/fv1/vvvq2LFig5O7hwKev2WLFmiiRMnaurUqdq7d68+/PBDff7553r22WcdnNx8qampCg8P19y5c29o/NGjR9WjRw917NhRUVFRGjt2rIYPH15iC48FvX7r16/XnXfeqVWrVmnr1q3q2LGjevbsqe3bt9s5qXMq6PXLkZiYqEGDBumOO+6wUzJcT2G/78OxfvnlF40aNUq///671qxZo4yMDHXu3Fmpqam5Y5588kl98803WrZsmX755RedOnVK99xzj4mp8U+bN2/Wv//9bzVu3DjP/bx3zishIUFt2rRRqVKl9N1332nPnj2aPXu2ypQpkztm5syZmjNnjubPn69NmzapdOnS6tKlS4lcROBsZsyYoXnz5undd9/V3r17NWPGDM2cOVPvvPNO7hjeP+dwvc+SN/I+DRgwQLt379aaNWu0cuVKrV+/XiNGjHDUS7APA07plltuMUaNGpX756ysLCM0NNSYPn16vuPvv/9+o0ePHnnua9WqlfHoo4/aNaezKuj1+6fMzEzD19fX+Oijj+wV0WkV5tplZmYarVu3Nj744ANj8ODBRu/evR2Q1DkV9PrNmzfPqF69upGenu6oiE6toNdv1KhRxu23357nvnHjxhlt2rSxa05nJ8n46quvrjnmmWeeMRo0aJDnvn79+hldunSxY7Ki4UauX37q169vvPDCC7YPVMQU5Pr169fPeP75542pU6ca4eHhds2F/N3sZyaY48yZM4Yk45dffjEMwzASExONUqVKGcuWLcsds3fvXkOSERkZaVZM/M2FCxeMWrVqGWvWrDHat29vjBkzxjAM3jtnN2HCBKNt27ZXfTw7O9sICQkxXn/99dz7EhMTDQ8PD+Ozzz5zRERcQ48ePYyHH344z3333HOPMWDAAMMweP+c1T8/S97I+7Rnzx5DkrF58+bcMd99951hsViMmJgYh2W3NVbaOqH09HRt3bpVnTp1yr3PxcVFnTp1UmRkZL7PiYyMzDNekrp06XLV8cVZYa7fP128eFEZGRkKDAy0V0ynVNhr9+KLL6p8+fIaNmyYI2I6rcJcv6+//loREREaNWqUgoOD1bBhQ7366qvKyspyVGynUZjr17p1a23dujX3V3mPHDmiVatWqXv37g7JXJTxfcO2srOzdeHChRL3feNmLFq0SEeOHNHUqVPNjlJi2eIzE8yRlJQkSblfc7Zu3aqMjIw872XdunVVuXJl3ksnMWrUKPXo0eOK7728d87t66+/VosWLdS3b1+VL19eTZs21fvvv5/7+NGjRxUbG5vn/fP391erVq14/5xA69attXbtWh04cECStGPHDv3222/q1q2bJN6/ouJG3qfIyEgFBASoRYsWuWM6deokFxcXbdq0yeGZbcXN7AC40rlz55SVlaXg4OA89wcHB2vfvn35Pic2Njbf8bGxsXbL6awKc/3+acKECQoNDb3iQ1VxV5hr99tvv+nDDz9UVFSUAxI6t8JcvyNHjuinn37SgAEDtGrVKh06dEiPP/64MjIySlwhozDX78EHH9S5c+fUtm1bGYahzMxMPfbYYyWyPUJBXe37RnJysi5duiQvLy+TkhVNs2bNUkpKiu6//36zoxQJBw8e1MSJE/Xrr7/KzY2Po2axxWcmOF52drbGjh2rNm3aqGHDhpKsX9Pd3d0VEBCQZ2xJ/XnA2SxdulTbtm3T5s2br3iM9865HTlyRPPmzdO4ceP07LPPavPmzfrXv/4ld3d3DR48OPc94mdx5zRx4kQlJyerbt26cnV1VVZWll555RUNGDBAknj/iogbeZ9iY2NVvnz5PI+7ubkpMDCwSL+XfEoG/uG1117T0qVLtW7dOnl6epodx6lduHBBAwcO1Pvvv6+goCCz4xRJ2dnZKl++vBYsWCBXV1c1b95cMTExev3110tc0bYw1q1bp1dffVXvvfeeWrVqpUOHDmnMmDF66aWXNHnyZLPjoYRYsmSJXnjhBf3vf/+74sMirpSVlaUHH3xQL7zwgmrXrm12HKDIGTVqlHbt2qXffvvN7Ci4ASdOnNCYMWO0Zs0afrYogrKzs9WiRQu9+uqrkqSmTZtq165dmj9/vgYPHmxyOlzPf//7X3366adasmSJGjRokLuPQ2hoKO8figSKtk4oKChIrq6uV+wYGhcXp5CQkHyfExISUqDxxVlhrl+OWbNm6bXXXtOPP/54xQYBJUFBr93hw4d17Ngx9ezZM/e+7OxsSdZ/1dq/f79q1Khh39BOpDB/9ypUqKBSpUrJ1dU197569eopNjZW6enpcnd3t2tmZ1KY6zd58mQNHDhQw4cPlyQ1atRIqampGjFihJ577jm5uNAF6Gqu9n3Dz8+PVbYFsHTpUg0fPlzLli0rcb+dUVgXLlzQli1btH37do0ePVqS9XuHYRhyc3PTDz/8oNtvv93klCXDzXxmgjlGjx6du7lKpUqVcu8PCQlRenq6EhMT86zY5L0039atW3XmzBk1a9Ys976srCytX79e7777rr7//nveOydWoUIF1a9fP8999erV05dffilJue9RXFycKlSokDsmLi5OTZo0cVhO5G/8+PGaOHGiHnjgAUnWnxWOHz+u6dOna/Dgwbx/RcSNvE8hISFXbKKamZmp+Pj4Iv21lJ9mnZC7u7uaN2+utWvX5t6XnZ2ttWvXKiIiIt/nRERE5BkvSWvWrLnq+OKsMNdPsu5G+NJLL2n16tV5+qCUJAW9dnXr1tWff/6pqKio3FuvXr1yd6MPCwtzZHzTFebvXps2bXTo0KHcYrckHThwQBUqVChRBVupcNfv4sWLVxRmcwrghmHYL2wxwPeNm/fZZ59p6NCh+uyzz9SjRw+z4xQZfn5+V3zveOyxx1SnTh1FRUWpVatWZkcsMQr7mQmOZxiGRo8era+++ko//fSTqlWrlufx5s2bq1SpUnney/379ys6Opr30mR33HHHFV/zWrRooQEDBuT+N++d82rTpo3279+f574DBw6oSpUqkqRq1aopJCQkz/uXnJysTZs28f45gav9rJDzsxfvX9FwI+9TRESEEhMTtXXr1twxP/30k7Kzs4v2Z0tz90HD1SxdutTw8PAwFi9ebOzZs8cYMWKEERAQYMTGxhqGYRgDBw40Jk6cmDt+w4YNhpubmzFr1ixj7969xtSpU41SpUoZf/75p1kvwVQFvX6vvfaa4e7ubnzxxRfG6dOnc28XLlww6yWYpqDX7p8GDx5s9O7d20FpnU9Br190dLTh6+trjB492ti/f7+xcuVKo3z58sbLL79s1kswVUGv39SpUw1fX1/js88+M44cOWL88MMPRo0aNYz777/frJdgmgsXLhjbt283tm/fbkgy3njjDWP79u3G8ePHDcMwjIkTJxoDBw7MHX/kyBHD29vbGD9+vLF3715j7ty5hqurq7F69WqzXoKpCnr9Pv30U8PNzc2YO3dunu8biYmJZr0EUxX0+v3T1KlTjfDwcAelxd9d7+sunMPIkSMNf39/Y926dXm+5ly8eDF3zGOPPWZUrlzZ+Omnn4wtW7YYERERRkREhImpcTXt27c3xowZk/tn3jvn9ccffxhubm7GK6+8Yhw8eND49NNPDW9vb+M///lP7pjXXnvNCAgIMP73v/8ZO3fuNHr37m1Uq1bNuHTpkonJYRjWn00rVqxorFy50jh69KixfPlyIygoyHjmmWdyx/D+OYfrfZa8kfepa9euRtOmTY1NmzYZv/32m1GrVi2jf//+Zr0km6Bo68Teeecdo3Llyoa7u7txyy23GL///nvuY+3btzcGDx6cZ/x///tfo3bt2oa7u7vRoEED49tvv3VwYudSkOtXpUoVQ9IVt6lTpzo+uBMo6N+9vyvpRVvDKPj127hxo9GqVSvDw8PDqF69uvHKK68YmZmZDk7tPApy/TIyMoxp06YZNWrUMDw9PY2wsDDj8ccfNxISEhwf3GQ///xzvl/Hcq7X4MGDjfbt21/xnCZNmhju7u5G9erVjUWLFjk8t7Mo6PVr3779NceXNIX5+/d3FG3Nda2vu3AO+f3/JSnP1+1Lly4Zjz/+uFGmTBnD29vbuPvuu43Tp0+bFxpX9c+iLe+dc/vmm2+Mhg0bGh4eHkbdunWNBQsW5Hk8OzvbmDx5shEcHGx4eHgYd9xxh7F//36T0uLvkpOTjTFjxhiVK1c2PD09jerVqxvPPfeckZaWljuG9885XO+z5I28T+fPnzf69+9v+Pj4GH5+fsbQoUOL/EI8i2Hw+6MAAAAAAAAA4CzoaQsAAAAAAAAAToSiLQAAAAAAAAA4EYq2AAAAAAAAAOBEKNoCAAAAAAAAgBOhaAsAAAAAAAAAToSiLQAAAAAAAAA4EYq2AAAAAAAAAOBEKNoCAAAAAAAAgBOhaAsAJli8eLECAgJuep5jx47JYrEoKirqpucqjtatWyeLxaLExESzowAl3vr169WzZ0+FhobKYrFoxYoVBZ7DMAzNmjVLtWvXloeHhypWrKhXXnnF9mEBAE6nsN87/m7atGlq0qSJTfIAgL1RtAWAAjp79qxGjhypypUry8PDQyEhIerSpYs2bNjg8CxhYWE6ffq0GjZs6PBzA0BBpKamKjw8XHPnzi30HGPGjNEHH3ygWbNmad++ffr66691yy232DAlAMARhgwZIovFcsWta9euZkcDAKfhZnYAAChq7r33XqWnp+ujjz5S9erVFRcXp7Vr1+r8+fMOzZGeni53d3eFhIQ49LwAUBjdunVTt27drvp4WlqannvuOX322WdKTExUw4YNNWPGDHXo0EGStHfvXs2bN0+7du1SnTp1JEnVqlVzRHQAgB107dpVixYtynOfh4eHSWkAwPmw0hYACiAxMVG//vqrZsyYoY4dO6pKlSq65ZZbNGnSJPXq1St33BtvvKFGjRqpdOnSCgsL0+OPP66UlJSrznv48GH17t1bwcHB8vHxUcuWLfXjjz/mGVO1alW99NJLGjRokPz8/DRixIh82yP88ssvuuWWW+Th4aEKFSpo4sSJyszMvOq5jx8/rp49e6pMmTIqXbq0GjRooFWrVuU+vmvXLnXr1k0+Pj4KDg7WwIEDde7cudzHO3TooCeeeEJjx45VmTJlFBwcrPfff1+pqakaOnSofH19VbNmTX333Xe5z8nKytKwYcNUrVo1eXl5qU6dOnr77bfz5BoyZIj69OmjWbNmqUKFCipbtqxGjRqljIyM3DGffPKJWrRoIV9fX4WEhOjBBx/UmTNnrvpaATiv0aNHKzIyUkuXLtXOnTvVt29fde3aVQcPHpQkffPNN6pevbpWrlypatWqqWrVqho+fLji4+NNTg4AKIyc31j7+61MmTKSpIMHD6pdu3by9PRU/fr1tWbNmiueP2HCBNWuXVve3t6qXr26Jk+enOdzoiS99tprCg4Olq+vr4YNG6bLly875LUBgC1QtAWAAvDx8ZGPj49WrFihtLS0q45zcXHRnDlztHv3bn300Uf66aef9Mwzz1x1fEpKirp37661a9dq+/bt6tq1q3r27Kno6Og842bNmqXw8HBt375dkydPvmKemJgYde/eXS1bttSOHTs0b948ffjhh3r55Zeveu5Ro0YpLS1N69ev159//qkZM2bIx8dHkrVIffvtt6tp06basmWLVq9erbi4ON1///155vjoo48UFBSkP/74Q0888YRGjhypvn37qnXr1tq2bZs6d+6sgQMH6uLFi5Kk7OxsVapUScuWLdOePXs0ZcoUPfvss/rvf/+bZ96ff/5Zhw8f1s8//6yPPvpIixcv1uLFi3Mfz8jI0EsvvaQdO3ZoxYoVOnbsmIYMGXLV1wrAOUVHR2vRokVatmyZbrvtNtWoUUNPP/202rZtm7sK68iRIzp+/LiWLVumjz/+WIsXL9bWrVt13333mZweAGBL2dnZuueee+Tu7q5NmzZp/vz5mjBhwhXjfH19tXjxYu3Zs0dvv/223n//fb355pu5j//3v//VtGnT9Oqrr2rLli2qUKGC3nvvPUe+FAC4OQYAoEC++OILo0yZMoanp6fRunVrY9KkScaOHTuu+Zxly5YZZcuWzf3zokWLDH9//2s+p0GDBsY777yT++cqVaoYffr0yTPm6NGjhiRj+/bthmEYxrPPPmvUqVPHyM7Ozh0zd+5cw8fHx8jKysr3PI0aNTKmTZuW72MvvfSS0blz5zz3nThxwpBk7N+/3zAMw2jfvr3Rtm3b3MczMzON0qVLGwMHDsy97/Tp04YkIzIy8qqvd9SoUca9996b++fBgwcbVapUMTIzM3Pv69u3r9GvX7+rzrF582ZDknHhwgXDMAzj559/NiQZCQkJV30OAMeTZHz11Ve5f165cqUhyShdunSem5ubm3H//fcbhmEYjzzySJ6vPYZhGFu3bjUkGfv27XP0SwAA3ITBgwcbrq6uV3zdf+WVV4zvv//ecHNzM2JiYnLHf/fdd1d87/in119/3WjevHnunyMiIozHH388z5hWrVoZ4eHhtn45AGAX9LQFgAK699571aNHD/3666/6/fff9d1332nmzJn64IMPcld5/vjjj5o+fbr27dun5ORkZWZm6vLly7p48aK8vb2vmDMlJUXTpk3Tt99+q9OnTyszM1OXLl26YqVtixYtrplt7969ioiIkMViyb2vTZs2SklJ0cmTJ1W5cuUrnvOvf/1LI0eO1A8//KBOnTrp3nvvVePGjSVJO3bs0M8//5y78vbvDh8+rNq1a0tS7nhJcnV1VdmyZdWoUaPc+4KDgyUpT+uCuXPnauHChYqOjtalS5eUnp5+xW6+DRo0kKura+6fK1SooD///DP3z1u3btW0adO0Y8cOJSQkKDs7W5J11V79+vWvea0AOI+UlBS5urpq69atef6fl5T79adChQpyc3PL/bojSfXq1ZNk/X8+p88tAKBo6Nixo+bNm5fnvsDAQH3yyScKCwtTaGho7v0RERFXPP/zzz/XnDlzdPjwYaWkpCgzM1N+fn65j+/du1ePPfZYnudERETo559/tvErAQD7oD0CABSCp6en7rzzTk2ePFkbN27UkCFDNHXqVEnSsWPHdNddd6lx48b68ssvtXXr1tzd0tPT0/Od7+mnn9ZXX32lV199Vb/++quioqLUqFGjK8aXLl3a5q9l+PDhOnLkiAYOHKg///xTLVq00DvvvCPJWkjp2bOnoqKi8txy+ozlKFWqVJ45LRZLnvtyisg5RdWlS5fq6aef1rBhw/TDDz8oKipKQ4cOveL15jdvzhypqanq0qWL/Pz89Omnn2rz5s366quvJF39OgNwTk2bNlVWVpbOnDmjmjVr5rnlbLbYpk0bZWZm6vDhw7nPO3DggCSpSpUqpuQGABRe6dKlr/iaHxgYeEPPjYyM1IABA9S9e3etXLlS27dv13PPPcdnQADFCittAcAG6tevrxUrVkiyrv7Mzs7W7Nmz5eJi/bexf/Zq/acNGzZoyJAhuvvuuyVZi6XHjh0rcI569erpyy+/lGEYuYXSDRs2yNfXV5UqVbrq88LCwvTYY4/pscce06RJk/T+++/riSeeULNmzfTll1+qatWqcnOz3beMDRs2qHXr1nr88cdz7/t7IeZG7Nu3T+fPn9drr72msLAwSdKWLVtslhGAbaWkpOjQoUO5fz569KiioqIUGBio2rVra8CAARo0aJBmz56tpk2b6uzZs1q7dq0aN26sHj16qFOnTmrWrJkefvhhvfXWW8rOztaoUaN055135ll9CwAo2urVq6cTJ07o9OnTqlChgiTp999/zzNm48aNqlKlip577rnc+44fP37FPJs2bdKgQYNy7/vnPADgzFhpCwAFcP78ed1+++36z3/+o507d+ro0aNatmyZZs6cqd69e0uSatasqYyMDL3zzjs6cuSIPvnkE82fP/+a89aqVUvLly9XVFSUduzYoQcffDB3RWlBPP744zpx4oSeeOIJ7du3T//73/80depUjRs3LreA/E9jx47V999/r6NHj2rbtm36+eefc3/leNSoUYqPj1f//v21efNmHT58WN9//72GDh2qrKysAuf7++vdsmWLvv/+ex04cECTJ0/W5s2bCzRH5cqV5e7unnudv/76a7300kuFzgTAvrZs2aKmTZuqadOmkqRx48apadOmmjJliiRp0aJFGjRokJ566inVqVNHffr00ebNm3Pburi4uOibb75RUFCQ2rVrpx49eqhevXpaunSpaa8JAFB4aWlpio2NzXM7d+6cOnXqpNq1a2vw4MHasWOHfv311zzFWcn6WTI6OlpLly7V4cOHNWfOnNzfuMoxZswYLVy4UIsWLdKBAwc0depU7d6925EvEQBuCittAaAAfHx81KpVK7355ps6fPiwMjIyFBYWpkceeUTPPvusJCk8PFxvvPGGZsyYoUmTJqldu3aaPn16nn/l/6c33nhDDz/8sFq3bq2goCBNmDBBycnJBc5XsWJFrVq1SuPHj1d4eLgCAwM1bNgwPSYW9/wAAAGLSURBVP/881d9TlZWlkaNGqWTJ0/Kz89PXbt2zd15NzQ0VBs2bNCECRPUuXNnpaWlqUqVKuratetVi8A34tFHH9X27dvVr18/WSwW9e/fX48//ri+++67G56jXLlyWrx4sZ599lnNmTNHzZo106xZs9SrV69C5wJgPx06dJBhGFd9vFSpUnrhhRf0wgsvXHVMaGiovvzyS3vEAwA42OrVq3NX0uaoU6eO9u3bp6+++krDhg3TLbfcoqpVq2rOnDnq2rVr7rhevXrpySef1OjRo5WWlqYePXpo8uTJmjZtWu6Yfv366fDhw3rmmWd0+fJl3XvvvRo5cqS+//57R71EALgpFuNan54BAAAAAAAAAA5FewQAAAAAAAAAcCIUbQEAAAAAAADAiVC0BQAAAAAAAAAnQtEWAAAAAAAA+L927FgAAAAAYJC/9TR2FEYwIm0BAAAAAEakLQAAAADAiLQFAAAAABiRtgAAAAAAI9IWAAAAAGBE2gIAAAAAjEhbAAAAAIARaQsAAAAAMBJeA90qqfOpDQAAAABJRU5ErkJggg==\n"
          },
          "metadata": {}
        }
      ]
    },
    {
      "cell_type": "markdown",
      "source": [
        "Punto 4"
      ],
      "metadata": {
        "id": "EoSJCEusLLEx"
      }
    },
    {
      "cell_type": "code",
      "source": [
        "df_final['horastrab'] = df_final[['PP3E_TOT', 'PP3F_TOT']].sum(axis=1, skipna=True)"
      ],
      "metadata": {
        "id": "Jqrwj1fHCptH"
      },
      "execution_count": 244,
      "outputs": []
    },
    {
      "cell_type": "code",
      "source": [
        "import numpy as np\n",
        "\n",
        "# Quitamos los NaN y convertimos a array\n",
        "Y = df_final['horastrab'].dropna().values\n",
        "\n",
        "# Estadística descriptiva\n",
        "print(\"Media:\", round(np.mean(Y), 2))\n",
        "print(\"Desvío Estándar (s.d.):\", round(np.std(Y), 2))\n",
        "print(\"Mínimo:\", round(np.min(Y), 2))\n",
        "print(\"Mediana:\", round(np.median(Y), 2))\n",
        "print(\"Máximo:\", round(np.max(Y), 2))\n",
        "print(\"Cuantil 25%:\", round(np.percentile(Y, 25), 2))\n",
        "print(\"Cuantil 75%:\", round(np.percentile(Y, 75), 2))\n"
      ],
      "metadata": {
        "colab": {
          "base_uri": "https://localhost:8080/"
        },
        "id": "JnRohWV8DGtI",
        "outputId": "88e4bf9d-3fd4-4b67-de7c-d404929cbf71"
      },
      "execution_count": 243,
      "outputs": [
        {
          "output_type": "stream",
          "name": "stdout",
          "text": [
            "Media: 15.6\n",
            "Desvío Estándar (s.d.): 36.93\n",
            "Mínimo: 0.0\n",
            "Mediana: 0.0\n",
            "Máximo: 1998.0\n",
            "Cuantil 25%: 0.0\n",
            "Cuantil 75%: 30.0\n"
          ]
        }
      ]
    }
  ]
}
{
 "cells": [
  {
   "cell_type": "code",
   "execution_count": 2,
   "id": "8f4f1e76-4080-48d6-b1bd-f6f8b5b62705",
   "metadata": {},
   "outputs": [],
   "source": [
    "import pandas as pd"
   ]
  },
  {
   "cell_type": "code",
   "execution_count": 4,
   "id": "d1773587-6edc-40d6-a8a8-d51ddd3bff93",
   "metadata": {},
   "outputs": [],
   "source": [
    "#subimos las bases de datos\n",
    "df_2004 = pd.read_stata(\"Individual_t104.dta\")\n",
    "df_2024 = pd.read_excel(\"usu_individual_T124.xlsx\")"
   ]
  },
  {
   "cell_type": "code",
   "execution_count": 6,
   "id": "7984f190-0f5f-417f-989d-ca7fe03cff5f",
   "metadata": {},
   "outputs": [
    {
     "name": "stdout",
     "output_type": "stream",
     "text": [
      "Requirement already satisfied: pyreadstat in c:\\users\\51964\\anaconda3\\lib\\site-packages (1.2.8)\n",
      "Requirement already satisfied: pandas>=1.2.0 in c:\\users\\51964\\anaconda3\\lib\\site-packages (from pyreadstat) (2.2.2)\n",
      "Requirement already satisfied: numpy>=1.26.0 in c:\\users\\51964\\anaconda3\\lib\\site-packages (from pandas>=1.2.0->pyreadstat) (1.26.4)\n",
      "Requirement already satisfied: python-dateutil>=2.8.2 in c:\\users\\51964\\anaconda3\\lib\\site-packages (from pandas>=1.2.0->pyreadstat) (2.9.0.post0)\n",
      "Requirement already satisfied: pytz>=2020.1 in c:\\users\\51964\\anaconda3\\lib\\site-packages (from pandas>=1.2.0->pyreadstat) (2025.2)\n",
      "Requirement already satisfied: tzdata>=2022.7 in c:\\users\\51964\\anaconda3\\lib\\site-packages (from pandas>=1.2.0->pyreadstat) (2023.3)\n",
      "Requirement already satisfied: six>=1.5 in c:\\users\\51964\\anaconda3\\lib\\site-packages (from python-dateutil>=2.8.2->pandas>=1.2.0->pyreadstat) (1.16.0)\n"
     ]
    }
   ],
   "source": [
    "!pip install pyreadstat\n",
    "\n",
    "import pyreadstat\n",
    "\n",
    "df, meta = pyreadstat.read_dta(\"Individual_t104.dta\")"
   ]
  },
  {
   "cell_type": "code",
   "execution_count": 8,
   "id": "1c5f3bd2-a146-426f-bb24-0620d2adb82c",
   "metadata": {},
   "outputs": [
    {
     "data": {
      "text/plain": [
       "['Gran Buenos Aires', 'NOA', 'NEA', 'Cuyo', 'Pampeana', 'Patagónica']\n",
       "Categories (6, object): ['Gran Buenos Aires' < 'NOA' < 'NEA' < 'Cuyo' < 'Pampeana' < 'Patagónica']"
      ]
     },
     "execution_count": 8,
     "metadata": {},
     "output_type": "execute_result"
    }
   ],
   "source": [
    "df_2004[\"region\"].unique()"
   ]
  },
  {
   "cell_type": "code",
   "execution_count": 10,
   "id": "5909dfbd-772a-46c3-9fb0-1a7fc0cda2c4",
   "metadata": {},
   "outputs": [],
   "source": [
    "df_2004_gba = df_2004[df_2004[\"region\"] == \"Gran Buenos Aires\"]\n",
    "df_2024_gba = df_2024[df_2024[\"REGION\"] == \"Gran Buenos Aires\"]"
   ]
  },
  {
   "cell_type": "code",
   "execution_count": 12,
   "id": "ca5495fb-364a-46cb-b4dd-33b7cfad3e5d",
   "metadata": {},
   "outputs": [
    {
     "name": "stdout",
     "output_type": "stream",
     "text": [
      "(45289, 176)\n",
      "(46050, 177)\n",
      "(7647, 352)\n"
     ]
    }
   ],
   "source": [
    "#punto2a\n",
    "df_a = pd.read_stata(\"Individual_t104.dta\")\n",
    "print(df_a.shape)\n",
    "\n",
    "df_b = pd.read_excel(\"usu_individual_T124.xlsx\")\n",
    "print(df_b.shape)\n",
    "\n",
    "df_a_gba = df_a[df_a[\"region\"] == \"Gran Buenos Aires\"]\n",
    "df_b_gba = df_b[df_b[\"REGION\"] == \"Gran Buenos Aires\"]\n",
    "\n",
    "df = pd.concat([df_a_gba, df_b_gba])\n",
    "print(df.shape)"
   ]
  },
  {
   "cell_type": "code",
   "execution_count": 15,
   "id": "f940859c-0b18-4448-8f1d-53020b461f3d",
   "metadata": {},
   "outputs": [
    {
     "name": "stdout",
     "output_type": "stream",
     "text": [
      "CAT_INAC      0.000000\n",
      "CAT_OCUP      0.000000\n",
      "REGION        0.000000\n",
      "ANO4          0.000000\n",
      "TRIMESTRE     0.000000\n",
      "H15           0.000000\n",
      "PP02I         0.000000\n",
      "ESTADO        0.000000\n",
      "CH15          0.000000\n",
      "CH14         50.495114\n",
      "CH09          0.000000\n",
      "CH06          0.000000\n",
      "CH03          0.000000\n",
      "CH04          0.000000\n",
      "PP02H         0.000000\n",
      "dtype: float64\n"
     ]
    }
   ],
   "source": [
    "variables_2024= ['CAT_INAC' , 'CAT_OCUP','REGION', 'ANO4', 'TRIMESTRE', 'H15', 'PP02I',\n",
    "                 'ESTADO', 'CH15', 'CH14', 'CH09', 'CH06', 'CH03', 'CH04', 'PP02H']\n",
    "porcentaje_nan = df_b[variables_2024].isna().mean()* 100\n",
    "print(porcentaje_nan)"
   ]
  },
  {
   "cell_type": "code",
   "execution_count": 17,
   "id": "c263d5be-9c0e-409c-81c8-04dd0e0fa2aa",
   "metadata": {},
   "outputs": [
    {
     "name": "stdout",
     "output_type": "stream",
     "text": [
      "cat_inac     0.0\n",
      "cat_ocup     0.0\n",
      "region       0.0\n",
      "ano4         0.0\n",
      "trimestre    0.0\n",
      "h15          0.0\n",
      "pp02i        0.0\n",
      "estado       0.0\n",
      "ch15         0.0\n",
      "ch14         0.0\n",
      "ch09         0.0\n",
      "ch06         0.0\n",
      "ch03         0.0\n",
      "ch04         0.0\n",
      "pp02h        0.0\n",
      "dtype: float64\n"
     ]
    }
   ],
   "source": [
    "variables_2004=['cat_inac', 'cat_ocup', 'region','ano4', 'trimestre', 'h15',\n",
    " 'pp02i', 'estado', 'ch15', 'ch14', 'ch09', 'ch06', 'ch03', 'ch04', 'pp02h']\n",
    "porcentaje_nan = df_a[variables_2004].isna().mean()* 100\n",
    "print(porcentaje_nan)"
   ]
  },
  {
   "cell_type": "code",
   "execution_count": 19,
   "id": "cdb9e880-f71c-4b55-9a7b-bae0a77a4f16",
   "metadata": {},
   "outputs": [],
   "source": [
    "#Homogwnizacion de variables\n",
    "df_2004.columns = df_2004.columns.str.upper()\n",
    "df_2024.columns = df_2024.columns.str.upper()"
   ]
  },
  {
   "cell_type": "code",
   "execution_count": 21,
   "id": "08bc7f32-1c8f-4283-9866-5e2faf518435",
   "metadata": {},
   "outputs": [],
   "source": [
    "variables_comunes = ['CAT_INAC', 'CAT_OCUP','REGION', 'ANO4', 'TRIMESTRE', 'H15',\n",
    "                     'PP02I', 'ESTADO', 'CH15', 'CH14', 'CH09', 'CH06', 'CH03', 'CH04', 'PP02H']"
   ]
  },
  {
   "cell_type": "code",
   "execution_count": 23,
   "id": "523eb42c-1160-4665-af1d-bf9f68caced4",
   "metadata": {},
   "outputs": [
    {
     "name": "stdout",
     "output_type": "stream",
     "text": [
      "2004: ['Varón', 'Mujer']\n",
      "Categories (2, object): ['Varón' < 'Mujer']\n",
      "2024: [2 1]\n"
     ]
    }
   ],
   "source": [
    "#Variable CH04\n",
    "print(\"2004:\", df_2004['CH04'].unique())\n",
    "print(\"2024:\", df_2024['CH04'].unique())"
   ]
  },
  {
   "cell_type": "code",
   "execution_count": 31,
   "id": "56b0dfb1-c46a-4a26-a95a-a13c76c01f16",
   "metadata": {},
   "outputs": [
    {
     "name": "stdout",
     "output_type": "stream",
     "text": [
      "[1 2]\n"
     ]
    }
   ],
   "source": [
    "df_2004['CH04'] = df_2004['CH04'].replace({'Varón': 1, 'Mujer': 2}).astype(int)\n",
    "print(df_2004['CH04'].unique())"
   ]
  },
  {
   "cell_type": "code",
   "execution_count": 33,
   "id": "ce579c52-c916-4c26-89e4-57ecc1457b09",
   "metadata": {},
   "outputs": [
    {
     "name": "stdout",
     "output_type": "stream",
     "text": [
      "2004: ['Jefe', 'Cónyuge/Pareja', 'Hijo/Hijastro', 'Madre/Padre', 'Otros familiares', 'Hermano', 'Suegro', 'Nieto', 'No familiares', 'Yerno/Nuera']\n",
      "Categories (10, object): ['Jefe' < 'Cónyuge/Pareja' < 'Hijo/Hijastro' < 'Yerno/Nuera' ... 'Suegro' < 'Hermano' < 'Otros familiares' < 'No familiares']\n",
      "2024: [ 3  5  1  2 10  4  6  8  7  9]\n"
     ]
    }
   ],
   "source": [
    "#Variable Ch03\n",
    "print(\"2004:\", df_2004[ 'CH03'].unique())\n",
    "print(\"2024:\", df_2024[ 'CH03'].unique())"
   ]
  },
  {
   "cell_type": "code",
   "execution_count": 37,
   "id": "4d7669d5-b986-42bd-9de9-7f947b83d2c5",
   "metadata": {},
   "outputs": [
    {
     "name": "stdout",
     "output_type": "stream",
     "text": [
      "2004: [3, 5, 1, 2, 10, 4, 6, 8, 7, 9]\n",
      "Categories (10, int64): [3 < 5 < 1 < 9 ... 6 < 4 < 10 < 7]\n",
      "2024: [ 3  5  1  2 10  4  6  8  7  9]\n"
     ]
    }
   ],
   "source": [
    "mapa_ch03_2004_2024 = {\n",
    "    'Jefe': 3,\n",
    "    'Cónyuge/Pareja': 5,\n",
    "    'Hijo/Hijastro': 1,\n",
    "    'Madre/Padre': 2,\n",
    "    'Otros familiares': 10,\n",
    "    'Hermano': 4,\n",
    "    'Suegro': 6,\n",
    "    'Nieto': 8,\n",
    "    'No familiares': 7,\n",
    "    'Yerno/Nuera': 9\n",
    "}\n",
    "df_2004['CH03'] = df_2004['CH03'].replace(mapa_ch03_2004_2024)\n",
    "print(\"2004:\", df_2004['CH03'].unique())\n",
    "print(\"2024:\", df_2024['CH03'].unique())"
   ]
  },
  {
   "cell_type": "code",
   "execution_count": 44,
   "id": "6773a0a2-686f-4ba6-8546-79b6f3eecc76",
   "metadata": {},
   "outputs": [
    {
     "name": "stdout",
     "output_type": "stream",
     "text": [
      "2004: ['No', 'Sí']\n",
      "Categories (2, object): ['Sí' < 'No']\n",
      "2024: ['No' 'Sí']\n"
     ]
    }
   ],
   "source": [
    "#Variable PP02H\n",
    "\n",
    "print(\"2004:\", df_2004[ 'PP02H'].unique())\n",
    "print(\"2024:\", df_2024[ 'PP02H'].unique())"
   ]
  },
  {
   "cell_type": "code",
   "execution_count": 46,
   "id": "85962127-042d-4f35-9ba3-bceed102b20b",
   "metadata": {},
   "outputs": [
    {
     "name": "stdout",
     "output_type": "stream",
     "text": [
      "Valores 2004: ['No', 'Sí']\n",
      "Categories (2, object): ['Sí' < 'No']\n",
      "Valores 2024: ['No' 'Sí']\n"
     ]
    }
   ],
   "source": [
    "df_2004['PP02H'] = df_2004['PP02H'].replace({0.0: 'No'})\n",
    "df_2024['PP02H'] = df_2024['PP02H'].replace({0: 'No', 2: 'Sí', 1: 'Sí'})\n",
    "print(\"Valores 2004:\", df_2004['PP02H'].unique())\n",
    "print(\"Valores 2024:\", df_2024['PP02H'].unique())"
   ]
  },
  {
   "cell_type": "code",
   "execution_count": 48,
   "id": "d63fe339-4fad-4182-b472-b175b2801548",
   "metadata": {},
   "outputs": [
    {
     "name": "stdout",
     "output_type": "stream",
     "text": [
      "2004: ['Sí', 'No', 'Menor de 2 años', 'Ns./Nr.']\n",
      "Categories (4, object): ['Sí' < 'No' < 'Menor de 2 años' < 'Ns./Nr.']\n",
      "2024: [1 2 3 9]\n"
     ]
    }
   ],
   "source": [
    "#Variable CH09 \n",
    "print(\"2004:\", df_2004['CH09'].unique())\n",
    "print(\"2024:\", df_2024['CH09'].unique())"
   ]
  },
  {
   "cell_type": "code",
   "execution_count": 50,
   "id": "4620e841-29dc-487a-9435-6227b56c7f7d",
   "metadata": {},
   "outputs": [
    {
     "name": "stdout",
     "output_type": "stream",
     "text": [
      "CH09 - 2004: ['Sí' 'No' 'Menor de 2 años' 'Ns./Nr.']\n",
      "CH09 - 2024: ['Sí' 'No' 'Menor de 2 años' 'Ns./Nr.']\n"
     ]
    }
   ],
   "source": [
    "mapa_ch09 = {\n",
    "    1: 'Sí',\n",
    "    2: 'No',\n",
    "    3: 'Menor de 2 años',\n",
    "    9: 'Ns./Nr.'\n",
    "}\n",
    "df_2024['CH09'] = df_2024['CH09'].replace(mapa_ch09)\n",
    "df_2004['CH09'] = df_2004['CH09'].astype(str)\n",
    "df_2024['CH09'] = df_2024['CH09'].astype(str)\n",
    "\n",
    "print(\"CH09 - 2004:\", df_2004['CH09'].unique())\n",
    "print(\"CH09 - 2024:\", df_2024['CH09'].unique())"
   ]
  },
  {
   "cell_type": "code",
   "execution_count": 56,
   "id": "19869955-2df3-4b4d-af62-11e091e9768c",
   "metadata": {},
   "outputs": [
    {
     "name": "stdout",
     "output_type": "stream",
     "text": [
      "2004: ['Inactivo' 'Ocupado' 'Desocupado' 'Menor de 10 años'\n",
      " 'Entrevista individual no realizada (no respuesta al cuestion']\n",
      "2024: ['1' '3' '4' '2' '0']\n"
     ]
    }
   ],
   "source": [
    "#Variable ESTADO\n",
    "print(\"2004:\", df_2004['ESTADO'].unique())\n",
    "print(\"2024:\", df_2024['ESTADO'].unique())"
   ]
  },
  {
   "cell_type": "code",
   "execution_count": 54,
   "id": "022bcdca-5180-4e89-b69e-b9c5ef9ee0ff",
   "metadata": {},
   "outputs": [
    {
     "name": "stdout",
     "output_type": "stream",
     "text": [
      "ESTADO - 2004: ['Inactivo' 'Ocupado' 'Desocupado' 'Menor de 10 años'\n",
      " 'Entrevista individual no realizada (no respuesta al cuestion']\n",
      "ESTADO - 2024: ['1' '3' '4' '2' '0']\n"
     ]
    }
   ],
   "source": [
    "mapa_ESTADO = {\n",
    "   'Inactivo'  : 2,\n",
    "  'Ocupado': 3,\n",
    "     'Desocupado': 4,\n",
    "     'Menor de 10 años' :1,\n",
    "    'Entrevista individual no realizada(no respuesta al cuestionario)' :0,\n",
    "}\n",
    "\n",
    "df_2024['ESTADO'] = df_2024['ESTADO'].replace(mapa_ESTADO)\n",
    "\n",
    "df_2004['ESTADO'] = df_2004['ESTADO'].astype(str)\n",
    "df_2024['ESTADO'] = df_2024['ESTADO'].astype(str)\n",
    "print(\"ESTADO - 2004:\", df_2004['ESTADO'].unique())\n",
    "print(\"ESTADO - 2024:\", df_2024['ESTADO'].unique())"
   ]
  },
  {
   "cell_type": "code",
   "execution_count": 58,
   "id": "41eb056a-8d9f-40ea-bbcd-3062da29aaac",
   "metadata": {},
   "outputs": [
    {
     "name": "stdout",
     "output_type": "stream",
     "text": [
      "2004: ['No', 0.0, 'Sí']\n",
      "Categories (3, object): [0.0 < 'Sí' < 'No']\n",
      "2024: [0 2 1]\n"
     ]
    }
   ],
   "source": [
    "#Variable PP02I\n",
    "print(\"2004:\", df_2004['PP02I'].unique())\n",
    "print(\"2024:\", df_2024[ 'PP02I'].unique())"
   ]
  },
  {
   "cell_type": "code",
   "execution_count": 62,
   "id": "5e3f2bed-f2b4-468d-8355-4a48aa418e9f",
   "metadata": {},
   "outputs": [
    {
     "name": "stdout",
     "output_type": "stream",
     "text": [
      "Valores 2004: ['No', 'Sí']\n",
      "Categories (2, object): ['Sí' < 'No']\n",
      "Valores 2024: ['No' 'Sí']\n"
     ]
    }
   ],
   "source": [
    "df_2004['PP02I'] = df_2004['PP02I'].replace({0.0: 'No'})\n",
    "df_2024['PP02I'] = df_2024['PP02I'].replace({0: 'No', 2: 'Sí', 1: 'Sí'})\n",
    "\n",
    "print(\"Valores 2004:\", df_2004['PP02I'].unique())\n",
    "print(\"Valores 2024:\", df_2024['PP02I'].unique())"
   ]
  },
  {
   "cell_type": "code",
   "execution_count": 64,
   "id": "f74d7306-d876-4ed5-b007-9a22d64fe265",
   "metadata": {},
   "outputs": [
    {
     "name": "stdout",
     "output_type": "stream",
     "text": [
      "2004: ['Sí', 0.0, 'No']\n",
      "Categories (3, object): [0.0 < 'Sí' < 'No']\n",
      "2024: [1 0 2]\n"
     ]
    }
   ],
   "source": [
    "#Variable H15\n",
    "print(\"2004:\", df_2004['H15'].unique())\n",
    "print(\"2024:\", df_2024[ 'H15'].unique())"
   ]
  },
  {
   "cell_type": "code",
   "execution_count": 68,
   "id": "5afe7122-5e15-4e17-afaa-bc86fb673751",
   "metadata": {},
   "outputs": [
    {
     "name": "stdout",
     "output_type": "stream",
     "text": [
      "H15 - 2004: <IntegerArray>\n",
      "[1, 0, 2]\n",
      "Length: 3, dtype: Int64\n",
      "H15 - 2024: <IntegerArray>\n",
      "[1, 0, 2]\n",
      "Length: 3, dtype: Int64\n"
     ]
    }
   ],
   "source": [
    "mapa_2004_h15 = {\n",
    "    'Sí': 1,\n",
    "    'No': 2,\n",
    "    0.0: 0  }\n",
    "mapa_2024_h15 = {\n",
    "    1: 1,\n",
    "    2: 2,\n",
    "    0: 0}\n",
    "df_2004['H15'] = df_2004['H15'].replace(mapa_2004_h15)\n",
    "df_2024['H15'] = df_2024['H15'].replace(mapa_2024_h15)\n",
    "df_2004['H15'] = df_2004['H15'].astype('Int64')\n",
    "df_2024['H15'] = df_2024['H15'].astype('Int64')\n",
    "print(\"H15 - 2004:\", df_2004['H15'].unique())\n",
    "print(\"H15 - 2024:\", df_2024['H15'].unique())"
   ]
  },
  {
   "cell_type": "code",
   "execution_count": 70,
   "id": "cfcd4a11-bc4b-41b9-afd3-7d8194ee3525",
   "metadata": {},
   "outputs": [
    {
     "name": "stdout",
     "output_type": "stream",
     "text": [
      "2004: ['1er. Trimestre']\n",
      "Categories (1, object): ['1er. Trimestre']\n",
      "2024: [1]\n"
     ]
    }
   ],
   "source": [
    "#Variable TRIMESTRE \n",
    "print(\"2004:\", df_2004[ 'TRIMESTRE'].unique())\n",
    "print(\"2024:\", df_2024[ 'TRIMESTRE'].unique())"
   ]
  },
  {
   "cell_type": "code",
   "execution_count": 74,
   "id": "569f05ca-fbfe-4039-abdd-e5fcdebe17f5",
   "metadata": {},
   "outputs": [
    {
     "name": "stdout",
     "output_type": "stream",
     "text": [
      "TRIMESTRE - 2004: [1]\n",
      "TRIMESTRE - 2024: [1]\n"
     ]
    }
   ],
   "source": [
    "mapa_trimestre = { '1er. Trimestre': 1}\n",
    "df_2004['TRIMESTRE'] = df_2004['TRIMESTRE'].replace(mapa_trimestre)\n",
    "df_2004['TRIMESTRE'] = df_2004['TRIMESTRE'].astype(int)\n",
    "df_2024['TRIMESTRE'] = df_2024['TRIMESTRE'].astype(int)\n",
    "\n",
    "print(\"TRIMESTRE - 2004:\", df_2004['TRIMESTRE'].unique())\n",
    "print(\"TRIMESTRE - 2024:\", df_2024['TRIMESTRE'].unique())"
   ]
  },
  {
   "cell_type": "code",
   "execution_count": 76,
   "id": "6a721c20-06f8-45e6-8237-4862711c6d2b",
   "metadata": {},
   "outputs": [
    {
     "name": "stdout",
     "output_type": "stream",
     "text": [
      "2004: [2004.]\n",
      "2024: [2024]\n"
     ]
    }
   ],
   "source": [
    "#Variable ANO4\n",
    "print(\"2004:\", df_2004[ 'ANO4'].unique())\n",
    "print(\"2024:\", df_2024[ 'ANO4'].unique())"
   ]
  },
  {
   "cell_type": "code",
   "execution_count": 78,
   "id": "3be85e87-e851-427e-8c9b-a44935dc0a4e",
   "metadata": {},
   "outputs": [
    {
     "name": "stdout",
     "output_type": "stream",
     "text": [
      "2004: ['Gran Buenos Aires', 'NOA', 'NEA', 'Cuyo', 'Pampeana', 'Patagónica']\n",
      "Categories (6, object): ['Gran Buenos Aires' < 'NOA' < 'NEA' < 'Cuyo' < 'Pampeana' < 'Patagónica']\n",
      "2024: [42 41 40 43 44  1]\n"
     ]
    }
   ],
   "source": [
    "#Variable REGION\n",
    "print(\"2004:\", df_2004[  'REGION'].unique())\n",
    "print(\"2024:\", df_2024[  'REGION'].unique())"
   ]
  },
  {
   "cell_type": "code",
   "execution_count": 80,
   "id": "7c9a4afe-360b-405e-b09c-4764ef2f38f8",
   "metadata": {},
   "outputs": [
    {
     "name": "stdout",
     "output_type": "stream",
     "text": [
      "REGION - 2004: ['Gran Buenos Aires', 'NOA', 'NEA', 'Cuyo', 'Pampeana', 'Patagónica']\n",
      "Categories (6, object): ['Gran Buenos Aires' < 'NOA' < 'NEA' < 'Cuyo' < 'Pampeana' < 'Patagónica']\n",
      "REGION - 2024: ['Gran Buenos Aires' 'NOA' 'NEA' 'Cuyo' 'Pampeana' 'Patagónica']\n"
     ]
    }
   ],
   "source": [
    "mapa_region = {\n",
    "    42: 'Gran Buenos Aires',\n",
    "    41: 'NOA',\n",
    "    40: 'NEA',\n",
    "    43: 'Cuyo',\n",
    "    44: 'Pampeana',\n",
    "    1: 'Patagónica',}\n",
    "df_2024['REGION'] = df_2024['REGION'].replace(mapa_region)\n",
    "print(\"REGION - 2004:\", df_2004['REGION'].unique())\n",
    "print(\"REGION - 2024:\", df_2024['REGION'].unique())"
   ]
  },
  {
   "cell_type": "code",
   "execution_count": 82,
   "id": "0f127223-57b7-47d2-9ca7-90559ebe229e",
   "metadata": {},
   "outputs": [
    {
     "name": "stdout",
     "output_type": "stream",
     "text": [
      "2004: [0.0, 'Cuenta propia', 'Trabajador familiar sin remuneración', 'Obrero o empleado', 'Patrón']\n",
      "Categories (5, object): [0.0 < 'Patrón' < 'Cuenta propia' < 'Obrero o empleado' < 'Trabajador familiar sin remuneración']\n",
      "2024: [3 0 2 1 4]\n"
     ]
    }
   ],
   "source": [
    "#Variable CAT_OCUP\n",
    "print(\"2004:\", df_2004[   'CAT_OCUP'].unique())\n",
    "print(\"2024:\", df_2024[   'CAT_OCUP'].unique())"
   ]
  },
  {
   "cell_type": "code",
   "execution_count": 84,
   "id": "69694529-5bcc-49d0-897d-623ce9120a8c",
   "metadata": {},
   "outputs": [
    {
     "name": "stdout",
     "output_type": "stream",
     "text": [
      "CAT_OCUP - 2004: [0.0, 'Cuenta propia', 'Trabajador familiar sin remuneración', 'Obrero o empleado', 'Patrón']\n",
      "Categories (5, object): [0.0 < 'Patrón' < 'Cuenta propia' < 'Obrero o empleado' < 'Trabajador familiar sin remuneración']\n",
      "CAT_OCUP - 2024: [3 0 2 1 4]\n"
     ]
    }
   ],
   "source": [
    "mapa_cat_ocup = {\n",
    "3: '0.0',\n",
    "0: 'Cuenta propia',\n",
    "2: 'Trabajador familiar sin remuneración',\n",
    "1: 'Obrero o empleado',\n",
    "4: 'Patrón',\n",
    "}\n",
    "# Verificamos los resultados\n",
    "print(\"CAT_OCUP - 2004:\", df_2004['CAT_OCUP'].unique())\n",
    "print(\"CAT_OCUP - 2024:\", df_2024['CAT_OCUP'].unique())"
   ]
  },
  {
   "cell_type": "code",
   "execution_count": 86,
   "id": "907bd54c-a63c-46cd-b268-b4fd2a324f9e",
   "metadata": {},
   "outputs": [
    {
     "name": "stdout",
     "output_type": "stream",
     "text": [
      "2004: ['Jubilado/pensionado', 0.0, 'Ama de casa', 'Estudiante', 'Menor de 6 años', 'Rentista', 'Otros', 'Discapacitado']\n",
      "Categories (8, object): [0.0 < 'Jubilado/pensionado' < 'Rentista' < 'Estudiante' < 'Ama de casa' < 'Menor de 6 años' < 'Discapacitado' < 'Otros']\n",
      "2024: [0 4 5 1 3 7 2 6]\n"
     ]
    }
   ],
   "source": [
    "#Variable CAT_INAC\n",
    "print(\"2004:\", df_2004[   'CAT_INAC'].unique())\n",
    "print(\"2024:\", df_2024[    'CAT_INAC'].unique())"
   ]
  },
  {
   "cell_type": "code",
   "execution_count": 88,
   "id": "493447e0-ccc8-431d-9373-1029a243f179",
   "metadata": {},
   "outputs": [
    {
     "name": "stdout",
     "output_type": "stream",
     "text": [
      "CAT_INAC - 2004: ['Jubilado/pensionado', 0.0, 'Ama de casa', 'Estudiante', 'Menor de 6 años', 'Rentista', 'Otros', 'Discapacitado']\n",
      "Categories (8, object): [0.0 < 'Jubilado/pensionado' < 'Rentista' < 'Estudiante' < 'Ama de casa' < 'Menor de 6 años' < 'Discapacitado' < 'Otros']\n",
      "CAT_INAC - 2024: ['Inactivo' 'Ama de casa' 'Menor de 6 años' 'Jubilado/pensionado'\n",
      " 'Estudiante' 'Otros' 'Rentista' 'Discapacitado']\n"
     ]
    }
   ],
   "source": [
    "mapa_cat_inac = {\n",
    "    0: 'Inactivo',\n",
    "      1: 'Jubilado/pensionado',\n",
    "     2: 'Rentista'  ,\n",
    "    3:  'Estudiante',\n",
    "    4:'Ama de casa',\n",
    "    5: 'Menor de 6 años',\n",
    "  6: 'Discapacitado',\n",
    "7: 'Otros',\n",
    "}\n",
    "df_2024['CAT_INAC'] = df_2024['CAT_INAC'].replace(mapa_cat_inac)\n",
    "print(\"CAT_INAC - 2004:\", df_2004['CAT_INAC'].unique())\n",
    "print(\"CAT_INAC - 2024:\", df_2024['CAT_INAC'].unique())"
   ]
  },
  {
   "cell_type": "code",
   "execution_count": 90,
   "id": "75c575cd-4c70-4f81-b28f-846fd295fdbf",
   "metadata": {},
   "outputs": [
    {
     "name": "stdout",
     "output_type": "stream",
     "text": [
      "2004: ['En esta localidad', 'En otra localidad', 'En otra provincia (especificar)', 'En un país limítrofe', 'En otro país', 'Ns./Nr.']\n",
      "Categories (6, object): ['En esta localidad' < 'En otra localidad' < 'En otra provincia (especificar)' < 'En un país limítrofe' < 'En otro país' < 'Ns./Nr.']\n",
      "2024: [1 2 3 4 5 9]\n"
     ]
    }
   ],
   "source": [
    "#Variable CH15\n",
    "print(\"2004:\", df_2004[    'CH15'].unique())\n",
    "print(\"2024:\", df_2024[     'CH15'].unique())"
   ]
  },
  {
   "cell_type": "code",
   "execution_count": 92,
   "id": "2cf348d8-88c6-4f54-a987-6ff2aefc2308",
   "metadata": {},
   "outputs": [
    {
     "name": "stdout",
     "output_type": "stream",
     "text": [
      "2004: ['03' '  ' '04' '02' '01' '06' '00' '05' '07' '09' '99' '08' '98']\n",
      "2024: [ 4.  0. nan  2.  3.  5.  1.  6. 98.  8.  7. 99.  9.]\n"
     ]
    }
   ],
   "source": [
    "#Variable CH14\n",
    "print(\"2004:\", df_2004[     'CH14'].unique())\n",
    "print(\"2024:\", df_2024[     'CH14'].unique())"
   ]
  },
  {
   "cell_type": "code",
   "execution_count": 94,
   "id": "9439edd4-2ab4-45f7-b283-f6d36266287a",
   "metadata": {},
   "outputs": [
    {
     "name": "stdout",
     "output_type": "stream",
     "text": [
      "CH14 - 2004: ['03' '  ' '04' '02' '01' '06' '00' '05' '07' '09' '99' '08' '98']\n",
      "CH14 - 2024: [ 0.  6. nan  2.  4.  1.  3.  5. 98.  8.  7. 99.  9.]\n"
     ]
    }
   ],
   "source": [
    "mapa_ch14 = {\n",
    "    3: 4,\n",
    "    4: 0,\n",
    "    2: 2,\n",
    "    1: 3,\n",
    "    6: 5,\n",
    "    0: 6,\n",
    "    5: 1,\n",
    "    7: 7,\n",
    "    9: 9,\n",
    "    99: 99,\n",
    "    8: 8,\n",
    "    98: 98\n",
    "}\n",
    "df_2004['CH14'] = df_2004['CH14'].replace(mapa_ch14)\n",
    "df_2024['CH14'] = df_2024['CH14'].replace(mapa_ch14)\n",
    "\n",
    "print(\"CH14 - 2004:\", df_2004['CH14'].unique())\n",
    "print(\"CH14 - 2024:\", df_2024['CH14'].unique())"
   ]
  },
  {
   "cell_type": "code",
   "execution_count": 96,
   "id": "76ac118b-396f-41ef-b3cb-f456bae8ce38",
   "metadata": {},
   "outputs": [
    {
     "name": "stdout",
     "output_type": "stream",
     "text": [
      "2004: [79.0, 67.0, 74.0, 54.0, 51.0, ..., 88.0, '98 y más años', 91.0, 97.0, 95.0]\n",
      "Length: 99\n",
      "Categories (99, object): ['Menos de 1 año' < 1.0 < 2.0 < 3.0 ... 95.0 < 96.0 < 97.0 < '98 y más años']\n",
      "2024: [ 44  22   3  54  53  26  25  72  41  43  17  52  24  19  16   5  76  31\n",
      "  23  62  64  35  28  58  78  39  29   1  11  49  65  20  73  57  21  48\n",
      "   8  18   9  51  50  14  12  13  46  15  45   4  40  -1   7   2  32  59\n",
      "  47  42  36   6  55  74  77  37  34  30  63  71  10  91  83  60  79  61\n",
      "  38  82  56  85  87  69  67  27  81  88  84  66  33  68  80  75  86  70\n",
      "  89  95  90  96  93  92  98  99  94 101  97 100]\n"
     ]
    }
   ],
   "source": [
    "#Variable CH06\n",
    "print(\"2004:\", df_2004[     'CH06'].unique())\n",
    "print(\"2024:\", df_2024[     'CH06'].unique())"
   ]
  },
  {
   "cell_type": "code",
   "execution_count": 98,
   "id": "284c570a-e412-493b-8d31-eb2a69624749",
   "metadata": {},
   "outputs": [],
   "source": [
    "columnas_finales = [ 'CAT_INAC' , 'CAT_OCUP','REGION', 'ANO4', 'TRIMESTRE', 'H15', 'PP02I',\n",
    "                 'ESTADO', 'CH15', 'CH14', 'CH09', 'CH06', 'CH03', 'CH04', 'PP02H']"
   ]
  },
  {
   "cell_type": "code",
   "execution_count": 100,
   "id": "1a0e085b-f475-402b-8778-62f3f4353479",
   "metadata": {},
   "outputs": [],
   "source": [
    "df_2004_final = df_2004[columnas_finales].copy()\n",
    "df_2024_final = df_2024[columnas_finales].copy()"
   ]
  },
  {
   "cell_type": "code",
   "execution_count": 102,
   "id": "634802b9-0a02-42a6-b339-7afe7d3fdd38",
   "metadata": {},
   "outputs": [],
   "source": [
    "df_2004_final['AÑO'] = 2004\n",
    "df_2024_final['AÑO'] = 2024"
   ]
  },
  {
   "cell_type": "code",
   "execution_count": 104,
   "id": "edb56cad-5b96-4928-8e79-7b021349d67a",
   "metadata": {},
   "outputs": [],
   "source": [
    "df_final = pd.concat([df_2004_final, df_2024_final], ignore_index=True)"
   ]
  },
  {
   "cell_type": "code",
   "execution_count": 106,
   "id": "487ca581-6af8-42ce-89b7-9ddacbe47177",
   "metadata": {},
   "outputs": [
    {
     "data": {
      "text/html": [
       "<div>\n",
       "<style scoped>\n",
       "    .dataframe tbody tr th:only-of-type {\n",
       "        vertical-align: middle;\n",
       "    }\n",
       "\n",
       "    .dataframe tbody tr th {\n",
       "        vertical-align: top;\n",
       "    }\n",
       "\n",
       "    .dataframe thead th {\n",
       "        text-align: right;\n",
       "    }\n",
       "</style>\n",
       "<table border=\"1\" class=\"dataframe\">\n",
       "  <thead>\n",
       "    <tr style=\"text-align: right;\">\n",
       "      <th></th>\n",
       "      <th>CAT_INAC</th>\n",
       "      <th>CAT_OCUP</th>\n",
       "      <th>REGION</th>\n",
       "      <th>ANO4</th>\n",
       "      <th>TRIMESTRE</th>\n",
       "      <th>H15</th>\n",
       "      <th>PP02I</th>\n",
       "      <th>ESTADO</th>\n",
       "      <th>CH15</th>\n",
       "      <th>CH14</th>\n",
       "      <th>CH09</th>\n",
       "      <th>CH06</th>\n",
       "      <th>CH03</th>\n",
       "      <th>CH04</th>\n",
       "      <th>PP02H</th>\n",
       "      <th>AÑO</th>\n",
       "    </tr>\n",
       "  </thead>\n",
       "  <tbody>\n",
       "    <tr>\n",
       "      <th>0</th>\n",
       "      <td>Jubilado/pensionado</td>\n",
       "      <td>0.0</td>\n",
       "      <td>Gran Buenos Aires</td>\n",
       "      <td>2004.0</td>\n",
       "      <td>1</td>\n",
       "      <td>1</td>\n",
       "      <td>No</td>\n",
       "      <td>Inactivo</td>\n",
       "      <td>En esta localidad</td>\n",
       "      <td>03</td>\n",
       "      <td>Sí</td>\n",
       "      <td>79.0</td>\n",
       "      <td>3</td>\n",
       "      <td>1</td>\n",
       "      <td>No</td>\n",
       "      <td>2004</td>\n",
       "    </tr>\n",
       "    <tr>\n",
       "      <th>1</th>\n",
       "      <td>0.0</td>\n",
       "      <td>Cuenta propia</td>\n",
       "      <td>Gran Buenos Aires</td>\n",
       "      <td>2004.0</td>\n",
       "      <td>1</td>\n",
       "      <td>1</td>\n",
       "      <td>No</td>\n",
       "      <td>Ocupado</td>\n",
       "      <td>En otra localidad</td>\n",
       "      <td></td>\n",
       "      <td>Sí</td>\n",
       "      <td>67.0</td>\n",
       "      <td>3</td>\n",
       "      <td>2</td>\n",
       "      <td>No</td>\n",
       "      <td>2004</td>\n",
       "    </tr>\n",
       "    <tr>\n",
       "      <th>2</th>\n",
       "      <td>Jubilado/pensionado</td>\n",
       "      <td>0.0</td>\n",
       "      <td>Gran Buenos Aires</td>\n",
       "      <td>2004.0</td>\n",
       "      <td>1</td>\n",
       "      <td>1</td>\n",
       "      <td>No</td>\n",
       "      <td>Inactivo</td>\n",
       "      <td>En esta localidad</td>\n",
       "      <td></td>\n",
       "      <td>Sí</td>\n",
       "      <td>74.0</td>\n",
       "      <td>3</td>\n",
       "      <td>2</td>\n",
       "      <td>No</td>\n",
       "      <td>2004</td>\n",
       "    </tr>\n",
       "    <tr>\n",
       "      <th>3</th>\n",
       "      <td>0.0</td>\n",
       "      <td>Cuenta propia</td>\n",
       "      <td>Gran Buenos Aires</td>\n",
       "      <td>2004.0</td>\n",
       "      <td>1</td>\n",
       "      <td>1</td>\n",
       "      <td>No</td>\n",
       "      <td>Ocupado</td>\n",
       "      <td>En esta localidad</td>\n",
       "      <td></td>\n",
       "      <td>Sí</td>\n",
       "      <td>54.0</td>\n",
       "      <td>3</td>\n",
       "      <td>1</td>\n",
       "      <td>No</td>\n",
       "      <td>2004</td>\n",
       "    </tr>\n",
       "    <tr>\n",
       "      <th>4</th>\n",
       "      <td>Ama de casa</td>\n",
       "      <td>0.0</td>\n",
       "      <td>Gran Buenos Aires</td>\n",
       "      <td>2004.0</td>\n",
       "      <td>1</td>\n",
       "      <td>1</td>\n",
       "      <td>No</td>\n",
       "      <td>Inactivo</td>\n",
       "      <td>En esta localidad</td>\n",
       "      <td></td>\n",
       "      <td>Sí</td>\n",
       "      <td>51.0</td>\n",
       "      <td>5</td>\n",
       "      <td>2</td>\n",
       "      <td>No</td>\n",
       "      <td>2004</td>\n",
       "    </tr>\n",
       "  </tbody>\n",
       "</table>\n",
       "</div>"
      ],
      "text/plain": [
       "              CAT_INAC       CAT_OCUP             REGION    ANO4  TRIMESTRE  \\\n",
       "0  Jubilado/pensionado            0.0  Gran Buenos Aires  2004.0          1   \n",
       "1                  0.0  Cuenta propia  Gran Buenos Aires  2004.0          1   \n",
       "2  Jubilado/pensionado            0.0  Gran Buenos Aires  2004.0          1   \n",
       "3                  0.0  Cuenta propia  Gran Buenos Aires  2004.0          1   \n",
       "4          Ama de casa            0.0  Gran Buenos Aires  2004.0          1   \n",
       "\n",
       "   H15 PP02I    ESTADO               CH15 CH14 CH09  CH06  CH03  CH04 PP02H  \\\n",
       "0    1    No  Inactivo  En esta localidad   03   Sí  79.0     3     1    No   \n",
       "1    1    No   Ocupado  En otra localidad        Sí  67.0     3     2    No   \n",
       "2    1    No  Inactivo  En esta localidad        Sí  74.0     3     2    No   \n",
       "3    1    No   Ocupado  En esta localidad        Sí  54.0     3     1    No   \n",
       "4    1    No  Inactivo  En esta localidad        Sí  51.0     5     2    No   \n",
       "\n",
       "    AÑO  \n",
       "0  2004  \n",
       "1  2004  \n",
       "2  2004  \n",
       "3  2004  \n",
       "4  2004  "
      ]
     },
     "execution_count": 106,
     "metadata": {},
     "output_type": "execute_result"
    }
   ],
   "source": [
    "df_final.head()"
   ]
  },
  {
   "cell_type": "code",
   "execution_count": 108,
   "id": "c99d295e-57b4-4c3d-8e50-814540046ecd",
   "metadata": {},
   "outputs": [
    {
     "name": "stdout",
     "output_type": "stream",
     "text": [
      "CAT_INAC      0.00000\n",
      "CAT_OCUP      0.00000\n",
      "REGION        0.00000\n",
      "ANO4          0.00000\n",
      "TRIMESTRE     0.00000\n",
      "H15           0.00000\n",
      "PP02I         0.00000\n",
      "ESTADO        0.00000\n",
      "CH15          0.00000\n",
      "CH14         25.45791\n",
      "CH09          0.00000\n",
      "CH06          0.00000\n",
      "CH03          0.00000\n",
      "CH04          0.00000\n",
      "PP02H         0.00000\n",
      "AÑO           0.00000\n",
      "dtype: float64\n"
     ]
    }
   ],
   "source": [
    "porcentaje_nan = df_final.isna().mean()* 100\n",
    "print(porcentaje_nan)"
   ]
  },
  {
   "cell_type": "code",
   "execution_count": 110,
   "id": "85e38563-a466-4b66-8e01-00523ed39e9b",
   "metadata": {},
   "outputs": [
    {
     "name": "stdout",
     "output_type": "stream",
     "text": [
      "Index(['CODUSU', 'nro_hogar', 'componente', 'h15', 'ano4', 'trimestre',\n",
      "       'region', 'mas_500', 'aglomerado', 'pondera',\n",
      "       ...\n",
      "       'PDECIFR', 'ADECIFR', 'IPCF', 'DECCFR', 'IDECCFR', 'RDECCFR', 'GDECCFR',\n",
      "       'PDECCFR', 'ADECCFR', 'PONDIH'],\n",
      "      dtype='object', length=352)\n"
     ]
    }
   ],
   "source": [
    "df_final.drop(columns=['CH14'], inplace=True)\n",
    "print(df.columns)"
   ]
  },
  {
   "cell_type": "code",
   "execution_count": 179,
   "id": "508bd3c8-2121-418b-b034-829bd4bb0c20",
   "metadata": {},
   "outputs": [],
   "source": [
    "df_final['CH06'] = pd.to_numeric(df_final['CH06'], errors='coerce')\n",
    "\n",
    "# Edad al cuadrado\n",
    "df_final['edad2'] = df_final['CH06'] * 2"
   ]
  },
  {
   "cell_type": "code",
   "execution_count": 309,
   "id": "ea15bbf6-c9db-477f-8d77-a11692f13b7e",
   "metadata": {},
   "outputs": [],
   "source": [
    "#PARTE I - EJERCICIO 5"
   ]
  },
  {
   "cell_type": "code",
   "execution_count": 344,
   "id": "bee235cd-73cf-452c-bb0e-a34d2839c569",
   "metadata": {},
   "outputs": [
    {
     "name": "stdout",
     "output_type": "stream",
     "text": [
      "Tamaño de la base unificada para GBA (sin NaNs): 2467\n"
     ]
    }
   ],
   "source": [
    "# 1. Cargar archivos\n",
    "df_2024 = pd.read_excel(\"usu_individual_T124.xlsx\")\n",
    "df_2004 = pd.read_stata(\"Individual_t104.dta\")\n",
    "\n",
    "# 2. Filtrar por Gran Buenos Aires\n",
    "df_2024 = df_2024[df_2024[\"AGLOMERADO\"] == 33]\n",
    "df_2004 = df_2004[df_2004[\"aglomerado\"] == 33]\n",
    "\n",
    "# 3. Renombrar columnas clave\n",
    "vars_2024 = {\n",
    "    'CH06': 'edad',\n",
    "    'NIVEL_ED': 'educ',\n",
    "    'P21': 'salario_semanal',\n",
    "    'PP3E_TOT': 'horastrab'\n",
    "}\n",
    "vars_2004 = {\n",
    "    'ch06': 'edad',\n",
    "    'nivel_ed': 'educ',\n",
    "    'p21': 'salario_semanal',\n",
    "    'pp3e_tot': 'horastrab'\n",
    "}\n",
    "df_2024 = df_2024[list(vars_2024)].rename(columns=vars_2024)\n",
    "df_2004 = df_2004[list(vars_2004)].rename(columns=vars_2004)\n",
    "\n",
    "# 4. Convertir a numérico y limpiar\n",
    "for df in [df_2024, df_2004]:\n",
    "    for col in ['edad', 'educ', 'salario_semanal', 'horastrab']:\n",
    "        df[col] = pd.to_numeric(df[col], errors='coerce')\n",
    "    df['edad2'] = df['edad'] ** 2\n",
    "    df.dropna(subset=['edad', 'edad2', 'educ', 'salario_semanal', 'horastrab'], inplace=True)\n",
    "\n",
    "# 5. Unir ambas bases\n",
    "df_unificado = pd.concat([df_2024, df_2004], ignore_index=True)\n",
    "\n",
    "# 6. Mostrar tamaño final\n",
    "print(\"Tamaño de la base unificada para GBA (sin NaNs):\", df_unificado.shape[0])"
   ]
  },
  {
   "cell_type": "code",
   "execution_count": 356,
   "id": "88324b79-7363-45ac-a794-625ff25e431f",
   "metadata": {},
   "outputs": [
    {
     "name": "stdout",
     "output_type": "stream",
     "text": [
      "                                                    2004  2024  Total\n",
      "Cantidad observaciones                                 0  5629   5629\n",
      "Cantidad de observaciones con Nas en la variabl...     0     0      0\n",
      "Cantidad de Ocupados                                   0     0      0\n",
      "Cantidad de Desocupados                                0     0      0\n",
      "Cantidad de variables limpias y homogeneizadas         6     6      6\n"
     ]
    }
   ],
   "source": [
    "import pandas as pd\n",
    "\n",
    "# Cargar archivos\n",
    "df_2024 = pd.read_excel(\"usu_individual_T124.xlsx\")\n",
    "df_2004 = pd.read_stata(\"Individual_t104.dta\")\n",
    "\n",
    "# Filtrar por región Gran Buenos Aires\n",
    "df_2024_gba = df_2024[df_2024[\"AGLOMERADO\"] == 33].copy()\n",
    "df_2004_gba = df_2004[df_2004[\"aglomerado\"] == 33].copy()\n",
    "\n",
    "# Homogeneizar la columna \"estado\"\n",
    "# 2024 usa \"ESTADO\", 2004 ya tiene \"estado\"\n",
    "df_2024_gba[\"estado\"] = df_2024_gba[\"ESTADO\"].astype(str).str.strip().str.capitalize()\n",
    "df_2004_gba[\"estado\"] = df_2004_gba[\"estado\"].astype(str).str.strip().str.capitalize()\n",
    "\n",
    "# En la EPH, estado suele codificarse como:\n",
    "# 1 = Ocupado, 2 = Desocupado, 3+ = Inactivo u otros\n",
    "\n",
    "estado_map = {\n",
    "    1: \"Ocupado\",\n",
    "    2: \"Desocupado\"\n",
    "}\n",
    "# Convertimos\n",
    "df_2004_gba[\"estado\"] = df_2004_gba[\"estado\"].astype(float).map(estado_map)\n",
    "\n",
    "# Función para calcular los totales\n",
    "def resumen_estado(df):\n",
    "    total = len(df)\n",
    "    nulos = df[\"estado\"].isna().sum()\n",
    "    ocupados = (df[\"estado\"] == \"Ocupado\").sum()\n",
    "    desocupados = (df[\"estado\"] == \"Desocupado\").sum()\n",
    "    return total, nulos, ocupados, desocupados\n",
    "\n",
    "# Aplicar por año\n",
    "res_2004 = resumen_estado(df_2004_gba)\n",
    "res_2024 = resumen_estado(df_2024_gba)\n",
    "res_total = tuple(res_2004[i] + res_2024[i] for i in range(4))\n",
    "\n",
    "# Número de variables limpias y homogeneizadas\n",
    "variables_limpias = 6  # edad, edad2, educ, salario_semanal, horastrab, estado\n",
    "\n",
    "# Armar tabla como diccionario\n",
    "tabla = {\n",
    "    \"2004\": list(res_2004) + [variables_limpias],\n",
    "    \"2024\": list(res_2024) + [variables_limpias],\n",
    "    \"Total\": list(res_total) + [variables_limpias]\n",
    "}\n",
    "\n",
    "# Convertir a DataFrame\n",
    "tabla_df = pd.DataFrame(tabla, index=[\n",
    "    \"Cantidad observaciones\",\n",
    "    \"Cantidad de observaciones con Nas en la variable “Estado”\",\n",
    "    \"Cantidad de Ocupados\",\n",
    "    \"Cantidad de Desocupados\",\n",
    "    \"Cantidad de variables limpias y homogeneizadas\"\n",
    "])\n",
    "\n",
    "# Mostrar resultado\n",
    "print(tabla_df)"
   ]
  },
  {
   "cell_type": "code",
   "execution_count": 311,
   "id": "ddd313e0-761c-40ee-a268-75db91d0fe25",
   "metadata": {},
   "outputs": [],
   "source": [
    "#PARTE II - EJERCICIO 1"
   ]
  },
  {
   "cell_type": "code",
   "execution_count": 220,
   "id": "47294d55-ab8c-4054-9cea-e162d763f36c",
   "metadata": {},
   "outputs": [
    {
     "name": "stdout",
     "output_type": "stream",
     "text": [
      "Faltan columnas en 2024: ['EDAD2', 'HS_TRAB_SEMANA']\n",
      "Faltan columnas en 2004: ['CH06', 'EDAD2', 'NIVEL_ED', 'P21', 'HS_TRAB_SEMANA']\n"
     ]
    }
   ],
   "source": [
    "# Matriz de correlaciones\n",
    "import pandas as pd\n",
    "import seaborn as sns\n",
    "import matplotlib.pyplot as plt\n",
    "\n",
    "# Cargar archivos\n",
    "df_2024 = pd.read_excel(\"usu_individual_T124.xlsx\")\n",
    "df_2004 = pd.read_stata(\"Individual_t104.dta\")\n",
    "\n",
    "# Filtrar por GBA\n",
    "df_2004_gba = df_2004[df_2004[\"region\"] == \"Gran Buenos Aires\"]\n",
    "df_2024_gba = df_2024[df_2024[\"REGION\"] == \"Gran Buenos Aires\"]\n",
    "\n",
    "# Variables que usaremos\n",
    "variables = {\n",
    "    'CH06': 'edad',\n",
    "    'EDAD2': 'edad2',\n",
    "    'NIVEL_ED': 'educ',\n",
    "    'P21': 'salario_semanal',\n",
    "    'HS_TRAB_SEMANA': 'horastrab'\n",
    "}\n",
    "\n",
    "# Verificar que todas las columnas existan\n",
    "missing_2024 = [col for col in variables.keys() if col not in df_2024_gba.columns]\n",
    "missing_2004 = [col for col in variables.keys() if col not in df_2004_gba.columns]\n",
    "\n",
    "print(\"Faltan columnas en 2024:\", missing_2024)\n",
    "print(\"Faltan columnas en 2004:\", missing_2004)"
   ]
  },
  {
   "cell_type": "code",
   "execution_count": 317,
   "id": "e930b8a9-80b3-4aeb-a9e6-fa19168f08c6",
   "metadata": {},
   "outputs": [],
   "source": [
    "# Concatenar las bases ya renombradas\n",
    "df_combinado = pd.concat([df_2024_gba, df_2004_gba], ignore_index=True)"
   ]
  },
  {
   "cell_type": "code",
   "execution_count": 316,
   "id": "9e490ae2-bcd7-44b6-8220-442a20da7f92",
   "metadata": {},
   "outputs": [],
   "source": [
    "# Cargar y filtrar por GBA\n",
    "\n",
    "df_2024 = pd.read_excel(\"usu_individual_T124.xlsx\")\n",
    "df_2004 = pd.read_stata(\"Individual_t104.dta\")\n",
    "\n",
    "df_2004_gba = df_2004[df_2004[\"region\"] == \"Gran Buenos Aires\"]\n",
    "df_2024_gba = df_2024[df_2024[\"REGION\"] == \"Gran Buenos Aires\"]\n",
    "\n",
    "# Renombrar columnas\n",
    "\n",
    "df_2024_gba = df_2024_gba[list(variables_2024.keys())].rename(columns=variables_2024)\n",
    "df_2004_gba = df_2004_gba[list(variables_2004.keys())].rename(columns=variables_2004)"
   ]
  },
  {
   "cell_type": "code",
   "execution_count": 318,
   "id": "9a8292f9-5821-4bfd-9476-41191071206f",
   "metadata": {},
   "outputs": [],
   "source": [
    "# Asegurar que todas las columnas son numéricas y crear edad^2\n",
    "\n",
    "columnas_pca = ['edad', 'educ', 'salario_semanal', 'horastrab']\n",
    "\n",
    "for df in [df_2024_gba, df_2004_gba]:\n",
    "    for col in columnas_pca:\n",
    "        df[col] = pd.to_numeric(df[col], errors='coerce')\n",
    "    df['edad2'] = df['edad'] ** 2\n",
    "\n",
    "# Eliminar filas con NaN solo en las columnas necesarias\n",
    "columnas_pca_con_edad2 = columnas_pca + ['edad2']\n",
    "df_2024_gba = df_2024_gba.dropna(subset=columnas_pca_con_edad2)\n",
    "df_2004_gba = df_2004_gba.dropna(subset=columnas_pca_con_edad2)\n"
   ]
  },
  {
   "cell_type": "code",
   "execution_count": 307,
   "id": "1f6e78e4-99a8-413c-8dc9-83775405edd4",
   "metadata": {},
   "outputs": [
    {
     "data": {
      "image/png": "iVBORw0KGgoAAAANSUhEUgAAAkwAAAIjCAYAAADxxkRMAAAAOXRFWHRTb2Z0d2FyZQBNYXRwbG90bGliIHZlcnNpb24zLjkuMiwgaHR0cHM6Ly9tYXRwbG90bGliLm9yZy8hTgPZAAAACXBIWXMAAA9hAAAPYQGoP6dpAACViklEQVR4nOzdd3hT1f8H8HeatulIk+5JaSmFMgqUPZQlQ/YUkClLQRCEMqQo04HwleECAdmgIiCKCCiykQ0tq2W1he69Z5rk/v7oj5SQrmBLWvt+Pc99HnJyzr3nXtLkk88590QkCIIAIiIiIiqRkaE7QERERFTVMWAiIiIiKgMDJiIiIqIyMGAiIiIiKgMDJiIiIqIyMGAiIiIiKgMDJiIiIqIyMGAiIiIiKgMDJiIi0jF06FA0adIE6enphu4KUZXAgImoCtu+fTtEIhFEIhFOnz6t87wgCPD29oZIJEKXLl1e6Bjr16/H9u3b9Wpz+vTpEvtUUZYuXQqRSFRp+6/KunTp8sL/n+Uxfvx4eHp6lvj8unXrcOXKFRw9ehRyubzS+kFUnTBgIqoGrKyssGXLFp3yM2fOIDQ0FFZWVi+87xcJmFq0aIGLFy+iRYsWL3xcMpxFixbh4MGDxT536dIlfPrppzh69Chq1ar1kntGVHUxYCKqBkaMGIEDBw4gIyNDq3zLli1o3749ateu/VL6UVBQAKVSCZlMhnbt2kEmk72U41YHT69NcXJycl5yb0pXt25dNG/evNjn2rVrh8TERPj6+r7kXhFVbQyYiKqBkSNHAgB+/PFHTVl6ejoOHDiAiRMnFttm2bJlaNu2LWxtbSGTydCiRQts2bIFz/7etqenJ+7evYszZ85ohv6eDtU8HXbbtWsX5syZAzc3N0gkEjx69EhnSO7x48ea9sVtZfnjjz/g5+cHiUSCOnXq4Isvvii2niAIWL9+Pfz8/GBubg4bGxu88cYbCAsLK89lxL179zBy5Eg4OTlBIpGgdu3aGDduHPLz8zV17ty5g4EDB8LGxgZmZmbw8/PDjh07tPZT2rUZP348pFIpbt++jZ49e8LKygrdunUDACgUCnzyySdo0KABJBIJHBwcMGHCBCQmJpbZ9/L8fz71ww8/oH379pBKpZBKpfDz89PKUBY3JJeXl4eAgADUqVMHpqamcHNzw/Tp05GWlqZVz9PTE/369cOxY8fQokULmJubo0GDBti6dWuZ50BUnRkbugNEVDaZTIY33ngDW7duxZQpUwAUBk9GRkYYMWIE1q1bp9Pm8ePHmDJliib7dOnSJcyYMQPR0dFYvHgxAODgwYN44403IJfLsX79egCARCLR2k9AQADat2+P7777DkZGRnB0dERcXJxWHRcXF1y8eFGrLDExEWPGjIGbm1up53bixAkMHDgQ7du3x08//QSVSoVVq1YhPj5ep+6UKVOwfft2zJw5EytXrkRKSgqWL1+ODh064ObNm3BycirxODdv3sSrr74Ke3t7LF++HPXq1UNsbCwOHToEhUIBiUSC+/fvo0OHDnB0dMRXX30FOzs77N69G+PHj0d8fDzmz59f5rUBCgOjAQMGYMqUKViwYAGUSiXUajUGDhyIc+fOYf78+ejQoQOePHmCJUuWoEuXLrh27RrMzc1L7H95/j8BYPHixfj4448xZMgQzJkzB3K5HHfu3MGTJ09K3LcgCBg0aBBOnDiBgIAAdOzYEbdu3cKSJUtw8eJFXLx4Uet1cfPmTcyZMwcLFiyAk5MTvv/+e0yaNAne3t7o1KlTicchqtYEIqqytm3bJgAQrl69Kpw6dUoAINy5c0cQBEFo3bq1MH78eEEQBKFx48ZC586dS9yPSqUSCgoKhOXLlwt2dnaCWq3WPFdS26fH69SpU4nPnTp1qtjjZWdnC23atBFcXFyEx48fl3qObdu2FVxdXYXc3FxNWUZGhmBrays8+xZ18eJFAYCwevVqrfaRkZGCubm5MH/+/FKP89prrwnW1tZCQkJCiXXefPNNQSKRCBEREVrlvXv3FiwsLIS0tDRBEEq/Nm+99ZYAQNi6datW+Y8//igAEA4cOKBVfvXqVQGAsH79ek1Z586dX+j/MywsTBCLxcLo0aNLbPu0jx4eHprHx44dEwAIq1at0qq3d+9eAYCwadMmTZmHh4dgZmYmPHnyRFOWm5sr2NraClOmTCn1uETVGYfkiKqJzp07o27duti6dStu376Nq1evljgcBwAnT55E9+7dIZfLIRaLYWJigsWLFyM5ORkJCQnlPu7QoUP16qdKpcKIESMQEhKCI0eOwMPDo8S62dnZuHr1KoYMGQIzMzNNuZWVFfr3769V9/DhwxCJRBgzZgyUSqVmc3Z2RrNmzUq9Yy8nJwdnzpzB8OHD4eDgUGK9kydPolu3bnB3d9cqHz9+PHJycnSyaKVdm+efO3z4MKytrdG/f3+t/vv5+cHZ2bnMOw7L8/95/PhxqFQqTJ8+vdR9Fbfvp+f5rGHDhsHS0hInTpzQKvfz89OaN2dmZob69euXmsUiqu44JEdUTYhEIkyYMAFfffUV8vLyUL9+fXTs2LHYuleuXEHPnj3RpUsXbN68GbVq1YKpqSl+/fVXfPrpp8jNzS33cV1cXPTq59SpU3Hs2DHNvKTSpKamQq1Ww9nZWee558vi4+MhCEKJw25eXl6lHkelUpV511dycnKx5+vq6qp5/lklXRsLCwudCfHx8fFIS0uDqalpsW2SkpJK7Fd5/z+fzoXS9+625ORkGBsb6wSTIpEIzs7OOudtZ2ensw+JRKLX64qoumHARFSNjB8/HosXL8Z3332HTz/9tMR6P/30E0xMTHD48GGtzM2vv/6q9zH1WQtp6dKl+P7777Ft2zb07NmzzPo2NjYQiUQ6c6IA6JTZ29tDJBLh3LlzOvOsAN25V8+ytbWFWCxGVFRUqf2xs7NDbGysTnlMTIymD88q6doUV25vbw87OzscO3as2DalLQ1R3v/PpwFPVFSUTpasNHZ2dlAqlUhMTNQKmgRBQFxcHFq3bl3ufRH9V3FIjqgacXNzw7x589C/f3+89dZbJdYTiUQwNjaGWCzWlOXm5mLXrl06dSsqM7BlyxYsW7YMy5cv1xnaKYmlpSXatGmDX375BXl5eZryzMxM/P7771p1+/XrB0EQEB0djVatWulsTZo0KfE45ubm6Ny5M/bt21dqJqdbt244efKkJkB6aufOnbCwsEC7du3KdV7F6devH5KTk6FSqYrtv4+PT4lty/v/2bNnT4jFYmzYsEGvvj29i2/37t1a5QcOHEB2drbmeaKajBkmomrm888/L7NO3759sWbNGowaNQrvvPMOkpOT8cUXXxSbhWnSpAl++ukn7N27F15eXjAzMys1+CjOxYsXMXXqVLzyyivo0aMHLl26pPV8aYHGxx9/jF69eqFHjx6YM2cOVCoVVq5cCUtLS6SkpGjqvfLKK3jnnXcwYcIEXLt2DZ06dYKlpSViY2Nx/vx5NGnSBO+++26Jx1mzZg1effVVtG3bFgsWLIC3tzfi4+Nx6NAhbNy4EVZWVliyZAkOHz6Mrl27YvHixbC1tcWePXvwxx9/YNWqVf9q1es333wTe/bsQZ8+ffD++++jTZs2MDExQVRUFE6dOoWBAwdi8ODBxbYt7/+np6cnFi5ciI8//hi5ubkYOXIk5HI5goODkZSUhGXLlhW7/x49euD111/HBx98gIyMDLzyyiuau+SaN2+OsWPHvvB5E/1nGHjSORGV4tm75EpT3J1uW7duFXx8fASJRCJ4eXkJK1asELZs2SIAEMLDwzX1Hj9+LPTs2VOwsrISAGjunnp6J9i+fft0jvf8XXJP+1nSVpZDhw4JTZs2FUxNTYXatWsLn3/+ubBkyZJi227dulVo27atYGlpKZibmwt169YVxo0bJ1y7dq3M4wQHBwvDhg0T7OzsNMcaP368kJeXp6lz+/ZtoX///oJcLhdMTU2FZs2aCdu2bSv2/Iu7Nm+99ZZgaWlZ7PELCgqEL774QmjWrJlgZmYmSKVSoUGDBsKUKVOEhw8fauoVd5dcef8/BUEQdu7cKbRu3VpzjObNm2udw/N3yQlC4Z1uH3zwgeDh4SGYmJgILi4uwrvvviukpqZq1fPw8BD69u2rc25l3dlHVN2JBKGYVc+IiIiISINzmIiIiIjKwICJiIiIqAwMmIiIiIjKwICJiIiIqo2zZ8+if//+cHV1hUgkKtf6cmfOnEHLli1hZmYGLy8vfPfdd3oflwETERERVRvZ2dlo1qwZvvnmm3LVDw8PR58+fdCxY0cEBgZi4cKFmDlzJg4cOKDXcXmXHBEREVVLIpEIBw8exKBBg0qs88EHH+DQoUMICQnRlE2dOhU3b97U+X3I0jDDRERERAaVn5+PjIwMrS0/P79C9n3x4kWdn2p6/fXXce3aNRQUFJR7P1zpm7T8YVLyzzNQEWMZ/3TK69NOGw3dhWqhThNvQ3eh2kiKKfnnbajIH9/7Vt6+K/iz4uqHI3VWol+yZAmWLl36r/cdFxen86PdTk5OUCqVSEpKKvcPjPNdn4iIiPQiMin/j3KXR0BAAPz9/bXKSvtBbX09/4PYT2cj6fPj4gyYiIiIyKAkEkmFBkjPcnZ2RlxcnFZZQkICjI2NYWdnV+79MGAiIiIivRgZV2yGqTK1b98ev//+u1bZX3/9hVatWsHExKTc++GkbyIiItKLyMSoQjd9ZGVlISgoCEFBQQAKlw0ICgpCREQEgMLhvXHjxmnqT506FU+ePIG/vz9CQkKwdetWbNmyBXPnztXruMwwERERUbVx7do1dO3aVfP46dynt956C9u3b0dsbKwmeAKAOnXq4MiRI5g9eza+/fZbuLq64quvvsLQoUP1Oi4DJiIiItKLIYfkunTpgtKWkNy+fbtOWefOnXHjxo1/dVwGTERERKSXir5LrjrgHCYiIiKiMjDDRERERHqpTnfJVRQGTERERKQXDskRERERkQ5mmIiIiEgvHJIjIiIiKoNIXPMCJg7JEREREZWBGSYiIiLSi1ENzDAxYCIiIiK9iIxqXsDEITkiIiKiMjDDRERERHoRiWtevoUBExEREemlJs5hqnkhIhEREZGemGEiIiIivdTESd8MmIiIiEgvHJIjIiIiIh3MMBEREZFeauJPozBgIiIiIr2IjGreAFXNO2MiIiIiPTHDRERERHrhXXJEREREZeBdckRERESkgxkmIiIi0guH5IiIiIjKwLvkqEo4ffo0RCIR0tLS/tV+unTpglmzZlVIn4iIiGoyZpioSrJ9tRW85kyCvIUvzFwdcW3oNMQfOmHobr1U7hPfhOd7EyBxckDWvUe49+HnSLt0o+T6k0ai9uSRMHd3Q150LMLWbELM3kNadTymjIX7xBEwc3OBIiUV8YeO4+HHa6HOV1T26VSoCSNqo39PJ1hZGiP4YRbWbgrF48icUtt0bmeHSaM84Opshpi4PGze8wTnLidrnt+7sRVcHM102h08GoO1m8I0x33tVXs42kugVAq4H5qFzXseI+RhVsWeYAV4rbU5+rxqCblUjJhEJfYczcCDJwUl1vfxNMGoXjK4OhgjLVOFI+ezcepabrF12/qaYdpwa1wPycNXP6YV7cPDBL1ftYSniwlsZGJ8+UMqbtzLr+hTqxSjBjiiVycbSC3EuB+eiw17YhARU3rfO7SQYewgR7g4mCI2UYGdB+NxMTBT8/yw3vbo0EKGWi4SKBQCQkJzsG1/HKLji/7ezCRGGD/UCe39ZLCSipGQrMChEyk4cjql0s61ItTEITlmmKhKEltaIOPWfdx9f7mhu2IQzoN6ocGnCxC2ZhMudn0DaZduoOXejTBzcym2vvuEEai/aBZCV67HP68MxKPPv0XDVR/B4fUumjoub/RFvcWzEbpqA86374+7MxfDeXAv1Fs0+yWdVcUYNdgNwwe4Yt3mMLwz/yZSUhVYs7QxzM3EJbZp7GOFJXMb4M/TCZg4OxB/nk7Asrk+aFhPqqnzzrwgDJpwWbPNXnIbAHDqn6KgKjImF+s2h2L8rBuYvvAW4hLysHqJL+SyqvXds42vGUb3luH3M9lYvCEJ958oMGeMDWzlxb/l21uLMWeMDe4/UWDxhiQcPpuNMX1kaNVIolPXTm6EN1+3wv3HukG2xFSEyDgldv2RUeHnVJne6GWPwT3s8N0PsZj9SShS0wvwib8nzCUlf0Q28DLHginuOHkxDe8te4STF9OwYEpt+NQx19Rp4mOJP06lYM5nYfhozWOIjYBP/D0hMS0KNt4e4YyWvlJ8sSUKUxc9xK/HkzF1pAva+VlV6jn/W0ZiUYVu1QEDppdAEASsWrUKXl5eMDc3R7NmzbB//37N80eOHEH9+vVhbm6Orl274vHjx1rtk5OTMXLkSNSqVQsWFhZo0qQJfvzxR6062dnZGDduHKRSKVxcXLB69eqXcWqVJvHPs3iwZB3ifj1u6K4YhMe0txC15wCidx9A9oMw3Pvwc+TFxMJ94ohi67sM74/I7T8j7tdjyH0ShbiDRxG9+xfUmTlJU8e6tR/SrgQi9sAfyIuMQfLpC4g7cARyv8Yv67QqxLB+bti1PxJnLyUjPCIHn331ABKJGD06OZTSxhXXbqZizy9RiIjOxZ5fonD9VjqG9XfT1EnPUCIlrUCzdWhli6jYXATdTdfU+ftcIq7fSkdsfD4eR+bgm23hkFoao66HZaWes756dbDA2Ru5OHMjF7FJKvxwNBMpGWp0a21RbP3XWpsjOV2NH45mIjZJhTM3cnE2MBe9X9E+L5EImPqGNQ6eykJCqkpnP7ceKnDgRBauh1SPrNJTA7vbYe8fibhwIwNPYvKxZms0JKZG6NxWXnKbHvYIDM7CvqNJiIpTYN/RJNy8l4WB3e00dRave4K/L6QhIiYf4VF5WLstGo52pvD2KAqqGtS1wIkLabh9PxsJyQU4djYV4VF5WnWoamDA9BJ89NFH2LZtGzZs2IC7d+9i9uzZGDNmDM6cOYPIyEgMGTIEffr0QVBQECZPnowFCxZotc/Ly0PLli1x+PBh3LlzB++88w7Gjh2Ly5cva+rMmzcPp06dwsGDB/HXX3/h9OnTuH79+ss+VaoAIhMTyJo1QvKpC1rlyacuwLq1X7FtjExNdYbVVHl5kLdoApFxYfYj9dINyJo1grxFEwCAuUct2PfoiMTjZyv+JCqJi5MEdramuBqUpikrUAq4eTcdvg1K/kbe2MdKqw0AXAlKha9P8W2MjUXo0dkRR07El7hPY2MRBvR0Rma2EqGPs/U6j8okFgOeLia4E6odtNx5lA/v2qbFtvF2N8WdR7r1PV1NIH7mU2JQFykys9U4e6P4obrqyNneBLbWJrhxt2hYVakUcOd+Nhp6Fx9gAoUZpsBg7aHYG3ezSm1jaVGYBc3KLgo2gx/moG0zK9hZF/6dNvWxhKuTqVZ/qiKRkahCt+qgauWR/4Oys7OxZs0anDx5Eu3btwcAeHl54fz589i4cSM8PT3h5eWFtWvXQiQSwcfHB7dv38bKlSs1+3Bzc8PcuXM1j2fMmIFjx45h3759aNu2LbKysrBlyxbs3LkTPXr0AADs2LEDtWrVKrVv+fn5yM/XfpMsENQwETGONiRTO2sYGRtDkZCsVZ6fmAx7J/ti2ySf+ge1xgxFwpETyLgZDJlfY7iNGgwjUxOY2FlDEZ+EuINHYWpvgzZ/7AJEgJGJCSK2/oTwL79/GadVIeysCz/wU9K05+KkpBXA2UF3+OgpW2tTpD7XJjWtALY2xQcQHdvYQWppjKMnE3Sea9/KBkv8G8BMYoTkVAXmLL2D9EylvqdSaawsjCAWi5CepdYqT89WQy4t/m9bLjVCevZz9bPUMBaLILUwQnqWGvVqm6BTC3Ms2pBUaX03BBt54cdgWob2/2FahhIOdialtktN126Tmq6ETSnDs28Pd8adB9l48szcqI0/xmLGW67Y+UUDKJUCBEHAlztiEPyo9Dl59PIxYKpkwcHByMvL0wQyTykUCjRv3hy5ublo164dRKKiCPtpYPWUSqXC559/jr179yI6OloT6FhaFqbLQ0NDoVAotNrZ2trCx8en1L6tWLECy5Yt0yobKbLFaHHxH8r0cgmCoPVYJBLplD0V+sV3MHW0R9s/fwBEIigSkxHz02+FQ3Kqwg9Cm1daw2v2FATP+xjp12/Bwqs2GnwWgPy4RISt/q7Sz+dF9OjkgDlTvTWPP/j07v//6/lrA5RwaTR0r2fJbfp2d8LlG6lITtWdpxN4Ox2T/AMhl5mgfw8nLJvbAFM+uIm09JInVBvC86cmQhnX6LnnnnlLgpmpCFOGyrHtUDqycsq40FVcl7ZyvDfWVfN46VdPAOheL7xA0kMkKmY//+/dUS7wrGWGeSvDtMoHdLNFAy8LLPv6CRKSFfCtZ4lpY1yQml6AoJCqk7l8Xk1cVoABUyVTqws/rP744w+4ublpPSeRSDBjxowy97F69WqsXbsW69atQ5MmTWBpaYlZs2ZBoSh8My/pQ7QsAQEB8Pf31yo7advyhfZFFUeRnAa1UgnJc9kkU3tbnazTU+q8fNyduQjB/stg6miH/LhEuL81DMrMLCiSUwEA9QJmIObnQ4jefQAAkBXyEGILczResxRhazaWHXEYwPkrKQh+EKh5bGJS+CZta22K5NSiAMVGboLU9JLv9EtJU+hkk6zlJkhN023j5CBBy6bWWLQqpNh95eWrER2Xh+i4PAQ/yMQP37ZE325O2PNLlF7nVlkyc9RQqQRYP5dNklkaIeO5LNJT6Vm62SeZpRGUKgFZOWq4ORrDwcYYs0bZaJ5/GlBtXeKEBV8lFTunqSq6HJSJ++GhmscmxoUnYiPTzhhZWxkjNaPkzGFqulKTndK0kRnrZKoAYOpIF7T1k+GDVWFITi163tREhHFDnPDptxG4ertwCO5xVD68apthyOv2VTxgqh7DaBWJAVMla9SoESQSCSIiItC5c+din//111+1yi5duqT1+Ny5cxg4cCDGjBkDoDAIe/jwIRo2bAgA8Pb2homJCS5duoTatWsDAFJTU/HgwYNij/mURCKBRKI9jMHhOMMTCgqQcTMYdl06IOGPoqUU7Lp0QMLRk6W3VSqRH1M478Z5cG8k/nlGEwgZmZvpBEWCSl34yVeeFI0B5OapEB2n/UGcnKJAq2bWeBhe+GFibCxCs8ZybNz5uMT93L2fidbNrLHv9xhNWWs/a9y5n6lTt89rTkhLL8DFa+W8rVsEmJpUnb8blQp4HFuAxnUlWpOvG9eVIPBeXrFtHkUq4OdjBqDoevjWleBxTAFUaiA2SYmF32gPxQ3tJoWZRIQ9RzKRnFE9giUAyM1XIzdBO1BOSStA88ZShEUWXh9jsQi+PpbYtj+uxP3cC8uFXyMpfj1e9CWmeSMpQp4bSps6ygXtm8sQ8L9wxCdpZyHFYhFMjI2gfu5PT62G1qgDVQ0MmCqZlZUV5s6di9mzZ0OtVuPVV19FRkYGLly4AKlUiqlTp2L16tXw9/fHlClTcP36dWzfvl1rH97e3jhw4AAuXLgAGxsbrFmzBnFxcZqASSqVYtKkSZg3bx7s7Ozg5OSEDz/8EEbVOGUqtrSApXdtzWOLOrUga9YAipR05EXGGrBnL8eT9TvQZMPnyAi8g7RrN1Fr3DCYubkgctteAEC9RbMgcXHEnWkLAQAWdT0gb9EE6ddvwcRaDo93x0HasB5uT1+o2Wfin6fhOe0tZNwK0QzJ1QuYgYRjpwrfoauJfYejMeYNd0TF5iEqNhdjhtZCfr4Kx88mauosnFkfSSn52LS7cLhl/+EYfPVpU4wa7IbzV1LwahtbtGpqjekLb2ntWyQCer/miGOn45+OZGqYSYww9g13/HM1BcmpCsitjDGolwsc7CQ4daFqzes5diEHU4bIER5dgEeRCnRtZQE7uRFOXi38MB/WXQobmRibfim8A/Dk1Vx0b2uBkb2scPpaDrzdTdGphTk27E8DABQogegE7cxJTl7hp/yz5RJTEZxsi5Z3cLARo7azMbJy1UhJr7qvsd/+TsbwPg6Iic9HTLwCw/s6IF+hxpnLRXdI+k90Q3KaEjt+KfxCcujvJKyc74U3etnjUlAG2vnJ4NdQivnPDLlNG+2Czm2t8fE3T5Cbp9bMb8rOVUFRICA3T41b97MxcZgzFAWxSEhWoEl9S7zW3hrf/1xysFYVMMNEleLjjz+Go6MjVqxYgbCwMFhbW6NFixZYuHAhateujQMHDmD27NlYv3492rRpg88++wwTJ07UtF+0aBHCw8Px+uuvw8LCAu+88w4GDRqE9PSiP+b//e9/yMrKwoABA2BlZYU5c+ZoPV/dyFv6ov2JXZrHjb4o/OCP3PkLbk0KMFS3Xpq4X4/BxNYadee9C4mTAzJDHuLGm1ORF1UYLEqcHGD+zJpMIrEYntPGw9LbE2qlEinnr+By79HIiyzKqIStLhx2q7dwJiQujlAkpyLxz9N4+MmXL/38/o0fDkZDYiqG/zt1IZUaI+RhJuYsu4vcvKIsh5ODRGuo+s79TCxbfQ+TR3lg0kgPxMTnYenq+zoLTrZqag1nRzP8UczdcWq1AI9a5ujVtQHkMhNkZBbg3qMszPjwVpmLZr5sV+7kQWouwsAuUlhbGSE6QYk1u1OR/P9Bi9xKDFt5UWCTlKbC6t2pGNVLhm5tLJCWqcLuIxm4Fqzf8gB1XE0QMNFW83hUbxkA4FxgLr4/WHXfj/YfS4KpqRGmjXaF1FKM+2G5WLTmMXLzi4I8BztTrSRsSGguVm6KxNhBThgzyBFxiQqs3BSJ++FFdxD27Vq4xMDK+V5ax1u7NQp/X0gDAKzaGIm3hjph7uRasLIUIyG5ADsPxnPhyipIJLzoBBj6T/rDpPSJ4lTIuIotVFiVfdppo6G7UC3UaeJddiUCACTFVK2MXlX1x/e+lbbvByN7Vej+6v94rEL3Vxn4rk9ERER64V1yRERERGWoLj9nUpFqXohIREREpCdmmIiIiEgvNXHSNwMmIiIi0ktNnMNU886YiIiISE/MMBEREZFeOCRHREREVIaaGDBxSI6IiIioDMwwERERkV5q4qRvBkxERESkFw7JEREREZEOZpiIiIhILxySIyIiIiqLiENyRERERPQcZpiIiIhILzVx0jcDJiIiItJLTZzDVPPOmIiIiEhPzDARERGRXjgkR0RERFQGDskRERERkQ5mmIiIiEgvHJIjIiIiKkNNDJg4JEdERETVyvr161GnTh2YmZmhZcuWOHfuXKn19+zZg2bNmsHCwgIuLi6YMGECkpOT9TomAyYiIiLSj5FRxW562Lt3L2bNmoUPP/wQgYGB6NixI3r37o2IiIhi658/fx7jxo3DpEmTcPfuXezbtw9Xr17F5MmT9TtlvWoTERFRjScSiSp008eaNWswadIkTJ48GQ0bNsS6devg7u6ODRs2FFv/0qVL8PT0xMyZM1GnTh28+uqrmDJlCq5du6bXcRkwERERkUHl5+cjIyNDa8vPz9epp1AocP36dfTs2VOrvGfPnrhw4UKx++7QoQOioqJw5MgRCIKA+Ph47N+/H3379tWrjwyYiIiISC8iI6MK3VasWAG5XK61rVixQue4SUlJUKlUcHJy0ip3cnJCXFxcsX3t0KED9uzZgxEjRsDU1BTOzs6wtrbG119/rdc5M2AiIiIivYiMRBW6BQQEID09XWsLCAgo+fjPDeMJglDi0F5wcDBmzpyJxYsX4/r16zh27BjCw8MxdepUvc6ZywoQERGRQUkkEkgkkjLr2dvbQywW62STEhISdLJOT61YsQKvvPIK5s2bBwBo2rQpLC0t0bFjR3zyySdwcXEpVx+ZYSIiIiL9GOguOVNTU7Rs2RLHjx/XKj9+/Dg6dOhQbJucnBwYPXcMsVgMoDAzVV7MMBEREZFeDLlwpb+/P8aOHYtWrVqhffv22LRpEyIiIjRDbAEBAYiOjsbOnTsBAP3798fbb7+NDRs24PXXX0dsbCxmzZqFNm3awNXVtdzHZcBERERE1caIESOQnJyM5cuXIzY2Fr6+vjhy5Ag8PDwAALGxsVprMo0fPx6ZmZn45ptvMGfOHFhbW+O1117DypUr9TquSNAnH0X/eX/aNTZ0F6oFZYbS0F2oNlb02mToLlQLHr7ehu5CtZGWmGroLlQLf3zvW2n7Tv303Qrdn82Hxa+hVJUww0RERET64W/JEREREdHzmGEiIiIivYj0/P23/wIGTERERKQXQ94lZyg1L0QkIiIi0hMzTERERKQfUc3LtzBgIiIiIr1wSI6IiIiIdDDDRERERPrhXXJEREREpROJOCRHRERERM9hhomIiIj0wyE5IiIiotLxLjkiIiIi0sEMExEREemHC1cSERERlYFDckRERET0PGaYiIiISC8iDskRERERlYFDckRERET0PGaYiIiISC8iLlxJREREVAb+lhwRERERPY8ZJiIiItIPh+SIiIiIysAhOSIiIiJ6HjNMREREpBfeJUdERERUlhq40nfNO2MiIiIiPTHDRERERPqpgT+NwoCJiIiI9FITf3y35p2xgZ0+fRoikQhpaWn/aj9dunTBrFmzKqRPREREVDpmmP4DCgoK8NFHH+HIkSMICwuDXC5H9+7d8fnnn8PV1dXQ3dPhPvFNeL43ARInB2Tde4R7H36OtEs3Sq4/aSRqTx4Jc3c35EXHImzNJsTsPaRVx2PKWLhPHAEzNxcoUlIRf+g4Hn68Fup8RWWfjsHZvtoKXnMmQd7CF2aujrg2dBriD50wdLcq1cSRHhjwuguspMYIfpCJNd89RHhETqltOnewx+TRnnBzMUd0bC427wrH2UvJmufFRsDEUZ7o0cURdtamSE5V4MiJeOzY+wSCULQfj1oWeHd8Hfj5WsNIBIRH5GDxqmDEJ+ZX1um+kO7tLNG3oxTWVmJEJxRg1+F03H9c8t9DgzqmGNNXDjdHE6RlqnD4TCZOXCm6pl1bW+DV5hZwdzYBAIRHK7D3zwyERRVo6gzpZoWh3WVa+03LVGH6Z3EVfHYVb9QAR/TqZAOphRj3w3OxYU8MImJK/z/t0EKGsYMc4eJgithEBXYejMfFwEzN88N626NDCxlquUigUAgICc3Btv1xiI4v+n8wkxhh/FAntPeTwUoqRkKyAodOpODI6ZRKO9cKwSE5qo5ycnJw48YNLFq0CM2aNUNqaipmzZqFAQMG4Nq1a4bunhbnQb3Q4NMFCJ73MdKuBML9reFouXcj/ukwAHnRsTr13SeMQP1Fs3B31hKkB96BvEUTNF63DAVpGUj88zQAwOWNvqi3eDbuzlyE1CuBsKzrCd9vPwUA3P9o5cs8PYMQW1og49Z9RO34BS33fWPo7lS60UPdMWJQLXy67j4io3Pw1ggPrF3eFCPfvYrcXFWxbRr7yLBsfiN8vzscZy8loVM7eyz/oBGmfRCE4AeFH3Cj36iNgb1d8enaewiPyEYDbyssfN8H2dlK7Ps9GgDg6myG9Sv9cPh4HLb88ATZ2Up4uFsgX6F+aedfHu2amGNsXzm2/ZaGB08UeK2tJeaPt8P8tQlITte9Rg42Yswbb4dTV3Owfm8q6nuYYsJAa2Rkq3H1bh4AoKGXBBdv5WLn7+lQKAX06yTFgon2+GBdPFIzis4/Mq4AK7YkaR6rBZ3DVTlv9LLH4B52WLstGtFx+RjRzwGf+HtiyocPkZtf/P9tAy9zLJjijl2/xuNiYAbaN5dhwZTamL8yDPfDcwEATXws8cepFDx4nAuxkQjjBjviE39PTF30EPmKwgvz9ghnNG1giS+2RCE+SYEWjaWYNtoVKWkFuBSUWeyxqwQOyZG+BEHAqlWr4OXlBXNzczRr1gz79+/XPH/kyBHUr18f5ubm6Nq1Kx4/fqzVPjk5GSNHjkStWrVgYWGBJk2a4Mcff9Sqk52djXHjxkEqlcLFxQWrV6/Wel4ul+P48eMYPnw4fHx80K5dO3z99de4fv06IiIiKu3cX4THtLcQtecAoncfQPaDMNz78HPkxcTCfeKIYuu7DO+PyO0/I+7XY8h9EoW4g0cRvfsX1Jk5SVPHurUf0q4EIvbAH8iLjEHy6QuIO3AEcr/GL+u0DCrxz7N4sGQd4n49buiuvBTDBrhh588ROHsxCeEROfh07T1IJGL07OxYYpvhA91wLSgVu/dHIiIqF7v3R+L6zTQMH1BLU6dxAxnOX0rCxWspiEvIx+kLSbgSlAqfelaaOu+MrYOL11OwYXsYHoZlISY+DxevpSAtvaC4wxpM745SnL6WjdPXchCTqMTuw+lITlehezvLYut3a2uJ5DQVdh9OR0yiEqev5eDM9Rz07VR07uv3puLvS9l4EluA2EQlvv8lDUYioHFdida+1GoB6VlqzZaZXbWCyeIM7G6HvX8k4sKNDDyJyceardGQmBqhc1t5yW162CMwOAv7jiYhKk6BfUeTcPNeFgZ2t9PUWbzuCf6+kIaImHyER+Vh7bZoONqZwtvDXFOnQV0LnLiQhtv3s5GQXIBjZ1MRHpWnVYeqBgZM/9JHH32Ebdu2YcOGDbh79y5mz56NMWPG4MyZM4iMjMSQIUPQp08fBAUFYfLkyViwYIFW+7y8PLRs2RKHDx/GnTt38M4772Ds2LG4fPmyps68efNw6tQpHDx4EH/99RdOnz6N69evl9qv9PR0iEQiWFtbV8ZpvxCRiQlkzRoh+dQFrfLkUxdg3dqv2DZGpqY6w2qqvDzIWzSByLgwQZp66QZkzRpB3qIJAMDcoxbse3RE4vGzFX8SZFCuTmawt5XgSmCqpqxAKSDoThp8G8hKbOfbQIYrgdpDHJcDU+DbsKjN7eB0tGxmA3fXwg8qb09LNG0ox6VrhcN2IhHQoZUtIqNzsHpZE/y+qz02fdEcHdvZoSoRi4E6ria4/VB7OOn2w3zUq21abJt6tU116t96kIc6biYQl/ApITERQSwWITtXO4XkZG+MbwKcsXaeE9570wYONuIXP5mXwNneBLbWJrhxN0tTplQKuHM/Gw29LUps18DLHIHBWVplN+5mldrG0qLwWmRlF2X5gh/moG0zK9hZF76fNfWxhKuTqVZ/qiSRqGK3aoBDcv9CdnY21qxZg5MnT6J9+/YAAC8vL5w/fx4bN26Ep6cnvLy8sHbtWohEIvj4+OD27dtYubJomMjNzQ1z587VPJ4xYwaOHTuGffv2oW3btsjKysKWLVuwc+dO9OjRAwCwY8cO1KpVCyXJy8vDggULMGrUKMhkJX+I5OfnIz9f+01SIahhWkmpVlM7axgZG0ORkKxVnp+YDHsn+2LbJJ/6B7XGDEXCkRPIuBkMmV9juI0aDCNTE5jYWUMRn4S4g0dham+DNn/sAkSAkYkJIrb+hPAvv6+U8yDDsbUp/MBPSdMOolPTFHByNCu5nbUpUtO0s0CpaQWa/QHA7v2RsLQwxp4NraFWCzAyEmHTrnD8fTYRAGAjN4GFhTHGvFEbm3eHY8P2MLRraYtPAxpj5oc3EXQnvaJO81+xsjCCWCxCepZ2Zic9SwW5laTYNnIrMdKz8p6rr4axWAQrSyOkZepmid7sJUNKhgp3HhW1C41U4LufUxGXpIRMKsag16yw9F0HfLAuAVk5VTPTZCMv/BhMy1BqladlKOFgZ1Jqu9R07Tap6UrYyEr+WH17uDPuPMjGk2fmRm38MRYz3nLFzi8aQKkUIAgCvtwRg+BHpc/JMziu9E36CA4ORl5eniaQeUqhUKB58+bIzc1Fu3btIHomen4aWD2lUqnw+eefY+/evYiOjtYEMZaWhanz0NBQKBQKrXa2trbw8fEptk8FBQV48803oVarsX79+lL7v2LFCixbtkyrbLSZPcZalDy0UREEQfsbqUgk0il7KvSL72DqaI+2f/4AiERQJCYj5qffCofkVIVvwDavtIbX7CkInvcx0q/fgoVXbTT4LAD5cYkIW/1dpZ4LVa4enR0xb3p9zeP5y28X/uP5l4tIpFv2nOJeY88WdevogJ5dHLHsixCER+SgnpclZk72RlKKAsdOxkP0/5Ncz19Ows+/Fc5pehSeDd8GMgzq5VplAqandC5RcYWlNHj6tlXcn2a/TlK0b2aBTzYnouCZmOHmg2e+gMUr8ShCgTXznNCxhQWOnq8aGZMubeV4b2zRzTBLv3oCoJhL8wJJj9Jehu+OcoFnLTPMWxmmVT6gmy0aeFlg2ddPkJCsgG89S0wb44LU9AIEhWTr3wmqNAyY/gW1uvAD+48//oCbm5vWcxKJBDNmzChzH6tXr8batWuxbt06NGnSBJaWlpg1axYUisJv0CUFEsUpKCjA8OHDER4ejpMnT5aaXQKAgIAA+Pv7a5Wd8Wxb7uPpS5GcBrVSCclz2SRTe1udrNNT6rx83J25CMH+y2DqaIf8uES4vzUMyswsKJILh2XqBcxAzM+HEL37AAAgK+QhxBbmaLxmKcLWbCz+HZ+qhfNXkhH8oOjGBVOTwm+1tjaFd7E9ZSM30ck6PSslTaGVTQIAG2sTpD7TZtoEL+zZH4kT5wozSmFPsuHsYIaxw2rj2Ml4pGcUQKlU4/Fzd+M9icxBk0Ylz3V52TJz1FCpBFhLtTMAMqlYJ+v0VHqmCnIr7aEzmaURlCpBJzPUp6MUA7pYYcWWJETGaWdYnpdfICAyrgDOdlVnWO5yUCbuh4dqHpsYF0ZGNjLtjJG1lTFSM0o+v9R0pSY7pWkjM9bJVAHA1JEuaOsnwwerwpCcWvS8qYkI44Y44dNvI3D1dmFA+TgqH161zTDkdfuqHTBx0jfpo1GjRpBIJIiIiIC3t7fW5u7ujkaNGuHSpUtabZ5/fO7cOQwcOBBjxoxBs2bN4OXlhYcPH2qe9/b2homJiVa71NRUPHjwQGs/T4Olhw8f4u+//4adXdnzKiQSCWQymdZWWcNxACAUFCDjZjDsunTQKrfr0gFpV4NKb6tUIj8mHlCr4Ty4NxL/PKMJhIzMzXSCIkGlrlZj41S83FwVomPzNFt4RA6SUvLR2s9GU8fYWAQ/X2vcuZdR4n7u3MvQagMAbZrb4k5IURsziRjq515HKrWguXtaqRQQ8jAT7rW056i4u1kgPlF7OMuQVCogPKYAvvW0h9+aeEvwMKL4oPJhhAJNvJ+rX0+C8OiCp4lcAEDfjlIMfs0Kq7YlITy67InuxmL8/zIFVWc4LjdfjdgEhWaLiMlHSloBmjeWauoYi0Xw9bFESCnDYvfCcuHXSKpV1ryRVKfN1FEuaN9ChoVfhCM+SfuaicUimBgb6dxJqFZDa2SiSjISVexWDTDD9C9YWVlh7ty5mD17NtRqNV599VVkZGTgwoULkEqlmDp1KlavXg1/f39MmTIF169fx/bt27X24e3tjQMHDuDChQuwsbHBmjVrEBcXh4YNGwIApFIpJk2ahHnz5sHOzg5OTk748MMPYfTM+LFSqcQbb7yBGzdu4PDhw1CpVIiLK1z3xNbWFqamxU/0NIQn63egyYbPkRF4B2nXbqLWuGEwc3NB5La9AIB6i2ZB4uKIO9MWAgAs6npA3qIJ0q/fgom1HB7vjoO0YT3cnr5Qs8/EP0/Dc9pbyLgVohmSqxcwAwnHThW+8/zHiS0tYOldW/PYok4tyJo1gCIlHXmRuks1VHf7DkVj7LDaiIrJQWRMLsYNr438fBX+OpOgqfPRbB8kJiuwcWe4ps03n/th9FB3nLuchI5t7dGqmTWmfRCkafPP1WSMG+6B+MR8hEdko76XFCMG1cKR40VrCP34SySWzW+Em3fScON2Gtq2sEWHNnaYubBoP1XB0XNZeHe4DcKjCvAwQoHX2ljCzlqME5cLMxYjXpfBRibGd/sKs7QnLmejR3tLjO4rx6kr2ahX2xRdWlnim5+KJsr36yTFGz1k+PanFCSmqiD//wxWnkLQ3CI/qrcMN+7lITlNBZnUCIO6WsFcIsK5G1V7Ps5vfydjeB8HxMTnIyZegeF9HZCvUOPM5aJhVv+JbkhOU2LHL/EAgEN/J2HlfC+80csel4Iy0M5PBr+GUsx/Zsht2mgXdG5rjY+/eYLcPLVmflN2rgqKAgG5eWrcup+NicOcoSiIRUKyAk3qW+K19tb4/ueqv3ZVTcOA6V/6+OOP4ejoiBUrViAsLAzW1tZo0aIFFi5ciNq1a+PAgQOYPXs21q9fjzZt2uCzzz7DxIkTNe0XLVqE8PBwvP7667CwsMA777yDQYMGIT296A/1f//7H7KysjBgwABYWVlhzpw5Ws9HRUXh0KHChRz9/Py0+nfq1Cl06dKlUq+BPuJ+PQYTW2vUnfcuJE4OyAx5iBtvTkVeVOEHu8TJAeZuLpr6IrEYntPGw9LbE2qlEinnr+By79HIi4zR1AlbXTjsVm/hTEhcHKFITkXin6fx8JMvX/r5GYK8pS/an9iledzoi8JgMnLnL7g1KcBQ3ao0ew5EQmJqBP9368FKaoLgBxmYvfiW1hpMTg5mWt/a79zLwNJVwXh7bB1MHu2J6LhcLF4VolmDCQDWbnyEt0d7Ys679WAjN0FSigKHjsVi209PNHXOXkrGF+sfYswwd8x6xxsR0bn4aMVd3AouObtlCJdu50JqaYTB3axgbSVGVHwB/rc9GUlphdfI2soIdtZFw2SJqSr8b3syxvSVo0c7S6RmqLDz9zTNGkxA4UKYJsYizBqjnb0+8HcGfjlReB1t5WK896YtrCyMkJGtxqNIBZZsSNQct6rafywJpqZGmDbaFVJLMe6H5WLRmsdaazA52JlqJbJDQnOxclMkxg5ywphBjohLVGDlpkjNGkwA0Ldr4bVaOd9L63hrt0bh7wtpAIBVGyPx1lAnzJ1cC1aWYiQkF2Dnwfiqv3BlDRySEwn6TJKh/7w/7WrG2kX/lrKUuQ2kbUWvTYbuQrXg4ett6C5UG2mJqWVXIvzxvW+l7Tvv0LcVuj+zAdMrdH+VoeaFiERERER64pAcERER6YfrMBERERGVoarfxVcJal6ISERERKQnZpiIiIhIPzXwLjkGTERERKSfGjiHqeadMREREZGemGEiIiIi/dTASd8MmIiIiEg/NXAOU807YyIiIiI9McNERERE+uGQHBEREVEZeJccERERET2PGSYiIiLSi8AhOSIiIqIy8C45IiIiInoeM0xERESkH2aYiIiIiEoniEQVuulr/fr1qFOnDszMzNCyZUucO3eu1Pr5+fn48MMP4eHhAYlEgrp162Lr1q16HZMZJiIiIqo29u7di1mzZmH9+vV45ZVXsHHjRvTu3RvBwcGoXbt2sW2GDx+O+Ph4bNmyBd7e3khISIBSqdTruAyYiIiISD8GHJJbs2YNJk2ahMmTJwMA1q1bhz///BMbNmzAihUrdOofO3YMZ86cQVhYGGxtbQEAnp6eeh+XQ3JERESkH5GoQrf8/HxkZGRobfn5+TqHVSgUuH79Onr27KlV3rNnT1y4cKHYrh46dAitWrXCqlWr4Obmhvr162Pu3LnIzc3V65QZMBEREZFBrVixAnK5XGsrLluUlJQElUoFJycnrXInJyfExcUVu++wsDCcP38ed+7cwcGDB7Fu3Trs378f06dP16uPHJIjIiIi/VTwT6MEBATA399fq0wikZRYX/TcRHFBEHTKnlKr1RCJRNizZw/kcjmAwmG9N954A99++y3Mzc3L1UcGTERERKSXil7pWyKRlBogPWVvbw+xWKyTTUpISNDJOj3l4uICNzc3TbAEAA0bNoQgCIiKikK9evXK1UcOyREREVG1YGpqipYtW+L48eNa5cePH0eHDh2KbfPKK68gJiYGWVlZmrIHDx7AyMgItWrVKvexGTARERGRfkRGFbvpwd/fH99//z22bt2KkJAQzJ49GxEREZg6dSqAwuG9cePGaeqPGjUKdnZ2mDBhAoKDg3H27FnMmzcPEydOLPdwHMAhOSIiItKTYMBlBUaMGIHk5GQsX74csbGx8PX1xZEjR+Dh4QEAiI2NRUREhKa+VCrF8ePHMWPGDLRq1Qp2dnYYPnw4PvnkE72OKxIEQajQM6Fq7U+7xobuQrWgzNBvwbOabEWvTYbuQrXg4ett6C5UG2mJqYbuQrXwx/e+lbbvrEuHKnR/0nYDKnR/lYEZJiIiItJPBU/6rg4YMBEREZFeDDkkZyg174yJiIiI9MQMExEREemHQ3JEREREZaiBQ3IMmEjLp502GroL1YJaqTJ0F6qNgGPvGLoL1ULQ6GBDd6HauHODf3/08jFgIiIiIr1U9E+jVAcMmIiIiEg/NXBIruadMREREZGemGEiIiIivQjgkBwRERFRqbhwJRERERHpYIaJiIiI9FMDM0wMmIiIiEgvNXFZgZoXIhIRERHpiRkmIiIi0ktNnPTNgImIiIj0wyE5IiIiInoeM0xERESkFw7JEREREZWhJq70XfNCRCIiIiI9McNEREREeuGQHBEREVFZeJccERERET2PGSYiIiLSi1AD8y0MmIiIiEgv/C05IiIiItLBDBMRERHphXfJEREREZWBC1cSERERkQ5mmIiIiEgvHJIjIiIiKgPvkiMiIiIiHcwwERERkV5q4qRvBkxERESkl5o4h6nmnTERERGRnphhIiIiIr3UxCE5ZpiqqNOnT0MkEiEtLc3QXSEiItIiiIwqdKsOmGGil2LCiNro39MJVpbGCH6YhbWbQvE4MqfUNp3b2WHSKA+4OpshJi4Pm/c8wbnLyZrn925sBRdHM512B4/GYO2mMM1xX3vVHo72EiiVAu6HZmHznscIeZhVsSdYQSaO9MCA111gJTVG8INMrPnuIcIjyrhOHewxebQn3FzMER2bi827wnH2UtF1EhsBE0d5okcXR9hZmyI5VYEjJ+KxY+8TCELRfjxqWeDd8XXg52sNIxEQHpGDxauCEZ+YX1mn+1LZvtoKXnMmQd7CF2aujrg2dBriD50wdLdeqpbeIrRrIILUHEhMB44HqhGZWHxdqRnQrbkILjYi2FoBVx8IOB4o6NSTmABdmorQoJYIZqZAWhbwd5AaobGVfDIVqEd7Kfp1lsHaSoyo+ALsPJSK+49Lft039JJgTD8b1HIyQWqGCofPZODvS0XvKbWcTPBGTzm83EzhYGuMnYdScfR8ps5+bGRijOpjjWY+ZjA1ESE2SYlN+5IRHl1QKedJ/w4DJqp0owa7YfgAV6z4+iEiY3Ix7g13rFnaGKOn30BunqrYNo19rLBkbgNs+aEwSOrY1g7L5vpg+sJbmmDnnXlBEBsVpYXr1LbA2mVNcOqfomAhMiYX6zaHIiY+DxJTMYb3d8XqJb4YOe0a0jOUlXvieho91B0jBtXCp+vuIzI6B2+N8MDa5U0x8t2ryM0t6TrJsGx+I3y/OxxnLyWhUzt7LP+gEaZ9EITgB4Vv0KPfqI2BvV3x6dp7CI/IRgNvKyx83wfZ2Urs+z0aAODqbIb1K/1w+HgctvzwBNnZSni4WyBfoX5p51/ZxJYWyLh1H1E7fkHLfd8YujsvXUN3EXo0F+HYdQGRSQJa1BXhzU5G2HhUjYxiYnKxGMjJA/4JFtDGp/jhFyMjYFQXI+TkAwf+KdyPzAJQVK0/rVK1a2aBcf1tsPXXFNx/nI/ubaVYMMkBc1fHIjlN9+/OwUaM+RMdcOpyFr79KQk+nhJMHGSLjCwVrtzJBQCYmoiQkKLE5Vs5GNvfptjjWpqLsGyaE+6G5mHl1kSkZ6ngZGeM7FzdoLQq4pAcVRpBELBq1Sp4eXnB3NwczZo1w/79+zXPHzlyBPXr14e5uTm6du2Kx48fa7VfunQp/Pz8tMrWrVsHT09PrbKtW7eicePGkEgkcHFxwXvvvVdJZ1R+w/q5Ydf+SJy9lIzwiBx89tUDSCRi9OjkUEobV1y7mYo9v0QhIjoXe36JwvVb6RjW301TJz1DiZS0As3WoZUtomJzEXQ3XVPn73OJuH4rHbHx+XgcmYNvtoVDammMuh6WlXrOL2LYADfs/DkCZy8mITwiB5+uvQeJRIyenR1LbDN8oBuuBaVi9/5IRETlYvf+SFy/mYbhA2pp6jRuIMP5S0m4eC0FcQn5OH0hCVeCUuFTz0pT552xdXDxego2bA/Dw7AsxMTn4eK1FKSl/3e+6Sb+eRYPlqxD3K/HDd0Vg2jbQISgMAFBYQKSM4DjgQIycoAW3sV/8KVnF9a5/VhAfgkvA786IphLgH3n1IhKAjJygKgkICGt8s6jovXtaIVTV7Nw6ko2YhKU2Pl7GpLTVOjRTlps/e7trJCcqsLO39MQk6DEqSvZOH0tC307yzR1wqIU+OGPNFy8mQOlsvgAqH8XGZLTldi4LwWhkQokpapw91E+ElKqR7RZE4fkqkcv/wM++ugjbNu2DRs2bMDdu3cxe/ZsjBkzBmfOnEFkZCSGDBmCPn36ICgoCJMnT8aCBQv0PsaGDRswffp0vPPOO7h9+zYOHToEb2/vSjib8nNxksDO1hRXg9I0ZQVKATfvpsO3gVWJ7Rr7WGm1AYArQanw9Sm+jbGxCD06O+LIifgS92lsLMKAns7IzFYi9HG2XudR2VydzGBvK8GVwFRNWYFSQNCdNPg2kJXYzreBDFcCU7TKLgemwLdhUZvbwelo2cwG7q7mAABvT0s0bSjHpWuFmTiRCOjQyhaR0TlYvawJft/VHpu+aI6O7ewq8hTJgIyMABcbIDxO+8M7LE5ALfsXzxTUcxMhKklAr1YivD/ICG/3MkKHRiJUl0WgxWKgjpspbj3I0yq/9TAP9T0lxbap52GKWw+169+8nwevWqYQ6/GJ2rKRBcKiFHh/jD2+W+yGFe8747U2Ve+LHBXhkNxLkJ2djTVr1uDkyZNo3749AMDLywvnz5/Hxo0b4enpCS8vL6xduxYikQg+Pj64ffs2Vq5cqddxPvnkE8yZMwfvv/++pqx169Yl1s/Pz0d+vvY4vVqlgJHYVK/jlsbOunBfKWnaX1FT0grg7FD8GxIA2FqbIvW5NqlpBbC1Kb5vHdvYQWppjKMnE3Sea9/KBkv8G8BMYoTkVAXmLL2D9Myq9S3u6XmlpCm0ylPTFHAqZp6Wpl05rtPu/ZGwtDDGng2toVYLMDISYdOucPx9tnDyio3cBBYWxhjzRm1s3h2ODdvD0K6lLT4NaIyZH95E0J10UPVmYQoYGYmQpf05j+z8wrlKL8paCnhainDniYC9Z9SwtRLh9ZYiGImA83er/tCSzFIMsViE9Cztobf0TBXkVsVfGGsrMdIztS9kepYKxmIRrCyNkJZZvmFsR1tjdG9nhSPnMvDbyXTUdZfgrYE2KFAC525UrS90xamJQ3IMmF6C4OBg5OXloUePHlrlCoUCzZs3R25uLtq1awfRM1/LngZW5ZWQkICYmBh069at3G1WrFiBZcuWaZXV9pkAj4YT9Tr2s3p0csCcqUVZrQ8+vfv//9J+8xSJoDXhuDiCUP42fbs74fKNVCSnKnSeC7ydjkn+gZDLTNC/hxOWzW2AKR/cNOhwU4/Ojpg3vb7m8fzltwv/8fz5iUS6Zc95/joVlhX9u1tHB/Ts4ohlX4QgPCIH9bwsMXOyN5JSFDh2Mh6i/58Hdv5yEn7+rXBO06PwbPg2kGFQL1cGTP9hIpT58iqzfXYecOSqAEEA4lIFSM2B9g1E1SJg0niuq+V5f9Kq/3Q3erQxEhUO3e09Vvj39TimALWcTNC9vbR6BEzVJY1YgRgwvQRqdeE3jj/++ANubm5az0kkEsyYMaPMfRgZGel8MBYUFH3gm5ub692vgIAA+Pv7a5X1GXNN7/086/yVFAQ/CNQ8NjEpzFHbWpsiObWovzZyE6Sm6wY3T6WkKXSySdZyE6Sm6bZxcpCgZVNrLFoVUuy+8vLViI7LQ3RcHoIfZOKHb1uibzcn7PklSq9zq0jnryQj+EHRtTZ9ep1sTLWCPhu5iU7W6VnFXScba+3rNG2CF/bsj8SJc4UZpbAn2XB2MMPYYbVx7GQ80jMKoFSq8fi5u/GeROagSSP5i58kVRk5CkCtFnSySRaSwoDnRWXlAWq1dqCQnCFAam4EI6PC56qyjGwVVCoBciuxVrlMKkZGVvE3WqRlqoqtr1QJyMop/wmnZqoQlaD9pS06oQBtmuj/Xk4vB+cwvQSNGjWCRCJBREQEvL29tTZ3d3c0atQIly5d0mrz/GMHBwfExcVpBU1BQUGaf1tZWcHT0xMnTpT/NmmJRAKZTKa1/dvhuNw8lSY4iY7Lw+PIHCSnKNCqmbWmjrGxCM0ay3Hnnu5ttk/dvZ+J1s+0AYDWfta4c1+3TZ/XnJCWXoCL11J0niuWqChAMZTcXBWiY/M0W3hEDpJS8tHar+iOGmNjEfx8rXHnXkaJ+7lzL0OrDQC0aW6LOyFFbcwkYqifC7ZVagFPbzBUKgWEPMyEey0LrTrubhaIT/wXn6ZUZajVQGwqUMdZOytQx7lwDtKLikoSYPPctEJbKxEyc4UqHywBgEoFhEcr0LSediTZpJ4ZHpSwrMDDJwo0ea5+0/pmCItSQKXHOT94nA9XB+2chYuDMZJSiw/UqhpBEFXoVh0wYHoJrKysMHfuXMyePRs7duxAaGgoAgMD8e2332LHjh2YOnUqQkND4e/vj/v37+OHH37A9u3btfbRpUsXJCYmYtWqVQgNDcW3336Lo0ePatVZunQpVq9eja+++goPHz7EjRs38PXXX7/EMy3evsPRGPOGOzq2tUOd2hYImFEP+fkqHD9btADMwpn18c4YD83j/Ydj0MrPBqMGu6G2mzlGDXZDq6bWmtvgnxKJgN6vOeLY6XidNysziRHeHu2BRvWt4OQgQX0vS8yf5g0HOwlOXUiq1HN+EfsORWPssNro1K7wOn04ywf5+Sr8daZoXtZHs30wZVwdrTatm9ti9FB31K5ljtFD3dGqmTV+PlSUPfvnajLGDfdA+1a2cHaUoFM7O4wYVAtnLxZdgx9/iUS3Vx3Qv6cz3FzMMKSvKzq0scPBIzEv5+RfArGlBWTNGkDWrAEAwKJOLciaNYCZu4uBe/ZyXL4nwM9LhGZ1RLCTAd2biyC3AG48KgyYujQVoX9b7Q8uJ+vCzdS4MBvlZA3YP3MPwvVHAsxNgZ4tCtdq8nYBOjQS4frD6jMc98e5THRtI0WXVpZwdTTG2P7WsLcWa9ZVerOXHO+OKLoB4u9LmbC3EWNMP2u4OhqjSytLdG0txR9nir6kiMWAh4sJPFxMYGwM2MjF8HAxgZNdUYB05FwmvGtLMLCrDE52xujgZ4HX2krx18WSv0hWJQKMKnSrDkRCcRMgqMIJgoCvv/4a69evR1hYGKytrdGiRQssXLgQnTp1wuHDhzF79mxERkaiTZs2mDBhAiZOnIjU1FRYW1sDAL777jt89tlnSElJwdChQ+Hj44NNmzZpLUGwceNGrF27FmFhYbC3t8cbb7yBr776qtz97DT4fAWfeaEJI2pjQE9nSKXGCHmYibWbQrUWZPzy4yaIS8jDiq8faso6t7fD5FEecHUyQ0x84cKVzy7ICACtm1lj9VJfjJp+DVEx2tkQUxMRFvv7oGE9K8hlJsjILMC9R1nYuS8S9x79u4Ur1crK+RY4caQHBvRygZXUBMEPMrBmg/bClV9/1gyxCXn4bN19TVmXDvZ4e2wduDqZITouF5t2PdYKhszNxXh7tCc6tbeHjdwESSkK/H02Adt+eqJ1y3Pf7s4YM8wdjnYSRETnYssPj3H+svb1fhEBx9751/uoCLad2qD9iV065ZE7f8GtSQEG6JG2oF3BlX6Mlt4itGsogtRMd+HKfm1FsLYUYffJom8eH74p1tlHWraAb38vquNmB/RobgQnGyAzFwgKE3AxRNBrPo++7tyILruSHnq0l6J/ZxmsZWJExhVg1++puBdemGGaOtwWDjbG+Hhj0ReXhl4SjO1ftHDl76e1F660txHj6wA3neMEh+Zp7ad5QzO82csazvYmSExR4si5DJy8UnHzl35cVbvC9vW8h6FPKnR/9ep6lF3JwBgwkZbKCpj+ayorYPovqioBU1X3MgKm/4qKDpj+qyozYHoQGlGh+6tft/L6WlE46ZuIiIj0UhOXFageA4dEREREBsQMExEREemlJmaYGDARERGRXmpiwMQhOSIiIqIyMMNEREREeqkui01WJAZMREREpBcOyRERERGRDmaYiIiISC81McPEgImIiIj0UhMDJg7JEREREZWBARMRERHpRRBEFbrpa/369ahTpw7MzMzQsmVLnDt3rlzt/vnnHxgbG8PPz0/vYzJgIiIiIr2oIarQTR979+7FrFmz8OGHHyIwMBAdO3ZE7969ERFR+g8Cp6enY9y4cejWrdsLnTMDJiIiIqo21qxZg0mTJmHy5Mlo2LAh1q1bB3d3d2zYsKHUdlOmTMGoUaPQvn37FzouAyYiIiLSiwBRhW75+fnIyMjQ2vLz83WOq1AocP36dfTs2VOrvGfPnrhw4UKJ/d22bRtCQ0OxZMmSFz5nBkxERESkl4qew7RixQrI5XKtbcWKFTrHTUpKgkqlgpOTk1a5k5MT4uLiiu3rw4cPsWDBAuzZswfGxi++OACXFSAiIiKDCggIgL+/v1aZRCIpsb5IpD3vSRAEnTIAUKlUGDVqFJYtW4b69ev/qz4yYCIiIiK9VPQ6TBKJpNQA6Sl7e3uIxWKdbFJCQoJO1gkAMjMzce3aNQQGBuK9994DAKjVagiCAGNjY/z111947bXXytVHBkxERESkF0P9+K6pqSlatmyJ48ePY/DgwZry48ePY+DAgTr1ZTIZbt++rVW2fv16nDx5Evv370edOnXKfWwGTERERFRt+Pv7Y+zYsWjVqhXat2+PTZs2ISIiAlOnTgVQOLwXHR2NnTt3wsjICL6+vlrtHR0dYWZmplNeFgZMREREpBdD/jTKiBEjkJycjOXLlyM2Nha+vr44cuQIPDw8AACxsbFlrsn0IkSCIAgVvleqtjoNPm/oLlQLaqXK0F2oNgKOvWPoLlQLQbuCDd2FauPOjWhDd6Fa+HFV7Urb95V76RW6vzYN5BW6v8rAZQWIiIiIysAhOSIiItKL2tAdMAAGTERERKQXQ90lZ0gckiMiIiIqAzNMREREpBdD3iVnKAyYiIiISC8ckiMiIiIiHcwwERERkV44JEdERERUBnUNXPKaQ3JEREREZWCGiYiIiPTCITmq8eo08TZ0F6oFZQF/S668gkbzN9LKw29sI0N3odq4OP6gobtANRADJiIiItJLTVxWgAETERER6UXgpG8iIiIieh4zTERERKQXNSd9ExEREZWuJs5h4pAcERERURmYYSIiIiK91MRJ3wyYiIiISC81ceFKDskRERERlYEZJiIiItJLTfzxXQZMREREpBfeJUdEREREOphhIiIiIr3wLjkiIiKiMtTElb45JEdERERUBmaYiIiISC8ckiMiIiIqA++SIyIiIiIdzDARERGRXrhwJREREVEZauIcJg7JEREREZWBGSYiIiLSi1AD12FiwERERER6qYlzmDgkR0RERFQGZpiIiIhILzVx0jcDJiIiItJLTQyYOCRHREREVAZmmIiIiEgv6hr40ygMmIiIiEgvHJIjIiIiIh3MMBEREZFemGGqZCKRCL/++uu/3k+XLl0wa9asf72f/7rTp09DJBIhLS3N0F0hIqL/ELVQsVt1UC0zTL/88gtMTEwM3Q0qh9dam6PPq5aQS8WISVRiz9EMPHhSUGJ9H08TjOolg6uDMdIyVThyPhunruUWW7etrxmmDbfG9ZA8fPVjWtE+PEzQ+1VLeLqYwEYmxpc/pOLGvfyKPrUK172dJfp2lMLaSozohALsOpyO+48VJdZvUMcUY/rK4eZogrRMFQ6fycSJKzma57u2tsCrzS3g7lz4txIercDePzMQFlV0/Yd0s8LQ7jKt/aZlqjD9s7gKPrvK09JbhHYNRJCaA4npwPFANSITi68rNQO6NRfBxUYEWyvg6gMBxwN1360lJkCXpiI0qCWCmSmQlgX8HaRGaGwln0wVYftqK3jNmQR5C1+YuTri2tBpiD90wtDdqlSj+jvg9U7WkFqI8SA8Fxt+iENETOnvGx1aWGHMQEe4OJggNrEAu35NwMXATM3zw3rboX0LGWo5m0KhEBASmoPtBxIQHa/9d13L2RQThjrBt74FREZAREw+Vm6MQmKKslLOlV5MtQqYCgoKYGJiAltbW0N3hcqhja8ZRveWYefhDDyIUKBrawvMGWODgG+SkJKu1qlvby3GnDE2OH09F9/tT0P92qYY10+GzBw1rgVrv3HZyY3w5utWxQYUElMRIuOUOHcjFzNH2lTa+VWkdk3MMbavHNt+S8ODJwq81tYS88fbYf7aBCSnq3TqO9iIMW+8HU5dzcH6vamo72GKCQOtkZGtxtW7eQCAhl4SXLyVi52/p0OhFNCvkxQLJtrjg3XxSM0ouv6RcQVYsSVJ87i6fNsDgIbuIvRoLsKx6wIikwS0qCvCm52MsPGoGhk5uvXFYiAnD/gnWEAbn+Lv8jEyAkZ1MUJOPnDgn8L9yCwARQ367BJbWiDj1n1E7fgFLfd9Y+juVLqhvewwqIct1m6LQUy8AiP62uPj2bUx9aNQ5ObrvlcBQAMvc3zwTi3s/q0wSGrf3AofvFML81c9xoPwwi95vvUt8cepFDx8nAexETB2sCM+nl0b7y4ORb6i8A/N2cEEqz7wxPHzadhzKBHZuSq4u0igKKjaf4hCDbxLTu8huf3796NJkyYwNzeHnZ0dunfvjuzsbFy9ehU9evSAvb095HI5OnfujBs3bpS6rw8++AD169eHhYUFvLy8sGjRIhQUFH37Xbp0Kfz8/LB161Z4eXlBIpFAEASdIbnU1FSMGzcONjY2sLCwQO/evfHw4cNync+TJ0/Qv39/2NjYwNLSEo0bN8aRI0c0zwcHB6NPnz6QSqVwcnLC2LFjkZRU9OHSpUsXzJgxA7NmzYKNjQ2cnJywadMmZGdnY8KECbCyskLdunVx9OhRTRuVSoVJkyahTp06MDc3h4+PD7788kutfo0fPx6DBg3CF198ARcXF9jZ2WH69Ola12f37t1o1aoVrKys4OzsjFGjRiEhIaFc5/0y9OpggbM3cnHmRi5ik1T44WgmUjLU6Nbaotj6r7U2R3K6Gj8czURskgpnbuTibGAuer9iqVVPJAKmvmGNg6eykJCqG0zceqjAgRNZuB5S9bNKT/XuKMXpa9k4fS0HMYlK7D6cjuR0Fbq3syy2fre2lkhOU2H34XTEJCpx+loOzlzPQd9OVpo66/em4u9L2XgSW4DYRCW+/yUNRiKgcV2J1r7UagHpWWrNlpld/AdEVdS2gQhBYQKCwgQkZwDHAwVk5AAtvIt/M0/PLqxz+7GA/BISnX51RDCXAPvOqRGVBGTkAFFJQEJa5Z1HVZP451k8WLIOcb8eN3RXXoqB3Wyx90gSLgZm4klMPtZsi4HE1Aid28pKbDOguy0Cg7Ox72gyouIU2Hc0GTfvZWNg96Iv9Eu+jMCJC+mIiMlHeFQ+1m2LgaOdKbw9zDV1xg1yxLXbWdh2IAFhkXmITyrAtdtZSM/UfW+rSgShYrfqQK+AKTY2FiNHjsTEiRMREhKC06dPY8iQIRAEAZmZmXjrrbdw7tw5XLp0CfXq1UOfPn2QmZlZ4v6srKywfft2BAcH48svv8TmzZuxdu1arTqPHj3Czz//jAMHDiAoKKjY/YwfPx7Xrl3DoUOHcPHiRQiCgD59+mgFFyWZPn068vPzcfbsWdy+fRsrV66EVCrVnG/nzp3h5+eHa9eu4dixY4iPj8fw4cO19rFjxw7Y29vjypUrmDFjBt59910MGzYMHTp0wI0bN/D6669j7NixyMkp/MqrVqtRq1Yt/PzzzwgODsbixYuxcOFC/Pzzz1r7PXXqFEJDQ3Hq1Cns2LED27dvx/bt2zXPKxQKfPzxx7h58yZ+/fVXhIeHY/z48WWe88sgFgOeLia4E6odtNx5lA/v2qbFtvF2N8WdR7r1PV1NIH7mlTqoixSZ2WqcvVH8UF11IxYDdVxNcPuh9rnffpiPeiVcq3q1TXXq33qQhzpu2tfqWRITEcRiEbJztd+dnOyN8U2AM9bOc8J7b9rAwUb84ifzEhkZAS42QHic9vmExQmoZf/i337ruYkQlSSgVysR3h9khLd7GaFDIxFENe8LdY3gZG8CW2sTBN7N1pQplQLuPMhBw7rFf7kDgAZeFggMztIqu3E3Cw3rmpfQArA0L/zjzMouDIZEIqBVUyli4hVYPqs2dq+uj9UBddDOz6rEfZDh6DUkFxsbC6VSiSFDhsDDwwMA0KRJEwDAa6+9plV348aNsLGxwZkzZ9CvX79i9/fRRx9p/u3p6Yk5c+Zg7969mD9/vqZcoVBg165dcHBwKHYfDx8+xKFDh/DPP/+gQ4cOAIA9e/bA3d0dv/76K4YNG1bqOUVERGDo0KGa8/Dy8tI8t2HDBrRo0QKfffaZpmzr1q1wd3fHgwcPUL9+fQBAs2bNNOcSEBCAzz//HPb29nj77bcBAIsXL8aGDRtw69YttGvXDiYmJli2bJlmn3Xq1MGFCxfw888/awVjNjY2+OabbyAWi9GgQQP07dsXJ06c0Ox34sSJmrpeXl746quv0KZNG2RlZWmCvtLk5+cjP1/7Q1elzIfYWFJCi/KzsjCCWCxCepZ2tiI9Ww25tPhPdLnUCOnPZTfSs9QwFosgtTBCepYa9WqboFMLcyzakFTsPqqjEq9Vlgpyq+L/L+RWYqRn5T1Xv/BaWVkaIS1TN0v0Zi8ZUjJUuPOoqF1opALf/ZyKuCQlZFIxBr1mhaXvOuCDdQnIyqnamSYLU8DISITnLgOy8wvnKr0oayngaSnCnScC9p5Rw9ZKhNdbimAkAs7frSZfhancbOSFH4NpGdpjrmkZSjjalTxX1kZuXGwbG1nJH6uThzvj7sMcPPn/uVFyKzEszMR4o7c9dv2agG0H4tGysRQL362Fhauf4M6DYsaVq4jqNHRfUfTKMDVr1gzdunVDkyZNMGzYMGzevBmpqakAgISEBEydOhX169eHXC6HXC5HVlYWIiIiStzf/v378eqrr8LZ2RlSqRSLFi3Sqe/h4VFisAQAISEhMDY2Rtu2bTVldnZ28PHxQUhISJnnNHPmTHzyySd45ZVXsGTJEty6dUvz3PXr13Hq1ClIpVLN1qBBAwBAaGiopl7Tpk01/xaLxbCzs9MEYADg5OQEAFrDZd999x1atWoFBwcHSKVSbN68WefcGzduDLG46Nu+i4uL1j4CAwMxcOBAeHh4wMrKCl26dAGAUq/5s1asWKH5v3q63f7n63K1La/n/6ZEKCP9+txzz36rNzMVYcpQObYdSkdWzn/vr7W4a6VTWEqDp9equOvbr5MU7ZtZYN3uZBQ88x5/80E+rt7NQ2S8EndD8/HF9mQAQMcWJX+zrupEKP2ylad9dh5w5KqAuFQgOELAP8ECWpYwzEfVS5e2Muz7uoFmMxYX/r/q/V5VXBtRya+9qaOc4VlLglWbozRlRv//R3spKBO//Z2C8Mh87D+WjKu3stC7c9Wef8khuTKIxWIcP34cR48eRaNGjfD111/Dx8dHMxR0/fp1rFu3DhcuXEBQUBDs7OygUBR/l8+lS5fw5ptvonfv3jh8+DACAwPx4Ycf6tS3tCx+DsdTQglXWhAEiMqRQ588eTLCwsIwduxY3L59G61atcLXXxcGDWq1Gv3790dQUJDW9vDhQ3Tq1Emzj+fv2BOJRFplT/uhVhd+Y//5558xe/ZsTJw4EX/99ReCgoIwYcIEnXMvbr9P95GdnY2ePXtCKpVi9+7duHr1Kg4ePAgAJV7z5wUEBCA9PV1ra/LKjHK1LUtmjhoqlQDr57JJMksjZJQwRyY9Szf7JLM0glIlICtHDUdbMRxsjDFrlA22LnHC1iVOeKWZGZr7SLB1iRMcq8lQ0vNKvFZSsU7W6an0TBXkVtrn++y1elafjlIM6GKFz7cmITKu9JnL+QUCIuMK4GxX9a9ljqJw/tXz2SQLSWHA86Ky8oCUTO038eQMAVJzEYy41G+1dzkoCzOXh2q2jKzC4bHnM0NymW4G6Vmp6brZJLlV8W2mjHRG22ZWWLj6CZJTi57PyFJCqRQQGaud6Y+My4eDLe8Er2r0vktOJBLhlVdewSuvvILFixfDw8MDBw8exLlz57B+/Xr06dMHABAZGak1Ofp5//zzDzw8PPDhhx9qyp48eaL3CTRq1AhKpRKXL1/WDMklJyfjwYMHaNiwYbn24e7ujqlTp2Lq1KkICAjA5s2bMWPGDLRo0QIHDhyAp6cnjI0r7obCc+fOoUOHDpg2bZqm7NmMVXncu3cPSUlJ+Pzzz+Hu7g4AuHbtml77kEgkkEi0h3zExhWTAlapgMexBWhcV6I1+bpxXQkC7xX/afYoUgE/HzMARfPefOtK8DimACo1EJukxMJvtF9TQ7tJYSYRYc+RTCRnVO1JkiVRqYDwmAL41pPgWnDRtWniLcH1kOKv1cMIBVo00I4UmtSTIDy68Fo91bejFINes8LKrUkIjy57Tp+xGHBzNCl1OYOqQq0GYlOBOs4i3I8uim7qOIvwIPrFv7JGJQlo7KH9ZcvWSoTMXAHqqj1KSeWQm69GbqL2f2RKWgGaN7JEWGTh35uxGPCtb4HtB+JL3M+9sBw0b2SJ3/5O0ZQ1byRFSKj23MqpI53RvrkVAr54gvgk7b9BpQp4+DgXbk7acxXdnEyRkFz236shVZesUEXS6/vS5cuX8dlnn+HatWuIiIjAL7/8gsTERDRs2BDe3t7YtWsXQkJCcPnyZYwePRrm5iVPfvP29kZERAR++uknhIaG4quvvtJkSPRRr149DBw4EG+//TbOnz+PmzdvYsyYMXBzc8PAgQPLbD9r1iz8+eefCA8Px40bN3Dy5ElNoDV9+nSkpKRg5MiRuHLlCsLCwvDXX39h4sSJUKle/MPZ29sb165dw59//okHDx5g0aJFuHr1ql77qF27NkxNTfH1118jLCwMhw4dwscff/zCfaoMxy7koHMLc3Rsbg4XezFG9bKCndwIJ68WBmXDukvxzhC5pv7Jq7mwtzbCyF5WcLEXo2Nzc3RqYY6j/xROxixQAtEJSq0tJ09AXr6A6AQlnv6XSExFqO1sjNrOhUGug40YtZ2NYSuvuumBo+ey0LWVJTq3tICrgzHG9JXDzlqME5cLz33E6zJMHVaUoj9xORt2NmKM7iuHq4MxOre0QJdWlvjjbFGw2a+TFMN6yrBpfyoSU1WQS40glxpBYloUDIzqLUODOqZwsBGjrrsJ3h9tC3OJCOduVN25E8+6fE+An5cIzeqIYCcDujcXQW4B3HhU+G7epakI/dtqBz9O1oWbqXFhNsrJGrB/5mao648EmJsCPVsUrtXk7QJ0aCTC9Yc15xNCbGkBWbMGkDUrnIJgUacWZM0awMzdxcA9qxy/nUjBsD72aN/cCh6uEsya4IZ8hRpnLmdo6vhPdMVbgx01jw+dSEHzRlIM7WWHWs6mGNrLDn4NtQOod0c5o0s7Of73fTRy8lSwlolhLRPD1KToNfnLX8no2FqO1ztaw8XBBP262qBNUyscOV20n6qIC1eWQSaT4ezZs1i3bh0yMjLg4eGB1atXo3fv3nB2dsY777yD5s2bo3bt2vjss88wd+7cEvc1cOBAzJ49G++99x7y8/PRt29fLFq0CEuXLtX7JLZt24b3338f/fr1g0KhQKdOnXDkyJFyLW6pUqkwffp0REVFQSaToVevXpo79VxdXfHPP//ggw8+wOuvv478/Hx4eHigV69eMPoXufmpU6ciKCgII0aMgEgkwsiRIzFt2jStpQfK4uDggO3bt2PhwoX46quv0KJFC3zxxRcYMGDAC/erol25kwepuQgDu0hhbWWE6AQl1uxORfL/r8EktxLDVl409JOUpsLq3akY1UuGbm0skJapwu4jGTprMJWljqsJAiYW3do7qnfhp+G5wFx8fzC9As6s4l26nQuppREGd7OCtZUYUfEF+N/2ZCSlFUaB1lZGsLMuulaJqSr8b3syxvSVo0c7S6RmqLDz9zTNGkxA4UKYJsYizBpjp3WsA39n4JcThYGVrVyM9960hZVF4VDpo0gFlmxI1By3qguJFGAhAV71FUFqJkJiOvDT2aI1mKTmgNxSe1bT5F7PzAu0FcHXE0jLFvDt74Wvy8wc4MfTavRoboS3e4mQmVu4wOXFkGryrl4B5C190f7ELs3jRl8sBABE7vwFtyYFGKpblebAsWRITIzw7ihnSC3FuB+Wi8VrI7TWYHKwNdH6YL8XmotVm6IwZpAjxgx0RFyiAis3RWnWYAKAvl0L34c+n+epdby126Jx4kLhe9HFwEys3x2LYb3t8M6bzoiOV+CzDZEIfvTfuAv4v0QklDQJiGqktxZXnxWeDUlZUD0CiqqgUTNnQ3ehWvAb28jQXag2NozXfzSiJjq8ufJeU5v/rtj9vd29YvdXGarVSt9ERERkeDVxPl/VndRRQXr37q21LMCz27PrKxERERGV5D+fYfr++++Rm1v8WDB/k46IiEh/NXEyz38+YHJzczN0F4iIiP5TamLA9J8fkiMiIqL/lvXr16NOnTowMzNDy5Ytce7cuRLr/vLLL+jRowccHBwgk8nQvn17/Pnnn3ofkwETERER6cWQ6zDt3bsXs2bNwocffojAwEB07NgRvXv3LvFnwc6ePYsePXrgyJEjuH79Orp27Yr+/fsjMDBQr+P+54fkiIiIqGJV/IpE5f+txjVr1mDSpEmYPHkyAGDdunX4888/sWHDBqxYsUKn/rp167Qef/bZZ/jtt9/w+++/o3nz5uU+LjNMREREVC0oFApcv34dPXv21Crv2bMnLly4UK59qNVqZGZm6n3jFzNMREREpJeKTjDl5+cjP1/7Vx2K+73TpKQkqFQqODk5aZU7OTkhLq58Cy+vXr0a2dnZGD58uF59ZIaJiIiI9KJWV+y2YsUKyOVyra244bWnRCLtITxBEHTKivPjjz9i6dKl2Lt3LxwdHcus/yxmmIiIiMigAgIC4O/vr1X2fHYJAOzt7SEWi3WySQkJCTpZp+ft3bsXkyZNwr59+9C9u/6/xcIMExEREelFECp2k0gkkMlkWltxAZOpqSlatmyJ48ePa5UfP34cHTp0KLG/P/74I8aPH48ffvgBffv2faFzZoaJiIiI9KLvUgAVyd/fH2PHjkWrVq3Qvn17bNq0CREREZg6dSqAwmxVdHQ0du7cCaAwWBo3bhy+/PJLtGvXTpOdMjc3h1wuL/dxGTARERFRtTFixAgkJydj+fLliI2Nha+vL44cOQIPDw8AQGxsrNaaTBs3boRSqcT06dMxffp0Tflbb72F7du3l/u4DJiIiIhIL4b+aZRp06Zh2rRpxT73fBB0+vTpCjkmAyYiIiLSi1DhY3LlX7jSUDjpm4iIiKgMzDARERGRXgw56dtQGDARERGRXgw9h8kQOCRHREREVAZmmIiIiEgv6ho4JseAiYiIiPTCITkiIiIi0sEMExEREemlJmaYGDARERGRXtQ1MGLikBwRERFRGZhhIiIiIr0IakP34OVjwERERER6ETgkR0RERETPY4aJiIiI9KLmkBwRERFR6TgkR0REREQ6mGEiIiIivdTAn5JjwETakmKSDN0F+o+5c0Nl6C5UCxfHHzR0F6qNd7cPNnQXqofN9ytt10INjJg4JEdERERUBmaYiIiISC81cM43AyYiIiLSj5pDckRERET0PGaYiIiISC81cR0mBkxERESkl5r447sckiMiIiIqAzNMREREpBc1h+SIiIiISlcT5zBxSI6IiIioDMwwERERkV5q4jpMDJiIiIhILzVwRI5DckRERERlYYaJiIiI9CJwSI6IiIiodDVxWQEOyRERERGVgRkmIiIi0guH5IiIiIjKUBMDJg7JEREREZWBGSYiIiLSSw1MMDFgIiIiIv1wSI6IiIiIdDDDRERERHoRauA6TAyYiIiISC818cd3OSRHREREVAZmmIiIiEgvHJIjIiIiKgPvkiMiIiIiHcwwERERkV5qYoaJARMRERHpRV0D5zBxSI6IiIioDP/5gKlLly6YNWuWobtRqR4/fgyRSISgoCBDd4WIiGoAQS1U6FYdcEjOQEQiEQ4ePIhBgwYZuisvxagBjujVyQZSCzHuh+diw54YRMTkl9qmQwsZxg5yhIuDKWITFdh5MB4XAzM1zw/rbY8OLWSo5SKBQiEgJDQH2/bHITpeoaljJjHC+KFOaO8ng5VUjIRkBQ6dSMGR0ymVdq7/Bq9T2Xq0l6JfZxmsrcSIii/AzkOpuP+45GvU0EuCMf1sUMvJBKkZKhw+k4G/L2Vpnq/lZII3esrh5WYKB1tj7DyUiqPnM3X2YyMTY1QfazTzMYOpiQixSUps2peM8OiCSjnPijKqvwNe72QNqYUYD8JzseGHuHK8pqwwZqAjXBxMEJtYgF2/Jjz3mrJD+xYy1HI21bymth9I0HpNAUAtZ1NMGOoE3/oWEBkBETH5WLkxCokpyko515fN9tVW8JozCfIWvjBzdcS1odMQf+iEobv1UtTEZQX+8xmmilZQ8PLeHF/msSrTG73sMbiHHb77IRazPwlFanoBPvH3hLmk5JdfAy9zLJjijpMX0/Deskc4eTENC6bUhk8dc02dJj6W+ONUCuZ8FoaP1jyG2Aj4xN8TElORps7bI5zR0leKL7ZEYeqih/j1eDKmjnRBOz+rSj3nF8HrVLZ2zSwwrr8Nfj2ZjoAvY3E/PA8LJjnAzlpcbH0HGzHmT3TA/fA8BHwZi99OpeOtATZo41t0fUxNREhIUeLHo2lIzVAVux9LcxGWTXOCUiVg5dZEzF0di92HU5GdW7U/NIb2ssOgHrb47oc4+H8ajtR0JT6eXbvM19QH79TCqUtpmLE8DKcupeGDd2qh/jOvKd/6ha+puSseY9HaJxCLRfh4dm2t15SzgwlWfeCJqLh8BHzxBDOWheGnw0lQFFTta6YPsaUFMm7dx933lxu6K/QS1IiASa1WY/78+bC1tYWzszOWLl2qeS4iIgIDBw6EVCqFTCbD8OHDER8fr3l+6dKl8PPzw9atW+Hl5QWJRAJBEHDs2DG8+uqrsLa2hp2dHfr164fQ0FBNO4VCgffeew8uLi4wMzODp6cnVqxYAQDw9PQEAAwePBgikUjz+EWP9dS9e/fQoUMHmJmZoXHjxjh9+nSFX8sXMbC7Hfb+kYgLNzLwJCYfa7ZGQ2JqhM5t5SW36WGPwOAs7DuahKg4BfYdTcLNe1kY2N1OU2fxuif4+0IaImLyER6Vh7XbouFoZwpvj6I39gZ1LXDiQhpu389GQnIBjp1NRXhUnladqoLXqWx9O1rh1NUsnLqSjZgEJXb+nobkNBV6tJMWW797Oyskp6qw8/c0xCQocepKNk5fy0LfzjJNnbAoBX74Iw0Xb+ZAqSz+w7x/FxmS05XYuC8FoZEKJKWqcPdRPhKqeKZkYDdb7D2ShIuBmYWvqW0x//+akpXYZkB3WwQGZ2Pf0eT/f00l4+a9bAzsbqups+TLCJy4kP7/r6l8rNsWo/OaGjfIEdduZ2HbgQSEReYhPqkA125nIT2z+KC0Okr88yweLFmHuF+PG7orL51aLVToVh3UiIBpx44dsLS0xOXLl7Fq1SosX74cx48fhyAIGDRoEFJSUnDmzBkcP34coaGhGDFihFb7R48e4eeff8aBAwc084Sys7Ph7++Pq1ev4sSJEzAyMsLgwYOhVqsBAF999RUOHTqEn3/+Gffv38fu3bs1gdHVq1cBANu2bUNsbKzm8Yse66l58+Zhzpw5CAwMRIcOHTBgwAAkJydXwhUtP2d7E9ham+DG3aIhEKVSwJ372WjobVFiuwZe5ggMztIqu3E3q9Q2lhaFWYas7KI35OCHOWjbzAp21oWjz019LOHqZKrVn6qA16lsYjFQx80Utx7kaZXfepiH+p6SYtvU8zDFrYfa9W/ez4NXLVOI9Xj3a9nIAmFRCrw/xh7fLXbDived8VobS73P4WVy+v/XVODdbE2ZUingzoMcNKxb2mvKovjXVN2Sg2dL88KL+fQ1JRIBrZpKEROvwPJZtbF7dX2sDqhT5TKW9OI4h+k/qmnTpliyZAkAoF69evjmm29w4kThOPOtW7cQHh4Od3d3AMCuXbvQuHFjXL16Fa1btwZQmC3atWsXHBwcNPscOnSo1jG2bNkCR0dHBAcHw9fXFxEREahXrx5effVViEQieHh4aOo+3Y+1tTWcnZ219vMix3rqvffe09TdsGEDjh07hi1btmD+/PnFXpf8/Hzk52vPZVCpFBCLTYut/yJs5IUvsbQM7W/iaRlKONiZlNouNV27TWq6Ejaykl+ybw93xp0H2XjyzPyMjT/GYsZbrtj5RQMolQIEQcCXO2IQ/CjnRU6n0vA6lU1mKYZYLEJ6lnaGIj1TBbmVWbFtrK3ESM/UDpjSs1QwFotgZWmEtEx1se2e52hrjO7trHDkXAZ+O5mOuu4SvDXQBgVK4NyN7LJ3YAClvaYcy3hNFdemtNfU5OHOuPswR/OakluJYWEmxhu97bHr1wRsOxCPlo2lWPhuLSxc/QR3HlSd1xVRedWYgOlZLi4uSEhIQEhICNzd3TXBEgA0atQI1tbWCAkJ0QRMHh4eWgEMAISGhmLRokW4dOkSkpKSNNmeiIgI+Pr6Yvz48ejRowd8fHzQq1cv9OvXDz179iyzry9yrKfat2+v+bexsTFatWqFkJCQEo+1YsUKLFu2TKvMu/m7qN9iWpn9LEmXtnK8N9ZV83jpV08AADrfH0TPF5RNJCpmP//v3VEu8Kxlhnkrw7TKB3SzRQMvCyz7+gkSkhXwrWeJaWNckJpegKAQw33Q8Tr9C8+dnEgE6DP/9Okl1aeNkahw6G7vsXQAwOOYAtRyMkH39tIqEzB1aSvD9DFFr6llX0cA0H0tiFD2ueu0KeU1NXWUMzxrSTB/1WNNmZGo8CpfCsrEb38X3jgQHpmPhnUt0LuzDQOm/4CaOOm7RgRMJiba36ZEIhHUajUEQYBIpPuJ9Hy5paVu6r1///5wd3fH5s2b4erqCrVaDV9fXygUhXeJtGjRAuHh4Th69Cj+/vtvDB8+HN27d8f+/ftL7euLHKs0xZ3fUwEBAfD399cqG/7+ozL3WZrLQZm4H140v8rEuPD4NjLtTIi1lTFSM0qe/5GartR8Q9a0kel+8wWAqSNd0NZPhg9WhSE5teh5UxMRxg1xwqffRuDq7cIhhsdR+fCqbYYhr9sbNBDgddJfRrYKKpUAuZX2BG+ZVIyMrOLnxaRlqoqtr1QJyMopX3YJAFIzVYhK0L4JIzqhAG2aVJ05XpeDsnA/7JnXlEnhMNnzryl5Ca+Pp4rLUMqtim8zZaQz2jazwoL/PdZ6TWVkKaFUCoiM1c5gR8blo1Epw8VUfQjq8v/9/FfUiDlMJWnUqBEiIiIQGRmpKQsODkZ6ejoaNmxYYrvk5GSEhITgo48+Qrdu3dCwYUOkpqbq1JPJZBgxYgQ2b96MvXv34sCBA0hJKfy2ZWJiApWq7MmP5T0WAFy6dEnzb6VSievXr6NBgwYl7lsikUAmk2lt/3Y4LjdfjdgEhWaLiMlHSloBmjcumpRrLBbB18cSIaUM99wLy4VfI+2JvM0bSXXaTB3lgvYtZFj4RTjik7Q/0MRiEUyMjfD88LhaXXog+TLwOulPpQLCoxVoWk97+K1JPTM8KGFZgYdPFGjyXP2m9c0QFqWASo/3+weP8+HqoB1EuDgYIym16kxgzs1XIzaxQLNpXlONir6EGYsB3/oWCAkt7TWVo9UG+P/XVGiuVtnUkc7o0NwKH65+ovOaUqqAh49z4eak/X7i5mSKhOT/xt2/VPPU6ICpe/fuaNq0KUaPHo0bN27gypUrGDduHDp37oxWrVqV2M7GxgZ2dnbYtGkTHj16hJMnT+pkatauXYuffvoJ9+7dw4MHD7Bv3z44OzvD2toaQOGdcidOnEBcXFyJAVB5j/XUt99+i4MHD+LevXuYPn06UlNTMXHiRP0vTAX77e9kDO/jgPbNreDhKsHsiW7IV6hx5nK6po7/RDe8NcRJ8/jQ30lo0UiKN3rZo5azKd7oZQ+/hlL89nfRJPZpo13QtZ01/rc5Erl5atjIjGEjM4apSeGHfG6eGrfuZ2PiMGc08bGEk70JunewxmvtrXExMOPlXYBy4nUq2x/nMtG1jRRdWlnC1dEYY/tbw95arFlX6c1ecrw7ougOwb8vZcLeRowx/azh6miMLq0s0bW1FH+cKTovsRjwcDGBh4sJjI0BG7kYHi4mcLIrCpCOnMuEd20JBnaVwcnOGB38LPBaWyn+uqi7XlNV8tuJFAzrY695Tc2a8PQ1VXT+/hNd8dZgR83jQydS0LyRFEN72aGWsymG9rKDX0NLzdAaALw7yhld2snxv++jkZOngrVMDGuZWPOaAoBf/kpGx9ZyvN7RGi4OJujX1QZtmlpVybW9XpTY0gKyZg0ga1b4xdSiTi3ImjWAmbuLgXtW+WriXXI1YkiuJCKRCL/++itmzJiBTp06wcjICL169cLXX39dajsjIyP89NNPmDlzJnx9feHj44OvvvoKXbp00dSRSqVYuXIlHj58CLFYjNatW+PIkSMwMiqMUVevXg1/f39s3rwZbm5uePz48Qsf66nPP/8cK1euRGBgIOrWrYvffvsN9vb2L3p5Ksz+Y0kwNTXCtNGukFqKcT8sF4vWPEZuftFXfAc7U615FSGhuVi5KRJjBzlhzCBHxCUqsHJTJO6HF33L7du18INx5XwvreOt3RqFvy+kAQBWbYzEW0OdMHdyLVhZipGQXICdB+Or5Js2r1PZLt3MgZWFEYZ0l8NaJkZkXAFWbk1EUlphpsdaJob9M2syJaaqsGprIsb2t0HPDlZIzVBhx6FUXLlTdH1sZGJ8PrvoA65/Zxn6d5YhODQPH29MAFA4f2nNzkS82csaQ7rLkZiixK5DqfgnsGrPxTlwLBkSEyO8O8pZ85pavDZC+zVla6KVXbwXmotVm6IwZpAjxgx8+pqKwgOt11ThEgOfz/PUOt7abdE4caEwwL8YmIn1u2MxrLcd3nnTGdHxCny2IRLBj7QzVdWZvKUv2p/YpXnc6IuFAIDInb/g1qQAQ3XrpTD0HKb169fjf//7H2JjY9G4cWOsW7cOHTt2LLH+mTNn4O/vj7t378LV1RXz58/H1KlT9TqmSDD0WVOV0nfyHUN3gf5jZLYlr/lDRTJTq84SDlXdu9sHG7oL1ULfgvuVtu/hcx5X6P5+Xu1Z7rp79+7F2LFjsX79erzyyivYuHEjvv/+ewQHB6N27do69cPDw+Hr64u3334bU6ZMwT///INp06bhxx9/1LkLvTQ1ekiOiIiI9GfIdZjWrFmDSZMmYfLkyWjYsCHWrVsHd3d3bNiwodj63333HWrXro1169ahYcOGmDx5MiZOnIgvvvhCr+MyYCIiIiK9VHTAlJ+fj4yMDK3t+XUCgcK1Cq9fv66zTE/Pnj1x4cKFYvt68eJFnfqvv/46rl27ptdPkDFgIiIiIoNasWIF5HK51vb058SelZSUBJVKBScnJ61yJycnxMXFFbvvuLi4YusrlUokJSWVu481etI3ERER6U8tVOw6TMWtCyiRFP+TR4DukiclratYWv3iykvDgImIiIj0UtG//yaRSEoNkJ6yt7eHWCzWySYlJCToZJGecnZ2Lra+sbEx7Ozsim1THA7JERERUbVgamqKli1b4vjx41rlx48fR4cOHYpt0759e536f/31F1q1aqXzSyClYcBEREREejHkXXL+/v74/vvvsXXrVoSEhGD27NmIiIjQrKsUEBCAcePGaepPnToVT548gb+/P0JCQrB161Zs2bIFc+fO1eu4HJIjIiIivRhyCccRI0YgOTkZy5cvR2xsLHx9fXHkyBF4eHgAAGJjYxEREaGpX6dOHRw5cgSzZ8/Gt99+C1dXV3z11Vd6rcEEcOFKeg4XrqSKxoUry4cLV5YfF64sn8pcuHLguxW77982+FTo/ioDM0xERESkF7W6Yu+Sqw4YMBEREZFeKvouueqAk76JiIiIysAMExEREelFqOCFK6sDBkxERESkFw7JEREREZEOZpiIiIhILzUxw8SAiYiIiPRS0T++Wx1wSI6IiIioDMwwERERkV44JEdERERUBqEGrvTNITkiIiKiMjDDRERERHrhkBwRERFRGWriSt8ckiMiIiIqAzNMREREpBc1h+SIiIiISse75IiIiIhIBzNMREREpBfeJUdERERUBt4lR0REREQ6mGEiIiIivXBIjoiIiKgMvEuOiIiIiHSIBEGoeXk1qjby8/OxYsUKBAQEQCKRGLo7VRqvVfnwOpUPr1P58VrVDAyYqErLyMiAXC5Heno6ZDKZobtTpfFalQ+vU/nwOpUfr1XNwCE5IiIiojIwYCIiIiIqAwMmIiIiojIwYKIqTSKRYMmSJZxIWQ68VuXD61Q+vE7lx2tVM3DSNxEREVEZmGEiIiIiKgMDJiIiIqIyMGAiIiIiKgMDJiIiIqIyMGAiIiIiKoOxoTtARESGk5GRUe66/NkPqsm4rABVCf7+/uWuu2bNmkrsSfURFRUFa2trSKVSrfKCggJcvHgRnTp1MlDPqp6ZM2fC29sbM2fO1Cr/5ptv8OjRI6xbt84wHasCjIyMIBKJSq0jCAJEIhFUKtVL6hVR1cOAiaqErl27aj2+fv06VCoVfHx8AAAPHjyAWCxGy5YtcfLkSUN0scqIjY3FwIEDcf36dYhEIowePRrffvutJnCKj4+Hq6srP9ye4ebmhkOHDqFly5Za5Tdu3MCAAQMQFRVloJ4Z3pkzZ8pdt3PnzpXYk+onNTUVW7ZsQUhICEQiERo0aICJEyfC1tbW0F2jSsAhOaoSTp06pfn3mjVrYGVlhR07dsDGxgZA4RvThAkT0LFjR0N1scpYsGABxGIxLl++jLS0NAQEBKBLly44fvy45nrxe5C25ORkyOVynXKZTIakpCQD9KjqYBD0Ys6cOYOBAwdCJpOhVatWAICvv/4aH3/8MQ4dOsTr+h/EDBNVOW5ubvjrr7/QuHFjrfI7d+6gZ8+eiImJMVDPqgY3NzccPHgQbdq0AQDk5+djxIgRePLkCU6cOIGCggJmmJ7j6+uLqVOn4r333tMq//rrr7FhwwYEBwcbqGdVU05ODiIiIqBQKLTKmzZtaqAeVT2+vr7o0KEDNmzYALFYDABQqVSYNm0a/vnnH9y5c8fAPaSKxgwTVTkZGRmIj4/XCZgSEhKQmZlpoF5VHenp6ZpMElD4O1b79+/HsGHD0LVrV+zevduAvaua/P398d577yExMRGvvfYaAODEiRNYvXp1jZ6/9LzExERMmDABR48eLfZ5BuFFQkNDceDAAU2wBABisRj+/v7YuXOnAXtGlYXLClCVM3jwYEyYMAH79+9HVFQUoqKisH//fkyaNAlDhgwxdPcMzsvLC7du3dIqMzY2xr59++Dl5YV+/foZqGdV18SJE7F69Wps2bIFXbt21QSWGzZswNtvv23o7lUZs2bNQmpqKi5dugRzc3McO3YMO3bsQL169XDo0CFDd69KadGiBUJCQnTKQ0JC4Ofn9/I7RJWOQ3JU5eTk5GDu3LnYunUrCgoKABQGBJMmTcL//vc/WFpaGriHhvXBBx8gKCgIf/75p85zSqUSQ4cOxeHDh5kNKEFiYiLMzc117i4kwMXFBb/99hvatGkDmUyGa9euoX79+jh06BBWrVqF8+fPG7qLBvXsF5WQkBDMnz8fM2bMQLt27QAAly5dwrfffovPP/8cI0aMMFQ3qZIwYKIqKzs7G6GhoRAEAd7e3jU+UHpKqVQiJyenxDVxVCoVoqKi4OHh8ZJ7RtWdTCbDrVu34OnpCU9PT+zZswevvPIKwsPD0bhxY+Tk5Bi6iwb1dAmGsj42uQTDfxPnMFGVZWlpyUmmxTA2Ni51AUGxWMxg6Tl16tQpda2hsLCwl9ibqsvHxwf379+Hp6cn/Pz8sHHjRnh6euK7776Di4uLobtncOHh4YbuAhkQAyaqkq5evYp9+/YVe6fOL7/8YqBeGR4X+Hwxs2bN0npcUFCAwMBAHDt2DPPmzTNMp6qgWbNmITY2FgCwZMkSvP7669izZw9MTU2xfft2w3auCuAXkZqNARNVOT/99BPGjRuHnj174vjx4+jZsycePnyIuLg4DB482NDdM6jAwECtx6Ut8ElF3n///WLLv/32W1y7du0l96bqGj16tObfzZs3x+PHj3Hv3j3Url0b9vb2BuxZ1RUcHFzsF7sBAwYYqEdUWTiHiaqcpk2bYsqUKZg+fTqsrKxw8+ZN1KlTB1OmTIGLiwuWLVtm6C5WCWvWrMHp06dLXOBzzpw5Bu5h1RcWFgY/Pz+9fk+NCCh87QwePBi3b9/Wmtf0dOiXc5j+exgwUZVjaWmJu3fvwtPTE/b29jh16hSaNGmCkJAQvPbaa5ohg5qOC3z+e6tWrcL69evx+PFjQ3elSlCpVNi+fTtOnDiBhIQEqNVqredr+s8SPat///4Qi8XYvHkzvLy8cOXKFSQnJ2POnDn44osv+KsE/0EckqMqx9bWVrNApZubG+7cuYMmTZogLS2txt+l8ywu8Fl+zZs315r0LQgC4uLikJiYiPXr1xuwZ1XL+++/j+3bt6Nv377w9fUt80d5a7KLFy/i5MmTcHBwgJGREYyMjPDqq69ixYoVmDlzps7wOVV/DJioyunYsSOOHz+OJk2aYPjw4Xj//fdx8uRJHD9+HN26dTN096qMpwt8rl69WmsdmHnz5nGBz+cMGjRI67GRkREcHBzQpUsXNGjQwDCdqoJ++ukn/Pzzz+jTp4+hu1LlqVQqzVpe9vb2iImJgY+PDzw8PHD//n0D944qAwMmqnK++eYb5OXlAQACAgJgYmKC8+fPY8iQIVi0aJGBe1d1fPfdd5g7dy7GjBlT7AKfVGTJkiWG7kK1YGpqCm9vb0N3o1rw9fXFrVu34OXlhbZt22LVqlUwNTXFpk2b4OXlZejuUSXgHCaiao4LfBZPn4ncpa1rVZOsXr0aYWFh+OabbzgcV4Y///wT2dnZGDJkCMLCwtCvXz/cu3cPdnZ22Lt3r+Y3C+m/gwETVQn8cKOK9nRV5vLgHU2FBg8ejFOnTsHW1haNGzeGiYmJ1vM1eQ208khJSYGNjQ2Dzf8oDslRlWBtbc0PtxfABT5LdurUKc2/Hz9+jAULFmD8+PFo3749gMJJuzt27MCKFSsM1cUqx9rausavdVYeSqUSZmZmCAoKgq+vr6bc1tbWgL2iysaAiaoEfrjpjwt8lq5z586afy9fvhxr1qzByJEjNWUDBgxAkyZNsGnTJrz11luG6GKVs23bNkN3oVowNjaGh4cHv7zVMBySoyqnW7dumDx5staHGwD88MMP2LRpE06fPm2YjlUxXOCz/CwsLHDz5k3Uq1dPq/zBgwfw8/PjchWkt23btmHfvn3YvXs3M0s1BAMmqnL44VY+XOCz/Hx8fNCvXz+sXr1aq3zOnDk4fPgwbwN/xv79+/Hzzz8XO8x748YNA/Wq6mnevDkePXqEgoICeHh46NxswWv138MhOapy3N3d8d133+l8uG3cuBHu7u4G6lXVwwU+y2/t2rX4v/buPTbn8//j+POulrW06nxOq63hzopiY05ZEcyhdVqX2bTZLJvM1qZly5y6YQSzyowxMRGnIGRGHFrVWXRTx9aZtkoxpLTqOKfen+8ffrujX/bt7Nf2uunrkUh6X3f/eEXI/bqvz/V5f4YMGUJiYmKxmVXZ2dkV/qzXo+bMmcP48eOJiori559/5t133+XUqVPs3buXUaNGmY7nUsLDw3W4u4LRDpO4nM2bNzNkyBACAwOf+OGmoXoPDRs2jPbt2xMXF8fUqVP59ttvCQ8PZ9u2bbRt21ZF4L+cP3+e+fPnc/z4cSzLwm63M3LkSJXwR7Ro0YIvvviCt956y3mZNyAggPj4eAoKCpg7d67piCLGqDCJS9KHW8kKCgq4c+cODRs2xOFwMGvWLFJTUwkKCmLixInOB/LKQzt37mTBggXk5OSwdu1aGjVqxLJly2jatCldunQxHc8leHl5cfz4cfz8/Khbty7btm2jdevWZGVl0bFjR/Lz801HdBkBAQHs3buXWrVqFVsvLCykbdu25OTkGEomZcXNdACRJzl9+jRnzpzh4sWLzJ07l6lTp7Jjxw5SU1NNR3MZNWvWpGHDhsDDmUOfffYZGzZsICEhQWXpv6xbt47evXvj5eVFeno6d+/eBeDGjRtMmzbNcDrXUb9+fWcp8vPzIy0tDXj4/1HfrYs7c+bME++Su3v3LufPnzeQSMqazjCJy1m3bh3Dhw/n7bfffuKH2+bNmw0nNEcDPv+dr776igULFhAZGcmqVauc6506dWLy5MkGk7mW7t27s3HjRtq2bcuIESOIjY1l7dq17Nu3T88n/D8bNmxw/pyYmEj16tWdr4uKiti+fTtNmzY1EU3KmC7JicsJCQkhNjaWyMjIYucoMjIy6NOnD5cuXTId0RhNr/53vLy8OHbsGP7+/sX+TeXk5GC3253PLqzoHA4HDocDd/eH36XXrFnjvMw7cuRIKleubDiheW5uDy/M2Gy2x3bdPDw88Pf355tvvqF///4m4kkZ0g6TuJyTJ0/SrVu3x9Z9fHwoLCws/0AuRAM+/50GDRqQnZ2Nv79/sfXU1FQ9KPURbm5uzkIAEBERQUREhMFErsfhcADQtGlT9u7dS+3atQ0nkvKiwiQuRx9uf0/Tq/+dDz/8kJiYGBYvXozNZuPChQvs2rWLMWPGEB8fbzqeS7lz5w6HDh0iLy/PWQ7+EhYWZiiV6zl9+vRja4WFhfj6+pZ/GCkfloiLmTFjhmW32620tDTL29vb2rlzp7V8+XKrTp061nfffWc6nsvw9PS0MjMzH1s/efKk5enpaSCRaxs3bpzl6elp2Ww2y2azWS+88II1YcIE07FcypYtW6w6deo4/44e/ePm5mY6nkuZPn26tWrVKufroUOHWjabzWrYsKGVkZFhMJmUFZ1hEpc0fvx4Zs+e7TxbUqVKFcaMGcOUKVMMJ3Mdml799G7fvs2xY8dwOBzY7XaqVatmOpJLCQoKonfv3sTHx1OvXj3TcVxaQEAAy5cvp1OnTmzbto2IiAhWr17tnJKelJRkOqKUMhUmcVn6cPvfNOBTSpuPjw/p6ekEBgaajuLyPD09yczMpEmTJsTExHDnzh1++OEHMjMz6dChA1evXjUdUUqZ5jCJy/Ly8qJ9+/a88sorKktP0LdvX7KysggPD6egoID8/HzCw8PJyspSWZJ/ZejQoXq49T9Uo0YNzp07B8DWrVvp2bMnAJZl6Q7V55QOfYs8wx4d8Knp1fL/NXfuXN544w127txJcHAwHh4exd6Pjo42lMz1DB48mGHDhtGsWTPy8/N5/fXXAcjIyCAoKMhwOikLKkwizygN+JTStnLlShITE/H09GTHjh3FZn7ZbDYVpkfMnj0bf39/zp07x8yZM5274BcvXuSjjz4ynE7Kgs4wiTyjNOBTSlv9+vWJjo7m888/LzaPSUS0wyTyzNKATylt9+7d480331RZegrHjh3j7Nmz3Lt3r9i6ZlY9f1SYRJ5RGvAppS0qKorVq1czbtw401FcXk5ODoMGDeLw4cPFHpPy12VMHfx+/qgwiTyjNL1aSltRUREzZ84kMTGRVq1aPXboOyEhwVAy1xMTE0PTpk1JTk4mICCAPXv2kJ+fz+jRo5k1a5bpeFIGdIZJ5BmmAZ9SmkJDQ//2PZvNRkpKSjmmcW21a9cmJSWFVq1aUb16dfbs2UPz5s1JSUlh9OjRpKenm44opUyFSeQZpwGfIuWvRo0a7N+/n4CAAAIDA1m0aBGhoaGcOnWK4OBgbt++bTqilDJdkhN5xv014FOktGRnZ3Pq1Cm6deuGp6cnlmUVGzEg8NJLL3Ho0CECAgLo0KEDM2fOpHLlyixcuFBnCJ9T2mESEREA8vPziYiI4JdffsFms5GVlUVAQAAjRozA19f3secWVmSJiYncunWLwYMHk5OTQ//+/Tlx4gS1atVi9erVdO/e3XREKWUqTCIiAkBkZCR5eXksWrSIli1bOmd7JSUlERsby9GjR01HdGkFBQXUqFFDu3HPKQ3bEBERAJKSkpgxYwaNGzcutt6sWTNyc3MNpXI9Dx48wN3dnSNHjhRbr1mzpsrSc0yFSUREALh16xZeXl6PrV+5coUqVaoYSOSa3N3d8fPz06ylCkaFSUREAOjWrRtLly51vrbZbDgcDr7++uv/OXKgIpowYQJjx46loKDAdBQpJzrDJCIiwMPHfLz22mu0a9eOlJQUwsLCOHr0KAUFBfz2228EBgaajugyQkJCyM7O5v79+/j5+VG1atVi7x84cMBQMikrGisgIiIA2O12Dh06xPz586lUqZLzLrBRo0bRoEED0/FcysCBA01HkHKmHSYRERGREugMk4iIALB161ZSU1Odr+fNm0ebNm0YNmwYV69eNZjMde3fv5/ly5ezYsUKPQ7lOafCJCIiAHz66adcv34dgMOHDxMXF0ffvn3JyckhLi7OcDrXkpeXR/fu3Xn55ZeJjo7m448/pl27dvTo0YPLly+bjidlQIVJREQAOH36NHa7HYB169YxYMAApk2bxvfff8+WLVsMp3Mtn3zyCdevX3ceir969SpHjhzh+vXrREdHm44nZUCHvkVEBIDKlSs7HxqbnJxMZGQk8HAg4187T/LQ1q1bSU5OpmXLls41u93OvHnz6NWrl8FkUlZUmEREBIAuXboQFxdH586d2bNnD6tXrwYgMzPzsenfFZ3D4cDDw+OxdQ8PDxwOh4FEUtZ0SU5ERACYO3cu7u7urF27lvnz59OoUSMAtmzZQp8+fQyncy3du3cnJiaGCxcuONf++OMPYmNj6dGjh8FkUlY0VkBERJ7K9OnTGTlyJL6+vqajGHPu3DnCw8M5cuQITZo0wWazkZubS6tWrVi/fj1NmjQxHVFKmQqTiIg8FR8fHzIyMggICDAdxbjk5GSOHz+OZVnY7XZ69uxpOpKUERUmERF5Kt7e3hw8eLDCF6bt27ezfft28vLyHju3tHjxYkOppKzo0LeIiMhTmjRpEpMnT6Z9+/Y0aNAAm81mOpKUMRUmERGRp7RgwQKWLFnC8OHDTUeRcqK75ERERJ7SvXv36NSpk+kYUo5UmERERJ7S+++/z8qVK03HkHKkS3IiIvJUunbtiqenp+kY5e7R5+k5HA4WLlxIcnIyrVq1emyIZUJCQnnHkzKmu+RERMSpqKiI9evXc/z4cWw2Gy1btiQ8PJxKlSqZjmZcaGjoP/o9m81GSkpKGaeR8qbCJCIiAGRnZ9OvXz/Onz9P8+bNsSyLzMxMmjRpwqZNmwgMDDQdUcQYFSYREQGgb9++WJbFihUrqFmzJgD5+fm88847uLm5sWnTJsMJRcxRYRIREQCqVq1KWloawcHBxdYPHjxI586duXnzpqFkIubpLjkREQGgSpUq3Lhx47H1mzdvUrlyZQOJRFyHCpOIiADQv39/PvjgA3bv3o1lWViWRVpaGiNHjiQsLMx0PBGjdElOREQAKCwsJCoqio0bNzpvk3/w4AFhYWEsWbKE6tWrG04oYo4Kk4iIFJOVlcWJEyewLAu73U5QUJDpSCLGqTCJiIiIlECTvkVEKrC4uDimTJlC1apVi02yfhJNr5aKTIVJRKQCS09P5/79+wAcOHAAm832xN/7u3WRikKX5ERERERKoLECIiLCgwcPcHd358iRI6ajiLgkFSYREcHd3R0/Pz+KiopMRxFxSSpMIiICwIQJExg7diwFBQWmo4i4HJ1hEhERAEJCQsjOzub+/fv4+flRtWrVYu8fOHDAUDIR83SXnIiIADBw4EDTEURclnaYREREREqgM0wiIiIiJdAlORERAaCoqIjZs2ezZs0azp49y71794q9r8PgUpFph0lERACYNGkSCQkJREREcO3aNeLi4hg8eDBubm58+eWXpuOJGKUzTCIiAkBgYCBz5syhX79+eHt7k5GR4VxLS0tj5cqVpiOKGKMdJhERAeDSpUsEBwcDUK1aNa5duwZA//792bRpk8loIsapMImICACNGzfm4sWLAAQFBZGUlATA3r17qVKlisloIsapMImICACDBg1i+/btAMTExDBx4kSaNWtGZGQk7733nuF0ImbpDJOIiDxRWloav//+O0FBQYSFhZmOI2KUCpOIiIhICTSHSUSkAtuwYcM//l3tMklFph0mEZEKzM3tnx1ltdlsFBUVlXEaEdelwiQiIiJSAt0lJyIiIlICnWESERGnW7du8euvvz7xWXLR0dGGUomYp0tyIiICQHp6On379uX27dvcunWLmjVrcuXKFby8vKhbty45OTmmI4oYo0tyIiICQGxsLAMGDKCgoABPT0/S0tLIzc2lXbt2zJo1y3Q8EaO0wyQiIgD4+vqye/dumjdvjq+vL7t27aJly5bs3r2bqKgoTpw4YTqiiDHaYRIREQA8PDyw2WwA1KtXj7NnzwJQvXp1588iFZUOfYuICAAhISHs27ePF198kdDQUOLj47ly5QrLli0jODjYdDwRo3RJTkREANi3bx83btwgNDSUy5cvExUVRWpqKs2aNePHH3+kTZs2piOKGKPCJCIiAPz5559YloWXlxcAZ86c4aeffsJut9O7d2/D6UTM0hkmEREBIDw8nKVLlwJQWFhIx44dSUhIYODAgcyfP99wOhGzVJhERASAAwcO0LVrVwDWrl1LvXr1yM3NZenSpcyZM8dwOhGzVJhERASA27dv4+3tDUBSUhKDBw/Gzc2Njh07kpubazidiFkqTCIiAkBQUBDr16/n3LlzJCYm0qtXLwDy8vLw8fExnE7ELBUmEREBID4+njFjxuDv70+HDh149dVXgYe7TSEhIYbTiZilu+RERMTp0qVLXLx4kdatW+Pm9vA79Z49e/Dx8aFFixaG04mYo8IkIiIiUgJdkhMREREpgQqTiIiISAlUmERERERKoMIkIiIiUgIVJhEREZESqDCJiIiIlECFSURERKQEKkwiIiIiJfgPTTHtx7pQlwsAAAAASUVORK5CYII=",
      "text/plain": [
       "<Figure size 600x500 with 2 Axes>"
      ]
     },
     "metadata": {},
     "output_type": "display_data"
    }
   ],
   "source": [
    "# Creando el gráfico\n",
    "import seaborn as sns\n",
    "import matplotlib.pyplot as plt\n",
    "\n",
    "variables = ['edad', 'edad2', 'educ', 'salario_semanal', 'horastrab']\n",
    "df_variables = df_combinado[variables]\n",
    "matriz_corr = df_variables.corr()\n",
    "\n",
    "# Gráfico\n",
    "plt.figure(figsize=(6, 5))\n",
    "sns.heatmap(matriz_corr, annot=True, cmap='coolwarm')\n",
    "plt.title(\"Matriz de correlación\")\n",
    "plt.show()"
   ]
  },
  {
   "cell_type": "code",
   "execution_count": 322,
   "id": "daa25dc1-accf-4532-bd92-0b887cdfe0db",
   "metadata": {},
   "outputs": [],
   "source": [
    "# PARTE II- EJERCICIO 2"
   ]
  },
  {
   "cell_type": "code",
   "execution_count": 335,
   "id": "c128b0a7-e7e3-402d-b789-ee2a1bb3e949",
   "metadata": {},
   "outputs": [
    {
     "name": "stdout",
     "output_type": "stream",
     "text": [
      "Cargas (loadings) de cada variable en los primeros dos componentes:\n",
      "                      PC1       PC2\n",
      "edad             0.701821  0.044171\n",
      "edad2            0.702261  0.026882\n",
      "educ            -0.107917  0.687892\n",
      "salario_semanal  0.030276  0.721414\n",
      "horastrab       -0.041405 -0.060770\n"
     ]
    },
    {
     "data": {
      "image/png": "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",
      "text/plain": [
       "<Figure size 640x480 with 1 Axes>"
      ]
     },
     "metadata": {},
     "output_type": "display_data"
    }
   ],
   "source": [
    "import pandas as pd\n",
    "from sklearn.preprocessing import StandardScaler\n",
    "from sklearn.decomposition import PCA\n",
    "import matplotlib.pyplot as plt\n",
    "\n",
    "# Eliminar filas con NaN en las variables necesarias\n",
    "cols = ['edad', 'edad2', 'educ', 'salario_semanal', 'horastrab']\n",
    "df_2024 = df_2024.dropna(subset=cols)\n",
    "df_2004 = df_2004.dropna(subset=cols)\n",
    "\n",
    "# Agregar columna año y unir\n",
    "df_2024['año'] = 2024\n",
    "df_2004['año'] = 2004\n",
    "df_combinado = pd.concat([df_2024, df_2004], ignore_index=True)\n",
    "\n",
    "# Aplicar PCA en variables\n",
    "X = df_combinado[['edad', 'edad2', 'educ', 'salario_semanal', 'horastrab']]\n",
    "X_std = StandardScaler().fit_transform(X)\n",
    "\n",
    "pca = PCA()\n",
    "X_pca = pca.fit_transform(X_std)\n",
    "\n",
    "# (loadings) de cada variable en PC1 y PC2\n",
    "features = ['edad', 'edad2', 'educ', 'salario_semanal', 'horastrab']\n",
    "loadings = pd.DataFrame(pca.components_.T, index=features, columns=[f'PC{i+1}' for i in range(len(features))])\n",
    "\n",
    "# Mostrar solo los dos primeros componentes\n",
    "print(\"Cargas (loadings) de cada variable en los primeros dos componentes:\")\n",
    "print(loadings[['PC1', 'PC2']])\n",
    "\n",
    "# Gráfico de dispersión\n",
    "plt.scatter(X_pca[:, 0], X_pca[:, 1], alpha=0.5)\n",
    "plt.xlabel('PC1')\n",
    "plt.ylabel('PC2')\n",
    "plt.title('PCA - Dispersión en los primeros dos componentes')\n",
    "plt.grid()\n",
    "plt.show()"
   ]
  },
  {
   "cell_type": "code",
   "execution_count": 329,
   "id": "ab7d1566-3fb9-46f0-b812-f415c65aefde",
   "metadata": {},
   "outputs": [],
   "source": [
    "# PARTE II - EJERCICIO 3"
   ]
  },
  {
   "cell_type": "code",
   "execution_count": 337,
   "id": "f0b2fe01-7550-4b01-970f-98729903bde1",
   "metadata": {},
   "outputs": [
    {
     "data": {
      "image/png": "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",
      "text/plain": [
       "<Figure size 800x600 with 1 Axes>"
      ]
     },
     "metadata": {},
     "output_type": "display_data"
    }
   ],
   "source": [
    "import numpy as np\n",
    "\n",
    "# Variables originales\n",
    "features = ['edad', 'edad2', 'educ', 'salario_semanal', 'horastrab']\n",
    "\n",
    "# Coordenadas de los loadings en el espacio PC1 vs PC2\n",
    "loadings = pca.components_.T[:, :2]  # columnas: PC1 y PC2\n",
    "\n",
    "plt.figure(figsize=(8, 6))\n",
    "plt.axhline(0, color='gray', linewidth=0.5)\n",
    "plt.axvline(0, color='gray', linewidth=0.5)\n",
    "\n",
    "# Dibujar flechas\n",
    "for i, var in enumerate(features):\n",
    "    plt.arrow(0, 0, loadings[i, 0], loadings[i, 1],\n",
    "              color='blue', alpha=0.8, head_width=0.05)\n",
    "    plt.text(loadings[i, 0]*1.1, loadings[i, 1]*1.1, var,\n",
    "             color='black', ha='center', va='center', fontsize=9)\n",
    "\n",
    "plt.xlim(-1, 1)\n",
    "plt.ylim(-1, 1)\n",
    "plt.xlabel(\"PC1\")\n",
    "plt.ylabel(\"PC2\")\n",
    "plt.title(\"PCA - (loadings) en PC1 y PC2\")\n",
    "plt.grid(True)\n",
    "plt.gca().set_aspect('equal', 'box')\n",
    "plt.show()"
   ]
  },
  {
   "cell_type": "code",
   "execution_count": null,
   "id": "a3e3f3da-828b-4d05-a2b3-24ddf4ddac4e",
   "metadata": {},
   "outputs": [],
   "source": []
  }
 ],
 "metadata": {
  "kernelspec": {
   "display_name": "Python [conda env:base] *",
   "language": "python",
   "name": "conda-base-py"
  },
  "language_info": {
   "codemirror_mode": {
    "name": "ipython",
    "version": 3
   },
   "file_extension": ".py",
   "mimetype": "text/x-python",
   "name": "python",
   "nbconvert_exporter": "python",
   "pygments_lexer": "ipython3",
   "version": "3.12.7"
  }
 },
 "nbformat": 4,
 "nbformat_minor": 5
}
