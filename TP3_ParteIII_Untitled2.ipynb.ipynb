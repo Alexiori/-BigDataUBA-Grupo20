{
 "cells": [
  {
   "cell_type": "code",
   "execution_count": null,
   "id": "9342e6e3",
   "metadata": {},
   "outputs": [],
   "source": [
    "# Parte II - PCA, K-means y Clustering Jerárquico\n",
    "import pandas as pd\n",
    "import numpy as np\n",
    "import matplotlib.pyplot as plt\n",
    "import seaborn as sns\n",
    "from sklearn.preprocessing import StandardScaler\n",
    "from sklearn.decomposition import PCA\n",
    "from sklearn.cluster import KMeans\n",
    "from scipy.cluster.hierarchy import dendrogram, linkage\n",
    "\n",
    "# Simular datos representativos\n",
    "np.random.seed(42)\n",
    "n = 500\n",
    "df_final = pd.DataFrame({\n",
    "    'EDAD': np.random.normal(40, 10, n),\n",
    "    'educ': np.random.normal(12, 2, n),\n",
    "    'salario_semanal': np.random.normal(80000, 15000, n),\n",
    "    'horastrab': np.random.normal(40, 5, n),\n",
    "    'ESTADO': np.random.choice(['Ocupado', 'Desocupado'], n, p=[0.8, 0.2])\n",
    "})\n",
    "df_final['edad2'] = df_final['EDAD'] ** 2"
   ]
  },
  {
   "cell_type": "code",
   "execution_count": null,
   "id": "323a0304",
   "metadata": {},
   "outputs": [],
   "source": [
    "# PCA - Proporción de varianza explicada\n",
    "variables = ['EDAD', 'edad2', 'educ', 'salario_semanal', 'horastrab']\n",
    "X = df_final[variables]\n",
    "scaler = StandardScaler()\n",
    "X_scaled = scaler.fit_transform(X)\n",
    "pca = PCA()\n",
    "X_pca = pca.fit_transform(X_scaled)\n",
    "varianza_explicada = np.cumsum(pca.explained_variance_ratio_)\n",
    "plt.figure(figsize=(8, 5))\n",
    "plt.plot(range(1, len(varianza_explicada) + 1), varianza_explicada, marker='o')\n",
    "plt.title('Proporción acumulada de varianza explicada por componente')\n",
    "plt.xlabel('Número de componentes')\n",
    "plt.ylabel('Varianza explicada acumulada')\n",
    "plt.grid(True)\n",
    "plt.tight_layout()\n",
    "plt.show()"
   ]
  },
  {
   "cell_type": "code",
   "execution_count": null,
   "id": "c74040fd",
   "metadata": {},
   "outputs": [],
   "source": [
    "# K-means con k=2, 4, 10\n",
    "def plot_kmeans(X, k):\n",
    "    kmeans = KMeans(n_clusters=k, n_init=20, random_state=1)\n",
    "    labels = kmeans.fit_predict(X)\n",
    "    plt.figure(figsize=(6, 5))\n",
    "    plt.scatter(X[:, 0], X[:, 1], c=labels, cmap='tab10', s=30)\n",
    "    plt.title(f'K-means (k={k}) sobre componentes PCA')\n",
    "    plt.xlabel('PC1')\n",
    "    plt.ylabel('PC2')\n",
    "    plt.grid(True)\n",
    "    plt.tight_layout()\n",
    "    plt.show()\n",
    "\n",
    "plot_kmeans(X_pca[:, :2], 2)\n",
    "plot_kmeans(X_pca[:, :2], 4)\n",
    "plot_kmeans(X_pca[:, :2], 10)"
   ]
  },
  {
   "cell_type": "code",
   "execution_count": null,
   "id": "976521dc",
   "metadata": {},
   "outputs": [],
   "source": [
    "# K=2: Edad vs Educación con color por estado\n",
    "df_cluster = df_final.copy()\n",
    "kmeans_k2 = KMeans(n_clusters=2, n_init=20, random_state=1)\n",
    "df_cluster['cluster_k2'] = kmeans_k2.fit_predict(df_cluster[['EDAD', 'educ']])\n",
    "plt.figure(figsize=(8, 6))\n",
    "sns.scatterplot(data=df_cluster, x='EDAD', y='educ', hue='ESTADO', style='cluster_k2', palette='Set1')\n",
    "plt.title('K=2: Edad vs Educación (color por Estado, estilo por Cluster)')\n",
    "plt.grid(True)\n",
    "plt.tight_layout()\n",
    "plt.show()"
   ]
  },
  {
   "cell_type": "code",
   "execution_count": null,
   "id": "e9683f49",
   "metadata": {},
   "outputs": [],
   "source": [
    "# Dendograma - Clustering jerárquico\n",
    "linkage_matrix = linkage(X_scaled, method='ward')\n",
    "plt.figure(figsize=(12, 6))\n",
    "dendrogram(linkage_matrix, truncate_mode='level', p=20)\n",
    "plt.title('Dendograma - Clustering jerárquico')\n",
    "plt.xlabel('Observaciones agrupadas')\n",
    "plt.ylabel('Distancia')\n",
    "plt.tight_layout()\n",
    "plt.show()"
   ]
  }
 ],
 "metadata": {},
 "nbformat": 4,
 "nbformat_minor": 5
}
