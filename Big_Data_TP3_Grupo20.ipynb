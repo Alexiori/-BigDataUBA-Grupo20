{
  "nbformat": 4,
  "nbformat_minor": 0,
  "metadata": {
    "colab": {
      "provenance": []
    },
    "kernelspec": {
      "name": "python3",
      "display_name": "Python 3"
    },
    "language_info": {
      "name": "python"
    }
  },
  "cells": [
    {
      "cell_type": "code",
      "source": [
        "from google.colab import files\n",
        "\n",
        "# Subí los dos archivos\n",
        "uploaded = files.upload()"
      ],
      "metadata": {
        "colab": {
          "base_uri": "https://localhost:8080/",
          "height": 107
        },
        "id": "hR2Zna5ywyL5",
        "outputId": "a8e95448-60da-4cce-f435-87effa5b6568"
      },
      "execution_count": 6,
      "outputs": [
        {
          "output_type": "display_data",
          "data": {
            "text/plain": [
              "<IPython.core.display.HTML object>"
            ],
            "text/html": [
              "\n",
              "     <input type=\"file\" id=\"files-51dd8c34-313a-4e11-8938-06f875d85bba\" name=\"files[]\" multiple disabled\n",
              "        style=\"border:none\" />\n",
              "     <output id=\"result-51dd8c34-313a-4e11-8938-06f875d85bba\">\n",
              "      Upload widget is only available when the cell has been executed in the\n",
              "      current browser session. Please rerun this cell to enable.\n",
              "      </output>\n",
              "      <script>// Copyright 2017 Google LLC\n",
              "//\n",
              "// Licensed under the Apache License, Version 2.0 (the \"License\");\n",
              "// you may not use this file except in compliance with the License.\n",
              "// You may obtain a copy of the License at\n",
              "//\n",
              "//      http://www.apache.org/licenses/LICENSE-2.0\n",
              "//\n",
              "// Unless required by applicable law or agreed to in writing, software\n",
              "// distributed under the License is distributed on an \"AS IS\" BASIS,\n",
              "// WITHOUT WARRANTIES OR CONDITIONS OF ANY KIND, either express or implied.\n",
              "// See the License for the specific language governing permissions and\n",
              "// limitations under the License.\n",
              "\n",
              "/**\n",
              " * @fileoverview Helpers for google.colab Python module.\n",
              " */\n",
              "(function(scope) {\n",
              "function span(text, styleAttributes = {}) {\n",
              "  const element = document.createElement('span');\n",
              "  element.textContent = text;\n",
              "  for (const key of Object.keys(styleAttributes)) {\n",
              "    element.style[key] = styleAttributes[key];\n",
              "  }\n",
              "  return element;\n",
              "}\n",
              "\n",
              "// Max number of bytes which will be uploaded at a time.\n",
              "const MAX_PAYLOAD_SIZE = 100 * 1024;\n",
              "\n",
              "function _uploadFiles(inputId, outputId) {\n",
              "  const steps = uploadFilesStep(inputId, outputId);\n",
              "  const outputElement = document.getElementById(outputId);\n",
              "  // Cache steps on the outputElement to make it available for the next call\n",
              "  // to uploadFilesContinue from Python.\n",
              "  outputElement.steps = steps;\n",
              "\n",
              "  return _uploadFilesContinue(outputId);\n",
              "}\n",
              "\n",
              "// This is roughly an async generator (not supported in the browser yet),\n",
              "// where there are multiple asynchronous steps and the Python side is going\n",
              "// to poll for completion of each step.\n",
              "// This uses a Promise to block the python side on completion of each step,\n",
              "// then passes the result of the previous step as the input to the next step.\n",
              "function _uploadFilesContinue(outputId) {\n",
              "  const outputElement = document.getElementById(outputId);\n",
              "  const steps = outputElement.steps;\n",
              "\n",
              "  const next = steps.next(outputElement.lastPromiseValue);\n",
              "  return Promise.resolve(next.value.promise).then((value) => {\n",
              "    // Cache the last promise value to make it available to the next\n",
              "    // step of the generator.\n",
              "    outputElement.lastPromiseValue = value;\n",
              "    return next.value.response;\n",
              "  });\n",
              "}\n",
              "\n",
              "/**\n",
              " * Generator function which is called between each async step of the upload\n",
              " * process.\n",
              " * @param {string} inputId Element ID of the input file picker element.\n",
              " * @param {string} outputId Element ID of the output display.\n",
              " * @return {!Iterable<!Object>} Iterable of next steps.\n",
              " */\n",
              "function* uploadFilesStep(inputId, outputId) {\n",
              "  const inputElement = document.getElementById(inputId);\n",
              "  inputElement.disabled = false;\n",
              "\n",
              "  const outputElement = document.getElementById(outputId);\n",
              "  outputElement.innerHTML = '';\n",
              "\n",
              "  const pickedPromise = new Promise((resolve) => {\n",
              "    inputElement.addEventListener('change', (e) => {\n",
              "      resolve(e.target.files);\n",
              "    });\n",
              "  });\n",
              "\n",
              "  const cancel = document.createElement('button');\n",
              "  inputElement.parentElement.appendChild(cancel);\n",
              "  cancel.textContent = 'Cancel upload';\n",
              "  const cancelPromise = new Promise((resolve) => {\n",
              "    cancel.onclick = () => {\n",
              "      resolve(null);\n",
              "    };\n",
              "  });\n",
              "\n",
              "  // Wait for the user to pick the files.\n",
              "  const files = yield {\n",
              "    promise: Promise.race([pickedPromise, cancelPromise]),\n",
              "    response: {\n",
              "      action: 'starting',\n",
              "    }\n",
              "  };\n",
              "\n",
              "  cancel.remove();\n",
              "\n",
              "  // Disable the input element since further picks are not allowed.\n",
              "  inputElement.disabled = true;\n",
              "\n",
              "  if (!files) {\n",
              "    return {\n",
              "      response: {\n",
              "        action: 'complete',\n",
              "      }\n",
              "    };\n",
              "  }\n",
              "\n",
              "  for (const file of files) {\n",
              "    const li = document.createElement('li');\n",
              "    li.append(span(file.name, {fontWeight: 'bold'}));\n",
              "    li.append(span(\n",
              "        `(${file.type || 'n/a'}) - ${file.size} bytes, ` +\n",
              "        `last modified: ${\n",
              "            file.lastModifiedDate ? file.lastModifiedDate.toLocaleDateString() :\n",
              "                                    'n/a'} - `));\n",
              "    const percent = span('0% done');\n",
              "    li.appendChild(percent);\n",
              "\n",
              "    outputElement.appendChild(li);\n",
              "\n",
              "    const fileDataPromise = new Promise((resolve) => {\n",
              "      const reader = new FileReader();\n",
              "      reader.onload = (e) => {\n",
              "        resolve(e.target.result);\n",
              "      };\n",
              "      reader.readAsArrayBuffer(file);\n",
              "    });\n",
              "    // Wait for the data to be ready.\n",
              "    let fileData = yield {\n",
              "      promise: fileDataPromise,\n",
              "      response: {\n",
              "        action: 'continue',\n",
              "      }\n",
              "    };\n",
              "\n",
              "    // Use a chunked sending to avoid message size limits. See b/62115660.\n",
              "    let position = 0;\n",
              "    do {\n",
              "      const length = Math.min(fileData.byteLength - position, MAX_PAYLOAD_SIZE);\n",
              "      const chunk = new Uint8Array(fileData, position, length);\n",
              "      position += length;\n",
              "\n",
              "      const base64 = btoa(String.fromCharCode.apply(null, chunk));\n",
              "      yield {\n",
              "        response: {\n",
              "          action: 'append',\n",
              "          file: file.name,\n",
              "          data: base64,\n",
              "        },\n",
              "      };\n",
              "\n",
              "      let percentDone = fileData.byteLength === 0 ?\n",
              "          100 :\n",
              "          Math.round((position / fileData.byteLength) * 100);\n",
              "      percent.textContent = `${percentDone}% done`;\n",
              "\n",
              "    } while (position < fileData.byteLength);\n",
              "  }\n",
              "\n",
              "  // All done.\n",
              "  yield {\n",
              "    response: {\n",
              "      action: 'complete',\n",
              "    }\n",
              "  };\n",
              "}\n",
              "\n",
              "scope.google = scope.google || {};\n",
              "scope.google.colab = scope.google.colab || {};\n",
              "scope.google.colab._files = {\n",
              "  _uploadFiles,\n",
              "  _uploadFilesContinue,\n",
              "};\n",
              "})(self);\n",
              "</script> "
            ]
          },
          "metadata": {}
        },
        {
          "output_type": "stream",
          "name": "stdout",
          "text": [
            "Saving Individual_t104.dta to Individual_t104.dta\n",
            "Saving usu_individual_T124.xlsx to usu_individual_T124.xlsx\n"
          ]
        }
      ]
    },
    {
      "cell_type": "code",
      "source": [
        "import pandas as pd\n",
        "\n",
        "df_2004 = pd.read_stata(\"Individual_t104.dta\")\n",
        "df_2024 = pd.read_excel(\"usu_individual_T124.xlsx\")\n",
        "\n",
        "print(df_2004.head())\n",
        "print(df_2024.head())\n",
        "\n"
      ],
      "metadata": {
        "colab": {
          "base_uri": "https://localhost:8080/"
        },
        "id": "lLh_JutUyBuf",
        "outputId": "3bad3893-6756-4032-fa10-fb5018b83c3e",
        "collapsed": true
      },
      "execution_count": 7,
      "outputs": [
        {
          "output_type": "stream",
          "name": "stdout",
          "text": [
            "     CODUSU  nro_hogar componente h15    ano4       trimestre  \\\n",
            "0  125098          1.0        1.0  Sí  2004.0  1er. Trimestre   \n",
            "1  125397          1.0        1.0  Sí  2004.0  1er. Trimestre   \n",
            "2  125515          1.0        1.0  Sí  2004.0  1er. Trimestre   \n",
            "3  125558          1.0        1.0  Sí  2004.0  1er. Trimestre   \n",
            "4  125558          1.0        2.0  Sí  2004.0  1er. Trimestre   \n",
            "\n",
            "              region mas_500              aglomerado  pondera  ... deccfr  \\\n",
            "0  Gran Buenos Aires       S  Ciudad de Buenos Aires   1299.0  ...     07   \n",
            "1  Gran Buenos Aires       S  Ciudad de Buenos Aires   2018.0  ...     00   \n",
            "2  Gran Buenos Aires       S  Ciudad de Buenos Aires   1486.0  ...     07   \n",
            "3  Gran Buenos Aires       S  Ciudad de Buenos Aires   1674.0  ...     08   \n",
            "4  Gran Buenos Aires       S  Ciudad de Buenos Aires   1674.0  ...     08   \n",
            "\n",
            "  ideccfr rdeccfr gdeccfr pdeccfr adeccfr pj1_1 pj2_1 pj3_1 idimpp  \n",
            "0              06      06              04   0.0   0.0   0.0  00000  \n",
            "1              00      00              00   0.0   0.0   0.0  00000  \n",
            "2              07      07              05   0.0   0.0   0.0  00020  \n",
            "3              08      08              06   0.0   0.0   0.0  00000  \n",
            "4              08      08              06   0.0   0.0   0.0  00000  \n",
            "\n",
            "[5 rows x 176 columns]\n",
            "                          CODUSU  ANO4  TRIMESTRE  NRO_HOGAR  COMPONENTE  H15  \\\n",
            "0  TQRMNOPUTHLMKQCDEGGFB00852588  2024          1          1           3    1   \n",
            "1  TQRMNOPUTHLMKQCDEGGFB00852588  2024          1          1           4    1   \n",
            "2  TQRMNOPUTHLMKQCDEGGFB00852588  2024          1          1           5    0   \n",
            "3  TQRMNOPPWHLLKRCDEGGFB00852574  2024          1          1           1    1   \n",
            "4  TQRMNOPPWHLLKRCDEGGFB00852574  2024          1          1           2    1   \n",
            "\n",
            "   REGION MAS_500  AGLOMERADO  PONDERA  ...  PDECIFR  ADECIFR      IPCF  \\\n",
            "0      42       S          10      439  ...      NaN       12       0.0   \n",
            "1      42       S          10      439  ...      NaN       12       0.0   \n",
            "2      42       S          10      439  ...      NaN       12       0.0   \n",
            "3      42       S          10      675  ...      NaN        8  212500.0   \n",
            "4      42       S          10      675  ...      NaN        8  212500.0   \n",
            "\n",
            "   DECCFR  IDECCFR  RDECCFR  GDECCFR  PDECCFR  ADECCFR  PONDIH  \n",
            "0      12     12.0       12     12.0      NaN       12       0  \n",
            "1      12     12.0       12     12.0      NaN       12       0  \n",
            "2      12     12.0       12     12.0      NaN       12       0  \n",
            "3       6      6.0        6      6.0      NaN        6    1610  \n",
            "4       6      6.0        6      6.0      NaN        6    1610  \n",
            "\n",
            "[5 rows x 177 columns]\n"
          ]
        }
      ]
    },
    {
      "cell_type": "code",
      "source": [
        "!pip install pyreadstat\n",
        "\n",
        "import pyreadstat\n",
        "\n",
        "df, meta = pyreadstat.read_dta(\"Individual_t104.dta\")"
      ],
      "metadata": {
        "colab": {
          "base_uri": "https://localhost:8080/"
        },
        "id": "HceRGx_E0m8N",
        "outputId": "d793be6e-1c6c-4010-d6d5-1bd17faa443e",
        "collapsed": true
      },
      "execution_count": 8,
      "outputs": [
        {
          "output_type": "stream",
          "name": "stdout",
          "text": [
            "Collecting pyreadstat\n",
            "  Downloading pyreadstat-1.2.8-cp311-cp311-manylinux_2_17_x86_64.manylinux2014_x86_64.whl.metadata (1.0 kB)\n",
            "Requirement already satisfied: pandas>=1.2.0 in /usr/local/lib/python3.11/dist-packages (from pyreadstat) (2.2.2)\n",
            "Requirement already satisfied: numpy>=1.23.2 in /usr/local/lib/python3.11/dist-packages (from pandas>=1.2.0->pyreadstat) (2.0.2)\n",
            "Requirement already satisfied: python-dateutil>=2.8.2 in /usr/local/lib/python3.11/dist-packages (from pandas>=1.2.0->pyreadstat) (2.9.0.post0)\n",
            "Requirement already satisfied: pytz>=2020.1 in /usr/local/lib/python3.11/dist-packages (from pandas>=1.2.0->pyreadstat) (2025.2)\n",
            "Requirement already satisfied: tzdata>=2022.7 in /usr/local/lib/python3.11/dist-packages (from pandas>=1.2.0->pyreadstat) (2025.2)\n",
            "Requirement already satisfied: six>=1.5 in /usr/local/lib/python3.11/dist-packages (from python-dateutil>=2.8.2->pandas>=1.2.0->pyreadstat) (1.17.0)\n",
            "Downloading pyreadstat-1.2.8-cp311-cp311-manylinux_2_17_x86_64.manylinux2014_x86_64.whl (2.9 MB)\n",
            "\u001b[2K   \u001b[90m━━━━━━━━━━━━━━━━━━━━━━━━━━━━━━━━━━━━━━━━\u001b[0m \u001b[32m2.9/2.9 MB\u001b[0m \u001b[31m32.6 MB/s\u001b[0m eta \u001b[36m0:00:00\u001b[0m\n",
            "\u001b[?25hInstalling collected packages: pyreadstat\n",
            "Successfully installed pyreadstat-1.2.8\n"
          ]
        }
      ]
    },
    {
      "cell_type": "markdown",
      "source": [
        "Material del trabajo 2"
      ],
      "metadata": {
        "id": "I8-ig-ZoiXZy"
      }
    },
    {
      "cell_type": "code",
      "source": [
        "df_2004[\"region\"].unique()"
      ],
      "metadata": {
        "colab": {
          "base_uri": "https://localhost:8080/"
        },
        "id": "8mVKDlg5674W",
        "outputId": "6fd1b330-1155-459c-fcef-52342f9a769a"
      },
      "execution_count": 9,
      "outputs": [
        {
          "output_type": "execute_result",
          "data": {
            "text/plain": [
              "['Gran Buenos Aires', 'NOA', 'NEA', 'Cuyo', 'Pampeana', 'Patagónica']\n",
              "Categories (6, object): ['Gran Buenos Aires' < 'NOA' < 'NEA' < 'Cuyo' < 'Pampeana' < 'Patagónica']"
            ]
          },
          "metadata": {},
          "execution_count": 9
        }
      ]
    },
    {
      "cell_type": "code",
      "source": [
        "df_2004_gba = df_2004[df_2004[\"region\"] == \"Gran Buenos Aires\"]\n",
        "df_2024_gba = df_2024[df_2024[\"REGION\"] == \"Gran Buenos Aires\"]"
      ],
      "metadata": {
        "id": "cbPnENss7SD3"
      },
      "execution_count": 10,
      "outputs": []
    },
    {
      "cell_type": "code",
      "source": [
        "\n",
        "#punto2a\n",
        "df_a = pd.read_stata(\"Individual_t104.dta\")\n",
        "print(df_a.shape)\n",
        "\n",
        "df_b = pd.read_excel(\"usu_individual_T124.xlsx\")\n",
        "print(df_b.shape)\n",
        "\n",
        "df_a_gba = df_a[df_a[\"region\"] == \"Gran Buenos Aires\"]\n",
        "df_b_gba = df_b[df_b[\"REGION\"] == \"Gran Buenos Aires\"]\n",
        "\n",
        "df = pd.concat([df_a_gba, df_b_gba])\n",
        "print(df.shape)\n"
      ],
      "metadata": {
        "colab": {
          "base_uri": "https://localhost:8080/"
        },
        "id": "WS4ohPN8-gzb",
        "outputId": "2f75c51d-82d0-4378-dc9c-c383ddcafcb6"
      },
      "execution_count": 11,
      "outputs": [
        {
          "output_type": "stream",
          "name": "stdout",
          "text": [
            "(45289, 176)\n",
            "(46050, 177)\n",
            "(7647, 352)\n"
          ]
        }
      ]
    },
    {
      "cell_type": "code",
      "source": [
        "df"
      ],
      "metadata": {
        "colab": {
          "base_uri": "https://localhost:8080/",
          "height": 424
        },
        "collapsed": true,
        "id": "noZ_uSbSarIp",
        "outputId": "78c455e4-5317-42f8-95a8-1abe4702316b"
      },
      "execution_count": null,
      "outputs": [
        {
          "output_type": "execute_result",
          "data": {
            "text/plain": [
              "        CODUSU  nro_hogar componente  h15    ano4       trimestre  \\\n",
              "0     125098          1.0        1.0   Sí  2004.0  1er. Trimestre   \n",
              "1     125397          1.0        1.0   Sí  2004.0  1er. Trimestre   \n",
              "2     125515          1.0        1.0   Sí  2004.0  1er. Trimestre   \n",
              "3     125558          1.0        1.0   Sí  2004.0  1er. Trimestre   \n",
              "4     125558          1.0        2.0   Sí  2004.0  1er. Trimestre   \n",
              "...        ...        ...        ...  ...     ...             ...   \n",
              "7642  288171          1.0        3.0  0.0  2004.0  1er. Trimestre   \n",
              "7643  288405          1.0        1.0   Sí  2004.0  1er. Trimestre   \n",
              "7644  288405          1.0        2.0   Sí  2004.0  1er. Trimestre   \n",
              "7645  288405          1.0        3.0   Sí  2004.0  1er. Trimestre   \n",
              "7646  288405          1.0        4.0   Sí  2004.0  1er. Trimestre   \n",
              "\n",
              "                 region mas_500              aglomerado  pondera  ... PDECIFR  \\\n",
              "0     Gran Buenos Aires       S  Ciudad de Buenos Aires   1299.0  ...     NaN   \n",
              "1     Gran Buenos Aires       S  Ciudad de Buenos Aires   2018.0  ...     NaN   \n",
              "2     Gran Buenos Aires       S  Ciudad de Buenos Aires   1486.0  ...     NaN   \n",
              "3     Gran Buenos Aires       S  Ciudad de Buenos Aires   1674.0  ...     NaN   \n",
              "4     Gran Buenos Aires       S  Ciudad de Buenos Aires   1674.0  ...     NaN   \n",
              "...                 ...     ...                     ...      ...  ...     ...   \n",
              "7642  Gran Buenos Aires       S        Partidos del GBA   1454.0  ...     NaN   \n",
              "7643  Gran Buenos Aires       S        Partidos del GBA   1673.0  ...     NaN   \n",
              "7644  Gran Buenos Aires       S        Partidos del GBA   1673.0  ...     NaN   \n",
              "7645  Gran Buenos Aires       S        Partidos del GBA   1673.0  ...     NaN   \n",
              "7646  Gran Buenos Aires       S        Partidos del GBA   1673.0  ...     NaN   \n",
              "\n",
              "     ADECIFR IPCF DECCFR IDECCFR RDECCFR GDECCFR PDECCFR ADECCFR PONDIH  \n",
              "0        NaN  NaN    NaN     NaN     NaN     NaN     NaN     NaN    NaN  \n",
              "1        NaN  NaN    NaN     NaN     NaN     NaN     NaN     NaN    NaN  \n",
              "2        NaN  NaN    NaN     NaN     NaN     NaN     NaN     NaN    NaN  \n",
              "3        NaN  NaN    NaN     NaN     NaN     NaN     NaN     NaN    NaN  \n",
              "4        NaN  NaN    NaN     NaN     NaN     NaN     NaN     NaN    NaN  \n",
              "...      ...  ...    ...     ...     ...     ...     ...     ...    ...  \n",
              "7642     NaN  NaN    NaN     NaN     NaN     NaN     NaN     NaN    NaN  \n",
              "7643     NaN  NaN    NaN     NaN     NaN     NaN     NaN     NaN    NaN  \n",
              "7644     NaN  NaN    NaN     NaN     NaN     NaN     NaN     NaN    NaN  \n",
              "7645     NaN  NaN    NaN     NaN     NaN     NaN     NaN     NaN    NaN  \n",
              "7646     NaN  NaN    NaN     NaN     NaN     NaN     NaN     NaN    NaN  \n",
              "\n",
              "[7647 rows x 352 columns]"
            ],
            "text/html": [
              "\n",
              "  <div id=\"df-bc7d4e12-6600-4fea-afd4-888208b3e306\" class=\"colab-df-container\">\n",
              "    <div>\n",
              "<style scoped>\n",
              "    .dataframe tbody tr th:only-of-type {\n",
              "        vertical-align: middle;\n",
              "    }\n",
              "\n",
              "    .dataframe tbody tr th {\n",
              "        vertical-align: top;\n",
              "    }\n",
              "\n",
              "    .dataframe thead th {\n",
              "        text-align: right;\n",
              "    }\n",
              "</style>\n",
              "<table border=\"1\" class=\"dataframe\">\n",
              "  <thead>\n",
              "    <tr style=\"text-align: right;\">\n",
              "      <th></th>\n",
              "      <th>CODUSU</th>\n",
              "      <th>nro_hogar</th>\n",
              "      <th>componente</th>\n",
              "      <th>h15</th>\n",
              "      <th>ano4</th>\n",
              "      <th>trimestre</th>\n",
              "      <th>region</th>\n",
              "      <th>mas_500</th>\n",
              "      <th>aglomerado</th>\n",
              "      <th>pondera</th>\n",
              "      <th>...</th>\n",
              "      <th>PDECIFR</th>\n",
              "      <th>ADECIFR</th>\n",
              "      <th>IPCF</th>\n",
              "      <th>DECCFR</th>\n",
              "      <th>IDECCFR</th>\n",
              "      <th>RDECCFR</th>\n",
              "      <th>GDECCFR</th>\n",
              "      <th>PDECCFR</th>\n",
              "      <th>ADECCFR</th>\n",
              "      <th>PONDIH</th>\n",
              "    </tr>\n",
              "  </thead>\n",
              "  <tbody>\n",
              "    <tr>\n",
              "      <th>0</th>\n",
              "      <td>125098</td>\n",
              "      <td>1.0</td>\n",
              "      <td>1.0</td>\n",
              "      <td>Sí</td>\n",
              "      <td>2004.0</td>\n",
              "      <td>1er. Trimestre</td>\n",
              "      <td>Gran Buenos Aires</td>\n",
              "      <td>S</td>\n",
              "      <td>Ciudad de Buenos Aires</td>\n",
              "      <td>1299.0</td>\n",
              "      <td>...</td>\n",
              "      <td>NaN</td>\n",
              "      <td>NaN</td>\n",
              "      <td>NaN</td>\n",
              "      <td>NaN</td>\n",
              "      <td>NaN</td>\n",
              "      <td>NaN</td>\n",
              "      <td>NaN</td>\n",
              "      <td>NaN</td>\n",
              "      <td>NaN</td>\n",
              "      <td>NaN</td>\n",
              "    </tr>\n",
              "    <tr>\n",
              "      <th>1</th>\n",
              "      <td>125397</td>\n",
              "      <td>1.0</td>\n",
              "      <td>1.0</td>\n",
              "      <td>Sí</td>\n",
              "      <td>2004.0</td>\n",
              "      <td>1er. Trimestre</td>\n",
              "      <td>Gran Buenos Aires</td>\n",
              "      <td>S</td>\n",
              "      <td>Ciudad de Buenos Aires</td>\n",
              "      <td>2018.0</td>\n",
              "      <td>...</td>\n",
              "      <td>NaN</td>\n",
              "      <td>NaN</td>\n",
              "      <td>NaN</td>\n",
              "      <td>NaN</td>\n",
              "      <td>NaN</td>\n",
              "      <td>NaN</td>\n",
              "      <td>NaN</td>\n",
              "      <td>NaN</td>\n",
              "      <td>NaN</td>\n",
              "      <td>NaN</td>\n",
              "    </tr>\n",
              "    <tr>\n",
              "      <th>2</th>\n",
              "      <td>125515</td>\n",
              "      <td>1.0</td>\n",
              "      <td>1.0</td>\n",
              "      <td>Sí</td>\n",
              "      <td>2004.0</td>\n",
              "      <td>1er. Trimestre</td>\n",
              "      <td>Gran Buenos Aires</td>\n",
              "      <td>S</td>\n",
              "      <td>Ciudad de Buenos Aires</td>\n",
              "      <td>1486.0</td>\n",
              "      <td>...</td>\n",
              "      <td>NaN</td>\n",
              "      <td>NaN</td>\n",
              "      <td>NaN</td>\n",
              "      <td>NaN</td>\n",
              "      <td>NaN</td>\n",
              "      <td>NaN</td>\n",
              "      <td>NaN</td>\n",
              "      <td>NaN</td>\n",
              "      <td>NaN</td>\n",
              "      <td>NaN</td>\n",
              "    </tr>\n",
              "    <tr>\n",
              "      <th>3</th>\n",
              "      <td>125558</td>\n",
              "      <td>1.0</td>\n",
              "      <td>1.0</td>\n",
              "      <td>Sí</td>\n",
              "      <td>2004.0</td>\n",
              "      <td>1er. Trimestre</td>\n",
              "      <td>Gran Buenos Aires</td>\n",
              "      <td>S</td>\n",
              "      <td>Ciudad de Buenos Aires</td>\n",
              "      <td>1674.0</td>\n",
              "      <td>...</td>\n",
              "      <td>NaN</td>\n",
              "      <td>NaN</td>\n",
              "      <td>NaN</td>\n",
              "      <td>NaN</td>\n",
              "      <td>NaN</td>\n",
              "      <td>NaN</td>\n",
              "      <td>NaN</td>\n",
              "      <td>NaN</td>\n",
              "      <td>NaN</td>\n",
              "      <td>NaN</td>\n",
              "    </tr>\n",
              "    <tr>\n",
              "      <th>4</th>\n",
              "      <td>125558</td>\n",
              "      <td>1.0</td>\n",
              "      <td>2.0</td>\n",
              "      <td>Sí</td>\n",
              "      <td>2004.0</td>\n",
              "      <td>1er. Trimestre</td>\n",
              "      <td>Gran Buenos Aires</td>\n",
              "      <td>S</td>\n",
              "      <td>Ciudad de Buenos Aires</td>\n",
              "      <td>1674.0</td>\n",
              "      <td>...</td>\n",
              "      <td>NaN</td>\n",
              "      <td>NaN</td>\n",
              "      <td>NaN</td>\n",
              "      <td>NaN</td>\n",
              "      <td>NaN</td>\n",
              "      <td>NaN</td>\n",
              "      <td>NaN</td>\n",
              "      <td>NaN</td>\n",
              "      <td>NaN</td>\n",
              "      <td>NaN</td>\n",
              "    </tr>\n",
              "    <tr>\n",
              "      <th>...</th>\n",
              "      <td>...</td>\n",
              "      <td>...</td>\n",
              "      <td>...</td>\n",
              "      <td>...</td>\n",
              "      <td>...</td>\n",
              "      <td>...</td>\n",
              "      <td>...</td>\n",
              "      <td>...</td>\n",
              "      <td>...</td>\n",
              "      <td>...</td>\n",
              "      <td>...</td>\n",
              "      <td>...</td>\n",
              "      <td>...</td>\n",
              "      <td>...</td>\n",
              "      <td>...</td>\n",
              "      <td>...</td>\n",
              "      <td>...</td>\n",
              "      <td>...</td>\n",
              "      <td>...</td>\n",
              "      <td>...</td>\n",
              "      <td>...</td>\n",
              "    </tr>\n",
              "    <tr>\n",
              "      <th>7642</th>\n",
              "      <td>288171</td>\n",
              "      <td>1.0</td>\n",
              "      <td>3.0</td>\n",
              "      <td>0.0</td>\n",
              "      <td>2004.0</td>\n",
              "      <td>1er. Trimestre</td>\n",
              "      <td>Gran Buenos Aires</td>\n",
              "      <td>S</td>\n",
              "      <td>Partidos del GBA</td>\n",
              "      <td>1454.0</td>\n",
              "      <td>...</td>\n",
              "      <td>NaN</td>\n",
              "      <td>NaN</td>\n",
              "      <td>NaN</td>\n",
              "      <td>NaN</td>\n",
              "      <td>NaN</td>\n",
              "      <td>NaN</td>\n",
              "      <td>NaN</td>\n",
              "      <td>NaN</td>\n",
              "      <td>NaN</td>\n",
              "      <td>NaN</td>\n",
              "    </tr>\n",
              "    <tr>\n",
              "      <th>7643</th>\n",
              "      <td>288405</td>\n",
              "      <td>1.0</td>\n",
              "      <td>1.0</td>\n",
              "      <td>Sí</td>\n",
              "      <td>2004.0</td>\n",
              "      <td>1er. Trimestre</td>\n",
              "      <td>Gran Buenos Aires</td>\n",
              "      <td>S</td>\n",
              "      <td>Partidos del GBA</td>\n",
              "      <td>1673.0</td>\n",
              "      <td>...</td>\n",
              "      <td>NaN</td>\n",
              "      <td>NaN</td>\n",
              "      <td>NaN</td>\n",
              "      <td>NaN</td>\n",
              "      <td>NaN</td>\n",
              "      <td>NaN</td>\n",
              "      <td>NaN</td>\n",
              "      <td>NaN</td>\n",
              "      <td>NaN</td>\n",
              "      <td>NaN</td>\n",
              "    </tr>\n",
              "    <tr>\n",
              "      <th>7644</th>\n",
              "      <td>288405</td>\n",
              "      <td>1.0</td>\n",
              "      <td>2.0</td>\n",
              "      <td>Sí</td>\n",
              "      <td>2004.0</td>\n",
              "      <td>1er. Trimestre</td>\n",
              "      <td>Gran Buenos Aires</td>\n",
              "      <td>S</td>\n",
              "      <td>Partidos del GBA</td>\n",
              "      <td>1673.0</td>\n",
              "      <td>...</td>\n",
              "      <td>NaN</td>\n",
              "      <td>NaN</td>\n",
              "      <td>NaN</td>\n",
              "      <td>NaN</td>\n",
              "      <td>NaN</td>\n",
              "      <td>NaN</td>\n",
              "      <td>NaN</td>\n",
              "      <td>NaN</td>\n",
              "      <td>NaN</td>\n",
              "      <td>NaN</td>\n",
              "    </tr>\n",
              "    <tr>\n",
              "      <th>7645</th>\n",
              "      <td>288405</td>\n",
              "      <td>1.0</td>\n",
              "      <td>3.0</td>\n",
              "      <td>Sí</td>\n",
              "      <td>2004.0</td>\n",
              "      <td>1er. Trimestre</td>\n",
              "      <td>Gran Buenos Aires</td>\n",
              "      <td>S</td>\n",
              "      <td>Partidos del GBA</td>\n",
              "      <td>1673.0</td>\n",
              "      <td>...</td>\n",
              "      <td>NaN</td>\n",
              "      <td>NaN</td>\n",
              "      <td>NaN</td>\n",
              "      <td>NaN</td>\n",
              "      <td>NaN</td>\n",
              "      <td>NaN</td>\n",
              "      <td>NaN</td>\n",
              "      <td>NaN</td>\n",
              "      <td>NaN</td>\n",
              "      <td>NaN</td>\n",
              "    </tr>\n",
              "    <tr>\n",
              "      <th>7646</th>\n",
              "      <td>288405</td>\n",
              "      <td>1.0</td>\n",
              "      <td>4.0</td>\n",
              "      <td>Sí</td>\n",
              "      <td>2004.0</td>\n",
              "      <td>1er. Trimestre</td>\n",
              "      <td>Gran Buenos Aires</td>\n",
              "      <td>S</td>\n",
              "      <td>Partidos del GBA</td>\n",
              "      <td>1673.0</td>\n",
              "      <td>...</td>\n",
              "      <td>NaN</td>\n",
              "      <td>NaN</td>\n",
              "      <td>NaN</td>\n",
              "      <td>NaN</td>\n",
              "      <td>NaN</td>\n",
              "      <td>NaN</td>\n",
              "      <td>NaN</td>\n",
              "      <td>NaN</td>\n",
              "      <td>NaN</td>\n",
              "      <td>NaN</td>\n",
              "    </tr>\n",
              "  </tbody>\n",
              "</table>\n",
              "<p>7647 rows × 352 columns</p>\n",
              "</div>\n",
              "    <div class=\"colab-df-buttons\">\n",
              "\n",
              "  <div class=\"colab-df-container\">\n",
              "    <button class=\"colab-df-convert\" onclick=\"convertToInteractive('df-bc7d4e12-6600-4fea-afd4-888208b3e306')\"\n",
              "            title=\"Convert this dataframe to an interactive table.\"\n",
              "            style=\"display:none;\">\n",
              "\n",
              "  <svg xmlns=\"http://www.w3.org/2000/svg\" height=\"24px\" viewBox=\"0 -960 960 960\">\n",
              "    <path d=\"M120-120v-720h720v720H120Zm60-500h600v-160H180v160Zm220 220h160v-160H400v160Zm0 220h160v-160H400v160ZM180-400h160v-160H180v160Zm440 0h160v-160H620v160ZM180-180h160v-160H180v160Zm440 0h160v-160H620v160Z\"/>\n",
              "  </svg>\n",
              "    </button>\n",
              "\n",
              "  <style>\n",
              "    .colab-df-container {\n",
              "      display:flex;\n",
              "      gap: 12px;\n",
              "    }\n",
              "\n",
              "    .colab-df-convert {\n",
              "      background-color: #E8F0FE;\n",
              "      border: none;\n",
              "      border-radius: 50%;\n",
              "      cursor: pointer;\n",
              "      display: none;\n",
              "      fill: #1967D2;\n",
              "      height: 32px;\n",
              "      padding: 0 0 0 0;\n",
              "      width: 32px;\n",
              "    }\n",
              "\n",
              "    .colab-df-convert:hover {\n",
              "      background-color: #E2EBFA;\n",
              "      box-shadow: 0px 1px 2px rgba(60, 64, 67, 0.3), 0px 1px 3px 1px rgba(60, 64, 67, 0.15);\n",
              "      fill: #174EA6;\n",
              "    }\n",
              "\n",
              "    .colab-df-buttons div {\n",
              "      margin-bottom: 4px;\n",
              "    }\n",
              "\n",
              "    [theme=dark] .colab-df-convert {\n",
              "      background-color: #3B4455;\n",
              "      fill: #D2E3FC;\n",
              "    }\n",
              "\n",
              "    [theme=dark] .colab-df-convert:hover {\n",
              "      background-color: #434B5C;\n",
              "      box-shadow: 0px 1px 3px 1px rgba(0, 0, 0, 0.15);\n",
              "      filter: drop-shadow(0px 1px 2px rgba(0, 0, 0, 0.3));\n",
              "      fill: #FFFFFF;\n",
              "    }\n",
              "  </style>\n",
              "\n",
              "    <script>\n",
              "      const buttonEl =\n",
              "        document.querySelector('#df-bc7d4e12-6600-4fea-afd4-888208b3e306 button.colab-df-convert');\n",
              "      buttonEl.style.display =\n",
              "        google.colab.kernel.accessAllowed ? 'block' : 'none';\n",
              "\n",
              "      async function convertToInteractive(key) {\n",
              "        const element = document.querySelector('#df-bc7d4e12-6600-4fea-afd4-888208b3e306');\n",
              "        const dataTable =\n",
              "          await google.colab.kernel.invokeFunction('convertToInteractive',\n",
              "                                                    [key], {});\n",
              "        if (!dataTable) return;\n",
              "\n",
              "        const docLinkHtml = 'Like what you see? Visit the ' +\n",
              "          '<a target=\"_blank\" href=https://colab.research.google.com/notebooks/data_table.ipynb>data table notebook</a>'\n",
              "          + ' to learn more about interactive tables.';\n",
              "        element.innerHTML = '';\n",
              "        dataTable['output_type'] = 'display_data';\n",
              "        await google.colab.output.renderOutput(dataTable, element);\n",
              "        const docLink = document.createElement('div');\n",
              "        docLink.innerHTML = docLinkHtml;\n",
              "        element.appendChild(docLink);\n",
              "      }\n",
              "    </script>\n",
              "  </div>\n",
              "\n",
              "\n",
              "    <div id=\"df-875057de-ab9f-439c-93db-5cc63a9e7c4a\">\n",
              "      <button class=\"colab-df-quickchart\" onclick=\"quickchart('df-875057de-ab9f-439c-93db-5cc63a9e7c4a')\"\n",
              "                title=\"Suggest charts\"\n",
              "                style=\"display:none;\">\n",
              "\n",
              "<svg xmlns=\"http://www.w3.org/2000/svg\" height=\"24px\"viewBox=\"0 0 24 24\"\n",
              "     width=\"24px\">\n",
              "    <g>\n",
              "        <path d=\"M19 3H5c-1.1 0-2 .9-2 2v14c0 1.1.9 2 2 2h14c1.1 0 2-.9 2-2V5c0-1.1-.9-2-2-2zM9 17H7v-7h2v7zm4 0h-2V7h2v10zm4 0h-2v-4h2v4z\"/>\n",
              "    </g>\n",
              "</svg>\n",
              "      </button>\n",
              "\n",
              "<style>\n",
              "  .colab-df-quickchart {\n",
              "      --bg-color: #E8F0FE;\n",
              "      --fill-color: #1967D2;\n",
              "      --hover-bg-color: #E2EBFA;\n",
              "      --hover-fill-color: #174EA6;\n",
              "      --disabled-fill-color: #AAA;\n",
              "      --disabled-bg-color: #DDD;\n",
              "  }\n",
              "\n",
              "  [theme=dark] .colab-df-quickchart {\n",
              "      --bg-color: #3B4455;\n",
              "      --fill-color: #D2E3FC;\n",
              "      --hover-bg-color: #434B5C;\n",
              "      --hover-fill-color: #FFFFFF;\n",
              "      --disabled-bg-color: #3B4455;\n",
              "      --disabled-fill-color: #666;\n",
              "  }\n",
              "\n",
              "  .colab-df-quickchart {\n",
              "    background-color: var(--bg-color);\n",
              "    border: none;\n",
              "    border-radius: 50%;\n",
              "    cursor: pointer;\n",
              "    display: none;\n",
              "    fill: var(--fill-color);\n",
              "    height: 32px;\n",
              "    padding: 0;\n",
              "    width: 32px;\n",
              "  }\n",
              "\n",
              "  .colab-df-quickchart:hover {\n",
              "    background-color: var(--hover-bg-color);\n",
              "    box-shadow: 0 1px 2px rgba(60, 64, 67, 0.3), 0 1px 3px 1px rgba(60, 64, 67, 0.15);\n",
              "    fill: var(--button-hover-fill-color);\n",
              "  }\n",
              "\n",
              "  .colab-df-quickchart-complete:disabled,\n",
              "  .colab-df-quickchart-complete:disabled:hover {\n",
              "    background-color: var(--disabled-bg-color);\n",
              "    fill: var(--disabled-fill-color);\n",
              "    box-shadow: none;\n",
              "  }\n",
              "\n",
              "  .colab-df-spinner {\n",
              "    border: 2px solid var(--fill-color);\n",
              "    border-color: transparent;\n",
              "    border-bottom-color: var(--fill-color);\n",
              "    animation:\n",
              "      spin 1s steps(1) infinite;\n",
              "  }\n",
              "\n",
              "  @keyframes spin {\n",
              "    0% {\n",
              "      border-color: transparent;\n",
              "      border-bottom-color: var(--fill-color);\n",
              "      border-left-color: var(--fill-color);\n",
              "    }\n",
              "    20% {\n",
              "      border-color: transparent;\n",
              "      border-left-color: var(--fill-color);\n",
              "      border-top-color: var(--fill-color);\n",
              "    }\n",
              "    30% {\n",
              "      border-color: transparent;\n",
              "      border-left-color: var(--fill-color);\n",
              "      border-top-color: var(--fill-color);\n",
              "      border-right-color: var(--fill-color);\n",
              "    }\n",
              "    40% {\n",
              "      border-color: transparent;\n",
              "      border-right-color: var(--fill-color);\n",
              "      border-top-color: var(--fill-color);\n",
              "    }\n",
              "    60% {\n",
              "      border-color: transparent;\n",
              "      border-right-color: var(--fill-color);\n",
              "    }\n",
              "    80% {\n",
              "      border-color: transparent;\n",
              "      border-right-color: var(--fill-color);\n",
              "      border-bottom-color: var(--fill-color);\n",
              "    }\n",
              "    90% {\n",
              "      border-color: transparent;\n",
              "      border-bottom-color: var(--fill-color);\n",
              "    }\n",
              "  }\n",
              "</style>\n",
              "\n",
              "      <script>\n",
              "        async function quickchart(key) {\n",
              "          const quickchartButtonEl =\n",
              "            document.querySelector('#' + key + ' button');\n",
              "          quickchartButtonEl.disabled = true;  // To prevent multiple clicks.\n",
              "          quickchartButtonEl.classList.add('colab-df-spinner');\n",
              "          try {\n",
              "            const charts = await google.colab.kernel.invokeFunction(\n",
              "                'suggestCharts', [key], {});\n",
              "          } catch (error) {\n",
              "            console.error('Error during call to suggestCharts:', error);\n",
              "          }\n",
              "          quickchartButtonEl.classList.remove('colab-df-spinner');\n",
              "          quickchartButtonEl.classList.add('colab-df-quickchart-complete');\n",
              "        }\n",
              "        (() => {\n",
              "          let quickchartButtonEl =\n",
              "            document.querySelector('#df-875057de-ab9f-439c-93db-5cc63a9e7c4a button');\n",
              "          quickchartButtonEl.style.display =\n",
              "            google.colab.kernel.accessAllowed ? 'block' : 'none';\n",
              "        })();\n",
              "      </script>\n",
              "    </div>\n",
              "\n",
              "  <div id=\"id_69b18adb-a50c-450d-ab1d-25d144badf8d\">\n",
              "    <style>\n",
              "      .colab-df-generate {\n",
              "        background-color: #E8F0FE;\n",
              "        border: none;\n",
              "        border-radius: 50%;\n",
              "        cursor: pointer;\n",
              "        display: none;\n",
              "        fill: #1967D2;\n",
              "        height: 32px;\n",
              "        padding: 0 0 0 0;\n",
              "        width: 32px;\n",
              "      }\n",
              "\n",
              "      .colab-df-generate:hover {\n",
              "        background-color: #E2EBFA;\n",
              "        box-shadow: 0px 1px 2px rgba(60, 64, 67, 0.3), 0px 1px 3px 1px rgba(60, 64, 67, 0.15);\n",
              "        fill: #174EA6;\n",
              "      }\n",
              "\n",
              "      [theme=dark] .colab-df-generate {\n",
              "        background-color: #3B4455;\n",
              "        fill: #D2E3FC;\n",
              "      }\n",
              "\n",
              "      [theme=dark] .colab-df-generate:hover {\n",
              "        background-color: #434B5C;\n",
              "        box-shadow: 0px 1px 3px 1px rgba(0, 0, 0, 0.15);\n",
              "        filter: drop-shadow(0px 1px 2px rgba(0, 0, 0, 0.3));\n",
              "        fill: #FFFFFF;\n",
              "      }\n",
              "    </style>\n",
              "    <button class=\"colab-df-generate\" onclick=\"generateWithVariable('df')\"\n",
              "            title=\"Generate code using this dataframe.\"\n",
              "            style=\"display:none;\">\n",
              "\n",
              "  <svg xmlns=\"http://www.w3.org/2000/svg\" height=\"24px\"viewBox=\"0 0 24 24\"\n",
              "       width=\"24px\">\n",
              "    <path d=\"M7,19H8.4L18.45,9,17,7.55,7,17.6ZM5,21V16.75L18.45,3.32a2,2,0,0,1,2.83,0l1.4,1.43a1.91,1.91,0,0,1,.58,1.4,1.91,1.91,0,0,1-.58,1.4L9.25,21ZM18.45,9,17,7.55Zm-12,3A5.31,5.31,0,0,0,4.9,8.1,5.31,5.31,0,0,0,1,6.5,5.31,5.31,0,0,0,4.9,4.9,5.31,5.31,0,0,0,6.5,1,5.31,5.31,0,0,0,8.1,4.9,5.31,5.31,0,0,0,12,6.5,5.46,5.46,0,0,0,6.5,12Z\"/>\n",
              "  </svg>\n",
              "    </button>\n",
              "    <script>\n",
              "      (() => {\n",
              "      const buttonEl =\n",
              "        document.querySelector('#id_69b18adb-a50c-450d-ab1d-25d144badf8d button.colab-df-generate');\n",
              "      buttonEl.style.display =\n",
              "        google.colab.kernel.accessAllowed ? 'block' : 'none';\n",
              "\n",
              "      buttonEl.onclick = () => {\n",
              "        google.colab.notebook.generateWithVariable('df');\n",
              "      }\n",
              "      })();\n",
              "    </script>\n",
              "  </div>\n",
              "\n",
              "    </div>\n",
              "  </div>\n"
            ],
            "application/vnd.google.colaboratory.intrinsic+json": {
              "type": "dataframe",
              "variable_name": "df"
            }
          },
          "metadata": {},
          "execution_count": 71
        }
      ]
    },
    {
      "cell_type": "markdown",
      "source": [
        "Material del trabajo 2"
      ],
      "metadata": {
        "id": "Ap1Sj5QKlXNc"
      }
    },
    {
      "cell_type": "code",
      "source": [
        "\n",
        "variables_2024= ['CAT_INAC' , 'CAT_OCUP','REGION', 'ANO4', 'TRIMESTRE', 'H15', 'PP02I',\n",
        "                 'ESTADO', 'CH15', 'CH14', 'CH09', 'CH06', 'CH03', 'CH04', 'PP02H']\n",
        "porcentaje_nan = df_b[variables_2024].isna().mean()* 100\n",
        "print(porcentaje_nan)"
      ],
      "metadata": {
        "colab": {
          "base_uri": "https://localhost:8080/"
        },
        "id": "w75njNgAktxr",
        "outputId": "e7fe6538-03a9-4ca5-ee22-81bf7f0f06ef"
      },
      "execution_count": 196,
      "outputs": [
        {
          "output_type": "stream",
          "name": "stdout",
          "text": [
            "CAT_INAC      0.000000\n",
            "CAT_OCUP      0.000000\n",
            "REGION        0.000000\n",
            "ANO4          0.000000\n",
            "TRIMESTRE     0.000000\n",
            "H15           0.000000\n",
            "PP02I         0.000000\n",
            "ESTADO        0.000000\n",
            "CH15          0.000000\n",
            "CH14         50.495114\n",
            "CH09          0.000000\n",
            "CH06          0.000000\n",
            "CH03          0.000000\n",
            "CH04          0.000000\n",
            "PP02H         0.000000\n",
            "dtype: float64\n"
          ]
        }
      ]
    },
    {
      "cell_type": "code",
      "source": [
        "variables_2004=['cat_inac', 'cat_ocup', 'region','ano4', 'trimestre', 'h15',\n",
        " 'pp02i', 'estado', 'ch15', 'ch14', 'ch09', 'ch06', 'ch03', 'ch04', 'pp02h']\n",
        "porcentaje_nan = df_a[variables_2004].isna().mean()* 100\n",
        "print(porcentaje_nan)\n"
      ],
      "metadata": {
        "colab": {
          "base_uri": "https://localhost:8080/"
        },
        "id": "-65vyUx1kJCa",
        "outputId": "4aec889b-b2f4-431a-e756-37537dd3284a"
      },
      "execution_count": 197,
      "outputs": [
        {
          "output_type": "stream",
          "name": "stdout",
          "text": [
            "cat_inac     0.0\n",
            "cat_ocup     0.0\n",
            "region       0.0\n",
            "ano4         0.0\n",
            "trimestre    0.0\n",
            "h15          0.0\n",
            "pp02i        0.0\n",
            "estado       0.0\n",
            "ch15         0.0\n",
            "ch14         0.0\n",
            "ch09         0.0\n",
            "ch06         0.0\n",
            "ch03         0.0\n",
            "ch04         0.0\n",
            "pp02h        0.0\n",
            "dtype: float64\n"
          ]
        }
      ]
    },
    {
      "cell_type": "markdown",
      "source": [
        "Trabajo 3 homogenización de variables"
      ],
      "metadata": {
        "id": "zmdo_bCIfnhC"
      }
    },
    {
      "cell_type": "code",
      "source": [
        "df_2004.columns = df_2004.columns.str.upper()\n",
        "df_2024.columns = df_2024.columns.str.upper()\n"
      ],
      "metadata": {
        "id": "BhMdJbFAIeMG"
      },
      "execution_count": 198,
      "outputs": []
    },
    {
      "cell_type": "code",
      "source": [
        "variables_comunes = ['CAT_INAC', 'CAT_OCUP','REGION', 'ANO4', 'TRIMESTRE', 'H15',\n",
        "                     'PP02I', 'ESTADO', 'CH15', 'CH14', 'CH09', 'CH06', 'CH03', 'CH04', 'PP02H']"
      ],
      "metadata": {
        "id": "5GTql8AcKtcT"
      },
      "execution_count": 199,
      "outputs": []
    },
    {
      "cell_type": "markdown",
      "source": [
        "variable ch04"
      ],
      "metadata": {
        "id": "QXfeam7XSuID"
      }
    },
    {
      "cell_type": "code",
      "source": [
        "print(\"2004:\", df_2004['CH04'].unique())\n",
        "print(\"2024:\", df_2024['CH04'].unique())"
      ],
      "metadata": {
        "colab": {
          "base_uri": "https://localhost:8080/"
        },
        "id": "Xkk8P03eKcry",
        "outputId": "4fff4b69-1458-4d82-de99-86eceaac1290"
      },
      "execution_count": 200,
      "outputs": [
        {
          "output_type": "stream",
          "name": "stdout",
          "text": [
            "2004: [1 2]\n",
            "2024: [2 1]\n"
          ]
        }
      ]
    },
    {
      "cell_type": "code",
      "source": [
        "df_2004['CH04'] = df_2004['CH04'].replace({'Varón': 1, 'Mujer': 2}).astype(int)\n",
        "print(df_2004['CH04'].unique())"
      ],
      "metadata": {
        "colab": {
          "base_uri": "https://localhost:8080/"
        },
        "id": "Esz3PUHsLyTU",
        "outputId": "11bd5e47-c76a-4828-8f1e-8dbf811096ea"
      },
      "execution_count": 201,
      "outputs": [
        {
          "output_type": "stream",
          "name": "stdout",
          "text": [
            "[1 2]\n"
          ]
        }
      ]
    },
    {
      "cell_type": "markdown",
      "source": [
        "variable ch03"
      ],
      "metadata": {
        "id": "lFnJu0SiTgIU"
      }
    },
    {
      "cell_type": "code",
      "source": [
        "print(\"2004:\", df_2004[ 'CH03'].unique())\n",
        "print(\"2024:\", df_2024[ 'CH03'].unique())"
      ],
      "metadata": {
        "colab": {
          "base_uri": "https://localhost:8080/"
        },
        "id": "ybhNM0omLBDz",
        "outputId": "fdfdf3d6-fad5-4748-d6ef-c2fadff12670"
      },
      "execution_count": 202,
      "outputs": [
        {
          "output_type": "stream",
          "name": "stdout",
          "text": [
            "2004: [3, 5, 1, 2, 10, 4, 6, 8, 7, 9]\n",
            "Categories (10, int64): [3 < 5 < 1 < 9 ... 6 < 4 < 10 < 7]\n",
            "2024: [ 3  5  1  2 10  4  6  8  7  9]\n"
          ]
        }
      ]
    },
    {
      "cell_type": "code",
      "source": [
        "mapa_ch03_2004_2024 = {\n",
        "    'Jefe': 3,\n",
        "    'Cónyuge/Pareja': 5,\n",
        "    'Hijo/Hijastro': 1,\n",
        "    'Madre/Padre': 2,\n",
        "    'Otros familiares': 10,\n",
        "    'Hermano': 4,\n",
        "    'Suegro': 6,\n",
        "    'Nieto': 8,\n",
        "    'No familiares': 7,\n",
        "    'Yerno/Nuera': 9\n",
        "}\n",
        "df_2004['CH03'] = df_2004['CH03'].replace(mapa_ch03_2004_2024)\n",
        "print(\"2004:\", df_2004['CH03'].unique())\n",
        "print(\"2024:\", df_2024['CH03'].unique())"
      ],
      "metadata": {
        "colab": {
          "base_uri": "https://localhost:8080/"
        },
        "id": "C1rsD-dZTSdl",
        "outputId": "a2a03e53-9545-4c77-ce59-f8c3cfc27cfe"
      },
      "execution_count": 203,
      "outputs": [
        {
          "output_type": "stream",
          "name": "stdout",
          "text": [
            "2004: [3, 5, 1, 2, 10, 4, 6, 8, 7, 9]\n",
            "Categories (10, int64): [3 < 5 < 1 < 9 ... 6 < 4 < 10 < 7]\n",
            "2024: [ 3  5  1  2 10  4  6  8  7  9]\n"
          ]
        }
      ]
    },
    {
      "cell_type": "markdown",
      "source": [
        "variable PP02H"
      ],
      "metadata": {
        "id": "9TeAELTmUjjn"
      }
    },
    {
      "cell_type": "code",
      "source": [
        "print(\"2004:\", df_2004[ 'PP02H'].unique())\n",
        "print(\"2024:\", df_2024[ 'PP02H'].unique())"
      ],
      "metadata": {
        "colab": {
          "base_uri": "https://localhost:8080/"
        },
        "id": "_hhBhs52Tb2N",
        "outputId": "c1270bba-72e4-478c-ce6e-2fad009da231"
      },
      "execution_count": 204,
      "outputs": [
        {
          "output_type": "stream",
          "name": "stdout",
          "text": [
            "2004: ['No', 'Sí']\n",
            "Categories (2, object): ['Sí' < 'No']\n",
            "2024: ['No' 'Sí']\n"
          ]
        }
      ]
    },
    {
      "cell_type": "code",
      "source": [
        "df_2004['PP02H'] = df_2004['PP02H'].replace({0.0: 'No'})\n",
        "df_2024['PP02H'] = df_2024['PP02H'].replace({0: 'No', 2: 'Sí', 1: 'Sí'})\n",
        "print(\"Valores 2004:\", df_2004['PP02H'].unique())\n",
        "print(\"Valores 2024:\", df_2024['PP02H'].unique())"
      ],
      "metadata": {
        "colab": {
          "base_uri": "https://localhost:8080/"
        },
        "id": "3OuztNWtUct2",
        "outputId": "a9461bab-86f8-4c49-f2c0-b613dcf40346"
      },
      "execution_count": 205,
      "outputs": [
        {
          "output_type": "stream",
          "name": "stdout",
          "text": [
            "Valores 2004: ['No', 'Sí']\n",
            "Categories (2, object): ['Sí' < 'No']\n",
            "Valores 2024: ['No' 'Sí']\n"
          ]
        }
      ]
    },
    {
      "cell_type": "markdown",
      "source": [
        "variable cho9"
      ],
      "metadata": {
        "id": "JrMOOyWuVpeA"
      }
    },
    {
      "cell_type": "code",
      "source": [
        "print(\"2004:\", df_2004['CH09'].unique())\n",
        "print(\"2024:\", df_2024['CH09'].unique())"
      ],
      "metadata": {
        "colab": {
          "base_uri": "https://localhost:8080/"
        },
        "id": "n83lBdeLUnqf",
        "outputId": "4fc5f970-f63e-40a7-b7b8-6fba7939b3b9"
      },
      "execution_count": 206,
      "outputs": [
        {
          "output_type": "stream",
          "name": "stdout",
          "text": [
            "2004: ['Sí' 'No' 'Menor de 2 años' 'Ns./Nr.']\n",
            "2024: ['Sí' 'No' 'Menor de 2 años' 'Ns./Nr.']\n"
          ]
        }
      ]
    },
    {
      "cell_type": "code",
      "source": [
        "mapa_ch09 = {\n",
        "    1: 'Sí',\n",
        "    2: 'No',\n",
        "    3: 'Menor de 2 años',\n",
        "    9: 'Ns./Nr.'\n",
        "}\n",
        "df_2024['CH09'] = df_2024['CH09'].replace(mapa_ch09)\n",
        "df_2004['CH09'] = df_2004['CH09'].astype(str)\n",
        "df_2024['CH09'] = df_2024['CH09'].astype(str)\n",
        "\n",
        "print(\"CH09 - 2004:\", df_2004['CH09'].unique())\n",
        "print(\"CH09 - 2024:\", df_2024['CH09'].unique())"
      ],
      "metadata": {
        "colab": {
          "base_uri": "https://localhost:8080/"
        },
        "id": "ZkbU6NBhVi9q",
        "outputId": "f115aa6b-947f-4cb8-c45e-dbb8c0ff97e4"
      },
      "execution_count": 207,
      "outputs": [
        {
          "output_type": "stream",
          "name": "stdout",
          "text": [
            "CH09 - 2004: ['Sí' 'No' 'Menor de 2 años' 'Ns./Nr.']\n",
            "CH09 - 2024: ['Sí' 'No' 'Menor de 2 años' 'Ns./Nr.']\n"
          ]
        }
      ]
    },
    {
      "cell_type": "markdown",
      "source": [
        "variable estado"
      ],
      "metadata": {
        "id": "TNscWyEegGDu"
      }
    },
    {
      "cell_type": "code",
      "source": [
        "print(\"2004:\", df_2004['ESTADO'].unique())\n",
        "print(\"2024:\", df_2024['ESTADO'].unique())"
      ],
      "metadata": {
        "colab": {
          "base_uri": "https://localhost:8080/"
        },
        "id": "jrKuRo1jV0f4",
        "outputId": "4bdbc083-c9c0-44f4-ad30-5db518dafa54"
      },
      "execution_count": 208,
      "outputs": [
        {
          "output_type": "stream",
          "name": "stdout",
          "text": [
            "2004: ['Inactivo', 'Ocupado', 'Desocupado', 'Menor de 10 años', 'Entrevista individual no realizada (no respue...]\n",
            "Categories (5, object): ['Entrevista individual no realizada (no respue... < 'Ocupado' < 'Desocupado' < 'Inactivo' < 'Menor de 10 años']\n",
            "2024: [1 3 4 2 0]\n"
          ]
        }
      ]
    },
    {
      "cell_type": "code",
      "source": [
        "# Homogeneizar ESTADO para 2004\n",
        "estado_map_2004 = {\n",
        "    'Ocupado': 1,\n",
        "    'Desocupado': 2,\n",
        "    # Ignoramos o pasamos a NaN los demás\n",
        "}\n",
        "\n",
        "df_2004['ESTADO_HOMOG'] = df_2004['ESTADO'].map(estado_map_2004)\n",
        "\n",
        "# Homogeneizar ESTADO para 2024\n",
        "estado_map_2024 = {\n",
        "    1: 1,  # Ocupado\n",
        "    2: 2,  # Desocupado\n",
        "    # Ignoramos o pasamos a NaN los demás (0, 3, 4)\n",
        "}\n",
        "\n",
        "df_2024['ESTADO_HOMOG'] = df_2024['ESTADO'].map(estado_map_2024)\n",
        "\n"
      ],
      "metadata": {
        "id": "a-_9c-bJaa_i"
      },
      "execution_count": 209,
      "outputs": []
    },
    {
      "cell_type": "code",
      "source": [
        "df_2004['ANO'] = 2004\n",
        "df_2024['ANO'] = 2024\n",
        "\n",
        "# Unís las bases con las variables homogeneizadas\n",
        "df_final = pd.concat([df_2004, df_2024], ignore_index=True)"
      ],
      "metadata": {
        "id": "h0Zs7lxW7pnt"
      },
      "execution_count": 210,
      "outputs": []
    },
    {
      "cell_type": "code",
      "source": [
        "print(df_final['ESTADO_HOMOG'].value_counts(dropna=False))"
      ],
      "metadata": {
        "colab": {
          "base_uri": "https://localhost:8080/"
        },
        "id": "3WubC7Kq7vPc",
        "outputId": "6d89a135-bfb5-4924-dd18-0aa5e11e8116"
      },
      "execution_count": 211,
      "outputs": [
        {
          "output_type": "stream",
          "name": "stdout",
          "text": [
            "ESTADO_HOMOG\n",
            "NaN    49913\n",
            "1.0    37347\n",
            "2.0     4079\n",
            "Name: count, dtype: int64\n"
          ]
        }
      ]
    },
    {
      "cell_type": "markdown",
      "source": [
        "variable pp02I\n"
      ],
      "metadata": {
        "id": "b5Tig8Gwif5F"
      }
    },
    {
      "cell_type": "code",
      "source": [
        "print(\"2004:\", df_2004['PP02I'].unique())\n",
        "print(\"2024:\", df_2024[ 'PP02I'].unique())"
      ],
      "metadata": {
        "colab": {
          "base_uri": "https://localhost:8080/"
        },
        "id": "dIUkutFJew6j",
        "outputId": "7736a295-a60f-4ee4-e704-baf9f60a7569"
      },
      "execution_count": 212,
      "outputs": [
        {
          "output_type": "stream",
          "name": "stdout",
          "text": [
            "2004: ['No', 'Sí']\n",
            "Categories (2, object): ['Sí' < 'No']\n",
            "2024: ['No' 'Sí']\n"
          ]
        }
      ]
    },
    {
      "cell_type": "code",
      "source": [
        "df_2004['PP02I'] = df_2004['PP02I'].replace({0.0: 'No'})\n",
        "df_2024['PP02I'] = df_2024['PP02I'].replace({0: 'No', 2: 'Sí', 1: 'Sí'})\n",
        "\n",
        "print(\"Valores 2004:\", df_2004['PP02I'].unique())\n",
        "print(\"Valores 2024:\", df_2024['PP02I'].unique())"
      ],
      "metadata": {
        "colab": {
          "base_uri": "https://localhost:8080/"
        },
        "id": "fSg5mIiGf3NH",
        "outputId": "4bf9de8e-d434-4645-bd1b-b51c186bc146"
      },
      "execution_count": 213,
      "outputs": [
        {
          "output_type": "stream",
          "name": "stdout",
          "text": [
            "Valores 2004: ['No', 'Sí']\n",
            "Categories (2, object): ['Sí' < 'No']\n",
            "Valores 2024: ['No' 'Sí']\n"
          ]
        }
      ]
    },
    {
      "cell_type": "markdown",
      "source": [
        "variable h15"
      ],
      "metadata": {
        "id": "DY716WXaiT8k"
      }
    },
    {
      "cell_type": "code",
      "source": [
        "print(\"2004:\", df_2004['H15'].unique())\n",
        "print(\"2024:\", df_2024[ 'H15'].unique())"
      ],
      "metadata": {
        "colab": {
          "base_uri": "https://localhost:8080/"
        },
        "id": "EG9VATjvgy7q",
        "outputId": "f78d24aa-e0a5-4de2-b9a7-0a5ac0fb1236"
      },
      "execution_count": 214,
      "outputs": [
        {
          "output_type": "stream",
          "name": "stdout",
          "text": [
            "2004: <IntegerArray>\n",
            "[1, 0, 2]\n",
            "Length: 3, dtype: Int64\n",
            "2024: <IntegerArray>\n",
            "[1, 0, 2]\n",
            "Length: 3, dtype: Int64\n"
          ]
        }
      ]
    },
    {
      "cell_type": "code",
      "source": [
        "mapa_2004_h15 = {\n",
        "    'Sí': 1,\n",
        "    'No': 2,\n",
        "    0.0: 0  }\n",
        "mapa_2024_h15 = {\n",
        "    1: 1,\n",
        "    2: 2,\n",
        "    0: 0}\n",
        "df_2004['H15'] = df_2004['H15'].replace(mapa_2004_h15)\n",
        "df_2024['H15'] = df_2024['H15'].replace(mapa_2024_h15)\n",
        "df_2004['H15'] = df_2004['H15'].astype('Int64')\n",
        "df_2024['H15'] = df_2024['H15'].astype('Int64')\n",
        "print(\"H15 - 2004:\", df_2004['H15'].unique())\n",
        "print(\"H15 - 2024:\", df_2024['H15'].unique())\n"
      ],
      "metadata": {
        "colab": {
          "base_uri": "https://localhost:8080/"
        },
        "id": "c-mgUMHkh0d7",
        "outputId": "903f4ce8-7acf-4b16-f38a-fd0a3ca42ea2"
      },
      "execution_count": 215,
      "outputs": [
        {
          "output_type": "stream",
          "name": "stdout",
          "text": [
            "H15 - 2004: <IntegerArray>\n",
            "[1, 0, 2]\n",
            "Length: 3, dtype: Int64\n",
            "H15 - 2024: <IntegerArray>\n",
            "[1, 0, 2]\n",
            "Length: 3, dtype: Int64\n"
          ]
        }
      ]
    },
    {
      "cell_type": "markdown",
      "source": [
        "variable 'TRIMESTRE'(no necesario homogenizar)"
      ],
      "metadata": {
        "id": "hxMnrf8ViX2T"
      }
    },
    {
      "cell_type": "code",
      "source": [
        "print(\"2004:\", df_2004[ 'TRIMESTRE'].unique())\n",
        "print(\"2024:\", df_2024[ 'TRIMESTRE'].unique())"
      ],
      "metadata": {
        "colab": {
          "base_uri": "https://localhost:8080/"
        },
        "collapsed": true,
        "id": "ebdM5RTgiSk8",
        "outputId": "c9d35e9a-aae4-4b2f-9d82-dc5d4d6dfe46"
      },
      "execution_count": 216,
      "outputs": [
        {
          "output_type": "stream",
          "name": "stdout",
          "text": [
            "2004: [1]\n",
            "2024: [1]\n"
          ]
        }
      ]
    },
    {
      "cell_type": "code",
      "source": [
        "mapa_trimestre = { '1er. Trimestre': 1}\n",
        "df_2004['TRIMESTRE'] = df_2004['TRIMESTRE'].replace(mapa_trimestre)\n",
        "df_2004['TRIMESTRE'] = df_2004['TRIMESTRE'].astype(int)\n",
        "df_2024['TRIMESTRE'] = df_2024['TRIMESTRE'].astype(int)\n",
        "\n",
        "print(\"TRIMESTRE - 2004:\", df_2004['TRIMESTRE'].unique())\n",
        "print(\"TRIMESTRE - 2024:\", df_2024['TRIMESTRE'].unique())"
      ],
      "metadata": {
        "colab": {
          "base_uri": "https://localhost:8080/"
        },
        "collapsed": true,
        "id": "3JzBkwdekRoX",
        "outputId": "0dc4fc82-0362-4e63-bebf-ed1c283203c8"
      },
      "execution_count": 218,
      "outputs": [
        {
          "output_type": "stream",
          "name": "stdout",
          "text": [
            "TRIMESTRE - 2004: [1]\n",
            "TRIMESTRE - 2024: [1]\n"
          ]
        }
      ]
    },
    {
      "cell_type": "markdown",
      "source": [
        "variable 'ANO4'(no necesario homogenizar)"
      ],
      "metadata": {
        "id": "hqjti7wikqxa"
      }
    },
    {
      "cell_type": "code",
      "source": [
        "print(\"2004:\", df_2004[ 'ANO4'].unique())\n",
        "print(\"2024:\", df_2024[ 'ANO4'].unique())"
      ],
      "metadata": {
        "colab": {
          "base_uri": "https://localhost:8080/"
        },
        "collapsed": true,
        "id": "OsQHMrfAkbco",
        "outputId": "8acab8f9-f9a9-4448-c3d0-2d23fa1bcbf5"
      },
      "execution_count": 219,
      "outputs": [
        {
          "output_type": "stream",
          "name": "stdout",
          "text": [
            "2004: [2004.]\n",
            "2024: [2024]\n"
          ]
        }
      ]
    },
    {
      "cell_type": "markdown",
      "source": [
        "VARIABLE 'REGION'"
      ],
      "metadata": {
        "id": "DH4EWKlVmFx7"
      }
    },
    {
      "cell_type": "code",
      "source": [
        "print(\"2004:\", df_2004[  'REGION'].unique())\n",
        "print(\"2024:\", df_2024[  'REGION'].unique())"
      ],
      "metadata": {
        "colab": {
          "base_uri": "https://localhost:8080/"
        },
        "collapsed": true,
        "id": "G-KSlTfnl1kN",
        "outputId": "1dc1d909-5013-4e7f-d7a0-2fd5092af1e6"
      },
      "execution_count": 220,
      "outputs": [
        {
          "output_type": "stream",
          "name": "stdout",
          "text": [
            "2004: ['Gran Buenos Aires', 'NOA', 'NEA', 'Cuyo', 'Pampeana', 'Patagónica']\n",
            "Categories (6, object): ['Gran Buenos Aires' < 'NOA' < 'NEA' < 'Cuyo' < 'Pampeana' < 'Patagónica']\n",
            "2024: ['Gran Buenos Aires' 'NOA' 'NEA' 'Cuyo' 'Pampeana' 'Patagónica']\n"
          ]
        }
      ]
    },
    {
      "cell_type": "code",
      "source": [
        "mapa_region = {\n",
        "    42: 'Gran Buenos Aires',\n",
        "    41: 'NOA',\n",
        "    40: 'NEA',\n",
        "    43: 'Cuyo',\n",
        "    44: 'Pampeana',\n",
        "    1: 'Patagónica',}\n",
        "df_2024['REGION'] = df_2024['REGION'].replace(mapa_region)\n",
        "print(\"REGION - 2004:\", df_2004['REGION'].unique())\n",
        "print(\"REGION - 2024:\", df_2024['REGION'].unique())"
      ],
      "metadata": {
        "colab": {
          "base_uri": "https://localhost:8080/"
        },
        "collapsed": true,
        "id": "4aMcWVH0mdyr",
        "outputId": "abde045d-d86c-4842-bf78-10b3163c78ee"
      },
      "execution_count": 221,
      "outputs": [
        {
          "output_type": "stream",
          "name": "stdout",
          "text": [
            "REGION - 2004: ['Gran Buenos Aires', 'NOA', 'NEA', 'Cuyo', 'Pampeana', 'Patagónica']\n",
            "Categories (6, object): ['Gran Buenos Aires' < 'NOA' < 'NEA' < 'Cuyo' < 'Pampeana' < 'Patagónica']\n",
            "REGION - 2024: ['Gran Buenos Aires' 'NOA' 'NEA' 'Cuyo' 'Pampeana' 'Patagónica']\n"
          ]
        }
      ]
    },
    {
      "cell_type": "markdown",
      "source": [
        "VARIABLE 'CAT_OCUP'"
      ],
      "metadata": {
        "id": "OORFi1Ycm8MW"
      }
    },
    {
      "cell_type": "code",
      "source": [
        "print(\"2004:\", df_2004[   'CAT_OCUP'].unique())\n",
        "print(\"2024:\", df_2024[   'CAT_OCUP'].unique())"
      ],
      "metadata": {
        "colab": {
          "base_uri": "https://localhost:8080/"
        },
        "collapsed": true,
        "id": "mrXMktDymmpl",
        "outputId": "cfd4cea8-f06f-4bc5-c354-cc025a9d371b"
      },
      "execution_count": 222,
      "outputs": [
        {
          "output_type": "stream",
          "name": "stdout",
          "text": [
            "2004: [0.0, 'Cuenta propia', 'Trabajador familiar sin remuneración', 'Obrero o empleado', 'Patrón']\n",
            "Categories (5, object): [0.0 < 'Patrón' < 'Cuenta propia' < 'Obrero o empleado' <\n",
            "                         'Trabajador familiar sin remuneración']\n",
            "2024: [3 0 2 1 4]\n"
          ]
        }
      ]
    },
    {
      "cell_type": "code",
      "source": [
        "mapa_cat_ocup = {\n",
        "3: '0.0',\n",
        "0: 'Cuenta propia',\n",
        "2: 'Trabajador familiar sin remuneración',\n",
        "1: 'Obrero o empleado',\n",
        "4: 'Patrón',\n",
        "}\n",
        "# Verificamos los resultados\n",
        "print(\"CAT_OCUP - 2004:\", df_2004['CAT_OCUP'].unique())\n",
        "print(\"CAT_OCUP - 2024:\", df_2024['CAT_OCUP'].unique())\n"
      ],
      "metadata": {
        "colab": {
          "base_uri": "https://localhost:8080/"
        },
        "collapsed": true,
        "id": "Ad0Ppxu0pZq6",
        "outputId": "27ac92fb-d53d-4c9a-e4bd-3138ae4937b5"
      },
      "execution_count": 223,
      "outputs": [
        {
          "output_type": "stream",
          "name": "stdout",
          "text": [
            "CAT_OCUP - 2004: [0.0, 'Cuenta propia', 'Trabajador familiar sin remuneración', 'Obrero o empleado', 'Patrón']\n",
            "Categories (5, object): [0.0 < 'Patrón' < 'Cuenta propia' < 'Obrero o empleado' <\n",
            "                         'Trabajador familiar sin remuneración']\n",
            "CAT_OCUP - 2024: [3 0 2 1 4]\n"
          ]
        }
      ]
    },
    {
      "cell_type": "markdown",
      "source": [
        "VARIABLE 'CAT_INAC'"
      ],
      "metadata": {
        "id": "GHqKljNqq1G0"
      }
    },
    {
      "cell_type": "code",
      "source": [
        "print(\"2004:\", df_2004[   'CAT_INAC'].unique())\n",
        "print(\"2024:\", df_2024[    'CAT_INAC'].unique())"
      ],
      "metadata": {
        "colab": {
          "base_uri": "https://localhost:8080/"
        },
        "collapsed": true,
        "id": "lFzG-XrYqtX0",
        "outputId": "2c5caebe-7ac5-44ac-db7f-44950c6c2b8b"
      },
      "execution_count": 224,
      "outputs": [
        {
          "output_type": "stream",
          "name": "stdout",
          "text": [
            "2004: ['Jubilado/pensionado', 0.0, 'Ama de casa', 'Estudiante', 'Menor de 6 años', 'Rentista', 'Otros', 'Discapacitado']\n",
            "Categories (8, object): [0.0 < 'Jubilado/pensionado' < 'Rentista' < 'Estudiante' <\n",
            "                         'Ama de casa' < 'Menor de 6 años' < 'Discapacitado' < 'Otros']\n",
            "2024: ['Inactivo' 'Ama de casa' 'Menor de 6 años' 'Jubilado/pensionado'\n",
            " 'Estudiante' 'Otros' 'Rentista' 'Discapacitado']\n"
          ]
        }
      ]
    },
    {
      "cell_type": "code",
      "source": [
        "mapa_cat_inac = {\n",
        "    0: 'Inactivo',\n",
        "      1: 'Jubilado/pensionado',\n",
        "     2: 'Rentista'  ,\n",
        "    3:  'Estudiante',\n",
        "    4:'Ama de casa',\n",
        "    5: 'Menor de 6 años',\n",
        "  6: 'Discapacitado',\n",
        "7: 'Otros',\n",
        "}\n",
        "df_2024['CAT_INAC'] = df_2024['CAT_INAC'].replace(mapa_cat_inac)\n",
        "print(\"CAT_INAC - 2004:\", df_2004['CAT_INAC'].unique())\n",
        "print(\"CAT_INAC - 2024:\", df_2024['CAT_INAC'].unique())"
      ],
      "metadata": {
        "colab": {
          "base_uri": "https://localhost:8080/"
        },
        "id": "5g4QAS-_rSsN",
        "outputId": "dbd42f1e-1414-420d-a0eb-bb36475f9b6b"
      },
      "execution_count": 225,
      "outputs": [
        {
          "output_type": "stream",
          "name": "stdout",
          "text": [
            "CAT_INAC - 2004: ['Jubilado/pensionado', 0.0, 'Ama de casa', 'Estudiante', 'Menor de 6 años', 'Rentista', 'Otros', 'Discapacitado']\n",
            "Categories (8, object): [0.0 < 'Jubilado/pensionado' < 'Rentista' < 'Estudiante' <\n",
            "                         'Ama de casa' < 'Menor de 6 años' < 'Discapacitado' < 'Otros']\n",
            "CAT_INAC - 2024: ['Inactivo' 'Ama de casa' 'Menor de 6 años' 'Jubilado/pensionado'\n",
            " 'Estudiante' 'Otros' 'Rentista' 'Discapacitado']\n"
          ]
        }
      ]
    },
    {
      "cell_type": "markdown",
      "source": [
        "VARIABLE 'CH15'"
      ],
      "metadata": {
        "id": "MBohjEMIuCcj"
      }
    },
    {
      "cell_type": "code",
      "source": [
        "print(\"2004:\", df_2004[    'CH15'].unique())\n",
        "print(\"2024:\", df_2024[     'CH15'].unique())"
      ],
      "metadata": {
        "colab": {
          "base_uri": "https://localhost:8080/"
        },
        "collapsed": true,
        "id": "g8H9ewVfs3Cy",
        "outputId": "3c5f387d-814b-4119-da4d-5f555f4c5272"
      },
      "execution_count": 226,
      "outputs": [
        {
          "output_type": "stream",
          "name": "stdout",
          "text": [
            "2004: ['En esta localidad', 'En otra localidad', 'En otra provincia (especificar)', 'En un país limítrofe', 'En otro país', 'Ns./Nr.']\n",
            "Categories (6, object): ['En esta localidad' < 'En otra localidad' < 'En otra provincia (especificar)' <\n",
            "                         'En un país limítrofe' < 'En otro país' < 'Ns./Nr.']\n",
            "2024: [1 2 3 4 5 9]\n"
          ]
        }
      ]
    },
    {
      "cell_type": "markdown",
      "source": [
        "VARIABLE 'CH14'"
      ],
      "metadata": {
        "id": "Zrz_RhArub9V"
      }
    },
    {
      "cell_type": "code",
      "source": [
        "print(\"2004:\", df_2004[     'CH14'].unique())\n",
        "print(\"2024:\", df_2024[     'CH14'].unique())"
      ],
      "metadata": {
        "colab": {
          "base_uri": "https://localhost:8080/"
        },
        "collapsed": true,
        "id": "TS6ngP72uTmF",
        "outputId": "00f6b193-9c3b-42ec-a2b8-ff5e3c0de448"
      },
      "execution_count": 227,
      "outputs": [
        {
          "output_type": "stream",
          "name": "stdout",
          "text": [
            "2004: ['03' '  ' '04' '02' '01' '06' '00' '05' '07' '09' '99' '08' '98']\n",
            "2024: [ 5.  1. nan  2.  6.  4.  0.  3. 98.  8.  7. 99.  9.]\n"
          ]
        }
      ]
    },
    {
      "cell_type": "code",
      "source": [
        "mapa_ch14 = {\n",
        "    3: 4,\n",
        "    4: 0,\n",
        "    2: 2,\n",
        "    1: 3,\n",
        "    6: 5,\n",
        "    0: 6,\n",
        "    5: 1,\n",
        "    7: 7,\n",
        "    9: 9,\n",
        "    99: 99,\n",
        "    8: 8,\n",
        "    98: 98\n",
        "}\n",
        "df_2004['CH14'] = df_2004['CH14'].replace(mapa_ch14)\n",
        "df_2024['CH14'] = df_2024['CH14'].replace(mapa_ch14)\n",
        "\n",
        "print(\"CH14 - 2004:\", df_2004['CH14'].unique())\n",
        "print(\"CH14 - 2024:\", df_2024['CH14'].unique())"
      ],
      "metadata": {
        "colab": {
          "base_uri": "https://localhost:8080/"
        },
        "id": "IC_DLUf_uyUg",
        "outputId": "5e73be7a-d92d-4aaa-9881-53e4b37eb967"
      },
      "execution_count": 177,
      "outputs": [
        {
          "output_type": "stream",
          "name": "stdout",
          "text": [
            "CH14 - 2004: ['03' '  ' '04' '02' '01' '06' '00' '05' '07' '09' '99' '08' '98']\n",
            "CH14 - 2024: [ 5.  1. nan  2.  6.  4.  0.  3. 98.  8.  7. 99.  9.]\n"
          ]
        }
      ]
    },
    {
      "cell_type": "markdown",
      "source": [
        "VARIABLE 'CH06'"
      ],
      "metadata": {
        "id": "Vv1rjs3XxbeK"
      }
    },
    {
      "cell_type": "code",
      "source": [
        "print(\"2004:\", df_2004[     'CH06'].unique())\n",
        "print(\"2024:\", df_2024[     'CH06'].unique())"
      ],
      "metadata": {
        "colab": {
          "base_uri": "https://localhost:8080/"
        },
        "id": "MDHndFb5vD8O",
        "outputId": "20aa9e68-21c5-45ed-da1e-14b27ba61d54"
      },
      "execution_count": 228,
      "outputs": [
        {
          "output_type": "stream",
          "name": "stdout",
          "text": [
            "2004: [79.0, 67.0, 74.0, 54.0, 51.0, ..., 88.0, '98 y más años', 91.0, 97.0, 95.0]\n",
            "Length: 99\n",
            "Categories (99, object): ['Menos de 1 año' < 1.0 < 2.0 < 3.0 ... 95.0 < 96.0 < 97.0 < '98 y más años']\n",
            "2024: [ 44  22   3  54  53  26  25  72  41  43  17  52  24  19  16   5  76  31\n",
            "  23  62  64  35  28  58  78  39  29   1  11  49  65  20  73  57  21  48\n",
            "   8  18   9  51  50  14  12  13  46  15  45   4  40  -1   7   2  32  59\n",
            "  47  42  36   6  55  74  77  37  34  30  63  71  10  91  83  60  79  61\n",
            "  38  82  56  85  87  69  67  27  81  88  84  66  33  68  80  75  86  70\n",
            "  89  95  90  96  93  92  98  99  94 101  97 100]\n"
          ]
        }
      ]
    },
    {
      "cell_type": "markdown",
      "source": [
        "variable CH12"
      ],
      "metadata": {
        "id": "zKh95-leFmpd"
      }
    },
    {
      "cell_type": "code",
      "source": [
        "print(\"2004:\", df_2004[    'CH12'].unique())\n",
        "print(\"2024:\", df_2024[     'CH12'].unique())"
      ],
      "metadata": {
        "colab": {
          "base_uri": "https://localhost:8080/"
        },
        "id": "5GY0ra0oTz0V",
        "outputId": "013932af-272a-49b9-cb61-67a7810ded91"
      },
      "execution_count": 231,
      "outputs": [
        {
          "output_type": "stream",
          "name": "stdout",
          "text": [
            "2004: [nan]\n",
            "2024: [nan]\n"
          ]
        }
      ]
    },
    {
      "cell_type": "code",
      "source": [
        "# Homogeneización para 2004\n",
        "educacion_2004 = {\n",
        "    'Jardín/Preescolar': 1,\n",
        "    'Primario': 6,\n",
        "    'EGB': 9,\n",
        "    'Polimodal': 12,\n",
        "    'Secundario': 12,\n",
        "    'Terciario': 15,\n",
        "    'Universitario': 16,\n",
        "    'Posgrado Universitario': 18,\n",
        "    'Educación especial (discapacitado)': 6,\n",
        "    'Ns./Nr.': np.nan  # Asumimos que estos son valores desconocidos\n",
        "}\n",
        "\n",
        "df_2004['CH12'] = df_2004['CH12'].map(educacion_2004)\n",
        "\n",
        "# Homogeneización para 2024\n",
        "educacion_2024 = {\n",
        "    0: np.nan,  # Si es un valor faltante\n",
        "    1: 6,       # Primario\n",
        "    2: 9,       # EGB\n",
        "    3: 12,      # Polimodal\n",
        "    4: 12,      # Secundario\n",
        "    5: 15,      # Terciario\n",
        "    6: 16,      # Universitario\n",
        "    7: 18,      # Posgrado\n",
        "    8: 6,       # Educación especial (discapacitado)\n",
        "    9: 16,      # Posgrado Universitario\n",
        "    99: np.nan  # Si es un valor faltante o no respondido\n",
        "}\n",
        "\n",
        "df_2024['CH12'] = df_2024['CH12'].map(educacion_2024)\n",
        "\n",
        "# Verificamos que los valores sean los correctos\n",
        "print(\"2004: \", df_2004['CH12'].unique())\n",
        "print(\"2024: \", df_2024['CH12'].unique())\n"
      ],
      "metadata": {
        "colab": {
          "base_uri": "https://localhost:8080/"
        },
        "id": "eqQtgzGxUdtt",
        "outputId": "4fc61fe1-42bf-4939-d899-ca17522f9547"
      },
      "execution_count": 182,
      "outputs": [
        {
          "output_type": "stream",
          "name": "stdout",
          "text": [
            "2004:  [nan]\n",
            "2024:  [nan]\n"
          ]
        }
      ]
    },
    {
      "cell_type": "markdown",
      "source": [
        "variable CH13"
      ],
      "metadata": {
        "id": "1Jrevrr724TH"
      }
    },
    {
      "cell_type": "code",
      "source": [
        "print(\"2004:\", df_2004[     'CH13'].unique())\n",
        "print(\"2024:\", df_2024[     'CH13'].unique())"
      ],
      "metadata": {
        "colab": {
          "base_uri": "https://localhost:8080/"
        },
        "id": "r-OeCzIvWoww",
        "outputId": "b0c3fd6f-efea-4050-f38a-18779055120f"
      },
      "execution_count": 183,
      "outputs": [
        {
          "output_type": "stream",
          "name": "stdout",
          "text": [
            "2004: ['No', 'Sí', 0.0, 'Ns./Nr.']\n",
            "Categories (4, object): [0.0 < 'Sí' < 'No' < 'Ns./Nr.']\n",
            "2024: [2 1 0 9]\n"
          ]
        }
      ]
    },
    {
      "cell_type": "code",
      "source": [
        "import numpy as np\n",
        "\n",
        "# Mapeo unificado de respuestas de CH13\n",
        "mapa_ch13_homog = {\n",
        "    'Sí': 1,\n",
        "    'No': 0,\n",
        "    'Ns./Nr.': np.nan,\n",
        "    0.0: np.nan,\n",
        "    1: 1,\n",
        "    2: 0,\n",
        "    9: np.nan,\n",
        "    0: np.nan  # también cubrir 0 entero si quedó alguno\n",
        "}\n",
        "\n",
        "# Aplicar el mapeo a la columna CH13 en df_final\n",
        "df_final['CH13_HOMOG'] = df_final['CH13'].map(mapa_ch13_homog)\n"
      ],
      "metadata": {
        "id": "RzUEkUG_ZOXA"
      },
      "execution_count": 184,
      "outputs": []
    },
    {
      "cell_type": "code",
      "source": [
        "print(df_final['CH13_HOMOG'].value_counts(dropna=False))\n"
      ],
      "metadata": {
        "colab": {
          "base_uri": "https://localhost:8080/"
        },
        "id": "ZPxrlMzRaHQG",
        "outputId": "287b7551-a067-47d5-abaf-5af36412564e"
      },
      "execution_count": 50,
      "outputs": [
        {
          "output_type": "stream",
          "name": "stdout",
          "text": [
            "CH13_HOMOG\n",
            "0.0    47102\n",
            "1.0    38840\n",
            "NaN     5397\n",
            "Name: count, dtype: int64\n"
          ]
        }
      ]
    },
    {
      "cell_type": "code",
      "source": [
        "columnas_finales = [ 'CAT_INAC' , 'CAT_OCUP','REGION', 'ANO4', 'TRIMESTRE', 'H15', 'PP02I','P21', 'PP3E_TOT', 'PP3F_TOT',\n",
        "                'ESTADO_HOMOG', 'CH15', 'CH14', 'CH09', 'CH06', 'CH03', 'CH04', 'PP02H','CH12','CH13_HOMOG']\n"
      ],
      "metadata": {
        "id": "fQpSWkd10r94"
      },
      "execution_count": 185,
      "outputs": []
    },
    {
      "cell_type": "markdown",
      "source": [
        "Base final"
      ],
      "metadata": {
        "id": "HNcKsnRsMfnj"
      }
    },
    {
      "cell_type": "code",
      "source": [
        "df_2004_final = df_2004[columnas_finales].copy()\n",
        "df_2024_final = df_2024[columnas_finales].copy()\n",
        "df_2004_final['AÑO'] = 2004\n",
        "df_2024_final['AÑO'] = 2024\n",
        "\n",
        "df_final = pd.concat([df_2004_final, df_2024_final], ignore_index=True)\n",
        "df_final.head()"
      ],
      "metadata": {
        "id": "Vobu3_6j3PpP",
        "colab": {
          "base_uri": "https://localhost:8080/",
          "height": 236
        },
        "outputId": "bef62ef7-584d-458b-96c8-a9b005136e92"
      },
      "execution_count": 153,
      "outputs": [
        {
          "output_type": "execute_result",
          "data": {
            "text/plain": [
              "              CAT_INAC       CAT_OCUP             REGION    ANO4  TRIMESTRE  \\\n",
              "0  Jubilado/pensionado            0.0  Gran Buenos Aires  2004.0          1   \n",
              "1                  0.0  Cuenta propia  Gran Buenos Aires  2004.0          1   \n",
              "2  Jubilado/pensionado            0.0  Gran Buenos Aires  2004.0          1   \n",
              "3                  0.0  Cuenta propia  Gran Buenos Aires  2004.0          1   \n",
              "4          Ama de casa            0.0  Gran Buenos Aires  2004.0          1   \n",
              "\n",
              "   H15 PP02I     P21  PP3E_TOT  PP3F_TOT  ...               CH15 CH14 CH09  \\\n",
              "0    1    No     0.0       0.0       0.0  ...  En esta localidad   03   Sí   \n",
              "1    1    No     0.0       0.0       0.0  ...  En otra localidad        Sí   \n",
              "2    1    No     0.0       0.0       0.0  ...  En esta localidad        Sí   \n",
              "3    1    No  2000.0      59.0       0.0  ...  En esta localidad        Sí   \n",
              "4    1    No     0.0       0.0       0.0  ...  En esta localidad        Sí   \n",
              "\n",
              "   CH06 CH03  CH04  PP02H CH12  CH13   AÑO  \n",
              "0  79.0    3     1     No  NaN    No  2004  \n",
              "1  67.0    3     2     No  NaN    Sí  2004  \n",
              "2  74.0    3     2     No  NaN    Sí  2004  \n",
              "3  54.0    3     1     No  NaN    Sí  2004  \n",
              "4  51.0    5     2     No  NaN    Sí  2004  \n",
              "\n",
              "[5 rows x 21 columns]"
            ],
            "text/html": [
              "\n",
              "  <div id=\"df-fa162384-de34-4220-b4f7-41d9e20cc006\" class=\"colab-df-container\">\n",
              "    <div>\n",
              "<style scoped>\n",
              "    .dataframe tbody tr th:only-of-type {\n",
              "        vertical-align: middle;\n",
              "    }\n",
              "\n",
              "    .dataframe tbody tr th {\n",
              "        vertical-align: top;\n",
              "    }\n",
              "\n",
              "    .dataframe thead th {\n",
              "        text-align: right;\n",
              "    }\n",
              "</style>\n",
              "<table border=\"1\" class=\"dataframe\">\n",
              "  <thead>\n",
              "    <tr style=\"text-align: right;\">\n",
              "      <th></th>\n",
              "      <th>CAT_INAC</th>\n",
              "      <th>CAT_OCUP</th>\n",
              "      <th>REGION</th>\n",
              "      <th>ANO4</th>\n",
              "      <th>TRIMESTRE</th>\n",
              "      <th>H15</th>\n",
              "      <th>PP02I</th>\n",
              "      <th>P21</th>\n",
              "      <th>PP3E_TOT</th>\n",
              "      <th>PP3F_TOT</th>\n",
              "      <th>...</th>\n",
              "      <th>CH15</th>\n",
              "      <th>CH14</th>\n",
              "      <th>CH09</th>\n",
              "      <th>CH06</th>\n",
              "      <th>CH03</th>\n",
              "      <th>CH04</th>\n",
              "      <th>PP02H</th>\n",
              "      <th>CH12</th>\n",
              "      <th>CH13</th>\n",
              "      <th>AÑO</th>\n",
              "    </tr>\n",
              "  </thead>\n",
              "  <tbody>\n",
              "    <tr>\n",
              "      <th>0</th>\n",
              "      <td>Jubilado/pensionado</td>\n",
              "      <td>0.0</td>\n",
              "      <td>Gran Buenos Aires</td>\n",
              "      <td>2004.0</td>\n",
              "      <td>1</td>\n",
              "      <td>1</td>\n",
              "      <td>No</td>\n",
              "      <td>0.0</td>\n",
              "      <td>0.0</td>\n",
              "      <td>0.0</td>\n",
              "      <td>...</td>\n",
              "      <td>En esta localidad</td>\n",
              "      <td>03</td>\n",
              "      <td>Sí</td>\n",
              "      <td>79.0</td>\n",
              "      <td>3</td>\n",
              "      <td>1</td>\n",
              "      <td>No</td>\n",
              "      <td>NaN</td>\n",
              "      <td>No</td>\n",
              "      <td>2004</td>\n",
              "    </tr>\n",
              "    <tr>\n",
              "      <th>1</th>\n",
              "      <td>0.0</td>\n",
              "      <td>Cuenta propia</td>\n",
              "      <td>Gran Buenos Aires</td>\n",
              "      <td>2004.0</td>\n",
              "      <td>1</td>\n",
              "      <td>1</td>\n",
              "      <td>No</td>\n",
              "      <td>0.0</td>\n",
              "      <td>0.0</td>\n",
              "      <td>0.0</td>\n",
              "      <td>...</td>\n",
              "      <td>En otra localidad</td>\n",
              "      <td></td>\n",
              "      <td>Sí</td>\n",
              "      <td>67.0</td>\n",
              "      <td>3</td>\n",
              "      <td>2</td>\n",
              "      <td>No</td>\n",
              "      <td>NaN</td>\n",
              "      <td>Sí</td>\n",
              "      <td>2004</td>\n",
              "    </tr>\n",
              "    <tr>\n",
              "      <th>2</th>\n",
              "      <td>Jubilado/pensionado</td>\n",
              "      <td>0.0</td>\n",
              "      <td>Gran Buenos Aires</td>\n",
              "      <td>2004.0</td>\n",
              "      <td>1</td>\n",
              "      <td>1</td>\n",
              "      <td>No</td>\n",
              "      <td>0.0</td>\n",
              "      <td>0.0</td>\n",
              "      <td>0.0</td>\n",
              "      <td>...</td>\n",
              "      <td>En esta localidad</td>\n",
              "      <td></td>\n",
              "      <td>Sí</td>\n",
              "      <td>74.0</td>\n",
              "      <td>3</td>\n",
              "      <td>2</td>\n",
              "      <td>No</td>\n",
              "      <td>NaN</td>\n",
              "      <td>Sí</td>\n",
              "      <td>2004</td>\n",
              "    </tr>\n",
              "    <tr>\n",
              "      <th>3</th>\n",
              "      <td>0.0</td>\n",
              "      <td>Cuenta propia</td>\n",
              "      <td>Gran Buenos Aires</td>\n",
              "      <td>2004.0</td>\n",
              "      <td>1</td>\n",
              "      <td>1</td>\n",
              "      <td>No</td>\n",
              "      <td>2000.0</td>\n",
              "      <td>59.0</td>\n",
              "      <td>0.0</td>\n",
              "      <td>...</td>\n",
              "      <td>En esta localidad</td>\n",
              "      <td></td>\n",
              "      <td>Sí</td>\n",
              "      <td>54.0</td>\n",
              "      <td>3</td>\n",
              "      <td>1</td>\n",
              "      <td>No</td>\n",
              "      <td>NaN</td>\n",
              "      <td>Sí</td>\n",
              "      <td>2004</td>\n",
              "    </tr>\n",
              "    <tr>\n",
              "      <th>4</th>\n",
              "      <td>Ama de casa</td>\n",
              "      <td>0.0</td>\n",
              "      <td>Gran Buenos Aires</td>\n",
              "      <td>2004.0</td>\n",
              "      <td>1</td>\n",
              "      <td>1</td>\n",
              "      <td>No</td>\n",
              "      <td>0.0</td>\n",
              "      <td>0.0</td>\n",
              "      <td>0.0</td>\n",
              "      <td>...</td>\n",
              "      <td>En esta localidad</td>\n",
              "      <td></td>\n",
              "      <td>Sí</td>\n",
              "      <td>51.0</td>\n",
              "      <td>5</td>\n",
              "      <td>2</td>\n",
              "      <td>No</td>\n",
              "      <td>NaN</td>\n",
              "      <td>Sí</td>\n",
              "      <td>2004</td>\n",
              "    </tr>\n",
              "  </tbody>\n",
              "</table>\n",
              "<p>5 rows × 21 columns</p>\n",
              "</div>\n",
              "    <div class=\"colab-df-buttons\">\n",
              "\n",
              "  <div class=\"colab-df-container\">\n",
              "    <button class=\"colab-df-convert\" onclick=\"convertToInteractive('df-fa162384-de34-4220-b4f7-41d9e20cc006')\"\n",
              "            title=\"Convert this dataframe to an interactive table.\"\n",
              "            style=\"display:none;\">\n",
              "\n",
              "  <svg xmlns=\"http://www.w3.org/2000/svg\" height=\"24px\" viewBox=\"0 -960 960 960\">\n",
              "    <path d=\"M120-120v-720h720v720H120Zm60-500h600v-160H180v160Zm220 220h160v-160H400v160Zm0 220h160v-160H400v160ZM180-400h160v-160H180v160Zm440 0h160v-160H620v160ZM180-180h160v-160H180v160Zm440 0h160v-160H620v160Z\"/>\n",
              "  </svg>\n",
              "    </button>\n",
              "\n",
              "  <style>\n",
              "    .colab-df-container {\n",
              "      display:flex;\n",
              "      gap: 12px;\n",
              "    }\n",
              "\n",
              "    .colab-df-convert {\n",
              "      background-color: #E8F0FE;\n",
              "      border: none;\n",
              "      border-radius: 50%;\n",
              "      cursor: pointer;\n",
              "      display: none;\n",
              "      fill: #1967D2;\n",
              "      height: 32px;\n",
              "      padding: 0 0 0 0;\n",
              "      width: 32px;\n",
              "    }\n",
              "\n",
              "    .colab-df-convert:hover {\n",
              "      background-color: #E2EBFA;\n",
              "      box-shadow: 0px 1px 2px rgba(60, 64, 67, 0.3), 0px 1px 3px 1px rgba(60, 64, 67, 0.15);\n",
              "      fill: #174EA6;\n",
              "    }\n",
              "\n",
              "    .colab-df-buttons div {\n",
              "      margin-bottom: 4px;\n",
              "    }\n",
              "\n",
              "    [theme=dark] .colab-df-convert {\n",
              "      background-color: #3B4455;\n",
              "      fill: #D2E3FC;\n",
              "    }\n",
              "\n",
              "    [theme=dark] .colab-df-convert:hover {\n",
              "      background-color: #434B5C;\n",
              "      box-shadow: 0px 1px 3px 1px rgba(0, 0, 0, 0.15);\n",
              "      filter: drop-shadow(0px 1px 2px rgba(0, 0, 0, 0.3));\n",
              "      fill: #FFFFFF;\n",
              "    }\n",
              "  </style>\n",
              "\n",
              "    <script>\n",
              "      const buttonEl =\n",
              "        document.querySelector('#df-fa162384-de34-4220-b4f7-41d9e20cc006 button.colab-df-convert');\n",
              "      buttonEl.style.display =\n",
              "        google.colab.kernel.accessAllowed ? 'block' : 'none';\n",
              "\n",
              "      async function convertToInteractive(key) {\n",
              "        const element = document.querySelector('#df-fa162384-de34-4220-b4f7-41d9e20cc006');\n",
              "        const dataTable =\n",
              "          await google.colab.kernel.invokeFunction('convertToInteractive',\n",
              "                                                    [key], {});\n",
              "        if (!dataTable) return;\n",
              "\n",
              "        const docLinkHtml = 'Like what you see? Visit the ' +\n",
              "          '<a target=\"_blank\" href=https://colab.research.google.com/notebooks/data_table.ipynb>data table notebook</a>'\n",
              "          + ' to learn more about interactive tables.';\n",
              "        element.innerHTML = '';\n",
              "        dataTable['output_type'] = 'display_data';\n",
              "        await google.colab.output.renderOutput(dataTable, element);\n",
              "        const docLink = document.createElement('div');\n",
              "        docLink.innerHTML = docLinkHtml;\n",
              "        element.appendChild(docLink);\n",
              "      }\n",
              "    </script>\n",
              "  </div>\n",
              "\n",
              "\n",
              "    <div id=\"df-55648e51-25d4-4b3e-ad0c-65c45b98181b\">\n",
              "      <button class=\"colab-df-quickchart\" onclick=\"quickchart('df-55648e51-25d4-4b3e-ad0c-65c45b98181b')\"\n",
              "                title=\"Suggest charts\"\n",
              "                style=\"display:none;\">\n",
              "\n",
              "<svg xmlns=\"http://www.w3.org/2000/svg\" height=\"24px\"viewBox=\"0 0 24 24\"\n",
              "     width=\"24px\">\n",
              "    <g>\n",
              "        <path d=\"M19 3H5c-1.1 0-2 .9-2 2v14c0 1.1.9 2 2 2h14c1.1 0 2-.9 2-2V5c0-1.1-.9-2-2-2zM9 17H7v-7h2v7zm4 0h-2V7h2v10zm4 0h-2v-4h2v4z\"/>\n",
              "    </g>\n",
              "</svg>\n",
              "      </button>\n",
              "\n",
              "<style>\n",
              "  .colab-df-quickchart {\n",
              "      --bg-color: #E8F0FE;\n",
              "      --fill-color: #1967D2;\n",
              "      --hover-bg-color: #E2EBFA;\n",
              "      --hover-fill-color: #174EA6;\n",
              "      --disabled-fill-color: #AAA;\n",
              "      --disabled-bg-color: #DDD;\n",
              "  }\n",
              "\n",
              "  [theme=dark] .colab-df-quickchart {\n",
              "      --bg-color: #3B4455;\n",
              "      --fill-color: #D2E3FC;\n",
              "      --hover-bg-color: #434B5C;\n",
              "      --hover-fill-color: #FFFFFF;\n",
              "      --disabled-bg-color: #3B4455;\n",
              "      --disabled-fill-color: #666;\n",
              "  }\n",
              "\n",
              "  .colab-df-quickchart {\n",
              "    background-color: var(--bg-color);\n",
              "    border: none;\n",
              "    border-radius: 50%;\n",
              "    cursor: pointer;\n",
              "    display: none;\n",
              "    fill: var(--fill-color);\n",
              "    height: 32px;\n",
              "    padding: 0;\n",
              "    width: 32px;\n",
              "  }\n",
              "\n",
              "  .colab-df-quickchart:hover {\n",
              "    background-color: var(--hover-bg-color);\n",
              "    box-shadow: 0 1px 2px rgba(60, 64, 67, 0.3), 0 1px 3px 1px rgba(60, 64, 67, 0.15);\n",
              "    fill: var(--button-hover-fill-color);\n",
              "  }\n",
              "\n",
              "  .colab-df-quickchart-complete:disabled,\n",
              "  .colab-df-quickchart-complete:disabled:hover {\n",
              "    background-color: var(--disabled-bg-color);\n",
              "    fill: var(--disabled-fill-color);\n",
              "    box-shadow: none;\n",
              "  }\n",
              "\n",
              "  .colab-df-spinner {\n",
              "    border: 2px solid var(--fill-color);\n",
              "    border-color: transparent;\n",
              "    border-bottom-color: var(--fill-color);\n",
              "    animation:\n",
              "      spin 1s steps(1) infinite;\n",
              "  }\n",
              "\n",
              "  @keyframes spin {\n",
              "    0% {\n",
              "      border-color: transparent;\n",
              "      border-bottom-color: var(--fill-color);\n",
              "      border-left-color: var(--fill-color);\n",
              "    }\n",
              "    20% {\n",
              "      border-color: transparent;\n",
              "      border-left-color: var(--fill-color);\n",
              "      border-top-color: var(--fill-color);\n",
              "    }\n",
              "    30% {\n",
              "      border-color: transparent;\n",
              "      border-left-color: var(--fill-color);\n",
              "      border-top-color: var(--fill-color);\n",
              "      border-right-color: var(--fill-color);\n",
              "    }\n",
              "    40% {\n",
              "      border-color: transparent;\n",
              "      border-right-color: var(--fill-color);\n",
              "      border-top-color: var(--fill-color);\n",
              "    }\n",
              "    60% {\n",
              "      border-color: transparent;\n",
              "      border-right-color: var(--fill-color);\n",
              "    }\n",
              "    80% {\n",
              "      border-color: transparent;\n",
              "      border-right-color: var(--fill-color);\n",
              "      border-bottom-color: var(--fill-color);\n",
              "    }\n",
              "    90% {\n",
              "      border-color: transparent;\n",
              "      border-bottom-color: var(--fill-color);\n",
              "    }\n",
              "  }\n",
              "</style>\n",
              "\n",
              "      <script>\n",
              "        async function quickchart(key) {\n",
              "          const quickchartButtonEl =\n",
              "            document.querySelector('#' + key + ' button');\n",
              "          quickchartButtonEl.disabled = true;  // To prevent multiple clicks.\n",
              "          quickchartButtonEl.classList.add('colab-df-spinner');\n",
              "          try {\n",
              "            const charts = await google.colab.kernel.invokeFunction(\n",
              "                'suggestCharts', [key], {});\n",
              "          } catch (error) {\n",
              "            console.error('Error during call to suggestCharts:', error);\n",
              "          }\n",
              "          quickchartButtonEl.classList.remove('colab-df-spinner');\n",
              "          quickchartButtonEl.classList.add('colab-df-quickchart-complete');\n",
              "        }\n",
              "        (() => {\n",
              "          let quickchartButtonEl =\n",
              "            document.querySelector('#df-55648e51-25d4-4b3e-ad0c-65c45b98181b button');\n",
              "          quickchartButtonEl.style.display =\n",
              "            google.colab.kernel.accessAllowed ? 'block' : 'none';\n",
              "        })();\n",
              "      </script>\n",
              "    </div>\n",
              "\n",
              "    </div>\n",
              "  </div>\n"
            ],
            "application/vnd.google.colaboratory.intrinsic+json": {
              "type": "dataframe",
              "variable_name": "df_final"
            }
          },
          "metadata": {},
          "execution_count": 153
        }
      ]
    },
    {
      "cell_type": "code",
      "source": [
        "porcentaje_nan = df_final.isna().mean()* 100\n",
        "print(porcentaje_nan)"
      ],
      "metadata": {
        "id": "a0ccsDtG32xv",
        "colab": {
          "base_uri": "https://localhost:8080/"
        },
        "outputId": "81665122-1120-4987-fbd3-97646c706df6"
      },
      "execution_count": 186,
      "outputs": [
        {
          "output_type": "stream",
          "name": "stdout",
          "text": [
            "CAT_INAC          0.000000\n",
            "CAT_OCUP          0.000000\n",
            "REGION            0.000000\n",
            "ANO4              0.000000\n",
            "TRIMESTRE         0.000000\n",
            "H15               0.000000\n",
            "PP02I             0.000000\n",
            "P21               0.000000\n",
            "PP3E_TOT         28.164311\n",
            "PP3F_TOT         28.164311\n",
            "ESTADO_HOMOG     54.645880\n",
            "CH15              0.000000\n",
            "CH14             48.409770\n",
            "CH09              0.000000\n",
            "CH06              0.000000\n",
            "CH03              0.000000\n",
            "CH04              0.000000\n",
            "PP02H             0.000000\n",
            "CH12            100.000000\n",
            "CH13              0.000000\n",
            "AÑO               0.000000\n",
            "horastrab         0.000000\n",
            "educ            100.000000\n",
            "CH13_HOMOG        5.908757\n",
            "dtype: float64\n"
          ]
        }
      ]
    },
    {
      "cell_type": "markdown",
      "source": [
        "parte I punto 1"
      ],
      "metadata": {
        "id": "htXZjmpKTbnB"
      }
    },
    {
      "cell_type": "code",
      "source": [
        "df_final['ESTADO_HOMOG'] = df_final['ESTADO_HOMOG'].map({\n",
        "    1: 'Ocupado',\n",
        "    2: 'Desocupado'\n",
        "})\n"
      ],
      "metadata": {
        "id": "VNUVaYbcDmvO"
      },
      "execution_count": 134,
      "outputs": []
    },
    {
      "cell_type": "code",
      "source": [
        "print(df_final['ESTADO_HOMOG'].unique())\n"
      ],
      "metadata": {
        "colab": {
          "base_uri": "https://localhost:8080/"
        },
        "id": "_mXRSaLtFXV6",
        "outputId": "a29f9040-d8d5-4fdd-e897-fe19fc29c10c"
      },
      "execution_count": 135,
      "outputs": [
        {
          "output_type": "stream",
          "name": "stdout",
          "text": [
            "[nan 'Ocupado' 'Desocupado']\n"
          ]
        }
      ]
    },
    {
      "cell_type": "code",
      "source": [
        "ocupados = df_final[df_final['ESTADO_HOMOG'] == 'Ocupado']\n",
        "desocupados = df_final[df_final['ESTADO_HOMOG'] == 'Desocupado']\n"
      ],
      "metadata": {
        "id": "EiQIh78D9T_0"
      },
      "execution_count": 137,
      "outputs": []
    },
    {
      "cell_type": "code",
      "source": [
        "import matplotlib.pyplot as plt\n",
        "import seaborn as sns\n",
        "import pandas as pd\n",
        "import numpy as np\n",
        "#remplazamos los valores no numericos de 'CH06' con Nan\n",
        "df_final['CH06'] = pd.to_numeric(df_final['CH06'], errors='coerce')\n",
        "\n",
        "#sacamos los valores nan para el histograma\n",
        "filtered_data = df_final['CH06'].dropna()\n",
        "fig, axes = plt.subplots(1, 2, figsize=(14, 7))\n",
        "\n",
        "# Panel A: histograma\n",
        "sns.histplot(filtered_data, kde=False, bins=30, color='blue', ax=axes[0])\n",
        "axes[0].set_title('Histograma de la Edad')\n",
        "axes[0].set_xlabel('Edad')\n",
        "axes[0].set_ylabel('Frecuencia')\n",
        "\n",
        "\n",
        "# Panel B: Kernel\n",
        "sns.kdeplot(ocupados['CH06'].dropna(), shade=True, color='blue', label='Ocupados', ax=axes[1])\n",
        "sns.kdeplot(desocupados['CH06'].dropna(), shade=True, color='red', label='Desocupados', ax=axes[1])\n",
        "axes[1].set_title('Distribución Kernel de Edad para Ocupados y Desocupados')\n",
        "axes[1].set_xlabel('Edad')\n",
        "axes[1].set_ylabel('Densidad')\n",
        "axes[1].legend()\n",
        "\n",
        "\n",
        "plt.tight_layout()\n",
        "plt.show()"
      ],
      "metadata": {
        "colab": {
          "base_uri": "https://localhost:8080/",
          "height": 915
        },
        "id": "KaEHwF8XO1gT",
        "outputId": "631a4aaa-2556-4d6d-9e07-a6bade2ff817"
      },
      "execution_count": 138,
      "outputs": [
        {
          "output_type": "stream",
          "name": "stderr",
          "text": [
            "<ipython-input-138-62fe678b1eff>:20: FutureWarning: \n",
            "\n",
            "`shade` is now deprecated in favor of `fill`; setting `fill=True`.\n",
            "This will become an error in seaborn v0.14.0; please update your code.\n",
            "\n",
            "  sns.kdeplot(ocupados['CH06'].dropna(), shade=True, color='blue', label='Ocupados', ax=axes[1])\n",
            "<ipython-input-138-62fe678b1eff>:21: FutureWarning: \n",
            "\n",
            "`shade` is now deprecated in favor of `fill`; setting `fill=True`.\n",
            "This will become an error in seaborn v0.14.0; please update your code.\n",
            "\n",
            "  sns.kdeplot(desocupados['CH06'].dropna(), shade=True, color='red', label='Desocupados', ax=axes[1])\n"
          ]
        },
        {
          "output_type": "display_data",
          "data": {
            "text/plain": [
              "<Figure size 1400x700 with 2 Axes>"
            ],
            "image/png": "[encoded data removed]"
          },
          "metadata": {}
        }
      ]
    },
    {
      "cell_type": "markdown",
      "source": [
        "Punto 2"
      ],
      "metadata": {
        "id": "8gHOkXd5SZ8O"
      }
    },
    {
      "cell_type": "code",
      "source": [
        "# Diccionario con años estimados según el nivel educativo\n",
        "mapa_anios_educ = {\n",
        "    1: 0,    # Sin instrucción\n",
        "    2: 6,    # Primario\n",
        "    3: 9,    # EGB\n",
        "    4: 12,   # Secundario\n",
        "    5: 12,   # Polimodal\n",
        "    6: 15,   # Terciario\n",
        "    7: 16,   # Universitario\n",
        "    8: 18,   # Posgrado\n",
        "    9: np.nan,  # Educación especial\n",
        "    0: np.nan,  # Ns./Nr.\n",
        "    99: np.nan  # Valores faltantes\n",
        "    }"
      ],
      "metadata": {
        "id": "b2a5D6wVcUAg"
      },
      "execution_count": 188,
      "outputs": []
    },
    {
      "cell_type": "code",
      "source": [
        "#creamos la variable educ\n",
        "df_final['CH14'] = pd.to_numeric(df_final['CH14'], errors='coerce')\n",
        "df_final['educ'] = np.nan\n",
        "\n",
        "#finalizó el nivel\n",
        "finalizo = df_final['CH13'] == 1\n",
        "df_final.loc[finalizo, 'educ'] = df_final.loc[finalizo, 'CH12']\n",
        "\n",
        "#no finalizó\n",
        "no_finalizo = df_final['CH13'] == 0\n",
        "df_final.loc[no_finalizo, 'educ'] = df_final.loc[no_finalizo, 'CH14']\n",
        "\n",
        "df_final['educ'] = pd.to_numeric(df_final['educ'], errors='coerce')"
      ],
      "metadata": {
        "id": "weOJH1s8jLS1"
      },
      "execution_count": 238,
      "outputs": []
    },
    {
      "cell_type": "code",
      "source": [
        "import numpy as np\n",
        "# Quitamos los NaN antes del análisis\n",
        "X = df_final['educ'].dropna()\n",
        "# Estadística descriptiva\n",
        "print(\"Media:\", round(np.mean(X), 2))\n",
        "print(\"Desvío Estándar (s.d.)\",  round(np.std(X), 2))\n",
        "print(\"Mínimo:\", round(np.min(X), 2))\n",
        "print(\"Mediana:\", round(np.median(X), 2))\n",
        "print(\"Máximo:\", round(np.max(X), 2))\n",
        "print(\"Cuantil 25%:\", round(np.percentile(X, 25), 2))\n",
        "print(\"Cuantil 75%:\", round(np.percentile(X, 75), 2))\n"
      ],
      "metadata": {
        "colab": {
          "base_uri": "https://localhost:8080/"
        },
        "id": "Mfilt6CllWOJ",
        "outputId": "7a52f336-7007-41c7-98b5-f1133c901aec"
      },
      "execution_count": 192,
      "outputs": [
        {
          "output_type": "stream",
          "name": "stdout",
          "text": [
            "Media: nan\n",
            "Desvío Estándar (s.d.) nan\n",
            "Mínimo: nan\n",
            "Mediana: nan\n",
            "Máximo: nan\n"
          ]
        }
      ]
    },
    {
      "cell_type": "markdown",
      "source": [
        "punto 3"
      ],
      "metadata": {
        "id": "7pSt9Re8-yLY"
      }
    },
    {
      "cell_type": "code",
      "source": [
        "factor_inflacion = 1032 #1 peso de 2004 equivale a 1032 pesos de 2024, entonces:\n"
      ],
      "metadata": {
        "id": "aMN-CPCxnaHI"
      },
      "execution_count": 146,
      "outputs": []
    },
    {
      "cell_type": "code",
      "source": [
        "# Ajustar ingresos de 2004\n",
        "df_final['P21_ajustado'] = df_final.apply(lambda row: row['P21'] * 1032 if row['ANO4'] == 2004 else row['P21'], axis=1)\n",
        "\n",
        "# Paso 2: Crear la variable salario_semanal\n",
        "df_final['salario_semanal'] = df_final['P21_ajustado'] / 40\n",
        "\n"
      ],
      "metadata": {
        "id": "Qx6Iv_qjuuwA"
      },
      "execution_count": 147,
      "outputs": []
    },
    {
      "cell_type": "code",
      "source": [
        "import matplotlib.pyplot as plt\n",
        "import seaborn as sns\n",
        "import pandas as pd\n",
        "import numpy as np\n",
        "\n",
        "salarios_ocupados = ocupados['salario_semanal'].dropna()\n",
        "\n",
        "# nos aseguramos que salario_semanal sea numérico\n",
        "df_final['salario_semanal'] = pd.to_numeric(df_final['salario_semanal'], errors='coerce')\n",
        "\n",
        "# Filtramos ocupados y desocupados\n",
        "ocupados = df_final[df_final['ESTADO_HOMOG'] == 'Ocupado']\n",
        "desocupados = df_final[df_final['ESTADO_HOMOG'] == 'Desocupado']\n",
        "\n",
        "# Filtramos salarios no nulos\n",
        "salarios_filtrados = df_final['salario_semanal'].dropna()\n",
        "\n",
        "fig, axes = plt.subplots(1, 2, figsize=(14, 7))\n",
        "\n",
        "# Panel A: Histograma\n",
        "sns.histplot(salarios_ocupados, kde=False, bins=30, color='green', ax=axes[0])\n",
        "axes[0].set_title('Panel A: Histograma del salario semanal')\n",
        "axes[0].set_xlabel('Salario semanal')\n",
        "axes[0].set_ylabel('Frecuencia')\n",
        "\n",
        "# Panel B: Kernel\n",
        "sns.kdeplot(ocupados['CH06'].dropna(), shade=True, color='blue', label='Ocupados', ax=axes[1])\n",
        "sns.kdeplot(desocupados['CH06'].dropna(), shade=True, color='red', label='Desocupados', ax=axes[1])\n",
        "axes[1].set_title('Distribución Kernel de Edad para Ocupados y Desocupados')\n",
        "axes[1].set_xlabel('Edad')\n",
        "axes[1].set_ylabel('Densidad')\n",
        "axes[1].legend()\n",
        "\n",
        "plt.tight_layout()\n",
        "plt.show()"
      ],
      "metadata": {
        "colab": {
          "base_uri": "https://localhost:8080/",
          "height": 915
        },
        "id": "vMGZHGP0_nZw",
        "outputId": "741899f6-2714-4ef3-c513-9aff6712d044"
      },
      "execution_count": 149,
      "outputs": [
        {
          "output_type": "stream",
          "name": "stderr",
          "text": [
            "<ipython-input-149-d2771ab69184>:28: FutureWarning: \n",
            "\n",
            "`shade` is now deprecated in favor of `fill`; setting `fill=True`.\n",
            "This will become an error in seaborn v0.14.0; please update your code.\n",
            "\n",
            "  sns.kdeplot(ocupados['CH06'].dropna(), shade=True, color='blue', label='Ocupados', ax=axes[1])\n",
            "<ipython-input-149-d2771ab69184>:29: FutureWarning: \n",
            "\n",
            "`shade` is now deprecated in favor of `fill`; setting `fill=True`.\n",
            "This will become an error in seaborn v0.14.0; please update your code.\n",
            "\n",
            "  sns.kdeplot(desocupados['CH06'].dropna(), shade=True, color='red', label='Desocupados', ax=axes[1])\n"
          ]
        },
        {
          "output_type": "display_data",
          "data": {
            "text/plain": [
              "<Figure size 1400x700 with 2 Axes>"
            ],
            "image/png": "[encoded data removed]"
          },
          "metadata": {}
        }
      ]
    },
    {
      "cell_type": "markdown",
      "source": [
        "Punto 4"
      ],
      "metadata": {
        "id": "EoSJCEusLLEx"
      }
    },
    {
      "cell_type": "code",
      "source": [
        "df_final['horastrab'] = df_final[['PP3E_TOT', 'PP3F_TOT']].sum(axis=1, skipna=True)"
      ],
      "metadata": {
        "id": "Jqrwj1fHCptH"
      },
      "execution_count": 244,
      "outputs": []
    },
    {
      "cell_type": "code",
      "source": [
        "import numpy as np\n",
        "\n",
        "# Quitamos los NaN y convertimos a array\n",
        "Y = df_final['horastrab'].dropna().values\n",
        "\n",
        "# Estadística descriptiva\n",
        "print(\"Media:\", round(np.mean(Y), 2))\n",
        "print(\"Desvío Estándar (s.d.):\", round(np.std(Y), 2))\n",
        "print(\"Mínimo:\", round(np.min(Y), 2))\n",
        "print(\"Mediana:\", round(np.median(Y), 2))\n",
        "print(\"Máximo:\", round(np.max(Y), 2))\n",
        "print(\"Cuantil 25%:\", round(np.percentile(Y, 25), 2))\n",
        "print(\"Cuantil 75%:\", round(np.percentile(Y, 75), 2))\n"
      ],
      "metadata": {
        "colab": {
          "base_uri": "https://localhost:8080/"
        },
        "id": "JnRohWV8DGtI",
        "outputId": "88e4bf9d-3fd4-4b67-de7c-d404929cbf71"
      },
      "execution_count": 243,
      "outputs": [
        {
          "output_type": "stream",
          "name": "stdout",
          "text": [
            "Media: 15.6\n",
            "Desvío Estándar (s.d.): 36.93\n",
            "Mínimo: 0.0\n",
            "Mediana: 0.0\n",
            "Máximo: 1998.0\n",
            "Cuantil 25%: 0.0\n",
            "Cuantil 75%: 30.0\n"
          ]
        }
      ]
    }
  ]
}